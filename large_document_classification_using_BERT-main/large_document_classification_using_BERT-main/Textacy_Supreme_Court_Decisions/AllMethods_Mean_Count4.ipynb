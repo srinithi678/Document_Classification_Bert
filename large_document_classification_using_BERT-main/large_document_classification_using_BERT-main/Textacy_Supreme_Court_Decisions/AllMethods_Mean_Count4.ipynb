{
  "nbformat": 4,
  "nbformat_minor": 0,
  "metadata": {
    "accelerator": "GPU",
    "colab": {
      "name": "Symposium_Count4_Textacy.ipynb",
      "provenance": [],
      "collapsed_sections": [
        "7HMYwKaWt9aV",
        "9ozCaVe88sd4",
        "I3mhc0jG3iLC",
        "UXD_ScZ3_hRI",
        "Wd5gniX0DDsK",
        "bWoi6HxJy4DI",
        "Fz61eH1oWjpe",
        "_t4qg5NGMpSE",
        "qIH0p65mKzQK",
        "S1xjIIcWvb0s",
        "Nez-S_q3wlyI",
        "ubsIw1ydt-PP"
      ],
      "machine_shape": "hm"
    },
    "kernelspec": {
      "display_name": "Python 3",
      "name": "python3"
    },
    "language_info": {
      "name": "python"
    }
  },
  "cells": [
    {
      "cell_type": "code",
      "metadata": {
        "id": "GWA2H2urowvt"
      },
      "source": [
        "#importing libraries and initializing fastai \n",
        "import pandas as pd \n",
        "import numpy as np \n",
        "import time\n",
        "\n",
        "#Mounting google drive for saving the models after training \n",
        "from google.colab import drive\n",
        "drive.mount('/content/drive')"
      ],
      "execution_count": null,
      "outputs": []
    },
    {
      "cell_type": "code",
      "metadata": {
        "id": "M0L28oLofY_-"
      },
      "source": [
        "pip install textacy"
      ],
      "execution_count": null,
      "outputs": []
    },
    {
      "cell_type": "code",
      "metadata": {
        "id": "0mvb_D7njjA-"
      },
      "source": [
        "import textacy.datasets\n",
        "dataset = textacy.datasets.SupremeCourt()"
      ],
      "execution_count": null,
      "outputs": []
    },
    {
      "cell_type": "code",
      "metadata": {
        "id": "dVXEaWFSf23N"
      },
      "source": [
        "!python -m textacy download 'supreme_court'"
      ],
      "execution_count": null,
      "outputs": []
    },
    {
      "cell_type": "code",
      "metadata": {
        "id": "SN8GMj1AjofW"
      },
      "source": [
        "x_train=[]\n",
        "y_train=[]\n",
        "for text in dataset.records():\n",
        "  x_train.append(text.text)\n",
        "  y_train.append(text.meta['issue_area'])"
      ],
      "execution_count": null,
      "outputs": []
    },
    {
      "cell_type": "code",
      "metadata": {
        "id": "CwOqu3v_qGq5"
      },
      "source": [
        "x_train[0]"
      ],
      "execution_count": null,
      "outputs": []
    },
    {
      "cell_type": "code",
      "metadata": {
        "id": "kHAz8rSRgo8W"
      },
      "source": [
        "train_data = pd.DataFrame({'text': x_train, 'label': y_train, })\n",
        "train_data.head()"
      ],
      "execution_count": null,
      "outputs": []
    },
    {
      "cell_type": "code",
      "metadata": {
        "id": "Cbm5xyNnriLz"
      },
      "source": [
        "train_data.text.apply(lambda x:len(x.split())).plot(kind='hist')"
      ],
      "execution_count": null,
      "outputs": []
    },
    {
      "cell_type": "code",
      "metadata": {
        "id": "sPDg7ye_riOR"
      },
      "source": [
        "train_data.describe()"
      ],
      "execution_count": null,
      "outputs": []
    },
    {
      "cell_type": "code",
      "metadata": {
        "id": "75E7PTp-riRZ"
      },
      "source": [
        "train_data.shape"
      ],
      "execution_count": null,
      "outputs": []
    },
    {
      "cell_type": "code",
      "metadata": {
        "id": "lnDLtmA7riUB"
      },
      "source": [
        "train_data['label'].value_counts().sort_values(ascending=False).plot(kind='bar')\n",
        "#unbalanced dataset - distribution of datapoints is not the same for all the labels"
      ],
      "execution_count": null,
      "outputs": []
    },
    {
      "cell_type": "code",
      "metadata": {
        "id": "znNSAjY-sQ7w"
      },
      "source": [
        "#remove the non-alphanumeric characters from the text \n",
        "import re \n",
        "def clean_txt(text):\n",
        "  text = re.sub(\"'\", \"\",text)\n",
        "  text=re.sub(\"(\\\\W)+\",\" \",text)     #() -- to match the sequence inside it , \\-- to escape the special characters , \n",
        "                                     #\\W -- get all the nonalphanumeric characters, + --all the instances \n",
        "\n",
        "  return text"
      ],
      "execution_count": null,
      "outputs": []
    },
    {
      "cell_type": "code",
      "metadata": {
        "id": "qp8P1pyOsQ-N"
      },
      "source": [
        "train_data['text']=train_data.text.apply(clean_txt)\n",
        "train_data.head()"
      ],
      "execution_count": null,
      "outputs": []
    },
    {
      "cell_type": "code",
      "metadata": {
        "id": "NqkCop6CsRBE"
      },
      "source": [
        "#!pip install tensorflow==2.5.0"
      ],
      "execution_count": null,
      "outputs": []
    },
    {
      "cell_type": "code",
      "metadata": {
        "id": "JvoIWT52sRDP"
      },
      "source": [
        "#Installing the BERT module\n",
        "!pip install bert-tensorflow\n",
        "#!pip install bert-for-tf2\n",
        "\n",
        "import bert\n",
        "from bert import optimization\n",
        "\n",
        "!pip install -q tf-models-official==2.4.0\n",
        "\n",
        "import os\n",
        "\n",
        "import numpy as np\n",
        "import matplotlib.pyplot as plt\n",
        "\n",
        "import tensorflow as tf\n",
        "\n",
        "import tensorflow_hub as hub\n",
        "import tensorflow_datasets as tfds\n",
        "tfds.disable_progress_bar()"
      ],
      "execution_count": null,
      "outputs": []
    },
    {
      "cell_type": "code",
      "metadata": {
        "id": "hAQqjFWosRFx"
      },
      "source": [
        "print(tf.__version__)"
      ],
      "execution_count": null,
      "outputs": []
    },
    {
      "cell_type": "markdown",
      "metadata": {
        "id": "e0z7rXNvtRS7"
      },
      "source": [
        "# Setting the output Directory for BERT"
      ]
    },
    {
      "cell_type": "code",
      "metadata": {
        "id": "3aoIxN3JsHTD"
      },
      "source": [
        "#Setting the output directory for BERT \n",
        "# Set the output directory for saving model file\n",
        "OUTPUT_DIR = '/content/drive/MyDrive/Model_checkpoints_SC_512'\n",
        "\n",
        "#@markdown Whether or not to clear/delete the directory and create a new one\n",
        "DO_DELETE = False #@param {type:\"boolean\"}\n",
        "\n",
        "if DO_DELETE:\n",
        "  try:\n",
        "    tf.io.gfile.DeleteRecursively(OUTPUT_DIR)#deletes everything under the directory recursively\n",
        "  except:\n",
        "    pass\n",
        "\n",
        "tf.io.gfile.makedirs(OUTPUT_DIR) #Creates a directory and all parent/intermediate directories.\n",
        "print('***** Model output directory: {} *****'.format(OUTPUT_DIR))"
      ],
      "execution_count": null,
      "outputs": []
    },
    {
      "cell_type": "code",
      "metadata": {
        "id": "MbkCx4TMtM6J"
      },
      "source": [
        "print(\"Training Set Shape :\", train_data.shape)"
      ],
      "execution_count": null,
      "outputs": []
    },
    {
      "cell_type": "code",
      "metadata": {
        "id": "MYLSTZlytM87"
      },
      "source": [
        "DATA_COLUMN = 'text'\n",
        "LABEL_COLUMN = 'label'\n",
        "# The list containing all the classes (train['SECTION'].unique())\n"
      ],
      "execution_count": null,
      "outputs": []
    },
    {
      "cell_type": "markdown",
      "metadata": {
        "id": "7HMYwKaWt9aV"
      },
      "source": [
        "# Splitting the Data into smaller chunks"
      ]
    },
    {
      "cell_type": "code",
      "metadata": {
        "id": "zmgp-blltM_t"
      },
      "source": [
        "#Splitting the data into smaller chunks \n",
        "def get_split(text1):\n",
        "  #l_total = text1--HETA\n",
        "  l_total =[]\n",
        "  l_parcial = []\n",
        "  if len(text1.split())//450 >0:\n",
        "    n = len(text1.split())//450\n",
        "  else: \n",
        "    n = 1\n",
        "  for w in range(n):\n",
        "    if w == 0:\n",
        "      l_parcial = text1.split()[:500]\n",
        "      l_total.append(\" \".join(l_parcial))\n",
        "    else:\n",
        "      l_parcial = text1.split()[w*450:w*450 + 500] #overlapping 50 words in every chunks \n",
        "      l_total.append(\" \".join(l_parcial))\n",
        "  return l_total"
      ],
      "execution_count": null,
      "outputs": []
    },
    {
      "cell_type": "code",
      "metadata": {
        "id": "tO8xx91ktNCa"
      },
      "source": [
        "def get_split_count(text1):\n",
        "  if len(text1.split())//450 >0:\n",
        "    n = len(text1.split())//450\n",
        "  else: \n",
        "    n = 1\n",
        "  return n"
      ],
      "execution_count": null,
      "outputs": []
    },
    {
      "cell_type": "code",
      "metadata": {
        "colab": {
          "background_save": true
        },
        "id": "t4Hpf73atNFE"
      },
      "source": [
        "train_data['text_split'] = train_data[DATA_COLUMN].apply(get_split)\n",
        "train_data.head()"
      ],
      "execution_count": null,
      "outputs": []
    },
    {
      "cell_type": "code",
      "metadata": {
        "colab": {
          "background_save": true
        },
        "id": "TF9htgaluPs7"
      },
      "source": [
        "train_data['text_split_count'] = train_data[DATA_COLUMN].apply(get_split_count)\n",
        "train_data.head()"
      ],
      "execution_count": null,
      "outputs": []
    },
    {
      "cell_type": "code",
      "metadata": {
        "colab": {
          "background_save": true
        },
        "id": "otX94HR-fiEC"
      },
      "source": [
        "Dict_1 = {}\n",
        "for i in train_data['text_split_count']:\n",
        "  if i in Dict_1:\n",
        "     Dict_1[i] = Dict_1[i] +1\n",
        "  else:\n",
        "     Dict_1[i] =1\n",
        "  "
      ],
      "execution_count": null,
      "outputs": []
    },
    {
      "cell_type": "code",
      "metadata": {
        "colab": {
          "background_save": true
        },
        "id": "PI1YwUk3Vq42"
      },
      "source": [
        "def fillin(chunk_count):\n",
        "  if chunk_count in Dict_1:\n",
        "    return Dict_1[chunk_count]"
      ],
      "execution_count": null,
      "outputs": []
    },
    {
      "cell_type": "code",
      "metadata": {
        "colab": {
          "background_save": true
        },
        "id": "QHbyWxZPVaz2"
      },
      "source": [
        "train_data['data_count']= train_data['text_split_count'].apply(fillin)"
      ],
      "execution_count": null,
      "outputs": []
    },
    {
      "cell_type": "code",
      "metadata": {
        "colab": {
          "background_save": true
        },
        "id": "6OXBn9ewWPvC"
      },
      "source": [
        "train_data"
      ],
      "execution_count": null,
      "outputs": []
    },
    {
      "cell_type": "markdown",
      "metadata": {
        "id": "tydECuvGUjGL"
      },
      "source": [
        "# Preprocessing the Train data "
      ]
    },
    {
      "cell_type": "code",
      "metadata": {
        "colab": {
          "background_save": true
        },
        "id": "Il8Fy7iQUpQO"
      },
      "source": [
        "#remove the chunks which has only 1 example \n",
        "train_data_filtered = train_data[(train_data['text_split_count']<=20)]\n",
        "#train_data_filtered = train_data_filtered[train_data_filtered['label'] !=14]\n",
        "train_data_filtered.shape , train_data.shape"
      ],
      "execution_count": null,
      "outputs": []
    },
    {
      "cell_type": "code",
      "metadata": {
        "colab": {
          "background_save": true
        },
        "id": "jILoZwi3WgDt"
      },
      "source": [
        "train_data_filtered['label'].value_counts()"
      ],
      "execution_count": null,
      "outputs": []
    },
    {
      "cell_type": "code",
      "metadata": {
        "colab": {
          "background_save": true
        },
        "id": "0Vf2f5OeZNNb"
      },
      "source": [
        "train_data = train_data_filtered"
      ],
      "execution_count": null,
      "outputs": []
    },
    {
      "cell_type": "code",
      "metadata": {
        "colab": {
          "background_save": true
        },
        "id": "QmQ7dgwvZPnV"
      },
      "source": [
        "train_data.shape"
      ],
      "execution_count": null,
      "outputs": []
    },
    {
      "cell_type": "code",
      "metadata": {
        "colab": {
          "background_save": true
        },
        "id": "REEhQegUXAVo"
      },
      "source": [
        "len(train_data)"
      ],
      "execution_count": null,
      "outputs": []
    },
    {
      "cell_type": "code",
      "metadata": {
        "colab": {
          "background_save": true
        },
        "id": "tXCCZRmwxYba"
      },
      "source": [
        "label_list = [x for x in np.unique(train_data.label)]\n",
        "label_list"
      ],
      "execution_count": null,
      "outputs": []
    },
    {
      "cell_type": "code",
      "metadata": {
        "colab": {
          "background_save": true
        },
        "id": "RYLsTU95uP0x"
      },
      "source": [
        "from sklearn.model_selection import train_test_split\n",
        "train, val = train_test_split(train_data, test_size=0.2, random_state=35)\n",
        "train.head()"
      ],
      "execution_count": null,
      "outputs": []
    },
    {
      "cell_type": "code",
      "metadata": {
        "colab": {
          "background_save": true
        },
        "id": "bSJZ-JKQuP4L"
      },
      "source": [
        "train.reset_index(drop=True, inplace=True)\n",
        "train.head(2)"
      ],
      "execution_count": null,
      "outputs": []
    },
    {
      "cell_type": "code",
      "metadata": {
        "colab": {
          "background_save": true
        },
        "id": "PSugc227tNHU"
      },
      "source": [
        "val.reset_index(drop=True, inplace=True)\n",
        "val.head(2)"
      ],
      "execution_count": null,
      "outputs": []
    },
    {
      "cell_type": "code",
      "metadata": {
        "colab": {
          "background_save": true
        },
        "id": "GTVi3l8mtNJ7"
      },
      "source": [
        "train.shape, val.shape"
      ],
      "execution_count": null,
      "outputs": []
    },
    {
      "cell_type": "code",
      "metadata": {
        "colab": {
          "background_save": true
        },
        "id": "XK7s7FXbtNP6"
      },
      "source": [
        "train_l = []\n",
        "label_l = []\n",
        "index_l =[]\n",
        "for idx,row in train.iterrows():\n",
        "  for l in row['text_split']:  #it is going to create list of training chunks with label and index mapping \n",
        "    train_l.append(l)\n",
        "    label_l.append(row['label'])\n",
        "    index_l.append(idx)\n",
        "len(train_l), len(label_l), len(index_l)\n",
        "#HETA\n",
        "# train_l = []\n",
        "# label_l = []\n",
        "# index_l =[]\n",
        "# for idx,row in train.iterrows():\n",
        "#     train_l.append(row['text_split'])\n",
        "#     label_l.append(row['label'])\n",
        "#     index_l.append(idx)\n",
        "# len(train_l), len(label_l), len(index_l)"
      ],
      "execution_count": null,
      "outputs": []
    },
    {
      "cell_type": "code",
      "metadata": {
        "colab": {
          "background_save": true
        },
        "id": "C1L_BBG-1mXI"
      },
      "source": [
        "val_l = []\n",
        "val_label_l = []\n",
        "val_index_l = []\n",
        "for idx,row in val.iterrows():\n",
        "  for l in row['text_split']:\n",
        "    val_l.append(l)\n",
        "    val_label_l.append(row['label'])\n",
        "    val_index_l.append(idx)\n",
        "len(val_l), len(val_label_l), len(val_index_l)\n",
        "#HETA\n",
        "# val_l = []\n",
        "# val_label_l = []\n",
        "# val_index_l = []\n",
        "# for idx,row in val.iterrows():\n",
        "#     val_l.append(row['text_split'])\n",
        "#     val_label_l.append(row['label'])\n",
        "#     val_index_l.append(idx)\n",
        "# len(val_l), len(val_label_l), len(val_index_l)"
      ],
      "execution_count": null,
      "outputs": []
    },
    {
      "cell_type": "code",
      "metadata": {
        "colab": {
          "background_save": true
        },
        "id": "OX1IClpL1mZu"
      },
      "source": [
        "train_df = pd.DataFrame({DATA_COLUMN:train_l, LABEL_COLUMN:label_l})\n",
        "train_df.head()"
      ],
      "execution_count": null,
      "outputs": []
    },
    {
      "cell_type": "code",
      "metadata": {
        "colab": {
          "background_save": true
        },
        "id": "Fui_gxCD1mdH"
      },
      "source": [
        "val_df = pd.DataFrame({DATA_COLUMN:val_l, LABEL_COLUMN:val_label_l})\n",
        "val_df.head()"
      ],
      "execution_count": null,
      "outputs": []
    },
    {
      "cell_type": "code",
      "metadata": {
        "colab": {
          "background_save": true
        },
        "id": "kMLWF-kQ1miz"
      },
      "source": [
        "print('train_df shape : ',train_df.shape)\n",
        "print('val_df shape : ',val_df.shape)"
      ],
      "execution_count": null,
      "outputs": []
    },
    {
      "cell_type": "markdown",
      "metadata": {
        "id": "7wvsYqpx18Un"
      },
      "source": [
        "# BERT: Data Preprocessing"
      ]
    },
    {
      "cell_type": "code",
      "metadata": {
        "colab": {
          "background_save": true
        },
        "id": "gqTSPpik11gF"
      },
      "source": [
        "class PaddingInputExample(object):\n",
        "      pass\n",
        "\n",
        "class InputExample(object):\n",
        "    \"\"\"A single training/test example for simple sequence classification.\"\"\"\n",
        "\n",
        "    def __init__(self, guid, text_a, text_b=None, label=None):\n",
        "        \n",
        "        \"\"\"Constructs a InputExample.\n",
        "    Args:\n",
        "      guid: Unique id for the example.\n",
        "      text_a: string. The untokenized text of the first sequence. For single\n",
        "        sequence tasks, only this sequence must be specified.\n",
        "      text_b: (Optional) string. The untokenized text of the second sequence.\n",
        "        Only must be specified for sequence pair tasks.\n",
        "      label: (Optional) string. The label of the example. This should be\n",
        "        specified for train and dev examples, but not for test examples.\n",
        "    \"\"\"\n",
        "        self.guid = guid\n",
        "        self.text_a = text_a\n",
        "        self.text_b = text_b\n",
        "        self.label = label"
      ],
      "execution_count": null,
      "outputs": []
    },
    {
      "cell_type": "code",
      "metadata": {
        "colab": {
          "background_save": true
        },
        "id": "9yXGNhF911jc"
      },
      "source": [
        "train_InputExamples_1 = train_df.apply(lambda x: InputExample(guid=None,\n",
        "                                                                  text_a = x[DATA_COLUMN], \n",
        "                                                                  text_b = None, \n",
        "                                                                  label = x[LABEL_COLUMN]), axis = 1)"
      ],
      "execution_count": null,
      "outputs": []
    },
    {
      "cell_type": "code",
      "metadata": {
        "colab": {
          "background_save": true
        },
        "id": "_vcnJGxG11md"
      },
      "source": [
        "train_InputExamples_1"
      ],
      "execution_count": null,
      "outputs": []
    },
    {
      "cell_type": "code",
      "metadata": {
        "colab": {
          "background_save": true
        },
        "id": "SYwlIzvz11pA"
      },
      "source": [
        "print(\"Row 0 - guid of training set : \", train_InputExamples_1.iloc[0].guid)\n",
        "print(\"\\n__________\\nRow 0 - text_a of training set : \", train_InputExamples_1.iloc[0].text_a)\n",
        "print(\"\\n__________\\nRow 0 - text_b of training set : \", train_InputExamples_1.iloc[0].text_b)\n",
        "print(\"\\n__________\\nRow 0 - label of training set : \", train_InputExamples_1.iloc[0].label)"
      ],
      "execution_count": null,
      "outputs": []
    },
    {
      "cell_type": "code",
      "metadata": {
        "colab": {
          "background_save": true
        },
        "id": "Zd_nA1dA11rb"
      },
      "source": [
        "val_InputExamples_1 = val_df.apply(lambda x: InputExample(guid=None, \n",
        "                                                                   text_a = x[DATA_COLUMN], \n",
        "                                                                   text_b = None, \n",
        "                                                                   label = x[LABEL_COLUMN]), axis = 1)"
      ],
      "execution_count": null,
      "outputs": []
    },
    {
      "cell_type": "markdown",
      "metadata": {
        "id": "t1lR3hyO2MBJ"
      },
      "source": [
        "# BERT: Loading the pre-trained model"
      ]
    },
    {
      "cell_type": "code",
      "metadata": {
        "colab": {
          "background_save": true
        },
        "id": "7EwLWTnv11tA"
      },
      "source": [
        "import official.nlp.bert.tokenization as tokenization"
      ],
      "execution_count": null,
      "outputs": []
    },
    {
      "cell_type": "code",
      "metadata": {
        "colab": {
          "background_save": true
        },
        "id": "sKw_pkZu2O9v"
      },
      "source": [
        "# ##We are creatung the tokens to gorm the vocabulary which inturn is ued to represent the words\n",
        "# #BERT: Loading the pre-trained model\n",
        "# This is a path to an uncased (all lowercase) version of BERT\n",
        "BERT_MODEL_HUB = \"https://tfhub.dev/google/bert_uncased_L-12_H-768_A-12/1\"\n",
        "\n",
        "def create_tokenizer_from_hub_module():\n",
        "  \"\"\"Get the vocab file and casing info from the Hub module.\"\"\"\n",
        "  with tf.Graph().as_default():\n",
        "    bert_module = hub.Module(BERT_MODEL_HUB)\n",
        "    tokenization_info = bert_module(signature=\"tokenization_info\", as_dict=True)\n",
        "    with tf.compat.v1.Session() as sess:\n",
        "      vocab_file, do_lower_case = sess.run([tokenization_info[\"vocab_file\"],\n",
        "                                            tokenization_info[\"do_lower_case\"]])\n",
        "      \n",
        "  return tokenization.FullTokenizer(\n",
        "      vocab_file=vocab_file, do_lower_case=do_lower_case)\n",
        "\n",
        "tokenizer = create_tokenizer_from_hub_module()"
      ],
      "execution_count": null,
      "outputs": []
    },
    {
      "cell_type": "code",
      "metadata": {
        "colab": {
          "background_save": true
        },
        "id": "cPvZTq-R2PAk"
      },
      "source": [
        "len(tokenizer.vocab.keys())"
      ],
      "execution_count": null,
      "outputs": []
    },
    {
      "cell_type": "code",
      "metadata": {
        "colab": {
          "background_save": true
        },
        "id": "bhVQaNeu2PDX"
      },
      "source": [
        "#Defining Input features \n",
        "class InputFeatures(object):\n",
        "  \"\"\"A single set of features of data.\"\"\"\n",
        "\n",
        "  def __init__(self,\n",
        "               input_ids,\n",
        "               input_mask,\n",
        "               segment_ids,\n",
        "               label_id,\n",
        "               is_real_example=True):\n",
        "    self.input_ids = input_ids\n",
        "    self.input_mask = input_mask\n",
        "    self.segment_ids = segment_ids\n",
        "    self.label_id = label_id\n",
        "    self.is_real_example = is_real_example"
      ],
      "execution_count": null,
      "outputs": []
    },
    {
      "cell_type": "code",
      "metadata": {
        "colab": {
          "background_save": true
        },
        "id": "Twkk2kPk2PGG"
      },
      "source": [
        "def convert_single_example(tokenizer, example, max_seq_length=256):\n",
        "    \"\"\"Converts a single `InputExample` into a single `InputFeatures`.\"\"\"\n",
        "\n",
        "    if isinstance(example, PaddingInputExample):\n",
        "        input_ids = [0] * max_seq_length\n",
        "        input_mask = [0] * max_seq_length\n",
        "        segment_ids = [0] * max_seq_length\n",
        "        label = 0\n",
        "        return input_ids, input_mask, segment_ids, label\n",
        "\n",
        "    tokens_a = tokenizer.tokenize(example.text_a)\n",
        "    \n",
        "    if len(tokens_a) > max_seq_length - 2:\n",
        "        tokens_a = tokens_a[:128] + tokens_a[-(max_seq_length - 2 - 128):]\n",
        "\n",
        "        tokens_a = tokens_a[0 : (max_seq_length - 2)]\n",
        "    tokens = []\n",
        "    segment_ids = []\n",
        "    tokens.append(\"[CLS]\")\n",
        "    segment_ids.append(0)\n",
        "    for token in tokens_a:\n",
        "        tokens.append(token)\n",
        "        segment_ids.append(0)\n",
        "    tokens.append(\"[SEP]\")\n",
        "    segment_ids.append(0)\n",
        "\n",
        "    input_ids = tokenizer.convert_tokens_to_ids(tokens)\n",
        "\n",
        "    # The mask has 1 for real tokens and 0 for padding tokens. Only real\n",
        "    # tokens are attended to.\n",
        "    input_mask = [1] * len(input_ids)\n",
        "\n",
        "    # Zero-pad up to the sequence length.\n",
        "    while len(input_ids) < max_seq_length:\n",
        "        input_ids.append(0)\n",
        "        input_mask.append(0)\n",
        "        segment_ids.append(0)\n",
        "\n",
        "    assert len(input_ids) == max_seq_length\n",
        "    assert len(input_mask) == max_seq_length\n",
        "    assert len(segment_ids) == max_seq_length\n",
        "\n",
        "    return input_ids, input_mask, segment_ids, example.label"
      ],
      "execution_count": null,
      "outputs": []
    },
    {
      "cell_type": "code",
      "metadata": {
        "colab": {
          "background_save": true
        },
        "id": "zeIyZN_O1mlL"
      },
      "source": [
        "def convert_examples_to_features(tokenizer, examples, max_seq_length=500):\n",
        "    \"\"\"Convert a set of `InputExample`s to a list of `InputFeatures`.\"\"\"\n",
        "\n",
        "    input_ids, input_masks, segment_ids, labels,features = [], [], [], [],[]\n",
        "    for example in tqdm.tqdm(examples, desc=\"Converting examples to features\"):\n",
        "        input_id, input_mask, segment_id, label = convert_single_example(\n",
        "            tokenizer, example, max_seq_length\n",
        "        )\n",
        "\n",
        "        input_ids.append(input_id)\n",
        "        input_masks.append(input_mask)\n",
        "        segment_ids.append(segment_id)\n",
        "        labels.append(label)\n",
        "\n",
        "        feature = InputFeatures(input_ids=input_id,\n",
        "        input_mask=input_mask,\n",
        "        segment_ids=segment_id,\n",
        "        label_id=label,\n",
        "        is_real_example=True)\n",
        "\n",
        "        features.append(feature)\n",
        "    # return(\n",
        "    #     np.array(input_ids),\n",
        "    #     np.array(input_masks),\n",
        "    #     np.array(segment_ids),\n",
        "    #     np.array(labels).reshape(-1, 1),\n",
        "    # )\n",
        "    return features"
      ],
      "execution_count": null,
      "outputs": []
    },
    {
      "cell_type": "code",
      "metadata": {
        "colab": {
          "background_save": true
        },
        "id": "X3-Rlply1mnh"
      },
      "source": [
        "import tqdm\n",
        "MAX_SEQ_LENGTH = 500"
      ],
      "execution_count": null,
      "outputs": []
    },
    {
      "cell_type": "code",
      "metadata": {
        "id": "mlFhgmv-2Zxz"
      },
      "source": [
        "# Convert our train and validation features to InputFeatures that BERT understands.\n",
        "\n",
        "train_features = convert_examples_to_features(tokenizer, train_InputExamples_1, MAX_SEQ_LENGTH)\n",
        "\n",
        "val_features = convert_examples_to_features(tokenizer, val_InputExamples_1, MAX_SEQ_LENGTH)\n"
      ],
      "execution_count": null,
      "outputs": []
    },
    {
      "cell_type": "code",
      "metadata": {
        "id": "26C5Zdmb2Z0_"
      },
      "source": [
        "print(\"Sentence : \", train_InputExamples_1.iloc[0].text_a)\n",
        "print(\"-\"*30)\n",
        "print(\"Tokens : \", tokenizer.tokenize(train_InputExamples_1.iloc[0].text_a))\n",
        "print(\"-\"*30)\n",
        "print(\"Input IDs : \", train_features[0].input_ids)\n",
        "print(\"-\"*30)\n",
        "print(\"Input Masks : \", train_features[0].input_mask)\n",
        "print(\"-\"*30)\n",
        "print(\"Segment IDs : \", train_features[0].segment_ids)"
      ],
      "execution_count": null,
      "outputs": []
    },
    {
      "cell_type": "code",
      "metadata": {
        "id": "zG9Alxbm2Z4F"
      },
      "source": [
        "def create_model(is_predicting, input_ids, input_mask, segment_ids, labels,\n",
        "                 num_labels):\n",
        "  \n",
        "  bert_module = hub.Module(\n",
        "      BERT_MODEL_HUB,\n",
        "      trainable=True)\n",
        "  bert_inputs = dict(\n",
        "      input_ids=input_ids,\n",
        "      input_mask=input_mask,\n",
        "      segment_ids=segment_ids)\n",
        "  bert_outputs = bert_module(\n",
        "      inputs=bert_inputs,\n",
        "      signature=\"tokens\",\n",
        "      as_dict=True)\n",
        "\n",
        "  # Use \"pooled_output\" for classification tasks on an entire sentence.\n",
        "  # Use \"sequence_outputs\" for token-level output.\n",
        "  output_layer = bert_outputs[\"pooled_output\"]\n",
        "  # with tf.Session() as sess:\n",
        "  output_layer1 = bert_outputs[\"pooled_output\"]\n",
        "  # output_layer1 = 999\n",
        "  hidden_size = output_layer.shape[-1]\n",
        "\n",
        "  # Create our own layer to tune for politeness data.\n",
        "  output_weights = tf.get_variable(\n",
        "      \"output_weights\", [num_labels, hidden_size],\n",
        "      initializer=tf.truncated_normal_initializer(stddev=0.02))\n",
        "\n",
        "  output_bias = tf.get_variable(\n",
        "      \"output_bias\", [num_labels], initializer=tf.zeros_initializer())\n",
        "\n",
        "  with tf.variable_scope(\"loss\"):\n",
        "\n",
        "    # Dropout helps prevent overfitting\n",
        "    output_layer = tf.nn.dropout(output_layer, keep_prob=0.8)\n",
        "\n",
        "    logits = tf.matmul(output_layer, output_weights, transpose_b=True)\n",
        "    logits = tf.nn.bias_add(logits, output_bias)\n",
        "    log_probs = tf.nn.log_softmax(logits, axis=-1)\n",
        "\n",
        "    # Convert labels into one-hot encoding\n",
        "    one_hot_labels = tf.one_hot(labels, depth=num_labels, dtype=tf.float32)\n",
        "\n",
        "    predicted_labels = tf.squeeze(tf.argmax(log_probs, axis=-1, output_type=tf.int32))\n",
        "    # If we're predicting, we want predicted labels and the probabiltiies.\n",
        "    if is_predicting:\n",
        "      return (predicted_labels, log_probs, output_layer1)\n",
        "\n",
        "    # If we're train/eval, compute loss between predicted and actual label\n",
        "    per_example_loss = -tf.reduce_sum(one_hot_labels * log_probs, axis=-1)\n",
        "    loss = tf.reduce_mean(per_example_loss)\n",
        "    return (loss, predicted_labels, log_probs)"
      ],
      "execution_count": null,
      "outputs": []
    },
    {
      "cell_type": "code",
      "metadata": {
        "id": "viWfKv1C2Z5j"
      },
      "source": [
        "def model_fn_builder(num_labels, learning_rate, num_train_steps,\n",
        "                     num_warmup_steps):\n",
        "  \"\"\"Returns `model_fn` closure for TPUEstimator.\"\"\"\n",
        "  def model_fn(features, labels, mode, params):  # pylint: disable=unused-argument\n",
        "    \"\"\"The `model_fn` for TPUEstimator.\"\"\"\n",
        "\n",
        "    input_ids = features[\"input_ids\"]\n",
        "    input_mask = features[\"input_mask\"]\n",
        "    segment_ids = features[\"segment_ids\"]\n",
        "    label_ids = features[\"label_ids\"]\n",
        "\n",
        "    is_predicting = (mode == tf.estimator.ModeKeys.PREDICT)\n",
        "    \n",
        "    # TRAIN and EVAL\n",
        "    if not is_predicting:\n",
        "\n",
        "      (loss, predicted_labels, log_probs) = create_model(\n",
        "        is_predicting, input_ids, input_mask, segment_ids, label_ids, num_labels)\n",
        "\n",
        "      train_op = bert.optimization.create_optimizer(\n",
        "          loss, learning_rate, num_train_steps, num_warmup_steps, use_tpu=False)\n",
        "\n",
        "      # Calculate evaluation metrics. \n",
        "      def metric_fn(label_ids, predicted_labels):\n",
        "        accuracy = tf.metrics.accuracy(label_ids, predicted_labels)\n",
        "        true_pos = tf.metrics.true_positives(\n",
        "            label_ids,\n",
        "            predicted_labels)\n",
        "        true_neg = tf.metrics.true_negatives(\n",
        "            label_ids,\n",
        "            predicted_labels)   \n",
        "        false_pos = tf.metrics.false_positives(\n",
        "            label_ids,\n",
        "            predicted_labels)  \n",
        "        false_neg = tf.metrics.false_negatives(\n",
        "            label_ids,\n",
        "            predicted_labels)\n",
        "        \n",
        "        return {\n",
        "            \"eval_accuracy\": accuracy,\n",
        "            \"true_positives\": true_pos,\n",
        "            \"true_negatives\": true_neg,\n",
        "            \"false_positives\": false_pos,\n",
        "            \"false_negatives\": false_neg,\n",
        "            }\n",
        "\n",
        "      eval_metrics = metric_fn(label_ids, predicted_labels)\n",
        "\n",
        "      if mode == tf.estimator.ModeKeys.TRAIN:\n",
        "        return tf.estimator.EstimatorSpec(mode=mode,\n",
        "          loss=loss,\n",
        "          train_op=train_op)\n",
        "      else:\n",
        "          return tf.estimator.EstimatorSpec(mode=mode,\n",
        "            loss=loss,\n",
        "            eval_metric_ops=eval_metrics)\n",
        "    else:\n",
        "      (predicted_labels, log_probs, output_layer) = create_model(\n",
        "        is_predicting, input_ids, input_mask, segment_ids, label_ids, num_labels)\n",
        "      predictions = {\n",
        "          'probabilities': log_probs,\n",
        "          'labels': predicted_labels,\n",
        "          'pooled_output': output_layer\n",
        "      }\n",
        "      return tf.estimator.EstimatorSpec(mode, predictions=predictions)\n",
        "\n",
        "  # Return the actual model function in the closure\n",
        "  return model_fn"
      ],
      "execution_count": null,
      "outputs": []
    },
    {
      "cell_type": "code",
      "metadata": {
        "id": "nxFhT-II2Z9U"
      },
      "source": [
        "BATCH_SIZE = 16\n",
        "LEARNING_RATE = 2e-5\n",
        "NUM_TRAIN_EPOCHS = 1.0\n",
        "# Warmup is a period of time where the learning rate is small and gradually increases--usually helps training.\n",
        "WARMUP_PROPORTION = 0.1\n",
        "# Model configs\n",
        "SAVE_CHECKPOINTS_STEPS = 300\n",
        "SAVE_SUMMARY_STEPS = 100\n",
        "\n",
        "# # Compute train and warmup steps from batch size\n",
        "num_train_steps = int(len(train_features) / BATCH_SIZE * NUM_TRAIN_EPOCHS)\n",
        "num_warmup_steps = int(num_train_steps * WARMUP_PROPORTION)\n",
        "\n",
        "# Specify output directory and number of checkpoint steps to save\n",
        "run_config = tf.estimator.RunConfig(\n",
        "    model_dir=OUTPUT_DIR,\n",
        "    save_summary_steps=SAVE_SUMMARY_STEPS,\n",
        "    save_checkpoints_steps=SAVE_CHECKPOINTS_STEPS)\n",
        "\n",
        "# Specify output directory and number of checkpoint steps to save\n",
        "run_config = tf.estimator.RunConfig(\n",
        "    model_dir=OUTPUT_DIR,\n",
        "    save_summary_steps=SAVE_SUMMARY_STEPS,\n",
        "    save_checkpoints_steps=SAVE_CHECKPOINTS_STEPS)"
      ],
      "execution_count": null,
      "outputs": []
    },
    {
      "cell_type": "code",
      "metadata": {
        "id": "j-m6f8s82Z--"
      },
      "source": [
        "num_train_steps, len(label_list)"
      ],
      "execution_count": null,
      "outputs": []
    },
    {
      "cell_type": "code",
      "metadata": {
        "id": "tAJIbhAH2oL6"
      },
      "source": [
        "#Initializing the model and the estimator   <USE THIS BLOCK IF YOU ARE TRAINING FOR THE FIRST TIME>\n",
        "# model_fn = model_fn_builder(\n",
        "#   num_labels=len(label_list),\n",
        "#   learning_rate=LEARNING_RATE,\n",
        "#   num_train_steps=num_train_steps,\n",
        "#   num_warmup_steps=num_warmup_steps)\n",
        "\n",
        "# estimator = tf.estimator.Estimator(\n",
        "#   model_fn=model_fn,\n",
        "#   config=run_config,\n",
        "#   params={\"batch_size\": BATCH_SIZE})"
      ],
      "execution_count": null,
      "outputs": []
    },
    {
      "cell_type": "code",
      "metadata": {
        "id": "zTGM0GjF2oOT"
      },
      "source": [
        "def input_fn_builder(features, seq_length, is_training, drop_remainder):\n",
        "  \"\"\"Creates an `input_fn` closure to be passed to TPUEstimator.\"\"\"\n",
        "\n",
        "  all_input_ids = []\n",
        "  all_input_mask = []\n",
        "  all_segment_ids = []\n",
        "  all_label_ids = []\n",
        "\n",
        "  for feature in features:\n",
        "    all_input_ids.append(feature.input_ids)\n",
        "    all_input_mask.append(feature.input_mask)\n",
        "    all_segment_ids.append(feature.segment_ids)\n",
        "    all_label_ids.append(feature.label_id)\n",
        "\n",
        "  def input_fn(params):\n",
        "    \"\"\"The actual input function.\"\"\"\n",
        "    batch_size = params[\"batch_size\"]\n",
        "\n",
        "    num_examples = len(features)\n",
        "\n",
        "    # This is for demo purposes and does NOT scale to large data sets. We do\n",
        "    # not use Dataset.from_generator() because that uses tf.py_func which is\n",
        "    # not TPU compatible. The right way to load data is with TFRecordReader.\n",
        "    d = tf.data.Dataset.from_tensor_slices({\n",
        "        \"input_ids\":\n",
        "            tf.constant(\n",
        "                all_input_ids, shape=[num_examples, seq_length],\n",
        "                dtype=tf.int32),\n",
        "        \"input_mask\":\n",
        "            tf.constant(\n",
        "                all_input_mask,\n",
        "                shape=[num_examples, seq_length],\n",
        "                dtype=tf.int32),\n",
        "        \"segment_ids\":\n",
        "            tf.constant(\n",
        "                all_segment_ids,\n",
        "                shape=[num_examples, seq_length],\n",
        "                dtype=tf.int32),\n",
        "        \"label_ids\":\n",
        "            tf.constant(all_label_ids, shape=[num_examples], dtype=tf.int32),\n",
        "    })\n",
        "\n",
        "    if is_training:\n",
        "      d = d.repeat()\n",
        "      d = d.shuffle(buffer_size=100)\n",
        "\n",
        "    d = d.batch(batch_size=batch_size, drop_remainder=drop_remainder)\n",
        "    return d\n",
        "\n",
        "  return input_fn"
      ],
      "execution_count": null,
      "outputs": []
    },
    {
      "cell_type": "code",
      "metadata": {
        "id": "MzZetsvB2oRP"
      },
      "source": [
        "# Create an input function for training. drop_remainder = True for using TPUs.\n",
        "train_input_fn = input_fn_builder(\n",
        "    features=train_features,\n",
        "    seq_length=MAX_SEQ_LENGTH,\n",
        "    is_training=True,\n",
        "    drop_remainder=False)\n",
        "\n",
        "# Create an input function for validating. drop_remainder = True for using TPUs.\n",
        "val_input_fn = input_fn_builder(\n",
        "    features=val_features,\n",
        "    seq_length=MAX_SEQ_LENGTH,\n",
        "    is_training=False,\n",
        "    drop_remainder=False)"
      ],
      "execution_count": null,
      "outputs": []
    },
    {
      "cell_type": "code",
      "metadata": {
        "id": "hSGhWFhv2aAw"
      },
      "source": [
        "import datetime"
      ],
      "execution_count": null,
      "outputs": []
    },
    {
      "cell_type": "code",
      "metadata": {
        "id": "kyycm43M21rG"
      },
      "source": [
        "import tensorflow.compat.v1 as tf\n",
        "tf.disable_v2_behavior()"
      ],
      "execution_count": null,
      "outputs": []
    },
    {
      "cell_type": "code",
      "metadata": {
        "id": "DSuE9u8wzJ38"
      },
      "source": [
        "BATCH_SIZE"
      ],
      "execution_count": null,
      "outputs": []
    },
    {
      "cell_type": "code",
      "metadata": {
        "id": "IgoJ_Neds7uW"
      },
      "source": [
        "# # #BERT: Fine Tuning Training & Evaluating\n",
        "# # print(f'Beginning Training!')\n",
        "# # #current_time = datetime.time()\n",
        "#estimator.train(input_fn=train_input_fn, max_steps=num_train_steps)\n",
        "# # #print(\"Training took time \", datetime.now() - current_time)"
      ],
      "execution_count": null,
      "outputs": []
    },
    {
      "cell_type": "code",
      "metadata": {
        "id": "1si90b2621wb"
      },
      "source": [
        "# #Run this If you want to load the model \n",
        "# #Loading a specific check point : \n",
        "warm_start = tf.estimator.WarmStartSettings(ckpt_to_initialize_from='/content/drive/MyDrive/Model_checkpoints_SC_512/model.ckpt-2869.meta')\n",
        "\n",
        "\n",
        "model_fn = model_fn_builder(\n",
        "  num_labels=len(label_list),\n",
        "  learning_rate=LEARNING_RATE,\n",
        "  num_train_steps=num_train_steps,\n",
        "  num_warmup_steps=num_warmup_steps)\n",
        "\n",
        "estimator=tf.estimator.Estimator(model_fn=model_fn,\n",
        "                       config=run_config,\n",
        "                       params={\"batch_size\": BATCH_SIZE},\n",
        "                       warm_start_from=warm_start)"
      ],
      "execution_count": null,
      "outputs": []
    },
    {
      "cell_type": "code",
      "metadata": {
        "id": "y-DRuDgJ21yn"
      },
      "source": [
        "#Evaluation of the BERT model\n",
        "estimator.evaluate(input_fn=val_input_fn, steps=None)"
      ],
      "execution_count": null,
      "outputs": []
    },
    {
      "cell_type": "markdown",
      "metadata": {
        "id": "Fhq1z8DYRHS9"
      },
      "source": [
        "# Extract Embeddings from BERT"
      ]
    },
    {
      "cell_type": "code",
      "metadata": {
        "id": "Rpd7lTnYtsCo"
      },
      "source": [
        "def serving_input_receiver_fn():\n",
        "    \"\"\"Serving input_fn that builds features from placeholders\n",
        "\n",
        "    Returns\n",
        "    -------\n",
        "    tf.estimator.export.ServingInputReceiver\n",
        "    \"\"\"\n",
        "    number = tf.placeholder(dtype=tf.float32, shape=[None, 1], name='number')\n",
        "    receiver_tensors = {'number': number}\n",
        "    features = tf.tile(number, multiples=[1, 2])\n",
        "    return tf.estimator.export.ServingInputReceiver(features, receiver_tensors)"
      ],
      "execution_count": null,
      "outputs": []
    },
    {
      "cell_type": "code",
      "metadata": {
        "id": "tGym45fORGJO"
      },
      "source": [
        "# A method to get predictions\n",
        "def getPrediction(in_sentences, type_output = \"features\"):\n",
        "  #A list to map the actual labels to the predictions\n",
        "  labels = np.unique(train['label'])\n",
        "  input_examples = [InputExample(guid=\"\", text_a = x, text_b = None, label = 0) for x in in_sentences] \n",
        "  #input_features = convert_examples_to_features(input_examples, label_list, MAX_SEQ_LENGTH, tokenizer)\n",
        "  input_features = convert_examples_to_features(tokenizer,input_examples,MAX_SEQ_LENGTH )\n",
        "  #Predicting the classes \n",
        "  predict_input_fn = input_fn_builder(features=input_features, seq_length=MAX_SEQ_LENGTH, is_training=False, drop_remainder=False)\n",
        "  predictions = estimator.predict(predict_input_fn)\n",
        "  if type_output == \"features\":\n",
        "    return [prediction['pooled_output'] for _,prediction in enumerate(predictions) ]\n",
        "  else:\n",
        "    return ([(sentence, prediction['probabilities'],\n",
        "              prediction['labels'], labels[prediction['labels']]) for sentence, prediction in zip(in_sentences, predictions)])"
      ],
      "execution_count": null,
      "outputs": []
    },
    {
      "cell_type": "code",
      "metadata": {
        "id": "4pcEOUeTRGOA"
      },
      "source": [
        "tf.compat.v1.logging.set_verbosity(tf.compat.v1.logging.ERROR)\n",
        "MAX_SEQ_LENGTH"
      ],
      "execution_count": null,
      "outputs": []
    },
    {
      "cell_type": "code",
      "metadata": {
        "id": "M08wa3CwRGQS"
      },
      "source": [
        "train_df.shape, val_df.shape"
      ],
      "execution_count": null,
      "outputs": []
    },
    {
      "cell_type": "code",
      "metadata": {
        "id": "ejX1ef-uRGZa"
      },
      "source": [
        "val_emb = np.apply_along_axis(getPrediction, 0,np.array(val_df[DATA_COLUMN]))"
      ],
      "execution_count": null,
      "outputs": []
    },
    {
      "cell_type": "code",
      "metadata": {
        "id": "msSmGueJRGTs"
      },
      "source": [
        "tr_emb = np.apply_along_axis(getPrediction, 0,np.array(train_df[DATA_COLUMN]))"
      ],
      "execution_count": null,
      "outputs": []
    },
    {
      "cell_type": "code",
      "metadata": {
        "id": "k0Yq4v6DRGa6"
      },
      "source": [
        " tr_emb.shape,val_emb.shape"
      ],
      "execution_count": null,
      "outputs": []
    },
    {
      "cell_type": "code",
      "metadata": {
        "id": "eo5Sl-_CRGdL"
      },
      "source": [
        "aux = -1\n",
        "len_l = 0\n",
        "train_x = {}\n",
        "for l, emb in zip(index_l, tr_emb):\n",
        "  if l in train_x.keys():\n",
        "    train_x[l]  =np.vstack([train_x[l], emb])\n",
        "  else:\n",
        "    train_x[l] = [emb]\n",
        "\n",
        "len(train_x.keys())\n",
        "\n",
        "train_l_final = []\n",
        "label_l_final = []\n",
        "for k in train_x.keys():\n",
        "  train_l_final.append(train_x[k])\n",
        "  label_l_final.append(train.loc[k]['label'])\n",
        "\n",
        "df_train = pd.DataFrame({'emb': train_l_final, 'label': label_l_final, })\n",
        "df_train.head()"
      ],
      "execution_count": null,
      "outputs": []
    },
    {
      "cell_type": "code",
      "metadata": {
        "id": "xQV4BeqDRruI"
      },
      "source": [
        "def finding_mean(mat):\n",
        "    return np.mean(mat, axis=0)"
      ],
      "execution_count": null,
      "outputs": []
    },
    {
      "cell_type": "code",
      "metadata": {
        "id": "l8FjNpNkRry2"
      },
      "source": [
        "df_train['mean_emb'] = df_train['emb'].apply(finding_mean)"
      ],
      "execution_count": null,
      "outputs": []
    },
    {
      "cell_type": "code",
      "metadata": {
        "id": "-c-btn9HR05b"
      },
      "source": [
        "aux = -1\n",
        "len_l = 0\n",
        "val_x = {}\n",
        "\n",
        "for l, emb in zip(val_index_l, val_emb):\n",
        "  if l in val_x.keys():\n",
        "    val_x[l]  =np.vstack([val_x[l], emb])\n",
        "  else:\n",
        "    val_x[l] = [emb]\n",
        "\n",
        "\n",
        "val_l_final = []\n",
        "vlabel_l_final = []\n",
        "for k in val_x.keys():\n",
        "  val_l_final.append(val_x[k])\n",
        "  vlabel_l_final.append(val.loc[k]['label'])\n",
        "\n",
        "df_val = pd.DataFrame({'emb': val_l_final, 'label': vlabel_l_final})\n",
        "df_val.head()\n"
      ],
      "execution_count": null,
      "outputs": []
    },
    {
      "cell_type": "code",
      "metadata": {
        "id": "c-72eeScR08I"
      },
      "source": [
        "df_val['mean_emb'] = df_val['emb'].apply(finding_mean)"
      ],
      "execution_count": null,
      "outputs": []
    },
    {
      "cell_type": "code",
      "metadata": {
        "id": "OqOHJzKtmZQA"
      },
      "source": [
        "def new_get_split_count(mat):\n",
        "  count = 0 \n",
        "  for i in mat:\n",
        "    count +=1 \n",
        "  return count"
      ],
      "execution_count": null,
      "outputs": []
    },
    {
      "cell_type": "code",
      "metadata": {
        "id": "sriIE3nGlvhH"
      },
      "source": [
        "df_train['text_split_count'] = df_train['emb'].apply(new_get_split_count)"
      ],
      "execution_count": null,
      "outputs": []
    },
    {
      "cell_type": "code",
      "metadata": {
        "id": "FRHvB7nJUAqu"
      },
      "source": [
        "df_train.shape"
      ],
      "execution_count": null,
      "outputs": []
    },
    {
      "cell_type": "code",
      "metadata": {
        "id": "qXXk8SyUl_Kr"
      },
      "source": [
        "df_test_1 = df_train[(df_train['text_split_count'].isin([4]))]\n",
        "df_train_1 = df_train[~(df_train['text_split_count'].isin([4]))]"
      ],
      "execution_count": null,
      "outputs": []
    },
    {
      "cell_type": "code",
      "metadata": {
        "id": "MKLeRbQZUMie"
      },
      "source": [
        "df_train = df_train_1"
      ],
      "execution_count": null,
      "outputs": []
    },
    {
      "cell_type": "code",
      "metadata": {
        "id": "miZJwqwaUPy_"
      },
      "source": [
        "df_train.shape , df_test_1.shape"
      ],
      "execution_count": null,
      "outputs": []
    },
    {
      "cell_type": "code",
      "metadata": {
        "id": "rrG4VwEmUkv-"
      },
      "source": [
        "df_val['text_split_count'] = df_val['emb'].apply(new_get_split_count)"
      ],
      "execution_count": null,
      "outputs": []
    },
    {
      "cell_type": "code",
      "metadata": {
        "id": "__bP51nGvDBD"
      },
      "source": [
        "df_val.head(2)"
      ],
      "execution_count": null,
      "outputs": []
    },
    {
      "cell_type": "code",
      "metadata": {
        "id": "BOqoVTL22tVq"
      },
      "source": [
        "df_test_2 = df_val[(df_val['text_split_count'].isin([4]))]\n",
        "df_val_1 = df_val[~(df_val['text_split_count'].isin([4]))]\n",
        "df_val = df_val_1"
      ],
      "execution_count": null,
      "outputs": []
    },
    {
      "cell_type": "code",
      "metadata": {
        "id": "-dfplfCYlvoM"
      },
      "source": [
        "df_test_new = [df_test_1, df_test_2]\n",
        "df_test_nw_1 = pd.concat(df_test_new)"
      ],
      "execution_count": null,
      "outputs": []
    },
    {
      "cell_type": "code",
      "metadata": {
        "id": "I5L_tC5P262I"
      },
      "source": [
        "df_test = df_test_nw_1"
      ],
      "execution_count": null,
      "outputs": []
    },
    {
      "cell_type": "code",
      "metadata": {
        "id": "E8EiIbFJ3taU"
      },
      "source": [
        "df_test.reset_index(drop=True, inplace=True)\n",
        "df_test.head(2)"
      ],
      "execution_count": null,
      "outputs": []
    },
    {
      "cell_type": "code",
      "metadata": {
        "id": "Aa-X-RUh4o0P"
      },
      "source": [
        "df_train.shape , df_val.shape, df_test.shape"
      ],
      "execution_count": null,
      "outputs": []
    },
    {
      "cell_type": "code",
      "metadata": {
        "id": "qOVOFiMzwLQX"
      },
      "source": [
        "len(df_train['label'].unique())"
      ],
      "execution_count": null,
      "outputs": []
    },
    {
      "cell_type": "code",
      "metadata": {
        "id": "l7pt0xTmZdVp"
      },
      "source": [
        "df_train.reset_index(drop=True, inplace=True)\n",
        "df_train.head(2)"
      ],
      "execution_count": null,
      "outputs": []
    },
    {
      "cell_type": "code",
      "metadata": {
        "id": "es9ZwPwMZkAQ"
      },
      "source": [
        "df_val.reset_index(drop=True, inplace=True)\n",
        "df_val.head(2)"
      ],
      "execution_count": null,
      "outputs": []
    },
    {
      "cell_type": "code",
      "metadata": {
        "id": "ZXMD6HACWSc5"
      },
      "source": [
        "df_train.shape, df_val.shape, df_test.shape"
      ],
      "execution_count": null,
      "outputs": []
    },
    {
      "cell_type": "markdown",
      "metadata": {
        "id": "JBe9Xxv3KtNy"
      },
      "source": [
        "# LSTM Network Mean"
      ]
    },
    {
      "cell_type": "code",
      "metadata": {
        "id": "NVGfoMrBkHQj"
      },
      "source": [
        "df_train"
      ],
      "execution_count": null,
      "outputs": []
    },
    {
      "cell_type": "code",
      "metadata": {
        "id": "tSbOJ-NSCqiE"
      },
      "source": [
        "df_train['label']=df_train['label'].replace([-1], 0)\n",
        "df_test['label']=df_test['label'].replace([-1], 0)\n",
        "df_val['label']=df_val['label'].replace([-1], 0)"
      ],
      "execution_count": null,
      "outputs": []
    },
    {
      "cell_type": "code",
      "metadata": {
        "id": "zA0HL2R9S12t"
      },
      "source": [
        "num_sequences = len(df_train['emb'].to_list())\n",
        "batch_size = 49   # 7*686\n",
        "batches_per_epoch =  98\n",
        "assert batch_size * batches_per_epoch == num_sequences\n",
        "num_features= 768\n",
        "def train_generator(df):\n",
        "    x_list= df['emb'].to_list()\n",
        "    y_list =  df.label.to_list()\n",
        "    # Generate batches\n",
        "    while True:\n",
        "        for b in range(batches_per_epoch):\n",
        "            longest_index = (b + 1) * batch_size - 1\n",
        "            timesteps = len(max(df['emb'].to_list()[:(b + 1) * batch_size][-batch_size:], key=len))\n",
        "            x_train = np.full((batch_size, timesteps, num_features), -99.)\n",
        "            y_train = np.zeros((batch_size,  1))\n",
        "            for i in range(batch_size):\n",
        "                li = b * batch_size + i\n",
        "                x_train[i, 0:len(x_list[li]), :] = x_list[li]\n",
        "                y_train[i] = y_list[li]\n",
        "            yield x_train, y_train"
      ],
      "execution_count": null,
      "outputs": []
    },
    {
      "cell_type": "code",
      "metadata": {
        "id": "0_kSckUDS18t"
      },
      "source": [
        "num_sequences_val = len(df_val['emb'].to_list())\n",
        "batch_size_val = 1\n",
        "batches_per_epoch_val = 1201\n",
        "assert batch_size_val * batches_per_epoch_val == num_sequences_val\n",
        "num_features= 768\n",
        "def val_generator(df):\n",
        "    x_list= df['emb'].to_list()\n",
        "    y_list =  df.label.to_list()\n",
        "    # Generate batches\n",
        "    while True:\n",
        "        for b in range(batches_per_epoch_val):\n",
        "            longest_index = (b + 1) * batch_size_val - 1\n",
        "            timesteps = len(max(df['emb'].to_list()[:(b + 1) * batch_size_val][-31:], key=len))\n",
        "            # print(len(df_train['emb'].to_list()[:b+batch_size][-7:]))\n",
        "            x_train = np.full((batch_size_val, timesteps, num_features), -99.)\n",
        "            y_train = np.zeros((batch_size_val,  1))\n",
        "            for i in range(batch_size_val):\n",
        "                li = b * batch_size_val + i\n",
        "                # print(\"li\", li)\n",
        "                # print(x_train[i, 0:len(x_list[li]), :].shape, len(x_list[li]))\n",
        "                x_train[i, 0:len(x_list[li]), :] = x_list[li]\n",
        "                y_train[i] = y_list[li]\n",
        "            yield x_train, y_train"
      ],
      "execution_count": null,
      "outputs": []
    },
    {
      "cell_type": "code",
      "metadata": {
        "id": "HSBEqHxzTULY"
      },
      "source": [
        "from keras import layers\n",
        "from keras.layers import Embedding, Dense, Input, concatenate, Layer, Lambda, Dropout, Activation\n",
        "from keras.models import Sequential, Model\n",
        "text_input = Input(shape=(None,768,), dtype='float32', name='text')\n",
        "\n",
        "l_mask = layers.Masking(mask_value=-99.)(text_input)\n",
        "# Which we encoded in a single vector via a LSTM\n",
        "encoded_text = layers.LSTM(100,)(l_mask)\n",
        "out_dense = layers.Dense(30, activation='relu')(encoded_text)\n",
        "# And we add a softmax classifier on top\n",
        "out = layers.Dense(len(df_train['label'].unique()), activation='softmax')(out_dense)\n",
        "# At model instantiation, we specify the input and the output:\n",
        "model_stack = Model(text_input, out)\n",
        "model_stack.compile(optimizer=tf.keras.optimizers.Adam(clipvalue=0.5),\n",
        "              loss='sparse_categorical_crossentropy',\n",
        "              metrics=['acc'])\n",
        "model_stack.summary()"
      ],
      "execution_count": null,
      "outputs": []
    },
    {
      "cell_type": "code",
      "metadata": {
        "id": "YWaXTPN4Odqp"
      },
      "source": [
        "df_train['label'].unique()"
      ],
      "execution_count": null,
      "outputs": []
    },
    {
      "cell_type": "code",
      "metadata": {
        "id": "ZaUCaZYoS2Be"
      },
      "source": [
        "#First Time Run \n",
        "#Token size = 500, Earlier LSTM architecture \n",
        "#Accuracy is very low so interrupted in the middle \n",
        "ES=tf.keras.callbacks.EarlyStopping(patience=5, restore_best_weights=True)\n",
        "model_stack.fit_generator(train_generator(df_train), steps_per_epoch=batches_per_epoch, epochs=50,validation_data=val_generator(df_val), validation_steps=batches_per_epoch_val ,callbacks=[ES])"
      ],
      "execution_count": null,
      "outputs": []
    },
    {
      "cell_type": "code",
      "metadata": {
        "colab": {
          "base_uri": "https://localhost:8080/"
        },
        "id": "rJx0T9SjTp8T",
        "outputId": "6fcb14b2-ee79-49a2-e266-90db1a4230a8"
      },
      "source": [
        "# num_sequences_val = len(df_test['mean_emb'].to_list())\n",
        "# batch_size_val = 1\n",
        "# batches_per_epoch_val = 323\n",
        "# assert batch_size_val * batches_per_epoch_val == num_sequences_val\n",
        "# num_features= 768\n",
        "# modelA.evaluate_generator(val_generator(df_test), steps= batches_per_epoch_val)"
      ],
      "execution_count": null,
      "outputs": [
        {
          "name": "stderr",
          "output_type": "stream",
          "text": [
            "/usr/local/lib/python3.7/dist-packages/ipykernel_launcher.py:6: UserWarning: `Model.evaluate_generator` is deprecated and will be removed in a future version. Please use `Model.evaluate`, which supports generators.\n",
            "  \n"
          ]
        },
        {
          "data": {
            "text/plain": [
              "[0.6229558066283309, 0.7987616]"
            ]
          },
          "execution_count": 104,
          "metadata": {},
          "output_type": "execute_result"
        }
      ]
    },
    {
      "cell_type": "code",
      "metadata": {
        "colab": {
          "base_uri": "https://localhost:8080/"
        },
        "id": "yIb9E4OyTp_G",
        "outputId": "ebb08e8b-ac2d-4fe5-ff4b-56282ac00d26"
      },
      "source": [
        "# y_proba=modelA.predict(val_generator(df_test), steps= batches_per_epoch_val)"
      ],
      "execution_count": null,
      "outputs": [
        {
          "name": "stderr",
          "output_type": "stream",
          "text": [
            "/usr/local/lib/python3.7/dist-packages/keras/engine/training_v1.py:2079: UserWarning: `Model.state_updates` will be removed in a future version. This property should not be used in TensorFlow 2.0, as `updates` are applied automatically.\n",
            "  updates=self.state_updates,\n"
          ]
        }
      ]
    },
    {
      "cell_type": "code",
      "metadata": {
        "colab": {
          "base_uri": "https://localhost:8080/"
        },
        "id": "pOts-UxCTqBq",
        "outputId": "c8b11ec7-9813-4aae-9b09-178b7b106243"
      },
      "source": [
        "# y_pred=[]\n",
        "# for i in y_proba:\n",
        "#     max_index_row = np.argmax(i, axis=0)\n",
        "#     y_pred.append(max_index_row)\n",
        "\n",
        "\n",
        "# #Evaluating Model Performance by creating confusion matrix and classification report\n",
        "# from sklearn.metrics import classification_report, confusion_matrix\n",
        "# print('Confusion Matrix')\n",
        "# print(confusion_matrix(y_pred, df_test['label']))\n",
        "# print('Classification Report')\n",
        "# print(classification_report(y_pred, df_test['label']))"
      ],
      "execution_count": null,
      "outputs": [
        {
          "name": "stdout",
          "output_type": "stream",
          "text": [
            "Confusion Matrix\n",
            "[[69  1  0  4  0  0  0  0  4  0  0  0]\n",
            " [ 1 40  0  0  1  0  0  0  7  1  0  0]\n",
            " [ 0  1 12  1  0  0  0  1  2  0  0  0]\n",
            " [ 1  0  0  5  0  0  0  1  1  0  0  0]\n",
            " [ 0  0  0  0  0  0  0  0  0  0  0  0]\n",
            " [ 0  0  0  0  0  2  0  0  0  0  0  0]\n",
            " [ 0  0  0  0  0  0 17  0  4  3  0  0]\n",
            " [ 0  0  0  0  0  0  0 66 11  2  0  3]\n",
            " [ 1  1  0  1  0  0  0  2 28  1  0  0]\n",
            " [ 0  0  0  0  0  0  0  3  2  1  0  0]\n",
            " [ 0  0  0  0  0  0  0  0  0  1  4  0]\n",
            " [ 0  0  0  0  0  0  0  2  1  0  0 14]]\n",
            "Classification Report\n",
            "              precision    recall  f1-score   support\n",
            "\n",
            "           1       0.96      0.88      0.92        78\n",
            "           2       0.93      0.80      0.86        50\n",
            "           3       1.00      0.71      0.83        17\n",
            "           4       0.45      0.62      0.53         8\n",
            "           5       0.00      0.00      0.00         0\n",
            "           6       1.00      1.00      1.00         2\n",
            "           7       1.00      0.71      0.83        24\n",
            "           8       0.88      0.80      0.84        82\n",
            "           9       0.47      0.82      0.60        34\n",
            "          10       0.11      0.17      0.13         6\n",
            "          11       1.00      0.80      0.89         5\n",
            "          12       0.82      0.82      0.82        17\n",
            "\n",
            "    accuracy                           0.80       323\n",
            "   macro avg       0.72      0.68      0.69       323\n",
            "weighted avg       0.85      0.80      0.82       323\n",
            "\n"
          ]
        },
        {
          "name": "stderr",
          "output_type": "stream",
          "text": [
            "/usr/local/lib/python3.7/dist-packages/sklearn/metrics/_classification.py:1308: UndefinedMetricWarning: Recall and F-score are ill-defined and being set to 0.0 in labels with no true samples. Use `zero_division` parameter to control this behavior.\n",
            "  _warn_prf(average, modifier, msg_start, len(result))\n",
            "/usr/local/lib/python3.7/dist-packages/sklearn/metrics/_classification.py:1308: UndefinedMetricWarning: Recall and F-score are ill-defined and being set to 0.0 in labels with no true samples. Use `zero_division` parameter to control this behavior.\n",
            "  _warn_prf(average, modifier, msg_start, len(result))\n",
            "/usr/local/lib/python3.7/dist-packages/sklearn/metrics/_classification.py:1308: UndefinedMetricWarning: Recall and F-score are ill-defined and being set to 0.0 in labels with no true samples. Use `zero_division` parameter to control this behavior.\n",
            "  _warn_prf(average, modifier, msg_start, len(result))\n"
          ]
        }
      ]
    },
    {
      "cell_type": "code",
      "metadata": {
        "colab": {
          "base_uri": "https://localhost:8080/"
        },
        "id": "gGc4u8JRRr1Q",
        "outputId": "4a5d5d21-3c7e-4975-ef52-ddd925eebd39"
      },
      "source": [
        "# mat = confusion_matrix(y_pred, df_test['label'])\n",
        "\n",
        "# diag = np.diagonal(mat)\n",
        "# sum(diag)"
      ],
      "execution_count": null,
      "outputs": [
        {
          "data": {
            "text/plain": [
              "258"
            ]
          },
          "execution_count": 107,
          "metadata": {},
          "output_type": "execute_result"
        }
      ]
    },
    {
      "cell_type": "markdown",
      "metadata": {
        "id": "U4tfuKx7sm73"
      },
      "source": [
        "# Data Creation Autoencoders Mean\n",
        "\n",
        "---\n",
        "\n"
      ]
    },
    {
      "cell_type": "code",
      "metadata": {
        "id": "wvGlVY8usq58"
      },
      "source": [
        "import sys"
      ],
      "execution_count": null,
      "outputs": []
    },
    {
      "cell_type": "code",
      "metadata": {
        "id": "A_Yq72s-taUt"
      },
      "source": [
        "x_train=[]\n",
        "y_train=[]\n",
        "for i in range(df_train.shape[0]):\n",
        "  x_train.append(df_train[\"mean_emb\"][i])\n",
        "  y_train.append(df_train[\"label\"][i])\n",
        "\n",
        "X = np.array(x_train)\n",
        "y = np.array(y_train)"
      ],
      "execution_count": null,
      "outputs": []
    },
    {
      "cell_type": "code",
      "metadata": {
        "colab": {
          "base_uri": "https://localhost:8080/",
          "height": 111
        },
        "id": "rtqg6gKi727Z",
        "outputId": "115f4c68-d952-4e86-dd7e-24422a460930"
      },
      "source": [
        "df_val.reset_index(drop=True, inplace=True)\n",
        "df_val.head(2)"
      ],
      "execution_count": null,
      "outputs": [
        {
          "data": {
            "text/html": [
              "<div>\n",
              "<style scoped>\n",
              "    .dataframe tbody tr th:only-of-type {\n",
              "        vertical-align: middle;\n",
              "    }\n",
              "\n",
              "    .dataframe tbody tr th {\n",
              "        vertical-align: top;\n",
              "    }\n",
              "\n",
              "    .dataframe thead th {\n",
              "        text-align: right;\n",
              "    }\n",
              "</style>\n",
              "<table border=\"1\" class=\"dataframe\">\n",
              "  <thead>\n",
              "    <tr style=\"text-align: right;\">\n",
              "      <th></th>\n",
              "      <th>emb</th>\n",
              "      <th>label</th>\n",
              "      <th>mean_emb</th>\n",
              "      <th>text_split_count</th>\n",
              "    </tr>\n",
              "  </thead>\n",
              "  <tbody>\n",
              "    <tr>\n",
              "      <th>0</th>\n",
              "      <td>[[0.122515954, 0.45227006, 0.88521975, 0.60211...</td>\n",
              "      <td>1</td>\n",
              "      <td>[0.122515954, 0.45227006, 0.88521975, 0.602111...</td>\n",
              "      <td>1</td>\n",
              "    </tr>\n",
              "    <tr>\n",
              "      <th>1</th>\n",
              "      <td>[[0.87943757, -0.4988237, -0.8390276, -0.27093...</td>\n",
              "      <td>2</td>\n",
              "      <td>[0.6697558, -0.5287755, -0.79579884, 0.3058079...</td>\n",
              "      <td>13</td>\n",
              "    </tr>\n",
              "  </tbody>\n",
              "</table>\n",
              "</div>"
            ],
            "text/plain": [
              "                                                 emb  ...  text_split_count\n",
              "0  [[0.122515954, 0.45227006, 0.88521975, 0.60211...  ...                 1\n",
              "1  [[0.87943757, -0.4988237, -0.8390276, -0.27093...  ...                13\n",
              "\n",
              "[2 rows x 4 columns]"
            ]
          },
          "execution_count": 100,
          "metadata": {},
          "output_type": "execute_result"
        }
      ]
    },
    {
      "cell_type": "code",
      "metadata": {
        "id": "Zz7xS6FMtaY-"
      },
      "source": [
        "x_val = []\n",
        "y_val = []\n",
        "for i in range(df_val.shape[0]):\n",
        "  x_val.append(df_val[\"mean_emb\"][i])\n",
        "  y_val.append(df_val[\"label\"][i])\n",
        "\n",
        "X_val = np.array(x_val)\n",
        "y_val = np.array(y_val)\n"
      ],
      "execution_count": null,
      "outputs": []
    },
    {
      "cell_type": "code",
      "metadata": {
        "colab": {
          "base_uri": "https://localhost:8080/",
          "height": 111
        },
        "id": "jl4b62x18XJL",
        "outputId": "7de473c9-6fc3-48a8-f1a5-e8b677de4c80"
      },
      "source": [
        "df_test.reset_index(drop=True, inplace=True)\n",
        "df_test.head(2)"
      ],
      "execution_count": null,
      "outputs": [
        {
          "data": {
            "text/html": [
              "<div>\n",
              "<style scoped>\n",
              "    .dataframe tbody tr th:only-of-type {\n",
              "        vertical-align: middle;\n",
              "    }\n",
              "\n",
              "    .dataframe tbody tr th {\n",
              "        vertical-align: top;\n",
              "    }\n",
              "\n",
              "    .dataframe thead th {\n",
              "        text-align: right;\n",
              "    }\n",
              "</style>\n",
              "<table border=\"1\" class=\"dataframe\">\n",
              "  <thead>\n",
              "    <tr style=\"text-align: right;\">\n",
              "      <th></th>\n",
              "      <th>emb</th>\n",
              "      <th>label</th>\n",
              "      <th>mean_emb</th>\n",
              "      <th>text_split_count</th>\n",
              "    </tr>\n",
              "  </thead>\n",
              "  <tbody>\n",
              "    <tr>\n",
              "      <th>0</th>\n",
              "      <td>[[0.12968883, -0.11246501, 0.0016679895, 0.956...</td>\n",
              "      <td>1</td>\n",
              "      <td>[0.11329858, -0.11095709, 0.043547444, 0.95512...</td>\n",
              "      <td>4</td>\n",
              "    </tr>\n",
              "    <tr>\n",
              "      <th>1</th>\n",
              "      <td>[[0.6948084, 0.7476228, 0.27276278, 0.45883003...</td>\n",
              "      <td>9</td>\n",
              "      <td>[0.7251519, 0.6956567, -0.0044839233, 0.541375...</td>\n",
              "      <td>4</td>\n",
              "    </tr>\n",
              "  </tbody>\n",
              "</table>\n",
              "</div>"
            ],
            "text/plain": [
              "                                                 emb  ...  text_split_count\n",
              "0  [[0.12968883, -0.11246501, 0.0016679895, 0.956...  ...                 4\n",
              "1  [[0.6948084, 0.7476228, 0.27276278, 0.45883003...  ...                 4\n",
              "\n",
              "[2 rows x 4 columns]"
            ]
          },
          "execution_count": 102,
          "metadata": {},
          "output_type": "execute_result"
        }
      ]
    },
    {
      "cell_type": "code",
      "metadata": {
        "id": "-zXwzb-Ytact"
      },
      "source": [
        "x_test=[]\n",
        "y_test=[]\n",
        "for i in range(df_test.shape[0]):\n",
        "  x_test.append(df_test[\"mean_emb\"][i])\n",
        "  y_test.append(df_test[\"label\"][i])\n",
        "\n",
        "X_test = np.array(x_test)\n",
        "y_test = np.array(y_test)"
      ],
      "execution_count": null,
      "outputs": []
    },
    {
      "cell_type": "code",
      "metadata": {
        "colab": {
          "base_uri": "https://localhost:8080/"
        },
        "id": "WrQLBPLKsq9e",
        "outputId": "b64308d5-ff18-4737-8797-530a8961c06c"
      },
      "source": [
        "X.shape, X_val.shape, X_test.shape"
      ],
      "execution_count": null,
      "outputs": [
        {
          "data": {
            "text/plain": [
              "((4802, 768), (1201, 768), (323, 768))"
            ]
          },
          "execution_count": 104,
          "metadata": {},
          "output_type": "execute_result"
        }
      ]
    },
    {
      "cell_type": "code",
      "metadata": {
        "id": "ZIgDreQ7srBF"
      },
      "source": [
        "train_y = np.array(df_train['label'])\n",
        "dev_y = np.array(df_val['label'])\n",
        "test_y = np.array(df_test['label'])\n",
        "\n",
        "train_y.shape, dev_y.shape, test_y.shape"
      ],
      "execution_count": null,
      "outputs": []
    },
    {
      "cell_type": "markdown",
      "metadata": {
        "id": "_7WxllJuDBZH"
      },
      "source": [
        "# Autoencoders_New2_Mean"
      ]
    },
    {
      "cell_type": "code",
      "metadata": {
        "id": "2s0wwWgSEMLf"
      },
      "source": [
        "from keras import layers\n",
        "from keras.layers import Embedding, Dense, Input, concatenate, Layer, Lambda, Dropout, Activation  ,BatchNormalization , LeakyReLU\n",
        "from keras.models import Sequential, Model ,load_model"
      ],
      "execution_count": null,
      "outputs": []
    },
    {
      "cell_type": "code",
      "metadata": {
        "colab": {
          "base_uri": "https://localhost:8080/"
        },
        "id": "UORXB_8wN2Ac",
        "outputId": "6d5e3e23-1d62-4367-de23-8a6780a13c9b"
      },
      "source": [
        "train_y.shape"
      ],
      "execution_count": null,
      "outputs": [
        {
          "data": {
            "text/plain": [
              "(5060,)"
            ]
          },
          "execution_count": 106,
          "metadata": {},
          "output_type": "execute_result"
        }
      ]
    },
    {
      "cell_type": "code",
      "metadata": {
        "id": "S9Xw_9lIDArc"
      },
      "source": [
        "# AutoEncoder Model Preparation\n",
        "n_inputs = X.shape[1]\n",
        "# define encoder\n",
        "input_data_shape= Input(shape=(n_inputs,))\n",
        "# encoder level 1\n",
        "encoder= Dense(n_inputs*2)(input_data_shape)\n",
        "encoder = BatchNormalization()(encoder)\n",
        "encoder= LeakyReLU()(encoder)\n",
        "# encoder level 2\n",
        "encoder= Dense(n_inputs)(encoder)\n",
        "encoder= BatchNormalization()(encoder)\n",
        "encoder= LeakyReLU()(encoder)\n",
        "# bottleneck\n",
        "n_bottleneck = round(float(n_inputs) / 2.0)\n",
        "bottleneck = Dense(n_bottleneck)(encoder)\n",
        "# define decoder, level 1\n",
        "decoder = Dense(n_inputs)(bottleneck)\n",
        "decoder = BatchNormalization()(decoder)\n",
        "decoder = LeakyReLU()(decoder)\n",
        "# decoder level 2\n",
        "decoder = Dense(n_inputs*2)(decoder)\n",
        "decoder = BatchNormalization()(decoder)\n",
        "decoder = LeakyReLU()(decoder)"
      ],
      "execution_count": null,
      "outputs": []
    },
    {
      "cell_type": "code",
      "metadata": {
        "id": "PXKkPbMTDKOq"
      },
      "source": [
        "output = Dense(n_inputs, activation='linear')(decoder)\n",
        "# define autoencoder model\n",
        "modelA = Model(inputs=input_data_shape, outputs=output)\n",
        "# compile autoencoder model\n",
        "modelA.compile(optimizer='adam', loss='mse')"
      ],
      "execution_count": null,
      "outputs": []
    },
    {
      "cell_type": "code",
      "metadata": {
        "colab": {
          "base_uri": "https://localhost:8080/"
        },
        "id": "qh7Fymf4NkB8",
        "outputId": "a02743fb-024f-4556-8beb-a3b111e86bb3"
      },
      "source": [
        "modelA.summary()"
      ],
      "execution_count": null,
      "outputs": [
        {
          "name": "stdout",
          "output_type": "stream",
          "text": [
            "Model: \"model\"\n",
            "_________________________________________________________________\n",
            " Layer (type)                Output Shape              Param #   \n",
            "=================================================================\n",
            " input_1 (InputLayer)        [(None, 768)]             0         \n",
            "                                                                 \n",
            " dense (Dense)               (None, 1536)              1181184   \n",
            "                                                                 \n",
            " batch_normalization (BatchN  (None, 1536)             6144      \n",
            " ormalization)                                                   \n",
            "                                                                 \n",
            " leaky_re_lu (LeakyReLU)     (None, 1536)              0         \n",
            "                                                                 \n",
            " dense_1 (Dense)             (None, 768)               1180416   \n",
            "                                                                 \n",
            " batch_normalization_1 (Batc  (None, 768)              3072      \n",
            " hNormalization)                                                 \n",
            "                                                                 \n",
            " leaky_re_lu_1 (LeakyReLU)   (None, 768)               0         \n",
            "                                                                 \n",
            " dense_2 (Dense)             (None, 384)               295296    \n",
            "                                                                 \n",
            " dense_3 (Dense)             (None, 768)               295680    \n",
            "                                                                 \n",
            " batch_normalization_2 (Batc  (None, 768)              3072      \n",
            " hNormalization)                                                 \n",
            "                                                                 \n",
            " leaky_re_lu_2 (LeakyReLU)   (None, 768)               0         \n",
            "                                                                 \n",
            " dense_4 (Dense)             (None, 1536)              1181184   \n",
            "                                                                 \n",
            " batch_normalization_3 (Batc  (None, 1536)             6144      \n",
            " hNormalization)                                                 \n",
            "                                                                 \n",
            " leaky_re_lu_3 (LeakyReLU)   (None, 1536)              0         \n",
            "                                                                 \n",
            " dense_5 (Dense)             (None, 768)               1180416   \n",
            "                                                                 \n",
            "=================================================================\n",
            "Total params: 5,332,608\n",
            "Trainable params: 5,323,392\n",
            "Non-trainable params: 9,216\n",
            "_________________________________________________________________\n"
          ]
        }
      ]
    },
    {
      "cell_type": "code",
      "metadata": {
        "colab": {
          "base_uri": "https://localhost:8080/"
        },
        "id": "aCSvYunzDKVq",
        "outputId": "94d668ee-18fd-4d82-a2de-d505000aada5"
      },
      "source": [
        "# fit the autoencoder model to reconstruct input\n",
        "history = modelA.fit(X, X, epochs=50, batch_size=16, verbose=2, validation_data=(X_val,X_val))"
      ],
      "execution_count": null,
      "outputs": [
        {
          "name": "stdout",
          "output_type": "stream",
          "text": [
            "Train on 4802 samples, validate on 1201 samples\n",
            "Epoch 1/50\n"
          ]
        },
        {
          "name": "stderr",
          "output_type": "stream",
          "text": [
            "/usr/local/lib/python3.7/dist-packages/keras/engine/training_v1.py:2057: UserWarning: `Model.state_updates` will be removed in a future version. This property should not be used in TensorFlow 2.0, as `updates` are applied automatically.\n",
            "  updates = self.state_updates\n"
          ]
        },
        {
          "name": "stdout",
          "output_type": "stream",
          "text": [
            "4802/4802 - 2s - loss: 0.0766 - val_loss: 0.0996 - 2s/epoch - 435us/sample\n",
            "Epoch 2/50\n",
            "4802/4802 - 1s - loss: 0.0500 - val_loss: 0.0749 - 1s/epoch - 300us/sample\n",
            "Epoch 3/50\n",
            "4802/4802 - 1s - loss: 0.0435 - val_loss: 0.0377 - 1s/epoch - 293us/sample\n",
            "Epoch 4/50\n",
            "4802/4802 - 1s - loss: 0.0385 - val_loss: 0.0419 - 1s/epoch - 302us/sample\n",
            "Epoch 5/50\n",
            "4802/4802 - 1s - loss: 0.0333 - val_loss: 0.0526 - 1s/epoch - 298us/sample\n",
            "Epoch 6/50\n",
            "4802/4802 - 1s - loss: 0.0306 - val_loss: 0.0303 - 1s/epoch - 302us/sample\n",
            "Epoch 7/50\n",
            "4802/4802 - 1s - loss: 0.0294 - val_loss: 0.0338 - 1s/epoch - 295us/sample\n",
            "Epoch 8/50\n",
            "4802/4802 - 1s - loss: 0.0280 - val_loss: 0.0262 - 1s/epoch - 301us/sample\n",
            "Epoch 9/50\n",
            "4802/4802 - 1s - loss: 0.0268 - val_loss: 0.0252 - 1s/epoch - 303us/sample\n",
            "Epoch 10/50\n",
            "4802/4802 - 1s - loss: 0.0248 - val_loss: 0.0263 - 1s/epoch - 295us/sample\n",
            "Epoch 11/50\n",
            "4802/4802 - 1s - loss: 0.0247 - val_loss: 0.0204 - 1s/epoch - 301us/sample\n",
            "Epoch 12/50\n",
            "4802/4802 - 1s - loss: 0.0243 - val_loss: 0.0260 - 1s/epoch - 299us/sample\n",
            "Epoch 13/50\n",
            "4802/4802 - 1s - loss: 0.0218 - val_loss: 0.0316 - 1s/epoch - 298us/sample\n",
            "Epoch 14/50\n",
            "4802/4802 - 1s - loss: 0.0240 - val_loss: 0.0264 - 1s/epoch - 296us/sample\n",
            "Epoch 15/50\n",
            "4802/4802 - 1s - loss: 0.0226 - val_loss: 0.0140 - 1s/epoch - 309us/sample\n",
            "Epoch 16/50\n",
            "4802/4802 - 1s - loss: 0.0220 - val_loss: 0.0304 - 1s/epoch - 304us/sample\n",
            "Epoch 17/50\n",
            "4802/4802 - 1s - loss: 0.0206 - val_loss: 0.0123 - 1s/epoch - 301us/sample\n",
            "Epoch 18/50\n",
            "4802/4802 - 1s - loss: 0.0217 - val_loss: 0.0142 - 1s/epoch - 298us/sample\n",
            "Epoch 19/50\n",
            "4802/4802 - 1s - loss: 0.0187 - val_loss: 0.0166 - 1s/epoch - 307us/sample\n",
            "Epoch 20/50\n",
            "4802/4802 - 2s - loss: 0.0173 - val_loss: 0.0192 - 2s/epoch - 318us/sample\n",
            "Epoch 21/50\n",
            "4802/4802 - 1s - loss: 0.0176 - val_loss: 0.0135 - 1s/epoch - 294us/sample\n",
            "Epoch 22/50\n",
            "4802/4802 - 1s - loss: 0.0179 - val_loss: 0.0143 - 1s/epoch - 296us/sample\n",
            "Epoch 23/50\n",
            "4802/4802 - 1s - loss: 0.0174 - val_loss: 0.0144 - 1s/epoch - 301us/sample\n",
            "Epoch 24/50\n",
            "4802/4802 - 1s - loss: 0.0158 - val_loss: 0.0098 - 1s/epoch - 304us/sample\n",
            "Epoch 25/50\n",
            "4802/4802 - 1s - loss: 0.0153 - val_loss: 0.0197 - 1s/epoch - 298us/sample\n",
            "Epoch 26/50\n",
            "4802/4802 - 1s - loss: 0.0148 - val_loss: 0.0155 - 1s/epoch - 297us/sample\n",
            "Epoch 27/50\n",
            "4802/4802 - 1s - loss: 0.0162 - val_loss: 0.0133 - 1s/epoch - 303us/sample\n",
            "Epoch 28/50\n",
            "4802/4802 - 1s - loss: 0.0144 - val_loss: 0.0183 - 1s/epoch - 299us/sample\n",
            "Epoch 29/50\n",
            "Epoch 30/50\n",
            "4802/4802 - 1s - loss: 0.0151 - val_loss: 0.0111 - 1s/epoch - 298us/sample\n",
            "Epoch 31/50\n",
            "4802/4802 - 1s - loss: 0.0140 - val_loss: 0.0135 - 1s/epoch - 297us/sample\n",
            "Epoch 32/50\n",
            "4802/4802 - 1s - loss: 0.0149 - val_loss: 0.0147 - 1s/epoch - 296us/sample\n",
            "Epoch 33/50\n",
            "4802/4802 - 1s - loss: 0.0144 - val_loss: 0.0129 - 1s/epoch - 305us/sample\n",
            "Epoch 34/50\n",
            "4802/4802 - 2s - loss: 0.0137 - val_loss: 0.0148 - 2s/epoch - 323us/sample\n",
            "Epoch 35/50\n",
            "4802/4802 - 1s - loss: 0.0128 - val_loss: 0.0174 - 1s/epoch - 296us/sample\n",
            "Epoch 36/50\n",
            "4802/4802 - 1s - loss: 0.0149 - val_loss: 0.0147 - 1s/epoch - 295us/sample\n",
            "Epoch 37/50\n",
            "4802/4802 - 1s - loss: 0.0145 - val_loss: 0.0123 - 1s/epoch - 299us/sample\n",
            "Epoch 38/50\n",
            "4802/4802 - 1s - loss: 0.0129 - val_loss: 0.0087 - 1s/epoch - 309us/sample\n",
            "Epoch 39/50\n",
            "4802/4802 - 1s - loss: 0.0126 - val_loss: 0.0103 - 1s/epoch - 311us/sample\n",
            "Epoch 40/50\n",
            "4802/4802 - 1s - loss: 0.0114 - val_loss: 0.0106 - 1s/epoch - 301us/sample\n",
            "Epoch 41/50\n",
            "4802/4802 - 1s - loss: 0.0117 - val_loss: 0.0094 - 1s/epoch - 300us/sample\n",
            "Epoch 42/50\n",
            "4802/4802 - 1s - loss: 0.0114 - val_loss: 0.0119 - 1s/epoch - 305us/sample\n",
            "Epoch 43/50\n",
            "4802/4802 - 1s - loss: 0.0132 - val_loss: 0.0144 - 1s/epoch - 304us/sample\n",
            "Epoch 44/50\n",
            "4802/4802 - 1s - loss: 0.0126 - val_loss: 0.0127 - 1s/epoch - 304us/sample\n",
            "Epoch 45/50\n",
            "4802/4802 - 1s - loss: 0.0115 - val_loss: 0.0104 - 1s/epoch - 304us/sample\n",
            "Epoch 46/50\n",
            "4802/4802 - 1s - loss: 0.0108 - val_loss: 0.0074 - 1s/epoch - 302us/sample\n",
            "Epoch 47/50\n",
            "4802/4802 - 1s - loss: 0.0106 - val_loss: 0.0110 - 1s/epoch - 309us/sample\n",
            "Epoch 48/50\n",
            "4802/4802 - 1s - loss: 0.0115 - val_loss: 0.0093 - 1s/epoch - 310us/sample\n",
            "Epoch 49/50\n",
            "4802/4802 - 2s - loss: 0.0118 - val_loss: 0.0090 - 2s/epoch - 315us/sample\n",
            "Epoch 50/50\n",
            "4802/4802 - 1s - loss: 0.0102 - val_loss: 0.0085 - 1s/epoch - 307us/sample\n"
          ]
        }
      ]
    },
    {
      "cell_type": "code",
      "metadata": {
        "id": "7puw8MGsDKYE"
      },
      "source": [
        "encoder = Model(inputs=input_data_shape, outputs=bottleneck)"
      ],
      "execution_count": null,
      "outputs": []
    },
    {
      "cell_type": "code",
      "metadata": {
        "colab": {
          "base_uri": "https://localhost:8080/"
        },
        "id": "VmMeWwF4PHrw",
        "outputId": "9d5924c8-801b-4970-dcd9-0f2ac810945a"
      },
      "source": [
        "encoded_X_train = encoder.predict(X)\n",
        "encoded_X_val = encoder.predict(X_val)\n",
        "encoded_X_test = encoder.predict(X_test)"
      ],
      "execution_count": null,
      "outputs": [
        {
          "name": "stderr",
          "output_type": "stream",
          "text": [
            "/usr/local/lib/python3.7/dist-packages/keras/engine/training_v1.py:2079: UserWarning: `Model.state_updates` will be removed in a future version. This property should not be used in TensorFlow 2.0, as `updates` are applied automatically.\n",
            "  updates=self.state_updates,\n"
          ]
        }
      ]
    },
    {
      "cell_type": "code",
      "metadata": {
        "colab": {
          "base_uri": "https://localhost:8080/"
        },
        "id": "-3ta6YPUPHvY",
        "outputId": "9c948e0d-53c3-4c12-bb0d-b071ea8a8ace"
      },
      "source": [
        "encoded_X_train.shape, encoded_X_val.shape, encoded_X_test.shape"
      ],
      "execution_count": null,
      "outputs": [
        {
          "data": {
            "text/plain": [
              "((4802, 384), (1201, 384), (323, 384))"
            ]
          },
          "execution_count": 113,
          "metadata": {},
          "output_type": "execute_result"
        }
      ]
    },
    {
      "cell_type": "code",
      "metadata": {
        "id": "COvJJkvnPHyp"
      },
      "source": [
        "df_train['label']=df_train['label'].replace([-1], 0)\n",
        "df_test['label']=df_test['label'].replace([-1], 0)\n",
        "df_val['label']=df_val['label'].replace([-1], 0)"
      ],
      "execution_count": null,
      "outputs": []
    },
    {
      "cell_type": "code",
      "metadata": {
        "id": "tsTj6DtuPZVu"
      },
      "source": [
        "train_new = []\n",
        "for i in range(len(encoded_X_train)):\n",
        "  train_new.append(encoded_X_train[i])\n",
        "\n",
        "val_new = []\n",
        "for i in range(len(encoded_X_val)):\n",
        "  val_new.append(encoded_X_val[i])\n",
        "\n",
        "test_new = []\n",
        "for i in range(len(encoded_X_test)):\n",
        "  test_new.append(encoded_X_test[i])"
      ],
      "execution_count": null,
      "outputs": []
    },
    {
      "cell_type": "code",
      "metadata": {
        "colab": {
          "base_uri": "https://localhost:8080/",
          "height": 204
        },
        "id": "1OS_LlQvPZZf",
        "outputId": "51002fc9-7518-4661-9b7e-de764d75a883"
      },
      "source": [
        "df_train_AE = pd.DataFrame({'emb': train_new, 'label': df_train['label'], })\n",
        "df_train_AE.head()"
      ],
      "execution_count": null,
      "outputs": [
        {
          "data": {
            "text/html": [
              "<div>\n",
              "<style scoped>\n",
              "    .dataframe tbody tr th:only-of-type {\n",
              "        vertical-align: middle;\n",
              "    }\n",
              "\n",
              "    .dataframe tbody tr th {\n",
              "        vertical-align: top;\n",
              "    }\n",
              "\n",
              "    .dataframe thead th {\n",
              "        text-align: right;\n",
              "    }\n",
              "</style>\n",
              "<table border=\"1\" class=\"dataframe\">\n",
              "  <thead>\n",
              "    <tr style=\"text-align: right;\">\n",
              "      <th></th>\n",
              "      <th>emb</th>\n",
              "      <th>label</th>\n",
              "    </tr>\n",
              "  </thead>\n",
              "  <tbody>\n",
              "    <tr>\n",
              "      <th>0</th>\n",
              "      <td>[-4.3024397, 2.3636866, 2.816764, -12.547205, ...</td>\n",
              "      <td>9</td>\n",
              "    </tr>\n",
              "    <tr>\n",
              "      <th>1</th>\n",
              "      <td>[-8.054973, 2.0453143, 3.110504, -5.7583222, -...</td>\n",
              "      <td>2</td>\n",
              "    </tr>\n",
              "    <tr>\n",
              "      <th>2</th>\n",
              "      <td>[-2.8526738, -2.545114, 0.563109, 3.5397947, -...</td>\n",
              "      <td>8</td>\n",
              "    </tr>\n",
              "    <tr>\n",
              "      <th>3</th>\n",
              "      <td>[-4.0490623, -3.1458907, -2.5589633, 5.231922,...</td>\n",
              "      <td>9</td>\n",
              "    </tr>\n",
              "    <tr>\n",
              "      <th>4</th>\n",
              "      <td>[3.0738268, -5.124467, 1.1387714, 11.224683, -...</td>\n",
              "      <td>1</td>\n",
              "    </tr>\n",
              "  </tbody>\n",
              "</table>\n",
              "</div>"
            ],
            "text/plain": [
              "                                                 emb  label\n",
              "0  [-4.3024397, 2.3636866, 2.816764, -12.547205, ...      9\n",
              "1  [-8.054973, 2.0453143, 3.110504, -5.7583222, -...      2\n",
              "2  [-2.8526738, -2.545114, 0.563109, 3.5397947, -...      8\n",
              "3  [-4.0490623, -3.1458907, -2.5589633, 5.231922,...      9\n",
              "4  [3.0738268, -5.124467, 1.1387714, 11.224683, -...      1"
            ]
          },
          "execution_count": 116,
          "metadata": {},
          "output_type": "execute_result"
        }
      ]
    },
    {
      "cell_type": "code",
      "metadata": {
        "colab": {
          "base_uri": "https://localhost:8080/",
          "height": 204
        },
        "id": "h1YKMdOHPZc8",
        "outputId": "f87c7f8b-3940-42c4-ed63-576523e807a3"
      },
      "source": [
        "df_val_AE = pd.DataFrame({'emb': val_new, 'label': df_val['label'], })\n",
        "df_val_AE.head()"
      ],
      "execution_count": null,
      "outputs": [
        {
          "data": {
            "text/html": [
              "<div>\n",
              "<style scoped>\n",
              "    .dataframe tbody tr th:only-of-type {\n",
              "        vertical-align: middle;\n",
              "    }\n",
              "\n",
              "    .dataframe tbody tr th {\n",
              "        vertical-align: top;\n",
              "    }\n",
              "\n",
              "    .dataframe thead th {\n",
              "        text-align: right;\n",
              "    }\n",
              "</style>\n",
              "<table border=\"1\" class=\"dataframe\">\n",
              "  <thead>\n",
              "    <tr style=\"text-align: right;\">\n",
              "      <th></th>\n",
              "      <th>emb</th>\n",
              "      <th>label</th>\n",
              "    </tr>\n",
              "  </thead>\n",
              "  <tbody>\n",
              "    <tr>\n",
              "      <th>0</th>\n",
              "      <td>[2.7454035, -1.5428226, 6.6428924, 0.5847402, ...</td>\n",
              "      <td>1</td>\n",
              "    </tr>\n",
              "    <tr>\n",
              "      <th>1</th>\n",
              "      <td>[-7.5359325, -6.0648036, 4.0192766, 1.1574211,...</td>\n",
              "      <td>2</td>\n",
              "    </tr>\n",
              "    <tr>\n",
              "      <th>2</th>\n",
              "      <td>[6.214392, -2.002979, 3.169138, 7.0628386, -4....</td>\n",
              "      <td>1</td>\n",
              "    </tr>\n",
              "    <tr>\n",
              "      <th>3</th>\n",
              "      <td>[1.3781863, -6.610823, -2.3278978, -6.0558605,...</td>\n",
              "      <td>10</td>\n",
              "    </tr>\n",
              "    <tr>\n",
              "      <th>4</th>\n",
              "      <td>[-3.2538214, 6.5882974, 0.5796867, 8.042603, 8...</td>\n",
              "      <td>8</td>\n",
              "    </tr>\n",
              "  </tbody>\n",
              "</table>\n",
              "</div>"
            ],
            "text/plain": [
              "                                                 emb  label\n",
              "0  [2.7454035, -1.5428226, 6.6428924, 0.5847402, ...      1\n",
              "1  [-7.5359325, -6.0648036, 4.0192766, 1.1574211,...      2\n",
              "2  [6.214392, -2.002979, 3.169138, 7.0628386, -4....      1\n",
              "3  [1.3781863, -6.610823, -2.3278978, -6.0558605,...     10\n",
              "4  [-3.2538214, 6.5882974, 0.5796867, 8.042603, 8...      8"
            ]
          },
          "execution_count": 117,
          "metadata": {},
          "output_type": "execute_result"
        }
      ]
    },
    {
      "cell_type": "code",
      "metadata": {
        "colab": {
          "base_uri": "https://localhost:8080/",
          "height": 204
        },
        "id": "SMH0WS1rPH19",
        "outputId": "944e8fd2-87a0-462f-b58d-c082675b5f7e"
      },
      "source": [
        "df_test_AE = pd.DataFrame({'emb': test_new, 'label': df_test['label'], })\n",
        "df_test_AE.head()\n"
      ],
      "execution_count": null,
      "outputs": [
        {
          "data": {
            "text/html": [
              "<div>\n",
              "<style scoped>\n",
              "    .dataframe tbody tr th:only-of-type {\n",
              "        vertical-align: middle;\n",
              "    }\n",
              "\n",
              "    .dataframe tbody tr th {\n",
              "        vertical-align: top;\n",
              "    }\n",
              "\n",
              "    .dataframe thead th {\n",
              "        text-align: right;\n",
              "    }\n",
              "</style>\n",
              "<table border=\"1\" class=\"dataframe\">\n",
              "  <thead>\n",
              "    <tr style=\"text-align: right;\">\n",
              "      <th></th>\n",
              "      <th>emb</th>\n",
              "      <th>label</th>\n",
              "    </tr>\n",
              "  </thead>\n",
              "  <tbody>\n",
              "    <tr>\n",
              "      <th>0</th>\n",
              "      <td>[3.3437214, -3.637602, 0.9382653, 10.596284, 2...</td>\n",
              "      <td>1</td>\n",
              "    </tr>\n",
              "    <tr>\n",
              "      <th>1</th>\n",
              "      <td>[-0.652828, 2.7015088, 4.1762905, -9.405259, -...</td>\n",
              "      <td>9</td>\n",
              "    </tr>\n",
              "    <tr>\n",
              "      <th>2</th>\n",
              "      <td>[0.58551836, 6.244478, -1.1479185, -3.0717964,...</td>\n",
              "      <td>8</td>\n",
              "    </tr>\n",
              "    <tr>\n",
              "      <th>3</th>\n",
              "      <td>[1.7630512, -5.576471, -0.50399345, 10.565766,...</td>\n",
              "      <td>1</td>\n",
              "    </tr>\n",
              "    <tr>\n",
              "      <th>4</th>\n",
              "      <td>[1.5393056, 3.4665086, -7.248259, 13.324086, -...</td>\n",
              "      <td>4</td>\n",
              "    </tr>\n",
              "  </tbody>\n",
              "</table>\n",
              "</div>"
            ],
            "text/plain": [
              "                                                 emb  label\n",
              "0  [3.3437214, -3.637602, 0.9382653, 10.596284, 2...      1\n",
              "1  [-0.652828, 2.7015088, 4.1762905, -9.405259, -...      9\n",
              "2  [0.58551836, 6.244478, -1.1479185, -3.0717964,...      8\n",
              "3  [1.7630512, -5.576471, -0.50399345, 10.565766,...      1\n",
              "4  [1.5393056, 3.4665086, -7.248259, 13.324086, -...      4"
            ]
          },
          "execution_count": 118,
          "metadata": {},
          "output_type": "execute_result"
        }
      ]
    },
    {
      "cell_type": "code",
      "metadata": {
        "colab": {
          "base_uri": "https://localhost:8080/"
        },
        "id": "wkPe0b3gDKbj",
        "outputId": "fd14e4fd-644d-4c05-c6c3-384960831706"
      },
      "source": [
        "df_train_AE.shape, df_val_AE.shape, df_test_AE.shape"
      ],
      "execution_count": null,
      "outputs": [
        {
          "data": {
            "text/plain": [
              "((4802, 2), (1201, 2), (323, 2))"
            ]
          },
          "execution_count": 119,
          "metadata": {},
          "output_type": "execute_result"
        }
      ]
    },
    {
      "cell_type": "code",
      "metadata": {
        "id": "5vGv0aPYDAu0"
      },
      "source": [
        "df_train_AE['label']=df_train_AE['label'].replace([-1], 0)\n",
        "df_test_AE['label']=df_test_AE['label'].replace([-1], 0)\n",
        "df_val_AE['label']=df_val_AE['label'].replace([-1], 0)"
      ],
      "execution_count": null,
      "outputs": []
    },
    {
      "cell_type": "code",
      "metadata": {
        "colab": {
          "base_uri": "https://localhost:8080/"
        },
        "id": "AWSdi_OwQCnx",
        "outputId": "32f6c934-00cb-4d1e-a249-46b0ae944c2d"
      },
      "source": [
        "df_train_AE['emb'][2].shape"
      ],
      "execution_count": null,
      "outputs": [
        {
          "data": {
            "text/plain": [
              "(384,)"
            ]
          },
          "execution_count": 121,
          "metadata": {},
          "output_type": "execute_result"
        }
      ]
    },
    {
      "cell_type": "code",
      "metadata": {
        "id": "SyfABNhsP7kU"
      },
      "source": [
        "num_sequences = len(df_train_AE['emb'].to_list())\n",
        "batch_size = 7\n",
        "batches_per_epoch = 686\n",
        "assert batch_size * batches_per_epoch == num_sequences\n",
        "num_features= 384\n",
        "def train_generator_encoder(df):\n",
        "    x_list= df['emb'].to_list()\n",
        "    y_list =  df.label.to_list()\n",
        "    # Generate batches\n",
        "    while True:\n",
        "        for b in range(batches_per_epoch):\n",
        "            longest_index = (b + 1) * batch_size - 1\n",
        "            timesteps = len(max(df['emb'].to_list()[:(b + 1) * batch_size][-batch_size:], key=len))\n",
        "            x_train = np.full((batch_size, timesteps, num_features), -99.)\n",
        "            y_train = np.zeros((batch_size,  1))\n",
        "            for i in range(batch_size):\n",
        "                li = b * batch_size + i\n",
        "                x_train[i, 0:len(x_list[li]), :] = x_list[li]\n",
        "                y_train[i] = y_list[li]\n",
        "            yield x_train, y_train"
      ],
      "execution_count": null,
      "outputs": []
    },
    {
      "cell_type": "code",
      "metadata": {
        "id": "yXzwC0F1P7rG"
      },
      "source": [
        "num_sequences_val = len(df_val_AE['emb'].to_list())\n",
        "batch_size_val = 1\n",
        "batches_per_epoch_val = 1201\n",
        "assert batch_size_val * batches_per_epoch_val == num_sequences_val\n",
        "num_features= 384\n",
        "def val_generator_encoder(df):\n",
        "    x_list= df['emb'].to_list()\n",
        "    y_list =  df.label.to_list()\n",
        "    # Generate batches\n",
        "    while True:\n",
        "        for b in range(batches_per_epoch_val):\n",
        "            longest_index = (b + 1) * batch_size_val - 1\n",
        "            timesteps = len(max(df['emb'].to_list()[:(b + 1) * batch_size_val][-31:], key=len))\n",
        "            x_train = np.full((batch_size_val, timesteps, num_features), -99.)\n",
        "            y_train = np.zeros((batch_size_val,  1))\n",
        "            for i in range(batch_size_val):\n",
        "                li = b * batch_size_val + i\n",
        "                x_train[i, 0:len(x_list[li]), :] = x_list[li]\n",
        "                y_train[i] = y_list[li]\n",
        "            yield x_train, y_train"
      ],
      "execution_count": null,
      "outputs": []
    },
    {
      "cell_type": "code",
      "metadata": {
        "colab": {
          "base_uri": "https://localhost:8080/"
        },
        "id": "E6QMTl1_QXhK",
        "outputId": "0b508865-d45c-4565-ca17-15ac62656bc4"
      },
      "source": [
        "text_input = Input(shape=(None,384,), dtype='float32', name='text')\n",
        "\n",
        "l_mask = layers.Masking(mask_value=-99.)(text_input)\n",
        "# Which we encoded in a single vector via a LSTM\n",
        "encoded_text = layers.LSTM(100,)(l_mask)\n",
        "out_dense = layers.Dense(30, activation='relu')(encoded_text)\n",
        "# And we add a softmax classifier on top\n",
        "out = layers.Dense(len(df_train_AE['label'].unique()), activation='softmax')(out_dense)\n",
        "# At model instantiation, we specify the input and the output:\n",
        "model_Auto = Model(text_input, out)\n",
        "model_Auto.compile(optimizer=tf.keras.optimizers.Adam(clipvalue=0.5),\n",
        "              loss='sparse_categorical_crossentropy',\n",
        "              metrics=['acc'])\n",
        "model_Auto.summary()"
      ],
      "execution_count": null,
      "outputs": [
        {
          "name": "stdout",
          "output_type": "stream",
          "text": [
            "Model: \"model_2\"\n",
            "_________________________________________________________________\n",
            " Layer (type)                Output Shape              Param #   \n",
            "=================================================================\n",
            " text (InputLayer)           [(None, None, 384)]       0         \n",
            "                                                                 \n",
            " masking (Masking)           (None, None, 384)         0         \n",
            "                                                                 \n",
            " lstm (LSTM)                 (None, 100)               194000    \n",
            "                                                                 \n",
            " dense_6 (Dense)             (None, 30)                3030      \n",
            "                                                                 \n",
            " dense_7 (Dense)             (None, 15)                465       \n",
            "                                                                 \n",
            "=================================================================\n",
            "Total params: 197,495\n",
            "Trainable params: 197,495\n",
            "Non-trainable params: 0\n",
            "_________________________________________________________________\n"
          ]
        }
      ]
    },
    {
      "cell_type": "code",
      "metadata": {
        "colab": {
          "base_uri": "https://localhost:8080/"
        },
        "id": "8jPwjuMiP7wP",
        "outputId": "fc8a2aae-1ca8-4fd1-ace1-82a928fcef59"
      },
      "source": [
        "ES=tf.keras.callbacks.EarlyStopping(patience=5, restore_best_weights=True)\n",
        "model_Auto.fit_generator(train_generator_encoder(df_train_AE), steps_per_epoch=batches_per_epoch, epochs=50,validation_data=val_generator_encoder(df_val_AE), validation_steps=batches_per_epoch_val,callbacks=[ES])"
      ],
      "execution_count": null,
      "outputs": [
        {
          "name": "stderr",
          "output_type": "stream",
          "text": [
            "/usr/local/lib/python3.7/dist-packages/ipykernel_launcher.py:2: UserWarning: `model.fit_generator` is deprecated and will be removed in a future version. Please use `Model.fit`, which supports generators.\n",
            "  \n"
          ]
        },
        {
          "name": "stdout",
          "output_type": "stream",
          "text": [
            "Epoch 1/50\n",
            "686/686 [==============================] - ETA: 0s - batch: 342.5000 - size: 7.0000 - loss: 0.8805 - acc: 0.7557"
          ]
        },
        {
          "name": "stderr",
          "output_type": "stream",
          "text": [
            "/usr/local/lib/python3.7/dist-packages/keras/engine/training_v1.py:2057: UserWarning: `Model.state_updates` will be removed in a future version. This property should not be used in TensorFlow 2.0, as `updates` are applied automatically.\n",
            "  updates = self.state_updates\n"
          ]
        },
        {
          "name": "stdout",
          "output_type": "stream",
          "text": [
            "\b\b\b\b\b\b\b\b\b\b\b\b\b\b\b\b\b\b\b\b\b\b\b\b\b\b\b\b\b\b\b\b\b\b\b\b\b\b\b\b\b\b\b\b\b\b\b\b\b\b\b\b\b\b\b\b\b\b\b\b\b\b\b\b\b\b\b\b\b\b\b\b\b\b\b\b\b\b\b\b\b\b\b\b\b\b\b\b\b\b\b\b\b\b\b\b\b\b\b\b\b\b\b\b\b\b\b\b\b\b\b\b\r686/686 [==============================] - 353s 514ms/step - batch: 342.5000 - size: 7.0000 - loss: 0.8805 - acc: 0.7557 - val_loss: 0.9151 - val_acc: 0.7227\n",
            "Epoch 2/50\n",
            "686/686 [==============================] - 351s 511ms/step - batch: 342.5000 - size: 7.0000 - loss: 0.7291 - acc: 0.7763 - val_loss: 0.8750 - val_acc: 0.7261\n",
            "Epoch 3/50\n",
            "686/686 [==============================] - 351s 512ms/step - batch: 342.5000 - size: 7.0000 - loss: 0.6962 - acc: 0.7836 - val_loss: 0.8716 - val_acc: 0.7286\n",
            "Epoch 4/50\n",
            "686/686 [==============================] - 350s 511ms/step - batch: 342.5000 - size: 7.0000 - loss: 0.6811 - acc: 0.7870 - val_loss: 0.8738 - val_acc: 0.7277\n",
            "Epoch 5/50\n",
            "686/686 [==============================] - 349s 509ms/step - batch: 342.5000 - size: 7.0000 - loss: 0.6731 - acc: 0.7865 - val_loss: 0.8538 - val_acc: 0.7327\n",
            "Epoch 6/50\n",
            "686/686 [==============================] - 346s 505ms/step - batch: 342.5000 - size: 7.0000 - loss: 0.6783 - acc: 0.7830 - val_loss: 0.8612 - val_acc: 0.7386\n",
            "Epoch 7/50\n",
            "686/686 [==============================] - 347s 506ms/step - batch: 342.5000 - size: 7.0000 - loss: 0.6560 - acc: 0.7980 - val_loss: 0.8602 - val_acc: 0.7344\n",
            "Epoch 8/50\n",
            "686/686 [==============================] - 349s 509ms/step - batch: 342.5000 - size: 7.0000 - loss: 0.6533 - acc: 0.7951 - val_loss: 0.8738 - val_acc: 0.7336\n",
            "Epoch 9/50\n",
            "686/686 [==============================] - 347s 505ms/step - batch: 342.5000 - size: 7.0000 - loss: 0.6427 - acc: 0.7928 - val_loss: 0.8689 - val_acc: 0.7361\n",
            "Epoch 10/50\n",
            "686/686 [==============================] - 349s 509ms/step - batch: 342.5000 - size: 7.0000 - loss: 0.6402 - acc: 0.7918 - val_loss: 0.8660 - val_acc: 0.7361\n"
          ]
        },
        {
          "data": {
            "text/plain": [
              "<keras.callbacks.History at 0x7f69fc562f10>"
            ]
          },
          "execution_count": 125,
          "metadata": {},
          "output_type": "execute_result"
        }
      ]
    },
    {
      "cell_type": "code",
      "metadata": {
        "colab": {
          "base_uri": "https://localhost:8080/"
        },
        "id": "Y_YUFB5fP73e",
        "outputId": "0b37ff32-9ac8-4512-af22-15628df24bc8"
      },
      "source": [
        "# num_sequences_val = len(df_test_AE['emb'].to_list())\n",
        "# batch_size_val = 1\n",
        "# batches_per_epoch_val = 323\n",
        "# assert batch_size_val * batches_per_epoch_val == num_sequences_val\n",
        "# num_features= 384\n",
        "# modelAuto.evaluate_generator(val_generator_encoder(df_test_AE), steps= batches_per_epoch_val)"
      ],
      "execution_count": null,
      "outputs": [
        {
          "name": "stderr",
          "output_type": "stream",
          "text": [
            "/usr/local/lib/python3.7/dist-packages/ipykernel_launcher.py:6: UserWarning: `Model.evaluate_generator` is deprecated and will be removed in a future version. Please use `Model.evaluate`, which supports generators.\n",
            "  \n"
          ]
        },
        {
          "data": {
            "text/plain": [
              "[0.6048846772941112, 0.81424147]"
            ]
          },
          "execution_count": 126,
          "metadata": {},
          "output_type": "execute_result"
        }
      ]
    },
    {
      "cell_type": "code",
      "metadata": {
        "colab": {
          "base_uri": "https://localhost:8080/"
        },
        "id": "8rP62d5rRCTJ",
        "outputId": "57abb1ca-f9cc-41dd-e7bb-49515081226a"
      },
      "source": [
        "# y_proba=modelAuto.predict(val_generator_encoder(df_test_AE), steps= batches_per_epoch_val)"
      ],
      "execution_count": null,
      "outputs": [
        {
          "name": "stderr",
          "output_type": "stream",
          "text": [
            "/usr/local/lib/python3.7/dist-packages/keras/engine/training_v1.py:2079: UserWarning: `Model.state_updates` will be removed in a future version. This property should not be used in TensorFlow 2.0, as `updates` are applied automatically.\n",
            "  updates=self.state_updates,\n"
          ]
        }
      ]
    },
    {
      "cell_type": "code",
      "metadata": {
        "id": "MaL0pSSWRCXY"
      },
      "source": [
        "# y_pred=[]\n",
        "# for i in y_proba:\n",
        "#     max_index_row = np.argmax(i, axis=0)\n",
        "#     y_pred.append(max_index_row)"
      ],
      "execution_count": null,
      "outputs": []
    },
    {
      "cell_type": "code",
      "metadata": {
        "colab": {
          "base_uri": "https://localhost:8080/"
        },
        "id": "hVn6iLutRCbm",
        "outputId": "2f602708-7c2b-4691-a477-235320d4b9ce"
      },
      "source": [
        "# from sklearn.metrics import classification_report, confusion_matrix\n",
        "# print('Confusion Matrix')\n",
        "# print(confusion_matrix(y_pred, df_test_AE['label']))\n",
        "# print('Classification Report')\n",
        "# print(classification_report(y_pred, df_test_AE['label']))"
      ],
      "execution_count": null,
      "outputs": [
        {
          "name": "stdout",
          "output_type": "stream",
          "text": [
            "Confusion Matrix\n",
            "[[70  1  0  5  0  0  0  0  3  0  0  0]\n",
            " [ 1 40  0  0  0  0  0  0  6  1  0  0]\n",
            " [ 0  1 11  0  1  0  0  1  2  0  0  0]\n",
            " [ 0  0  0  5  0  0  0  1  0  0  0  0]\n",
            " [ 0  0  0  0  0  0  0  0  0  0  0  0]\n",
            " [ 0  0  0  0  0  2  0  0  0  0  0  0]\n",
            " [ 0  0  1  0  0  0 16  0  5  1  0  0]\n",
            " [ 0  0  0  0  0  0  0 64 10  2  0  2]\n",
            " [ 1  1  0  1  0  0  0  3 33  1  0  0]\n",
            " [ 0  0  0  0  0  0  1  4  0  3  0  0]\n",
            " [ 0  0  0  0  0  0  0  0  0  1  4  0]\n",
            " [ 0  0  0  0  0  0  0  2  1  0  0 15]]\n",
            "Classification Report\n",
            "              precision    recall  f1-score   support\n",
            "\n",
            "           1       0.97      0.89      0.93        79\n",
            "           2       0.93      0.83      0.88        48\n",
            "           3       0.92      0.69      0.79        16\n",
            "           4       0.45      0.83      0.59         6\n",
            "           5       0.00      0.00      0.00         0\n",
            "           6       1.00      1.00      1.00         2\n",
            "           7       0.94      0.70      0.80        23\n",
            "           8       0.85      0.82      0.84        78\n",
            "           9       0.55      0.82      0.66        40\n",
            "          10       0.33      0.38      0.35         8\n",
            "          11       1.00      0.80      0.89         5\n",
            "          12       0.88      0.83      0.86        18\n",
            "\n",
            "    accuracy                           0.81       323\n",
            "   macro avg       0.74      0.72      0.71       323\n",
            "weighted avg       0.85      0.81      0.82       323\n",
            "\n"
          ]
        },
        {
          "name": "stderr",
          "output_type": "stream",
          "text": [
            "/usr/local/lib/python3.7/dist-packages/sklearn/metrics/_classification.py:1308: UndefinedMetricWarning: Recall and F-score are ill-defined and being set to 0.0 in labels with no true samples. Use `zero_division` parameter to control this behavior.\n",
            "  _warn_prf(average, modifier, msg_start, len(result))\n",
            "/usr/local/lib/python3.7/dist-packages/sklearn/metrics/_classification.py:1308: UndefinedMetricWarning: Recall and F-score are ill-defined and being set to 0.0 in labels with no true samples. Use `zero_division` parameter to control this behavior.\n",
            "  _warn_prf(average, modifier, msg_start, len(result))\n",
            "/usr/local/lib/python3.7/dist-packages/sklearn/metrics/_classification.py:1308: UndefinedMetricWarning: Recall and F-score are ill-defined and being set to 0.0 in labels with no true samples. Use `zero_division` parameter to control this behavior.\n",
            "  _warn_prf(average, modifier, msg_start, len(result))\n"
          ]
        }
      ]
    },
    {
      "cell_type": "code",
      "metadata": {
        "colab": {
          "base_uri": "https://localhost:8080/"
        },
        "id": "jtVjYutQRdrK",
        "outputId": "d19d64dd-4e3b-4915-81f9-0d27724c22af"
      },
      "source": [
        "# mat = confusion_matrix(y_pred, df_test_AE['label'])\n",
        "\n",
        "# diag = np.diagonal(mat)\n",
        "# print('No of correctly identified labels :',sum(diag))\n",
        "# print('No of misclassified samples : ',sum(sum(mat))-sum(diag))"
      ],
      "execution_count": null,
      "outputs": [
        {
          "name": "stdout",
          "output_type": "stream",
          "text": [
            "No of correctly identified labels : 263\n",
            "No of misclassified samples :  60\n"
          ]
        }
      ]
    },
    {
      "cell_type": "markdown",
      "metadata": {
        "id": "9ozCaVe88sd4"
      },
      "source": [
        "# Dataset Variance"
      ]
    },
    {
      "cell_type": "code",
      "metadata": {
        "id": "wrSPG78ZRpvQ"
      },
      "source": [
        "# train_var=[]\n",
        "# for data in range(df_train['emb'].shape[0]):\n",
        "#   if len(df_train['emb'][data]) !=1:\n",
        "#     covMatrix = np.cov(df_train['emb'][data],bias=True)\n",
        "#     eigen_vals , eigen_vectors = np.linalg.eig(covMatrix)\n",
        "\n",
        "#     # Make a list of (eigenvalue, eigenvector) tuples\n",
        "#     eig_pairs = [(np.abs(eigen_vals[i]), eigen_vectors[:,i]) for i in range(len(eigen_vals))]\n",
        "\n",
        "#     tot = sum(eigen_vals)\n",
        "#     var_exp = [(i / tot)*100 for i in eigen_vals]\n",
        "#     cum_var_exp = np.cumsum(var_exp)\n",
        "\n",
        "#     temp=[] \n",
        "#     for i in range(len(var_exp)):\n",
        "#       if var_exp[i] > 5:\n",
        "#         temp.append(df_train['emb'][data][i])\n",
        "#     train_var.append(temp)\n",
        "#   else:\n",
        "#     train_var.append(df_train['emb'][data])"
      ],
      "execution_count": null,
      "outputs": []
    },
    {
      "cell_type": "code",
      "metadata": {
        "id": "rLQsWY1WX2up"
      },
      "source": [
        "#Stacking\n",
        "train_var=[]\n",
        "for data in range(df_train['emb'].shape[0]):\n",
        "  temp={}\n",
        "  if len(df_train['emb'][data]) !=1:\n",
        "    covMatrix = np.cov(df_train['emb'][data],bias=True)\n",
        "    eigen_vals , eigen_vectors = np.linalg.eig(covMatrix)\n",
        "\n",
        "    # Make a list of (eigenvalue, eigenvector) tuples\n",
        "    eig_pairs = [(np.abs(eigen_vals[i]), eigen_vectors[:,i]) for i in range(len(eigen_vals))]\n",
        "\n",
        "    tot = sum(eigen_vals)\n",
        "    var_exp = [(i / tot)*100 for i in eigen_vals]\n",
        "    cum_var_exp = np.cumsum(var_exp)\n",
        "\n",
        "    for i in range(len(var_exp)):\n",
        "      if var_exp[i] > 5:\n",
        "         emb_l= df_train['emb'][data][i]\n",
        "         if data in temp.keys():\n",
        "            temp[data]  =np.vstack([temp[data],emb_l])  \n",
        "         else:\n",
        "            temp[data] = [emb_l]\n",
        "  else:\n",
        "    temp[data] =df_train['emb'][data]\n",
        "  train_var.append(temp[data])"
      ],
      "execution_count": null,
      "outputs": []
    },
    {
      "cell_type": "code",
      "metadata": {
        "id": "bUmJMEnrVQVh"
      },
      "source": [
        "df_train_var = pd.DataFrame({'emb': train_var, 'label': df_train['label']})\n",
        "df_train_var.head()\n",
        "df_train_var['mean_emb'] = df_train_var['emb'].apply(finding_mean)"
      ],
      "execution_count": null,
      "outputs": []
    },
    {
      "cell_type": "code",
      "metadata": {
        "colab": {
          "base_uri": "https://localhost:8080/",
          "height": 111
        },
        "id": "eAQv45HSawVn",
        "outputId": "f239573d-9465-4e2d-88d0-4025dd82ba5d"
      },
      "source": [
        "df_train.head(2)"
      ],
      "execution_count": null,
      "outputs": [
        {
          "data": {
            "text/html": [
              "<div>\n",
              "<style scoped>\n",
              "    .dataframe tbody tr th:only-of-type {\n",
              "        vertical-align: middle;\n",
              "    }\n",
              "\n",
              "    .dataframe tbody tr th {\n",
              "        vertical-align: top;\n",
              "    }\n",
              "\n",
              "    .dataframe thead th {\n",
              "        text-align: right;\n",
              "    }\n",
              "</style>\n",
              "<table border=\"1\" class=\"dataframe\">\n",
              "  <thead>\n",
              "    <tr style=\"text-align: right;\">\n",
              "      <th></th>\n",
              "      <th>emb</th>\n",
              "      <th>label</th>\n",
              "      <th>mean_emb</th>\n",
              "      <th>text_split_count</th>\n",
              "    </tr>\n",
              "  </thead>\n",
              "  <tbody>\n",
              "    <tr>\n",
              "      <th>0</th>\n",
              "      <td>[[0.7950534, 0.79878384, -0.5798626, -0.050817...</td>\n",
              "      <td>9</td>\n",
              "      <td>[0.7950534, 0.79878384, -0.5798626, -0.0508178...</td>\n",
              "      <td>1</td>\n",
              "    </tr>\n",
              "    <tr>\n",
              "      <th>1</th>\n",
              "      <td>[[0.8182535, -0.21112087, -0.81817025, -0.3567...</td>\n",
              "      <td>2</td>\n",
              "      <td>[0.7697828, -0.11324398, -0.6361579, -0.422237...</td>\n",
              "      <td>16</td>\n",
              "    </tr>\n",
              "  </tbody>\n",
              "</table>\n",
              "</div>"
            ],
            "text/plain": [
              "                                                 emb  ...  text_split_count\n",
              "0  [[0.7950534, 0.79878384, -0.5798626, -0.050817...  ...                 1\n",
              "1  [[0.8182535, -0.21112087, -0.81817025, -0.3567...  ...                16\n",
              "\n",
              "[2 rows x 4 columns]"
            ]
          },
          "execution_count": 114,
          "metadata": {},
          "output_type": "execute_result"
        }
      ]
    },
    {
      "cell_type": "code",
      "metadata": {
        "colab": {
          "base_uri": "https://localhost:8080/",
          "height": 111
        },
        "id": "ZBfw8kwMbmys",
        "outputId": "6064faa3-50c4-4167-cb75-1416400c450c"
      },
      "source": [
        "df_train_var.head(2)"
      ],
      "execution_count": null,
      "outputs": [
        {
          "data": {
            "text/html": [
              "<div>\n",
              "<style scoped>\n",
              "    .dataframe tbody tr th:only-of-type {\n",
              "        vertical-align: middle;\n",
              "    }\n",
              "\n",
              "    .dataframe tbody tr th {\n",
              "        vertical-align: top;\n",
              "    }\n",
              "\n",
              "    .dataframe thead th {\n",
              "        text-align: right;\n",
              "    }\n",
              "</style>\n",
              "<table border=\"1\" class=\"dataframe\">\n",
              "  <thead>\n",
              "    <tr style=\"text-align: right;\">\n",
              "      <th></th>\n",
              "      <th>emb</th>\n",
              "      <th>label</th>\n",
              "      <th>mean_emb</th>\n",
              "    </tr>\n",
              "  </thead>\n",
              "  <tbody>\n",
              "    <tr>\n",
              "      <th>0</th>\n",
              "      <td>[[0.7950534, 0.79878384, -0.5798626, -0.050817...</td>\n",
              "      <td>9</td>\n",
              "      <td>[0.7950534, 0.79878384, -0.5798626, -0.0508178...</td>\n",
              "    </tr>\n",
              "    <tr>\n",
              "      <th>1</th>\n",
              "      <td>[[0.8182535, -0.21112087, -0.81817025, -0.3567...</td>\n",
              "      <td>2</td>\n",
              "      <td>[0.855322, -0.17455941, -0.7710953, -0.4001314...</td>\n",
              "    </tr>\n",
              "  </tbody>\n",
              "</table>\n",
              "</div>"
            ],
            "text/plain": [
              "                                                 emb  ...                                           mean_emb\n",
              "0  [[0.7950534, 0.79878384, -0.5798626, -0.050817...  ...  [0.7950534, 0.79878384, -0.5798626, -0.0508178...\n",
              "1  [[0.8182535, -0.21112087, -0.81817025, -0.3567...  ...  [0.855322, -0.17455941, -0.7710953, -0.4001314...\n",
              "\n",
              "[2 rows x 3 columns]"
            ]
          },
          "execution_count": 115,
          "metadata": {},
          "output_type": "execute_result"
        }
      ]
    },
    {
      "cell_type": "code",
      "metadata": {
        "colab": {
          "base_uri": "https://localhost:8080/",
          "height": 111
        },
        "id": "y4ADG2aKV_pS",
        "outputId": "1c1a0250-93f0-4e9d-e83d-8a04000c1786"
      },
      "source": [
        "df_val.reset_index(drop=True, inplace=True)\n",
        "df_val.head(2)"
      ],
      "execution_count": null,
      "outputs": [
        {
          "data": {
            "text/html": [
              "<div>\n",
              "<style scoped>\n",
              "    .dataframe tbody tr th:only-of-type {\n",
              "        vertical-align: middle;\n",
              "    }\n",
              "\n",
              "    .dataframe tbody tr th {\n",
              "        vertical-align: top;\n",
              "    }\n",
              "\n",
              "    .dataframe thead th {\n",
              "        text-align: right;\n",
              "    }\n",
              "</style>\n",
              "<table border=\"1\" class=\"dataframe\">\n",
              "  <thead>\n",
              "    <tr style=\"text-align: right;\">\n",
              "      <th></th>\n",
              "      <th>emb</th>\n",
              "      <th>label</th>\n",
              "      <th>mean_emb</th>\n",
              "      <th>text_split_count</th>\n",
              "    </tr>\n",
              "  </thead>\n",
              "  <tbody>\n",
              "    <tr>\n",
              "      <th>0</th>\n",
              "      <td>[[0.12251592, 0.45227015, 0.88521975, 0.602111...</td>\n",
              "      <td>1</td>\n",
              "      <td>[0.12251592, 0.45227015, 0.88521975, 0.6021116...</td>\n",
              "      <td>1</td>\n",
              "    </tr>\n",
              "    <tr>\n",
              "      <th>1</th>\n",
              "      <td>[[0.87943757, -0.4988237, -0.83902764, -0.2709...</td>\n",
              "      <td>2</td>\n",
              "      <td>[0.6697558, -0.5287756, -0.7957989, 0.30580795...</td>\n",
              "      <td>13</td>\n",
              "    </tr>\n",
              "  </tbody>\n",
              "</table>\n",
              "</div>"
            ],
            "text/plain": [
              "                                                 emb  ...  text_split_count\n",
              "0  [[0.12251592, 0.45227015, 0.88521975, 0.602111...  ...                 1\n",
              "1  [[0.87943757, -0.4988237, -0.83902764, -0.2709...  ...                13\n",
              "\n",
              "[2 rows x 4 columns]"
            ]
          },
          "execution_count": 116,
          "metadata": {},
          "output_type": "execute_result"
        }
      ]
    },
    {
      "cell_type": "code",
      "metadata": {
        "id": "lbq-aRPUVdWJ"
      },
      "source": [
        "##creating the validation set \n",
        "val_var=[]\n",
        "for data in range(df_val['emb'].shape[0]):\n",
        "  temp={}\n",
        "  if len(df_val['emb'][data]) !=1:\n",
        "    covMatrix = np.cov(df_val['emb'][data],bias=True)\n",
        "    eigen_vals , eigen_vectors = np.linalg.eig(covMatrix)\n",
        "\n",
        "    # Make a list of (eigenvalue, eigenvector) tuples\n",
        "    eig_pairs = [(np.abs(eigen_vals[i]), eigen_vectors[:,i]) for i in range(len(eigen_vals))]\n",
        "\n",
        "    tot = sum(eigen_vals)\n",
        "    var_exp = [(i / tot)*100 for i in eigen_vals]\n",
        "    cum_var_exp = np.cumsum(var_exp)\n",
        "\n",
        "    for i in range(len(var_exp)):\n",
        "      if var_exp[i] > 5:\n",
        "         emb_l= df_val['emb'][data][i]\n",
        "         if data in temp.keys():\n",
        "            temp[data]  =np.vstack([temp[data],emb_l])  \n",
        "         else:\n",
        "            temp[data] = [emb_l]\n",
        "  else:\n",
        "    temp[data] =df_val['emb'][data]\n",
        "  val_var.append(temp[data])\n",
        "\n",
        "df_val_var = pd.DataFrame({'emb': val_var, 'label': df_val['label']})\n",
        "df_val_var.head()\n",
        "df_val_var['mean_emb'] = df_val_var['emb'].apply(finding_mean)"
      ],
      "execution_count": null,
      "outputs": []
    },
    {
      "cell_type": "code",
      "metadata": {
        "colab": {
          "base_uri": "https://localhost:8080/",
          "height": 111
        },
        "id": "gW5NYVLMWRlF",
        "outputId": "922dbce2-8206-43ab-e361-6ab9ffccb31f"
      },
      "source": [
        "df_test.reset_index(drop=True, inplace=True)\n",
        "df_test.head(2)"
      ],
      "execution_count": null,
      "outputs": [
        {
          "data": {
            "text/html": [
              "<div>\n",
              "<style scoped>\n",
              "    .dataframe tbody tr th:only-of-type {\n",
              "        vertical-align: middle;\n",
              "    }\n",
              "\n",
              "    .dataframe tbody tr th {\n",
              "        vertical-align: top;\n",
              "    }\n",
              "\n",
              "    .dataframe thead th {\n",
              "        text-align: right;\n",
              "    }\n",
              "</style>\n",
              "<table border=\"1\" class=\"dataframe\">\n",
              "  <thead>\n",
              "    <tr style=\"text-align: right;\">\n",
              "      <th></th>\n",
              "      <th>emb</th>\n",
              "      <th>label</th>\n",
              "      <th>mean_emb</th>\n",
              "      <th>text_split_count</th>\n",
              "    </tr>\n",
              "  </thead>\n",
              "  <tbody>\n",
              "    <tr>\n",
              "      <th>0</th>\n",
              "      <td>[[0.12968889, -0.112465054, 0.001667945, 0.956...</td>\n",
              "      <td>1</td>\n",
              "      <td>[0.11329863, -0.11095712, 0.043547522, 0.95512...</td>\n",
              "      <td>4</td>\n",
              "    </tr>\n",
              "    <tr>\n",
              "      <th>1</th>\n",
              "      <td>[[0.6948083, 0.74762285, 0.27276286, 0.4588301...</td>\n",
              "      <td>9</td>\n",
              "      <td>[0.7251519, 0.69565666, -0.004483938, 0.541375...</td>\n",
              "      <td>4</td>\n",
              "    </tr>\n",
              "  </tbody>\n",
              "</table>\n",
              "</div>"
            ],
            "text/plain": [
              "                                                 emb  ...  text_split_count\n",
              "0  [[0.12968889, -0.112465054, 0.001667945, 0.956...  ...                 4\n",
              "1  [[0.6948083, 0.74762285, 0.27276286, 0.4588301...  ...                 4\n",
              "\n",
              "[2 rows x 4 columns]"
            ]
          },
          "execution_count": 118,
          "metadata": {},
          "output_type": "execute_result"
        }
      ]
    },
    {
      "cell_type": "code",
      "metadata": {
        "id": "-jhFbivQVdb2"
      },
      "source": [
        "##creating the test data \n",
        "test_var=[]\n",
        "for data in range(df_test['emb'].shape[0]):\n",
        "  temp={}\n",
        "  if len(df_test['emb'][data]) !=1:\n",
        "    covMatrix = np.cov(df_test['emb'][data],bias=True)\n",
        "    eigen_vals , eigen_vectors = np.linalg.eig(covMatrix)\n",
        "\n",
        "    # Make a list of (eigenvalue, eigenvector) tuples\n",
        "    eig_pairs = [(np.abs(eigen_vals[i]), eigen_vectors[:,i]) for i in range(len(eigen_vals))]\n",
        "\n",
        "    tot = sum(eigen_vals)\n",
        "    var_exp = [(i / tot)*100 for i in eigen_vals]\n",
        "    cum_var_exp = np.cumsum(var_exp)\n",
        "\n",
        "    for i in range(len(var_exp)):\n",
        "      if var_exp[i] > 5:\n",
        "         emb_l= df_test['emb'][data][i]\n",
        "         if data in temp.keys():\n",
        "            temp[data]  =np.vstack([temp[data],emb_l])  \n",
        "         else:\n",
        "            temp[data] = [emb_l]\n",
        "  else:\n",
        "    temp[data] =df_test['emb'][data]\n",
        "  test_var.append(temp[data])\n",
        "\n",
        "df_test_var = pd.DataFrame({'emb': test_var, 'label': df_test['label']})\n",
        "df_test_var.head()\n",
        "df_test_var['mean_emb'] = df_test_var['emb'].apply(finding_mean)"
      ],
      "execution_count": null,
      "outputs": []
    },
    {
      "cell_type": "code",
      "metadata": {
        "colab": {
          "base_uri": "https://localhost:8080/"
        },
        "id": "wvPSoEJAXJiJ",
        "outputId": "310970cf-564a-4385-ee33-e30074abe73a"
      },
      "source": [
        "df_train_var.shape , df_val_var.shape, df_test_var.shape"
      ],
      "execution_count": null,
      "outputs": [
        {
          "data": {
            "text/plain": [
              "((4802, 3), (1201, 3), (323, 3))"
            ]
          },
          "execution_count": 120,
          "metadata": {},
          "output_type": "execute_result"
        }
      ]
    },
    {
      "cell_type": "code",
      "metadata": {
        "colab": {
          "base_uri": "https://localhost:8080/"
        },
        "id": "RTXEnCVqqQP4",
        "outputId": "c8db1f33-fddb-42be-9ac4-b38d983eb0e4"
      },
      "source": [
        "df_train.shape, df_val.shape, df_test.shape"
      ],
      "execution_count": null,
      "outputs": [
        {
          "data": {
            "text/plain": [
              "((4802, 4), (1201, 4), (323, 4))"
            ]
          },
          "execution_count": 121,
          "metadata": {},
          "output_type": "execute_result"
        }
      ]
    },
    {
      "cell_type": "code",
      "metadata": {
        "colab": {
          "base_uri": "https://localhost:8080/"
        },
        "id": "9jZ1FRNoUrgr",
        "outputId": "9eb05bbf-e622-47c9-d2c1-313ff45b9d7a"
      },
      "source": [
        "len(df_test['label'].unique())"
      ],
      "execution_count": null,
      "outputs": [
        {
          "data": {
            "text/plain": [
              "12"
            ]
          },
          "execution_count": 122,
          "metadata": {},
          "output_type": "execute_result"
        }
      ]
    },
    {
      "cell_type": "code",
      "metadata": {
        "colab": {
          "base_uri": "https://localhost:8080/"
        },
        "id": "gpBkkrq6ZiwV",
        "outputId": "c4445a44-8a6b-4e32-8413-36bbc5cba9d5"
      },
      "source": [
        "type(df_train_var['emb'][2])"
      ],
      "execution_count": null,
      "outputs": [
        {
          "data": {
            "text/plain": [
              "numpy.ndarray"
            ]
          },
          "execution_count": 123,
          "metadata": {},
          "output_type": "execute_result"
        }
      ]
    },
    {
      "cell_type": "code",
      "metadata": {
        "colab": {
          "base_uri": "https://localhost:8080/"
        },
        "id": "d-zcK5HKr8a7",
        "outputId": "93b19231-bf9b-4a4f-aae8-264e2496b82d"
      },
      "source": [
        "type(df_train['emb'][2])"
      ],
      "execution_count": null,
      "outputs": [
        {
          "data": {
            "text/plain": [
              "numpy.ndarray"
            ]
          },
          "execution_count": 124,
          "metadata": {},
          "output_type": "execute_result"
        }
      ]
    },
    {
      "cell_type": "markdown",
      "metadata": {
        "id": "YC9xV-ugVawg"
      },
      "source": [
        "# LSTM Mean for chunks with High variance"
      ]
    },
    {
      "cell_type": "code",
      "metadata": {
        "id": "a4rKpwRPWdS7"
      },
      "source": [
        "num_sequences = len(df_train_var['mean_emb'].to_list())\n",
        "batch_size =7\n",
        "batches_per_epoch =  686\n",
        "assert batch_size * batches_per_epoch == num_sequences\n",
        "num_features= 768\n",
        "def train_generator_new(df):\n",
        "    x_list= df['mean_emb'].to_list()\n",
        "    y_list =  df.label.to_list()\n",
        "    # Generate batches\n",
        "    while True:\n",
        "        for b in range(batches_per_epoch):\n",
        "            longest_index = (b + 1) * batch_size - 1\n",
        "            timesteps = len(max(df['mean_emb'].to_list()[:(b + 1) * batch_size][-batch_size:], key=len))\n",
        "            x_train = np.full((batch_size, timesteps, num_features), -99.)\n",
        "            y_train = np.zeros((batch_size,  1))\n",
        "            for i in range(batch_size):\n",
        "                li = b * batch_size + i\n",
        "                x_train[i, 0:len(x_list[li]), :] = x_list[li]\n",
        "                y_train[i] = y_list[li]\n",
        "            #print('train : ',x_train.shape, y_train.shape)\n",
        "            yield x_train, y_train"
      ],
      "execution_count": null,
      "outputs": []
    },
    {
      "cell_type": "code",
      "metadata": {
        "id": "2c1NfbltWdWT"
      },
      "source": [
        "num_sequences_val = len(df_val_var['mean_emb'].to_list())\n",
        "batch_size_val = 1\n",
        "batches_per_epoch_val = 1201\n",
        "assert batch_size_val * batches_per_epoch_val == num_sequences_val\n",
        "num_features= 768\n",
        "def val_generator_new(df):\n",
        "    x_list= df['mean_emb'].to_list()\n",
        "    y_list =  df.label.to_list()\n",
        "    while True:\n",
        "        for b in range(batches_per_epoch_val):\n",
        "            longest_index = (b + 1) * batch_size_val - 1\n",
        "            timesteps = len(max(df['mean_emb'].to_list()[:(b + 1) * batch_size_val][-31:], key=len))\n",
        "            # print(len(df_train['emb'].to_list()[:b+batch_size][-7:]))\n",
        "            x_train = np.full((batch_size_val, timesteps, num_features), -99.)\n",
        "            y_train = np.zeros((batch_size_val,  1))\n",
        "            for i in range(batch_size_val):\n",
        "                li = b * batch_size_val + i\n",
        "                x_train[i, 0:len(x_list[li]), :] = x_list[li]\n",
        "                y_train[i] = y_list[li]\n",
        "            #print('in here : ',x_train.shape, y_train.shape)\n",
        "            yield x_train, y_train"
      ],
      "execution_count": null,
      "outputs": []
    },
    {
      "cell_type": "code",
      "metadata": {
        "colab": {
          "base_uri": "https://localhost:8080/"
        },
        "id": "Ko-fskoM5ouM",
        "outputId": "79759d91-e855-450e-94af-e9e8754a7013"
      },
      "source": [
        "len(df_val_var['label'].unique())"
      ],
      "execution_count": null,
      "outputs": [
        {
          "data": {
            "text/plain": [
              "13"
            ]
          },
          "execution_count": 137,
          "metadata": {},
          "output_type": "execute_result"
        }
      ]
    },
    {
      "cell_type": "code",
      "metadata": {
        "colab": {
          "base_uri": "https://localhost:8080/"
        },
        "id": "KyANc3U3RUDh",
        "outputId": "b166af70-b7c0-4d12-c1c7-ec4820ddbacf"
      },
      "source": [
        "from keras import layers\n",
        "text_input = Input(shape=(None,768,), dtype='float32', name='text')\n",
        "\n",
        "l_mask = layers.Masking(mask_value=-99.)(text_input)\n",
        "# Which we encoded in a single vector via a LSTM\n",
        "encoded_text = layers.LSTM(100,)(l_mask)\n",
        "out_dense = layers.Dense(30, activation='relu')(encoded_text)\n",
        "# And we add a softmax classifier on top\n",
        "out = layers.Dense(len(label_list), activation='softmax')(out_dense)\n",
        "# At model instantiation, we specify the input and the output:\n",
        "model_Var = Model(text_input, out)\n",
        "model_Var.compile(optimizer=tf.keras.optimizers.Adam(clipvalue=0.5),\n",
        "              loss='sparse_categorical_crossentropy',\n",
        "              metrics=['acc'])\n",
        "model_Var.summary()"
      ],
      "execution_count": null,
      "outputs": [
        {
          "name": "stdout",
          "output_type": "stream",
          "text": [
            "Model: \"model_2\"\n",
            "_________________________________________________________________\n",
            "Layer (type)                 Output Shape              Param #   \n",
            "=================================================================\n",
            "text (InputLayer)            [(None, None, 768)]       0         \n",
            "_________________________________________________________________\n",
            "masking_2 (Masking)          (None, None, 768)         0         \n",
            "_________________________________________________________________\n",
            "lstm_2 (LSTM)                (None, 100)               347600    \n",
            "_________________________________________________________________\n",
            "dense_4 (Dense)              (None, 30)                3030      \n",
            "_________________________________________________________________\n",
            "dense_5 (Dense)              (None, 15)                465       \n",
            "=================================================================\n",
            "Total params: 351,095\n",
            "Trainable params: 351,095\n",
            "Non-trainable params: 0\n",
            "_________________________________________________________________\n"
          ]
        }
      ]
    },
    {
      "cell_type": "code",
      "metadata": {
        "colab": {
          "base_uri": "https://localhost:8080/"
        },
        "id": "H1Sn9HaW1WJo",
        "outputId": "a6ade8d9-daa8-4291-8c91-d6c31e4ab3a4"
      },
      "source": [
        "type(df_train['emb'][15])"
      ],
      "execution_count": null,
      "outputs": [
        {
          "data": {
            "text/plain": [
              "numpy.ndarray"
            ]
          },
          "execution_count": 139,
          "metadata": {},
          "output_type": "execute_result"
        }
      ]
    },
    {
      "cell_type": "code",
      "metadata": {
        "colab": {
          "base_uri": "https://localhost:8080/"
        },
        "id": "nyQnUiSyWdcS",
        "outputId": "8e760ec6-c969-479c-97f8-6141853261a8"
      },
      "source": [
        "model_Var.fit_generator(train_generator_new(df_train_var), steps_per_epoch=batches_per_epoch, epochs=50, validation_steps=batches_per_epoch_val,validation_data=val_generator_new(df_val_var) , callbacks=[ES] )"
      ],
      "execution_count": null,
      "outputs": [
        {
          "name": "stderr",
          "output_type": "stream",
          "text": [
            "/usr/local/lib/python3.7/dist-packages/keras/engine/training_v1.py:1228: UserWarning: `model.fit_generator` is deprecated and will be removed in a future version. Please use `Model.fit`, which supports generators.\n",
            "  warnings.warn('`model.fit_generator` is deprecated and '\n"
          ]
        },
        {
          "name": "stdout",
          "output_type": "stream",
          "text": [
            "Epoch 1/50\n",
            "1607/1607 [==============================] - ETA: 0s - batch: 803.0000 - size: 3.0000 - loss: 0.8650 - acc: 0.7453"
          ]
        },
        {
          "name": "stderr",
          "output_type": "stream",
          "text": [
            "/usr/local/lib/python3.7/dist-packages/keras/engine/training.py:2470: UserWarning: `Model.state_updates` will be removed in a future version. This property should not be used in TensorFlow 2.0, as `updates` are applied automatically.\n",
            "  warnings.warn('`Model.state_updates` will be removed in a future version. '\n"
          ]
        },
        {
          "name": "stdout",
          "output_type": "stream",
          "text": [
            "\b\b\b\b\b\b\b\b\b\b\b\b\b\b\b\b\b\b\b\b\b\b\b\b\b\b\b\b\b\b\b\b\b\b\b\b\b\b\b\b\b\b\b\b\b\b\b\b\b\b\b\b\b\b\b\b\b\b\b\b\b\b\b\b\b\b\b\b\b\b\b\b\b\b\b\b\b\b\b\b\b\b\b\b\b\b\b\b\b\b\b\b\b\b\b\b\b\b\b\b\b\b\b\b\b\b\b\b\b\b\b\b\b\b\r1607/1607 [==============================] - 1093s 680ms/step - batch: 803.0000 - size: 3.0000 - loss: 0.8650 - acc: 0.7453 - val_loss: 0.9080 - val_acc: 0.7270\n",
            "Epoch 2/50\n",
            "1607/1607 [==============================] - 1099s 684ms/step - batch: 803.0000 - size: 3.0000 - loss: 0.7418 - acc: 0.7706 - val_loss: 0.8802 - val_acc: 0.7237\n",
            "Epoch 3/50\n",
            "1607/1607 [==============================] - 1106s 688ms/step - batch: 803.0000 - size: 3.0000 - loss: 0.7138 - acc: 0.7772 - val_loss: 0.8611 - val_acc: 0.7270\n",
            "Epoch 4/50\n",
            "1607/1607 [==============================] - 1103s 686ms/step - batch: 803.0000 - size: 3.0000 - loss: 0.7023 - acc: 0.7812 - val_loss: 0.8359 - val_acc: 0.7378\n",
            "Epoch 5/50\n",
            "1607/1607 [==============================] - 1103s 686ms/step - batch: 803.0000 - size: 3.0000 - loss: 0.6870 - acc: 0.7837 - val_loss: 0.8517 - val_acc: 0.7320\n",
            "Epoch 6/50\n",
            "1607/1607 [==============================] - 1104s 687ms/step - batch: 803.0000 - size: 3.0000 - loss: 0.6736 - acc: 0.7888 - val_loss: 0.8537 - val_acc: 0.7461\n",
            "Epoch 7/50\n",
            "1607/1607 [==============================] - 1098s 684ms/step - batch: 803.0000 - size: 3.0000 - loss: 0.6629 - acc: 0.7855 - val_loss: 0.8511 - val_acc: 0.7320\n",
            "Epoch 8/50\n",
            "1607/1607 [==============================] - 1099s 684ms/step - batch: 803.0000 - size: 3.0000 - loss: 0.6587 - acc: 0.7851 - val_loss: 0.8547 - val_acc: 0.7246\n",
            "Epoch 9/50\n",
            "1607/1607 [==============================] - 1107s 689ms/step - batch: 803.0000 - size: 3.0000 - loss: 0.6485 - acc: 0.7880 - val_loss: 0.8542 - val_acc: 0.7328\n"
          ]
        },
        {
          "data": {
            "text/plain": [
              "<keras.callbacks.History at 0x7f17015a0f10>"
            ]
          },
          "execution_count": 140,
          "metadata": {},
          "output_type": "execute_result"
        }
      ]
    },
    {
      "cell_type": "code",
      "metadata": {
        "colab": {
          "base_uri": "https://localhost:8080/"
        },
        "id": "j49tc3GJVQYr",
        "outputId": "f9955565-3926-454d-c06d-5de028043f28"
      },
      "source": [
        "# num_sequences_val = len(df_test_var['mean_emb'].to_list())\n",
        "# batch_size_val = 2\n",
        "# batches_per_epoch_val = 148\n",
        "# assert batch_size_val * batches_per_epoch_val == num_sequences_val\n",
        "# num_features= 768\n",
        "# model_Var.evaluate_generator(val_generator_new(df_test_var), steps= batches_per_epoch_val)"
      ],
      "execution_count": null,
      "outputs": [
        {
          "name": "stderr",
          "output_type": "stream",
          "text": [
            "/usr/local/lib/python3.7/dist-packages/keras/engine/training_v1.py:1261: UserWarning: `Model.evaluate_generator` is deprecated and will be removed in a future version. Please use `Model.evaluate`, which supports generators.\n",
            "  warnings.warn('`Model.evaluate_generator` is deprecated and '\n"
          ]
        },
        {
          "data": {
            "text/plain": [
              "[0.7380675741949597, 0.7635135]"
            ]
          },
          "execution_count": 141,
          "metadata": {},
          "output_type": "execute_result"
        }
      ]
    },
    {
      "cell_type": "code",
      "metadata": {
        "colab": {
          "base_uri": "https://localhost:8080/"
        },
        "id": "ECrPugLGVQbR",
        "outputId": "1a843370-8344-4329-b819-603ac9ca0ed1"
      },
      "source": [
        "# y_proba=model_Var.predict(val_generator_new(df_test_var), steps= batches_per_epoch_val)"
      ],
      "execution_count": null,
      "outputs": [
        {
          "name": "stderr",
          "output_type": "stream",
          "text": [
            "/usr/local/lib/python3.7/dist-packages/keras/engine/training.py:2470: UserWarning: `Model.state_updates` will be removed in a future version. This property should not be used in TensorFlow 2.0, as `updates` are applied automatically.\n",
            "  warnings.warn('`Model.state_updates` will be removed in a future version. '\n"
          ]
        }
      ]
    },
    {
      "cell_type": "code",
      "metadata": {
        "colab": {
          "base_uri": "https://localhost:8080/"
        },
        "id": "Ue84XGpLgGov",
        "outputId": "ed58f55e-6c78-465b-9e9c-6899786d9b57"
      },
      "source": [
        "# y_pred=[]\n",
        "# for i in y_proba:\n",
        "#     max_index_row = np.argmax(i, axis=0)\n",
        "#     y_pred.append(max_index_row)\n",
        "\n",
        "\n",
        "# #Evaluating Model Performance by creating confusion matrix and classification report\n",
        "# from sklearn.metrics import classification_report, confusion_matrix\n",
        "# print('Confusion Matrix')\n",
        "# print(confusion_matrix(y_pred, df_test_var['label']))\n",
        "# print('Classification Report')\n",
        "# print(classification_report(y_pred, df_test_var['label']))"
      ],
      "execution_count": null,
      "outputs": [
        {
          "name": "stdout",
          "output_type": "stream",
          "text": [
            "Confusion Matrix\n",
            "[[61  1  0  5  0  0  0  7  0  0  0]\n",
            " [ 5 38  0  2  0  0  3  9  0  0  0]\n",
            " [ 0  0 10  0  0  0  0  2  0  0  0]\n",
            " [ 0  0  0  3  0  0  0  0  3  0  0]\n",
            " [ 0  0  0  0  3  0  1  1  1  0  0]\n",
            " [ 0  0  0  0  0  8  0  2  0  0  0]\n",
            " [ 1  0  0  1  0  0 59  9  3  1  2]\n",
            " [ 2  0  0  1  1  0  4 24  2  0  0]\n",
            " [ 0  0  0  0  0  0  0  0  3  0  0]\n",
            " [ 0  0  0  0  0  0  0  0  0  1  0]\n",
            " [ 0  0  0  0  1  0  0  0  0  0 16]]\n",
            "Classification Report\n",
            "              precision    recall  f1-score   support\n",
            "\n",
            "           1       0.88      0.82      0.85        74\n",
            "           2       0.97      0.67      0.79        57\n",
            "           3       1.00      0.83      0.91        12\n",
            "           4       0.25      0.50      0.33         6\n",
            "           6       0.60      0.50      0.55         6\n",
            "           7       1.00      0.80      0.89        10\n",
            "           8       0.88      0.78      0.83        76\n",
            "           9       0.44      0.71      0.55        34\n",
            "          10       0.25      1.00      0.40         3\n",
            "          11       0.50      1.00      0.67         1\n",
            "          12       0.89      0.94      0.91        17\n",
            "\n",
            "    accuracy                           0.76       296\n",
            "   macro avg       0.70      0.78      0.70       296\n",
            "weighted avg       0.83      0.76      0.78       296\n",
            "\n"
          ]
        }
      ]
    },
    {
      "cell_type": "code",
      "metadata": {
        "colab": {
          "base_uri": "https://localhost:8080/"
        },
        "id": "zOz-gMu3gGsQ",
        "outputId": "2b60fb4c-3d29-4650-c1b2-a2f59028a31c"
      },
      "source": [
        "# mat = confusion_matrix(y_pred, df_test_var['label'])\n",
        "\n",
        "# diag = np.diagonal(mat)\n",
        "# sum(diag)"
      ],
      "execution_count": null,
      "outputs": [
        {
          "data": {
            "text/plain": [
              "226"
            ]
          },
          "execution_count": 144,
          "metadata": {},
          "output_type": "execute_result"
        }
      ]
    },
    {
      "cell_type": "markdown",
      "metadata": {
        "id": "I3mhc0jG3iLC"
      },
      "source": [
        "#PCA-- Principal Component Analysis --RoBERT"
      ]
    },
    {
      "cell_type": "code",
      "metadata": {
        "id": "ZfMiyhF43hiX"
      },
      "source": [
        "df_train['label']=df_train['label'].replace([-1], 0)\n",
        "df_test['label']=df_test['label'].replace([-1], 0)\n",
        "df_val['label']=df_val['label'].replace([-1], 0)"
      ],
      "execution_count": null,
      "outputs": []
    },
    {
      "cell_type": "code",
      "metadata": {
        "id": "N8Rr3SJ6ve8f"
      },
      "source": [
        "from sklearn.decomposition import PCA\n",
        "from sklearn.decomposition import KernelPCA\n",
        "import matplotlib.pyplot as plt\n",
        "import seaborn as sns"
      ],
      "execution_count": null,
      "outputs": []
    },
    {
      "cell_type": "code",
      "metadata": {
        "id": "THyHAXfIvfAp"
      },
      "source": [
        "#changing dataframe to numpy array \n",
        "x_train=[]\n",
        "y_train=[]\n",
        "for i in range(df_train.shape[0]):\n",
        "  x_train.append(df_train[\"mean_emb\"][i])\n",
        "  y_train.append(df_train[\"label\"][i])\n",
        "\n",
        "X = np.array(x_train,ndmin=2)\n",
        "y = np.array(y_train)"
      ],
      "execution_count": null,
      "outputs": []
    },
    {
      "cell_type": "code",
      "metadata": {
        "id": "PDJSEYRevfEi"
      },
      "source": [
        "x_val=[]\n",
        "y_val=[]\n",
        "for i in range(df_val.shape[0]):\n",
        "  x_val.append(df_val[\"mean_emb\"][i])\n",
        "  y_val.append(df_val[\"label\"][i])\n",
        "\n",
        "X_val = np.array(x_val,ndmin=2)\n",
        "y_val = np.array(y_val)"
      ],
      "execution_count": null,
      "outputs": []
    },
    {
      "cell_type": "code",
      "metadata": {
        "id": "NXkZx-qcvfJI"
      },
      "source": [
        "x_test=[]\n",
        "y_test=[]\n",
        "for i in range(df_test.shape[0]):\n",
        "  x_test.append(df_test[\"mean_emb\"][i])\n",
        "  y_test.append(df_test[\"label\"][i])\n",
        "\n",
        "X_test = np.array(x_test,ndmin=2)\n",
        "y_test = np.array(y_test)"
      ],
      "execution_count": null,
      "outputs": []
    },
    {
      "cell_type": "code",
      "metadata": {
        "id": "KSRfDV-tvfM0"
      },
      "source": [
        "pca = PCA(n_components=320)\n",
        "X_pca = pca.fit_transform(X)\n",
        "\n",
        "kpca = KernelPCA(n_components=320, kernel='rbf', \n",
        "                 gamma=15, random_state=42)\n",
        "X_kpca = kpca.fit_transform(X)"
      ],
      "execution_count": null,
      "outputs": []
    },
    {
      "cell_type": "code",
      "metadata": {
        "id": "3vc-BF3nvwma"
      },
      "source": [
        "pca = PCA(n_components=320)\n",
        "X_val_pca = pca.fit_transform(X_val)\n",
        "\n",
        "kpca = KernelPCA(n_components=320, kernel='rbf', \n",
        "                 gamma=15, random_state=42)\n",
        "X_val_kpca = kpca.fit_transform(X_val)"
      ],
      "execution_count": null,
      "outputs": []
    },
    {
      "cell_type": "code",
      "metadata": {
        "id": "efY1OMeDvwp-"
      },
      "source": [
        "pca = PCA(n_components=320)\n",
        "X_test_pca = pca.fit_transform(X_test)\n",
        "\n",
        "kpca = KernelPCA(n_components=320, kernel='rbf', \n",
        "                 gamma=15, random_state=42)\n",
        "X_test_kpca = kpca.fit_transform(X_test)"
      ],
      "execution_count": null,
      "outputs": []
    },
    {
      "cell_type": "code",
      "metadata": {
        "colab": {
          "base_uri": "https://localhost:8080/"
        },
        "id": "bLtYggEevwt6",
        "outputId": "22af6486-48f2-4dbc-e5a7-90f2b60a2b61"
      },
      "source": [
        "X_pca.shape,X_kpca.shape"
      ],
      "execution_count": null,
      "outputs": [
        {
          "data": {
            "text/plain": [
              "((4802, 320), (4802, 320))"
            ]
          },
          "execution_count": 107,
          "metadata": {},
          "output_type": "execute_result"
        }
      ]
    },
    {
      "cell_type": "code",
      "metadata": {
        "colab": {
          "base_uri": "https://localhost:8080/"
        },
        "id": "BVbhLglwvfQh",
        "outputId": "2d48815e-21db-47f9-83c9-c548e799e39a"
      },
      "source": [
        "fig, ax = plt.subplots(nrows=1, ncols=2, figsize=(13.5 ,4))\n",
        "sns.scatterplot(X_pca[:, 0], X_pca[:, 1], hue=y, palette='Set1', ax=ax[0])\n",
        "sns.scatterplot(X_kpca[:, 0], X_kpca[:, 1], hue=y, palette='Set1', ax=ax[1])\n",
        "ax[0].set_title(\"PCA\", fontsize=15, pad=15)\n",
        "ax[1].set_title(\"RBF Kernel PCA\", fontsize=15, pad=15)\n",
        "ax[0].set_xlabel(\"Component 1\", fontsize=12)\n",
        "ax[0].set_ylabel(\"Component 2\", fontsize=12)\n",
        "ax[1].set_xlabel(\"Component 1\", fontsize=12)\n",
        "ax[1].set_ylabel(\"Component 2\", fontsize=12)\n",
        "plt.savefig('PCA vs Kernel PCA.png', dpi=100)"
      ],
      "execution_count": null,
      "outputs": [
        {
          "name": "stderr",
          "output_type": "stream",
          "text": [
            "/usr/local/lib/python3.7/dist-packages/seaborn/_decorators.py:43: FutureWarning: Pass the following variables as keyword args: x, y. From version 0.12, the only valid positional argument will be `data`, and passing other arguments without an explicit keyword will result in an error or misinterpretation.\n",
            "  FutureWarning\n",
            "/usr/local/lib/python3.7/dist-packages/seaborn/_decorators.py:43: FutureWarning: Pass the following variables as keyword args: x, y. From version 0.12, the only valid positional argument will be `data`, and passing other arguments without an explicit keyword will result in an error or misinterpretation.\n",
            "  FutureWarning\n"
          ]
        },
        {
          "data": {
            "image/png": "[encoded data removed]",
            "text/plain": [
              "<Figure size 972x288 with 2 Axes>"
            ]
          },
          "metadata": {},
          "output_type": "display_data"
        }
      ]
    },
    {
      "cell_type": "code",
      "metadata": {
        "colab": {
          "base_uri": "https://localhost:8080/"
        },
        "id": "1oS0wujivfV8",
        "outputId": "e3f981ca-dccd-4922-ee33-d2a79834e0c7"
      },
      "source": [
        "X_pca.shape , y.shape , X_val_pca.shape , y_val.shape , X_test_pca.shape, y_test.shape"
      ],
      "execution_count": null,
      "outputs": [
        {
          "data": {
            "text/plain": [
              "((4802, 320), (4802,), (1201, 320), (1201,), (323, 320), (323,))"
            ]
          },
          "execution_count": 109,
          "metadata": {},
          "output_type": "execute_result"
        }
      ]
    },
    {
      "cell_type": "code",
      "metadata": {
        "colab": {
          "base_uri": "https://localhost:8080/"
        },
        "id": "I6T7AXj-wInv",
        "outputId": "facde55e-ab2e-427f-88bd-8804b9520d26"
      },
      "source": [
        "X_kpca.shape , y.shape , X_val_kpca.shape , y_val.shape , X_test_kpca.shape, y_test.shape"
      ],
      "execution_count": null,
      "outputs": [
        {
          "data": {
            "text/plain": [
              "((4802, 320), (4802,), (1201, 320), (1201,), (323, 320), (323,))"
            ]
          },
          "execution_count": 110,
          "metadata": {},
          "output_type": "execute_result"
        }
      ]
    },
    {
      "cell_type": "code",
      "metadata": {
        "colab": {
          "base_uri": "https://localhost:8080/"
        },
        "id": "8b6xP1FmwIrt",
        "outputId": "7c5fec2a-df65-4a25-c643-4580afa0ebd3"
      },
      "source": [
        "from keras import layers\n",
        "from keras.layers import Embedding, Dense, Input, concatenate, Layer, Lambda, Dropout, Activation\n",
        "from keras.models import Sequential, Model\n",
        "text_input = Input(shape=(None,320,), dtype='float32', name='text')\n",
        "\n",
        "l_mask = layers.Masking(mask_value=-99.)(text_input)\n",
        "# Which we encoded in a single vector via a LSTM\n",
        "encoded_text = layers.LSTM(100,)(l_mask)\n",
        "out_dense = layers.Dense(30, activation='relu')(encoded_text)\n",
        "# And we add a softmax classifier on top\n",
        "out = layers.Dense(len(df_train['label'].unique()), activation='softmax')(out_dense)\n",
        "# At model instantiation, we specify the input and the output:\n",
        "model320 = Model(text_input, out)\n",
        "model320.compile(optimizer=tf.keras.optimizers.Adam(clipvalue=0.5),\n",
        "              loss='sparse_categorical_crossentropy',\n",
        "              metrics=['acc'])\n",
        "model320.summary()"
      ],
      "execution_count": null,
      "outputs": [
        {
          "name": "stdout",
          "output_type": "stream",
          "text": [
            "Model: \"model\"\n",
            "_________________________________________________________________\n",
            " Layer (type)                Output Shape              Param #   \n",
            "=================================================================\n",
            " text (InputLayer)           [(None, None, 320)]       0         \n",
            "                                                                 \n",
            " masking (Masking)           (None, None, 320)         0         \n",
            "                                                                 \n",
            " lstm (LSTM)                 (None, 100)               168400    \n",
            "                                                                 \n",
            " dense (Dense)               (None, 30)                3030      \n",
            "                                                                 \n",
            " dense_1 (Dense)             (None, 15)                465       \n",
            "                                                                 \n",
            "=================================================================\n",
            "Total params: 171,895\n",
            "Trainable params: 171,895\n",
            "Non-trainable params: 0\n",
            "_________________________________________________________________\n"
          ]
        }
      ]
    },
    {
      "cell_type": "code",
      "metadata": {
        "colab": {
          "base_uri": "https://localhost:8080/"
        },
        "id": "SziVn_W-wIu6",
        "outputId": "7e19ef5a-9566-457d-9933-26774554a6f6"
      },
      "source": [
        "#creating the kpca dataframe for LSTM \n",
        "x_tr_kpca=[]\n",
        "for i in range(df_train.shape[0]):\n",
        "  x_tr_kpca.append(np.array(X_kpca[i],ndmin=2))\n",
        "  # y_train.append(df_train[\"label\"][i])\n",
        "df_train_kpca = pd.DataFrame({'emb': x_tr_kpca, 'label': y, })\n",
        "df_train_kpca.head()\n",
        "\n",
        "x_va_kpca=[]\n",
        "for i in range(df_val.shape[0]):\n",
        "  x_va_kpca.append(np.array(X_val_kpca[i],ndmin=2))\n",
        "df_val_kpca = pd.DataFrame({'emb': x_va_kpca, 'label': y_val, })\n",
        "df_val_kpca.head()\n",
        "\n",
        "x_te_kpca=[]\n",
        "for i in range(df_test.shape[0]):\n",
        "  x_te_kpca.append(np.array(X_test_kpca[i],ndmin=2))\n",
        "df_test_kpca = pd.DataFrame({'emb': x_te_kpca, 'label': y_test, })\n",
        "df_test_kpca.head()"
      ],
      "execution_count": null,
      "outputs": [
        {
          "data": {
            "text/html": [
              "<div>\n",
              "<style scoped>\n",
              "    .dataframe tbody tr th:only-of-type {\n",
              "        vertical-align: middle;\n",
              "    }\n",
              "\n",
              "    .dataframe tbody tr th {\n",
              "        vertical-align: top;\n",
              "    }\n",
              "\n",
              "    .dataframe thead th {\n",
              "        text-align: right;\n",
              "    }\n",
              "</style>\n",
              "<table border=\"1\" class=\"dataframe\">\n",
              "  <thead>\n",
              "    <tr style=\"text-align: right;\">\n",
              "      <th></th>\n",
              "      <th>emb</th>\n",
              "      <th>label</th>\n",
              "    </tr>\n",
              "  </thead>\n",
              "  <tbody>\n",
              "    <tr>\n",
              "      <th>0</th>\n",
              "      <td>[[0.0, -0.0, 0.0, -0.0, 0.19381867, -0.0, 0.0,...</td>\n",
              "      <td>1</td>\n",
              "    </tr>\n",
              "    <tr>\n",
              "      <th>1</th>\n",
              "      <td>[[0.0007487529, 0.002031984, -0.09290755, -0.0...</td>\n",
              "      <td>9</td>\n",
              "    </tr>\n",
              "    <tr>\n",
              "      <th>2</th>\n",
              "      <td>[[-0.0063728355, 0.017037606, -0.1432983, -0.0...</td>\n",
              "      <td>8</td>\n",
              "    </tr>\n",
              "    <tr>\n",
              "      <th>3</th>\n",
              "      <td>[[0.036207117, -0.012308282, -0.08399796, 0.01...</td>\n",
              "      <td>1</td>\n",
              "    </tr>\n",
              "    <tr>\n",
              "      <th>4</th>\n",
              "      <td>[[0.029277353, 0.026137201, 0.02689116, -0.001...</td>\n",
              "      <td>4</td>\n",
              "    </tr>\n",
              "  </tbody>\n",
              "</table>\n",
              "</div>"
            ],
            "text/plain": [
              "                                                 emb  label\n",
              "0  [[0.0, -0.0, 0.0, -0.0, 0.19381867, -0.0, 0.0,...      1\n",
              "1  [[0.0007487529, 0.002031984, -0.09290755, -0.0...      9\n",
              "2  [[-0.0063728355, 0.017037606, -0.1432983, -0.0...      8\n",
              "3  [[0.036207117, -0.012308282, -0.08399796, 0.01...      1\n",
              "4  [[0.029277353, 0.026137201, 0.02689116, -0.001...      4"
            ]
          },
          "execution_count": 112,
          "metadata": {},
          "output_type": "execute_result"
        }
      ]
    },
    {
      "cell_type": "code",
      "metadata": {
        "colab": {
          "base_uri": "https://localhost:8080/"
        },
        "id": "9Pd21uN13hok",
        "outputId": "ba7dec60-e785-4c4c-a1d5-0d50dae12f0d"
      },
      "source": [
        "df_train_kpca.shape , df_val_kpca.shape , df_test_kpca.shape"
      ],
      "execution_count": null,
      "outputs": [
        {
          "data": {
            "text/plain": [
              "((4802, 2), (1201, 2), (323, 2))"
            ]
          },
          "execution_count": 113,
          "metadata": {},
          "output_type": "execute_result"
        }
      ]
    },
    {
      "cell_type": "code",
      "metadata": {
        "colab": {
          "base_uri": "https://localhost:8080/"
        },
        "id": "HuikTRRr3hrL",
        "outputId": "bee66ed7-b487-453f-9d3c-474ca5ba0965"
      },
      "source": [
        "#creating the pca dataframe for LSTM \n",
        "\n",
        "x_tr_pca=[]\n",
        "for i in range(df_train.shape[0]):\n",
        "  x_tr_pca.append(np.array(X_pca[i],ndmin=2))\n",
        "  # y_train.append(df_train[\"label\"][i])\n",
        "df_train_pca = pd.DataFrame({'emb': x_tr_pca, 'label': y, })\n",
        "df_train_pca.head()\n",
        "\n",
        "x_va_pca=[]\n",
        "for i in range(df_val.shape[0]):\n",
        "  x_va_pca.append(np.array(X_val_pca[i],ndmin=2))\n",
        "df_val_pca = pd.DataFrame({'emb': x_va_pca, 'label': y_val, })\n",
        "df_val_pca.head()\n",
        "\n",
        "x_te_pca=[]\n",
        "for i in range(df_test.shape[0]):\n",
        "  x_te_pca.append(np.array(X_test_pca[i],ndmin=2))\n",
        "df_test_pca = pd.DataFrame({'emb': x_te_pca, 'label': y_test, })\n",
        "df_test_pca.head()"
      ],
      "execution_count": null,
      "outputs": [
        {
          "data": {
            "text/html": [
              "<div>\n",
              "<style scoped>\n",
              "    .dataframe tbody tr th:only-of-type {\n",
              "        vertical-align: middle;\n",
              "    }\n",
              "\n",
              "    .dataframe tbody tr th {\n",
              "        vertical-align: top;\n",
              "    }\n",
              "\n",
              "    .dataframe thead th {\n",
              "        text-align: right;\n",
              "    }\n",
              "</style>\n",
              "<table border=\"1\" class=\"dataframe\">\n",
              "  <thead>\n",
              "    <tr style=\"text-align: right;\">\n",
              "      <th></th>\n",
              "      <th>emb</th>\n",
              "      <th>label</th>\n",
              "    </tr>\n",
              "  </thead>\n",
              "  <tbody>\n",
              "    <tr>\n",
              "      <th>0</th>\n",
              "      <td>[[12.431176, -5.565358, -3.2977662, 2.3783424,...</td>\n",
              "      <td>1</td>\n",
              "    </tr>\n",
              "    <tr>\n",
              "      <th>1</th>\n",
              "      <td>[[-2.3474836, 5.6842685, -4.719406, 4.8050823,...</td>\n",
              "      <td>9</td>\n",
              "    </tr>\n",
              "    <tr>\n",
              "      <th>2</th>\n",
              "      <td>[[-9.93848, 2.8519666, -3.4420557, 3.3974466, ...</td>\n",
              "      <td>8</td>\n",
              "    </tr>\n",
              "    <tr>\n",
              "      <th>3</th>\n",
              "      <td>[[12.951349, -4.7748213, -2.24862, 1.4130814, ...</td>\n",
              "      <td>1</td>\n",
              "    </tr>\n",
              "    <tr>\n",
              "      <th>4</th>\n",
              "      <td>[[-2.1590223, -12.2340145, -2.533019, -2.72807...</td>\n",
              "      <td>4</td>\n",
              "    </tr>\n",
              "  </tbody>\n",
              "</table>\n",
              "</div>"
            ],
            "text/plain": [
              "                                                 emb  label\n",
              "0  [[12.431176, -5.565358, -3.2977662, 2.3783424,...      1\n",
              "1  [[-2.3474836, 5.6842685, -4.719406, 4.8050823,...      9\n",
              "2  [[-9.93848, 2.8519666, -3.4420557, 3.3974466, ...      8\n",
              "3  [[12.951349, -4.7748213, -2.24862, 1.4130814, ...      1\n",
              "4  [[-2.1590223, -12.2340145, -2.533019, -2.72807...      4"
            ]
          },
          "execution_count": 114,
          "metadata": {},
          "output_type": "execute_result"
        }
      ]
    },
    {
      "cell_type": "code",
      "metadata": {
        "colab": {
          "base_uri": "https://localhost:8080/"
        },
        "id": "OmnsDvf33htY",
        "outputId": "a1e0ef4e-11c2-4faf-a90e-c7f23d7b381a"
      },
      "source": [
        "df_train_pca.shape , df_val_pca.shape , df_test_pca.shape"
      ],
      "execution_count": null,
      "outputs": [
        {
          "data": {
            "text/plain": [
              "((4802, 2), (1201, 2), (323, 2))"
            ]
          },
          "execution_count": 115,
          "metadata": {},
          "output_type": "execute_result"
        }
      ]
    },
    {
      "cell_type": "code",
      "metadata": {
        "id": "KE-wvFq1wlmD"
      },
      "source": [
        "num_sequences = len(df_train['emb'].to_list())\n",
        "batch_size = 2\n",
        "batches_per_epoch =  2401\n",
        "assert batch_size * batches_per_epoch == num_sequences\n",
        "num_features= 320\n",
        "def train_generator_entire(df):\n",
        "    x_list= df['emb'].to_list()\n",
        "    y_list =  df.label.to_list()\n",
        "    # Generate batches\n",
        "    while True:\n",
        "        for b in range(batches_per_epoch):\n",
        "            longest_index = (b + 1) * batch_size - 1\n",
        "            timesteps = len(max(df['emb'].to_list()[:(b + 1) * batch_size][-batch_size:], key=len))\n",
        "            x_train = np.full((batch_size, timesteps, num_features), -99.)\n",
        "            y_train = np.zeros((batch_size,  1))\n",
        "            for i in range(batch_size):\n",
        "                li = b * batch_size + i\n",
        "                x_train[i, 0:len(x_list[li]), :] = x_list[li]\n",
        "                y_train[i] = y_list[li]\n",
        "            yield x_train, y_train"
      ],
      "execution_count": null,
      "outputs": []
    },
    {
      "cell_type": "code",
      "metadata": {
        "id": "XKlja3NVws9Q"
      },
      "source": [
        "num_sequences_val = len(df_val['emb'].to_list())\n",
        "batch_size_val = 1\n",
        "batches_per_epoch_val = 1201\n",
        "assert batch_size_val * batches_per_epoch_val == num_sequences_val\n",
        "num_features= 320\n",
        "def val_generator_entire(df):\n",
        "    x_list= df['emb'].to_list()\n",
        "    y_list =  df.label.to_list()\n",
        "    # Generate batches\n",
        "    while True:\n",
        "        for b in range(batches_per_epoch_val):\n",
        "            longest_index = (b + 1) * batch_size_val - 1\n",
        "            timesteps = len(max(df['emb'].to_list()[:(b + 1) * batch_size_val][-31:], key=len))\n",
        "            x_train = np.full((batch_size_val, timesteps, num_features), -99.)\n",
        "            y_train = np.zeros((batch_size_val,  1))\n",
        "            for i in range(batch_size_val):\n",
        "                li = b * batch_size_val + i\n",
        "                x_train[i, 0:len(x_list[li]), :] = x_list[li]\n",
        "                y_train[i] = y_list[li]\n",
        "            yield x_train, y_train"
      ],
      "execution_count": null,
      "outputs": []
    },
    {
      "cell_type": "code",
      "metadata": {
        "id": "A9nnsdhUwtBR"
      },
      "source": [
        "ES=tf.keras.callbacks.EarlyStopping(patience=5, restore_best_weights=True)"
      ],
      "execution_count": null,
      "outputs": []
    },
    {
      "cell_type": "code",
      "metadata": {
        "colab": {
          "base_uri": "https://localhost:8080/"
        },
        "id": "uidKxWyXxHG_",
        "outputId": "b333999e-a979-473d-a43a-3e2050376835"
      },
      "source": [
        "#for the pca dataset \n",
        "model320.fit_generator(train_generator_entire(df_train_pca), steps_per_epoch=batches_per_epoch, epochs=50,validation_data=val_generator_entire(df_val_pca), validation_steps=batches_per_epoch_val, callbacks=[ES] )"
      ],
      "execution_count": null,
      "outputs": [
        {
          "name": "stderr",
          "output_type": "stream",
          "text": [
            "/usr/local/lib/python3.7/dist-packages/ipykernel_launcher.py:2: UserWarning: `model.fit_generator` is deprecated and will be removed in a future version. Please use `Model.fit`, which supports generators.\n",
            "  \n"
          ]
        },
        {
          "name": "stdout",
          "output_type": "stream",
          "text": [
            "Epoch 1/50\n",
            "2395/2401 [============================>.] - ETA: 0s - batch: 1197.0000 - size: 2.0000 - loss: 0.7839 - acc: 0.7787"
          ]
        },
        {
          "name": "stderr",
          "output_type": "stream",
          "text": [
            "/usr/local/lib/python3.7/dist-packages/keras/engine/training_v1.py:2057: UserWarning: `Model.state_updates` will be removed in a future version. This property should not be used in TensorFlow 2.0, as `updates` are applied automatically.\n",
            "  updates = self.state_updates\n"
          ]
        },
        {
          "name": "stdout",
          "output_type": "stream",
          "text": [
            "2401/2401 [==============================] - 12s 5ms/step - batch: 1200.0000 - size: 2.0000 - loss: 0.7827 - acc: 0.7793 - val_loss: 0.8887 - val_acc: 0.7252\n",
            "Epoch 2/50\n",
            "2401/2401 [==============================] - 11s 5ms/step - batch: 1200.0000 - size: 2.0000 - loss: 0.5685 - acc: 0.8153 - val_loss: 0.9187 - val_acc: 0.7244\n",
            "Epoch 3/50\n",
            "2401/2401 [==============================] - 11s 5ms/step - batch: 1200.0000 - size: 2.0000 - loss: 0.4995 - acc: 0.8297 - val_loss: 0.9643 - val_acc: 0.7244\n",
            "Epoch 4/50\n",
            "2401/2401 [==============================] - 11s 5ms/step - batch: 1200.0000 - size: 2.0000 - loss: 0.4397 - acc: 0.8499 - val_loss: 1.0256 - val_acc: 0.7194\n",
            "Epoch 5/50\n",
            "2401/2401 [==============================] - 11s 5ms/step - batch: 1200.0000 - size: 2.0000 - loss: 0.3852 - acc: 0.8692 - val_loss: 1.0996 - val_acc: 0.7127\n",
            "Epoch 6/50\n",
            "2401/2401 [==============================] - 11s 5ms/step - batch: 1200.0000 - size: 2.0000 - loss: 0.3375 - acc: 0.8846 - val_loss: 1.1556 - val_acc: 0.7136\n"
          ]
        },
        {
          "data": {
            "text/plain": [
              "<keras.callbacks.History at 0x7f932a7cae10>"
            ]
          },
          "execution_count": 120,
          "metadata": {},
          "output_type": "execute_result"
        }
      ]
    },
    {
      "cell_type": "code",
      "metadata": {
        "colab": {
          "base_uri": "https://localhost:8080/"
        },
        "id": "Y1SNBwfqxHK7",
        "outputId": "db98be3b-88cb-4141-b478-97979636d00b"
      },
      "source": [
        "num_sequences_val = len(df_test_pca['emb'].to_list())\n",
        "batch_size_val = 1\n",
        "batches_per_epoch_val = 323\n",
        "assert batch_size_val * batches_per_epoch_val == num_sequences_val\n",
        "num_features= 320\n",
        "model320.evaluate_generator(val_generator_entire(df_test_pca), steps= batches_per_epoch_val)"
      ],
      "execution_count": null,
      "outputs": [
        {
          "name": "stderr",
          "output_type": "stream",
          "text": [
            "/usr/local/lib/python3.7/dist-packages/ipykernel_launcher.py:6: UserWarning: `Model.evaluate_generator` is deprecated and will be removed in a future version. Please use `Model.evaluate`, which supports generators.\n",
            "  \n"
          ]
        },
        {
          "data": {
            "text/plain": [
              "[3.76380944962472, 0.108359136]"
            ]
          },
          "execution_count": 121,
          "metadata": {},
          "output_type": "execute_result"
        }
      ]
    },
    {
      "cell_type": "code",
      "metadata": {
        "colab": {
          "base_uri": "https://localhost:8080/"
        },
        "id": "xXsK9qAy4-bN",
        "outputId": "0684e4e3-51d4-46e8-a4db-c4069af2b2ab"
      },
      "source": [
        "y_proba=model320.predict(val_generator_entire(df_test_pca), steps= batches_per_epoch_val)\n",
        "\n",
        "y_pred=[]\n",
        "for i in y_proba:\n",
        "    max_index_row = np.argmax(i, axis=0)\n",
        "    y_pred.append(max_index_row)\n",
        "\n",
        "\n",
        "#Evaluating Model Performance by creating confusion matrix and classification report\n",
        "from sklearn.metrics import classification_report, confusion_matrix\n",
        "print('Confusion Matrix')\n",
        "print(confusion_matrix(y_pred, df_test_pca['label']))\n",
        "print('Classification Report')\n",
        "print(classification_report(y_pred, df_test_pca['label']))"
      ],
      "execution_count": null,
      "outputs": [
        {
          "name": "stderr",
          "output_type": "stream",
          "text": [
            "/usr/local/lib/python3.7/dist-packages/keras/engine/training_v1.py:2079: UserWarning: `Model.state_updates` will be removed in a future version. This property should not be used in TensorFlow 2.0, as `updates` are applied automatically.\n",
            "  updates=self.state_updates,\n"
          ]
        },
        {
          "name": "stdout",
          "output_type": "stream",
          "text": [
            "Confusion Matrix\n",
            "[[ 2  0  0  5  0  0  1 58  5  2  0  2]\n",
            " [ 2  1  5  0  0  1 10 13 31  4  0  0]\n",
            " [ 0  0  1  0  0  0  4  1  0  1  0  2]\n",
            " [ 0  0  0  1  0  0  1  0  0  0  0  0]\n",
            " [ 0  0  0  0  0  0  1  0  0  0  0  0]\n",
            " [ 0  0  0  0  0  1  0  0  0  0  0  0]\n",
            " [ 0  2  4  0  1  0  0  0  1  1  4  0]\n",
            " [68  9  2  5  0  0  0  0  6  0  0  0]\n",
            " [ 0 31  0  0  0  0  0  1 16  1  0  0]\n",
            " [ 0  0  0  0  0  0  0  0  0  0  0  0]\n",
            " [ 0  0  0  0  0  0  0  0  0  0  0  0]\n",
            " [ 0  0  0  0  0  0  0  2  1  0  0 13]]\n",
            "Classification Report\n",
            "              precision    recall  f1-score   support\n",
            "\n",
            "           1       0.03      0.03      0.03        75\n",
            "           2       0.02      0.01      0.02        67\n",
            "           3       0.08      0.11      0.10         9\n",
            "           4       0.09      0.50      0.15         2\n",
            "           5       0.00      0.00      0.00         1\n",
            "           6       0.50      1.00      0.67         1\n",
            "           7       0.00      0.00      0.00        13\n",
            "           8       0.00      0.00      0.00        90\n",
            "           9       0.27      0.33      0.29        49\n",
            "          10       0.00      0.00      0.00         0\n",
            "          11       0.00      0.00      0.00         0\n",
            "          12       0.76      0.81      0.79        16\n",
            "\n",
            "    accuracy                           0.11       323\n",
            "   macro avg       0.15      0.23      0.17       323\n",
            "weighted avg       0.09      0.11      0.10       323\n",
            "\n"
          ]
        },
        {
          "name": "stderr",
          "output_type": "stream",
          "text": [
            "/usr/local/lib/python3.7/dist-packages/sklearn/metrics/_classification.py:1272: UndefinedMetricWarning: Recall and F-score are ill-defined and being set to 0.0 in labels with no true samples. Use `zero_division` parameter to control this behavior.\n",
            "  _warn_prf(average, modifier, msg_start, len(result))\n"
          ]
        }
      ]
    },
    {
      "cell_type": "code",
      "metadata": {
        "colab": {
          "base_uri": "https://localhost:8080/"
        },
        "id": "dfuONuzhwtE9",
        "outputId": "38f97013-a921-47fd-d169-e5ea92e73c3d"
      },
      "source": [
        "df_test_pca['label'].unique()"
      ],
      "execution_count": null,
      "outputs": [
        {
          "data": {
            "text/plain": [
              "array([ 1,  9,  8,  4,  3,  2, 10,  7, 11, 12,  6,  5])"
            ]
          },
          "execution_count": 124,
          "metadata": {},
          "output_type": "execute_result"
        }
      ]
    },
    {
      "cell_type": "code",
      "metadata": {
        "colab": {
          "base_uri": "https://localhost:8080/"
        },
        "id": "foz61eaywtMr",
        "outputId": "603bb15a-ce30-4602-9631-57e6f603fa58"
      },
      "source": [
        "mat = confusion_matrix(y_pred, df_test_pca['label'])\n",
        "\n",
        "diag = np.diagonal(mat)\n",
        "sum(diag)"
      ],
      "execution_count": null,
      "outputs": [
        {
          "data": {
            "text/plain": [
              "35"
            ]
          },
          "execution_count": 126,
          "metadata": {},
          "output_type": "execute_result"
        }
      ]
    },
    {
      "cell_type": "code",
      "metadata": {
        "colab": {
          "base_uri": "https://localhost:8080/"
        },
        "id": "jCI-62odwlqy",
        "outputId": "b4f93028-053c-4fff-8358-c44953515964"
      },
      "source": [
        "#kpca \n",
        "#KPCA\n",
        "from keras import layers\n",
        "from keras.layers import Embedding, Dense, Input, concatenate, Layer, Lambda, Dropout, Activation\n",
        "from keras.models import Sequential, Model\n",
        "text_input = Input(shape=(None,320,), dtype='float32', name='text')\n",
        "\n",
        "l_mask = layers.Masking(mask_value=-99.)(text_input)\n",
        "# Which we encoded in a single vector via a LSTM\n",
        "encoded_text = layers.LSTM(100,)(l_mask)\n",
        "out_dense = layers.Dense(30, activation='relu')(encoded_text)\n",
        "# And we add a softmax classifier on top\n",
        "out = layers.Dense(len(df_train['label'].unique()), activation='softmax')(out_dense)\n",
        "# At model instantiation, we specify the input and the output:\n",
        "model320kpca = Model(text_input, out)\n",
        "model320kpca.compile(optimizer=tf.keras.optimizers.Adam(clipvalue=0.5),\n",
        "              loss='sparse_categorical_crossentropy',\n",
        "              metrics=['acc'])\n",
        "model320kpca.summary()"
      ],
      "execution_count": null,
      "outputs": [
        {
          "name": "stdout",
          "output_type": "stream",
          "text": [
            "Model: \"model_1\"\n",
            "_________________________________________________________________\n",
            " Layer (type)                Output Shape              Param #   \n",
            "=================================================================\n",
            " text (InputLayer)           [(None, None, 320)]       0         \n",
            "                                                                 \n",
            " masking_1 (Masking)         (None, None, 320)         0         \n",
            "                                                                 \n",
            " lstm_1 (LSTM)               (None, 100)               168400    \n",
            "                                                                 \n",
            " dense_2 (Dense)             (None, 30)                3030      \n",
            "                                                                 \n",
            " dense_3 (Dense)             (None, 15)                465       \n",
            "                                                                 \n",
            "=================================================================\n",
            "Total params: 171,895\n",
            "Trainable params: 171,895\n",
            "Non-trainable params: 0\n",
            "_________________________________________________________________\n"
          ]
        }
      ]
    },
    {
      "cell_type": "code",
      "metadata": {
        "colab": {
          "base_uri": "https://localhost:8080/"
        },
        "id": "76ti5C837OrA",
        "outputId": "dc8e442f-7584-4693-8e40-b5145b313e2c"
      },
      "source": [
        "#for the pca dataset \n",
        "model320kpca.fit_generator(train_generator_entire(df_train_kpca), steps_per_epoch=batches_per_epoch, epochs=50,validation_data=val_generator_entire(df_val_kpca), validation_steps=batches_per_epoch_val, callbacks=[ES] )"
      ],
      "execution_count": null,
      "outputs": [
        {
          "name": "stderr",
          "output_type": "stream",
          "text": [
            "/usr/local/lib/python3.7/dist-packages/ipykernel_launcher.py:2: UserWarning: `model.fit_generator` is deprecated and will be removed in a future version. Please use `Model.fit`, which supports generators.\n",
            "  \n"
          ]
        },
        {
          "name": "stdout",
          "output_type": "stream",
          "text": [
            "Epoch 1/50\n",
            "2400/2401 [============================>.] - ETA: 0s - batch: 1199.5000 - size: 2.0000 - loss: 2.1498 - acc: 0.2190"
          ]
        },
        {
          "name": "stderr",
          "output_type": "stream",
          "text": [
            "/usr/local/lib/python3.7/dist-packages/keras/engine/training_v1.py:2057: UserWarning: `Model.state_updates` will be removed in a future version. This property should not be used in TensorFlow 2.0, as `updates` are applied automatically.\n",
            "  updates = self.state_updates\n"
          ]
        },
        {
          "name": "stdout",
          "output_type": "stream",
          "text": [
            "2401/2401 [==============================] - 10s 4ms/step - batch: 1200.0000 - size: 2.0000 - loss: 2.1498 - acc: 0.2189 - val_loss: 2.0928 - val_acc: 0.2322\n",
            "Epoch 2/50\n",
            "2401/2401 [==============================] - 9s 4ms/step - batch: 1200.0000 - size: 2.0000 - loss: 2.1026 - acc: 0.2303 - val_loss: 2.1112 - val_acc: 0.2043\n",
            "Epoch 3/50\n",
            "2401/2401 [==============================] - 9s 4ms/step - batch: 1200.0000 - size: 2.0000 - loss: 2.0703 - acc: 0.2453 - val_loss: 2.2411 - val_acc: 0.1858\n",
            "Epoch 4/50\n",
            "2401/2401 [==============================] - 9s 4ms/step - batch: 1200.0000 - size: 2.0000 - loss: 2.0263 - acc: 0.2638 - val_loss: 2.4287 - val_acc: 0.1734\n",
            "Epoch 5/50\n",
            "2401/2401 [==============================] - 9s 4ms/step - batch: 1200.0000 - size: 2.0000 - loss: 1.9959 - acc: 0.2753 - val_loss: 2.5919 - val_acc: 0.1796\n",
            "Epoch 6/50\n",
            "2401/2401 [==============================] - 9s 4ms/step - batch: 1200.0000 - size: 2.0000 - loss: 1.9740 - acc: 0.2872 - val_loss: 2.7135 - val_acc: 0.1765\n"
          ]
        },
        {
          "data": {
            "text/plain": [
              "<keras.callbacks.History at 0x7f932c60a810>"
            ]
          },
          "execution_count": 128,
          "metadata": {},
          "output_type": "execute_result"
        }
      ]
    },
    {
      "cell_type": "code",
      "metadata": {
        "colab": {
          "base_uri": "https://localhost:8080/"
        },
        "id": "sB3fySyN7Ov6",
        "outputId": "5b160776-3f40-4f23-d35b-e81959b8931e"
      },
      "source": [
        "num_sequences_val = len(df_test_pca['emb'].to_list())\n",
        "batch_size_val = 1\n",
        "batches_per_epoch_val = 323\n",
        "assert batch_size_val * batches_per_epoch_val == num_sequences_val\n",
        "num_features= 320\n",
        "model320kpca.evaluate_generator(val_generator_entire(df_test_kpca), steps= batches_per_epoch_val)"
      ],
      "execution_count": null,
      "outputs": [
        {
          "name": "stderr",
          "output_type": "stream",
          "text": [
            "/usr/local/lib/python3.7/dist-packages/ipykernel_launcher.py:6: UserWarning: `Model.evaluate_generator` is deprecated and will be removed in a future version. Please use `Model.evaluate`, which supports generators.\n",
            "  \n"
          ]
        },
        {
          "data": {
            "text/plain": [
              "[2.0757514910063137, 0.21052632]"
            ]
          },
          "execution_count": 129,
          "metadata": {},
          "output_type": "execute_result"
        }
      ]
    },
    {
      "cell_type": "code",
      "metadata": {
        "colab": {
          "base_uri": "https://localhost:8080/"
        },
        "id": "_-7uXU_Y7O0N",
        "outputId": "149b57de-af88-4134-8ddd-710b9d1306dc"
      },
      "source": [
        "\n",
        "y_proba=model320kpca.predict(val_generator_entire(df_test_kpca), steps= batches_per_epoch_val)\n",
        "\n",
        "y_pred=[]\n",
        "for i in y_proba:\n",
        "    max_index_row = np.argmax(i, axis=0)\n",
        "    y_pred.append(max_index_row)\n",
        "\n",
        "\n",
        "#Evaluating Model Performance by creating confusion matrix and classification report\n",
        "from sklearn.metrics import classification_report, confusion_matrix\n",
        "print('Confusion Matrix')\n",
        "print(confusion_matrix(y_pred, df_test_kpca['label']))\n",
        "print('Classification Report')\n",
        "print(classification_report(y_pred, df_test_kpca['label']))"
      ],
      "execution_count": null,
      "outputs": [
        {
          "name": "stderr",
          "output_type": "stream",
          "text": [
            "/usr/local/lib/python3.7/dist-packages/keras/engine/training_v1.py:2079: UserWarning: `Model.state_updates` will be removed in a future version. This property should not be used in TensorFlow 2.0, as `updates` are applied automatically.\n",
            "  updates=self.state_updates,\n"
          ]
        },
        {
          "name": "stdout",
          "output_type": "stream",
          "text": [
            "Confusion Matrix\n",
            "[[65 40  7  9  1  2 15 63 57  8  3 14]\n",
            " [ 7  3  5  2  0  0  2 12  3  1  1  3]\n",
            " [ 0  0  0  0  0  0  0  0  0  0  0  0]\n",
            " [ 0  0  0  0  0  0  0  0  0  0  0  0]\n",
            " [ 0  0  0  0  0  0  0  0  0  0  0  0]\n",
            " [ 0  0  0  0  0  0  0  0  0  0  0  0]\n",
            " [ 0  0  0  0  0  0  0  0  0  0  0  0]\n",
            " [ 0  0  0  0  0  0  0  0  0  0  0  0]\n",
            " [ 0  0  0  0  0  0  0  0  0  0  0  0]\n",
            " [ 0  0  0  0  0  0  0  0  0  0  0  0]\n",
            " [ 0  0  0  0  0  0  0  0  0  0  0  0]\n",
            " [ 0  0  0  0  0  0  0  0  0  0  0  0]]\n",
            "Classification Report\n",
            "              precision    recall  f1-score   support\n",
            "\n",
            "           1       0.90      0.23      0.37       284\n",
            "           2       0.07      0.08      0.07        39\n",
            "           3       0.00      0.00      0.00         0\n",
            "           4       0.00      0.00      0.00         0\n",
            "           5       0.00      0.00      0.00         0\n",
            "           6       0.00      0.00      0.00         0\n",
            "           7       0.00      0.00      0.00         0\n",
            "           8       0.00      0.00      0.00         0\n",
            "           9       0.00      0.00      0.00         0\n",
            "          10       0.00      0.00      0.00         0\n",
            "          11       0.00      0.00      0.00         0\n",
            "          12       0.00      0.00      0.00         0\n",
            "\n",
            "    accuracy                           0.21       323\n",
            "   macro avg       0.08      0.03      0.04       323\n",
            "weighted avg       0.80      0.21      0.33       323\n",
            "\n"
          ]
        },
        {
          "name": "stderr",
          "output_type": "stream",
          "text": [
            "/usr/local/lib/python3.7/dist-packages/sklearn/metrics/_classification.py:1272: UndefinedMetricWarning: Recall and F-score are ill-defined and being set to 0.0 in labels with no true samples. Use `zero_division` parameter to control this behavior.\n",
            "  _warn_prf(average, modifier, msg_start, len(result))\n"
          ]
        }
      ]
    },
    {
      "cell_type": "code",
      "metadata": {
        "colab": {
          "base_uri": "https://localhost:8080/"
        },
        "id": "zCUO8ab87O4i",
        "outputId": "db079905-7744-4507-e5bb-8722ee94764f"
      },
      "source": [
        "mat = confusion_matrix(y_pred, df_test_kpca['label'])\n",
        "\n",
        "diag = np.diagonal(mat)\n",
        "sum(diag)"
      ],
      "execution_count": null,
      "outputs": [
        {
          "data": {
            "text/plain": [
              "68"
            ]
          },
          "execution_count": 131,
          "metadata": {},
          "output_type": "execute_result"
        }
      ]
    },
    {
      "cell_type": "markdown",
      "metadata": {
        "id": "UXD_ScZ3_hRI"
      },
      "source": [
        "# PCA with Transformer"
      ]
    },
    {
      "cell_type": "code",
      "metadata": {
        "id": "G2VWlaMh7O-4"
      },
      "source": [
        "#Masking the input for same length \n",
        "num_features=320\n",
        "def input_generator(df):\n",
        "    x_list= df['emb'].to_list()\n",
        "    y_list= df.label.to_list()\n",
        "    timesteps = len(max(df['emb'].to_list(), key=len))\n",
        "    x_train= np.full((df['emb'].shape[0], timesteps, num_features), -99.)\n",
        "    y_train = np.zeros((df['emb'].shape[0],  1))\n",
        "    for b in range(len(x_list)):\n",
        "        x_train[b, 0:len(x_list[b]), :] = x_list[b]\n",
        "        y_train[b]=y_list[b]\n",
        "    return x_train, y_train\n"
      ],
      "execution_count": null,
      "outputs": []
    },
    {
      "cell_type": "code",
      "metadata": {
        "colab": {
          "base_uri": "https://localhost:8080/"
        },
        "id": "JOSJuVy__sDg",
        "outputId": "e9e67357-d25a-4ea8-a616-c20d70e4fe44"
      },
      "source": [
        "x_train_new,y_train_new=input_generator(df_train_pca)\n",
        "x_train_new.shape, y_train_new.shape"
      ],
      "execution_count": null,
      "outputs": [
        {
          "data": {
            "text/plain": [
              "((4802, 1, 320), (4802, 1))"
            ]
          },
          "execution_count": 133,
          "metadata": {},
          "output_type": "execute_result"
        }
      ]
    },
    {
      "cell_type": "code",
      "metadata": {
        "colab": {
          "base_uri": "https://localhost:8080/"
        },
        "id": "oOvDaNDz_sHa",
        "outputId": "93a3a94b-71a9-4eab-a5c6-1e3efedcac80"
      },
      "source": [
        "x_val_new,y_val_new=input_generator(df_val_pca)\n",
        "x_val_new.shape, y_val_new.shape"
      ],
      "execution_count": null,
      "outputs": [
        {
          "data": {
            "text/plain": [
              "((1201, 1, 320), (1201, 1))"
            ]
          },
          "execution_count": 134,
          "metadata": {},
          "output_type": "execute_result"
        }
      ]
    },
    {
      "cell_type": "code",
      "metadata": {
        "colab": {
          "base_uri": "https://localhost:8080/"
        },
        "id": "6UBnt1aoAIhL",
        "outputId": "4ef66288-4cdf-47e1-d237-6e517369be1c"
      },
      "source": [
        "x_test_new,y_test_new=input_generator(df_test_pca)\n",
        "x_test_new.shape, y_test_new.shape"
      ],
      "execution_count": null,
      "outputs": [
        {
          "data": {
            "text/plain": [
              "((323, 1, 320), (323, 1))"
            ]
          },
          "execution_count": 135,
          "metadata": {},
          "output_type": "execute_result"
        }
      ]
    },
    {
      "cell_type": "code",
      "metadata": {
        "id": "nTvXTfj_AImq"
      },
      "source": [
        "from tensorflow import keras\n",
        "from tensorflow.keras import layers"
      ],
      "execution_count": null,
      "outputs": []
    },
    {
      "cell_type": "code",
      "metadata": {
        "id": "W9jOzkKDAIt5"
      },
      "source": [
        "\n",
        "class TransformerBlock(layers.Layer):\n",
        "    def __init__(self, embed_dim, num_heads, ff_dim, rate=0.1):\n",
        "        super(TransformerBlock, self).__init__()\n",
        "        self.att = layers.MultiHeadAttention(num_heads=num_heads, key_dim=embed_dim)\n",
        "        self.ffn = keras.Sequential(\n",
        "            [layers.Dense(ff_dim, activation=\"relu\"), layers.Dense(embed_dim),]\n",
        "        )\n",
        "        self.layernorm1 = layers.LayerNormalization(epsilon=1e-6)\n",
        "        self.layernorm2 = layers.LayerNormalization(epsilon=1e-6)\n",
        "        self.dropout1 = layers.Dropout(rate)\n",
        "        self.dropout2 = layers.Dropout(rate)\n",
        "\n",
        "    def call(self, inputs, training):\n",
        "        attn_output = self.att(inputs, inputs)\n",
        "        attn_output = self.dropout1(attn_output, training=training)\n",
        "        out1 = self.layernorm1(inputs + attn_output)\n",
        "        ffn_output = self.ffn(out1)\n",
        "        ffn_output = self.dropout2(ffn_output, training=training)\n",
        "        return self.layernorm2(out1 + ffn_output)\n"
      ],
      "execution_count": null,
      "outputs": []
    },
    {
      "cell_type": "code",
      "metadata": {
        "id": "szOXD7RS_sMZ"
      },
      "source": [
        "\n",
        "class TokenAndPositionEmbedding(layers.Layer):\n",
        "    def __init__(self, maxlen, vocab_size, embed_dim):\n",
        "        super(TokenAndPositionEmbedding, self).__init__()\n",
        "        #self.token_emb = layers.Embedding(input_dim=vocab_size, output_dim=embed_dim)\n",
        "        self.pos_emb = layers.Embedding(input_dim=maxlen, output_dim=embed_dim)\n",
        "\n",
        "    def call(self, x):\n",
        "        maxlen = tf.shape(x)[-1]\n",
        "        positions = tf.range(start=0, limit=maxlen, delta=1)\n",
        "        positions = self.pos_emb(positions)\n",
        "        print(positions)\n",
        "        #x = self.token_emb(x)\n",
        "        print(x)\n",
        "        return x + positions\n"
      ],
      "execution_count": null,
      "outputs": []
    },
    {
      "cell_type": "code",
      "metadata": {
        "id": "J8WTE2H77PFp"
      },
      "source": [
        "vocab_size = 30  # Only consider the top 20k words\n",
        "maxlen = 4  # Only consider the first 200 words of each movie review"
      ],
      "execution_count": null,
      "outputs": []
    },
    {
      "cell_type": "code",
      "metadata": {
        "colab": {
          "base_uri": "https://localhost:8080/"
        },
        "id": "bKLgnC2EAVuq",
        "outputId": "6ad184e4-9409-4d2e-ba3e-61c53307fccf"
      },
      "source": [
        "\n",
        "embed_dim = 320  # Embedding size for each token\n",
        "num_heads = 2  # Number of attention heads\n",
        "ff_dim = 32  # Hidden layer size in feed forward network inside transformer\n",
        "\n",
        "inputs = layers.Input(shape=(None,320,))\n",
        "embedding_layer = TokenAndPositionEmbedding(maxlen, vocab_size, embed_dim)\n",
        "x = embedding_layer(inputs)\n",
        "x = inputs\n",
        "transformer_block = TransformerBlock(embed_dim, num_heads, ff_dim)\n",
        "x = transformer_block(x,True)\n",
        "x = layers.GlobalAveragePooling1D()(x)\n",
        "x = layers.Dropout(0.1)(x)\n",
        "x = layers.Dense(20, activation=\"relu\")(x)\n",
        "x = layers.Dropout(0.1)(x)\n",
        "outputs = layers.Dense(15, activation=\"softmax\")(x)\n",
        "\n",
        "model_transpca = keras.Model(inputs=inputs, outputs=outputs)\n"
      ],
      "execution_count": null,
      "outputs": [
        {
          "name": "stdout",
          "output_type": "stream",
          "text": [
            "Tensor(\"token_and_position_embedding/embedding/embedding_lookup/Identity_1:0\", shape=(320, 320), dtype=float32)\n",
            "Tensor(\"input_1:0\", shape=(?, ?, 320), dtype=float32)\n"
          ]
        }
      ]
    },
    {
      "cell_type": "code",
      "metadata": {
        "id": "WtoNhCpCAVzk"
      },
      "source": [
        "from tensorflow.keras.callbacks import EarlyStopping\n",
        "early_stopping_monitor = EarlyStopping(patience=5)\n",
        "callbacks_list = [early_stopping_monitor]"
      ],
      "execution_count": null,
      "outputs": []
    },
    {
      "cell_type": "code",
      "metadata": {
        "colab": {
          "base_uri": "https://localhost:8080/"
        },
        "id": "_-zVKx9rAgn7",
        "outputId": "d8b8bc28-18c3-4c4a-af74-7bce02135d55"
      },
      "source": [
        "model_transpca.compile(\"adam\",loss=\"sparse_categorical_crossentropy\", metrics=[\"accuracy\"])\n",
        "model_transpca.fit(x_train_new, y_train_new, batch_size=32, epochs=100, validation_data=(x_val_new, y_val_new),callbacks =callbacks_list)"
      ],
      "execution_count": null,
      "outputs": [
        {
          "name": "stdout",
          "output_type": "stream",
          "text": [
            "Train on 4802 samples, validate on 1201 samples\n",
            "Epoch 1/100\n",
            "4704/4802 [============================>.] - ETA: 0s - loss: 1.0940 - acc: 0.7190"
          ]
        },
        {
          "name": "stderr",
          "output_type": "stream",
          "text": [
            "/usr/local/lib/python3.7/dist-packages/keras/engine/training_v1.py:2057: UserWarning: `Model.state_updates` will be removed in a future version. This property should not be used in TensorFlow 2.0, as `updates` are applied automatically.\n",
            "  updates = self.state_updates\n"
          ]
        },
        {
          "name": "stdout",
          "output_type": "stream",
          "text": [
            "4802/4802 [==============================] - 1s 223us/sample - loss: 1.0906 - acc: 0.7197 - val_loss: 1.0884 - val_acc: 0.6919\n",
            "Epoch 2/100\n",
            "4802/4802 [==============================] - 1s 152us/sample - loss: 0.7582 - acc: 0.7861 - val_loss: 1.1283 - val_acc: 0.6911\n",
            "Epoch 3/100\n",
            "4802/4802 [==============================] - 1s 157us/sample - loss: 0.6936 - acc: 0.7901 - val_loss: 1.0239 - val_acc: 0.7069\n",
            "Epoch 4/100\n",
            "4802/4802 [==============================] - 1s 150us/sample - loss: 0.6300 - acc: 0.8036 - val_loss: 1.0686 - val_acc: 0.6928\n",
            "Epoch 5/100\n",
            "4802/4802 [==============================] - 1s 155us/sample - loss: 0.5888 - acc: 0.8128 - val_loss: 1.1672 - val_acc: 0.6836\n",
            "Epoch 6/100\n",
            "4802/4802 [==============================] - 1s 147us/sample - loss: 0.5865 - acc: 0.8109 - val_loss: 1.1651 - val_acc: 0.6811\n",
            "Epoch 7/100\n",
            "4802/4802 [==============================] - 1s 148us/sample - loss: 0.5507 - acc: 0.8259 - val_loss: 1.1826 - val_acc: 0.6853\n",
            "Epoch 8/100\n",
            "4802/4802 [==============================] - 1s 153us/sample - loss: 0.5279 - acc: 0.8284 - val_loss: 1.1550 - val_acc: 0.6911\n"
          ]
        },
        {
          "data": {
            "text/plain": [
              "<keras.callbacks.History at 0x7f932b0eced0>"
            ]
          },
          "execution_count": 142,
          "metadata": {},
          "output_type": "execute_result"
        }
      ]
    },
    {
      "cell_type": "code",
      "metadata": {
        "colab": {
          "base_uri": "https://localhost:8080/"
        },
        "id": "x5VILTYdAgsx",
        "outputId": "22931705-e52b-43cf-9991-1b50d1443614"
      },
      "source": [
        "x_test_new,y_test_new=input_generator(df_test_pca)\n",
        "x_test_new.shape, y_test_new.shape"
      ],
      "execution_count": null,
      "outputs": [
        {
          "data": {
            "text/plain": [
              "((323, 1, 320), (323, 1))"
            ]
          },
          "execution_count": 143,
          "metadata": {},
          "output_type": "execute_result"
        }
      ]
    },
    {
      "cell_type": "code",
      "metadata": {
        "colab": {
          "base_uri": "https://localhost:8080/"
        },
        "id": "f8Rg5dqDAgwz",
        "outputId": "e6378d8f-621d-4913-e3ba-33b8f59fb5d5"
      },
      "source": [
        "y_proba1=model_transpca.predict(x_test_new)"
      ],
      "execution_count": null,
      "outputs": [
        {
          "name": "stderr",
          "output_type": "stream",
          "text": [
            "/usr/local/lib/python3.7/dist-packages/keras/engine/training_v1.py:2079: UserWarning: `Model.state_updates` will be removed in a future version. This property should not be used in TensorFlow 2.0, as `updates` are applied automatically.\n",
            "  updates=self.state_updates,\n"
          ]
        }
      ]
    },
    {
      "cell_type": "code",
      "metadata": {
        "colab": {
          "base_uri": "https://localhost:8080/"
        },
        "id": "OxLXu2-WAV49",
        "outputId": "83c098ee-e2d1-480c-a82e-280284f72a41"
      },
      "source": [
        "y_pred=[]\n",
        "for i in y_proba1:\n",
        "    max_index_row = np.argmax(i, axis=0)\n",
        "    y_pred.append(max_index_row)\n",
        "\n",
        "#Evaluating Model Performance by creating confusion matrix and classification report\n",
        "from sklearn.metrics import classification_report, confusion_matrix\n",
        "print('Confusion Matrix')\n",
        "print(confusion_matrix(y_pred, df_test_pca['label']))\n",
        "print('Classification Report')\n",
        "print(classification_report(y_pred, df_test_pca['label']))\n"
      ],
      "execution_count": null,
      "outputs": [
        {
          "name": "stdout",
          "output_type": "stream",
          "text": [
            "Confusion Matrix\n",
            "[[ 1  0  0  4  0  0  0 52  9  2  0  4]\n",
            " [ 0  2  7  0  0  1 13 12 32  2  0  0]\n",
            " [ 1  3  1  0  0  0  4  4  2  3  0  0]\n",
            " [ 0  0  0  0  0  1  0  0  0  0  0  0]\n",
            " [ 0  1  0  2  0  0  0  0  0  0  0  0]\n",
            " [ 0  0  0  0  0  0  0  0  1  0  0  0]\n",
            " [ 0  0  0  0  1  0  0  0  0  1  3  0]\n",
            " [69 15  4  5  0  0  0  2  6  0  0  0]\n",
            " [ 1 22  0  0  0  0  0  3  8  1  0  2]\n",
            " [ 0  0  0  0  0  0  0  0  1  0  1  0]\n",
            " [ 0  0  0  0  0  0  0  0  0  0  0  0]\n",
            " [ 0  0  0  0  0  0  0  2  1  0  0 11]]\n",
            "Classification Report\n",
            "              precision    recall  f1-score   support\n",
            "\n",
            "           1       0.01      0.01      0.01        72\n",
            "           2       0.05      0.03      0.04        69\n",
            "           3       0.08      0.06      0.07        18\n",
            "           4       0.00      0.00      0.00         1\n",
            "           5       0.00      0.00      0.00         3\n",
            "           6       0.00      0.00      0.00         1\n",
            "           7       0.00      0.00      0.00         5\n",
            "           8       0.03      0.02      0.02       101\n",
            "           9       0.13      0.22      0.16        37\n",
            "          10       0.00      0.00      0.00         2\n",
            "          11       0.00      0.00      0.00         0\n",
            "          12       0.65      0.79      0.71        14\n",
            "\n",
            "    accuracy                           0.08       323\n",
            "   macro avg       0.08      0.09      0.08       323\n",
            "weighted avg       0.07      0.08      0.07       323\n",
            "\n"
          ]
        },
        {
          "name": "stderr",
          "output_type": "stream",
          "text": [
            "/usr/local/lib/python3.7/dist-packages/sklearn/metrics/_classification.py:1272: UndefinedMetricWarning: Recall and F-score are ill-defined and being set to 0.0 in labels with no true samples. Use `zero_division` parameter to control this behavior.\n",
            "  _warn_prf(average, modifier, msg_start, len(result))\n"
          ]
        }
      ]
    },
    {
      "cell_type": "code",
      "metadata": {
        "colab": {
          "base_uri": "https://localhost:8080/"
        },
        "id": "W-x_zx-HBEOf",
        "outputId": "50182fa4-89ba-4ea7-a237-4012b58c086d"
      },
      "source": [
        "mat = confusion_matrix(y_pred, df_test_pca['label'])\n",
        "\n",
        "diag = np.diagonal(mat)\n",
        "print('No of correctly identified labels :',sum(diag))\n",
        "print('No of misclassified samples : ',sum(sum(mat))-sum(diag))"
      ],
      "execution_count": null,
      "outputs": [
        {
          "name": "stdout",
          "output_type": "stream",
          "text": [
            "No of correctly identified labels : 25\n",
            "No of misclassified samples :  298\n"
          ]
        }
      ]
    },
    {
      "cell_type": "code",
      "metadata": {
        "colab": {
          "base_uri": "https://localhost:8080/"
        },
        "id": "zsOWwgE1BESu",
        "outputId": "e3146854-9a4f-4cd8-e9e5-7bfe6828c340"
      },
      "source": [
        "#KPCA \n",
        "x_train_new,y_train_new=input_generator(df_train_kpca)\n",
        "x_train_new.shape, y_train_new.shape"
      ],
      "execution_count": null,
      "outputs": [
        {
          "data": {
            "text/plain": [
              "((4802, 1, 320), (4802, 1))"
            ]
          },
          "execution_count": 147,
          "metadata": {},
          "output_type": "execute_result"
        }
      ]
    },
    {
      "cell_type": "code",
      "metadata": {
        "colab": {
          "base_uri": "https://localhost:8080/"
        },
        "id": "UUL2Ed66BTg3",
        "outputId": "55b86d83-df89-45a2-ee79-64245b8c13c6"
      },
      "source": [
        "x_val_new,y_val_new=input_generator(df_val_kpca)\n",
        "x_val_new.shape, y_val_new.shape"
      ],
      "execution_count": null,
      "outputs": [
        {
          "data": {
            "text/plain": [
              "((1201, 1, 320), (1201, 1))"
            ]
          },
          "execution_count": 148,
          "metadata": {},
          "output_type": "execute_result"
        }
      ]
    },
    {
      "cell_type": "code",
      "metadata": {
        "colab": {
          "base_uri": "https://localhost:8080/"
        },
        "id": "4dNhhNOPBTmK",
        "outputId": "ab46c5b0-0ea9-477b-8941-63884af1bb5e"
      },
      "source": [
        "x_test_new,y_test_new=input_generator(df_test_kpca)\n",
        "x_test_new.shape, y_test_new.shape"
      ],
      "execution_count": null,
      "outputs": [
        {
          "data": {
            "text/plain": [
              "((323, 1, 320), (323, 1))"
            ]
          },
          "execution_count": 149,
          "metadata": {},
          "output_type": "execute_result"
        }
      ]
    },
    {
      "cell_type": "code",
      "metadata": {
        "colab": {
          "base_uri": "https://localhost:8080/"
        },
        "id": "WyDPcr-LBTrL",
        "outputId": "d4ec479a-6444-48c9-ff10-5ae73bbc3d4d"
      },
      "source": [
        "\n",
        "embed_dim = 320  # Embedding size for each token\n",
        "num_heads = 2  # Number of attention heads\n",
        "ff_dim = 32  # Hidden layer size in feed forward network inside transformer\n",
        "\n",
        "inputs = layers.Input(shape=(None,320,))\n",
        "embedding_layer = TokenAndPositionEmbedding(maxlen, vocab_size, embed_dim)\n",
        "x = embedding_layer(inputs)\n",
        "x = inputs\n",
        "transformer_block = TransformerBlock(embed_dim, num_heads, ff_dim)\n",
        "x = transformer_block(x,True)\n",
        "x = layers.GlobalAveragePooling1D()(x)\n",
        "x = layers.Dropout(0.1)(x)\n",
        "x = layers.Dense(20, activation=\"relu\")(x)\n",
        "x = layers.Dropout(0.1)(x)\n",
        "outputs = layers.Dense(15, activation=\"softmax\")(x)\n",
        "\n",
        "model_transkpca = keras.Model(inputs=inputs, outputs=outputs)\n"
      ],
      "execution_count": null,
      "outputs": [
        {
          "name": "stdout",
          "output_type": "stream",
          "text": [
            "Tensor(\"token_and_position_embedding_1/embedding_1/embedding_lookup/Identity_1:0\", shape=(320, 320), dtype=float32)\n",
            "Tensor(\"input_2:0\", shape=(?, ?, 320), dtype=float32)\n"
          ]
        }
      ]
    },
    {
      "cell_type": "code",
      "metadata": {
        "colab": {
          "base_uri": "https://localhost:8080/"
        },
        "id": "E0sQgmhKBEXg",
        "outputId": "95874c8b-01cb-4642-e249-f906f4877011"
      },
      "source": [
        "model_transkpca.compile(\"adam\",loss=\"sparse_categorical_crossentropy\", metrics=[\"accuracy\"])\n",
        "model_transkpca.fit(x_train_new, y_train_new, batch_size=32, epochs=100, validation_data=(x_val_new, y_val_new),callbacks =callbacks_list)"
      ],
      "execution_count": null,
      "outputs": [
        {
          "name": "stdout",
          "output_type": "stream",
          "text": [
            "Train on 4802 samples, validate on 1201 samples\n",
            "Epoch 1/100\n",
            "4576/4802 [===========================>..] - ETA: 0s - loss: 2.2710 - acc: 0.2111"
          ]
        },
        {
          "name": "stderr",
          "output_type": "stream",
          "text": [
            "/usr/local/lib/python3.7/dist-packages/keras/engine/training_v1.py:2057: UserWarning: `Model.state_updates` will be removed in a future version. This property should not be used in TensorFlow 2.0, as `updates` are applied automatically.\n",
            "  updates = self.state_updates\n"
          ]
        },
        {
          "name": "stdout",
          "output_type": "stream",
          "text": [
            "4802/4802 [==============================] - 1s 224us/sample - loss: 2.2699 - acc: 0.2110 - val_loss: 2.2089 - val_acc: 0.2090\n",
            "Epoch 2/100\n",
            "4802/4802 [==============================] - 1s 157us/sample - loss: 2.1383 - acc: 0.2278 - val_loss: 2.4138 - val_acc: 0.1932\n",
            "Epoch 3/100\n",
            "4802/4802 [==============================] - 1s 153us/sample - loss: 2.0882 - acc: 0.2470 - val_loss: 2.5897 - val_acc: 0.2015\n",
            "Epoch 4/100\n",
            "4802/4802 [==============================] - 1s 155us/sample - loss: 2.0591 - acc: 0.2518 - val_loss: 2.4146 - val_acc: 0.2048\n",
            "Epoch 5/100\n",
            "4802/4802 [==============================] - 1s 152us/sample - loss: 2.0425 - acc: 0.2520 - val_loss: 2.8858 - val_acc: 0.1782\n",
            "Epoch 6/100\n",
            "4802/4802 [==============================] - 1s 154us/sample - loss: 2.0210 - acc: 0.2643 - val_loss: 2.5808 - val_acc: 0.1882\n"
          ]
        },
        {
          "data": {
            "text/plain": [
              "<keras.callbacks.History at 0x7f9329a1a4d0>"
            ]
          },
          "execution_count": 151,
          "metadata": {},
          "output_type": "execute_result"
        }
      ]
    },
    {
      "cell_type": "code",
      "metadata": {
        "colab": {
          "base_uri": "https://localhost:8080/"
        },
        "id": "ja5D5RviBEdQ",
        "outputId": "697c1938-5ec2-4cb7-88e7-2a86c2b97a5d"
      },
      "source": [
        "x_test_new,y_test_new=input_generator(df_test_kpca)\n",
        "x_test_new.shape, y_test_new.shape"
      ],
      "execution_count": null,
      "outputs": [
        {
          "data": {
            "text/plain": [
              "((323, 1, 320), (323, 1))"
            ]
          },
          "execution_count": 152,
          "metadata": {},
          "output_type": "execute_result"
        }
      ]
    },
    {
      "cell_type": "code",
      "metadata": {
        "colab": {
          "base_uri": "https://localhost:8080/"
        },
        "id": "DwXCfbTdBElU",
        "outputId": "edb908a7-fe28-4c8a-a438-cc9faf7371c3"
      },
      "source": [
        "y_proba1=model_transkpca.predict(x_test_new)\n",
        "\n",
        "y_pred=[]\n",
        "for i in y_proba1:\n",
        "    max_index_row = np.argmax(i, axis=0)\n",
        "    y_pred.append(max_index_row)\n",
        "\n",
        "#Evaluating Model Performance by creating confusion matrix and classification report\n",
        "from sklearn.metrics import classification_report, confusion_matrix\n",
        "print('Confusion Matrix')\n",
        "print(confusion_matrix(y_pred, df_test_kpca['label']))\n",
        "print('Classification Report')\n",
        "print(classification_report(y_pred, df_test_kpca['label']))"
      ],
      "execution_count": null,
      "outputs": [
        {
          "name": "stdout",
          "output_type": "stream",
          "text": [
            "Confusion Matrix\n",
            "[[36 22  5  7  1  0  8 28 30  3  2  7]\n",
            " [ 9  3  1  0  0  1  2 14  6  1  0  5]\n",
            " [ 3  2  3  1  0  0  0  4  2  0  0  2]\n",
            " [ 0  0  0  0  0  0  0  0  0  0  0  0]\n",
            " [ 0  0  0  0  0  0  0  0  0  0  0  0]\n",
            " [ 0  0  0  0  0  0  0  0  0  0  0  0]\n",
            " [ 2  0  0  0  0  0  0  0  3  1  0  0]\n",
            " [12  9  1  3  0  0  4  9  9  0  1  3]\n",
            " [ 7  6  2  0  0  1  2 15  7  4  0  0]\n",
            " [ 0  0  0  0  0  0  0  0  0  0  0  0]\n",
            " [ 0  0  0  0  0  0  0  0  0  0  0  0]\n",
            " [ 3  1  0  0  0  0  1  5  3  0  1  0]]\n",
            "Classification Report\n",
            "              precision    recall  f1-score   support\n",
            "\n",
            "           1       0.50      0.24      0.33       149\n",
            "           2       0.07      0.07      0.07        42\n",
            "           3       0.25      0.18      0.21        17\n",
            "           4       0.00      0.00      0.00         0\n",
            "           5       0.00      0.00      0.00         0\n",
            "           6       0.00      0.00      0.00         0\n",
            "           7       0.00      0.00      0.00         6\n",
            "           8       0.12      0.18      0.14        51\n",
            "           9       0.12      0.16      0.13        44\n",
            "          10       0.00      0.00      0.00         0\n",
            "          11       0.00      0.00      0.00         0\n",
            "          12       0.00      0.00      0.00        14\n",
            "\n",
            "    accuracy                           0.18       323\n",
            "   macro avg       0.09      0.07      0.07       323\n",
            "weighted avg       0.29      0.18      0.21       323\n",
            "\n"
          ]
        },
        {
          "name": "stderr",
          "output_type": "stream",
          "text": [
            "/usr/local/lib/python3.7/dist-packages/keras/engine/training_v1.py:2079: UserWarning: `Model.state_updates` will be removed in a future version. This property should not be used in TensorFlow 2.0, as `updates` are applied automatically.\n",
            "  updates=self.state_updates,\n",
            "/usr/local/lib/python3.7/dist-packages/sklearn/metrics/_classification.py:1272: UndefinedMetricWarning: Recall and F-score are ill-defined and being set to 0.0 in labels with no true samples. Use `zero_division` parameter to control this behavior.\n",
            "  _warn_prf(average, modifier, msg_start, len(result))\n"
          ]
        }
      ]
    },
    {
      "cell_type": "code",
      "metadata": {
        "colab": {
          "base_uri": "https://localhost:8080/"
        },
        "id": "Xnq9gwrlBEtl",
        "outputId": "0ba5b718-5266-4250-d210-2518feea217d"
      },
      "source": [
        "mat = confusion_matrix(y_pred, df_test_kpca['label'])\n",
        "\n",
        "diag = np.diagonal(mat)\n",
        "print('No of correctly identified labels :',sum(diag))\n",
        "print('No of misclassified samples : ',sum(sum(mat))-sum(diag))"
      ],
      "execution_count": null,
      "outputs": [
        {
          "name": "stdout",
          "output_type": "stream",
          "text": [
            "No of correctly identified labels : 58\n",
            "No of misclassified samples :  265\n"
          ]
        }
      ]
    },
    {
      "cell_type": "markdown",
      "metadata": {
        "id": "Wd5gniX0DDsK"
      },
      "source": [
        "# LSTM Network Entire Chunk Stack "
      ]
    },
    {
      "cell_type": "code",
      "metadata": {
        "id": "gs5ZgIveDJUc"
      },
      "source": [
        "num_sequences = len(df_train['emb'].to_list())\n",
        "batch_size = 2\n",
        "batches_per_epoch =  2401\n",
        "assert batch_size * batches_per_epoch == num_sequences\n",
        "num_features= 768\n",
        "def train_generator_entire(df):\n",
        "    x_list= df['emb'].to_list()\n",
        "    y_list =  df.label.to_list()\n",
        "    # Generate batches\n",
        "    while True:\n",
        "        for b in range(batches_per_epoch):\n",
        "            longest_index = (b + 1) * batch_size - 1\n",
        "            timesteps = len(max(df['emb'].to_list()[:(b + 1) * batch_size][-batch_size:], key=len))\n",
        "            x_train = np.full((batch_size, timesteps, num_features), -99.)\n",
        "            y_train = np.zeros((batch_size,  1))\n",
        "            for i in range(batch_size):\n",
        "                li = b * batch_size + i\n",
        "                x_train[i, 0:len(x_list[li]), :] = x_list[li]\n",
        "                y_train[i] = y_list[li]\n",
        "            yield x_train, y_train"
      ],
      "execution_count": null,
      "outputs": []
    },
    {
      "cell_type": "code",
      "metadata": {
        "id": "ndqjYSHKDJX0"
      },
      "source": [
        "num_sequences_val = len(df_val['emb'].to_list())\n",
        "batch_size_val = 1\n",
        "batches_per_epoch_val = 1201\n",
        "assert batch_size_val * batches_per_epoch_val == num_sequences_val\n",
        "num_features= 768\n",
        "def val_generator_entire(df):\n",
        "    x_list= df['emb'].to_list()\n",
        "    y_list =  df.label.to_list()\n",
        "    # Generate batches\n",
        "    while True:\n",
        "        for b in range(batches_per_epoch_val):\n",
        "            longest_index = (b + 1) * batch_size_val - 1\n",
        "            timesteps = len(max(df['emb'].to_list()[:(b + 1) * batch_size_val][-31:], key=len))\n",
        "            x_train = np.full((batch_size_val, timesteps, num_features), -99.)\n",
        "            y_train = np.zeros((batch_size_val,  1))\n",
        "            for i in range(batch_size_val):\n",
        "                li = b * batch_size_val + i\n",
        "                x_train[i, 0:len(x_list[li]), :] = x_list[li]\n",
        "                y_train[i] = y_list[li]\n",
        "            yield x_train, y_train"
      ],
      "execution_count": null,
      "outputs": []
    },
    {
      "cell_type": "code",
      "metadata": {
        "colab": {
          "base_uri": "https://localhost:8080/"
        },
        "id": "fJg4HxF_DJbS",
        "outputId": "96587df0-67a3-4173-8d38-957d8fbe12dd"
      },
      "source": [
        "from keras import layers\n",
        "from keras.layers import Embedding, Dense, Input, concatenate, Layer, Lambda, Dropout, Activation\n",
        "from keras.models import Sequential, Model\n",
        "text_input = Input(shape=(None,768,), dtype='float32', name='text')\n",
        "\n",
        "l_mask = layers.Masking(mask_value=-99.)(text_input)\n",
        "# Which we encoded in a single vector via a LSTM\n",
        "encoded_text = layers.LSTM(100,)(l_mask)\n",
        "out_dense = layers.Dense(30, activation='relu')(encoded_text)\n",
        "# And we add a softmax classifier on top\n",
        "out = layers.Dense(len(df_train['label'].unique()), activation='softmax')(out_dense)\n",
        "# At model instantiation, we specify the input and the output:\n",
        "modelS = Model(text_input, out)\n",
        "modelS.compile(optimizer=tf.keras.optimizers.Adam(clipvalue=0.5),\n",
        "              loss='sparse_categorical_crossentropy',\n",
        "              metrics=['acc'])\n",
        "modelS.summary()"
      ],
      "execution_count": null,
      "outputs": [
        {
          "name": "stdout",
          "output_type": "stream",
          "text": [
            "Model: \"model\"\n",
            "_________________________________________________________________\n",
            "Layer (type)                 Output Shape              Param #   \n",
            "=================================================================\n",
            "text (InputLayer)            [(None, None, 768)]       0         \n",
            "_________________________________________________________________\n",
            "masking (Masking)            (None, None, 768)         0         \n",
            "_________________________________________________________________\n",
            "lstm (LSTM)                  (None, 100)               347600    \n",
            "_________________________________________________________________\n",
            "dense (Dense)                (None, 30)                3030      \n",
            "_________________________________________________________________\n",
            "dense_1 (Dense)              (None, 15)                465       \n",
            "=================================================================\n",
            "Total params: 351,095\n",
            "Trainable params: 351,095\n",
            "Non-trainable params: 0\n",
            "_________________________________________________________________\n"
          ]
        }
      ]
    },
    {
      "cell_type": "code",
      "metadata": {
        "id": "K6cl650BDJeX"
      },
      "source": [
        "df_train['label']=df_train['label'].replace([-1], 0)\n",
        "df_test['label']=df_test['label'].replace([-1], 0)\n",
        "df_val['label']=df_val['label'].replace([-1], 0)"
      ],
      "execution_count": null,
      "outputs": []
    },
    {
      "cell_type": "code",
      "metadata": {
        "colab": {
          "base_uri": "https://localhost:8080/"
        },
        "id": "pm7-JTLkR-gc",
        "outputId": "f90319eb-4e0b-4105-e961-e5c761366916"
      },
      "source": [
        "df_train['label'].unique()"
      ],
      "execution_count": null,
      "outputs": [
        {
          "data": {
            "text/plain": [
              "array([ 9,  2,  8,  1,  3, 12,  7,  5, 10,  4,  6,  0, 13, 11, 14])"
            ]
          },
          "execution_count": 105,
          "metadata": {},
          "output_type": "execute_result"
        }
      ]
    },
    {
      "cell_type": "code",
      "metadata": {
        "id": "b2ud8yO26Pwq"
      },
      "source": [
        "ES=tf.keras.callbacks.EarlyStopping(patience=5, restore_best_weights=True)"
      ],
      "execution_count": null,
      "outputs": []
    },
    {
      "cell_type": "code",
      "metadata": {
        "colab": {
          "base_uri": "https://localhost:8080/"
        },
        "id": "mZjO0lryDJhH",
        "outputId": "217e5918-eb35-4e46-ee1d-9e33c25ebe51"
      },
      "source": [
        "#First Time Run \n",
        "#Token size = 500, Earlier LSTM architecture \n",
        "#Accuracy is very low so interrupted in the middle \n",
        "modelS.fit_generator(train_generator_entire(df_train), steps_per_epoch=batches_per_epoch, epochs=50,validation_data=val_generator_entire(df_val), validation_steps=batches_per_epoch_val, callbacks=[ES] )"
      ],
      "execution_count": null,
      "outputs": [
        {
          "name": "stderr",
          "output_type": "stream",
          "text": [
            "/usr/local/lib/python3.7/dist-packages/keras/engine/training_v1.py:1228: UserWarning: `model.fit_generator` is deprecated and will be removed in a future version. Please use `Model.fit`, which supports generators.\n",
            "  warnings.warn('`model.fit_generator` is deprecated and '\n"
          ]
        },
        {
          "name": "stdout",
          "output_type": "stream",
          "text": [
            "Epoch 1/50\n",
            "2401/2401 [==============================] - ETA: 0s - batch: 1200.0000 - size: 2.0000 - loss: 0.8342 - acc: 0.7526"
          ]
        },
        {
          "name": "stderr",
          "output_type": "stream",
          "text": [
            "/usr/local/lib/python3.7/dist-packages/keras/engine/training.py:2470: UserWarning: `Model.state_updates` will be removed in a future version. This property should not be used in TensorFlow 2.0, as `updates` are applied automatically.\n",
            "  warnings.warn('`Model.state_updates` will be removed in a future version. '\n"
          ]
        },
        {
          "name": "stdout",
          "output_type": "stream",
          "text": [
            "2401/2401 [==============================] - 55s 22ms/step - batch: 1200.0000 - size: 2.0000 - loss: 0.8342 - acc: 0.7526 - val_loss: 0.9168 - val_acc: 0.7219\n",
            "Epoch 2/50\n",
            "2401/2401 [==============================] - 54s 22ms/step - batch: 1200.0000 - size: 2.0000 - loss: 0.7376 - acc: 0.7724 - val_loss: 0.9339 - val_acc: 0.7202\n",
            "Epoch 3/50\n",
            "2401/2401 [==============================] - 53s 22ms/step - batch: 1200.0000 - size: 2.0000 - loss: 0.7119 - acc: 0.7803 - val_loss: 0.8896 - val_acc: 0.7186\n",
            "Epoch 4/50\n",
            "2401/2401 [==============================] - 52s 22ms/step - batch: 1200.0000 - size: 2.0000 - loss: 0.6779 - acc: 0.7847 - val_loss: 0.9142 - val_acc: 0.7177\n",
            "Epoch 5/50\n",
            "2401/2401 [==============================] - 52s 22ms/step - batch: 1200.0000 - size: 2.0000 - loss: 0.6762 - acc: 0.7838 - val_loss: 0.9076 - val_acc: 0.7269\n",
            "Epoch 6/50\n",
            "2401/2401 [==============================] - 53s 22ms/step - batch: 1200.0000 - size: 2.0000 - loss: 0.6585 - acc: 0.7918 - val_loss: 0.9426 - val_acc: 0.7194\n",
            "Epoch 7/50\n",
            "2401/2401 [==============================] - 52s 22ms/step - batch: 1200.0000 - size: 2.0000 - loss: 0.6535 - acc: 0.7943 - val_loss: 0.9392 - val_acc: 0.7352\n",
            "Epoch 8/50\n",
            "2401/2401 [==============================] - 52s 22ms/step - batch: 1200.0000 - size: 2.0000 - loss: 0.6592 - acc: 0.7907 - val_loss: 0.9083 - val_acc: 0.7302\n"
          ]
        },
        {
          "data": {
            "text/plain": [
              "<keras.callbacks.History at 0x7faef16866d0>"
            ]
          },
          "execution_count": 107,
          "metadata": {},
          "output_type": "execute_result"
        }
      ]
    },
    {
      "cell_type": "code",
      "metadata": {
        "colab": {
          "base_uri": "https://localhost:8080/"
        },
        "id": "LClgmJv0Rpr2",
        "outputId": "181bafc0-fe18-491b-b6aa-01bcbf3ac1b8"
      },
      "source": [
        "num_sequences_val = len(df_test['emb'].to_list())\n",
        "batch_size_val = 1\n",
        "batches_per_epoch_val = 323\n",
        "assert batch_size_val * batches_per_epoch_val == num_sequences_val\n",
        "num_features= 768\n",
        "modelS.evaluate_generator(val_generator_entire(df_test), steps= batches_per_epoch_val)"
      ],
      "execution_count": null,
      "outputs": [
        {
          "name": "stderr",
          "output_type": "stream",
          "text": [
            "/usr/local/lib/python3.7/dist-packages/keras/engine/training_v1.py:1261: UserWarning: `Model.evaluate_generator` is deprecated and will be removed in a future version. Please use `Model.evaluate`, which supports generators.\n",
            "  warnings.warn('`Model.evaluate_generator` is deprecated and '\n"
          ]
        },
        {
          "data": {
            "text/plain": [
              "[0.6217815227858469, 0.7894737]"
            ]
          },
          "execution_count": 108,
          "metadata": {},
          "output_type": "execute_result"
        }
      ]
    },
    {
      "cell_type": "code",
      "metadata": {
        "colab": {
          "base_uri": "https://localhost:8080/"
        },
        "id": "JJisnYHSS0NM",
        "outputId": "8227c7a0-cd94-489f-9f5b-266b8360167a"
      },
      "source": [
        "y_proba=modelS.predict(val_generator_entire(df_test), steps= batches_per_epoch_val)"
      ],
      "execution_count": null,
      "outputs": [
        {
          "name": "stderr",
          "output_type": "stream",
          "text": [
            "/usr/local/lib/python3.7/dist-packages/keras/engine/training.py:2470: UserWarning: `Model.state_updates` will be removed in a future version. This property should not be used in TensorFlow 2.0, as `updates` are applied automatically.\n",
            "  warnings.warn('`Model.state_updates` will be removed in a future version. '\n"
          ]
        }
      ]
    },
    {
      "cell_type": "code",
      "metadata": {
        "colab": {
          "base_uri": "https://localhost:8080/"
        },
        "id": "j0YLTZZBS0Q1",
        "outputId": "2ccceccd-28b4-432a-aac8-51c9d9f1a05c"
      },
      "source": [
        "y_pred=[]\n",
        "for i in y_proba:\n",
        "    max_index_row = np.argmax(i, axis=0)\n",
        "    y_pred.append(max_index_row)\n",
        "\n",
        "\n",
        "#Evaluating Model Performance by creating confusion matrix and classification report\n",
        "from sklearn.metrics import classification_report, confusion_matrix\n",
        "print('Confusion Matrix')\n",
        "print(confusion_matrix(y_pred, df_test['label']))\n",
        "print('Classification Report')\n",
        "print(classification_report(y_pred, df_test['label']))"
      ],
      "execution_count": null,
      "outputs": [
        {
          "name": "stdout",
          "output_type": "stream",
          "text": [
            "Confusion Matrix\n",
            "[[66  0  0  5  0  0  0  0  2  0  0  0]\n",
            " [ 1 41  0  0  0  0  0  0  7  1  0  0]\n",
            " [ 0  1 11  0  0  0  0  1  2  0  0  0]\n",
            " [ 2  0  0  5  0  0  0  0  3  0  0  0]\n",
            " [ 0  0  0  0  1  0  0  0  0  0  0  0]\n",
            " [ 0  0  0  0  0  2  0  0  1  0  0  0]\n",
            " [ 1  0  1  0  0  0 16  0  4  2  0  0]\n",
            " [ 0  0  0  1  0  0  0 67 14  2  0  3]\n",
            " [ 2  1  0  0  0  0  1  3 26  1  0  0]\n",
            " [ 0  0  0  0  0  0  0  2  0  2  0  0]\n",
            " [ 0  0  0  0  0  0  0  0  0  1  4  0]\n",
            " [ 0  0  0  0  0  0  0  2  1  0  0 14]]\n",
            "Classification Report\n",
            "              precision    recall  f1-score   support\n",
            "\n",
            "           1       0.92      0.90      0.91        73\n",
            "           2       0.95      0.82      0.88        50\n",
            "           3       0.92      0.73      0.81        15\n",
            "           4       0.45      0.50      0.48        10\n",
            "           5       1.00      1.00      1.00         1\n",
            "           6       1.00      0.67      0.80         3\n",
            "           7       0.94      0.67      0.78        24\n",
            "           8       0.89      0.77      0.83        87\n",
            "           9       0.43      0.76      0.55        34\n",
            "          10       0.22      0.50      0.31         4\n",
            "          11       1.00      0.80      0.89         5\n",
            "          12       0.82      0.82      0.82        17\n",
            "\n",
            "    accuracy                           0.79       323\n",
            "   macro avg       0.80      0.75      0.76       323\n",
            "weighted avg       0.84      0.79      0.81       323\n",
            "\n"
          ]
        }
      ]
    },
    {
      "cell_type": "code",
      "metadata": {
        "colab": {
          "base_uri": "https://localhost:8080/"
        },
        "id": "hES0eODmS6PV",
        "outputId": "8d693c4d-fc4f-43a6-c13f-6a38c635527f"
      },
      "source": [
        "mat = confusion_matrix(y_pred, df_test['label'])\n",
        "\n",
        "diag = np.diagonal(mat)\n",
        "sum(diag)"
      ],
      "execution_count": null,
      "outputs": [
        {
          "data": {
            "text/plain": [
              "255"
            ]
          },
          "execution_count": 111,
          "metadata": {},
          "output_type": "execute_result"
        }
      ]
    },
    {
      "cell_type": "markdown",
      "metadata": {
        "id": "bWoi6HxJy4DI"
      },
      "source": [
        "# Head and Tail without chunks "
      ]
    },
    {
      "cell_type": "code",
      "metadata": {
        "id": "RL4-_ZXcy3X9"
      },
      "source": [
        "num_sequences = len(df_train['emb'].to_list())\n",
        "batch_size = 2\n",
        "batches_per_epoch =  2401\n",
        "assert batch_size * batches_per_epoch == num_sequences\n",
        "num_features= 768\n",
        "def train_generator_entire(df):\n",
        "    x_list= df['emb'].to_list()\n",
        "    y_list =  df.label.to_list()\n",
        "    # Generate batches\n",
        "    while True:\n",
        "        for b in range(batches_per_epoch):\n",
        "            longest_index = (b + 1) * batch_size - 1\n",
        "            timesteps = len(max(df['emb'].to_list()[:(b + 1) * batch_size][-batch_size:], key=len))\n",
        "            x_train = np.full((batch_size, timesteps, num_features), -99.)\n",
        "            y_train = np.zeros((batch_size,  1))\n",
        "            for i in range(batch_size):\n",
        "                li = b * batch_size + i\n",
        "                x_train[i, 0:len(x_list[li]), :] = x_list[li]\n",
        "                y_train[i] = y_list[li]\n",
        "            yield x_train, y_train"
      ],
      "execution_count": null,
      "outputs": []
    },
    {
      "cell_type": "code",
      "metadata": {
        "id": "1atpfJuwy3eD"
      },
      "source": [
        "num_sequences_val = len(df_val['emb'].to_list())\n",
        "batch_size_val = 1\n",
        "batches_per_epoch_val = 1201\n",
        "assert batch_size_val * batches_per_epoch_val == num_sequences_val\n",
        "num_features= 768\n",
        "def val_generator_entire(df):\n",
        "    x_list= df['emb'].to_list()\n",
        "    y_list =  df.label.to_list()\n",
        "    # Generate batches\n",
        "    while True:\n",
        "        for b in range(batches_per_epoch_val):\n",
        "            longest_index = (b + 1) * batch_size_val - 1\n",
        "            timesteps = len(max(df['emb'].to_list()[:(b + 1) * batch_size_val][-31:], key=len))\n",
        "            x_train = np.full((batch_size_val, timesteps, num_features), -99.)\n",
        "            y_train = np.zeros((batch_size_val,  1))\n",
        "            for i in range(batch_size_val):\n",
        "                li = b * batch_size_val + i\n",
        "                x_train[i, 0:len(x_list[li]), :] = x_list[li]\n",
        "                y_train[i] = y_list[li]\n",
        "            yield x_train, y_train"
      ],
      "execution_count": null,
      "outputs": []
    },
    {
      "cell_type": "code",
      "metadata": {
        "colab": {
          "base_uri": "https://localhost:8080/"
        },
        "id": "d7qsdNF5y3gh",
        "outputId": "04352e66-32f8-4d8c-d31f-78f9f4160e74"
      },
      "source": [
        "from keras import layers\n",
        "from keras.layers import Embedding, Dense, Input, concatenate, Layer, Lambda, Dropout, Activation\n",
        "from keras.models import Sequential, Model\n",
        "text_input = Input(shape=(None,768,), dtype='float32', name='text')\n",
        "\n",
        "l_mask = layers.Masking(mask_value=-99.)(text_input)\n",
        "# Which we encoded in a single vector via a LSTM\n",
        "encoded_text = layers.LSTM(100,)(l_mask)\n",
        "out_dense = layers.Dense(30, activation='relu')(encoded_text)\n",
        "# And we add a softmax classifier on top\n",
        "out = layers.Dense(len(df_train['label'].unique()), activation='softmax')(out_dense)\n",
        "# At model instantiation, we specify the input and the output:\n",
        "modelHT = Model(text_input, out)\n",
        "modelHT.compile(optimizer=tf.keras.optimizers.Adam(clipvalue=0.5),\n",
        "              loss='sparse_categorical_crossentropy',\n",
        "              metrics=['acc'])\n",
        "modelHT.summary()"
      ],
      "execution_count": null,
      "outputs": [
        {
          "name": "stdout",
          "output_type": "stream",
          "text": [
            "Model: \"model\"\n",
            "_________________________________________________________________\n",
            " Layer (type)                Output Shape              Param #   \n",
            "=================================================================\n",
            " text (InputLayer)           [(None, None, 768)]       0         \n",
            "                                                                 \n",
            " masking (Masking)           (None, None, 768)         0         \n",
            "                                                                 \n",
            " lstm (LSTM)                 (None, 100)               347600    \n",
            "                                                                 \n",
            " dense (Dense)               (None, 30)                3030      \n",
            "                                                                 \n",
            " dense_1 (Dense)             (None, 15)                465       \n",
            "                                                                 \n",
            "=================================================================\n",
            "Total params: 351,095\n",
            "Trainable params: 351,095\n",
            "Non-trainable params: 0\n",
            "_________________________________________________________________\n"
          ]
        }
      ]
    },
    {
      "cell_type": "code",
      "metadata": {
        "id": "Mxk1jBwizklG"
      },
      "source": [
        "df_train['label']=df_train['label'].replace([-1], 0)\n",
        "df_test['label']=df_test['label'].replace([-1], 0)\n",
        "df_val['label']=df_val['label'].replace([-1], 0)"
      ],
      "execution_count": null,
      "outputs": []
    },
    {
      "cell_type": "code",
      "metadata": {
        "colab": {
          "base_uri": "https://localhost:8080/"
        },
        "id": "rCesJUrmzkrS",
        "outputId": "afe642b4-5d15-4661-baef-d6c6eba23232"
      },
      "source": [
        "df_train['label'].unique()"
      ],
      "execution_count": null,
      "outputs": [
        {
          "data": {
            "text/plain": [
              "array([ 9,  2,  8,  1,  3, 12,  7,  5, 10,  4,  6,  0, 13, 11, 14])"
            ]
          },
          "execution_count": 120,
          "metadata": {},
          "output_type": "execute_result"
        }
      ]
    },
    {
      "cell_type": "code",
      "metadata": {
        "id": "VKKaINbpzkuC"
      },
      "source": [
        "ES=tf.keras.callbacks.EarlyStopping(patience=5, restore_best_weights=True)"
      ],
      "execution_count": null,
      "outputs": []
    },
    {
      "cell_type": "code",
      "metadata": {
        "colab": {
          "base_uri": "https://localhost:8080/"
        },
        "id": "MBY625a2zx2a",
        "outputId": "286e1946-7a69-4f73-c02d-36e2b7482e73"
      },
      "source": [
        "#First Time Run \n",
        "#Token size = 500, Earlier LSTM architecture \n",
        "#Accuracy is very low so interrupted in the middle \n",
        "modelHT.fit_generator(train_generator_entire(df_train), steps_per_epoch=batches_per_epoch, epochs=50,validation_data=val_generator_entire(df_val), validation_steps=batches_per_epoch_val, callbacks=[ES] )"
      ],
      "execution_count": null,
      "outputs": [
        {
          "name": "stderr",
          "output_type": "stream",
          "text": [
            "/usr/local/lib/python3.7/dist-packages/ipykernel_launcher.py:4: UserWarning: `model.fit_generator` is deprecated and will be removed in a future version. Please use `Model.fit`, which supports generators.\n",
            "  after removing the cwd from sys.path.\n"
          ]
        },
        {
          "name": "stdout",
          "output_type": "stream",
          "text": [
            "Epoch 1/50\n",
            "2399/2401 [============================>.] - ETA: 0s - batch: 1199.0000 - size: 2.0000 - loss: 0.9380 - acc: 0.7201"
          ]
        },
        {
          "name": "stderr",
          "output_type": "stream",
          "text": [
            "/usr/local/lib/python3.7/dist-packages/keras/engine/training_v1.py:2057: UserWarning: `Model.state_updates` will be removed in a future version. This property should not be used in TensorFlow 2.0, as `updates` are applied automatically.\n",
            "  updates = self.state_updates\n"
          ]
        },
        {
          "name": "stdout",
          "output_type": "stream",
          "text": [
            "2401/2401 [==============================] - 12s 5ms/step - batch: 1200.0000 - size: 2.0000 - loss: 0.9380 - acc: 0.7201 - val_loss: 0.9738 - val_acc: 0.6953\n",
            "Epoch 2/50\n",
            "2401/2401 [==============================] - 11s 5ms/step - batch: 1200.0000 - size: 2.0000 - loss: 0.8510 - acc: 0.7382 - val_loss: 0.9907 - val_acc: 0.6953\n",
            "Epoch 3/50\n",
            "2401/2401 [==============================] - 11s 5ms/step - batch: 1200.0000 - size: 2.0000 - loss: 0.8322 - acc: 0.7439 - val_loss: 0.9831 - val_acc: 0.7011\n",
            "Epoch 4/50\n",
            "2401/2401 [==============================] - 11s 5ms/step - batch: 1200.0000 - size: 2.0000 - loss: 0.8184 - acc: 0.7476 - val_loss: 0.9767 - val_acc: 0.7002\n",
            "Epoch 5/50\n",
            "2401/2401 [==============================] - 11s 5ms/step - batch: 1200.0000 - size: 2.0000 - loss: 0.8050 - acc: 0.7474 - val_loss: 0.9656 - val_acc: 0.7086\n",
            "Epoch 6/50\n",
            "2401/2401 [==============================] - 11s 5ms/step - batch: 1200.0000 - size: 2.0000 - loss: 0.7917 - acc: 0.7501 - val_loss: 0.9637 - val_acc: 0.6978\n",
            "Epoch 7/50\n",
            "2401/2401 [==============================] - 11s 5ms/step - batch: 1200.0000 - size: 2.0000 - loss: 0.7820 - acc: 0.7507 - val_loss: 0.9786 - val_acc: 0.7019\n",
            "Epoch 8/50\n",
            "2401/2401 [==============================] - 11s 4ms/step - batch: 1200.0000 - size: 2.0000 - loss: 0.7722 - acc: 0.7601 - val_loss: 0.9716 - val_acc: 0.7002\n",
            "Epoch 9/50\n",
            "2401/2401 [==============================] - 11s 5ms/step - batch: 1200.0000 - size: 2.0000 - loss: 0.7609 - acc: 0.7543 - val_loss: 0.9806 - val_acc: 0.6986\n",
            "Epoch 10/50\n",
            "2401/2401 [==============================] - 11s 5ms/step - batch: 1200.0000 - size: 2.0000 - loss: 0.7566 - acc: 0.7532 - val_loss: 1.0035 - val_acc: 0.6878\n",
            "Epoch 11/50\n",
            "2401/2401 [==============================] - 11s 5ms/step - batch: 1200.0000 - size: 2.0000 - loss: 0.7492 - acc: 0.7566 - val_loss: 0.9700 - val_acc: 0.6969\n"
          ]
        },
        {
          "data": {
            "text/plain": [
              "<keras.callbacks.History at 0x7fcff87f9f10>"
            ]
          },
          "execution_count": 122,
          "metadata": {},
          "output_type": "execute_result"
        }
      ]
    },
    {
      "cell_type": "code",
      "metadata": {
        "colab": {
          "base_uri": "https://localhost:8080/"
        },
        "id": "-Y99PfI1zx5L",
        "outputId": "e34eeeef-5568-4341-bca3-8e1ae40948ad"
      },
      "source": [
        "num_sequences_val = len(df_test['emb'].to_list())\n",
        "batch_size_val = 1\n",
        "batches_per_epoch_val = 323\n",
        "assert batch_size_val * batches_per_epoch_val == num_sequences_val\n",
        "num_features= 768\n",
        "modelHT.evaluate_generator(val_generator_entire(df_test), steps= batches_per_epoch_val)"
      ],
      "execution_count": null,
      "outputs": [
        {
          "name": "stderr",
          "output_type": "stream",
          "text": [
            "/usr/local/lib/python3.7/dist-packages/ipykernel_launcher.py:6: UserWarning: `Model.evaluate_generator` is deprecated and will be removed in a future version. Please use `Model.evaluate`, which supports generators.\n",
            "  \n"
          ]
        },
        {
          "data": {
            "text/plain": [
              "[0.784764650528645, 0.75232196]"
            ]
          },
          "execution_count": 123,
          "metadata": {},
          "output_type": "execute_result"
        }
      ]
    },
    {
      "cell_type": "code",
      "metadata": {
        "colab": {
          "base_uri": "https://localhost:8080/"
        },
        "id": "B5SvH3Jky3i8",
        "outputId": "952fcd71-9179-4bae-eee9-4f475fad450b"
      },
      "source": [
        "y_proba=modelHT.predict(val_generator_entire(df_test), steps= batches_per_epoch_val)"
      ],
      "execution_count": null,
      "outputs": [
        {
          "name": "stderr",
          "output_type": "stream",
          "text": [
            "/usr/local/lib/python3.7/dist-packages/keras/engine/training_v1.py:2079: UserWarning: `Model.state_updates` will be removed in a future version. This property should not be used in TensorFlow 2.0, as `updates` are applied automatically.\n",
            "  updates=self.state_updates,\n"
          ]
        }
      ]
    },
    {
      "cell_type": "code",
      "metadata": {
        "colab": {
          "base_uri": "https://localhost:8080/"
        },
        "id": "KiRDcyzKy3ln",
        "outputId": "0f68265d-d9fb-4e61-ce3e-f51b62351ab0"
      },
      "source": [
        "y_pred=[]\n",
        "for i in y_proba:\n",
        "    max_index_row = np.argmax(i, axis=0)\n",
        "    y_pred.append(max_index_row)\n",
        "\n",
        "\n",
        "#Evaluating Model Performance by creating confusion matrix and classification report\n",
        "from sklearn.metrics import classification_report, confusion_matrix\n",
        "print('Confusion Matrix')\n",
        "print(confusion_matrix(y_pred, df_test['label']))\n",
        "print('Classification Report')\n",
        "print(classification_report(y_pred, df_test['label']))"
      ],
      "execution_count": null,
      "outputs": [
        {
          "name": "stdout",
          "output_type": "stream",
          "text": [
            "Confusion Matrix\n",
            "[[60  1  2  4  0  0  0  2  2  0  0  0]\n",
            " [ 2 40  0  1  0  0  0  2 10  1  0  0]\n",
            " [ 1  0  9  0  0  0  0  1  2  0  0  0]\n",
            " [ 2  0  0  3  0  0  0  0  0  0  0  0]\n",
            " [ 0  0  0  0  1  0  0  1  0  0  0  0]\n",
            " [ 0  0  0  0  0  2  0  0  1  0  0  0]\n",
            " [ 1  0  1  0  0  0 16  1  5  1  0  0]\n",
            " [ 3  0  0  3  0  0  1 62 10  2  0  2]\n",
            " [ 2  2  0  0  0  0  0  3 28  1  0  0]\n",
            " [ 0  0  0  0  0  0  0  2  2  3  0  0]\n",
            " [ 0  0  0  0  0  0  0  0  0  1  4  0]\n",
            " [ 1  0  0  0  0  0  0  1  0  0  0 15]]\n",
            "Classification Report\n",
            "              precision    recall  f1-score   support\n",
            "\n",
            "           1       0.83      0.85      0.84        71\n",
            "           2       0.93      0.71      0.81        56\n",
            "           3       0.75      0.69      0.72        13\n",
            "           4       0.27      0.60      0.37         5\n",
            "           5       1.00      0.50      0.67         2\n",
            "           6       1.00      0.67      0.80         3\n",
            "           7       0.94      0.64      0.76        25\n",
            "           8       0.83      0.75      0.78        83\n",
            "           9       0.47      0.78      0.58        36\n",
            "          10       0.33      0.43      0.38         7\n",
            "          11       1.00      0.80      0.89         5\n",
            "          12       0.88      0.88      0.88        17\n",
            "\n",
            "    accuracy                           0.75       323\n",
            "   macro avg       0.77      0.69      0.71       323\n",
            "weighted avg       0.80      0.75      0.76       323\n",
            "\n"
          ]
        }
      ]
    },
    {
      "cell_type": "code",
      "metadata": {
        "colab": {
          "base_uri": "https://localhost:8080/"
        },
        "id": "DnWMFGEz0DHk",
        "outputId": "42d6554d-9861-4fa7-f910-506cbfa40087"
      },
      "source": [
        "mat = confusion_matrix(y_pred, df_test['label'])\n",
        "\n",
        "diag = np.diagonal(mat)\n",
        "sum(diag)"
      ],
      "execution_count": null,
      "outputs": [
        {
          "data": {
            "text/plain": [
              "243"
            ]
          },
          "execution_count": 126,
          "metadata": {},
          "output_type": "execute_result"
        }
      ]
    },
    {
      "cell_type": "code",
      "metadata": {
        "id": "ChIMT3yL0DKh"
      },
      "source": [
        ""
      ],
      "execution_count": null,
      "outputs": []
    },
    {
      "cell_type": "code",
      "metadata": {
        "id": "RAaRvOpby3oH"
      },
      "source": [
        ""
      ],
      "execution_count": null,
      "outputs": []
    },
    {
      "cell_type": "markdown",
      "metadata": {
        "id": "Fz61eH1oWjpe"
      },
      "source": [
        "# LSTM Stack Chunks with High variance"
      ]
    },
    {
      "cell_type": "code",
      "metadata": {
        "colab": {
          "base_uri": "https://localhost:8080/"
        },
        "id": "mQYCO-4tqRWa",
        "outputId": "006ef6c7-95b0-4591-f31d-c85455451282"
      },
      "source": [
        "from keras import layers\n",
        "from keras.layers import Embedding, Dense, Input, concatenate, Layer, Lambda, Dropout, Activation\n",
        "from keras.models import Sequential, Model\n",
        "text_input = Input(shape=(None,768,), dtype='float32', name='text')\n",
        "\n",
        "l_mask = layers.Masking(mask_value=-99.)(text_input)\n",
        "# Which we encoded in a single vector via a LSTM\n",
        "encoded_text = layers.LSTM(100,)(l_mask)\n",
        "out_dense = layers.Dense(30, activation='relu')(encoded_text)\n",
        "# And we add a softmax classifier on top\n",
        "out = layers.Dense(len(df_train['label'].unique()), activation='softmax')(out_dense)\n",
        "# At model instantiation, we specify the input and the output:\n",
        "modelB = Model(text_input, out)\n",
        "modelB.compile(optimizer=tf.keras.optimizers.Adam(clipvalue=0.5),\n",
        "              loss='sparse_categorical_crossentropy',\n",
        "              metrics=['acc'])\n",
        "modelB.summary()"
      ],
      "execution_count": null,
      "outputs": [
        {
          "name": "stdout",
          "output_type": "stream",
          "text": [
            "Model: \"model_1\"\n",
            "_________________________________________________________________\n",
            "Layer (type)                 Output Shape              Param #   \n",
            "=================================================================\n",
            "text (InputLayer)            [(None, None, 768)]       0         \n",
            "_________________________________________________________________\n",
            "masking_1 (Masking)          (None, None, 768)         0         \n",
            "_________________________________________________________________\n",
            "lstm_1 (LSTM)                (None, 100)               347600    \n",
            "_________________________________________________________________\n",
            "dense_2 (Dense)              (None, 30)                3030      \n",
            "_________________________________________________________________\n",
            "dense_3 (Dense)              (None, 15)                465       \n",
            "=================================================================\n",
            "Total params: 351,095\n",
            "Trainable params: 351,095\n",
            "Non-trainable params: 0\n",
            "_________________________________________________________________\n"
          ]
        }
      ]
    },
    {
      "cell_type": "code",
      "metadata": {
        "id": "uyZfLoEF9Z2y"
      },
      "source": [
        "ES=tf.keras.callbacks.EarlyStopping(patience=5, restore_best_weights=True)"
      ],
      "execution_count": null,
      "outputs": []
    },
    {
      "cell_type": "code",
      "metadata": {
        "colab": {
          "base_uri": "https://localhost:8080/"
        },
        "id": "LROD-pe3WqEq",
        "outputId": "2a8abce3-5045-4caa-e04a-d6dc4079f58c"
      },
      "source": [
        "#First Time Run \n",
        "#Token size = 500, Earlier LSTM architecture \n",
        "#Accuracy is very low so interrupted in the middle \n",
        "modelB.fit_generator(train_generator_entire(df_train_var), steps_per_epoch=batches_per_epoch, epochs=50,validation_data=val_generator_entire(df_val_var), validation_steps=batches_per_epoch_val , callbacks=[ES])"
      ],
      "execution_count": null,
      "outputs": [
        {
          "name": "stderr",
          "output_type": "stream",
          "text": [
            "/usr/local/lib/python3.7/dist-packages/keras/engine/training_v1.py:1228: UserWarning: `model.fit_generator` is deprecated and will be removed in a future version. Please use `Model.fit`, which supports generators.\n",
            "  warnings.warn('`model.fit_generator` is deprecated and '\n"
          ]
        },
        {
          "name": "stdout",
          "output_type": "stream",
          "text": [
            "Epoch 1/50\n",
            "2398/2401 [============================>.] - ETA: 0s - batch: 1198.5000 - size: 2.0000 - loss: 0.8428 - acc: 0.7485"
          ]
        },
        {
          "name": "stderr",
          "output_type": "stream",
          "text": [
            "/usr/local/lib/python3.7/dist-packages/keras/engine/training.py:2470: UserWarning: `Model.state_updates` will be removed in a future version. This property should not be used in TensorFlow 2.0, as `updates` are applied automatically.\n",
            "  warnings.warn('`Model.state_updates` will be removed in a future version. '\n"
          ]
        },
        {
          "name": "stdout",
          "output_type": "stream",
          "text": [
            "2401/2401 [==============================] - 15s 6ms/step - batch: 1200.0000 - size: 2.0000 - loss: 0.8425 - acc: 0.7486 - val_loss: 0.9485 - val_acc: 0.7183\n",
            "Epoch 2/50\n",
            "2401/2401 [==============================] - 14s 6ms/step - batch: 1200.0000 - size: 2.0000 - loss: 0.7559 - acc: 0.7670 - val_loss: 0.9233 - val_acc: 0.7152\n",
            "Epoch 3/50\n",
            "2056/2401 [========================>.....] - ETA: 1s - batch: 1027.5000 - size: 2.0000 - loss: 0.7147 - acc: 0.7753"
          ]
        }
      ]
    },
    {
      "cell_type": "code",
      "metadata": {
        "colab": {
          "base_uri": "https://localhost:8080/"
        },
        "id": "xAOSefMEq95z",
        "outputId": "d794dcde-661c-4756-dff6-f3915feeee18"
      },
      "source": [
        "num_sequences_val = len(df_test_var['emb'].to_list())\n",
        "batch_size_val = 2\n",
        "batches_per_epoch_val = 148\n",
        "assert batch_size_val * batches_per_epoch_val == num_sequences_val\n",
        "num_features= 768\n",
        "modelB.evaluate_generator(val_generator_entire(df_test_var), steps= batches_per_epoch_val)\n",
        "\n"
      ],
      "execution_count": null,
      "outputs": [
        {
          "name": "stderr",
          "output_type": "stream",
          "text": [
            "/usr/local/lib/python3.7/dist-packages/keras/engine/training_v1.py:1261: UserWarning: `Model.evaluate_generator` is deprecated and will be removed in a future version. Please use `Model.evaluate`, which supports generators.\n",
            "  warnings.warn('`Model.evaluate_generator` is deprecated and '\n"
          ]
        },
        {
          "data": {
            "text/plain": [
              "[0.8370251300480418, 0.7601351]"
            ]
          },
          "execution_count": 132,
          "metadata": {},
          "output_type": "execute_result"
        }
      ]
    },
    {
      "cell_type": "code",
      "metadata": {
        "colab": {
          "base_uri": "https://localhost:8080/"
        },
        "id": "ADg-44BOq99b",
        "outputId": "32fa14fd-85f2-4d58-bb19-0fdc0b8f29e8"
      },
      "source": [
        "y_proba=modelB.predict(val_generator_entire(df_test_var), steps= batches_per_epoch_val)\n",
        "\n",
        "y_pred=[]\n",
        "for i in y_proba:\n",
        "    max_index_row = np.argmax(i, axis=0)\n",
        "    y_pred.append(max_index_row)\n",
        "\n",
        "\n",
        "#Evaluating Model Performance by creating confusion matrix and classification report\n",
        "from sklearn.metrics import classification_report, confusion_matrix\n",
        "print('Confusion Matrix')\n",
        "print(confusion_matrix(y_pred, df_test_var['label']))\n",
        "print('Classification Report')\n",
        "print(classification_report(y_pred, df_test_var['label']))\n"
      ],
      "execution_count": null,
      "outputs": [
        {
          "name": "stderr",
          "output_type": "stream",
          "text": [
            "/usr/local/lib/python3.7/dist-packages/keras/engine/training.py:2470: UserWarning: `Model.state_updates` will be removed in a future version. This property should not be used in TensorFlow 2.0, as `updates` are applied automatically.\n",
            "  warnings.warn('`Model.state_updates` will be removed in a future version. '\n"
          ]
        },
        {
          "name": "stdout",
          "output_type": "stream",
          "text": [
            "Confusion Matrix\n",
            "[[60  0  0  4  0  0  0  5  0  0  0]\n",
            " [ 6 39  0  2  0  0  2  9  1  0  0]\n",
            " [ 1  0 10  1  0  0  0  3  0  0  0]\n",
            " [ 0  0  0  3  0  0  1  0  2  0  1]\n",
            " [ 0  0  0  0  3  0  0  1  0  0  0]\n",
            " [ 0  0  0  0  0  6  0  1  0  0  0]\n",
            " [ 1  0  0  0  0  0 58  9  3  1  2]\n",
            " [ 1  0  0  1  1  2  5 26  2  0  0]\n",
            " [ 0  0  0  0  0  0  1  0  4  0  0]\n",
            " [ 0  0  0  0  0  0  0  0  0  1  0]\n",
            " [ 0  0  0  1  1  0  0  0  0  0 15]]\n",
            "Classification Report\n",
            "              precision    recall  f1-score   support\n",
            "\n",
            "           1       0.87      0.87      0.87        69\n",
            "           2       1.00      0.66      0.80        59\n",
            "           3       1.00      0.67      0.80        15\n",
            "           4       0.25      0.43      0.32         7\n",
            "           6       0.60      0.75      0.67         4\n",
            "           7       0.75      0.86      0.80         7\n",
            "           8       0.87      0.78      0.82        74\n",
            "           9       0.48      0.68      0.57        38\n",
            "          10       0.33      0.80      0.47         5\n",
            "          11       0.50      1.00      0.67         1\n",
            "          12       0.83      0.88      0.86        17\n",
            "\n",
            "    accuracy                           0.76       296\n",
            "   macro avg       0.68      0.76      0.69       296\n",
            "weighted avg       0.82      0.76      0.77       296\n",
            "\n"
          ]
        }
      ]
    },
    {
      "cell_type": "code",
      "metadata": {
        "colab": {
          "base_uri": "https://localhost:8080/"
        },
        "id": "irLTdPTDWqHo",
        "outputId": "cc664eec-7641-4798-8805-d5a65e37ee46"
      },
      "source": [
        "mat = confusion_matrix(y_pred, df_test_var['label'])\n",
        "\n",
        "diag = np.diagonal(mat)\n",
        "sum(diag)"
      ],
      "execution_count": null,
      "outputs": [
        {
          "data": {
            "text/plain": [
              "225"
            ]
          },
          "execution_count": 134,
          "metadata": {},
          "output_type": "execute_result"
        }
      ]
    },
    {
      "cell_type": "markdown",
      "metadata": {
        "id": "_t4qg5NGMpSE"
      },
      "source": [
        "# Transformer Input Creation"
      ]
    },
    {
      "cell_type": "code",
      "metadata": {
        "id": "7NOmW7jgMtvS"
      },
      "source": [
        "#Masking the input for same length \n",
        "num_features=768\n",
        "def input_generator(df):\n",
        "    x_list= df['emb'].to_list()\n",
        "    y_list= df.label.to_list()\n",
        "    timesteps = len(max(df['emb'].to_list(), key=len))\n",
        "    x_train= np.full((df['emb'].shape[0], timesteps, num_features), -99.)\n",
        "    y_train = np.zeros((df['emb'].shape[0],  1))\n",
        "    for b in range(len(x_list)):\n",
        "        x_train[b, 0:len(x_list[b]), :] = x_list[b]\n",
        "        y_train[b]=y_list[b]\n",
        "    return x_train, y_train\n"
      ],
      "execution_count": null,
      "outputs": []
    },
    {
      "cell_type": "code",
      "metadata": {
        "colab": {
          "base_uri": "https://localhost:8080/"
        },
        "id": "0LaKkG9FMt0J",
        "outputId": "a28a2140-deb6-4428-8a16-8a16762aa4f3"
      },
      "source": [
        "x_train_new,y_train_new=input_generator(df_train)\n",
        "x_train_new.shape, y_train_new.shape"
      ],
      "execution_count": null,
      "outputs": [
        {
          "data": {
            "text/plain": [
              "((5060, 20, 768), (5060, 1))"
            ]
          },
          "execution_count": 111,
          "metadata": {},
          "output_type": "execute_result"
        }
      ]
    },
    {
      "cell_type": "code",
      "metadata": {
        "colab": {
          "base_uri": "https://localhost:8080/"
        },
        "id": "I4cxmx4JMt2a",
        "outputId": "86f67c16-6c8b-40a6-9f94-9f60cb8351cf"
      },
      "source": [
        "x_val_new,y_val_new=input_generator(df_val)\n",
        "x_val_new.shape, y_val_new.shape"
      ],
      "execution_count": null,
      "outputs": [
        {
          "data": {
            "text/plain": [
              "((759, 20, 768), (759, 1))"
            ]
          },
          "execution_count": 112,
          "metadata": {},
          "output_type": "execute_result"
        }
      ]
    },
    {
      "cell_type": "code",
      "metadata": {
        "colab": {
          "base_uri": "https://localhost:8080/"
        },
        "id": "LVqpswm1M1HV",
        "outputId": "a6a06aac-b6ab-4707-ff9b-ee00e59057ea"
      },
      "source": [
        "x_test_new,y_test_new=input_generator(df_test)\n",
        "x_test_new.shape, y_test_new.shape"
      ],
      "execution_count": null,
      "outputs": [
        {
          "data": {
            "text/plain": [
              "((507, 20, 768), (507, 1))"
            ]
          },
          "execution_count": 113,
          "metadata": {},
          "output_type": "execute_result"
        }
      ]
    },
    {
      "cell_type": "markdown",
      "metadata": {
        "id": "qIH0p65mKzQK"
      },
      "source": [
        "# Transfomer Network"
      ]
    },
    {
      "cell_type": "code",
      "metadata": {
        "colab": {
          "base_uri": "https://localhost:8080/"
        },
        "id": "B8o2KbvmKwK7",
        "outputId": "9f71a36e-a4d0-490f-d9df-253214f346d6"
      },
      "source": [
        "import tensorflow as tf\n",
        "print(tf.__version__)"
      ],
      "execution_count": null,
      "outputs": [
        {
          "name": "stdout",
          "output_type": "stream",
          "text": [
            "2.7.0\n"
          ]
        }
      ]
    },
    {
      "cell_type": "code",
      "metadata": {
        "id": "V-41vvpUKyPI"
      },
      "source": [
        "from tensorflow import keras\n",
        "from tensorflow.keras import layers"
      ],
      "execution_count": null,
      "outputs": []
    },
    {
      "cell_type": "code",
      "metadata": {
        "id": "mWTpva5YKyTT"
      },
      "source": [
        "\n",
        "class TransformerBlock(layers.Layer):\n",
        "    def __init__(self, embed_dim, num_heads, ff_dim, rate=0.1):\n",
        "        super(TransformerBlock, self).__init__()\n",
        "        self.att = layers.MultiHeadAttention(num_heads=num_heads, key_dim=embed_dim)\n",
        "        self.ffn = keras.Sequential(\n",
        "            [layers.Dense(ff_dim, activation=\"relu\"), layers.Dense(embed_dim),]\n",
        "        )\n",
        "        self.layernorm1 = layers.LayerNormalization(epsilon=1e-6)\n",
        "        self.layernorm2 = layers.LayerNormalization(epsilon=1e-6)\n",
        "        self.dropout1 = layers.Dropout(rate)\n",
        "        self.dropout2 = layers.Dropout(rate)\n",
        "\n",
        "    def call(self, inputs, training):\n",
        "        attn_output = self.att(inputs, inputs)\n",
        "        attn_output = self.dropout1(attn_output, training=training)\n",
        "        out1 = self.layernorm1(inputs + attn_output)\n",
        "        ffn_output = self.ffn(out1)\n",
        "        ffn_output = self.dropout2(ffn_output, training=training)\n",
        "        return self.layernorm2(out1 + ffn_output)\n"
      ],
      "execution_count": null,
      "outputs": []
    },
    {
      "cell_type": "code",
      "metadata": {
        "id": "4fQA6UuhLJhc"
      },
      "source": [
        "\n",
        "class TokenAndPositionEmbedding(layers.Layer):\n",
        "    def __init__(self, maxlen, vocab_size, embed_dim):\n",
        "        super(TokenAndPositionEmbedding, self).__init__()\n",
        "        #self.token_emb = layers.Embedding(input_dim=vocab_size, output_dim=embed_dim)\n",
        "        self.pos_emb = layers.Embedding(input_dim=maxlen, output_dim=embed_dim)\n",
        "\n",
        "    def call(self, x):\n",
        "        maxlen = tf.shape(x)[-1]\n",
        "        positions = tf.range(start=0, limit=maxlen, delta=1)\n",
        "        positions = self.pos_emb(positions)\n",
        "        print(positions)\n",
        "        #x = self.token_emb(x)\n",
        "        print(x)\n",
        "        return x + positions\n"
      ],
      "execution_count": null,
      "outputs": []
    },
    {
      "cell_type": "code",
      "metadata": {
        "id": "vMHQqVjXLJmN"
      },
      "source": [
        "vocab_size = 30  # Only consider the top 20k words\n",
        "maxlen = 4  # Only consider the first 200 words of each movie review"
      ],
      "execution_count": null,
      "outputs": []
    },
    {
      "cell_type": "code",
      "metadata": {
        "colab": {
          "base_uri": "https://localhost:8080/"
        },
        "id": "uzNVrV0nLJoh",
        "outputId": "cf5a3529-7641-419e-d539-19e82569a021"
      },
      "source": [
        "\n",
        "embed_dim = 768  # Embedding size for each token\n",
        "num_heads = 2  # Number of attention heads\n",
        "ff_dim = 32  # Hidden layer size in feed forward network inside transformer\n",
        "\n",
        "inputs = layers.Input(shape=(None,768,))\n",
        "embedding_layer = TokenAndPositionEmbedding(maxlen, vocab_size, embed_dim)\n",
        "x = embedding_layer(inputs)\n",
        "x = inputs\n",
        "transformer_block = TransformerBlock(embed_dim, num_heads, ff_dim)\n",
        "x = transformer_block(x,True)\n",
        "x = layers.GlobalAveragePooling1D()(x)\n",
        "x = layers.Dropout(0.1)(x)\n",
        "x = layers.Dense(20, activation=\"relu\")(x)\n",
        "x = layers.Dropout(0.1)(x)\n",
        "outputs = layers.Dense(15, activation=\"softmax\")(x)\n",
        "\n",
        "model_trans = keras.Model(inputs=inputs, outputs=outputs)\n"
      ],
      "execution_count": null,
      "outputs": [
        {
          "name": "stdout",
          "output_type": "stream",
          "text": [
            "Tensor(\"token_and_position_embedding/embedding/embedding_lookup/Identity_1:0\", shape=(768, 768), dtype=float32)\n",
            "Tensor(\"input_1:0\", shape=(?, ?, 768), dtype=float32)\n"
          ]
        }
      ]
    },
    {
      "cell_type": "code",
      "metadata": {
        "colab": {
          "base_uri": "https://localhost:8080/"
        },
        "id": "oRzA-YOxv9XY",
        "outputId": "63712cc4-86e3-4201-f091-2883a5506b24"
      },
      "source": [
        "model_trans.summary()"
      ],
      "execution_count": null,
      "outputs": [
        {
          "name": "stdout",
          "output_type": "stream",
          "text": [
            "Model: \"model_1\"\n",
            "_________________________________________________________________\n",
            " Layer (type)                Output Shape              Param #   \n",
            "=================================================================\n",
            " input_1 (InputLayer)        [(None, None, 768)]       0         \n",
            "                                                                 \n",
            " transformer_block (Transfor  (None, None, 768)        4776992   \n",
            " merBlock)                                                       \n",
            "                                                                 \n",
            " global_average_pooling1d (G  (None, 768)              0         \n",
            " lobalAveragePooling1D)                                          \n",
            "                                                                 \n",
            " dropout_3 (Dropout)         (None, 768)               0         \n",
            "                                                                 \n",
            " dense_4 (Dense)             (None, 20)                15380     \n",
            "                                                                 \n",
            " dropout_4 (Dropout)         (None, 20)                0         \n",
            "                                                                 \n",
            " dense_5 (Dense)             (None, 15)                315       \n",
            "                                                                 \n",
            "=================================================================\n",
            "Total params: 4,792,687\n",
            "Trainable params: 4,792,687\n",
            "Non-trainable params: 0\n",
            "_________________________________________________________________\n"
          ]
        }
      ]
    },
    {
      "cell_type": "code",
      "metadata": {
        "id": "iAx9z4O_76wo"
      },
      "source": [
        "from tensorflow.keras.callbacks import EarlyStopping\n",
        "early_stopping_monitor = EarlyStopping(patience=5)\n",
        "callbacks_list = [early_stopping_monitor]"
      ],
      "execution_count": null,
      "outputs": []
    },
    {
      "cell_type": "code",
      "metadata": {
        "colab": {
          "base_uri": "https://localhost:8080/"
        },
        "id": "FZcMbYAELJqU",
        "outputId": "96196a66-36cb-4b02-d9fd-d3e875db5454"
      },
      "source": [
        "model_trans.compile(\"adam\", \"sparse_categorical_crossentropy\", metrics=[\"accuracy\"])\n",
        "model_trans.fit(x_train_new, y_train_new, batch_size=32, epochs=100, validation_data=(x_val_new, y_val_new),callbacks =callbacks_list)"
      ],
      "execution_count": null,
      "outputs": [
        {
          "name": "stdout",
          "output_type": "stream",
          "text": [
            "Train on 5060 samples, validate on 759 samples\n",
            "Epoch 1/100\n",
            "5024/5060 [============================>.] - ETA: 0s - loss: 0.7379 - acc: 0.7651"
          ]
        },
        {
          "name": "stderr",
          "output_type": "stream",
          "text": [
            "/usr/local/lib/python3.7/dist-packages/keras/engine/training.py:2470: UserWarning: `Model.state_updates` will be removed in a future version. This property should not be used in TensorFlow 2.0, as `updates` are applied automatically.\n",
            "  warnings.warn('`Model.state_updates` will be removed in a future version. '\n"
          ]
        },
        {
          "name": "stdout",
          "output_type": "stream",
          "text": [
            "5060/5060 [==============================] - 2s 357us/sample - loss: 0.7366 - acc: 0.7658 - val_loss: 0.9061 - val_acc: 0.7378\n",
            "Epoch 2/100\n",
            "5060/5060 [==============================] - 1s 279us/sample - loss: 0.7022 - acc: 0.7719 - val_loss: 0.8660 - val_acc: 0.7352\n",
            "Epoch 3/100\n",
            "5060/5060 [==============================] - 1s 279us/sample - loss: 0.6904 - acc: 0.7794 - val_loss: 0.8925 - val_acc: 0.7220\n",
            "Epoch 4/100\n",
            "5060/5060 [==============================] - 1s 292us/sample - loss: 0.7276 - acc: 0.7700 - val_loss: 0.9013 - val_acc: 0.7101\n",
            "Epoch 5/100\n",
            "5060/5060 [==============================] - 1s 280us/sample - loss: 0.7282 - acc: 0.7686 - val_loss: 0.8271 - val_acc: 0.7339\n",
            "Epoch 6/100\n",
            "5060/5060 [==============================] - 1s 278us/sample - loss: 0.7130 - acc: 0.7698 - val_loss: 0.8666 - val_acc: 0.7299\n",
            "Epoch 7/100\n",
            "5060/5060 [==============================] - 1s 277us/sample - loss: 0.7360 - acc: 0.7690 - val_loss: 0.8829 - val_acc: 0.7286\n",
            "Epoch 8/100\n",
            "5060/5060 [==============================] - 1s 277us/sample - loss: 0.7390 - acc: 0.7662 - val_loss: 0.9248 - val_acc: 0.7128\n",
            "Epoch 9/100\n",
            "5060/5060 [==============================] - 1s 284us/sample - loss: 0.7399 - acc: 0.7678 - val_loss: 0.8430 - val_acc: 0.7207\n",
            "Epoch 10/100\n",
            "5060/5060 [==============================] - 1s 287us/sample - loss: 0.7242 - acc: 0.7757 - val_loss: 0.8472 - val_acc: 0.7260\n"
          ]
        },
        {
          "data": {
            "text/plain": [
              "<keras.callbacks.History at 0x7f799e108f50>"
            ]
          },
          "execution_count": 125,
          "metadata": {},
          "output_type": "execute_result"
        }
      ]
    },
    {
      "cell_type": "code",
      "metadata": {
        "colab": {
          "base_uri": "https://localhost:8080/"
        },
        "id": "p6edfAm07c4n",
        "outputId": "4d81ca35-a478-4ae6-8d7b-ca369d6e0095"
      },
      "source": [
        "x_test_new,y_test_new=input_generator(df_test)\n",
        "x_test_new.shape, y_test_new.shape"
      ],
      "execution_count": null,
      "outputs": [
        {
          "data": {
            "text/plain": [
              "((507, 20, 768), (507, 1))"
            ]
          },
          "execution_count": 126,
          "metadata": {},
          "output_type": "execute_result"
        }
      ]
    },
    {
      "cell_type": "code",
      "metadata": {
        "colab": {
          "base_uri": "https://localhost:8080/"
        },
        "id": "MfA66YuZ8Is-",
        "outputId": "058fb9f8-7c2e-41b5-f969-775663a1273a"
      },
      "source": [
        "y_proba=model_trans.predict(x_test_new)"
      ],
      "execution_count": null,
      "outputs": [
        {
          "name": "stderr",
          "output_type": "stream",
          "text": [
            "/usr/local/lib/python3.7/dist-packages/keras/engine/training.py:2470: UserWarning: `Model.state_updates` will be removed in a future version. This property should not be used in TensorFlow 2.0, as `updates` are applied automatically.\n",
            "  warnings.warn('`Model.state_updates` will be removed in a future version. '\n"
          ]
        }
      ]
    },
    {
      "cell_type": "code",
      "metadata": {
        "colab": {
          "base_uri": "https://localhost:8080/"
        },
        "id": "v2niUrpB8Iv2",
        "outputId": "dfeb39a9-d8e1-4401-94f3-aa954cc2abd6"
      },
      "source": [
        "y_pred=[]\n",
        "for i in y_proba:\n",
        "    max_index_row = np.argmax(i, axis=0)\n",
        "    y_pred.append(max_index_row)\n",
        "\n",
        "#Evaluating Model Performance by creating confusion matrix and classification report\n",
        "from sklearn.metrics import classification_report, confusion_matrix\n",
        "print('Confusion Matrix')\n",
        "print(confusion_matrix(y_pred, df_test['label']))\n",
        "print('Classification Report')\n",
        "print(classification_report(y_pred, df_test['label']))\n"
      ],
      "execution_count": null,
      "outputs": [
        {
          "name": "stdout",
          "output_type": "stream",
          "text": [
            "Confusion Matrix\n",
            "[[  0   0   0   0   0   0   0   0   0   0   0   0   0]\n",
            " [  0 100   3   2   5   0   0   0   0  12   0   0   0]\n",
            " [  0   5  60   2   3   2   0   1   2  20   0   0   0]\n",
            " [  0   0   1  25   1   0   0   0   2   3   1   0   0]\n",
            " [  0   2   0   0   9   0   0   0   1   1   0   0   0]\n",
            " [  0   1   0   0   0   0   0   0   0   0   0   0   0]\n",
            " [  0   0   0   0   0   0   2   0   1   0   0   0   0]\n",
            " [  0   1   0   0   0   0   0  13   0   0   2   0   0]\n",
            " [  0   4   0   0   1   0   0   2  96   9   9   2   4]\n",
            " [  1   3   3   3   2   2   0   1   9  39   3   0   0]\n",
            " [  0   0   0   1   0   0   0   1   4   0  11   0   0]\n",
            " [  0   0   0   0   0   0   0   0   0   0   0   2   0]\n",
            " [  0   0   1   0   0   0   0   0   0   1   0   0  10]]\n",
            "Classification Report\n",
            "              precision    recall  f1-score   support\n",
            "\n",
            "           0       0.00      0.00      0.00         0\n",
            "           1       0.86      0.82      0.84       122\n",
            "           2       0.88      0.63      0.74        95\n",
            "           3       0.76      0.76      0.76        33\n",
            "           4       0.43      0.69      0.53        13\n",
            "           5       0.00      0.00      0.00         1\n",
            "           6       1.00      0.67      0.80         3\n",
            "           7       0.72      0.81      0.76        16\n",
            "           8       0.83      0.76      0.79       127\n",
            "           9       0.46      0.59      0.52        66\n",
            "          10       0.42      0.65      0.51        17\n",
            "          11       0.50      1.00      0.67         2\n",
            "          12       0.71      0.83      0.77        12\n",
            "\n",
            "    accuracy                           0.72       507\n",
            "   macro avg       0.58      0.63      0.59       507\n",
            "weighted avg       0.76      0.72      0.74       507\n",
            "\n"
          ]
        },
        {
          "name": "stderr",
          "output_type": "stream",
          "text": [
            "/usr/local/lib/python3.7/dist-packages/sklearn/metrics/_classification.py:1272: UndefinedMetricWarning: Recall and F-score are ill-defined and being set to 0.0 in labels with no true samples. Use `zero_division` parameter to control this behavior.\n",
            "  _warn_prf(average, modifier, msg_start, len(result))\n"
          ]
        }
      ]
    },
    {
      "cell_type": "code",
      "metadata": {
        "colab": {
          "base_uri": "https://localhost:8080/"
        },
        "id": "uLs5_8388Iy_",
        "outputId": "84ebd11e-a067-46b7-d66f-18d57c2a2231"
      },
      "source": [
        "mat = confusion_matrix(y_pred, df_test['label'])\n",
        "\n",
        "diag = np.diagonal(mat)\n",
        "print('No of correctly identified labels :',sum(diag))\n",
        "print('No of misclassified samples : ',sum(sum(mat))-sum(diag))"
      ],
      "execution_count": null,
      "outputs": [
        {
          "name": "stdout",
          "output_type": "stream",
          "text": [
            "No of correctly identified labels : 367\n",
            "No of misclassified samples :  140\n"
          ]
        }
      ]
    },
    {
      "cell_type": "markdown",
      "metadata": {
        "id": "S1xjIIcWvb0s"
      },
      "source": [
        "# Autoencoders_New2_Stack Emb"
      ]
    },
    {
      "cell_type": "code",
      "metadata": {
        "id": "8q5jNsOqRdu-"
      },
      "source": [
        "# AutoEncoder Model Preparation\n",
        "n_inputs = tr_emb.shape[1]\n",
        "# define encoder\n",
        "input_data_shape= Input(shape=(n_inputs,))\n",
        "# encoder level 1\n",
        "encoder= Dense(n_inputs*2)(input_data_shape)\n",
        "encoder = BatchNormalization()(encoder)\n",
        "encoder= LeakyReLU()(encoder)\n",
        "# encoder level 2\n",
        "encoder= Dense(n_inputs)(encoder)\n",
        "encoder= BatchNormalization()(encoder)\n",
        "encoder= LeakyReLU()(encoder)\n",
        "# bottleneck\n",
        "n_bottleneck = round(float(n_inputs) / 2.0)\n",
        "bottleneck = Dense(n_bottleneck)(encoder)\n",
        "# define decoder, level 1\n",
        "decoder = Dense(n_inputs)(bottleneck)\n",
        "decoder = BatchNormalization()(decoder)\n",
        "decoder = LeakyReLU()(decoder)\n",
        "# decoder level 2\n",
        "decoder = Dense(n_inputs*2)(decoder)\n",
        "decoder = BatchNormalization()(decoder)\n",
        "decoder = LeakyReLU()(decoder)"
      ],
      "execution_count": null,
      "outputs": []
    },
    {
      "cell_type": "code",
      "metadata": {
        "id": "BmdcfHVGvjdC"
      },
      "source": [
        "output = Dense(n_inputs, activation='linear')(decoder)\n",
        "# define autoencoder model\n",
        "model_full = Model(inputs=input_data_shape, outputs=output)\n",
        "# compile autoencoder model\n",
        "model_full.compile(optimizer='adam', loss='mse')"
      ],
      "execution_count": null,
      "outputs": []
    },
    {
      "cell_type": "code",
      "metadata": {
        "colab": {
          "base_uri": "https://localhost:8080/"
        },
        "id": "X9VTPOapvjhD",
        "outputId": "f56de9cc-feb0-4e64-8eef-c036b7626061"
      },
      "source": [
        "# fit the autoencoder model to reconstruct input\n",
        "model_full.summary()"
      ],
      "execution_count": null,
      "outputs": [
        {
          "name": "stdout",
          "output_type": "stream",
          "text": [
            "Model: \"model_3\"\n",
            "_________________________________________________________________\n",
            " Layer (type)                Output Shape              Param #   \n",
            "=================================================================\n",
            " input_2 (InputLayer)        [(None, 768)]             0         \n",
            "                                                                 \n",
            " dense_8 (Dense)             (None, 1536)              1181184   \n",
            "                                                                 \n",
            " batch_normalization_4 (Batc  (None, 1536)             6144      \n",
            " hNormalization)                                                 \n",
            "                                                                 \n",
            " leaky_re_lu_4 (LeakyReLU)   (None, 1536)              0         \n",
            "                                                                 \n",
            " dense_9 (Dense)             (None, 768)               1180416   \n",
            "                                                                 \n",
            " batch_normalization_5 (Batc  (None, 768)              3072      \n",
            " hNormalization)                                                 \n",
            "                                                                 \n",
            " leaky_re_lu_5 (LeakyReLU)   (None, 768)               0         \n",
            "                                                                 \n",
            " dense_10 (Dense)            (None, 384)               295296    \n",
            "                                                                 \n",
            " dense_11 (Dense)            (None, 768)               295680    \n",
            "                                                                 \n",
            " batch_normalization_6 (Batc  (None, 768)              3072      \n",
            " hNormalization)                                                 \n",
            "                                                                 \n",
            " leaky_re_lu_6 (LeakyReLU)   (None, 768)               0         \n",
            "                                                                 \n",
            " dense_12 (Dense)            (None, 1536)              1181184   \n",
            "                                                                 \n",
            " batch_normalization_7 (Batc  (None, 1536)             6144      \n",
            " hNormalization)                                                 \n",
            "                                                                 \n",
            " leaky_re_lu_7 (LeakyReLU)   (None, 1536)              0         \n",
            "                                                                 \n",
            " dense_13 (Dense)            (None, 768)               1180416   \n",
            "                                                                 \n",
            "=================================================================\n",
            "Total params: 5,332,608\n",
            "Trainable params: 5,323,392\n",
            "Non-trainable params: 9,216\n",
            "_________________________________________________________________\n"
          ]
        }
      ]
    },
    {
      "cell_type": "code",
      "metadata": {
        "colab": {
          "base_uri": "https://localhost:8080/"
        },
        "id": "iNvcqhXGvjkp",
        "outputId": "b8e3f1f6-6146-49b5-a552-ac3241948e0a"
      },
      "source": [
        "history_full = model_full.fit(tr_emb, tr_emb, epochs=50, batch_size=16, verbose=2, validation_data=(val_emb,val_emb))"
      ],
      "execution_count": null,
      "outputs": [
        {
          "name": "stdout",
          "output_type": "stream",
          "text": [
            "Train on 45912 samples, validate on 11707 samples\n",
            "Epoch 1/50\n"
          ]
        },
        {
          "name": "stderr",
          "output_type": "stream",
          "text": [
            "/usr/local/lib/python3.7/dist-packages/keras/engine/training_v1.py:2057: UserWarning: `Model.state_updates` will be removed in a future version. This property should not be used in TensorFlow 2.0, as `updates` are applied automatically.\n",
            "  updates = self.state_updates\n"
          ]
        },
        {
          "name": "stdout",
          "output_type": "stream",
          "text": [
            "45912/45912 - 15s - loss: 0.0435 - val_loss: 0.0234 - 15s/epoch - 321us/sample\n",
            "Epoch 2/50\n",
            "45912/45912 - 14s - loss: 0.0233 - val_loss: 0.0131 - 14s/epoch - 304us/sample\n",
            "Epoch 3/50\n",
            "45912/45912 - 14s - loss: 0.0178 - val_loss: 0.0098 - 14s/epoch - 305us/sample\n",
            "Epoch 4/50\n",
            "45912/45912 - 14s - loss: 0.0146 - val_loss: 0.0088 - 14s/epoch - 306us/sample\n",
            "Epoch 5/50\n",
            "45912/45912 - 14s - loss: 0.0123 - val_loss: 0.0077 - 14s/epoch - 305us/sample\n",
            "Epoch 6/50\n",
            "45912/45912 - 14s - loss: 0.0109 - val_loss: 0.0073 - 14s/epoch - 308us/sample\n",
            "Epoch 7/50\n",
            "45912/45912 - 14s - loss: 0.0100 - val_loss: 0.0058 - 14s/epoch - 308us/sample\n",
            "Epoch 8/50\n",
            "45912/45912 - 14s - loss: 0.0090 - val_loss: 0.0057 - 14s/epoch - 303us/sample\n",
            "Epoch 9/50\n",
            "45912/45912 - 14s - loss: 0.0083 - val_loss: 0.0056 - 14s/epoch - 302us/sample\n",
            "Epoch 10/50\n",
            "45912/45912 - 14s - loss: 0.0079 - val_loss: 0.0054 - 14s/epoch - 302us/sample\n",
            "Epoch 11/50\n",
            "45912/45912 - 14s - loss: 0.0073 - val_loss: 0.0051 - 14s/epoch - 307us/sample\n",
            "Epoch 12/50\n",
            "45912/45912 - 14s - loss: 0.0070 - val_loss: 0.0050 - 14s/epoch - 302us/sample\n",
            "Epoch 13/50\n",
            "45912/45912 - 14s - loss: 0.0067 - val_loss: 0.0067 - 14s/epoch - 305us/sample\n",
            "Epoch 14/50\n",
            "45912/45912 - 14s - loss: 0.0065 - val_loss: 0.0053 - 14s/epoch - 302us/sample\n",
            "Epoch 15/50\n",
            "45912/45912 - 14s - loss: 0.0063 - val_loss: 0.0048 - 14s/epoch - 305us/sample\n",
            "Epoch 16/50\n",
            "45912/45912 - 14s - loss: 0.0060 - val_loss: 0.0041 - 14s/epoch - 306us/sample\n",
            "Epoch 17/50\n",
            "45912/45912 - 14s - loss: 0.0058 - val_loss: 0.0038 - 14s/epoch - 307us/sample\n",
            "Epoch 18/50\n",
            "45912/45912 - 14s - loss: 0.0056 - val_loss: 0.0037 - 14s/epoch - 306us/sample\n",
            "Epoch 19/50\n",
            "45912/45912 - 14s - loss: 0.0055 - val_loss: 0.0037 - 14s/epoch - 299us/sample\n",
            "Epoch 20/50\n",
            "45912/45912 - 14s - loss: 0.0055 - val_loss: 0.0045 - 14s/epoch - 303us/sample\n",
            "Epoch 21/50\n",
            "45912/45912 - 14s - loss: 0.0053 - val_loss: 0.0057 - 14s/epoch - 303us/sample\n",
            "Epoch 22/50\n",
            "45912/45912 - 14s - loss: 0.0052 - val_loss: 0.0037 - 14s/epoch - 303us/sample\n",
            "Epoch 23/50\n",
            "45912/45912 - 14s - loss: 0.0049 - val_loss: 0.0039 - 14s/epoch - 302us/sample\n",
            "Epoch 24/50\n",
            "45912/45912 - 14s - loss: 0.0048 - val_loss: 0.0042 - 14s/epoch - 302us/sample\n",
            "Epoch 25/50\n",
            "45912/45912 - 14s - loss: 0.0048 - val_loss: 0.0033 - 14s/epoch - 302us/sample\n",
            "Epoch 26/50\n",
            "45912/45912 - 14s - loss: 0.0046 - val_loss: 0.0032 - 14s/epoch - 305us/sample\n",
            "Epoch 27/50\n",
            "45912/45912 - 14s - loss: 0.0047 - val_loss: 0.0042 - 14s/epoch - 306us/sample\n",
            "Epoch 28/50\n",
            "45912/45912 - 14s - loss: 0.0046 - val_loss: 0.0035 - 14s/epoch - 305us/sample\n",
            "Epoch 29/50\n",
            "45912/45912 - 14s - loss: 0.0044 - val_loss: 0.0035 - 14s/epoch - 310us/sample\n",
            "Epoch 30/50\n",
            "45912/45912 - 14s - loss: 0.0045 - val_loss: 0.0034 - 14s/epoch - 304us/sample\n",
            "Epoch 31/50\n",
            "45912/45912 - 14s - loss: 0.0043 - val_loss: 0.0030 - 14s/epoch - 304us/sample\n",
            "Epoch 32/50\n",
            "45912/45912 - 14s - loss: 0.0044 - val_loss: 0.0031 - 14s/epoch - 305us/sample\n",
            "Epoch 33/50\n",
            "45912/45912 - 14s - loss: 0.0042 - val_loss: 0.0031 - 14s/epoch - 302us/sample\n",
            "Epoch 34/50\n",
            "45912/45912 - 14s - loss: 0.0041 - val_loss: 0.0030 - 14s/epoch - 305us/sample\n",
            "Epoch 35/50\n",
            "45912/45912 - 14s - loss: 0.0041 - val_loss: 0.0033 - 14s/epoch - 304us/sample\n",
            "Epoch 36/50\n",
            "45912/45912 - 14s - loss: 0.0040 - val_loss: 0.0031 - 14s/epoch - 302us/sample\n",
            "Epoch 37/50\n",
            "45912/45912 - 14s - loss: 0.0039 - val_loss: 0.0031 - 14s/epoch - 307us/sample\n",
            "Epoch 38/50\n",
            "45912/45912 - 14s - loss: 0.0041 - val_loss: 0.0031 - 14s/epoch - 309us/sample\n",
            "Epoch 39/50\n",
            "45912/45912 - 14s - loss: 0.0039 - val_loss: 0.0030 - 14s/epoch - 309us/sample\n",
            "Epoch 40/50\n",
            "45912/45912 - 14s - loss: 0.0040 - val_loss: 0.0029 - 14s/epoch - 305us/sample\n",
            "Epoch 41/50\n",
            "45912/45912 - 14s - loss: 0.0039 - val_loss: 0.0036 - 14s/epoch - 305us/sample\n",
            "Epoch 42/50\n",
            "45912/45912 - 14s - loss: 0.0039 - val_loss: 0.0026 - 14s/epoch - 302us/sample\n",
            "Epoch 43/50\n",
            "45912/45912 - 14s - loss: 0.0038 - val_loss: 0.0032 - 14s/epoch - 304us/sample\n",
            "Epoch 44/50\n",
            "45912/45912 - 14s - loss: 0.0037 - val_loss: 0.0027 - 14s/epoch - 304us/sample\n",
            "Epoch 45/50\n",
            "45912/45912 - 14s - loss: 0.0039 - val_loss: 0.0036 - 14s/epoch - 303us/sample\n",
            "Epoch 46/50\n",
            "45912/45912 - 14s - loss: 0.0037 - val_loss: 0.0028 - 14s/epoch - 304us/sample\n",
            "Epoch 47/50\n",
            "45912/45912 - 14s - loss: 0.0036 - val_loss: 0.0043 - 14s/epoch - 304us/sample\n",
            "Epoch 48/50\n",
            "45912/45912 - 14s - loss: 0.0037 - val_loss: 0.0032 - 14s/epoch - 302us/sample\n",
            "Epoch 49/50\n",
            "45912/45912 - 14s - loss: 0.0036 - val_loss: 0.0026 - 14s/epoch - 304us/sample\n",
            "Epoch 50/50\n",
            "45912/45912 - 14s - loss: 0.0036 - val_loss: 0.0031 - 14s/epoch - 300us/sample\n"
          ]
        }
      ]
    },
    {
      "cell_type": "code",
      "metadata": {
        "colab": {
          "base_uri": "https://localhost:8080/"
        },
        "id": "Ywup3873vjn7",
        "outputId": "231b1350-923d-4f2b-a9c6-0539a3cef1d3"
      },
      "source": [
        "encoder_full = Model(inputs=input_data_shape, outputs=bottleneck)\n",
        "\n",
        "encoded_X_train_full = encoder_full.predict(tr_emb)\n",
        "encoded_X_val_full = encoder_full.predict(val_emb)\n",
        "\n",
        "encoded_X_train_full.shape, encoded_X_val_full.shape"
      ],
      "execution_count": null,
      "outputs": [
        {
          "name": "stderr",
          "output_type": "stream",
          "text": [
            "/usr/local/lib/python3.7/dist-packages/keras/engine/training_v1.py:2079: UserWarning: `Model.state_updates` will be removed in a future version. This property should not be used in TensorFlow 2.0, as `updates` are applied automatically.\n",
            "  updates=self.state_updates,\n"
          ]
        },
        {
          "data": {
            "text/plain": [
              "((45912, 384), (11707, 384))"
            ]
          },
          "execution_count": 137,
          "metadata": {},
          "output_type": "execute_result"
        }
      ]
    },
    {
      "cell_type": "code",
      "metadata": {
        "colab": {
          "base_uri": "https://localhost:8080/"
        },
        "id": "i19WQVK4RCgj",
        "outputId": "dc3aba10-d9ff-4a2b-8d46-98947dc29c97"
      },
      "source": [
        "aux = -1\n",
        "len_l = 0\n",
        "train_x_ae = {}\n",
        "for l, emb in zip(index_l, encoded_X_train_full):\n",
        "  if l in train_x_ae.keys():\n",
        "    train_x_ae[l]  =np.vstack([train_x_ae[l], emb])\n",
        "  else:\n",
        "    train_x_ae[l] = [emb]\n",
        "\n",
        "len(train_x_ae.keys())\n",
        "\n",
        "train_l_final = []\n",
        "label_l_final = []\n",
        "for k in train_x_ae.keys():\n",
        "  train_l_final.append(train_x_ae[k])\n",
        "  label_l_final.append(train.loc[k]['label'])\n",
        "\n",
        "df_train_ME = pd.DataFrame({'emb': train_l_final, 'label': label_l_final, })\n",
        "df_train_ME.head()"
      ],
      "execution_count": null,
      "outputs": [
        {
          "data": {
            "text/html": [
              "<div>\n",
              "<style scoped>\n",
              "    .dataframe tbody tr th:only-of-type {\n",
              "        vertical-align: middle;\n",
              "    }\n",
              "\n",
              "    .dataframe tbody tr th {\n",
              "        vertical-align: top;\n",
              "    }\n",
              "\n",
              "    .dataframe thead th {\n",
              "        text-align: right;\n",
              "    }\n",
              "</style>\n",
              "<table border=\"1\" class=\"dataframe\">\n",
              "  <thead>\n",
              "    <tr style=\"text-align: right;\">\n",
              "      <th></th>\n",
              "      <th>emb</th>\n",
              "      <th>label</th>\n",
              "    </tr>\n",
              "  </thead>\n",
              "  <tbody>\n",
              "    <tr>\n",
              "      <th>0</th>\n",
              "      <td>[[11.7691345, -3.993317, -2.3697932, 0.9409576...</td>\n",
              "      <td>9</td>\n",
              "    </tr>\n",
              "    <tr>\n",
              "      <th>1</th>\n",
              "      <td>[[27.210913, -3.0984569, -2.3482087, -21.91563...</td>\n",
              "      <td>1</td>\n",
              "    </tr>\n",
              "    <tr>\n",
              "      <th>2</th>\n",
              "      <td>[[3.8793087, -44.26941, -3.7535632, -1.2752479...</td>\n",
              "      <td>2</td>\n",
              "    </tr>\n",
              "    <tr>\n",
              "      <th>3</th>\n",
              "      <td>[[8.875746, -9.7351055, -7.829488, -0.16122623...</td>\n",
              "      <td>8</td>\n",
              "    </tr>\n",
              "    <tr>\n",
              "      <th>4</th>\n",
              "      <td>[[8.827965, -31.248112, 0.33624804, 2.5537694,...</td>\n",
              "      <td>9</td>\n",
              "    </tr>\n",
              "  </tbody>\n",
              "</table>\n",
              "</div>"
            ],
            "text/plain": [
              "                                                 emb  label\n",
              "0  [[11.7691345, -3.993317, -2.3697932, 0.9409576...      9\n",
              "1  [[27.210913, -3.0984569, -2.3482087, -21.91563...      1\n",
              "2  [[3.8793087, -44.26941, -3.7535632, -1.2752479...      2\n",
              "3  [[8.875746, -9.7351055, -7.829488, -0.16122623...      8\n",
              "4  [[8.827965, -31.248112, 0.33624804, 2.5537694,...      9"
            ]
          },
          "execution_count": 147,
          "metadata": {},
          "output_type": "execute_result"
        }
      ]
    },
    {
      "cell_type": "code",
      "metadata": {
        "colab": {
          "base_uri": "https://localhost:8080/"
        },
        "id": "c7tj_Y8iDTDa",
        "outputId": "eadab42b-605a-4e60-8d4f-7948e78668db"
      },
      "source": [
        "aux = -1\n",
        "len_l = 0\n",
        "val_x_ae = {}\n",
        "\n",
        "for l, emb in zip(val_index_l, encoded_X_val_full):\n",
        "  if l in val_x_ae.keys():\n",
        "    val_x_ae[l]  =np.vstack([val_x_ae[l], emb])\n",
        "  else:\n",
        "    val_x_ae[l] = [emb]\n",
        "\n",
        "\n",
        "val_l_final = []\n",
        "vlabel_l_final = []\n",
        "for k in val_x_ae.keys():\n",
        "  val_l_final.append(val_x_ae[k])\n",
        "  vlabel_l_final.append(val.loc[k]['label'])\n",
        "\n",
        "df_val_ME = pd.DataFrame({'emb': val_l_final, 'label': vlabel_l_final})\n",
        "df_val_ME.head()"
      ],
      "execution_count": null,
      "outputs": [
        {
          "data": {
            "text/html": [
              "<div>\n",
              "<style scoped>\n",
              "    .dataframe tbody tr th:only-of-type {\n",
              "        vertical-align: middle;\n",
              "    }\n",
              "\n",
              "    .dataframe tbody tr th {\n",
              "        vertical-align: top;\n",
              "    }\n",
              "\n",
              "    .dataframe thead th {\n",
              "        text-align: right;\n",
              "    }\n",
              "</style>\n",
              "<table border=\"1\" class=\"dataframe\">\n",
              "  <thead>\n",
              "    <tr style=\"text-align: right;\">\n",
              "      <th></th>\n",
              "      <th>emb</th>\n",
              "      <th>label</th>\n",
              "    </tr>\n",
              "  </thead>\n",
              "  <tbody>\n",
              "    <tr>\n",
              "      <th>0</th>\n",
              "      <td>[[-9.790737, 26.58396, -1.7922839, -2.1424522,...</td>\n",
              "      <td>1</td>\n",
              "    </tr>\n",
              "    <tr>\n",
              "      <th>1</th>\n",
              "      <td>[[-0.4056447, -54.6055, 0.6750471, 0.9529122, ...</td>\n",
              "      <td>2</td>\n",
              "    </tr>\n",
              "    <tr>\n",
              "      <th>2</th>\n",
              "      <td>[[6.774913, 10.040265, -0.9872214, -19.450104,...</td>\n",
              "      <td>1</td>\n",
              "    </tr>\n",
              "    <tr>\n",
              "      <th>3</th>\n",
              "      <td>[[15.251167, 16.838892, -6.065732, -1.8918027,...</td>\n",
              "      <td>10</td>\n",
              "    </tr>\n",
              "    <tr>\n",
              "      <th>4</th>\n",
              "      <td>[[-4.0619407, 6.8484197, -4.5793467, 6.1958485...</td>\n",
              "      <td>1</td>\n",
              "    </tr>\n",
              "  </tbody>\n",
              "</table>\n",
              "</div>"
            ],
            "text/plain": [
              "                                                 emb  label\n",
              "0  [[-9.790737, 26.58396, -1.7922839, -2.1424522,...      1\n",
              "1  [[-0.4056447, -54.6055, 0.6750471, 0.9529122, ...      2\n",
              "2  [[6.774913, 10.040265, -0.9872214, -19.450104,...      1\n",
              "3  [[15.251167, 16.838892, -6.065732, -1.8918027,...     10\n",
              "4  [[-4.0619407, 6.8484197, -4.5793467, 6.1958485...      1"
            ]
          },
          "execution_count": 148,
          "metadata": {},
          "output_type": "execute_result"
        }
      ]
    },
    {
      "cell_type": "code",
      "metadata": {
        "id": "QwJba-L1bsHS"
      },
      "source": [
        "df_train_ME['text_split_count'] = df_train_ME['emb'].apply(new_get_split_count)\n",
        "df_val_ME['text_split_count'] = df_val_ME['emb'].apply(new_get_split_count)"
      ],
      "execution_count": null,
      "outputs": []
    },
    {
      "cell_type": "code",
      "metadata": {
        "colab": {
          "base_uri": "https://localhost:8080/"
        },
        "id": "OxG0y5YCbsKM",
        "outputId": "42f705cf-e2fd-4c4a-ad02-e4de43541b1c"
      },
      "source": [
        "df_train_ME.shape, df_val_ME.shape"
      ],
      "execution_count": null,
      "outputs": [
        {
          "data": {
            "text/plain": [
              "((5060, 3), (1266, 3))"
            ]
          },
          "execution_count": 150,
          "metadata": {},
          "output_type": "execute_result"
        }
      ]
    },
    {
      "cell_type": "code",
      "metadata": {
        "colab": {
          "base_uri": "https://localhost:8080/"
        },
        "id": "m1EPGK20c_-b",
        "outputId": "fa698865-4d24-46df-ca2f-0fd33cb554c4"
      },
      "source": [
        "df_train_ME"
      ],
      "execution_count": null,
      "outputs": [
        {
          "data": {
            "text/html": [
              "<div>\n",
              "<style scoped>\n",
              "    .dataframe tbody tr th:only-of-type {\n",
              "        vertical-align: middle;\n",
              "    }\n",
              "\n",
              "    .dataframe tbody tr th {\n",
              "        vertical-align: top;\n",
              "    }\n",
              "\n",
              "    .dataframe thead th {\n",
              "        text-align: right;\n",
              "    }\n",
              "</style>\n",
              "<table border=\"1\" class=\"dataframe\">\n",
              "  <thead>\n",
              "    <tr style=\"text-align: right;\">\n",
              "      <th></th>\n",
              "      <th>emb</th>\n",
              "      <th>label</th>\n",
              "      <th>text_split_count</th>\n",
              "    </tr>\n",
              "  </thead>\n",
              "  <tbody>\n",
              "    <tr>\n",
              "      <th>0</th>\n",
              "      <td>[[11.7691345, -3.993317, -2.3697932, 0.9409576...</td>\n",
              "      <td>9</td>\n",
              "      <td>1</td>\n",
              "    </tr>\n",
              "    <tr>\n",
              "      <th>1</th>\n",
              "      <td>[[27.210913, -3.0984569, -2.3482087, -21.91563...</td>\n",
              "      <td>1</td>\n",
              "      <td>4</td>\n",
              "    </tr>\n",
              "    <tr>\n",
              "      <th>2</th>\n",
              "      <td>[[3.8793087, -44.26941, -3.7535632, -1.2752479...</td>\n",
              "      <td>2</td>\n",
              "      <td>16</td>\n",
              "    </tr>\n",
              "    <tr>\n",
              "      <th>3</th>\n",
              "      <td>[[8.875746, -9.7351055, -7.829488, -0.16122623...</td>\n",
              "      <td>8</td>\n",
              "      <td>5</td>\n",
              "    </tr>\n",
              "    <tr>\n",
              "      <th>4</th>\n",
              "      <td>[[8.827965, -31.248112, 0.33624804, 2.5537694,...</td>\n",
              "      <td>9</td>\n",
              "      <td>9</td>\n",
              "    </tr>\n",
              "    <tr>\n",
              "      <th>...</th>\n",
              "      <td>...</td>\n",
              "      <td>...</td>\n",
              "      <td>...</td>\n",
              "    </tr>\n",
              "    <tr>\n",
              "      <th>5055</th>\n",
              "      <td>[[18.391924, -31.185476, -6.34667, -0.6771315,...</td>\n",
              "      <td>9</td>\n",
              "      <td>1</td>\n",
              "    </tr>\n",
              "    <tr>\n",
              "      <th>5056</th>\n",
              "      <td>[[4.3742423, -22.228655, -5.4029665, 4.9805613...</td>\n",
              "      <td>2</td>\n",
              "      <td>5</td>\n",
              "    </tr>\n",
              "    <tr>\n",
              "      <th>5057</th>\n",
              "      <td>[[23.31708, 3.213971, -2.7555082, -1.3329479, ...</td>\n",
              "      <td>8</td>\n",
              "      <td>4</td>\n",
              "    </tr>\n",
              "    <tr>\n",
              "      <th>5058</th>\n",
              "      <td>[[1.5350021, -23.772484, -6.695416, -1.2198218...</td>\n",
              "      <td>3</td>\n",
              "      <td>1</td>\n",
              "    </tr>\n",
              "    <tr>\n",
              "      <th>5059</th>\n",
              "      <td>[[14.143715, 0.81555647, -3.568956, 3.2659159,...</td>\n",
              "      <td>9</td>\n",
              "      <td>10</td>\n",
              "    </tr>\n",
              "  </tbody>\n",
              "</table>\n",
              "<p>5060 rows × 3 columns</p>\n",
              "</div>"
            ],
            "text/plain": [
              "                                                    emb  ...  text_split_count\n",
              "0     [[11.7691345, -3.993317, -2.3697932, 0.9409576...  ...                 1\n",
              "1     [[27.210913, -3.0984569, -2.3482087, -21.91563...  ...                 4\n",
              "2     [[3.8793087, -44.26941, -3.7535632, -1.2752479...  ...                16\n",
              "3     [[8.875746, -9.7351055, -7.829488, -0.16122623...  ...                 5\n",
              "4     [[8.827965, -31.248112, 0.33624804, 2.5537694,...  ...                 9\n",
              "...                                                 ...  ...               ...\n",
              "5055  [[18.391924, -31.185476, -6.34667, -0.6771315,...  ...                 1\n",
              "5056  [[4.3742423, -22.228655, -5.4029665, 4.9805613...  ...                 5\n",
              "5057  [[23.31708, 3.213971, -2.7555082, -1.3329479, ...  ...                 4\n",
              "5058  [[1.5350021, -23.772484, -6.695416, -1.2198218...  ...                 1\n",
              "5059  [[14.143715, 0.81555647, -3.568956, 3.2659159,...  ...                10\n",
              "\n",
              "[5060 rows x 3 columns]"
            ]
          },
          "execution_count": 151,
          "metadata": {},
          "output_type": "execute_result"
        }
      ]
    },
    {
      "cell_type": "code",
      "metadata": {
        "colab": {
          "base_uri": "https://localhost:8080/"
        },
        "id": "K4_F_ewCbsP6",
        "outputId": "899d9f9f-307e-433c-ec5d-5e8d6de7762f"
      },
      "source": [
        "df_test_ME_1 = df_train_ME[(df_train_ME['text_split_count'].isin([4]))]\n",
        "df_train_ME_1 = df_train_ME[~(df_train_ME['text_split_count'].isin([4]))]\n",
        "df_train_ME = df_train_ME_1\n",
        "print(df_train_ME.shape , df_test_ME_1.shape)"
      ],
      "execution_count": null,
      "outputs": [
        {
          "name": "stdout",
          "output_type": "stream",
          "text": [
            "(4802, 3) (258, 3)\n"
          ]
        }
      ]
    },
    {
      "cell_type": "code",
      "metadata": {
        "id": "bORk4uHbbsSM"
      },
      "source": [
        "df_test_ME_2 = df_val_ME[(df_val_ME['text_split_count'].isin([4]))]\n",
        "df_val_ME_1 = df_val_ME[~(df_val_ME['text_split_count'].isin([4]))]\n",
        "df_val_ME = df_val_ME_1"
      ],
      "execution_count": null,
      "outputs": []
    },
    {
      "cell_type": "code",
      "metadata": {
        "colab": {
          "base_uri": "https://localhost:8080/"
        },
        "id": "rvYwCjKcbsU2",
        "outputId": "68d50e52-355f-436a-abde-5107e3e90894"
      },
      "source": [
        "\n",
        "df_test_ME_new = [df_test_ME_1, df_test_ME_2]\n",
        "df_test_ME_nw_1 = pd.concat(df_test_ME_new)\n",
        "\n",
        "df_test_ME = df_test_ME_nw_1\n",
        "df_test_ME.reset_index(drop=True, inplace=True)\n",
        "df_test_ME.head(2)\n"
      ],
      "execution_count": null,
      "outputs": [
        {
          "data": {
            "text/html": [
              "<div>\n",
              "<style scoped>\n",
              "    .dataframe tbody tr th:only-of-type {\n",
              "        vertical-align: middle;\n",
              "    }\n",
              "\n",
              "    .dataframe tbody tr th {\n",
              "        vertical-align: top;\n",
              "    }\n",
              "\n",
              "    .dataframe thead th {\n",
              "        text-align: right;\n",
              "    }\n",
              "</style>\n",
              "<table border=\"1\" class=\"dataframe\">\n",
              "  <thead>\n",
              "    <tr style=\"text-align: right;\">\n",
              "      <th></th>\n",
              "      <th>emb</th>\n",
              "      <th>label</th>\n",
              "      <th>text_split_count</th>\n",
              "    </tr>\n",
              "  </thead>\n",
              "  <tbody>\n",
              "    <tr>\n",
              "      <th>0</th>\n",
              "      <td>[[27.210913, -3.0984569, -2.3482087, -21.91563...</td>\n",
              "      <td>1</td>\n",
              "      <td>4</td>\n",
              "    </tr>\n",
              "    <tr>\n",
              "      <th>1</th>\n",
              "      <td>[[3.8061097, 28.144135, -2.9049828, 3.2746058,...</td>\n",
              "      <td>9</td>\n",
              "      <td>4</td>\n",
              "    </tr>\n",
              "  </tbody>\n",
              "</table>\n",
              "</div>"
            ],
            "text/plain": [
              "                                                 emb  label  text_split_count\n",
              "0  [[27.210913, -3.0984569, -2.3482087, -21.91563...      1                 4\n",
              "1  [[3.8061097, 28.144135, -2.9049828, 3.2746058,...      9                 4"
            ]
          },
          "execution_count": 154,
          "metadata": {},
          "output_type": "execute_result"
        }
      ]
    },
    {
      "cell_type": "code",
      "metadata": {
        "colab": {
          "base_uri": "https://localhost:8080/"
        },
        "id": "LPHLv-KAbsXG",
        "outputId": "d977988b-064f-4e25-fa5e-8a1960b183cd"
      },
      "source": [
        "\n",
        "df_train_ME.reset_index(drop=True, inplace=True)\n",
        "df_train_ME.head(2)\n"
      ],
      "execution_count": null,
      "outputs": [
        {
          "data": {
            "text/html": [
              "<div>\n",
              "<style scoped>\n",
              "    .dataframe tbody tr th:only-of-type {\n",
              "        vertical-align: middle;\n",
              "    }\n",
              "\n",
              "    .dataframe tbody tr th {\n",
              "        vertical-align: top;\n",
              "    }\n",
              "\n",
              "    .dataframe thead th {\n",
              "        text-align: right;\n",
              "    }\n",
              "</style>\n",
              "<table border=\"1\" class=\"dataframe\">\n",
              "  <thead>\n",
              "    <tr style=\"text-align: right;\">\n",
              "      <th></th>\n",
              "      <th>emb</th>\n",
              "      <th>label</th>\n",
              "      <th>text_split_count</th>\n",
              "    </tr>\n",
              "  </thead>\n",
              "  <tbody>\n",
              "    <tr>\n",
              "      <th>0</th>\n",
              "      <td>[[11.7691345, -3.993317, -2.3697932, 0.9409576...</td>\n",
              "      <td>9</td>\n",
              "      <td>1</td>\n",
              "    </tr>\n",
              "    <tr>\n",
              "      <th>1</th>\n",
              "      <td>[[3.8793087, -44.26941, -3.7535632, -1.2752479...</td>\n",
              "      <td>2</td>\n",
              "      <td>16</td>\n",
              "    </tr>\n",
              "  </tbody>\n",
              "</table>\n",
              "</div>"
            ],
            "text/plain": [
              "                                                 emb  label  text_split_count\n",
              "0  [[11.7691345, -3.993317, -2.3697932, 0.9409576...      9                 1\n",
              "1  [[3.8793087, -44.26941, -3.7535632, -1.2752479...      2                16"
            ]
          },
          "execution_count": 155,
          "metadata": {},
          "output_type": "execute_result"
        }
      ]
    },
    {
      "cell_type": "code",
      "metadata": {
        "colab": {
          "base_uri": "https://localhost:8080/"
        },
        "id": "YdE2Ut7Cd4cP",
        "outputId": "ee93d763-ae65-4f69-96b5-b89cd479f1a9"
      },
      "source": [
        "df_val_ME.reset_index(drop=True, inplace=True)\n",
        "df_val_ME.head(2)"
      ],
      "execution_count": null,
      "outputs": [
        {
          "data": {
            "text/html": [
              "<div>\n",
              "<style scoped>\n",
              "    .dataframe tbody tr th:only-of-type {\n",
              "        vertical-align: middle;\n",
              "    }\n",
              "\n",
              "    .dataframe tbody tr th {\n",
              "        vertical-align: top;\n",
              "    }\n",
              "\n",
              "    .dataframe thead th {\n",
              "        text-align: right;\n",
              "    }\n",
              "</style>\n",
              "<table border=\"1\" class=\"dataframe\">\n",
              "  <thead>\n",
              "    <tr style=\"text-align: right;\">\n",
              "      <th></th>\n",
              "      <th>emb</th>\n",
              "      <th>label</th>\n",
              "      <th>text_split_count</th>\n",
              "    </tr>\n",
              "  </thead>\n",
              "  <tbody>\n",
              "    <tr>\n",
              "      <th>0</th>\n",
              "      <td>[[-9.790737, 26.58396, -1.7922839, -2.1424522,...</td>\n",
              "      <td>1</td>\n",
              "      <td>1</td>\n",
              "    </tr>\n",
              "    <tr>\n",
              "      <th>1</th>\n",
              "      <td>[[-0.4056447, -54.6055, 0.6750471, 0.9529122, ...</td>\n",
              "      <td>2</td>\n",
              "      <td>13</td>\n",
              "    </tr>\n",
              "  </tbody>\n",
              "</table>\n",
              "</div>"
            ],
            "text/plain": [
              "                                                 emb  label  text_split_count\n",
              "0  [[-9.790737, 26.58396, -1.7922839, -2.1424522,...      1                 1\n",
              "1  [[-0.4056447, -54.6055, 0.6750471, 0.9529122, ...      2                13"
            ]
          },
          "execution_count": 156,
          "metadata": {},
          "output_type": "execute_result"
        }
      ]
    },
    {
      "cell_type": "code",
      "metadata": {
        "colab": {
          "base_uri": "https://localhost:8080/"
        },
        "id": "0kHLppO4d4fE",
        "outputId": "de1ad94a-67d3-49aa-ba76-198678f38cb8"
      },
      "source": [
        "df_train_ME.shape, df_val_ME.shape, df_test_ME.shape"
      ],
      "execution_count": null,
      "outputs": [
        {
          "data": {
            "text/plain": [
              "((4802, 3), (1201, 3), (323, 3))"
            ]
          },
          "execution_count": 158,
          "metadata": {},
          "output_type": "execute_result"
        }
      ]
    },
    {
      "cell_type": "code",
      "metadata": {
        "colab": {
          "base_uri": "https://localhost:8080/"
        },
        "id": "6-I3K2IADf47",
        "outputId": "6d976d29-4d18-4fe7-a656-99a0b3da50fc"
      },
      "source": [
        "df_train_ME['label']=df_train_ME['label'].replace([-1], 0)\n",
        "df_val_ME['label']=df_val_ME['label'].replace([-1], 0)\n",
        "df_test_ME['label']=df_test_ME['label'].replace([-1], 0)"
      ],
      "execution_count": null,
      "outputs": [
        {
          "name": "stderr",
          "output_type": "stream",
          "text": [
            "/usr/local/lib/python3.7/dist-packages/ipykernel_launcher.py:1: SettingWithCopyWarning: \n",
            "A value is trying to be set on a copy of a slice from a DataFrame.\n",
            "Try using .loc[row_indexer,col_indexer] = value instead\n",
            "\n",
            "See the caveats in the documentation: https://pandas.pydata.org/pandas-docs/stable/user_guide/indexing.html#returning-a-view-versus-a-copy\n",
            "  \"\"\"Entry point for launching an IPython kernel.\n"
          ]
        }
      ]
    },
    {
      "cell_type": "code",
      "metadata": {
        "id": "Rqcjpj_9Df9i"
      },
      "source": [
        "num_sequences = len(df_train_ME['emb'].to_list())\n",
        "batch_size = 7\n",
        "batches_per_epoch = 686\n",
        "assert batch_size * batches_per_epoch == num_sequences\n",
        "num_features= 384\n",
        "def train_generator_encoder(df):\n",
        "    x_list= df['emb'].to_list()\n",
        "    y_list =  df.label.to_list()\n",
        "    # Generate batches\n",
        "    while True:\n",
        "        for b in range(batches_per_epoch):\n",
        "            longest_index = (b + 1) * batch_size - 1\n",
        "            timesteps = len(max(df['emb'].to_list()[:(b + 1) * batch_size][-batch_size:], key=len))\n",
        "            x_train = np.full((batch_size, timesteps, num_features), -99.)\n",
        "            y_train = np.zeros((batch_size,  1))\n",
        "            for i in range(batch_size):\n",
        "                li = b * batch_size + i\n",
        "                x_train[i, 0:len(x_list[li]), :] = x_list[li]\n",
        "                y_train[i] = y_list[li]\n",
        "            yield x_train, y_train"
      ],
      "execution_count": null,
      "outputs": []
    },
    {
      "cell_type": "code",
      "metadata": {
        "id": "Po92sAkXD0yg"
      },
      "source": [
        "num_sequences_val = len(df_val_ME['emb'].to_list())\n",
        "batch_size_val = 1\n",
        "batches_per_epoch_val = 1201\n",
        "assert batch_size_val * batches_per_epoch_val == num_sequences_val\n",
        "num_features= 384\n",
        "def val_generator_encoder(df):\n",
        "    x_list= df['emb'].to_list()\n",
        "    y_list =  df.label.to_list()\n",
        "    # Generate batches\n",
        "    while True:\n",
        "        for b in range(batches_per_epoch_val):\n",
        "            longest_index = (b + 1) * batch_size_val - 1\n",
        "            timesteps = len(max(df['emb'].to_list()[:(b + 1) * batch_size_val][-31:], key=len))\n",
        "            x_train = np.full((batch_size_val, timesteps, num_features), -99.)\n",
        "            y_train = np.zeros((batch_size_val,  1))\n",
        "            for i in range(batch_size_val):\n",
        "                li = b * batch_size_val + i\n",
        "                x_train[i, 0:len(x_list[li]), :] = x_list[li]\n",
        "                y_train[i] = y_list[li]\n",
        "            yield x_train, y_train"
      ],
      "execution_count": null,
      "outputs": []
    },
    {
      "cell_type": "code",
      "metadata": {
        "colab": {
          "base_uri": "https://localhost:8080/"
        },
        "id": "kT2I_XQPEFeM",
        "outputId": "f3404d45-b2fb-4801-f27b-f8a378f6f751"
      },
      "source": [
        "text_input = Input(shape=(None,384,), dtype='float32', name='text')\n",
        "\n",
        "l_mask = layers.Masking(mask_value=-99.)(text_input)\n",
        "# Which we encoded in a single vector via a LSTM\n",
        "encoded_text = layers.LSTM(100,)(l_mask)\n",
        "out_dense = layers.Dense(30, activation='relu')(encoded_text)\n",
        "# And we add a softmax classifier on top\n",
        "out = layers.Dense(len(df_train_AE['label'].unique()), activation='softmax')(out_dense)\n",
        "# At model instantiation, we specify the input and the output:\n",
        "modelME = Model(text_input, out)\n",
        "modelME.compile(optimizer=tf.keras.optimizers.Adam(clipvalue=0.5),\n",
        "              loss='sparse_categorical_crossentropy',\n",
        "              metrics=['acc'])\n",
        "modelME.summary()"
      ],
      "execution_count": null,
      "outputs": [
        {
          "name": "stdout",
          "output_type": "stream",
          "text": [
            "Model: \"model_5\"\n",
            "_________________________________________________________________\n",
            " Layer (type)                Output Shape              Param #   \n",
            "=================================================================\n",
            " text (InputLayer)           [(None, None, 384)]       0         \n",
            "                                                                 \n",
            " masking_1 (Masking)         (None, None, 384)         0         \n",
            "                                                                 \n",
            " lstm_1 (LSTM)               (None, 100)               194000    \n",
            "                                                                 \n",
            " dense_14 (Dense)            (None, 30)                3030      \n",
            "                                                                 \n",
            " dense_15 (Dense)            (None, 15)                465       \n",
            "                                                                 \n",
            "=================================================================\n",
            "Total params: 197,495\n",
            "Trainable params: 197,495\n",
            "Non-trainable params: 0\n",
            "_________________________________________________________________\n"
          ]
        }
      ]
    },
    {
      "cell_type": "code",
      "metadata": {
        "colab": {
          "base_uri": "https://localhost:8080/"
        },
        "id": "knsWXw9XEFiP",
        "outputId": "c26d9abd-1a31-43bf-879f-fabc6d0d49cf"
      },
      "source": [
        "ES=tf.keras.callbacks.EarlyStopping(patience=5, restore_best_weights=True)\n",
        "modelME.fit_generator(train_generator_encoder(df_train_ME), steps_per_epoch=batches_per_epoch, epochs=50,validation_data=val_generator_encoder(df_val_ME), validation_steps=batches_per_epoch_val,callbacks=[ES])"
      ],
      "execution_count": null,
      "outputs": [
        {
          "name": "stderr",
          "output_type": "stream",
          "text": [
            "/usr/local/lib/python3.7/dist-packages/ipykernel_launcher.py:2: UserWarning: `model.fit_generator` is deprecated and will be removed in a future version. Please use `Model.fit`, which supports generators.\n",
            "  \n"
          ]
        },
        {
          "name": "stdout",
          "output_type": "stream",
          "text": [
            "Epoch 1/50\n",
            "685/686 [============================>.] - ETA: 0s - batch: 342.0000 - size: 7.0000 - loss: 0.9122 - acc: 0.7339"
          ]
        },
        {
          "name": "stderr",
          "output_type": "stream",
          "text": [
            "/usr/local/lib/python3.7/dist-packages/keras/engine/training_v1.py:2057: UserWarning: `Model.state_updates` will be removed in a future version. This property should not be used in TensorFlow 2.0, as `updates` are applied automatically.\n",
            "  updates = self.state_updates\n"
          ]
        },
        {
          "name": "stdout",
          "output_type": "stream",
          "text": [
            "686/686 [==============================] - 21s 30ms/step - batch: 342.5000 - size: 7.0000 - loss: 0.9118 - acc: 0.7341 - val_loss: 0.9568 - val_acc: 0.7061\n",
            "Epoch 2/50\n",
            "686/686 [==============================] - 20s 30ms/step - batch: 342.5000 - size: 7.0000 - loss: 0.7436 - acc: 0.7751 - val_loss: 0.9392 - val_acc: 0.7136\n",
            "Epoch 3/50\n",
            "686/686 [==============================] - 20s 29ms/step - batch: 342.5000 - size: 7.0000 - loss: 0.7041 - acc: 0.7797 - val_loss: 0.9036 - val_acc: 0.7136\n",
            "Epoch 4/50\n",
            "686/686 [==============================] - 20s 30ms/step - batch: 342.5000 - size: 7.0000 - loss: 0.6875 - acc: 0.7774 - val_loss: 0.9137 - val_acc: 0.7186\n",
            "Epoch 5/50\n",
            "686/686 [==============================] - 20s 29ms/step - batch: 342.5000 - size: 7.0000 - loss: 0.6700 - acc: 0.7870 - val_loss: 0.8906 - val_acc: 0.7336\n",
            "Epoch 6/50\n",
            "686/686 [==============================] - 20s 29ms/step - batch: 342.5000 - size: 7.0000 - loss: 0.6602 - acc: 0.7861 - val_loss: 0.8955 - val_acc: 0.7236\n",
            "Epoch 7/50\n",
            "686/686 [==============================] - 20s 29ms/step - batch: 342.5000 - size: 7.0000 - loss: 0.6394 - acc: 0.7913 - val_loss: 0.8618 - val_acc: 0.7352\n",
            "Epoch 8/50\n",
            "686/686 [==============================] - 20s 29ms/step - batch: 342.5000 - size: 7.0000 - loss: 0.6443 - acc: 0.7888 - val_loss: 0.8934 - val_acc: 0.7244\n",
            "Epoch 9/50\n",
            "686/686 [==============================] - 20s 29ms/step - batch: 342.5000 - size: 7.0000 - loss: 0.6184 - acc: 0.7949 - val_loss: 0.8985 - val_acc: 0.7277\n",
            "Epoch 10/50\n",
            "686/686 [==============================] - 20s 29ms/step - batch: 342.5000 - size: 7.0000 - loss: 0.6147 - acc: 0.7947 - val_loss: 0.8950 - val_acc: 0.7244\n",
            "Epoch 11/50\n",
            "686/686 [==============================] - 21s 30ms/step - batch: 342.5000 - size: 7.0000 - loss: 0.6211 - acc: 0.7936 - val_loss: 0.8864 - val_acc: 0.7327\n",
            "Epoch 12/50\n",
            "686/686 [==============================] - 20s 30ms/step - batch: 342.5000 - size: 7.0000 - loss: 0.6058 - acc: 0.8034 - val_loss: 0.8816 - val_acc: 0.7294\n"
          ]
        },
        {
          "data": {
            "text/plain": [
              "<keras.callbacks.History at 0x7f69fcb5e910>"
            ]
          },
          "execution_count": 163,
          "metadata": {},
          "output_type": "execute_result"
        }
      ]
    },
    {
      "cell_type": "code",
      "metadata": {
        "colab": {
          "base_uri": "https://localhost:8080/"
        },
        "id": "J5TMlZvbEFl2",
        "outputId": "28fe5fd3-5e87-4bcc-e9fb-be42aa172e25"
      },
      "source": [
        "num_sequences_val = len(df_test_ME['emb'].to_list())\n",
        "batch_size_val = 1\n",
        "batches_per_epoch_val = 323\n",
        "assert batch_size_val * batches_per_epoch_val == num_sequences_val\n",
        "num_features= 384\n",
        "modelME.evaluate_generator(val_generator_encoder(df_test_ME), steps= batches_per_epoch_val)"
      ],
      "execution_count": null,
      "outputs": [
        {
          "name": "stderr",
          "output_type": "stream",
          "text": [
            "/usr/local/lib/python3.7/dist-packages/ipykernel_launcher.py:6: UserWarning: `Model.evaluate_generator` is deprecated and will be removed in a future version. Please use `Model.evaluate`, which supports generators.\n",
            "  \n"
          ]
        },
        {
          "data": {
            "text/plain": [
              "[0.6396259436147409, 0.7987616]"
            ]
          },
          "execution_count": 164,
          "metadata": {},
          "output_type": "execute_result"
        }
      ]
    },
    {
      "cell_type": "code",
      "metadata": {
        "colab": {
          "base_uri": "https://localhost:8080/"
        },
        "id": "CPNYyeJBD02t",
        "outputId": "e3f5aa90-f5f4-4140-bd7b-5bbd87dff9d7"
      },
      "source": [
        "y_proba=modelME.predict(val_generator_encoder(df_test_ME), steps= batches_per_epoch_val)\n",
        "y_pred=[]\n",
        "for i in y_proba:\n",
        "    max_index_row = np.argmax(i, axis=0)\n",
        "    y_pred.append(max_index_row)\n",
        "\n",
        "from sklearn.metrics import classification_report, confusion_matrix\n",
        "print('Confusion Matrix')\n",
        "print(confusion_matrix(y_pred, df_test_ME['label']))\n",
        "print('Classification Report')\n",
        "print(classification_report(y_pred, df_test_ME['label']))"
      ],
      "execution_count": null,
      "outputs": [
        {
          "name": "stderr",
          "output_type": "stream",
          "text": [
            "/usr/local/lib/python3.7/dist-packages/keras/engine/training_v1.py:2079: UserWarning: `Model.state_updates` will be removed in a future version. This property should not be used in TensorFlow 2.0, as `updates` are applied automatically.\n",
            "  updates=self.state_updates,\n"
          ]
        },
        {
          "name": "stdout",
          "output_type": "stream",
          "text": [
            "Confusion Matrix\n",
            "[[67  0  0  4  0  0  0  0  3  0  0  0]\n",
            " [ 2 41  0  1  0  0  1  0  7  1  0  0]\n",
            " [ 0  1 11  0  0  0  0  1  1  0  0  0]\n",
            " [ 2  0  0  5  0  0  0  1  4  0  1  0]\n",
            " [ 0  0  0  0  1  0  0  0  0  0  0  0]\n",
            " [ 0  0  0  0  0  2  0  0  0  0  0  0]\n",
            " [ 0  0  1  0  0  0 15  0  4  2  0  0]\n",
            " [ 0  0  0  1  0  0  1 65  9  2  0  2]\n",
            " [ 1  1  0  0  0  0  0  1 31  1  0  0]\n",
            " [ 0  0  0  0  0  0  0  5  0  2  0  0]\n",
            " [ 0  0  0  0  0  0  0  0  1  1  3  0]\n",
            " [ 0  0  0  0  0  0  0  2  0  0  0 15]]\n",
            "Classification Report\n",
            "              precision    recall  f1-score   support\n",
            "\n",
            "           1       0.93      0.91      0.92        74\n",
            "           2       0.95      0.77      0.85        53\n",
            "           3       0.92      0.79      0.85        14\n",
            "           4       0.45      0.38      0.42        13\n",
            "           5       1.00      1.00      1.00         1\n",
            "           6       1.00      1.00      1.00         2\n",
            "           7       0.88      0.68      0.77        22\n",
            "           8       0.87      0.81      0.84        80\n",
            "           9       0.52      0.89      0.65        35\n",
            "          10       0.22      0.29      0.25         7\n",
            "          11       0.75      0.60      0.67         5\n",
            "          12       0.88      0.88      0.88        17\n",
            "\n",
            "    accuracy                           0.80       323\n",
            "   macro avg       0.78      0.75      0.76       323\n",
            "weighted avg       0.83      0.80      0.81       323\n",
            "\n"
          ]
        }
      ]
    },
    {
      "cell_type": "code",
      "metadata": {
        "colab": {
          "base_uri": "https://localhost:8080/"
        },
        "id": "jzxXsaTED07D",
        "outputId": "e135b38b-38ff-4479-82b9-68022bfcf6b4"
      },
      "source": [
        "mat = confusion_matrix(y_pred, df_test_ME['label'])\n",
        "\n",
        "diag = np.diagonal(mat)\n",
        "print('No of correctly identified labels :',sum(diag))\n",
        "print('No of misclassified samples : ',sum(sum(mat))-sum(diag))"
      ],
      "execution_count": null,
      "outputs": [
        {
          "name": "stdout",
          "output_type": "stream",
          "text": [
            "No of correctly identified labels : 258\n",
            "No of misclassified samples :  65\n"
          ]
        }
      ]
    },
    {
      "cell_type": "code",
      "metadata": {
        "id": "Zm7bIarRD0-8"
      },
      "source": [
        ""
      ],
      "execution_count": null,
      "outputs": []
    },
    {
      "cell_type": "code",
      "metadata": {
        "id": "AoQHtxlnDgBN"
      },
      "source": [
        ""
      ],
      "execution_count": null,
      "outputs": []
    },
    {
      "cell_type": "markdown",
      "metadata": {
        "id": "Nez-S_q3wlyI"
      },
      "source": [
        "# Autoencoders New "
      ]
    },
    {
      "cell_type": "code",
      "metadata": {
        "id": "06GByI0Cwoyy"
      },
      "source": [
        "from keras import layers\n",
        "from keras.layers import Embedding, Dense, Input, concatenate, Layer, Lambda, Dropout, Activation\n",
        "from keras.models import Sequential, Model"
      ],
      "execution_count": null,
      "outputs": []
    },
    {
      "cell_type": "code",
      "metadata": {
        "colab": {
          "base_uri": "https://localhost:8080/"
        },
        "id": "rhIIGePHwo1N",
        "outputId": "84adb4df-3d4d-4814-950a-f85bd9db67f3"
      },
      "source": [
        "model = Sequential()\n",
        "\n",
        "model.add(Dense(600, activation = 'elu' , input_shape=(X.shape[1],)))\n",
        "model.add(Dense(512, activation='linear',name='bottleneck'))\n",
        "\n",
        "model.add(Dense(600 , activation = 'elu'))\n",
        "model.add(Dense(X.shape[1],activation='elu'))\n",
        "model.compile(loss='mean_squared_error', optimizer='adam',metrics = ['mse'])\n",
        "\n",
        "ES=tf.keras.callbacks.EarlyStopping(patience=7, restore_best_weights=True)\n",
        "history=model.fit(X, X, batch_size=4, epochs = 250, verbose = 1, validation_data=(X_val, X_val), callbacks=[ES])"
      ],
      "execution_count": null,
      "outputs": [
        {
          "name": "stdout",
          "output_type": "stream",
          "text": [
            "Train on 5060 samples, validate on 759 samples\n",
            "Epoch 1/250\n",
            "5056/5060 [============================>.] - ETA: 0s - loss: 0.8991 - mean_squared_error: 0.8991"
          ]
        },
        {
          "name": "stderr",
          "output_type": "stream",
          "text": [
            "/usr/local/lib/python3.7/dist-packages/keras/engine/training.py:2470: UserWarning: `Model.state_updates` will be removed in a future version. This property should not be used in TensorFlow 2.0, as `updates` are applied automatically.\n",
            "  warnings.warn('`Model.state_updates` will be removed in a future version. '\n"
          ]
        },
        {
          "name": "stdout",
          "output_type": "stream",
          "text": [
            "5060/5060 [==============================] - 2s 451us/sample - loss: 0.8994 - mean_squared_error: 0.8994 - val_loss: 1.3393 - val_mean_squared_error: 1.3393\n",
            "Epoch 2/250\n",
            "5060/5060 [==============================] - 2s 406us/sample - loss: 1.3489 - mean_squared_error: 1.3489 - val_loss: 1.3393 - val_mean_squared_error: 1.3393\n",
            "Epoch 3/250\n",
            "5060/5060 [==============================] - 2s 397us/sample - loss: 1.3483 - mean_squared_error: 1.3483 - val_loss: 1.3393 - val_mean_squared_error: 1.3393\n",
            "Epoch 4/250\n",
            "5060/5060 [==============================] - 2s 401us/sample - loss: 1.3482 - mean_squared_error: 1.3482 - val_loss: 1.3393 - val_mean_squared_error: 1.3393\n",
            "Epoch 5/250\n",
            "5060/5060 [==============================] - 2s 399us/sample - loss: 1.3495 - mean_squared_error: 1.3495 - val_loss: 1.3393 - val_mean_squared_error: 1.3393\n",
            "Epoch 6/250\n",
            "5060/5060 [==============================] - 2s 400us/sample - loss: 1.4849 - mean_squared_error: 1.4849 - val_loss: 1.3393 - val_mean_squared_error: 1.3393\n",
            "Epoch 7/250\n",
            "5060/5060 [==============================] - 2s 402us/sample - loss: 1.3482 - mean_squared_error: 1.3482 - val_loss: 1.3393 - val_mean_squared_error: 1.3393\n",
            "Epoch 8/250\n",
            "5060/5060 [==============================] - 2s 410us/sample - loss: 1.3482 - mean_squared_error: 1.3482 - val_loss: 1.3393 - val_mean_squared_error: 1.3393\n"
          ]
        }
      ]
    },
    {
      "cell_type": "code",
      "metadata": {
        "colab": {
          "base_uri": "https://localhost:8080/"
        },
        "id": "u1gOGLYbwo4A",
        "outputId": "5e8a362c-2441-41f7-a719-9ef12c61fff9"
      },
      "source": [
        "encoder=Model(model.input, model.get_layer('bottleneck').output)\n",
        "encoded_X_train = encoder.predict(X)\n",
        "encoded_X_val = encoder.predict(X_val)\n",
        "encoded_X_test = encoder.predict(X_test)"
      ],
      "execution_count": null,
      "outputs": [
        {
          "name": "stderr",
          "output_type": "stream",
          "text": [
            "/usr/local/lib/python3.7/dist-packages/keras/engine/training.py:2470: UserWarning: `Model.state_updates` will be removed in a future version. This property should not be used in TensorFlow 2.0, as `updates` are applied automatically.\n",
            "  warnings.warn('`Model.state_updates` will be removed in a future version. '\n"
          ]
        }
      ]
    },
    {
      "cell_type": "code",
      "metadata": {
        "colab": {
          "base_uri": "https://localhost:8080/"
        },
        "id": "cMAS_GQFwo6a",
        "outputId": "04d7ad7c-97c9-4625-c235-18acbe1098a9"
      },
      "source": [
        "encoded_X_train.shape, encoded_X_val.shape, encoded_X_test.shape"
      ],
      "execution_count": null,
      "outputs": [
        {
          "data": {
            "text/plain": [
              "((5060, 512), (759, 512), (507, 512))"
            ]
          },
          "execution_count": 102,
          "metadata": {},
          "output_type": "execute_result"
        }
      ]
    },
    {
      "cell_type": "code",
      "metadata": {
        "colab": {
          "base_uri": "https://localhost:8080/"
        },
        "id": "QRjaQMVD0dor",
        "outputId": "224c50cc-f137-49a1-8160-dc07b373af1d"
      },
      "source": [
        "df_train['emb'][2].shape"
      ],
      "execution_count": null,
      "outputs": [
        {
          "data": {
            "text/plain": [
              "(16, 768)"
            ]
          },
          "execution_count": 120,
          "metadata": {},
          "output_type": "execute_result"
        }
      ]
    },
    {
      "cell_type": "code",
      "metadata": {
        "id": "trAJqAAO164a"
      },
      "source": [
        "df_train['label']=df_train['label'].replace([-1], 0)\n",
        "df_test['label']=df_test['label'].replace([-1], 0)\n",
        "df_val['label']=df_val['label'].replace([-1], 0)"
      ],
      "execution_count": null,
      "outputs": []
    },
    {
      "cell_type": "code",
      "metadata": {
        "colab": {
          "base_uri": "https://localhost:8080/"
        },
        "id": "LZSjuPzhz40P",
        "outputId": "abfb2235-e1d4-4a82-ecfb-4805ea72056b"
      },
      "source": [
        "text_inputN = Input(shape=(None,768,), dtype='float32', name='text')\n",
        "\n",
        "l_maskN = layers.Masking(mask_value=-99.)(text_inputN)\n",
        "# Which we encoded in a single vector via a LSTM\n",
        "encoded_textN = layers.LSTM(100,)(l_maskN)\n",
        "out_denseN = layers.Dense(30, activation='relu')(encoded_textN)\n",
        "# And we add a softmax classifier on top\n",
        "outN = layers.Dense(len(df_train['label'].unique()), activation='softmax')(out_denseN)\n",
        "# At model instantiation, we specify the input and the output:\n",
        "modelN = Model(text_inputN, outN)\n",
        "modelN.compile(optimizer=tf.keras.optimizers.Adam(clipvalue=0.5),\n",
        "              loss='sparse_categorical_crossentropy',\n",
        "              metrics=['acc'])\n",
        "modelN.summary()"
      ],
      "execution_count": null,
      "outputs": [
        {
          "name": "stdout",
          "output_type": "stream",
          "text": [
            "Model: \"model_4\"\n",
            "_________________________________________________________________\n",
            "Layer (type)                 Output Shape              Param #   \n",
            "=================================================================\n",
            "text (InputLayer)            [(None, None, 768)]       0         \n",
            "_________________________________________________________________\n",
            "masking_3 (Masking)          (None, None, 768)         0         \n",
            "_________________________________________________________________\n",
            "lstm_3 (LSTM)                (None, 100)               347600    \n",
            "_________________________________________________________________\n",
            "dense_9 (Dense)              (None, 30)                3030      \n",
            "_________________________________________________________________\n",
            "dense_10 (Dense)             (None, 15)                465       \n",
            "=================================================================\n",
            "Total params: 351,095\n",
            "Trainable params: 351,095\n",
            "Non-trainable params: 0\n",
            "_________________________________________________________________\n"
          ]
        }
      ]
    },
    {
      "cell_type": "code",
      "metadata": {
        "id": "3nqY2r96wo_8"
      },
      "source": [
        "train_new = []\n",
        "for i in range(len(encoded_X_train)):\n",
        "  train_new.append(encoded_X_train[i])\n",
        "\n",
        "val_new = []\n",
        "for i in range(len(encoded_X_val)):\n",
        "  val_new.append(encoded_X_val[i])\n",
        "\n",
        "test_new = []\n",
        "for i in range(len(encoded_X_test)):\n",
        "  test_new.append(encoded_X_test[i])"
      ],
      "execution_count": null,
      "outputs": []
    },
    {
      "cell_type": "code",
      "metadata": {
        "colab": {
          "base_uri": "https://localhost:8080/",
          "height": 204
        },
        "id": "5S3Slobb-XQ0",
        "outputId": "18be2ab4-041f-46a1-fd42-5e9837dd2608"
      },
      "source": [
        "df_train_AE = pd.DataFrame({'emb': train_new, 'label': df_train['label'], })\n",
        "df_train_AE.head()"
      ],
      "execution_count": null,
      "outputs": [
        {
          "data": {
            "text/html": [
              "<div>\n",
              "<style scoped>\n",
              "    .dataframe tbody tr th:only-of-type {\n",
              "        vertical-align: middle;\n",
              "    }\n",
              "\n",
              "    .dataframe tbody tr th {\n",
              "        vertical-align: top;\n",
              "    }\n",
              "\n",
              "    .dataframe thead th {\n",
              "        text-align: right;\n",
              "    }\n",
              "</style>\n",
              "<table border=\"1\" class=\"dataframe\">\n",
              "  <thead>\n",
              "    <tr style=\"text-align: right;\">\n",
              "      <th></th>\n",
              "      <th>emb</th>\n",
              "      <th>label</th>\n",
              "    </tr>\n",
              "  </thead>\n",
              "  <tbody>\n",
              "    <tr>\n",
              "      <th>0</th>\n",
              "      <td>[-4.67915, 14.9925995, -8.871437, 16.083887, 8...</td>\n",
              "      <td>9</td>\n",
              "    </tr>\n",
              "    <tr>\n",
              "      <th>1</th>\n",
              "      <td>[-3.3695483, -2.4736948, -9.841375, -11.606050...</td>\n",
              "      <td>1</td>\n",
              "    </tr>\n",
              "    <tr>\n",
              "      <th>2</th>\n",
              "      <td>[-3.0292652, 6.734414, -9.845285, 4.3997297, 2...</td>\n",
              "      <td>2</td>\n",
              "    </tr>\n",
              "    <tr>\n",
              "      <th>3</th>\n",
              "      <td>[2.4784546, -4.254761, 5.6292405, -1.0563029, ...</td>\n",
              "      <td>8</td>\n",
              "    </tr>\n",
              "    <tr>\n",
              "      <th>4</th>\n",
              "      <td>[-4.1427965, -0.8965905, -10.766226, -8.453402...</td>\n",
              "      <td>9</td>\n",
              "    </tr>\n",
              "  </tbody>\n",
              "</table>\n",
              "</div>"
            ],
            "text/plain": [
              "                                                 emb  label\n",
              "0  [-4.67915, 14.9925995, -8.871437, 16.083887, 8...      9\n",
              "1  [-3.3695483, -2.4736948, -9.841375, -11.606050...      1\n",
              "2  [-3.0292652, 6.734414, -9.845285, 4.3997297, 2...      2\n",
              "3  [2.4784546, -4.254761, 5.6292405, -1.0563029, ...      8\n",
              "4  [-4.1427965, -0.8965905, -10.766226, -8.453402...      9"
            ]
          },
          "execution_count": 105,
          "metadata": {},
          "output_type": "execute_result"
        }
      ]
    },
    {
      "cell_type": "code",
      "metadata": {
        "colab": {
          "base_uri": "https://localhost:8080/",
          "height": 204
        },
        "id": "FiTMGugE-XT3",
        "outputId": "9257ab6e-cad7-4a2d-aea5-47d2006502ed"
      },
      "source": [
        "df_val_AE = pd.DataFrame({'emb': val_new, 'label': df_val['label'], })\n",
        "df_val_AE.head()"
      ],
      "execution_count": null,
      "outputs": [
        {
          "data": {
            "text/html": [
              "<div>\n",
              "<style scoped>\n",
              "    .dataframe tbody tr th:only-of-type {\n",
              "        vertical-align: middle;\n",
              "    }\n",
              "\n",
              "    .dataframe tbody tr th {\n",
              "        vertical-align: top;\n",
              "    }\n",
              "\n",
              "    .dataframe thead th {\n",
              "        text-align: right;\n",
              "    }\n",
              "</style>\n",
              "<table border=\"1\" class=\"dataframe\">\n",
              "  <thead>\n",
              "    <tr style=\"text-align: right;\">\n",
              "      <th></th>\n",
              "      <th>emb</th>\n",
              "      <th>label</th>\n",
              "    </tr>\n",
              "  </thead>\n",
              "  <tbody>\n",
              "    <tr>\n",
              "      <th>0</th>\n",
              "      <td>[3.2769277, -6.4149966, 7.629345, -1.6179233, ...</td>\n",
              "      <td>12</td>\n",
              "    </tr>\n",
              "    <tr>\n",
              "      <th>1</th>\n",
              "      <td>[-2.959204, -2.536295, -8.7502365, -11.431156,...</td>\n",
              "      <td>1</td>\n",
              "    </tr>\n",
              "    <tr>\n",
              "      <th>2</th>\n",
              "      <td>[-3.6973448, -2.2121837, -10.129915, -11.41050...</td>\n",
              "      <td>1</td>\n",
              "    </tr>\n",
              "    <tr>\n",
              "      <th>3</th>\n",
              "      <td>[-1.8190556, 4.150242, -9.122379, 1.8094193, 2...</td>\n",
              "      <td>8</td>\n",
              "    </tr>\n",
              "    <tr>\n",
              "      <th>4</th>\n",
              "      <td>[-1.4909492, -0.5826072, -4.460362, -3.3540986...</td>\n",
              "      <td>2</td>\n",
              "    </tr>\n",
              "  </tbody>\n",
              "</table>\n",
              "</div>"
            ],
            "text/plain": [
              "                                                 emb  label\n",
              "0  [3.2769277, -6.4149966, 7.629345, -1.6179233, ...     12\n",
              "1  [-2.959204, -2.536295, -8.7502365, -11.431156,...      1\n",
              "2  [-3.6973448, -2.2121837, -10.129915, -11.41050...      1\n",
              "3  [-1.8190556, 4.150242, -9.122379, 1.8094193, 2...      8\n",
              "4  [-1.4909492, -0.5826072, -4.460362, -3.3540986...      2"
            ]
          },
          "execution_count": 106,
          "metadata": {},
          "output_type": "execute_result"
        }
      ]
    },
    {
      "cell_type": "code",
      "metadata": {
        "colab": {
          "base_uri": "https://localhost:8080/",
          "height": 204
        },
        "id": "NRpcCzte-XW6",
        "outputId": "cb85f13e-7ec5-404c-d439-bce0707e5fb0"
      },
      "source": [
        "df_test_AE = pd.DataFrame({'emb': test_new, 'label': df_test['label'], })\n",
        "df_test_AE.head()"
      ],
      "execution_count": null,
      "outputs": [
        {
          "data": {
            "text/html": [
              "<div>\n",
              "<style scoped>\n",
              "    .dataframe tbody tr th:only-of-type {\n",
              "        vertical-align: middle;\n",
              "    }\n",
              "\n",
              "    .dataframe tbody tr th {\n",
              "        vertical-align: top;\n",
              "    }\n",
              "\n",
              "    .dataframe thead th {\n",
              "        text-align: right;\n",
              "    }\n",
              "</style>\n",
              "<table border=\"1\" class=\"dataframe\">\n",
              "  <thead>\n",
              "    <tr style=\"text-align: right;\">\n",
              "      <th></th>\n",
              "      <th>emb</th>\n",
              "      <th>label</th>\n",
              "    </tr>\n",
              "  </thead>\n",
              "  <tbody>\n",
              "    <tr>\n",
              "      <th>0</th>\n",
              "      <td>[-3.6503603, -0.55987227, -8.924975, -4.923238...</td>\n",
              "      <td>9</td>\n",
              "    </tr>\n",
              "    <tr>\n",
              "      <th>1</th>\n",
              "      <td>[-3.0534694, -1.7894884, -9.89627, -10.230881,...</td>\n",
              "      <td>1</td>\n",
              "    </tr>\n",
              "    <tr>\n",
              "      <th>2</th>\n",
              "      <td>[-3.9207113, 8.376297, -9.505156, 6.712466, 2....</td>\n",
              "      <td>2</td>\n",
              "    </tr>\n",
              "    <tr>\n",
              "      <th>3</th>\n",
              "      <td>[-3.3240027, -0.9326233, -9.668903, -7.5797405...</td>\n",
              "      <td>9</td>\n",
              "    </tr>\n",
              "    <tr>\n",
              "      <th>4</th>\n",
              "      <td>[-0.616606, -1.0447502, -2.596106, -3.861605, ...</td>\n",
              "      <td>8</td>\n",
              "    </tr>\n",
              "  </tbody>\n",
              "</table>\n",
              "</div>"
            ],
            "text/plain": [
              "                                                 emb  label\n",
              "0  [-3.6503603, -0.55987227, -8.924975, -4.923238...      9\n",
              "1  [-3.0534694, -1.7894884, -9.89627, -10.230881,...      1\n",
              "2  [-3.9207113, 8.376297, -9.505156, 6.712466, 2....      2\n",
              "3  [-3.3240027, -0.9326233, -9.668903, -7.5797405...      9\n",
              "4  [-0.616606, -1.0447502, -2.596106, -3.861605, ...      8"
            ]
          },
          "execution_count": 107,
          "metadata": {},
          "output_type": "execute_result"
        }
      ]
    },
    {
      "cell_type": "code",
      "metadata": {
        "colab": {
          "base_uri": "https://localhost:8080/"
        },
        "id": "Q5sfNbtR-XaG",
        "outputId": "35eccc27-36c9-4241-e71b-0126cd61edde"
      },
      "source": [
        "df_train_AE.shape, df_val_AE.shape, df_test_AE.shape"
      ],
      "execution_count": null,
      "outputs": [
        {
          "data": {
            "text/plain": [
              "((5060, 2), (759, 2), (507, 2))"
            ]
          },
          "execution_count": 110,
          "metadata": {},
          "output_type": "execute_result"
        }
      ]
    },
    {
      "cell_type": "code",
      "metadata": {
        "colab": {
          "base_uri": "https://localhost:8080/",
          "height": 419
        },
        "id": "VKOj7_ydAIrU",
        "outputId": "8c92f86d-242f-4a90-f1c9-161a64a59084"
      },
      "source": [
        "df_train"
      ],
      "execution_count": null,
      "outputs": [
        {
          "data": {
            "text/html": [
              "<div>\n",
              "<style scoped>\n",
              "    .dataframe tbody tr th:only-of-type {\n",
              "        vertical-align: middle;\n",
              "    }\n",
              "\n",
              "    .dataframe tbody tr th {\n",
              "        vertical-align: top;\n",
              "    }\n",
              "\n",
              "    .dataframe thead th {\n",
              "        text-align: right;\n",
              "    }\n",
              "</style>\n",
              "<table border=\"1\" class=\"dataframe\">\n",
              "  <thead>\n",
              "    <tr style=\"text-align: right;\">\n",
              "      <th></th>\n",
              "      <th>emb</th>\n",
              "      <th>label</th>\n",
              "      <th>mean_emb</th>\n",
              "      <th>text_split_count</th>\n",
              "    </tr>\n",
              "  </thead>\n",
              "  <tbody>\n",
              "    <tr>\n",
              "      <th>0</th>\n",
              "      <td>[[0.7950534, 0.7987839, -0.5798624, -0.0508178...</td>\n",
              "      <td>9</td>\n",
              "      <td>[0.7950534, 0.7987839, -0.5798624, -0.05081780...</td>\n",
              "      <td>1</td>\n",
              "    </tr>\n",
              "    <tr>\n",
              "      <th>1</th>\n",
              "      <td>[[0.12968883, -0.11246501, 0.0016679895, 0.956...</td>\n",
              "      <td>1</td>\n",
              "      <td>[0.11329858, -0.11095709, 0.043547444, 0.95512...</td>\n",
              "      <td>4</td>\n",
              "    </tr>\n",
              "    <tr>\n",
              "      <th>2</th>\n",
              "      <td>[[0.8182535, -0.21112083, -0.8181701, -0.35678...</td>\n",
              "      <td>2</td>\n",
              "      <td>[0.7697828, -0.113244, -0.6361579, -0.42223746...</td>\n",
              "      <td>16</td>\n",
              "    </tr>\n",
              "    <tr>\n",
              "      <th>3</th>\n",
              "      <td>[[0.74388504, 0.106950656, 0.90599614, -0.9093...</td>\n",
              "      <td>8</td>\n",
              "      <td>[0.70047396, -0.1488549, 0.90476876, -0.837227...</td>\n",
              "      <td>5</td>\n",
              "    </tr>\n",
              "    <tr>\n",
              "      <th>4</th>\n",
              "      <td>[[0.59883034, -0.1979168, -0.7636861, 0.747686...</td>\n",
              "      <td>9</td>\n",
              "      <td>[0.43300697, -0.13384393, -0.56491405, 0.70887...</td>\n",
              "      <td>9</td>\n",
              "    </tr>\n",
              "    <tr>\n",
              "      <th>...</th>\n",
              "      <td>...</td>\n",
              "      <td>...</td>\n",
              "      <td>...</td>\n",
              "      <td>...</td>\n",
              "    </tr>\n",
              "    <tr>\n",
              "      <th>5055</th>\n",
              "      <td>[[0.6929994, 0.31415126, -0.98030996, 0.813554...</td>\n",
              "      <td>9</td>\n",
              "      <td>[0.6929994, 0.31415126, -0.98030996, 0.8135544...</td>\n",
              "      <td>1</td>\n",
              "    </tr>\n",
              "    <tr>\n",
              "      <th>5056</th>\n",
              "      <td>[[0.926246, -0.06501992, -0.08635644, -0.80418...</td>\n",
              "      <td>2</td>\n",
              "      <td>[0.836391, 0.018573046, 0.08795969, -0.7785867...</td>\n",
              "      <td>5</td>\n",
              "    </tr>\n",
              "    <tr>\n",
              "      <th>5057</th>\n",
              "      <td>[[0.79223984, 0.7453048, 0.91597915, -0.592504...</td>\n",
              "      <td>8</td>\n",
              "      <td>[0.8179708, 0.558161, 0.9342796, -0.6502747, -...</td>\n",
              "      <td>4</td>\n",
              "    </tr>\n",
              "    <tr>\n",
              "      <th>5058</th>\n",
              "      <td>[[0.5369305, -0.47789952, -0.94524497, 0.86575...</td>\n",
              "      <td>3</td>\n",
              "      <td>[0.5369305, -0.47789952, -0.94524497, 0.865755...</td>\n",
              "      <td>1</td>\n",
              "    </tr>\n",
              "    <tr>\n",
              "      <th>5059</th>\n",
              "      <td>[[0.79394114, 0.7964045, -0.2772679, -0.230061...</td>\n",
              "      <td>9</td>\n",
              "      <td>[0.78395873, 0.8234488, -0.1608344, -0.2182481...</td>\n",
              "      <td>10</td>\n",
              "    </tr>\n",
              "  </tbody>\n",
              "</table>\n",
              "<p>5060 rows × 4 columns</p>\n",
              "</div>"
            ],
            "text/plain": [
              "                                                    emb  ...  text_split_count\n",
              "0     [[0.7950534, 0.7987839, -0.5798624, -0.0508178...  ...                 1\n",
              "1     [[0.12968883, -0.11246501, 0.0016679895, 0.956...  ...                 4\n",
              "2     [[0.8182535, -0.21112083, -0.8181701, -0.35678...  ...                16\n",
              "3     [[0.74388504, 0.106950656, 0.90599614, -0.9093...  ...                 5\n",
              "4     [[0.59883034, -0.1979168, -0.7636861, 0.747686...  ...                 9\n",
              "...                                                 ...  ...               ...\n",
              "5055  [[0.6929994, 0.31415126, -0.98030996, 0.813554...  ...                 1\n",
              "5056  [[0.926246, -0.06501992, -0.08635644, -0.80418...  ...                 5\n",
              "5057  [[0.79223984, 0.7453048, 0.91597915, -0.592504...  ...                 4\n",
              "5058  [[0.5369305, -0.47789952, -0.94524497, 0.86575...  ...                 1\n",
              "5059  [[0.79394114, 0.7964045, -0.2772679, -0.230061...  ...                10\n",
              "\n",
              "[5060 rows x 4 columns]"
            ]
          },
          "execution_count": 109,
          "metadata": {},
          "output_type": "execute_result"
        }
      ]
    },
    {
      "cell_type": "code",
      "metadata": {
        "id": "sbUbc_0522Dw"
      },
      "source": [
        "df_train_AE['label']=df_train_AE['label'].replace([-1], 0)\n",
        "df_test_AE['label']=df_test_AE['label'].replace([-1], 0)\n",
        "df_val_AE['label']=df_val_AE['label'].replace([-1], 0)"
      ],
      "execution_count": null,
      "outputs": []
    },
    {
      "cell_type": "code",
      "metadata": {
        "colab": {
          "base_uri": "https://localhost:8080/"
        },
        "id": "UME_NMzR3INn",
        "outputId": "1ccfc029-194f-4663-ce0d-26317cff058f"
      },
      "source": [
        "df_train_AE['label'].unique()"
      ],
      "execution_count": null,
      "outputs": [
        {
          "data": {
            "text/plain": [
              "array([ 9,  1,  2,  8,  3, 12,  7,  5, 10,  4,  6,  0, 13, 11, 14])"
            ]
          },
          "execution_count": 131,
          "metadata": {},
          "output_type": "execute_result"
        }
      ]
    },
    {
      "cell_type": "code",
      "metadata": {
        "id": "t-zGGXuu-iWx"
      },
      "source": [
        "num_sequences = len(df_train_AE['emb'].to_list())\n",
        "batch_size = 5\n",
        "batches_per_epoch = 1012\n",
        "assert batch_size * batches_per_epoch == num_sequences\n",
        "num_features= 512\n",
        "def train_generator_encoder(df):\n",
        "    x_list= df['emb'].to_list()\n",
        "    y_list =  df.label.to_list()\n",
        "    # Generate batches\n",
        "    while True:\n",
        "        for b in range(batches_per_epoch):\n",
        "            longest_index = (b + 1) * batch_size - 1\n",
        "            timesteps = len(max(df['emb'].to_list()[:(b + 1) * batch_size][-batch_size:], key=len))\n",
        "            x_train = np.full((batch_size, timesteps, num_features), -99.)\n",
        "            y_train = np.zeros((batch_size,  1))\n",
        "            for i in range(batch_size):\n",
        "                li = b * batch_size + i\n",
        "                x_train[i, 0:len(x_list[li]), :] = x_list[li]\n",
        "                y_train[i] = y_list[li]\n",
        "            yield x_train, y_train"
      ],
      "execution_count": null,
      "outputs": []
    },
    {
      "cell_type": "code",
      "metadata": {
        "id": "aDRMcsWs-tct"
      },
      "source": [
        "num_sequences_val = len(df_val_AE['emb'].to_list())\n",
        "batch_size_val = 3\n",
        "batches_per_epoch_val = 253\n",
        "assert batch_size_val * batches_per_epoch_val == num_sequences_val\n",
        "num_features= 512\n",
        "def val_generator_encoder(df):\n",
        "    x_list= df['emb'].to_list()\n",
        "    y_list =  df.label.to_list()\n",
        "    # Generate batches\n",
        "    while True:\n",
        "        for b in range(batches_per_epoch_val):\n",
        "            longest_index = (b + 1) * batch_size_val - 1\n",
        "            timesteps = len(max(df['emb'].to_list()[:(b + 1) * batch_size_val][-31:], key=len))\n",
        "            x_train = np.full((batch_size_val, timesteps, num_features), -99.)\n",
        "            y_train = np.zeros((batch_size_val,  1))\n",
        "            for i in range(batch_size_val):\n",
        "                li = b * batch_size_val + i\n",
        "                x_train[i, 0:len(x_list[li]), :] = x_list[li]\n",
        "                y_train[i] = y_list[li]\n",
        "            yield x_train, y_train"
      ],
      "execution_count": null,
      "outputs": []
    },
    {
      "cell_type": "code",
      "metadata": {
        "colab": {
          "base_uri": "https://localhost:8080/"
        },
        "id": "nJE2gRzmwo9d",
        "outputId": "96defc42-6daa-4eae-828d-b7f5b5dbd99d"
      },
      "source": [
        "text_input = Input(shape=(None,512,), dtype='float32', name='text')\n",
        "\n",
        "l_mask = layers.Masking(mask_value=-99.)(text_input)\n",
        "# Which we encoded in a single vector via a LSTM\n",
        "encoded_text = layers.LSTM(100,)(l_mask)\n",
        "out_dense = layers.Dense(30, activation='relu')(encoded_text)\n",
        "# And we add a softmax classifier on top\n",
        "out = layers.Dense(len(df_train_AE['label'].unique()), activation='softmax')(out_dense)\n",
        "# At model instantiation, we specify the input and the output:\n",
        "modelAuto = Model(text_input, out)\n",
        "modelAuto.compile(optimizer=tf.keras.optimizers.Adam(clipvalue=0.5),\n",
        "              loss='sparse_categorical_crossentropy',\n",
        "              metrics=['acc'])\n",
        "modelAuto.summary()"
      ],
      "execution_count": null,
      "outputs": [
        {
          "name": "stdout",
          "output_type": "stream",
          "text": [
            "Model: \"model_5\"\n",
            "_________________________________________________________________\n",
            "Layer (type)                 Output Shape              Param #   \n",
            "=================================================================\n",
            "text (InputLayer)            [(None, None, 512)]       0         \n",
            "_________________________________________________________________\n",
            "masking_4 (Masking)          (None, None, 512)         0         \n",
            "_________________________________________________________________\n",
            "lstm_4 (LSTM)                (None, 100)               245200    \n",
            "_________________________________________________________________\n",
            "dense_11 (Dense)             (None, 30)                3030      \n",
            "_________________________________________________________________\n",
            "dense_12 (Dense)             (None, 15)                465       \n",
            "=================================================================\n",
            "Total params: 248,695\n",
            "Trainable params: 248,695\n",
            "Non-trainable params: 0\n",
            "_________________________________________________________________\n"
          ]
        }
      ]
    },
    {
      "cell_type": "code",
      "metadata": {
        "id": "7IuXhLee9BjW"
      },
      "source": [
        "ES=tf.keras.callbacks.EarlyStopping(patience=7, restore_best_weights=True)"
      ],
      "execution_count": null,
      "outputs": []
    },
    {
      "cell_type": "code",
      "metadata": {
        "colab": {
          "base_uri": "https://localhost:8080/"
        },
        "id": "KzfRWUmr-tiM",
        "outputId": "783feffa-119d-479b-ae8f-7a5517536288"
      },
      "source": [
        "modelAuto.fit_generator(train_generator_encoder(df_train_AE), steps_per_epoch=batches_per_epoch, epochs=50,validation_data=val_generator_encoder(df_val_AE), validation_steps=batches_per_epoch_val,callbacks=[ES])"
      ],
      "execution_count": null,
      "outputs": [
        {
          "name": "stderr",
          "output_type": "stream",
          "text": [
            "/usr/local/lib/python3.7/dist-packages/keras/engine/training_v1.py:1228: UserWarning: `model.fit_generator` is deprecated and will be removed in a future version. Please use `Model.fit`, which supports generators.\n",
            "  warnings.warn('`model.fit_generator` is deprecated and '\n"
          ]
        },
        {
          "name": "stdout",
          "output_type": "stream",
          "text": [
            "Epoch 1/50\n",
            "1012/1012 [==============================] - 453s 448ms/step - batch: 505.5000 - size: 5.0000 - loss: 0.9318 - acc: 0.7154 - val_loss: 1.0808 - val_acc: 0.6653\n",
            "Epoch 2/50\n",
            "1012/1012 [==============================] - 451s 445ms/step - batch: 505.5000 - size: 5.0000 - loss: 0.9249 - acc: 0.7123 - val_loss: 1.1096 - val_acc: 0.6416\n",
            "Epoch 3/50\n",
            "1012/1012 [==============================] - 448s 442ms/step - batch: 505.5000 - size: 5.0000 - loss: 0.9256 - acc: 0.7134 - val_loss: 1.0358 - val_acc: 0.6825\n",
            "Epoch 4/50\n",
            "1012/1012 [==============================] - 449s 444ms/step - batch: 505.5000 - size: 5.0000 - loss: 0.9026 - acc: 0.7196 - val_loss: 1.0462 - val_acc: 0.6864\n",
            "Epoch 5/50\n",
            "1012/1012 [==============================] - 451s 446ms/step - batch: 505.5000 - size: 5.0000 - loss: 0.8881 - acc: 0.7289 - val_loss: 1.0364 - val_acc: 0.6838\n",
            "Epoch 6/50\n",
            "1012/1012 [==============================] - 452s 447ms/step - batch: 505.5000 - size: 5.0000 - loss: 0.8556 - acc: 0.7379 - val_loss: 1.0175 - val_acc: 0.6957\n",
            "Epoch 7/50\n",
            "1012/1012 [==============================] - 451s 445ms/step - batch: 505.5000 - size: 5.0000 - loss: 0.8493 - acc: 0.7346 - val_loss: 1.0028 - val_acc: 0.6825\n",
            "Epoch 8/50\n",
            "1012/1012 [==============================] - 449s 444ms/step - batch: 505.5000 - size: 5.0000 - loss: 0.8422 - acc: 0.7397 - val_loss: 0.9825 - val_acc: 0.6996\n",
            "Epoch 9/50\n",
            "1012/1012 [==============================] - 448s 443ms/step - batch: 505.5000 - size: 5.0000 - loss: 0.8442 - acc: 0.7332 - val_loss: 0.9871 - val_acc: 0.7115\n",
            "Epoch 10/50\n",
            "1012/1012 [==============================] - 453s 447ms/step - batch: 505.5000 - size: 5.0000 - loss: 0.8321 - acc: 0.7451 - val_loss: 1.0037 - val_acc: 0.6983\n",
            "Epoch 11/50\n",
            "1012/1012 [==============================] - 451s 446ms/step - batch: 505.5000 - size: 5.0000 - loss: 0.8401 - acc: 0.7415 - val_loss: 0.9783 - val_acc: 0.7022\n",
            "Epoch 12/50\n",
            "1012/1012 [==============================] - 451s 446ms/step - batch: 505.5000 - size: 5.0000 - loss: 0.8349 - acc: 0.7413 - val_loss: 0.9833 - val_acc: 0.7009\n",
            "Epoch 13/50\n",
            "1012/1012 [==============================] - 449s 443ms/step - batch: 505.5000 - size: 5.0000 - loss: 0.8317 - acc: 0.7387 - val_loss: 0.9654 - val_acc: 0.6983\n",
            "Epoch 14/50\n",
            "1012/1012 [==============================] - 451s 445ms/step - batch: 505.5000 - size: 5.0000 - loss: 0.8287 - acc: 0.7421 - val_loss: 0.9652 - val_acc: 0.7062\n",
            "Epoch 15/50\n",
            "1012/1012 [==============================] - 453s 447ms/step - batch: 505.5000 - size: 5.0000 - loss: 0.8279 - acc: 0.7455 - val_loss: 1.0040 - val_acc: 0.6904\n",
            "Epoch 16/50\n",
            "1012/1012 [==============================] - 454s 449ms/step - batch: 505.5000 - size: 5.0000 - loss: 0.8294 - acc: 0.7492 - val_loss: 0.9462 - val_acc: 0.7167\n",
            "Epoch 17/50\n",
            "1012/1012 [==============================] - 449s 443ms/step - batch: 505.5000 - size: 5.0000 - loss: 0.8192 - acc: 0.7502 - val_loss: 0.9608 - val_acc: 0.6983\n",
            "Epoch 18/50\n",
            "1012/1012 [==============================] - 451s 446ms/step - batch: 505.5000 - size: 5.0000 - loss: 0.8019 - acc: 0.7496 - val_loss: 0.9468 - val_acc: 0.7075\n",
            "Epoch 19/50\n",
            "1012/1012 [==============================] - 452s 447ms/step - batch: 505.5000 - size: 5.0000 - loss: 0.7952 - acc: 0.7543 - val_loss: 0.9238 - val_acc: 0.7207\n",
            "Epoch 20/50\n",
            "1012/1012 [==============================] - 450s 445ms/step - batch: 505.5000 - size: 5.0000 - loss: 0.8113 - acc: 0.7419 - val_loss: 0.9295 - val_acc: 0.7220\n",
            "Epoch 21/50\n",
            "1012/1012 [==============================] - 449s 444ms/step - batch: 505.5000 - size: 5.0000 - loss: 0.7841 - acc: 0.7593 - val_loss: 0.9395 - val_acc: 0.7167\n",
            "Epoch 22/50\n",
            "1012/1012 [==============================] - 449s 444ms/step - batch: 505.5000 - size: 5.0000 - loss: 0.7963 - acc: 0.7587 - val_loss: 0.9522 - val_acc: 0.7115\n",
            "Epoch 23/50\n",
            "1012/1012 [==============================] - 449s 444ms/step - batch: 505.5000 - size: 5.0000 - loss: 0.7833 - acc: 0.7640 - val_loss: 0.9714 - val_acc: 0.7141\n",
            "Epoch 24/50\n",
            "1012/1012 [==============================] - 451s 445ms/step - batch: 505.5000 - size: 5.0000 - loss: 0.7831 - acc: 0.7571 - val_loss: 0.9490 - val_acc: 0.7220\n",
            "Epoch 25/50\n",
            "1012/1012 [==============================] - 451s 445ms/step - batch: 505.5000 - size: 5.0000 - loss: 0.7821 - acc: 0.7536 - val_loss: 0.9462 - val_acc: 0.7194\n",
            "Epoch 26/50\n",
            "1012/1012 [==============================] - 453s 448ms/step - batch: 505.5000 - size: 5.0000 - loss: 0.7764 - acc: 0.7526 - val_loss: 0.9354 - val_acc: 0.7115\n"
          ]
        },
        {
          "data": {
            "text/plain": [
              "<keras.callbacks.History at 0x7f3a95034190>"
            ]
          },
          "execution_count": 137,
          "metadata": {},
          "output_type": "execute_result"
        }
      ]
    },
    {
      "cell_type": "code",
      "metadata": {
        "colab": {
          "base_uri": "https://localhost:8080/"
        },
        "id": "fVRTSvF02BGM",
        "outputId": "6cf70287-34d8-424f-e489-e6558def1978"
      },
      "source": [
        "df_train['label'].unique()"
      ],
      "execution_count": null,
      "outputs": [
        {
          "data": {
            "text/plain": [
              "array([ 9,  1,  2,  8,  3, 12,  7,  5, 10,  4,  6,  0, 13, 11, 14])"
            ]
          },
          "execution_count": 125,
          "metadata": {},
          "output_type": "execute_result"
        }
      ]
    },
    {
      "cell_type": "code",
      "metadata": {
        "colab": {
          "base_uri": "https://localhost:8080/"
        },
        "id": "goqQnrLn-iZ1",
        "outputId": "dafe0551-606a-434c-f29c-f5221f6ab403"
      },
      "source": [
        "num_sequences_val = len(df_test_AE['emb'].to_list())\n",
        "batch_size_val = 3\n",
        "batches_per_epoch_val = 169\n",
        "assert batch_size_val * batches_per_epoch_val == num_sequences_val\n",
        "num_features= 512\n",
        "modelAuto.evaluate_generator(val_generator_encoder(df_test_AE), steps= batches_per_epoch_val)"
      ],
      "execution_count": null,
      "outputs": [
        {
          "name": "stderr",
          "output_type": "stream",
          "text": [
            "/usr/local/lib/python3.7/dist-packages/keras/engine/training_v1.py:1261: UserWarning: `Model.evaluate_generator` is deprecated and will be removed in a future version. Please use `Model.evaluate`, which supports generators.\n",
            "  warnings.warn('`Model.evaluate_generator` is deprecated and '\n"
          ]
        },
        {
          "data": {
            "text/plain": [
              "[1.003203493449286, 0.68244576]"
            ]
          },
          "execution_count": 138,
          "metadata": {},
          "output_type": "execute_result"
        }
      ]
    },
    {
      "cell_type": "code",
      "metadata": {
        "colab": {
          "base_uri": "https://localhost:8080/"
        },
        "id": "5Q_9kQbw-ict",
        "outputId": "a2722964-134c-4929-a04d-ec0d5b9af581"
      },
      "source": [
        "y_proba=modelAuto.predict(val_generator_encoder(df_test_AE), steps= batches_per_epoch_val)"
      ],
      "execution_count": null,
      "outputs": [
        {
          "name": "stderr",
          "output_type": "stream",
          "text": [
            "/usr/local/lib/python3.7/dist-packages/keras/engine/training.py:2470: UserWarning: `Model.state_updates` will be removed in a future version. This property should not be used in TensorFlow 2.0, as `updates` are applied automatically.\n",
            "  warnings.warn('`Model.state_updates` will be removed in a future version. '\n"
          ]
        }
      ]
    },
    {
      "cell_type": "code",
      "metadata": {
        "id": "l8baXU67DKyp"
      },
      "source": [
        "y_pred=[]\n",
        "for i in y_proba:\n",
        "    max_index_row = np.argmax(i, axis=0)\n",
        "    y_pred.append(max_index_row)"
      ],
      "execution_count": null,
      "outputs": []
    },
    {
      "cell_type": "code",
      "metadata": {
        "colab": {
          "base_uri": "https://localhost:8080/"
        },
        "id": "BiyZ-q8FDK1p",
        "outputId": "2732bc5c-28b3-42e7-d1b7-1db08ba240e7"
      },
      "source": [
        "from sklearn.metrics import classification_report, confusion_matrix\n",
        "print('Confusion Matrix')\n",
        "print(confusion_matrix(y_pred, df_test_AE['label']))\n",
        "print('Classification Report')\n",
        "print(classification_report(y_pred, df_test_AE['label']))"
      ],
      "execution_count": null,
      "outputs": [
        {
          "name": "stdout",
          "output_type": "stream",
          "text": [
            "Confusion Matrix\n",
            "[[  0   0   0   0   0   0   0   0   0   0   0   0   0]\n",
            " [  0 102   4   2   4   0   0   0   0   8   0   0   0]\n",
            " [  0   4  45   3   3   2   0   0   2  20   1   0   0]\n",
            " [  0   1   0  24   1   0   0   0   2   2   0   0   0]\n",
            " [  0   2   0   0   8   0   0   0   1   1   2   1   0]\n",
            " [  0   0   0   0   0   0   0   0   0   0   0   0   0]\n",
            " [  0   0   0   0   0   0   2   0   2   0   0   0   0]\n",
            " [  0   1   0   0   0   0   0  13   0   0   1   0   1]\n",
            " [  0   1   3   0   3   0   0   3  94  18   6   1   2]\n",
            " [  1   5  15   4   2   1   0   1   8  35   5   0   0]\n",
            " [  0   0   0   0   0   0   0   1   5   0  10   0   0]\n",
            " [  0   0   0   0   0   1   0   0   0   0   1   2   0]\n",
            " [  0   0   1   0   0   0   0   0   1   1   0   0  11]]\n",
            "Classification Report\n",
            "              precision    recall  f1-score   support\n",
            "\n",
            "           0       0.00      0.00      0.00         0\n",
            "           1       0.88      0.85      0.86       120\n",
            "           2       0.66      0.56      0.61        80\n",
            "           3       0.73      0.80      0.76        30\n",
            "           4       0.38      0.53      0.44        15\n",
            "           5       0.00      0.00      0.00         0\n",
            "           6       1.00      0.50      0.67         4\n",
            "           7       0.72      0.81      0.76        16\n",
            "           8       0.82      0.72      0.76       131\n",
            "           9       0.41      0.45      0.43        77\n",
            "          10       0.38      0.62      0.48        16\n",
            "          11       0.50      0.50      0.50         4\n",
            "          12       0.79      0.79      0.79        14\n",
            "\n",
            "    accuracy                           0.68       507\n",
            "   macro avg       0.56      0.55      0.54       507\n",
            "weighted avg       0.71      0.68      0.69       507\n",
            "\n"
          ]
        },
        {
          "name": "stderr",
          "output_type": "stream",
          "text": [
            "/usr/local/lib/python3.7/dist-packages/sklearn/metrics/_classification.py:1272: UndefinedMetricWarning: Recall and F-score are ill-defined and being set to 0.0 in labels with no true samples. Use `zero_division` parameter to control this behavior.\n",
            "  _warn_prf(average, modifier, msg_start, len(result))\n"
          ]
        }
      ]
    },
    {
      "cell_type": "code",
      "metadata": {
        "colab": {
          "base_uri": "https://localhost:8080/"
        },
        "id": "KZqPLgLaDK4N",
        "outputId": "cc5e5fdf-a8c8-4c64-f328-c3cae1a8b4c1"
      },
      "source": [
        "mat = confusion_matrix(y_pred, df_test_AE['label'])\n",
        "\n",
        "diag = np.diagonal(mat)\n",
        "print('No of correctly identified labels :',sum(diag))\n",
        "print('No of misclassified samples : ',sum(sum(mat))-sum(diag))"
      ],
      "execution_count": null,
      "outputs": [
        {
          "name": "stdout",
          "output_type": "stream",
          "text": [
            "No of correctly identified labels : 346\n",
            "No of misclassified samples :  161\n"
          ]
        }
      ]
    },
    {
      "cell_type": "code",
      "metadata": {
        "id": "td_TACgLwpCp"
      },
      "source": [
        ""
      ],
      "execution_count": null,
      "outputs": []
    },
    {
      "cell_type": "markdown",
      "metadata": {
        "id": "ubsIw1ydt-PP"
      },
      "source": [
        "# Autoencoders"
      ]
    },
    {
      "cell_type": "code",
      "metadata": {
        "id": "Jxwxfq3gsrFx"
      },
      "source": [
        "from keras import layers\n",
        "from keras.layers import Embedding, Dense, Input, concatenate, Layer, Lambda, Dropout, Activation\n",
        "from keras.models import Sequential, Model"
      ],
      "execution_count": null,
      "outputs": []
    },
    {
      "cell_type": "code",
      "metadata": {
        "colab": {
          "base_uri": "https://localhost:8080/"
        },
        "id": "IKP87ZAiuAps",
        "outputId": "4ea40d87-50ce-42c8-d4ab-797860a45855"
      },
      "source": [
        "encoding_dim = 500\n",
        "\n",
        "# Define input layer\n",
        "input_data = Input(shape=(768,))\n",
        "# Define encoding layer\n",
        "encoded = Dense(encoding_dim, activation='relu')(input_data)\n",
        "# Define decoding layer\n",
        "decoded = Dense(768, activation='sigmoid')(encoded)\n",
        "# Create the autoencoder model\n",
        "autoencoder = Model(input_data, decoded)\n",
        "#Compile the autoencoder model\n",
        "autoencoder.compile(metrics = ['mse'],\n",
        "                    optimizer='adam',\n",
        "                    loss='binary_crossentropy')\n",
        "\n",
        "autoencoder.summary()\n",
        "\n",
        "#Fit to train set, validate with dev set and save to hist_auto for plotting purposes\n",
        "hist_auto = autoencoder.fit(X, X, epochs = 50, batch_size=256, shuffle=True, validation_data=(X_val, X_val))\n",
        "#(train_x, train_x, epochs=50)\n",
        "#, batch_size=256, shuffle=True, validation_data=(dev_x, dev_x))\n",
        "\n",
        "# Summarize history for loss\n",
        "plt.figure()\n",
        "plt.plot(hist_auto.history['loss'])\n",
        "plt.plot(hist_auto.history['val_loss'])\n",
        "plt.title('Autoencoder model loss')\n",
        "plt.ylabel('loss')\n",
        "plt.xlabel('epoch')\n",
        "plt.legend(['train', 'test'], loc='upper right')\n",
        "plt.show()"
      ],
      "execution_count": null,
      "outputs": [
        {
          "name": "stdout",
          "output_type": "stream",
          "text": [
            "Model: \"model_6\"\n",
            "_________________________________________________________________\n",
            "Layer (type)                 Output Shape              Param #   \n",
            "=================================================================\n",
            "input_1 (InputLayer)         [(None, 768)]             0         \n",
            "_________________________________________________________________\n",
            "dense_13 (Dense)             (None, 500)               384500    \n",
            "_________________________________________________________________\n",
            "dense_14 (Dense)             (None, 768)               384768    \n",
            "=================================================================\n",
            "Total params: 769,268\n",
            "Trainable params: 769,268\n",
            "Non-trainable params: 0\n",
            "_________________________________________________________________\n",
            "Train on 5060 samples, validate on 759 samples\n",
            "Epoch 1/50\n",
            "5060/5060 [==============================] - 0s 56us/sample - loss: -1.3930 - mean_squared_error: 0.3366 - val_loss: -5.8489 - val_mean_squared_error: 0.2517\n",
            "Epoch 2/50\n",
            " 256/5060 [>.............................] - ETA: 0s - loss: -6.0773 - mean_squared_error: 0.2558"
          ]
        },
        {
          "name": "stderr",
          "output_type": "stream",
          "text": [
            "/usr/local/lib/python3.7/dist-packages/keras/engine/training.py:2470: UserWarning: `Model.state_updates` will be removed in a future version. This property should not be used in TensorFlow 2.0, as `updates` are applied automatically.\n",
            "  warnings.warn('`Model.state_updates` will be removed in a future version. '\n"
          ]
        },
        {
          "name": "stdout",
          "output_type": "stream",
          "text": [
            "5060/5060 [==============================] - 0s 13us/sample - loss: -16.2659 - mean_squared_error: 0.2594 - val_loss: -32.5235 - val_mean_squared_error: 0.2592\n",
            "Epoch 3/50\n",
            "5060/5060 [==============================] - 0s 12us/sample - loss: -57.8153 - mean_squared_error: 0.2658 - val_loss: -91.7409 - val_mean_squared_error: 0.2651\n",
            "Epoch 4/50\n",
            "5060/5060 [==============================] - 0s 13us/sample - loss: -135.8962 - mean_squared_error: 0.2713 - val_loss: -190.2362 - val_mean_squared_error: 0.2700\n",
            "Epoch 5/50\n",
            "5060/5060 [==============================] - 0s 13us/sample - loss: -255.2860 - mean_squared_error: 0.2752 - val_loss: -330.8467 - val_mean_squared_error: 0.2730\n",
            "Epoch 6/50\n",
            "5060/5060 [==============================] - 0s 13us/sample - loss: -417.6955 - mean_squared_error: 0.2785 - val_loss: -514.3993 - val_mean_squared_error: 0.2764\n",
            "Epoch 7/50\n",
            "5060/5060 [==============================] - 0s 13us/sample - loss: -624.2160 - mean_squared_error: 0.2814 - val_loss: -740.9342 - val_mean_squared_error: 0.2792\n",
            "Epoch 8/50\n",
            "5060/5060 [==============================] - 0s 12us/sample - loss: -874.0357 - mean_squared_error: 0.2834 - val_loss: -1010.7181 - val_mean_squared_error: 0.2800\n",
            "Epoch 9/50\n",
            "5060/5060 [==============================] - 0s 12us/sample - loss: -1167.1825 - mean_squared_error: 0.2854 - val_loss: -1323.8043 - val_mean_squared_error: 0.2814\n",
            "Epoch 10/50\n",
            "5060/5060 [==============================] - 0s 11us/sample - loss: -1503.4850 - mean_squared_error: 0.2868 - val_loss: -1679.2495 - val_mean_squared_error: 0.2833\n",
            "Epoch 11/50\n",
            "5060/5060 [==============================] - 0s 12us/sample - loss: -1882.8968 - mean_squared_error: 0.2881 - val_loss: -2076.0612 - val_mean_squared_error: 0.2847\n",
            "Epoch 12/50\n",
            "5060/5060 [==============================] - 0s 13us/sample - loss: -2303.6670 - mean_squared_error: 0.2894 - val_loss: -2514.7635 - val_mean_squared_error: 0.2861\n",
            "Epoch 13/50\n",
            "5060/5060 [==============================] - 0s 12us/sample - loss: -2767.4004 - mean_squared_error: 0.2909 - val_loss: -2993.8758 - val_mean_squared_error: 0.2874\n",
            "Epoch 14/50\n",
            "5060/5060 [==============================] - 0s 11us/sample - loss: -3271.6436 - mean_squared_error: 0.2920 - val_loss: -3514.8093 - val_mean_squared_error: 0.2868\n",
            "Epoch 15/50\n",
            "5060/5060 [==============================] - 0s 12us/sample - loss: -3817.6660 - mean_squared_error: 0.2928 - val_loss: -4075.2513 - val_mean_squared_error: 0.2877\n",
            "Epoch 16/50\n",
            "5060/5060 [==============================] - 0s 12us/sample - loss: -4405.5398 - mean_squared_error: 0.2939 - val_loss: -4674.3505 - val_mean_squared_error: 0.2893\n",
            "Epoch 17/50\n",
            "5060/5060 [==============================] - 0s 12us/sample - loss: -5029.8080 - mean_squared_error: 0.2940 - val_loss: -5317.1880 - val_mean_squared_error: 0.2900\n",
            "Epoch 18/50\n",
            "5060/5060 [==============================] - 0s 12us/sample - loss: -5698.0068 - mean_squared_error: 0.2944 - val_loss: -5996.8605 - val_mean_squared_error: 0.2902\n",
            "Epoch 19/50\n",
            "5060/5060 [==============================] - 0s 12us/sample - loss: -6404.1260 - mean_squared_error: 0.2954 - val_loss: -6715.2007 - val_mean_squared_error: 0.2939\n",
            "Epoch 20/50\n",
            "5060/5060 [==============================] - 0s 12us/sample - loss: -7150.0839 - mean_squared_error: 0.2964 - val_loss: -7470.9166 - val_mean_squared_error: 0.2907\n",
            "Epoch 21/50\n",
            "5060/5060 [==============================] - 0s 13us/sample - loss: -7931.1643 - mean_squared_error: 0.2969 - val_loss: -8269.5514 - val_mean_squared_error: 0.2913\n",
            "Epoch 22/50\n",
            "5060/5060 [==============================] - 0s 12us/sample - loss: -8756.2880 - mean_squared_error: 0.2972 - val_loss: -9099.8590 - val_mean_squared_error: 0.2950\n",
            "Epoch 23/50\n",
            "5060/5060 [==============================] - 0s 12us/sample - loss: -9616.2870 - mean_squared_error: 0.2980 - val_loss: -9968.7521 - val_mean_squared_error: 0.2939\n",
            "Epoch 24/50\n",
            "5060/5060 [==============================] - 0s 12us/sample - loss: -10513.2590 - mean_squared_error: 0.2982 - val_loss: -10876.0761 - val_mean_squared_error: 0.2933\n",
            "Epoch 25/50\n",
            "5060/5060 [==============================] - 0s 12us/sample - loss: -11449.4264 - mean_squared_error: 0.2989 - val_loss: -11821.4211 - val_mean_squared_error: 0.2935\n",
            "Epoch 26/50\n",
            "5060/5060 [==============================] - 0s 12us/sample - loss: -12424.1374 - mean_squared_error: 0.2980 - val_loss: -12802.3037 - val_mean_squared_error: 0.2941\n",
            "Epoch 27/50\n",
            "5060/5060 [==============================] - 0s 14us/sample - loss: -13431.9976 - mean_squared_error: 0.2984 - val_loss: -13821.0707 - val_mean_squared_error: 0.2959\n",
            "Epoch 28/50\n",
            "5060/5060 [==============================] - 0s 12us/sample - loss: -14480.5365 - mean_squared_error: 0.2991 - val_loss: -14872.8144 - val_mean_squared_error: 0.2957\n",
            "Epoch 29/50\n",
            "5060/5060 [==============================] - 0s 12us/sample - loss: -15563.2886 - mean_squared_error: 0.2989 - val_loss: -15961.1731 - val_mean_squared_error: 0.2937\n",
            "Epoch 30/50\n",
            "5060/5060 [==============================] - 0s 12us/sample - loss: -16685.0923 - mean_squared_error: 0.2997 - val_loss: -17083.1591 - val_mean_squared_error: 0.2950\n",
            "Epoch 31/50\n",
            "5060/5060 [==============================] - 0s 12us/sample - loss: -17839.4795 - mean_squared_error: 0.2999 - val_loss: -18242.6094 - val_mean_squared_error: 0.2969\n",
            "Epoch 32/50\n",
            "5060/5060 [==============================] - 0s 12us/sample - loss: -19026.9232 - mean_squared_error: 0.3000 - val_loss: -19441.0694 - val_mean_squared_error: 0.2966\n",
            "Epoch 33/50\n",
            "5060/5060 [==============================] - 0s 13us/sample - loss: -20256.1190 - mean_squared_error: 0.2994 - val_loss: -20670.5633 - val_mean_squared_error: 0.2947\n",
            "Epoch 34/50\n",
            "5060/5060 [==============================] - 0s 12us/sample - loss: -21517.9084 - mean_squared_error: 0.3000 - val_loss: -21933.5645 - val_mean_squared_error: 0.2942\n",
            "Epoch 35/50\n",
            "5060/5060 [==============================] - 0s 13us/sample - loss: -22813.7618 - mean_squared_error: 0.3000 - val_loss: -23232.4968 - val_mean_squared_error: 0.2952\n",
            "Epoch 36/50\n",
            "5060/5060 [==============================] - 0s 13us/sample - loss: -24143.2548 - mean_squared_error: 0.2995 - val_loss: -24565.8200 - val_mean_squared_error: 0.2959\n",
            "Epoch 37/50\n",
            "5060/5060 [==============================] - 0s 12us/sample - loss: -25510.4098 - mean_squared_error: 0.3002 - val_loss: -25928.0900 - val_mean_squared_error: 0.2962\n",
            "Epoch 38/50\n",
            "5060/5060 [==============================] - 0s 12us/sample - loss: -26907.6378 - mean_squared_error: 0.3011 - val_loss: -27327.7939 - val_mean_squared_error: 0.2968\n",
            "Epoch 39/50\n",
            "5060/5060 [==============================] - 0s 12us/sample - loss: -28341.4406 - mean_squared_error: 0.3005 - val_loss: -28761.2025 - val_mean_squared_error: 0.2958\n",
            "Epoch 40/50\n",
            "5060/5060 [==============================] - 0s 13us/sample - loss: -29806.7372 - mean_squared_error: 0.3011 - val_loss: -30227.7502 - val_mean_squared_error: 0.2987\n",
            "Epoch 41/50\n",
            "5060/5060 [==============================] - 0s 13us/sample - loss: -31309.7024 - mean_squared_error: 0.3009 - val_loss: -31718.4541 - val_mean_squared_error: 0.2961\n",
            "Epoch 42/50\n",
            "5060/5060 [==============================] - 0s 12us/sample - loss: -32842.3144 - mean_squared_error: 0.3012 - val_loss: -33248.4115 - val_mean_squared_error: 0.2964\n",
            "Epoch 43/50\n",
            "5060/5060 [==============================] - 0s 13us/sample - loss: -34402.3928 - mean_squared_error: 0.3009 - val_loss: -34819.2129 - val_mean_squared_error: 0.2972\n",
            "Epoch 44/50\n",
            "5060/5060 [==============================] - 0s 13us/sample - loss: -36005.3759 - mean_squared_error: 0.3023 - val_loss: -36412.9661 - val_mean_squared_error: 0.2983\n",
            "Epoch 45/50\n",
            "5060/5060 [==============================] - 0s 13us/sample - loss: -37631.2092 - mean_squared_error: 0.3025 - val_loss: -38043.7250 - val_mean_squared_error: 0.2962\n",
            "Epoch 46/50\n",
            "5060/5060 [==============================] - 0s 13us/sample - loss: -39299.0630 - mean_squared_error: 0.3014 - val_loss: -39697.2204 - val_mean_squared_error: 0.2984\n",
            "Epoch 47/50\n",
            "5060/5060 [==============================] - 0s 13us/sample - loss: -40987.4948 - mean_squared_error: 0.3017 - val_loss: -41392.0954 - val_mean_squared_error: 0.2975\n",
            "Epoch 48/50\n",
            "5060/5060 [==============================] - 0s 13us/sample - loss: -42718.9364 - mean_squared_error: 0.3015 - val_loss: -43107.4791 - val_mean_squared_error: 0.2974\n",
            "Epoch 49/50\n",
            "5060/5060 [==============================] - 0s 13us/sample - loss: -44471.9130 - mean_squared_error: 0.3015 - val_loss: -44858.0583 - val_mean_squared_error: 0.2978\n",
            "Epoch 50/50\n",
            "5060/5060 [==============================] - 0s 13us/sample - loss: -46257.4861 - mean_squared_error: 0.3020 - val_loss: -46647.7902 - val_mean_squared_error: 0.2970\n"
          ]
        },
        {
          "data": {
            "image/png": "[encoded data removed]",
            "text/plain": [
              "<Figure size 432x288 with 1 Axes>"
            ]
          },
          "metadata": {},
          "output_type": "display_data"
        }
      ]
    },
    {
      "cell_type": "code",
      "metadata": {
        "id": "eWqiAIa3qpGk"
      },
      "source": [
        ""
      ],
      "execution_count": null,
      "outputs": []
    },
    {
      "cell_type": "code",
      "metadata": {
        "colab": {
          "base_uri": "https://localhost:8080/"
        },
        "id": "ljm4WpGKuAtJ",
        "outputId": "09853f45-133a-496e-de54-0c83d46662ef"
      },
      "source": [
        "encoder = Model(input_data, encoded)\n",
        "encoded_X_train = encoder.predict(X)\n",
        "\n",
        "encoder = Model(input_data, encoded)\n",
        "encoded_X_val = encoder.predict(X_val)\n",
        "\n",
        "encoder = Model(input_data, encoded)\n",
        "encoded_X_test = encoder.predict(X_test)"
      ],
      "execution_count": null,
      "outputs": [
        {
          "name": "stderr",
          "output_type": "stream",
          "text": [
            "/usr/local/lib/python3.7/dist-packages/keras/engine/training.py:2470: UserWarning: `Model.state_updates` will be removed in a future version. This property should not be used in TensorFlow 2.0, as `updates` are applied automatically.\n",
            "  warnings.warn('`Model.state_updates` will be removed in a future version. '\n"
          ]
        }
      ]
    },
    {
      "cell_type": "code",
      "metadata": {
        "colab": {
          "base_uri": "https://localhost:8080/"
        },
        "id": "v3U1UJaIuAws",
        "outputId": "bff21484-1863-4bfd-b071-876175bc64a7"
      },
      "source": [
        "encoded_X_train.shape, encoded_X_val.shape, encoded_X_test.shape"
      ],
      "execution_count": null,
      "outputs": [
        {
          "data": {
            "text/plain": [
              "((5060, 500), (759, 500), (507, 500))"
            ]
          },
          "execution_count": 146,
          "metadata": {},
          "output_type": "execute_result"
        }
      ]
    },
    {
      "cell_type": "code",
      "metadata": {
        "colab": {
          "base_uri": "https://localhost:8080/"
        },
        "id": "UjYnk1vuunuB",
        "outputId": "2a134cfe-d53e-4387-ae2f-43e0960f6208"
      },
      "source": [
        "text_input = Input(shape=(None,500,), dtype='float32', name='text')\n",
        "\n",
        "l_mask = layers.Masking(mask_value=-99.)(text_input)\n",
        "# Which we encoded in a single vector via a LSTM\n",
        "encoded_text = layers.LSTM(100,)(l_mask)\n",
        "out_dense = layers.Dense(30, activation='relu')(encoded_text)\n",
        "# And we add a softmax classifier on top\n",
        "out = layers.Dense(15, activation='softmax')(out_dense)\n",
        "# At model instantiation, we specify the input and the output:\n",
        "modelAuto = Model(text_input, out)\n",
        "modelAuto.compile(optimizer='adam',\n",
        "              loss='sparse_categorical_crossentropy',\n",
        "              metrics=['acc'])\n",
        "modelAuto.summary()"
      ],
      "execution_count": null,
      "outputs": [
        {
          "name": "stdout",
          "output_type": "stream",
          "text": [
            "Model: \"model_10\"\n",
            "_________________________________________________________________\n",
            "Layer (type)                 Output Shape              Param #   \n",
            "=================================================================\n",
            "text (InputLayer)            [(None, None, 500)]       0         \n",
            "_________________________________________________________________\n",
            "masking_5 (Masking)          (None, None, 500)         0         \n",
            "_________________________________________________________________\n",
            "lstm_5 (LSTM)                (None, 100)               240400    \n",
            "_________________________________________________________________\n",
            "dense_15 (Dense)             (None, 30)                3030      \n",
            "_________________________________________________________________\n",
            "dense_16 (Dense)             (None, 15)                465       \n",
            "=================================================================\n",
            "Total params: 243,895\n",
            "Trainable params: 243,895\n",
            "Non-trainable params: 0\n",
            "_________________________________________________________________\n"
          ]
        }
      ]
    },
    {
      "cell_type": "code",
      "metadata": {
        "id": "ZpAobcs2unxQ"
      },
      "source": [
        "train_new = []\n",
        "for i in range(len(encoded_X_train)):\n",
        "  train_new.append(encoded_X_train[i])\n",
        "\n",
        "val_new = []\n",
        "for i in range(len(encoded_X_val)):\n",
        "  val_new.append(encoded_X_val[i])\n",
        "\n",
        "test_new = []\n",
        "for i in range(len(encoded_X_test)):\n",
        "  test_new.append(encoded_X_test[i])"
      ],
      "execution_count": null,
      "outputs": []
    },
    {
      "cell_type": "code",
      "metadata": {
        "colab": {
          "base_uri": "https://localhost:8080/"
        },
        "id": "6ejdii7JvFA_",
        "outputId": "88f7dc8b-ac39-4bc4-a592-b73034e674c6"
      },
      "source": [
        "df_train_AE = pd.DataFrame({'emb': train_new, 'label': df_train['label'], })\n",
        "df_train_AE.head()"
      ],
      "execution_count": null,
      "outputs": [
        {
          "data": {
            "text/html": [
              "<div>\n",
              "<style scoped>\n",
              "    .dataframe tbody tr th:only-of-type {\n",
              "        vertical-align: middle;\n",
              "    }\n",
              "\n",
              "    .dataframe tbody tr th {\n",
              "        vertical-align: top;\n",
              "    }\n",
              "\n",
              "    .dataframe thead th {\n",
              "        text-align: right;\n",
              "    }\n",
              "</style>\n",
              "<table border=\"1\" class=\"dataframe\">\n",
              "  <thead>\n",
              "    <tr style=\"text-align: right;\">\n",
              "      <th></th>\n",
              "      <th>emb</th>\n",
              "      <th>label</th>\n",
              "    </tr>\n",
              "  </thead>\n",
              "  <tbody>\n",
              "    <tr>\n",
              "      <th>0</th>\n",
              "      <td>[392.56375, 547.6669, 504.9725, 423.85358, 555...</td>\n",
              "      <td>9</td>\n",
              "    </tr>\n",
              "    <tr>\n",
              "      <th>1</th>\n",
              "      <td>[519.32214, 366.5688, 407.1145, 493.3068, 325....</td>\n",
              "      <td>1</td>\n",
              "    </tr>\n",
              "    <tr>\n",
              "      <th>2</th>\n",
              "      <td>[302.46243, 399.47687, 377.7629, 325.2899, 392...</td>\n",
              "      <td>2</td>\n",
              "    </tr>\n",
              "    <tr>\n",
              "      <th>3</th>\n",
              "      <td>[151.88489, 230.6746, 225.86288, 171.41588, 25...</td>\n",
              "      <td>8</td>\n",
              "    </tr>\n",
              "    <tr>\n",
              "      <th>4</th>\n",
              "      <td>[516.7826, 427.3497, 447.02066, 503.27594, 384...</td>\n",
              "      <td>9</td>\n",
              "    </tr>\n",
              "  </tbody>\n",
              "</table>\n",
              "</div>"
            ],
            "text/plain": [
              "                                                 emb  label\n",
              "0  [392.56375, 547.6669, 504.9725, 423.85358, 555...      9\n",
              "1  [519.32214, 366.5688, 407.1145, 493.3068, 325....      1\n",
              "2  [302.46243, 399.47687, 377.7629, 325.2899, 392...      2\n",
              "3  [151.88489, 230.6746, 225.86288, 171.41588, 25...      8\n",
              "4  [516.7826, 427.3497, 447.02066, 503.27594, 384...      9"
            ]
          },
          "execution_count": 149,
          "metadata": {},
          "output_type": "execute_result"
        }
      ]
    },
    {
      "cell_type": "code",
      "metadata": {
        "colab": {
          "base_uri": "https://localhost:8080/"
        },
        "id": "T2cITay4vFJl",
        "outputId": "89745d2a-ea47-472e-d5ea-cc91cf9d241b"
      },
      "source": [
        "df_val_AE = pd.DataFrame({'emb': val_new, 'label': df_val['label'], })\n",
        "df_val_AE.head()"
      ],
      "execution_count": null,
      "outputs": [
        {
          "data": {
            "text/html": [
              "<div>\n",
              "<style scoped>\n",
              "    .dataframe tbody tr th:only-of-type {\n",
              "        vertical-align: middle;\n",
              "    }\n",
              "\n",
              "    .dataframe tbody tr th {\n",
              "        vertical-align: top;\n",
              "    }\n",
              "\n",
              "    .dataframe thead th {\n",
              "        text-align: right;\n",
              "    }\n",
              "</style>\n",
              "<table border=\"1\" class=\"dataframe\">\n",
              "  <thead>\n",
              "    <tr style=\"text-align: right;\">\n",
              "      <th></th>\n",
              "      <th>emb</th>\n",
              "      <th>label</th>\n",
              "    </tr>\n",
              "  </thead>\n",
              "  <tbody>\n",
              "    <tr>\n",
              "      <th>0</th>\n",
              "      <td>[107.75294, 69.13308, 85.57257, 102.41434, 81....</td>\n",
              "      <td>12</td>\n",
              "    </tr>\n",
              "    <tr>\n",
              "      <th>1</th>\n",
              "      <td>[501.68134, 408.11072, 443.12302, 489.4288, 38...</td>\n",
              "      <td>1</td>\n",
              "    </tr>\n",
              "    <tr>\n",
              "      <th>2</th>\n",
              "      <td>[551.929, 421.94965, 459.01422, 530.9804, 383....</td>\n",
              "      <td>1</td>\n",
              "    </tr>\n",
              "    <tr>\n",
              "      <th>3</th>\n",
              "      <td>[280.30225, 446.2919, 407.82178, 313.38422, 47...</td>\n",
              "      <td>8</td>\n",
              "    </tr>\n",
              "    <tr>\n",
              "      <th>4</th>\n",
              "      <td>[214.00519, 330.5726, 311.8937, 241.03583, 346...</td>\n",
              "      <td>2</td>\n",
              "    </tr>\n",
              "  </tbody>\n",
              "</table>\n",
              "</div>"
            ],
            "text/plain": [
              "                                                 emb  label\n",
              "0  [107.75294, 69.13308, 85.57257, 102.41434, 81....     12\n",
              "1  [501.68134, 408.11072, 443.12302, 489.4288, 38...      1\n",
              "2  [551.929, 421.94965, 459.01422, 530.9804, 383....      1\n",
              "3  [280.30225, 446.2919, 407.82178, 313.38422, 47...      8\n",
              "4  [214.00519, 330.5726, 311.8937, 241.03583, 346...      2"
            ]
          },
          "execution_count": 150,
          "metadata": {},
          "output_type": "execute_result"
        }
      ]
    },
    {
      "cell_type": "code",
      "metadata": {
        "colab": {
          "base_uri": "https://localhost:8080/"
        },
        "id": "47jG8O6CvFNE",
        "outputId": "83a754fe-4268-4415-b9ae-ecca804ec2e5"
      },
      "source": [
        "df_test_AE = pd.DataFrame({'emb': test_new, 'label': df_test['label'], })\n",
        "df_test_AE.head()"
      ],
      "execution_count": null,
      "outputs": [
        {
          "data": {
            "text/html": [
              "<div>\n",
              "<style scoped>\n",
              "    .dataframe tbody tr th:only-of-type {\n",
              "        vertical-align: middle;\n",
              "    }\n",
              "\n",
              "    .dataframe tbody tr th {\n",
              "        vertical-align: top;\n",
              "    }\n",
              "\n",
              "    .dataframe thead th {\n",
              "        text-align: right;\n",
              "    }\n",
              "</style>\n",
              "<table border=\"1\" class=\"dataframe\">\n",
              "  <thead>\n",
              "    <tr style=\"text-align: right;\">\n",
              "      <th></th>\n",
              "      <th>emb</th>\n",
              "      <th>label</th>\n",
              "    </tr>\n",
              "  </thead>\n",
              "  <tbody>\n",
              "    <tr>\n",
              "      <th>0</th>\n",
              "      <td>[484.2983, 480.5238, 491.33838, 489.17078, 469...</td>\n",
              "      <td>9</td>\n",
              "    </tr>\n",
              "    <tr>\n",
              "      <th>1</th>\n",
              "      <td>[443.86356, 391.04935, 423.57224, 439.96548, 3...</td>\n",
              "      <td>1</td>\n",
              "    </tr>\n",
              "    <tr>\n",
              "      <th>2</th>\n",
              "      <td>[362.10455, 439.25363, 419.40692, 381.60886, 4...</td>\n",
              "      <td>2</td>\n",
              "    </tr>\n",
              "    <tr>\n",
              "      <th>3</th>\n",
              "      <td>[504.5503, 458.1713, 469.18622, 499.40295, 428...</td>\n",
              "      <td>9</td>\n",
              "    </tr>\n",
              "    <tr>\n",
              "      <th>4</th>\n",
              "      <td>[251.56934, 350.69974, 345.0494, 274.1809, 396...</td>\n",
              "      <td>8</td>\n",
              "    </tr>\n",
              "  </tbody>\n",
              "</table>\n",
              "</div>"
            ],
            "text/plain": [
              "                                                 emb  label\n",
              "0  [484.2983, 480.5238, 491.33838, 489.17078, 469...      9\n",
              "1  [443.86356, 391.04935, 423.57224, 439.96548, 3...      1\n",
              "2  [362.10455, 439.25363, 419.40692, 381.60886, 4...      2\n",
              "3  [504.5503, 458.1713, 469.18622, 499.40295, 428...      9\n",
              "4  [251.56934, 350.69974, 345.0494, 274.1809, 396...      8"
            ]
          },
          "execution_count": 151,
          "metadata": {},
          "output_type": "execute_result"
        }
      ]
    },
    {
      "cell_type": "code",
      "metadata": {
        "colab": {
          "base_uri": "https://localhost:8080/"
        },
        "id": "o3x2hrVJvbTJ",
        "outputId": "ebaf43b5-3aee-4c53-f3c8-fd9ca87d7d88"
      },
      "source": [
        "df_train_AE.shape, df_val_AE.shape, df_test_AE.shape"
      ],
      "execution_count": null,
      "outputs": [
        {
          "data": {
            "text/plain": [
              "((5060, 2), (759, 2), (507, 2))"
            ]
          },
          "execution_count": 152,
          "metadata": {},
          "output_type": "execute_result"
        }
      ]
    },
    {
      "cell_type": "code",
      "metadata": {
        "id": "2QDrAXAhun06"
      },
      "source": [
        "num_sequences = len(df_train_AE['emb'].to_list())\n",
        "batch_size = 5\n",
        "batches_per_epoch = 1012\n",
        "assert batch_size * batches_per_epoch == num_sequences\n",
        "num_features= 500\n",
        "def train_generator_encoder(df):\n",
        "    x_list= df['emb'].to_list()\n",
        "    y_list =  df.label.to_list()\n",
        "    # Generate batches\n",
        "    while True:\n",
        "        for b in range(batches_per_epoch):\n",
        "            longest_index = (b + 1) * batch_size - 1\n",
        "            timesteps = len(max(df['emb'].to_list()[:(b + 1) * batch_size][-batch_size:], key=len))\n",
        "            x_train = np.full((batch_size, timesteps, num_features), -99.)\n",
        "            y_train = np.zeros((batch_size,  1))\n",
        "            for i in range(batch_size):\n",
        "                li = b * batch_size + i\n",
        "                x_train[i, 0:len(x_list[li]), :] = x_list[li]\n",
        "                y_train[i] = y_list[li]\n",
        "            yield x_train, y_train"
      ],
      "execution_count": null,
      "outputs": []
    },
    {
      "cell_type": "code",
      "metadata": {
        "id": "AM0pPzFqvVew"
      },
      "source": [
        "num_sequences_val = len(df_val_AE['emb'].to_list())\n",
        "batch_size_val = 3\n",
        "batches_per_epoch_val = 253\n",
        "assert batch_size_val * batches_per_epoch_val == num_sequences_val\n",
        "num_features= 500\n",
        "def val_generator_encoder(df):\n",
        "    x_list= df['emb'].to_list()\n",
        "    y_list =  df.label.to_list()\n",
        "    # Generate batches\n",
        "    while True:\n",
        "        for b in range(batches_per_epoch_val):\n",
        "            longest_index = (b + 1) * batch_size_val - 1\n",
        "            timesteps = len(max(df['emb'].to_list()[:(b + 1) * batch_size_val][-31:], key=len))\n",
        "            # print(len(df_train['emb'].to_list()[:b+batch_size][-7:]))\n",
        "            x_train = np.full((batch_size_val, timesteps, num_features), -99.)\n",
        "            y_train = np.zeros((batch_size_val,  1))\n",
        "            for i in range(batch_size_val):\n",
        "                li = b * batch_size_val + i\n",
        "                # print(\"li\", li)\n",
        "                # print(x_train[i, 0:len(x_list[li]), :].shape, len(x_list[li]))\n",
        "                x_train[i, 0:len(x_list[li]), :] = x_list[li]\n",
        "                y_train[i] = y_list[li]\n",
        "            yield x_train, y_train"
      ],
      "execution_count": null,
      "outputs": []
    },
    {
      "cell_type": "code",
      "metadata": {
        "id": "t0hFXDbovViu"
      },
      "source": [
        "from keras.callbacks import ReduceLROnPlateau\n",
        "call_reduce = ReduceLROnPlateau(monitor='val_acc', factor=0.95, patience=3, verbose=2,\n",
        "                                mode='auto', min_delta=0.01, cooldown=0, min_lr=0)"
      ],
      "execution_count": null,
      "outputs": []
    },
    {
      "cell_type": "code",
      "metadata": {
        "colab": {
          "base_uri": "https://localhost:8080/"
        },
        "id": "RrkOHEF6tzjL",
        "outputId": "4de10015-0c92-47f1-ea71-e071276782dd"
      },
      "source": [
        "modelAuto.fit_generator(train_generator_encoder(df_train_AE), steps_per_epoch=batches_per_epoch, epochs=50,\n",
        "                    validation_data=val_generator_encoder(df_val_AE), validation_steps=batches_per_epoch_val, callbacks =[call_reduce] )"
      ],
      "execution_count": null,
      "outputs": [
        {
          "name": "stderr",
          "output_type": "stream",
          "text": [
            "/usr/local/lib/python3.7/dist-packages/keras/engine/training_v1.py:1228: UserWarning: `model.fit_generator` is deprecated and will be removed in a future version. Please use `Model.fit`, which supports generators.\n",
            "  warnings.warn('`model.fit_generator` is deprecated and '\n"
          ]
        },
        {
          "name": "stdout",
          "output_type": "stream",
          "text": [
            "Epoch 1/50\n",
            "1012/1012 [==============================] - ETA: 0s - batch: 505.5000 - size: 5.0000 - loss: 1.8156 - acc: 0.3848"
          ]
        },
        {
          "name": "stderr",
          "output_type": "stream",
          "text": [
            "/usr/local/lib/python3.7/dist-packages/keras/engine/training.py:2470: UserWarning: `Model.state_updates` will be removed in a future version. This property should not be used in TensorFlow 2.0, as `updates` are applied automatically.\n",
            "  warnings.warn('`Model.state_updates` will be removed in a future version. '\n"
          ]
        },
        {
          "name": "stdout",
          "output_type": "stream",
          "text": [
            "1012/1012 [==============================] - 432s 426ms/step - batch: 505.5000 - size: 5.0000 - loss: 1.8156 - acc: 0.3848 - val_loss: 2.0246 - val_acc: 0.3281 - lr: 0.0010\n",
            "Epoch 2/50\n",
            "1012/1012 [==============================] - 433s 428ms/step - batch: 505.5000 - size: 5.0000 - loss: 1.7209 - acc: 0.4233 - val_loss: 1.8378 - val_acc: 0.3215 - lr: 0.0010\n",
            "Epoch 3/50\n",
            "1012/1012 [==============================] - 432s 427ms/step - batch: 505.5000 - size: 5.0000 - loss: 1.6744 - acc: 0.4324 - val_loss: 1.6689 - val_acc: 0.4414 - lr: 0.0010\n",
            "Epoch 4/50\n",
            "1012/1012 [==============================] - 432s 427ms/step - batch: 505.5000 - size: 5.0000 - loss: 1.5887 - acc: 0.4520 - val_loss: 1.6418 - val_acc: 0.4440 - lr: 0.0010\n",
            "Epoch 5/50\n",
            "1012/1012 [==============================] - 432s 427ms/step - batch: 505.5000 - size: 5.0000 - loss: 1.5683 - acc: 0.4567 - val_loss: 1.6248 - val_acc: 0.4480 - lr: 0.0010\n",
            "Epoch 6/50\n",
            "1012/1012 [==============================] - 434s 429ms/step - batch: 505.5000 - size: 5.0000 - loss: 1.5926 - acc: 0.4617 - val_loss: 1.6479 - val_acc: 0.4611 - lr: 0.0010\n",
            "Epoch 7/50\n",
            "1012/1012 [==============================] - 434s 429ms/step - batch: 505.5000 - size: 5.0000 - loss: 1.5681 - acc: 0.4589 - val_loss: 1.5866 - val_acc: 0.4611 - lr: 0.0010\n",
            "Epoch 8/50\n",
            "1012/1012 [==============================] - 430s 425ms/step - batch: 505.5000 - size: 5.0000 - loss: 1.5479 - acc: 0.4583 - val_loss: 1.6024 - val_acc: 0.4611 - lr: 0.0010\n",
            "Epoch 9/50\n",
            "1012/1012 [==============================] - ETA: 0s - batch: 505.5000 - size: 5.0000 - loss: 1.5437 - acc: 0.4789\n",
            "Epoch 00009: ReduceLROnPlateau reducing learning rate to 0.0009500000451225787.\n",
            "1012/1012 [==============================] - 429s 424ms/step - batch: 505.5000 - size: 5.0000 - loss: 1.5437 - acc: 0.4789 - val_loss: 1.6437 - val_acc: 0.4611 - lr: 0.0010\n",
            "Epoch 10/50\n",
            "1012/1012 [==============================] - 433s 428ms/step - batch: 505.5000 - size: 5.0000 - loss: 1.5889 - acc: 0.4638 - val_loss: 1.6413 - val_acc: 0.4611 - lr: 9.5000e-04\n",
            "Epoch 11/50\n",
            "1012/1012 [==============================] - 434s 429ms/step - batch: 505.5000 - size: 5.0000 - loss: 1.5859 - acc: 0.4628 - val_loss: 1.6449 - val_acc: 0.4598 - lr: 9.5000e-04\n",
            "Epoch 12/50\n",
            "1012/1012 [==============================] - ETA: 0s - batch: 505.5000 - size: 5.0000 - loss: 1.5691 - acc: 0.4640\n",
            "Epoch 00012: ReduceLROnPlateau reducing learning rate to 0.0009025000152178108.\n",
            "1012/1012 [==============================] - 438s 433ms/step - batch: 505.5000 - size: 5.0000 - loss: 1.5691 - acc: 0.4640 - val_loss: 1.5947 - val_acc: 0.4585 - lr: 9.5000e-04\n",
            "Epoch 13/50\n",
            "1012/1012 [==============================] - 430s 425ms/step - batch: 505.5000 - size: 5.0000 - loss: 1.4732 - acc: 0.5170 - val_loss: 1.5574 - val_acc: 0.4993 - lr: 9.0250e-04\n",
            "Epoch 14/50\n",
            "1012/1012 [==============================] - 432s 427ms/step - batch: 505.5000 - size: 5.0000 - loss: 1.4602 - acc: 0.5219 - val_loss: 1.5557 - val_acc: 0.5033 - lr: 9.0250e-04\n",
            "Epoch 15/50\n",
            "1012/1012 [==============================] - 426s 421ms/step - batch: 505.5000 - size: 5.0000 - loss: 1.4576 - acc: 0.5219 - val_loss: 1.5553 - val_acc: 0.5046 - lr: 9.0250e-04\n",
            "Epoch 16/50\n",
            "1012/1012 [==============================] - ETA: 0s - batch: 505.5000 - size: 5.0000 - loss: 1.4542 - acc: 0.5237\n",
            "Epoch 00016: ReduceLROnPlateau reducing learning rate to 0.0008573750033974647.\n",
            "1012/1012 [==============================] - 429s 424ms/step - batch: 505.5000 - size: 5.0000 - loss: 1.4542 - acc: 0.5237 - val_loss: 1.5493 - val_acc: 0.5033 - lr: 9.0250e-04\n",
            "Epoch 17/50\n",
            "1012/1012 [==============================] - 430s 425ms/step - batch: 505.5000 - size: 5.0000 - loss: 1.4508 - acc: 0.5245 - val_loss: 1.5463 - val_acc: 0.5033 - lr: 8.5737e-04\n",
            "Epoch 18/50\n",
            "1012/1012 [==============================] - 427s 422ms/step - batch: 505.5000 - size: 5.0000 - loss: 1.4491 - acc: 0.5255 - val_loss: 1.5463 - val_acc: 0.5059 - lr: 8.5737e-04\n",
            "Epoch 19/50\n",
            "1012/1012 [==============================] - ETA: 0s - batch: 505.5000 - size: 5.0000 - loss: 1.4612 - acc: 0.5217\n",
            "Epoch 00019: ReduceLROnPlateau reducing learning rate to 0.0008145062311086804.\n",
            "1012/1012 [==============================] - 428s 423ms/step - batch: 505.5000 - size: 5.0000 - loss: 1.4612 - acc: 0.5217 - val_loss: 1.5451 - val_acc: 0.4677 - lr: 8.5737e-04\n",
            "Epoch 20/50\n",
            "1012/1012 [==============================] - 434s 429ms/step - batch: 505.5000 - size: 5.0000 - loss: 1.4294 - acc: 0.5237 - val_loss: 1.5334 - val_acc: 0.4677 - lr: 8.1451e-04\n",
            "Epoch 21/50\n",
            "1012/1012 [==============================] - 430s 424ms/step - batch: 505.5000 - size: 5.0000 - loss: 1.4219 - acc: 0.5235 - val_loss: 1.5294 - val_acc: 0.4914 - lr: 8.1451e-04\n",
            "Epoch 22/50\n",
            "1012/1012 [==============================] - ETA: 0s - batch: 505.5000 - size: 5.0000 - loss: 1.4194 - acc: 0.5221\n",
            "Epoch 00022: ReduceLROnPlateau reducing learning rate to 0.0007737808919046074.\n",
            "1012/1012 [==============================] - 433s 427ms/step - batch: 505.5000 - size: 5.0000 - loss: 1.4194 - acc: 0.5221 - val_loss: 1.5281 - val_acc: 0.4914 - lr: 8.1451e-04\n",
            "Epoch 23/50\n",
            "1012/1012 [==============================] - 434s 428ms/step - batch: 505.5000 - size: 5.0000 - loss: 1.4167 - acc: 0.5219 - val_loss: 1.5299 - val_acc: 0.4914 - lr: 7.7378e-04\n",
            "Epoch 24/50\n",
            "1012/1012 [==============================] - 431s 426ms/step - batch: 505.5000 - size: 5.0000 - loss: 1.4157 - acc: 0.5213 - val_loss: 1.5297 - val_acc: 0.4914 - lr: 7.7378e-04\n",
            "Epoch 25/50\n",
            "1012/1012 [==============================] - ETA: 0s - batch: 505.5000 - size: 5.0000 - loss: 1.4144 - acc: 0.5219\n",
            "Epoch 00025: ReduceLROnPlateau reducing learning rate to 0.000735091819660738.\n",
            "1012/1012 [==============================] - 429s 424ms/step - batch: 505.5000 - size: 5.0000 - loss: 1.4144 - acc: 0.5219 - val_loss: 1.5300 - val_acc: 0.4901 - lr: 7.7378e-04\n",
            "Epoch 26/50\n",
            "1012/1012 [==============================] - 429s 424ms/step - batch: 505.5000 - size: 5.0000 - loss: 1.4128 - acc: 0.5221 - val_loss: 1.5302 - val_acc: 0.4901 - lr: 7.3509e-04\n",
            "Epoch 27/50\n",
            "1012/1012 [==============================] - 427s 422ms/step - batch: 505.5000 - size: 5.0000 - loss: 1.4118 - acc: 0.5237 - val_loss: 1.5305 - val_acc: 0.4901 - lr: 7.3509e-04\n",
            "Epoch 28/50\n",
            "1012/1012 [==============================] - ETA: 0s - batch: 505.5000 - size: 5.0000 - loss: 1.4109 - acc: 0.5233\n",
            "Epoch 00028: ReduceLROnPlateau reducing learning rate to 0.0006983372120885178.\n",
            "1012/1012 [==============================] - 431s 426ms/step - batch: 505.5000 - size: 5.0000 - loss: 1.4109 - acc: 0.5233 - val_loss: 1.5313 - val_acc: 0.4901 - lr: 7.3509e-04\n",
            "Epoch 29/50\n",
            "1012/1012 [==============================] - 429s 424ms/step - batch: 505.5000 - size: 5.0000 - loss: 1.4097 - acc: 0.5215 - val_loss: 1.5303 - val_acc: 0.4901 - lr: 6.9834e-04\n",
            "Epoch 30/50\n",
            "1012/1012 [==============================] - 430s 425ms/step - batch: 505.5000 - size: 5.0000 - loss: 1.4086 - acc: 0.5229 - val_loss: 1.5302 - val_acc: 0.4901 - lr: 6.9834e-04\n",
            "Epoch 31/50\n",
            "1012/1012 [==============================] - ETA: 0s - batch: 505.5000 - size: 5.0000 - loss: 1.4205 - acc: 0.5188\n",
            "Epoch 00031: ReduceLROnPlateau reducing learning rate to 0.0006634203542489559.\n",
            "1012/1012 [==============================] - 430s 425ms/step - batch: 505.5000 - size: 5.0000 - loss: 1.4205 - acc: 0.5188 - val_loss: 1.5552 - val_acc: 0.4559 - lr: 6.9834e-04\n",
            "Epoch 32/50\n",
            "1012/1012 [==============================] - 429s 424ms/step - batch: 505.5000 - size: 5.0000 - loss: 1.4430 - acc: 0.5132 - val_loss: 1.5529 - val_acc: 0.4572 - lr: 6.6342e-04\n",
            "Epoch 33/50\n",
            "1012/1012 [==============================] - 430s 425ms/step - batch: 505.5000 - size: 5.0000 - loss: 1.4297 - acc: 0.5213 - val_loss: 1.5306 - val_acc: 0.4704 - lr: 6.6342e-04\n",
            "Epoch 34/50\n",
            "1012/1012 [==============================] - ETA: 0s - batch: 505.5000 - size: 5.0000 - loss: 1.4324 - acc: 0.5172\n",
            "Epoch 00034: ReduceLROnPlateau reducing learning rate to 0.0006302493420662358.\n",
            "1012/1012 [==============================] - 429s 423ms/step - batch: 505.5000 - size: 5.0000 - loss: 1.4324 - acc: 0.5172 - val_loss: 1.5271 - val_acc: 0.4967 - lr: 6.6342e-04\n",
            "Epoch 35/50\n",
            "1012/1012 [==============================] - 430s 425ms/step - batch: 505.5000 - size: 5.0000 - loss: 1.4248 - acc: 0.5196 - val_loss: 1.5271 - val_acc: 0.4862 - lr: 6.3025e-04\n",
            "Epoch 36/50\n",
            "1012/1012 [==============================] - 429s 424ms/step - batch: 505.5000 - size: 5.0000 - loss: 1.4231 - acc: 0.5227 - val_loss: 1.5271 - val_acc: 0.4980 - lr: 6.3025e-04\n",
            "Epoch 37/50\n",
            "1012/1012 [==============================] - ETA: 0s - batch: 505.5000 - size: 5.0000 - loss: 1.4204 - acc: 0.5225\n",
            "Epoch 00037: ReduceLROnPlateau reducing learning rate to 0.0005987368611386045.\n",
            "1012/1012 [==============================] - 429s 423ms/step - batch: 505.5000 - size: 5.0000 - loss: 1.4204 - acc: 0.5225 - val_loss: 1.5279 - val_acc: 0.4980 - lr: 6.3025e-04\n",
            "Epoch 38/50\n",
            "1012/1012 [==============================] - 428s 423ms/step - batch: 505.5000 - size: 5.0000 - loss: 1.4191 - acc: 0.5227 - val_loss: 1.5275 - val_acc: 0.4967 - lr: 5.9874e-04\n",
            "Epoch 39/50\n",
            "1012/1012 [==============================] - 430s 425ms/step - batch: 505.5000 - size: 5.0000 - loss: 1.4205 - acc: 0.5221 - val_loss: 1.5286 - val_acc: 0.4967 - lr: 5.9874e-04\n",
            "Epoch 40/50\n",
            "1012/1012 [==============================] - ETA: 0s - batch: 505.5000 - size: 5.0000 - loss: 1.4170 - acc: 0.5227\n",
            "Epoch 00040: ReduceLROnPlateau reducing learning rate to 0.0005688000208465382.\n",
            "1012/1012 [==============================] - 430s 425ms/step - batch: 505.5000 - size: 5.0000 - loss: 1.4170 - acc: 0.5227 - val_loss: 1.5296 - val_acc: 0.4967 - lr: 5.9874e-04\n",
            "Epoch 41/50\n",
            "1012/1012 [==============================] - 428s 423ms/step - batch: 505.5000 - size: 5.0000 - loss: 1.4169 - acc: 0.5231 - val_loss: 1.5279 - val_acc: 0.4967 - lr: 5.6880e-04\n",
            "Epoch 42/50\n",
            "1012/1012 [==============================] - 431s 426ms/step - batch: 505.5000 - size: 5.0000 - loss: 1.4163 - acc: 0.5231 - val_loss: 1.5262 - val_acc: 0.4967 - lr: 5.6880e-04\n",
            "Epoch 43/50\n",
            "1012/1012 [==============================] - ETA: 0s - batch: 505.5000 - size: 5.0000 - loss: 1.4162 - acc: 0.5251\n",
            "Epoch 00043: ReduceLROnPlateau reducing learning rate to 0.0005403600225690752.\n",
            "1012/1012 [==============================] - 431s 426ms/step - batch: 505.5000 - size: 5.0000 - loss: 1.4162 - acc: 0.5251 - val_loss: 1.5265 - val_acc: 0.4967 - lr: 5.6880e-04\n",
            "Epoch 44/50\n",
            "1012/1012 [==============================] - 430s 425ms/step - batch: 505.5000 - size: 5.0000 - loss: 1.4145 - acc: 0.5239 - val_loss: 1.5283 - val_acc: 0.4967 - lr: 5.4036e-04\n",
            "Epoch 45/50\n",
            "1012/1012 [==============================] - 427s 422ms/step - batch: 505.5000 - size: 5.0000 - loss: 1.4143 - acc: 0.5231 - val_loss: 1.5262 - val_acc: 0.4967 - lr: 5.4036e-04\n",
            "Epoch 46/50\n",
            "1012/1012 [==============================] - ETA: 0s - batch: 505.5000 - size: 5.0000 - loss: 1.4141 - acc: 0.5239\n",
            "Epoch 00046: ReduceLROnPlateau reducing learning rate to 0.0005133419937919825.\n",
            "1012/1012 [==============================] - 428s 423ms/step - batch: 505.5000 - size: 5.0000 - loss: 1.4141 - acc: 0.5239 - val_loss: 1.5305 - val_acc: 0.4967 - lr: 5.4036e-04\n",
            "Epoch 47/50\n",
            "1012/1012 [==============================] - 428s 423ms/step - batch: 505.5000 - size: 5.0000 - loss: 1.4139 - acc: 0.5231 - val_loss: 1.5278 - val_acc: 0.4967 - lr: 5.1334e-04\n",
            "Epoch 48/50\n",
            "1012/1012 [==============================] - 431s 426ms/step - batch: 505.5000 - size: 5.0000 - loss: 1.4126 - acc: 0.5225 - val_loss: 1.5293 - val_acc: 0.4967 - lr: 5.1334e-04\n",
            "Epoch 49/50\n",
            "1012/1012 [==============================] - ETA: 0s - batch: 505.5000 - size: 5.0000 - loss: 1.4129 - acc: 0.5231\n",
            "Epoch 00049: ReduceLROnPlateau reducing learning rate to 0.0004876748775132.\n",
            "1012/1012 [==============================] - 429s 424ms/step - batch: 505.5000 - size: 5.0000 - loss: 1.4129 - acc: 0.5231 - val_loss: 1.5282 - val_acc: 0.4967 - lr: 5.1334e-04\n",
            "Epoch 50/50\n",
            "1012/1012 [==============================] - 432s 427ms/step - batch: 505.5000 - size: 5.0000 - loss: 1.4121 - acc: 0.5231 - val_loss: 1.5294 - val_acc: 0.4967 - lr: 4.8767e-04\n"
          ]
        },
        {
          "data": {
            "text/plain": [
              "<keras.callbacks.History at 0x7f3ae8bcf050>"
            ]
          },
          "execution_count": 156,
          "metadata": {},
          "output_type": "execute_result"
        }
      ]
    },
    {
      "cell_type": "code",
      "metadata": {
        "colab": {
          "base_uri": "https://localhost:8080/"
        },
        "id": "YTxtJh9pPAvV",
        "outputId": "4fa18347-c65c-4f84-acd3-e53feb278e3f"
      },
      "source": [
        "num_sequences_val = len(df_test_AE['emb'].to_list())\n",
        "batch_size_val = 3\n",
        "batches_per_epoch_val = 169\n",
        "assert batch_size_val * batches_per_epoch_val == num_sequences_val\n",
        "num_features= 500\n",
        "modelAuto.evaluate_generator(val_generator_encoder(df_test_AE), steps= batches_per_epoch_val)"
      ],
      "execution_count": null,
      "outputs": [
        {
          "name": "stderr",
          "output_type": "stream",
          "text": [
            "/usr/local/lib/python3.7/dist-packages/keras/engine/training_v1.py:1261: UserWarning: `Model.evaluate_generator` is deprecated and will be removed in a future version. Please use `Model.evaluate`, which supports generators.\n",
            "  warnings.warn('`Model.evaluate_generator` is deprecated and '\n"
          ]
        },
        {
          "data": {
            "text/plain": [
              "[1.4853378945201106, 0.5108481]"
            ]
          },
          "execution_count": 157,
          "metadata": {},
          "output_type": "execute_result"
        }
      ]
    },
    {
      "cell_type": "code",
      "metadata": {
        "colab": {
          "base_uri": "https://localhost:8080/"
        },
        "id": "UsWDS9dQPAy8",
        "outputId": "7a198ef7-8f65-4d29-a57f-505bc7ce84d6"
      },
      "source": [
        "y_proba=modelAuto.predict(val_generator_encoder(df_test_AE), steps= batches_per_epoch_val)\n",
        "\n",
        "y_pred=[]\n",
        "for i in y_proba:\n",
        "    max_index_row = np.argmax(i, axis=0)\n",
        "    y_pred.append(max_index_row)\n",
        "\n",
        "from sklearn.metrics import classification_report, confusion_matrix\n",
        "print('Confusion Matrix')\n",
        "print(confusion_matrix(y_pred, df_test_AE['label']))\n",
        "print('Classification Report')\n",
        "print(classification_report(y_pred, df_test_AE['label']))"
      ],
      "execution_count": null,
      "outputs": [
        {
          "name": "stderr",
          "output_type": "stream",
          "text": [
            "/usr/local/lib/python3.7/dist-packages/keras/engine/training.py:2470: UserWarning: `Model.state_updates` will be removed in a future version. This property should not be used in TensorFlow 2.0, as `updates` are applied automatically.\n",
            "  warnings.warn('`Model.state_updates` will be removed in a future version. '\n"
          ]
        },
        {
          "name": "stdout",
          "output_type": "stream",
          "text": [
            "Confusion Matrix\n",
            "[[  0   0   0   0   0   0   0   0   0   0   0   0   0]\n",
            " [  1 107  38  26   6   2   0   0   2  33   1   0   0]\n",
            " [  0   0   9   0   0   0   0   0   0   3   0   0   0]\n",
            " [  0   0   0   6   0   0   0   0   1   0   0   0   0]\n",
            " [  0   0   0   0   0   0   0   0   0   0   0   0   0]\n",
            " [  0   0   0   0   0   1   0   0   0   0   0   0   0]\n",
            " [  0   0   0   1   0   0   2   0   1   0   1   0   0]\n",
            " [  0   0   0   0   0   0   0   0   0   0   0   0   0]\n",
            " [  0   5   4   0   8   0   0  12  91  18  14   1   3]\n",
            " [  0   4  17   0   7   1   0   0   6  30   3   0   0]\n",
            " [  0   0   0   0   0   0   0   0   0   0   0   0   0]\n",
            " [  0   0   0   0   0   0   0   0   0   0   1   2   0]\n",
            " [  0   0   0   0   0   0   0   6  14   1   6   1  11]]\n",
            "Classification Report\n",
            "              precision    recall  f1-score   support\n",
            "\n",
            "           0       0.00      0.00      0.00         0\n",
            "           1       0.92      0.50      0.64       216\n",
            "           2       0.13      0.75      0.23        12\n",
            "           3       0.18      0.86      0.30         7\n",
            "           4       0.00      0.00      0.00         0\n",
            "           5       0.25      1.00      0.40         1\n",
            "           6       1.00      0.40      0.57         5\n",
            "           7       0.00      0.00      0.00         0\n",
            "           8       0.79      0.58      0.67       156\n",
            "           9       0.35      0.44      0.39        68\n",
            "          10       0.00      0.00      0.00         0\n",
            "          11       0.50      0.67      0.57         3\n",
            "          12       0.79      0.28      0.42        39\n",
            "\n",
            "    accuracy                           0.51       507\n",
            "   macro avg       0.38      0.42      0.32       507\n",
            "weighted avg       0.76      0.51      0.59       507\n",
            "\n"
          ]
        },
        {
          "name": "stderr",
          "output_type": "stream",
          "text": [
            "/usr/local/lib/python3.7/dist-packages/sklearn/metrics/_classification.py:1272: UndefinedMetricWarning: Recall and F-score are ill-defined and being set to 0.0 in labels with no true samples. Use `zero_division` parameter to control this behavior.\n",
            "  _warn_prf(average, modifier, msg_start, len(result))\n"
          ]
        }
      ]
    },
    {
      "cell_type": "code",
      "metadata": {
        "colab": {
          "base_uri": "https://localhost:8080/"
        },
        "id": "jdRwchlMPA4K",
        "outputId": "b26bb3ab-c99c-482e-d4e8-ff11a1753aa9"
      },
      "source": [
        "mat = confusion_matrix(y_pred, df_test_AE['label'])\n",
        "\n",
        "diag = np.diagonal(mat)\n",
        "print('No of correctly identified labels :',sum(diag))\n",
        "print('No of misclassified samples : ',sum(sum(mat))-sum(diag))"
      ],
      "execution_count": null,
      "outputs": [
        {
          "name": "stdout",
          "output_type": "stream",
          "text": [
            "No of correctly identified labels : 259\n",
            "No of misclassified samples :  248\n"
          ]
        }
      ]
    },
    {
      "cell_type": "code",
      "metadata": {
        "id": "diK7uS3aPA6r"
      },
      "source": [
        ""
      ],
      "execution_count": null,
      "outputs": []
    },
    {
      "cell_type": "code",
      "metadata": {
        "colab": {
          "base_uri": "https://localhost:8080/"
        },
        "id": "yjMBoyGGvVl_",
        "outputId": "505eeef4-bf67-419b-b9d6-b4e421c647aa"
      },
      "source": [
        "modelAuto.fit_generator(train_generator_encoder(df_train_AE), steps_per_epoch=batches_per_epoch, epochs=50,\n",
        "                    validation_data=val_generator_encoder(df_val_AE), validation_steps=batches_per_epoch_val, callbacks =[call_reduce] )"
      ],
      "execution_count": null,
      "outputs": [
        {
          "name": "stderr",
          "output_type": "stream",
          "text": [
            "/usr/local/lib/python3.7/dist-packages/keras/engine/training_v1.py:1228: UserWarning: `model.fit_generator` is deprecated and will be removed in a future version. Please use `Model.fit`, which supports generators.\n",
            "  warnings.warn('`model.fit_generator` is deprecated and '\n"
          ]
        },
        {
          "name": "stdout",
          "output_type": "stream",
          "text": [
            "Epoch 1/50\n",
            "1012/1012 [==============================] - ETA: 0s - batch: 505.5000 - size: 5.0000 - loss: 2.0341 - acc: 0.2887"
          ]
        },
        {
          "name": "stderr",
          "output_type": "stream",
          "text": [
            "/usr/local/lib/python3.7/dist-packages/keras/engine/training.py:2470: UserWarning: `Model.state_updates` will be removed in a future version. This property should not be used in TensorFlow 2.0, as `updates` are applied automatically.\n",
            "  warnings.warn('`Model.state_updates` will be removed in a future version. '\n"
          ]
        },
        {
          "name": "stdout",
          "output_type": "stream",
          "text": [
            "1012/1012 [==============================] - 427s 422ms/step - batch: 505.5000 - size: 5.0000 - loss: 2.0341 - acc: 0.2887 - val_loss: 2.0970 - val_acc: 0.2227 - lr: 0.0010\n",
            "Epoch 2/50\n",
            "1012/1012 [==============================] - 436s 431ms/step - batch: 505.5000 - size: 5.0000 - loss: 1.9502 - acc: 0.2897 - val_loss: 1.7456 - val_acc: 0.4097 - lr: 0.0010\n",
            "Epoch 3/50\n",
            "1012/1012 [==============================] - 428s 423ms/step - batch: 505.5000 - size: 5.0000 - loss: 1.8732 - acc: 0.3308 - val_loss: 2.0670 - val_acc: 0.2213 - lr: 0.0010\n",
            "Epoch 4/50\n",
            "1012/1012 [==============================] - 424s 419ms/step - batch: 505.5000 - size: 5.0000 - loss: 1.8061 - acc: 0.3723 - val_loss: 1.7157 - val_acc: 0.4045 - lr: 0.0010\n",
            "Epoch 5/50\n",
            "1012/1012 [==============================] - 427s 422ms/step - batch: 505.5000 - size: 5.0000 - loss: 1.7060 - acc: 0.4014 - val_loss: 1.7042 - val_acc: 0.4203 - lr: 0.0010\n",
            "Epoch 6/50\n",
            "1012/1012 [==============================] - 421s 416ms/step - batch: 505.5000 - size: 5.0000 - loss: 1.6854 - acc: 0.4065 - val_loss: 1.7106 - val_acc: 0.4137 - lr: 0.0010\n",
            "Epoch 7/50\n",
            "1012/1012 [==============================] - 425s 420ms/step - batch: 505.5000 - size: 5.0000 - loss: 1.6780 - acc: 0.4085 - val_loss: 1.6937 - val_acc: 0.4242 - lr: 0.0010\n",
            "Epoch 8/50\n",
            "1012/1012 [==============================] - ETA: 0s - batch: 505.5000 - size: 5.0000 - loss: 1.6648 - acc: 0.4194\n",
            "Epoch 00008: ReduceLROnPlateau reducing learning rate to 0.0009500000451225787.\n",
            "1012/1012 [==============================] - 424s 419ms/step - batch: 505.5000 - size: 5.0000 - loss: 1.6648 - acc: 0.4194 - val_loss: 1.6992 - val_acc: 0.4256 - lr: 0.0010\n",
            "Epoch 9/50\n",
            "1012/1012 [==============================] - 425s 420ms/step - batch: 505.5000 - size: 5.0000 - loss: 1.6626 - acc: 0.4255 - val_loss: 1.6981 - val_acc: 0.4256 - lr: 9.5000e-04\n",
            "Epoch 10/50\n",
            "1012/1012 [==============================] - 423s 418ms/step - batch: 505.5000 - size: 5.0000 - loss: 1.6559 - acc: 0.4251 - val_loss: 1.6936 - val_acc: 0.4229 - lr: 9.5000e-04\n",
            "Epoch 11/50\n",
            "1012/1012 [==============================] - ETA: 0s - batch: 505.5000 - size: 5.0000 - loss: 1.6551 - acc: 0.4245\n",
            "Epoch 00011: ReduceLROnPlateau reducing learning rate to 0.0009025000152178108.\n",
            "1012/1012 [==============================] - 420s 415ms/step - batch: 505.5000 - size: 5.0000 - loss: 1.6551 - acc: 0.4245 - val_loss: 1.6914 - val_acc: 0.4242 - lr: 9.5000e-04\n",
            "Epoch 12/50\n",
            "1012/1012 [==============================] - 423s 418ms/step - batch: 505.5000 - size: 5.0000 - loss: 1.8662 - acc: 0.3257 - val_loss: 2.0495 - val_acc: 0.2279 - lr: 9.0250e-04\n",
            "Epoch 13/50\n",
            "1012/1012 [==============================] - 428s 422ms/step - batch: 505.5000 - size: 5.0000 - loss: 2.0438 - acc: 0.2362 - val_loss: 2.0522 - val_acc: 0.2266 - lr: 9.0250e-04\n",
            "Epoch 14/50\n",
            "1012/1012 [==============================] - ETA: 0s - batch: 505.5000 - size: 5.0000 - loss: 2.0055 - acc: 0.2462\n",
            "Epoch 00014: ReduceLROnPlateau reducing learning rate to 0.0008573750033974647.\n",
            "1012/1012 [==============================] - 427s 422ms/step - batch: 505.5000 - size: 5.0000 - loss: 2.0055 - acc: 0.2462 - val_loss: 1.9969 - val_acc: 0.2424 - lr: 9.0250e-04\n",
            "Epoch 15/50\n",
            "1012/1012 [==============================] - 429s 424ms/step - batch: 505.5000 - size: 5.0000 - loss: 1.9768 - acc: 0.2518 - val_loss: 1.9907 - val_acc: 0.2437 - lr: 8.5737e-04\n",
            "Epoch 16/50\n",
            "1012/1012 [==============================] - 429s 424ms/step - batch: 505.5000 - size: 5.0000 - loss: 1.9631 - acc: 0.2534 - val_loss: 1.9854 - val_acc: 0.2437 - lr: 8.5737e-04\n",
            "Epoch 17/50\n",
            "1012/1012 [==============================] - ETA: 0s - batch: 505.5000 - size: 5.0000 - loss: 1.9547 - acc: 0.2565\n",
            "Epoch 00017: ReduceLROnPlateau reducing learning rate to 0.0008145062311086804.\n",
            "1012/1012 [==============================] - 427s 422ms/step - batch: 505.5000 - size: 5.0000 - loss: 1.9547 - acc: 0.2565 - val_loss: 1.9807 - val_acc: 0.2451 - lr: 8.5737e-04\n",
            "Epoch 18/50\n",
            "1012/1012 [==============================] - 427s 422ms/step - batch: 505.5000 - size: 5.0000 - loss: 1.9418 - acc: 0.2668 - val_loss: 1.9009 - val_acc: 0.4084 - lr: 8.1451e-04\n",
            "Epoch 19/50\n",
            "1012/1012 [==============================] - 425s 420ms/step - batch: 505.5000 - size: 5.0000 - loss: 1.9364 - acc: 0.2729 - val_loss: 1.9700 - val_acc: 0.2437 - lr: 8.1451e-04\n",
            "Epoch 20/50\n",
            "1012/1012 [==============================] - ETA: 0s - batch: 505.5000 - size: 5.0000 - loss: 1.9359 - acc: 0.2662\n",
            "Epoch 00020: ReduceLROnPlateau reducing learning rate to 0.0007737808919046074.\n",
            "1012/1012 [==============================] - 427s 422ms/step - batch: 505.5000 - size: 5.0000 - loss: 1.9359 - acc: 0.2662 - val_loss: 1.9575 - val_acc: 0.2451 - lr: 8.1451e-04\n",
            "Epoch 21/50\n",
            "1012/1012 [==============================] - 424s 419ms/step - batch: 505.5000 - size: 5.0000 - loss: 1.9250 - acc: 0.2690 - val_loss: 1.9286 - val_acc: 0.2675 - lr: 7.7378e-04\n",
            "Epoch 22/50\n",
            "1012/1012 [==============================] - 424s 419ms/step - batch: 505.5000 - size: 5.0000 - loss: 1.9056 - acc: 0.2818 - val_loss: 1.9194 - val_acc: 0.2754 - lr: 7.7378e-04\n",
            "Epoch 23/50\n",
            "1012/1012 [==============================] - ETA: 0s - batch: 505.5000 - size: 5.0000 - loss: 1.8889 - acc: 0.2917\n",
            "Epoch 00023: ReduceLROnPlateau reducing learning rate to 0.000735091819660738.\n",
            "1012/1012 [==============================] - 428s 423ms/step - batch: 505.5000 - size: 5.0000 - loss: 1.8889 - acc: 0.2917 - val_loss: 1.9024 - val_acc: 0.2833 - lr: 7.7378e-04\n",
            "Epoch 24/50\n",
            "1012/1012 [==============================] - 431s 426ms/step - batch: 505.5000 - size: 5.0000 - loss: 1.8776 - acc: 0.2988 - val_loss: 1.8872 - val_acc: 0.2951 - lr: 7.3509e-04\n",
            "Epoch 25/50\n",
            "1012/1012 [==============================] - 433s 427ms/step - batch: 505.5000 - size: 5.0000 - loss: 1.8566 - acc: 0.3077 - val_loss: 1.8646 - val_acc: 0.3057 - lr: 7.3509e-04\n",
            "Epoch 26/50\n",
            "1012/1012 [==============================] - ETA: 0s - batch: 505.5000 - size: 5.0000 - loss: 1.9023 - acc: 0.3271\n",
            "Epoch 00026: ReduceLROnPlateau reducing learning rate to 0.0006983372120885178.\n",
            "1012/1012 [==============================] - 428s 423ms/step - batch: 505.5000 - size: 5.0000 - loss: 1.9023 - acc: 0.3271 - val_loss: 2.0410 - val_acc: 0.2358 - lr: 7.3509e-04\n",
            "Epoch 27/50\n",
            "1012/1012 [==============================] - 431s 426ms/step - batch: 505.5000 - size: 5.0000 - loss: 1.8394 - acc: 0.3528 - val_loss: 1.7411 - val_acc: 0.4229 - lr: 6.9834e-04\n",
            "Epoch 28/50\n",
            "1012/1012 [==============================] - 432s 427ms/step - batch: 505.5000 - size: 5.0000 - loss: 1.8088 - acc: 0.3565 - val_loss: 2.0198 - val_acc: 0.2240 - lr: 6.9834e-04\n",
            "Epoch 29/50\n",
            "1012/1012 [==============================] - ETA: 0s - batch: 505.5000 - size: 5.0000 - loss: 1.8785 - acc: 0.3034\n",
            "Epoch 00029: ReduceLROnPlateau reducing learning rate to 0.0006634203542489559.\n",
            "1012/1012 [==============================] - 426s 421ms/step - batch: 505.5000 - size: 5.0000 - loss: 1.8785 - acc: 0.3034 - val_loss: 1.7235 - val_acc: 0.4242 - lr: 6.9834e-04\n",
            "Epoch 30/50\n",
            "1012/1012 [==============================] - 428s 423ms/step - batch: 505.5000 - size: 5.0000 - loss: 1.6812 - acc: 0.4200 - val_loss: 1.7251 - val_acc: 0.4190 - lr: 6.6342e-04\n",
            "Epoch 31/50\n",
            "1012/1012 [==============================] - 426s 421ms/step - batch: 505.5000 - size: 5.0000 - loss: 1.7336 - acc: 0.3802 - val_loss: 1.7566 - val_acc: 0.3768 - lr: 6.6342e-04\n",
            "Epoch 32/50\n",
            "1012/1012 [==============================] - ETA: 0s - batch: 505.5000 - size: 5.0000 - loss: 1.6409 - acc: 0.4271\n",
            "Epoch 00032: ReduceLROnPlateau reducing learning rate to 0.0006302493420662358.\n",
            "1012/1012 [==============================] - 422s 417ms/step - batch: 505.5000 - size: 5.0000 - loss: 1.6409 - acc: 0.4271 - val_loss: 1.6927 - val_acc: 0.4203 - lr: 6.6342e-04\n",
            "Epoch 33/50\n",
            "1012/1012 [==============================] - 424s 419ms/step - batch: 505.5000 - size: 5.0000 - loss: 1.6311 - acc: 0.4298 - val_loss: 1.6605 - val_acc: 0.4203 - lr: 6.3025e-04\n",
            "Epoch 34/50\n",
            "1012/1012 [==============================] - 433s 428ms/step - batch: 505.5000 - size: 5.0000 - loss: 1.6029 - acc: 0.4342 - val_loss: 1.6653 - val_acc: 0.4335 - lr: 6.3025e-04\n",
            "Epoch 35/50\n",
            "1012/1012 [==============================] - 429s 424ms/step - batch: 505.5000 - size: 5.0000 - loss: 1.6230 - acc: 0.4340 - val_loss: 1.6721 - val_acc: 0.4387 - lr: 6.3025e-04\n",
            "Epoch 36/50\n",
            "1012/1012 [==============================] - 428s 423ms/step - batch: 505.5000 - size: 5.0000 - loss: 1.8237 - acc: 0.3370 - val_loss: 1.7342 - val_acc: 0.3966 - lr: 6.3025e-04\n",
            "Epoch 37/50\n",
            "1012/1012 [==============================] - ETA: 0s - batch: 505.5000 - size: 5.0000 - loss: 1.8771 - acc: 0.2974\n",
            "Epoch 00037: ReduceLROnPlateau reducing learning rate to 0.0005987368611386045.\n",
            "1012/1012 [==============================] - 430s 425ms/step - batch: 505.5000 - size: 5.0000 - loss: 1.8771 - acc: 0.2974 - val_loss: 1.9452 - val_acc: 0.2596 - lr: 6.3025e-04\n",
            "Epoch 38/50\n",
            "1012/1012 [==============================] - 430s 425ms/step - batch: 505.5000 - size: 5.0000 - loss: 1.6727 - acc: 0.4130 - val_loss: 1.6961 - val_acc: 0.4216 - lr: 5.9874e-04\n",
            "Epoch 39/50\n",
            "1012/1012 [==============================] - 427s 422ms/step - batch: 505.5000 - size: 5.0000 - loss: 1.6822 - acc: 0.4095 - val_loss: 1.8882 - val_acc: 0.3597 - lr: 5.9874e-04\n",
            "Epoch 40/50\n",
            "1012/1012 [==============================] - ETA: 0s - batch: 505.5000 - size: 5.0000 - loss: 1.7381 - acc: 0.3923\n",
            "Epoch 00040: ReduceLROnPlateau reducing learning rate to 0.0005688000208465382.\n",
            "1012/1012 [==============================] - 430s 425ms/step - batch: 505.5000 - size: 5.0000 - loss: 1.7381 - acc: 0.3923 - val_loss: 1.7643 - val_acc: 0.4216 - lr: 5.9874e-04\n",
            "Epoch 41/50\n",
            "1012/1012 [==============================] - 431s 426ms/step - batch: 505.5000 - size: 5.0000 - loss: 1.6310 - acc: 0.4312 - val_loss: 1.6817 - val_acc: 0.4242 - lr: 5.6880e-04\n",
            "Epoch 42/50\n",
            "1012/1012 [==============================] - 426s 421ms/step - batch: 505.5000 - size: 5.0000 - loss: 1.6570 - acc: 0.4069 - val_loss: 1.6712 - val_acc: 0.4242 - lr: 5.6880e-04\n",
            "Epoch 43/50\n",
            "1012/1012 [==============================] - ETA: 0s - batch: 505.5000 - size: 5.0000 - loss: 1.6318 - acc: 0.4273\n",
            "Epoch 00043: ReduceLROnPlateau reducing learning rate to 0.0005403600225690752.\n",
            "1012/1012 [==============================] - 425s 420ms/step - batch: 505.5000 - size: 5.0000 - loss: 1.6318 - acc: 0.4273 - val_loss: 1.7071 - val_acc: 0.4269 - lr: 5.6880e-04\n",
            "Epoch 44/50\n",
            "1012/1012 [==============================] - 423s 418ms/step - batch: 505.5000 - size: 5.0000 - loss: 1.6313 - acc: 0.4306 - val_loss: 1.6956 - val_acc: 0.4124 - lr: 5.4036e-04\n",
            "Epoch 45/50\n",
            "1012/1012 [==============================] - 419s 414ms/step - batch: 505.5000 - size: 5.0000 - loss: 1.6390 - acc: 0.4105 - val_loss: 1.6636 - val_acc: 0.4519 - lr: 5.4036e-04\n",
            "Epoch 46/50\n",
            "1012/1012 [==============================] - 419s 414ms/step - batch: 505.5000 - size: 5.0000 - loss: 1.5980 - acc: 0.4350 - val_loss: 1.7161 - val_acc: 0.3860 - lr: 5.4036e-04\n",
            "Epoch 47/50\n",
            "1012/1012 [==============================] - 429s 424ms/step - batch: 505.5000 - size: 5.0000 - loss: 1.5658 - acc: 0.4466 - val_loss: 1.6995 - val_acc: 0.4361 - lr: 5.4036e-04\n",
            "Epoch 48/50\n",
            "1012/1012 [==============================] - ETA: 0s - batch: 505.5000 - size: 5.0000 - loss: 1.6789 - acc: 0.4251\n",
            "Epoch 00048: ReduceLROnPlateau reducing learning rate to 0.0005133419937919825.\n",
            "1012/1012 [==============================] - 435s 430ms/step - batch: 505.5000 - size: 5.0000 - loss: 1.6789 - acc: 0.4251 - val_loss: 1.6803 - val_acc: 0.4361 - lr: 5.4036e-04\n",
            "Epoch 49/50\n",
            "1012/1012 [==============================] - 435s 429ms/step - batch: 505.5000 - size: 5.0000 - loss: 1.7125 - acc: 0.3856 - val_loss: 1.7259 - val_acc: 0.4084 - lr: 5.1334e-04\n",
            "Epoch 50/50\n",
            "1012/1012 [==============================] - 432s 427ms/step - batch: 505.5000 - size: 5.0000 - loss: 1.6269 - acc: 0.4476 - val_loss: 1.8338 - val_acc: 0.3426 - lr: 5.1334e-04\n"
          ]
        },
        {
          "data": {
            "text/plain": [
              "<keras.callbacks.History at 0x7f5ce2aeae50>"
            ]
          },
          "execution_count": 135,
          "metadata": {},
          "output_type": "execute_result"
        }
      ]
    },
    {
      "cell_type": "code",
      "metadata": {
        "colab": {
          "base_uri": "https://localhost:8080/"
        },
        "id": "K2OIqWZRw9Mo",
        "outputId": "1f2a5b7c-cb56-4c89-8984-fba14be05a32"
      },
      "source": [
        "num_sequences_val = len(df_test_AE['emb'].to_list())\n",
        "batch_size_val = 3\n",
        "batches_per_epoch_val = 169\n",
        "assert batch_size_val * batches_per_epoch_val == num_sequences_val\n",
        "num_features= 500\n",
        "modelAuto.evaluate_generator(val_generator_encoder(df_test_AE), steps= batches_per_epoch_val)"
      ],
      "execution_count": null,
      "outputs": [
        {
          "name": "stderr",
          "output_type": "stream",
          "text": [
            "/usr/local/lib/python3.7/dist-packages/keras/engine/training_v1.py:1261: UserWarning: `Model.evaluate_generator` is deprecated and will be removed in a future version. Please use `Model.evaluate`, which supports generators.\n",
            "  warnings.warn('`Model.evaluate_generator` is deprecated and '\n"
          ]
        },
        {
          "data": {
            "text/plain": [
              "[1.8234499354334273, 0.3530572]"
            ]
          },
          "execution_count": 136,
          "metadata": {},
          "output_type": "execute_result"
        }
      ]
    },
    {
      "cell_type": "code",
      "metadata": {
        "colab": {
          "base_uri": "https://localhost:8080/"
        },
        "id": "7upGk2kFw9RI",
        "outputId": "d6c27eab-83d2-4fa4-b2ef-b077c7df1b59"
      },
      "source": [
        "y_proba=modelAuto.predict(val_generator_encoder(df_test_AE), steps= batches_per_epoch_val)\n",
        "\n",
        "y_pred=[]\n",
        "for i in y_proba:\n",
        "    max_index_row = np.argmax(i, axis=0)\n",
        "    y_pred.append(max_index_row)\n",
        "\n",
        "from sklearn.metrics import classification_report, confusion_matrix\n",
        "print('Confusion Matrix')\n",
        "print(confusion_matrix(y_pred, df_test_AE['label']))\n",
        "print('Classification Report')\n",
        "print(classification_report(y_pred, df_test_AE['label']))\n",
        "\n",
        "mat = confusion_matrix(y_pred, df_test_AE['label'])\n",
        "\n",
        "diag = np.diagonal(mat)\n",
        "print('No of correctly identified labels :',sum(diag))\n",
        "print('No of misclassified samples : ',sum(sum(mat))-sum(diag))"
      ],
      "execution_count": null,
      "outputs": [
        {
          "name": "stderr",
          "output_type": "stream",
          "text": [
            "/usr/local/lib/python3.7/dist-packages/keras/engine/training.py:2470: UserWarning: `Model.state_updates` will be removed in a future version. This property should not be used in TensorFlow 2.0, as `updates` are applied automatically.\n",
            "  warnings.warn('`Model.state_updates` will be removed in a future version. '\n"
          ]
        }
      ]
    },
    {
      "cell_type": "code",
      "metadata": {
        "id": "LUUOJhiDw9U5"
      },
      "source": [
        "y_pred=[]\n",
        "for i in y_proba:\n",
        "    max_index_row = np.argmax(i, axis=0)\n",
        "    y_pred.append(max_index_row)"
      ],
      "execution_count": null,
      "outputs": []
    },
    {
      "cell_type": "code",
      "metadata": {
        "colab": {
          "base_uri": "https://localhost:8080/"
        },
        "id": "DLEJljYusrJj",
        "outputId": "14ded0a9-6375-42b7-865e-de782ce6ede5"
      },
      "source": [
        "from sklearn.metrics import classification_report, confusion_matrix\n",
        "print('Confusion Matrix')\n",
        "print(confusion_matrix(y_pred, df_test_AE['label']))\n",
        "print('Classification Report')\n",
        "print(classification_report(y_pred, df_test_AE['label']))"
      ],
      "execution_count": null,
      "outputs": [
        {
          "name": "stdout",
          "output_type": "stream",
          "text": [
            "Confusion Matrix\n",
            "[[  0   0   0   0   0   0   0   0   0   0   0   0   0]\n",
            " [  1 116  68  17  20   3   2   6  70  84   9   0   4]\n",
            " [  0   0   0   0   0   0   0   0   0   0   0   0   0]\n",
            " [  0   0   0  16   0   1   0   0   1   0   0   0   0]\n",
            " [  0   0   0   0   0   0   0   0   0   0   0   0   0]\n",
            " [  0   0   0   0   0   0   0   0   0   0   0   0   0]\n",
            " [  0   0   0   0   0   0   0   0   1   0   0   0   0]\n",
            " [  0   0   0   0   0   0   0   0   0   0   0   0   0]\n",
            " [  0   0   0   0   1   0   0  12  43   1  16   2   8]\n",
            " [  0   0   0   0   0   0   0   0   0   0   0   0   0]\n",
            " [  0   0   0   0   0   0   0   0   0   0   0   0   0]\n",
            " [  0   0   0   0   0   0   0   0   0   0   1   2   0]\n",
            " [  0   0   0   0   0   0   0   0   0   0   0   0   2]]\n",
            "Classification Report\n",
            "              precision    recall  f1-score   support\n",
            "\n",
            "           0       0.00      0.00      0.00         0\n",
            "           1       1.00      0.29      0.45       400\n",
            "           2       0.00      0.00      0.00         0\n",
            "           3       0.48      0.89      0.63        18\n",
            "           4       0.00      0.00      0.00         0\n",
            "           5       0.00      0.00      0.00         0\n",
            "           6       0.00      0.00      0.00         1\n",
            "           7       0.00      0.00      0.00         0\n",
            "           8       0.37      0.52      0.43        83\n",
            "           9       0.00      0.00      0.00         0\n",
            "          10       0.00      0.00      0.00         0\n",
            "          11       0.50      0.67      0.57         3\n",
            "          12       0.14      1.00      0.25         2\n",
            "\n",
            "    accuracy                           0.35       507\n",
            "   macro avg       0.19      0.26      0.18       507\n",
            "weighted avg       0.87      0.35      0.45       507\n",
            "\n"
          ]
        },
        {
          "name": "stderr",
          "output_type": "stream",
          "text": [
            "/usr/local/lib/python3.7/dist-packages/sklearn/metrics/_classification.py:1272: UndefinedMetricWarning: Recall and F-score are ill-defined and being set to 0.0 in labels with no true samples. Use `zero_division` parameter to control this behavior.\n",
            "  _warn_prf(average, modifier, msg_start, len(result))\n"
          ]
        }
      ]
    },
    {
      "cell_type": "code",
      "metadata": {
        "colab": {
          "base_uri": "https://localhost:8080/"
        },
        "id": "pn7xOM0ExZH1",
        "outputId": "56e68b85-6640-4169-ea83-b452249746d2"
      },
      "source": [
        "mat = confusion_matrix(y_pred, df_test_AE['label'])\n",
        "\n",
        "diag = np.diagonal(mat)\n",
        "print('No of correctly identified labels :',sum(diag))\n",
        "print('No of misclassified samples : ',sum(sum(mat))-sum(diag))"
      ],
      "execution_count": null,
      "outputs": [
        {
          "name": "stdout",
          "output_type": "stream",
          "text": [
            "No of correctly identified labels : 179\n",
            "No of misclassified samples :  328\n"
          ]
        }
      ]
    },
    {
      "cell_type": "code",
      "metadata": {
        "id": "_v_-aGu9xZNS"
      },
      "source": [
        ""
      ],
      "execution_count": null,
      "outputs": []
    }
  ]
}