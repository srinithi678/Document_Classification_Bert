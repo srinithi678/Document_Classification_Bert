{
  "nbformat": 4,
  "nbformat_minor": 0,
  "metadata": {
    "accelerator": "GPU",
    "colab": {
      "name": "Autoencoders_CC_FULL50EP_Mean_count4.ipynb",
      "provenance": [],
      "collapsed_sections": [],
      "machine_shape": "hm"
    },
    "kernelspec": {
      "display_name": "Python 3",
      "name": "python3"
    },
    "language_info": {
      "name": "python"
    }
  },
  "cells": [
    {
      "cell_type": "code",
      "metadata": {
        "id": "LUgSWzLG3JWF"
      },
      "source": [
        "# # # cheking the number of cored this system has.\n",
        "# !cat /proc/cpuinfo | grep \"cpu cores\" | uniq\n",
        "\n",
        "# # GPU info\n",
        "# !nvidia-smi\n",
        "\n",
        "# # Amount of system RAM available to be used.\n",
        "# from psutil import virtual_memory\n",
        "# ram_gb = virtual_memory().total / (1024 * 1024 * 1024)   \n",
        "# print('Your runtime has {:.1f} gigabyte of availabe\\n'.format(ram_gb))\n",
        "\n",
        "# #finding the recursion limit to avoid Augmentation recursion error \n",
        "# import sys\n",
        "# print(sys.getrecursionlimit())\n",
        "\n",
        "# #installing fastai\n",
        "# !pip install torch===1.4.0 torchvision===0.5.0 -f https://download.pytorch.org/whl/torch_stable.html"
      ],
      "execution_count": null,
      "outputs": []
    },
    {
      "cell_type": "code",
      "metadata": {
        "id": "QVXHFiA0Q49f"
      },
      "source": [
        "#importing libraries and initializing fastai \n",
        "import pandas as pd \n",
        "import numpy as np\n",
        "import matplotlib.pyplot as plt\n",
        "import time"
      ],
      "execution_count": null,
      "outputs": []
    },
    {
      "cell_type": "code",
      "metadata": {
        "colab": {
          "base_uri": "https://localhost:8080/"
        },
        "id": "5KF0pKp93cni",
        "outputId": "11e7b48b-4133-4015-b62b-57bf5dce1961"
      },
      "source": [
        "#Mounting google drive for saving the models after training \n",
        "from google.colab import drive\n",
        "drive.mount('/content/drive')"
      ],
      "execution_count": null,
      "outputs": [
        {
          "output_type": "stream",
          "name": "stdout",
          "text": [
            "Mounted at /content/drive\n"
          ]
        }
      ]
    },
    {
      "cell_type": "code",
      "metadata": {
        "colab": {
          "base_uri": "https://localhost:8080/",
          "height": 428
        },
        "id": "DU9_FNMe5US1",
        "outputId": "616e76fc-eaa5-4a0e-aa13-5032210ba414"
      },
      "source": [
        "#loading the data \n",
        "#There are NaN values in the consumer_complaint_narrative column\n",
        "train_raw = pd.read_csv('/content/drive/MyDrive/consumer_complaints.csv')\n",
        "train_raw.head()"
      ],
      "execution_count": null,
      "outputs": [
        {
          "output_type": "stream",
          "name": "stderr",
          "text": [
            "/usr/local/lib/python3.7/dist-packages/IPython/core/interactiveshell.py:2718: DtypeWarning: Columns (5,11) have mixed types.Specify dtype option on import or set low_memory=False.\n",
            "  interactivity=interactivity, compiler=compiler, result=result)\n"
          ]
        },
        {
          "output_type": "execute_result",
          "data": {
            "text/html": [
              "<div>\n",
              "<style scoped>\n",
              "    .dataframe tbody tr th:only-of-type {\n",
              "        vertical-align: middle;\n",
              "    }\n",
              "\n",
              "    .dataframe tbody tr th {\n",
              "        vertical-align: top;\n",
              "    }\n",
              "\n",
              "    .dataframe thead th {\n",
              "        text-align: right;\n",
              "    }\n",
              "</style>\n",
              "<table border=\"1\" class=\"dataframe\">\n",
              "  <thead>\n",
              "    <tr style=\"text-align: right;\">\n",
              "      <th></th>\n",
              "      <th>date_received</th>\n",
              "      <th>product</th>\n",
              "      <th>sub_product</th>\n",
              "      <th>issue</th>\n",
              "      <th>sub_issue</th>\n",
              "      <th>consumer_complaint_narrative</th>\n",
              "      <th>company_public_response</th>\n",
              "      <th>company</th>\n",
              "      <th>state</th>\n",
              "      <th>zipcode</th>\n",
              "      <th>tags</th>\n",
              "      <th>consumer_consent_provided</th>\n",
              "      <th>submitted_via</th>\n",
              "      <th>date_sent_to_company</th>\n",
              "      <th>company_response_to_consumer</th>\n",
              "      <th>timely_response</th>\n",
              "      <th>consumer_disputed?</th>\n",
              "      <th>complaint_id</th>\n",
              "    </tr>\n",
              "  </thead>\n",
              "  <tbody>\n",
              "    <tr>\n",
              "      <th>0</th>\n",
              "      <td>08/30/2013</td>\n",
              "      <td>Mortgage</td>\n",
              "      <td>Other mortgage</td>\n",
              "      <td>Loan modification,collection,foreclosure</td>\n",
              "      <td>NaN</td>\n",
              "      <td>NaN</td>\n",
              "      <td>NaN</td>\n",
              "      <td>U.S. Bancorp</td>\n",
              "      <td>CA</td>\n",
              "      <td>95993</td>\n",
              "      <td>NaN</td>\n",
              "      <td>NaN</td>\n",
              "      <td>Referral</td>\n",
              "      <td>09/03/2013</td>\n",
              "      <td>Closed with explanation</td>\n",
              "      <td>Yes</td>\n",
              "      <td>Yes</td>\n",
              "      <td>511074</td>\n",
              "    </tr>\n",
              "    <tr>\n",
              "      <th>1</th>\n",
              "      <td>08/30/2013</td>\n",
              "      <td>Mortgage</td>\n",
              "      <td>Other mortgage</td>\n",
              "      <td>Loan servicing, payments, escrow account</td>\n",
              "      <td>NaN</td>\n",
              "      <td>NaN</td>\n",
              "      <td>NaN</td>\n",
              "      <td>Wells Fargo &amp; Company</td>\n",
              "      <td>CA</td>\n",
              "      <td>91104</td>\n",
              "      <td>NaN</td>\n",
              "      <td>NaN</td>\n",
              "      <td>Referral</td>\n",
              "      <td>09/03/2013</td>\n",
              "      <td>Closed with explanation</td>\n",
              "      <td>Yes</td>\n",
              "      <td>Yes</td>\n",
              "      <td>511080</td>\n",
              "    </tr>\n",
              "    <tr>\n",
              "      <th>2</th>\n",
              "      <td>08/30/2013</td>\n",
              "      <td>Credit reporting</td>\n",
              "      <td>NaN</td>\n",
              "      <td>Incorrect information on credit report</td>\n",
              "      <td>Account status</td>\n",
              "      <td>NaN</td>\n",
              "      <td>NaN</td>\n",
              "      <td>Wells Fargo &amp; Company</td>\n",
              "      <td>NY</td>\n",
              "      <td>11764</td>\n",
              "      <td>NaN</td>\n",
              "      <td>NaN</td>\n",
              "      <td>Postal mail</td>\n",
              "      <td>09/18/2013</td>\n",
              "      <td>Closed with explanation</td>\n",
              "      <td>Yes</td>\n",
              "      <td>No</td>\n",
              "      <td>510473</td>\n",
              "    </tr>\n",
              "    <tr>\n",
              "      <th>3</th>\n",
              "      <td>08/30/2013</td>\n",
              "      <td>Student loan</td>\n",
              "      <td>Non-federal student loan</td>\n",
              "      <td>Repaying your loan</td>\n",
              "      <td>Repaying your loan</td>\n",
              "      <td>NaN</td>\n",
              "      <td>NaN</td>\n",
              "      <td>Navient Solutions, Inc.</td>\n",
              "      <td>MD</td>\n",
              "      <td>21402</td>\n",
              "      <td>NaN</td>\n",
              "      <td>NaN</td>\n",
              "      <td>Email</td>\n",
              "      <td>08/30/2013</td>\n",
              "      <td>Closed with explanation</td>\n",
              "      <td>Yes</td>\n",
              "      <td>Yes</td>\n",
              "      <td>510326</td>\n",
              "    </tr>\n",
              "    <tr>\n",
              "      <th>4</th>\n",
              "      <td>08/30/2013</td>\n",
              "      <td>Debt collection</td>\n",
              "      <td>Credit card</td>\n",
              "      <td>False statements or representation</td>\n",
              "      <td>Attempted to collect wrong amount</td>\n",
              "      <td>NaN</td>\n",
              "      <td>NaN</td>\n",
              "      <td>Resurgent Capital Services L.P.</td>\n",
              "      <td>GA</td>\n",
              "      <td>30106</td>\n",
              "      <td>NaN</td>\n",
              "      <td>NaN</td>\n",
              "      <td>Web</td>\n",
              "      <td>08/30/2013</td>\n",
              "      <td>Closed with explanation</td>\n",
              "      <td>Yes</td>\n",
              "      <td>Yes</td>\n",
              "      <td>511067</td>\n",
              "    </tr>\n",
              "  </tbody>\n",
              "</table>\n",
              "</div>"
            ],
            "text/plain": [
              "  date_received           product  ... consumer_disputed? complaint_id\n",
              "0    08/30/2013          Mortgage  ...                Yes       511074\n",
              "1    08/30/2013          Mortgage  ...                Yes       511080\n",
              "2    08/30/2013  Credit reporting  ...                 No       510473\n",
              "3    08/30/2013      Student loan  ...                Yes       510326\n",
              "4    08/30/2013   Debt collection  ...                Yes       511067\n",
              "\n",
              "[5 rows x 18 columns]"
            ]
          },
          "metadata": {},
          "execution_count": 4
        }
      ]
    },
    {
      "cell_type": "code",
      "metadata": {
        "colab": {
          "base_uri": "https://localhost:8080/"
        },
        "id": "aP3sg9DF5UVi",
        "outputId": "6ba3e736-a651-49d4-a25c-fe5bb7f38615"
      },
      "source": [
        "#Training data shape\n",
        "train_raw.shape"
      ],
      "execution_count": null,
      "outputs": [
        {
          "output_type": "execute_result",
          "data": {
            "text/plain": [
              "(555957, 18)"
            ]
          },
          "metadata": {},
          "execution_count": 5
        }
      ]
    },
    {
      "cell_type": "code",
      "metadata": {
        "colab": {
          "base_uri": "https://localhost:8080/"
        },
        "id": "Jr-vmJ_g5UYE",
        "outputId": "cbbe8745-0b1d-48a8-f215-36dcd4b73001"
      },
      "source": [
        "#Preprocessing the data \n",
        "#Extracting only those data whose consumer_complaint_narrative column is not null\n",
        "#columns = 18\n",
        "train_raw = train_raw[train_raw.consumer_complaint_narrative.notnull()]\n",
        "train_raw.shape"
      ],
      "execution_count": null,
      "outputs": [
        {
          "output_type": "execute_result",
          "data": {
            "text/plain": [
              "(66806, 18)"
            ]
          },
          "metadata": {},
          "execution_count": 6
        }
      ]
    },
    {
      "cell_type": "code",
      "metadata": {
        "colab": {
          "base_uri": "https://localhost:8080/",
          "height": 282
        },
        "id": "d8AXktCu6dhX",
        "outputId": "aa212d50-9045-4192-a9ab-fae05ece82c2"
      },
      "source": [
        "#It splits the string into , separated values \n",
        "train_raw.consumer_complaint_narrative.apply(lambda x:len(x.split())).plot(kind='hist')"
      ],
      "execution_count": null,
      "outputs": [
        {
          "output_type": "execute_result",
          "data": {
            "text/plain": [
              "<matplotlib.axes._subplots.AxesSubplot at 0x7f9ebd30bc90>"
            ]
          },
          "metadata": {},
          "execution_count": 7
        },
        {
          "output_type": "display_data",
          "data": {
            "image/png": "[encoded data removed]",
            "text/plain": [
              "<Figure size 432x288 with 1 Axes>"
            ]
          },
          "metadata": {
            "needs_background": "light"
          }
        }
      ]
    },
    {
      "cell_type": "code",
      "metadata": {
        "id": "lvN3HgfKCXlC"
      },
      "source": [
        "train_raw['len_txt'] =train_raw.consumer_complaint_narrative.apply(lambda x: len(x.split()))"
      ],
      "execution_count": null,
      "outputs": []
    },
    {
      "cell_type": "code",
      "metadata": {
        "colab": {
          "base_uri": "https://localhost:8080/",
          "height": 297
        },
        "id": "4NHjucCRCeCS",
        "outputId": "1547b629-593b-4779-b48e-14af6218f77f"
      },
      "source": [
        "train_raw.describe()"
      ],
      "execution_count": null,
      "outputs": [
        {
          "output_type": "execute_result",
          "data": {
            "text/html": [
              "<div>\n",
              "<style scoped>\n",
              "    .dataframe tbody tr th:only-of-type {\n",
              "        vertical-align: middle;\n",
              "    }\n",
              "\n",
              "    .dataframe tbody tr th {\n",
              "        vertical-align: top;\n",
              "    }\n",
              "\n",
              "    .dataframe thead th {\n",
              "        text-align: right;\n",
              "    }\n",
              "</style>\n",
              "<table border=\"1\" class=\"dataframe\">\n",
              "  <thead>\n",
              "    <tr style=\"text-align: right;\">\n",
              "      <th></th>\n",
              "      <th>complaint_id</th>\n",
              "      <th>len_txt</th>\n",
              "    </tr>\n",
              "  </thead>\n",
              "  <tbody>\n",
              "    <tr>\n",
              "      <th>count</th>\n",
              "      <td>6.680600e+04</td>\n",
              "      <td>66806.000000</td>\n",
              "    </tr>\n",
              "    <tr>\n",
              "      <th>mean</th>\n",
              "      <td>1.571665e+06</td>\n",
              "      <td>190.644014</td>\n",
              "    </tr>\n",
              "    <tr>\n",
              "      <th>std</th>\n",
              "      <td>1.545692e+05</td>\n",
              "      <td>166.830597</td>\n",
              "    </tr>\n",
              "    <tr>\n",
              "      <th>min</th>\n",
              "      <td>1.290181e+06</td>\n",
              "      <td>1.000000</td>\n",
              "    </tr>\n",
              "    <tr>\n",
              "      <th>25%</th>\n",
              "      <td>1.443264e+06</td>\n",
              "      <td>71.000000</td>\n",
              "    </tr>\n",
              "    <tr>\n",
              "      <th>50%</th>\n",
              "      <td>1.569485e+06</td>\n",
              "      <td>136.000000</td>\n",
              "    </tr>\n",
              "    <tr>\n",
              "      <th>75%</th>\n",
              "      <td>1.702750e+06</td>\n",
              "      <td>254.000000</td>\n",
              "    </tr>\n",
              "    <tr>\n",
              "      <th>max</th>\n",
              "      <td>1.888608e+06</td>\n",
              "      <td>1284.000000</td>\n",
              "    </tr>\n",
              "  </tbody>\n",
              "</table>\n",
              "</div>"
            ],
            "text/plain": [
              "       complaint_id       len_txt\n",
              "count  6.680600e+04  66806.000000\n",
              "mean   1.571665e+06    190.644014\n",
              "std    1.545692e+05    166.830597\n",
              "min    1.290181e+06      1.000000\n",
              "25%    1.443264e+06     71.000000\n",
              "50%    1.569485e+06    136.000000\n",
              "75%    1.702750e+06    254.000000\n",
              "max    1.888608e+06   1284.000000"
            ]
          },
          "metadata": {},
          "execution_count": 9
        }
      ]
    },
    {
      "cell_type": "code",
      "metadata": {
        "colab": {
          "base_uri": "https://localhost:8080/"
        },
        "id": "OBEkUA71PMLB",
        "outputId": "fa07c042-92cb-4967-dce0-564629d9eebb"
      },
      "source": [
        "train_raw.columns"
      ],
      "execution_count": null,
      "outputs": [
        {
          "output_type": "execute_result",
          "data": {
            "text/plain": [
              "Index(['date_received', 'product', 'sub_product', 'issue', 'sub_issue',\n",
              "       'consumer_complaint_narrative', 'company_public_response', 'company',\n",
              "       'state', 'zipcode', 'tags', 'consumer_consent_provided',\n",
              "       'submitted_via', 'date_sent_to_company', 'company_response_to_consumer',\n",
              "       'timely_response', 'consumer_disputed?', 'complaint_id', 'len_txt'],\n",
              "      dtype='object')"
            ]
          },
          "metadata": {},
          "execution_count": 10
        }
      ]
    },
    {
      "cell_type": "code",
      "metadata": {
        "colab": {
          "base_uri": "https://localhost:8080/"
        },
        "id": "M1CTdhCLCiL6",
        "outputId": "aabd4404-cf81-4efe-c7ea-389e29275856"
      },
      "source": [
        "train_raw.shape"
      ],
      "execution_count": null,
      "outputs": [
        {
          "output_type": "execute_result",
          "data": {
            "text/plain": [
              "(66806, 19)"
            ]
          },
          "metadata": {},
          "execution_count": 11
        }
      ]
    },
    {
      "cell_type": "code",
      "metadata": {
        "colab": {
          "base_uri": "https://localhost:8080/"
        },
        "id": "BrjaAw55ms5q",
        "outputId": "f3324168-3bfc-4597-8d7a-c606b2c807a3"
      },
      "source": [
        "#Select only the rows with more than 250 words \n",
        "train_raw = train_raw[train_raw.len_txt >249]\n",
        "train_raw.shape"
      ],
      "execution_count": null,
      "outputs": [
        {
          "output_type": "execute_result",
          "data": {
            "text/plain": [
              "(17142, 19)"
            ]
          },
          "metadata": {},
          "execution_count": 12
        }
      ]
    },
    {
      "cell_type": "code",
      "metadata": {
        "colab": {
          "base_uri": "https://localhost:8080/",
          "height": 411
        },
        "id": "aADLdVkGPjYi",
        "outputId": "cb092ae3-a736-4b51-d4f8-ba70038f5b26"
      },
      "source": [
        "train_raw.head()"
      ],
      "execution_count": null,
      "outputs": [
        {
          "output_type": "execute_result",
          "data": {
            "text/html": [
              "<div>\n",
              "<style scoped>\n",
              "    .dataframe tbody tr th:only-of-type {\n",
              "        vertical-align: middle;\n",
              "    }\n",
              "\n",
              "    .dataframe tbody tr th {\n",
              "        vertical-align: top;\n",
              "    }\n",
              "\n",
              "    .dataframe thead th {\n",
              "        text-align: right;\n",
              "    }\n",
              "</style>\n",
              "<table border=\"1\" class=\"dataframe\">\n",
              "  <thead>\n",
              "    <tr style=\"text-align: right;\">\n",
              "      <th></th>\n",
              "      <th>date_received</th>\n",
              "      <th>product</th>\n",
              "      <th>sub_product</th>\n",
              "      <th>issue</th>\n",
              "      <th>sub_issue</th>\n",
              "      <th>consumer_complaint_narrative</th>\n",
              "      <th>company_public_response</th>\n",
              "      <th>company</th>\n",
              "      <th>state</th>\n",
              "      <th>zipcode</th>\n",
              "      <th>tags</th>\n",
              "      <th>consumer_consent_provided</th>\n",
              "      <th>submitted_via</th>\n",
              "      <th>date_sent_to_company</th>\n",
              "      <th>company_response_to_consumer</th>\n",
              "      <th>timely_response</th>\n",
              "      <th>consumer_disputed?</th>\n",
              "      <th>complaint_id</th>\n",
              "      <th>len_txt</th>\n",
              "    </tr>\n",
              "  </thead>\n",
              "  <tbody>\n",
              "    <tr>\n",
              "      <th>190155</th>\n",
              "      <td>03/19/2015</td>\n",
              "      <td>Mortgage</td>\n",
              "      <td>Conventional fixed mortgage</td>\n",
              "      <td>Loan modification,collection,foreclosure</td>\n",
              "      <td>NaN</td>\n",
              "      <td>In XX/XX/XXXX my wages that I earned at my job...</td>\n",
              "      <td>NaN</td>\n",
              "      <td>Wells Fargo &amp; Company</td>\n",
              "      <td>CA</td>\n",
              "      <td>946XX</td>\n",
              "      <td>NaN</td>\n",
              "      <td>Consent provided</td>\n",
              "      <td>Web</td>\n",
              "      <td>03/19/2015</td>\n",
              "      <td>Closed with explanation</td>\n",
              "      <td>Yes</td>\n",
              "      <td>Yes</td>\n",
              "      <td>1290524</td>\n",
              "      <td>666</td>\n",
              "    </tr>\n",
              "    <tr>\n",
              "      <th>190208</th>\n",
              "      <td>03/19/2015</td>\n",
              "      <td>Mortgage</td>\n",
              "      <td>Conventional fixed mortgage</td>\n",
              "      <td>Credit decision / Underwriting</td>\n",
              "      <td>NaN</td>\n",
              "      <td>XXXX was submitted XX/XX/XXXX. At the time I s...</td>\n",
              "      <td>NaN</td>\n",
              "      <td>Rushmore Loan Management Services LLC</td>\n",
              "      <td>CA</td>\n",
              "      <td>956XX</td>\n",
              "      <td>Older American</td>\n",
              "      <td>Consent provided</td>\n",
              "      <td>Web</td>\n",
              "      <td>03/19/2015</td>\n",
              "      <td>Closed with explanation</td>\n",
              "      <td>Yes</td>\n",
              "      <td>Yes</td>\n",
              "      <td>1292137</td>\n",
              "      <td>259</td>\n",
              "    </tr>\n",
              "    <tr>\n",
              "      <th>190251</th>\n",
              "      <td>03/19/2015</td>\n",
              "      <td>Mortgage</td>\n",
              "      <td>Conventional fixed mortgage</td>\n",
              "      <td>Loan servicing, payments, escrow account</td>\n",
              "      <td>NaN</td>\n",
              "      <td>I spoke to XXXX of green tree representatives ...</td>\n",
              "      <td>NaN</td>\n",
              "      <td>Ditech Financial LLC</td>\n",
              "      <td>CA</td>\n",
              "      <td>948XX</td>\n",
              "      <td>NaN</td>\n",
              "      <td>Consent provided</td>\n",
              "      <td>Web</td>\n",
              "      <td>03/19/2015</td>\n",
              "      <td>Closed with non-monetary relief</td>\n",
              "      <td>Yes</td>\n",
              "      <td>No</td>\n",
              "      <td>1290534</td>\n",
              "      <td>301</td>\n",
              "    </tr>\n",
              "    <tr>\n",
              "      <th>190263</th>\n",
              "      <td>03/19/2015</td>\n",
              "      <td>Credit card</td>\n",
              "      <td>NaN</td>\n",
              "      <td>Other</td>\n",
              "      <td>NaN</td>\n",
              "      <td>i opened XXXX Bank of America credit cards 15-...</td>\n",
              "      <td>Company chooses not to provide a public response</td>\n",
              "      <td>Bank of America</td>\n",
              "      <td>OR</td>\n",
              "      <td>971XX</td>\n",
              "      <td>NaN</td>\n",
              "      <td>Consent provided</td>\n",
              "      <td>Web</td>\n",
              "      <td>03/19/2015</td>\n",
              "      <td>Closed with monetary relief</td>\n",
              "      <td>Yes</td>\n",
              "      <td>Yes</td>\n",
              "      <td>1292209</td>\n",
              "      <td>780</td>\n",
              "    </tr>\n",
              "    <tr>\n",
              "      <th>190264</th>\n",
              "      <td>03/19/2015</td>\n",
              "      <td>Consumer Loan</td>\n",
              "      <td>Vehicle loan</td>\n",
              "      <td>Taking out the loan or lease</td>\n",
              "      <td>NaN</td>\n",
              "      <td>I applied for a loan with XXXX XXXX and had pu...</td>\n",
              "      <td>NaN</td>\n",
              "      <td>Hyundai Capital America</td>\n",
              "      <td>MS</td>\n",
              "      <td>392XX</td>\n",
              "      <td>NaN</td>\n",
              "      <td>Consent provided</td>\n",
              "      <td>Web</td>\n",
              "      <td>03/19/2015</td>\n",
              "      <td>Closed with explanation</td>\n",
              "      <td>Yes</td>\n",
              "      <td>No</td>\n",
              "      <td>1292159</td>\n",
              "      <td>558</td>\n",
              "    </tr>\n",
              "  </tbody>\n",
              "</table>\n",
              "</div>"
            ],
            "text/plain": [
              "       date_received        product  ... complaint_id len_txt\n",
              "190155    03/19/2015       Mortgage  ...      1290524     666\n",
              "190208    03/19/2015       Mortgage  ...      1292137     259\n",
              "190251    03/19/2015       Mortgage  ...      1290534     301\n",
              "190263    03/19/2015    Credit card  ...      1292209     780\n",
              "190264    03/19/2015  Consumer Loan  ...      1292159     558\n",
              "\n",
              "[5 rows x 19 columns]"
            ]
          },
          "metadata": {},
          "execution_count": 13
        }
      ]
    },
    {
      "cell_type": "code",
      "metadata": {
        "colab": {
          "base_uri": "https://localhost:8080/",
          "height": 204
        },
        "id": "mJ2aeLKnmtQ1",
        "outputId": "26798e7b-fe1a-4457-90a5-91e7f72a4698"
      },
      "source": [
        "#selecting only the consumer_complaint_narrative and product columns\n",
        "train_raw=train_raw[['consumer_complaint_narrative','product']]\n",
        "train_raw.reset_index(inplace=True, drop=True)\n",
        "train_raw.head()"
      ],
      "execution_count": null,
      "outputs": [
        {
          "output_type": "execute_result",
          "data": {
            "text/html": [
              "<div>\n",
              "<style scoped>\n",
              "    .dataframe tbody tr th:only-of-type {\n",
              "        vertical-align: middle;\n",
              "    }\n",
              "\n",
              "    .dataframe tbody tr th {\n",
              "        vertical-align: top;\n",
              "    }\n",
              "\n",
              "    .dataframe thead th {\n",
              "        text-align: right;\n",
              "    }\n",
              "</style>\n",
              "<table border=\"1\" class=\"dataframe\">\n",
              "  <thead>\n",
              "    <tr style=\"text-align: right;\">\n",
              "      <th></th>\n",
              "      <th>consumer_complaint_narrative</th>\n",
              "      <th>product</th>\n",
              "    </tr>\n",
              "  </thead>\n",
              "  <tbody>\n",
              "    <tr>\n",
              "      <th>0</th>\n",
              "      <td>In XX/XX/XXXX my wages that I earned at my job...</td>\n",
              "      <td>Mortgage</td>\n",
              "    </tr>\n",
              "    <tr>\n",
              "      <th>1</th>\n",
              "      <td>XXXX was submitted XX/XX/XXXX. At the time I s...</td>\n",
              "      <td>Mortgage</td>\n",
              "    </tr>\n",
              "    <tr>\n",
              "      <th>2</th>\n",
              "      <td>I spoke to XXXX of green tree representatives ...</td>\n",
              "      <td>Mortgage</td>\n",
              "    </tr>\n",
              "    <tr>\n",
              "      <th>3</th>\n",
              "      <td>i opened XXXX Bank of America credit cards 15-...</td>\n",
              "      <td>Credit card</td>\n",
              "    </tr>\n",
              "    <tr>\n",
              "      <th>4</th>\n",
              "      <td>I applied for a loan with XXXX XXXX and had pu...</td>\n",
              "      <td>Consumer Loan</td>\n",
              "    </tr>\n",
              "  </tbody>\n",
              "</table>\n",
              "</div>"
            ],
            "text/plain": [
              "                        consumer_complaint_narrative        product\n",
              "0  In XX/XX/XXXX my wages that I earned at my job...       Mortgage\n",
              "1  XXXX was submitted XX/XX/XXXX. At the time I s...       Mortgage\n",
              "2  I spoke to XXXX of green tree representatives ...       Mortgage\n",
              "3  i opened XXXX Bank of America credit cards 15-...    Credit card\n",
              "4  I applied for a loan with XXXX XXXX and had pu...  Consumer Loan"
            ]
          },
          "metadata": {},
          "execution_count": 14
        }
      ]
    },
    {
      "cell_type": "code",
      "metadata": {
        "colab": {
          "base_uri": "https://localhost:8080/"
        },
        "id": "Jsevf5_fmtTv",
        "outputId": "42ffdec5-262a-4548-caa5-653946bdaef1"
      },
      "source": [
        "train_raw['product'].unique()"
      ],
      "execution_count": null,
      "outputs": [
        {
          "output_type": "execute_result",
          "data": {
            "text/plain": [
              "array(['Mortgage', 'Credit card', 'Consumer Loan', 'Debt collection',\n",
              "       'Credit reporting', 'Student loan', 'Bank account or service',\n",
              "       'Money transfers', 'Payday loan', 'Prepaid card',\n",
              "       'Other financial service'], dtype=object)"
            ]
          },
          "metadata": {},
          "execution_count": 15
        }
      ]
    },
    {
      "cell_type": "code",
      "metadata": {
        "colab": {
          "base_uri": "https://localhost:8080/",
          "height": 204
        },
        "id": "jm4c126BmtW7",
        "outputId": "cfde8e73-e2a4-4a1c-816c-2bdfb33422ec"
      },
      "source": [
        "#group similar products  dataframe.at = accessing a value using row column pair \n",
        "train_raw.at[train_raw['product']=='Credit reporting','product']= 'Credit reporting, credit repair services, or other personal consumer reports'\n",
        "train_raw.at[train_raw['product'] == 'Credit card', 'product'] = 'Credit card or prepaid card'\n",
        "train_raw.at[train_raw['product'] == 'Prepaid card', 'product'] = 'Credit card or prepaid card'\n",
        "train_raw.at[train_raw['product'] == 'Payday loan', 'product'] = 'Payday loan, title loan, or personal loan'\n",
        "train_raw.at[train_raw['product'] == 'Virtual currency', 'product'] = 'Money transfer, virtual currency, or money service'\n",
        "train_raw.head()"
      ],
      "execution_count": null,
      "outputs": [
        {
          "output_type": "execute_result",
          "data": {
            "text/html": [
              "<div>\n",
              "<style scoped>\n",
              "    .dataframe tbody tr th:only-of-type {\n",
              "        vertical-align: middle;\n",
              "    }\n",
              "\n",
              "    .dataframe tbody tr th {\n",
              "        vertical-align: top;\n",
              "    }\n",
              "\n",
              "    .dataframe thead th {\n",
              "        text-align: right;\n",
              "    }\n",
              "</style>\n",
              "<table border=\"1\" class=\"dataframe\">\n",
              "  <thead>\n",
              "    <tr style=\"text-align: right;\">\n",
              "      <th></th>\n",
              "      <th>consumer_complaint_narrative</th>\n",
              "      <th>product</th>\n",
              "    </tr>\n",
              "  </thead>\n",
              "  <tbody>\n",
              "    <tr>\n",
              "      <th>0</th>\n",
              "      <td>In XX/XX/XXXX my wages that I earned at my job...</td>\n",
              "      <td>Mortgage</td>\n",
              "    </tr>\n",
              "    <tr>\n",
              "      <th>1</th>\n",
              "      <td>XXXX was submitted XX/XX/XXXX. At the time I s...</td>\n",
              "      <td>Mortgage</td>\n",
              "    </tr>\n",
              "    <tr>\n",
              "      <th>2</th>\n",
              "      <td>I spoke to XXXX of green tree representatives ...</td>\n",
              "      <td>Mortgage</td>\n",
              "    </tr>\n",
              "    <tr>\n",
              "      <th>3</th>\n",
              "      <td>i opened XXXX Bank of America credit cards 15-...</td>\n",
              "      <td>Credit card or prepaid card</td>\n",
              "    </tr>\n",
              "    <tr>\n",
              "      <th>4</th>\n",
              "      <td>I applied for a loan with XXXX XXXX and had pu...</td>\n",
              "      <td>Consumer Loan</td>\n",
              "    </tr>\n",
              "  </tbody>\n",
              "</table>\n",
              "</div>"
            ],
            "text/plain": [
              "                        consumer_complaint_narrative                      product\n",
              "0  In XX/XX/XXXX my wages that I earned at my job...                     Mortgage\n",
              "1  XXXX was submitted XX/XX/XXXX. At the time I s...                     Mortgage\n",
              "2  I spoke to XXXX of green tree representatives ...                     Mortgage\n",
              "3  i opened XXXX Bank of America credit cards 15-...  Credit card or prepaid card\n",
              "4  I applied for a loan with XXXX XXXX and had pu...                Consumer Loan"
            ]
          },
          "metadata": {},
          "execution_count": 16
        }
      ]
    },
    {
      "cell_type": "code",
      "metadata": {
        "colab": {
          "base_uri": "https://localhost:8080/"
        },
        "id": "OZdxoRt5mtaH",
        "outputId": "f16ed78f-6912-45d9-c7a9-27842bf0bfa5"
      },
      "source": [
        "train_raw['product'].unique()"
      ],
      "execution_count": null,
      "outputs": [
        {
          "output_type": "execute_result",
          "data": {
            "text/plain": [
              "array(['Mortgage', 'Credit card or prepaid card', 'Consumer Loan',\n",
              "       'Debt collection',\n",
              "       'Credit reporting, credit repair services, or other personal consumer reports',\n",
              "       'Student loan', 'Bank account or service', 'Money transfers',\n",
              "       'Payday loan, title loan, or personal loan',\n",
              "       'Other financial service'], dtype=object)"
            ]
          },
          "metadata": {},
          "execution_count": 17
        }
      ]
    },
    {
      "cell_type": "code",
      "metadata": {
        "colab": {
          "base_uri": "https://localhost:8080/",
          "height": 646
        },
        "id": "znSJSyJuqCDk",
        "outputId": "11eb7933-248b-461a-96bf-989095378152"
      },
      "source": [
        "train_raw['product'].value_counts().sort_values(ascending=False).plot(kind='bar')\n",
        "#unbalanced dataset "
      ],
      "execution_count": null,
      "outputs": [
        {
          "output_type": "execute_result",
          "data": {
            "text/plain": [
              "<matplotlib.axes._subplots.AxesSubplot at 0x7f9ebcd4a890>"
            ]
          },
          "metadata": {},
          "execution_count": 18
        },
        {
          "output_type": "display_data",
          "data": {
            "image/png": "[encoded data removed]",
            "text/plain": [
              "<Figure size 432x288 with 1 Axes>"
            ]
          },
          "metadata": {
            "needs_background": "light"
          }
        }
      ]
    },
    {
      "cell_type": "code",
      "metadata": {
        "colab": {
          "base_uri": "https://localhost:8080/",
          "height": 204
        },
        "id": "K1E6q3i6qMPw",
        "outputId": "1fea7e61-9721-4430-99e9-bc712bde5294"
      },
      "source": [
        "#Renaming the columns \n",
        "train_raw=train_raw.rename(columns = {'consumer_complaint_narrative':'text', 'product':'label'})\n",
        "train_raw.head()"
      ],
      "execution_count": null,
      "outputs": [
        {
          "output_type": "execute_result",
          "data": {
            "text/html": [
              "<div>\n",
              "<style scoped>\n",
              "    .dataframe tbody tr th:only-of-type {\n",
              "        vertical-align: middle;\n",
              "    }\n",
              "\n",
              "    .dataframe tbody tr th {\n",
              "        vertical-align: top;\n",
              "    }\n",
              "\n",
              "    .dataframe thead th {\n",
              "        text-align: right;\n",
              "    }\n",
              "</style>\n",
              "<table border=\"1\" class=\"dataframe\">\n",
              "  <thead>\n",
              "    <tr style=\"text-align: right;\">\n",
              "      <th></th>\n",
              "      <th>text</th>\n",
              "      <th>label</th>\n",
              "    </tr>\n",
              "  </thead>\n",
              "  <tbody>\n",
              "    <tr>\n",
              "      <th>0</th>\n",
              "      <td>In XX/XX/XXXX my wages that I earned at my job...</td>\n",
              "      <td>Mortgage</td>\n",
              "    </tr>\n",
              "    <tr>\n",
              "      <th>1</th>\n",
              "      <td>XXXX was submitted XX/XX/XXXX. At the time I s...</td>\n",
              "      <td>Mortgage</td>\n",
              "    </tr>\n",
              "    <tr>\n",
              "      <th>2</th>\n",
              "      <td>I spoke to XXXX of green tree representatives ...</td>\n",
              "      <td>Mortgage</td>\n",
              "    </tr>\n",
              "    <tr>\n",
              "      <th>3</th>\n",
              "      <td>i opened XXXX Bank of America credit cards 15-...</td>\n",
              "      <td>Credit card or prepaid card</td>\n",
              "    </tr>\n",
              "    <tr>\n",
              "      <th>4</th>\n",
              "      <td>I applied for a loan with XXXX XXXX and had pu...</td>\n",
              "      <td>Consumer Loan</td>\n",
              "    </tr>\n",
              "  </tbody>\n",
              "</table>\n",
              "</div>"
            ],
            "text/plain": [
              "                                                text                        label\n",
              "0  In XX/XX/XXXX my wages that I earned at my job...                     Mortgage\n",
              "1  XXXX was submitted XX/XX/XXXX. At the time I s...                     Mortgage\n",
              "2  I spoke to XXXX of green tree representatives ...                     Mortgage\n",
              "3  i opened XXXX Bank of America credit cards 15-...  Credit card or prepaid card\n",
              "4  I applied for a loan with XXXX XXXX and had pu...                Consumer Loan"
            ]
          },
          "metadata": {},
          "execution_count": 19
        }
      ]
    },
    {
      "cell_type": "code",
      "metadata": {
        "colab": {
          "base_uri": "https://localhost:8080/",
          "height": 204
        },
        "id": "ffaa3mq3qZu5",
        "outputId": "f109c992-3aad-4b75-8e9b-382a9e10f8fe"
      },
      "source": [
        "#changing the categorical value column to integers\n",
        "\n",
        "from sklearn.preprocessing import LabelEncoder\n",
        "\n",
        "LE = LabelEncoder()\n",
        "train_raw['label'] = LE.fit_transform(train_raw['label'])\n",
        "train_raw.head()"
      ],
      "execution_count": null,
      "outputs": [
        {
          "output_type": "execute_result",
          "data": {
            "text/html": [
              "<div>\n",
              "<style scoped>\n",
              "    .dataframe tbody tr th:only-of-type {\n",
              "        vertical-align: middle;\n",
              "    }\n",
              "\n",
              "    .dataframe tbody tr th {\n",
              "        vertical-align: top;\n",
              "    }\n",
              "\n",
              "    .dataframe thead th {\n",
              "        text-align: right;\n",
              "    }\n",
              "</style>\n",
              "<table border=\"1\" class=\"dataframe\">\n",
              "  <thead>\n",
              "    <tr style=\"text-align: right;\">\n",
              "      <th></th>\n",
              "      <th>text</th>\n",
              "      <th>label</th>\n",
              "    </tr>\n",
              "  </thead>\n",
              "  <tbody>\n",
              "    <tr>\n",
              "      <th>0</th>\n",
              "      <td>In XX/XX/XXXX my wages that I earned at my job...</td>\n",
              "      <td>6</td>\n",
              "    </tr>\n",
              "    <tr>\n",
              "      <th>1</th>\n",
              "      <td>XXXX was submitted XX/XX/XXXX. At the time I s...</td>\n",
              "      <td>6</td>\n",
              "    </tr>\n",
              "    <tr>\n",
              "      <th>2</th>\n",
              "      <td>I spoke to XXXX of green tree representatives ...</td>\n",
              "      <td>6</td>\n",
              "    </tr>\n",
              "    <tr>\n",
              "      <th>3</th>\n",
              "      <td>i opened XXXX Bank of America credit cards 15-...</td>\n",
              "      <td>2</td>\n",
              "    </tr>\n",
              "    <tr>\n",
              "      <th>4</th>\n",
              "      <td>I applied for a loan with XXXX XXXX and had pu...</td>\n",
              "      <td>1</td>\n",
              "    </tr>\n",
              "  </tbody>\n",
              "</table>\n",
              "</div>"
            ],
            "text/plain": [
              "                                                text  label\n",
              "0  In XX/XX/XXXX my wages that I earned at my job...      6\n",
              "1  XXXX was submitted XX/XX/XXXX. At the time I s...      6\n",
              "2  I spoke to XXXX of green tree representatives ...      6\n",
              "3  i opened XXXX Bank of America credit cards 15-...      2\n",
              "4  I applied for a loan with XXXX XXXX and had pu...      1"
            ]
          },
          "metadata": {},
          "execution_count": 20
        }
      ]
    },
    {
      "cell_type": "code",
      "metadata": {
        "colab": {
          "base_uri": "https://localhost:8080/"
        },
        "id": "tHif9iOMq4Tc",
        "outputId": "79c05a19-db41-452f-a97c-f3fe4ab5b054"
      },
      "source": [
        "len(np.unique(train_raw['label']))"
      ],
      "execution_count": null,
      "outputs": [
        {
          "output_type": "execute_result",
          "data": {
            "text/plain": [
              "10"
            ]
          },
          "metadata": {},
          "execution_count": 21
        }
      ]
    },
    {
      "cell_type": "code",
      "metadata": {
        "id": "ygzKXiBkq7Qq"
      },
      "source": [
        "#creating the copy of the dataframe\n",
        "#dataframe.copy(deep=True)  ==> This will create a copy and any changes to the copy will not be reflected in the original df\n",
        "train = train_raw.copy()"
      ],
      "execution_count": null,
      "outputs": []
    },
    {
      "cell_type": "code",
      "metadata": {
        "colab": {
          "base_uri": "https://localhost:8080/",
          "height": 204
        },
        "id": "uLDeNP3mrhby",
        "outputId": "5b349aee-f4ae-4749-eba0-c0cc3224c340"
      },
      "source": [
        "#reindexing to create randomness \n",
        "train = train.reindex(np.random.permutation(train.index))\n",
        "train.head()"
      ],
      "execution_count": null,
      "outputs": [
        {
          "output_type": "execute_result",
          "data": {
            "text/html": [
              "<div>\n",
              "<style scoped>\n",
              "    .dataframe tbody tr th:only-of-type {\n",
              "        vertical-align: middle;\n",
              "    }\n",
              "\n",
              "    .dataframe tbody tr th {\n",
              "        vertical-align: top;\n",
              "    }\n",
              "\n",
              "    .dataframe thead th {\n",
              "        text-align: right;\n",
              "    }\n",
              "</style>\n",
              "<table border=\"1\" class=\"dataframe\">\n",
              "  <thead>\n",
              "    <tr style=\"text-align: right;\">\n",
              "      <th></th>\n",
              "      <th>text</th>\n",
              "      <th>label</th>\n",
              "    </tr>\n",
              "  </thead>\n",
              "  <tbody>\n",
              "    <tr>\n",
              "      <th>12519</th>\n",
              "      <td>My card with Continental Finance was compromis...</td>\n",
              "      <td>2</td>\n",
              "    </tr>\n",
              "    <tr>\n",
              "      <th>13045</th>\n",
              "      <td>I am attempting to sell my home and the closin...</td>\n",
              "      <td>6</td>\n",
              "    </tr>\n",
              "    <tr>\n",
              "      <th>7634</th>\n",
              "      <td>On XXXX/XXXX/2015 my lawyer helped me send Ban...</td>\n",
              "      <td>6</td>\n",
              "    </tr>\n",
              "    <tr>\n",
              "      <th>9339</th>\n",
              "      <td>XXXX XXXX, 2015Walmart/Synchrony BankXXXX, GA ...</td>\n",
              "      <td>2</td>\n",
              "    </tr>\n",
              "    <tr>\n",
              "      <th>1484</th>\n",
              "      <td>I had my mortgage loan with XXXX for past 10 y...</td>\n",
              "      <td>6</td>\n",
              "    </tr>\n",
              "  </tbody>\n",
              "</table>\n",
              "</div>"
            ],
            "text/plain": [
              "                                                    text  label\n",
              "12519  My card with Continental Finance was compromis...      2\n",
              "13045  I am attempting to sell my home and the closin...      6\n",
              "7634   On XXXX/XXXX/2015 my lawyer helped me send Ban...      6\n",
              "9339   XXXX XXXX, 2015Walmart/Synchrony BankXXXX, GA ...      2\n",
              "1484   I had my mortgage loan with XXXX for past 10 y...      6"
            ]
          },
          "metadata": {},
          "execution_count": 23
        }
      ]
    },
    {
      "cell_type": "code",
      "metadata": {
        "id": "fLH4GcrFrqF5"
      },
      "source": [
        "#remove the non-alphanumeric characters from the text \n",
        "import re \n",
        "def clean_txt(text):\n",
        "  text = re.sub(\"'\", \"\",text)\n",
        "  text=re.sub(\"(\\\\W)+\",\" \",text)     #() -- to match the sequence inside it , \\-- to escape the special characters , \n",
        "                                     #\\W -- get all the nonalphanumeric characters, + --all the instances \n",
        "\n",
        "  return text"
      ],
      "execution_count": null,
      "outputs": []
    },
    {
      "cell_type": "code",
      "metadata": {
        "colab": {
          "base_uri": "https://localhost:8080/",
          "height": 204
        },
        "id": "4Vbl1bJHuRZO",
        "outputId": "8eb438cb-ef68-4bbd-ac94-1b63925aa47e"
      },
      "source": [
        "train['text']  = train.text.apply(clean_txt)\n",
        "train.head()"
      ],
      "execution_count": null,
      "outputs": [
        {
          "output_type": "execute_result",
          "data": {
            "text/html": [
              "<div>\n",
              "<style scoped>\n",
              "    .dataframe tbody tr th:only-of-type {\n",
              "        vertical-align: middle;\n",
              "    }\n",
              "\n",
              "    .dataframe tbody tr th {\n",
              "        vertical-align: top;\n",
              "    }\n",
              "\n",
              "    .dataframe thead th {\n",
              "        text-align: right;\n",
              "    }\n",
              "</style>\n",
              "<table border=\"1\" class=\"dataframe\">\n",
              "  <thead>\n",
              "    <tr style=\"text-align: right;\">\n",
              "      <th></th>\n",
              "      <th>text</th>\n",
              "      <th>label</th>\n",
              "    </tr>\n",
              "  </thead>\n",
              "  <tbody>\n",
              "    <tr>\n",
              "      <th>12519</th>\n",
              "      <td>My card with Continental Finance was compromis...</td>\n",
              "      <td>2</td>\n",
              "    </tr>\n",
              "    <tr>\n",
              "      <th>13045</th>\n",
              "      <td>I am attempting to sell my home and the closin...</td>\n",
              "      <td>6</td>\n",
              "    </tr>\n",
              "    <tr>\n",
              "      <th>7634</th>\n",
              "      <td>On XXXX XXXX 2015 my lawyer helped me send Ban...</td>\n",
              "      <td>6</td>\n",
              "    </tr>\n",
              "    <tr>\n",
              "      <th>9339</th>\n",
              "      <td>XXXX XXXX 2015Walmart Synchrony BankXXXX GA XX...</td>\n",
              "      <td>2</td>\n",
              "    </tr>\n",
              "    <tr>\n",
              "      <th>1484</th>\n",
              "      <td>I had my mortgage loan with XXXX for past 10 y...</td>\n",
              "      <td>6</td>\n",
              "    </tr>\n",
              "  </tbody>\n",
              "</table>\n",
              "</div>"
            ],
            "text/plain": [
              "                                                    text  label\n",
              "12519  My card with Continental Finance was compromis...      2\n",
              "13045  I am attempting to sell my home and the closin...      6\n",
              "7634   On XXXX XXXX 2015 my lawyer helped me send Ban...      6\n",
              "9339   XXXX XXXX 2015Walmart Synchrony BankXXXX GA XX...      2\n",
              "1484   I had my mortgage loan with XXXX for past 10 y...      6"
            ]
          },
          "metadata": {},
          "execution_count": 25
        }
      ]
    },
    {
      "cell_type": "code",
      "metadata": {
        "colab": {
          "base_uri": "https://localhost:8080/",
          "height": 111
        },
        "id": "70JSI0FzuhvN",
        "outputId": "62844961-2aec-48e0-dd06-65fd4bc9ca12"
      },
      "source": [
        "train.reset_index(drop=True, inplace=True)\n",
        "train.head(2)"
      ],
      "execution_count": null,
      "outputs": [
        {
          "output_type": "execute_result",
          "data": {
            "text/html": [
              "<div>\n",
              "<style scoped>\n",
              "    .dataframe tbody tr th:only-of-type {\n",
              "        vertical-align: middle;\n",
              "    }\n",
              "\n",
              "    .dataframe tbody tr th {\n",
              "        vertical-align: top;\n",
              "    }\n",
              "\n",
              "    .dataframe thead th {\n",
              "        text-align: right;\n",
              "    }\n",
              "</style>\n",
              "<table border=\"1\" class=\"dataframe\">\n",
              "  <thead>\n",
              "    <tr style=\"text-align: right;\">\n",
              "      <th></th>\n",
              "      <th>text</th>\n",
              "      <th>label</th>\n",
              "    </tr>\n",
              "  </thead>\n",
              "  <tbody>\n",
              "    <tr>\n",
              "      <th>0</th>\n",
              "      <td>My card with Continental Finance was compromis...</td>\n",
              "      <td>2</td>\n",
              "    </tr>\n",
              "    <tr>\n",
              "      <th>1</th>\n",
              "      <td>I am attempting to sell my home and the closin...</td>\n",
              "      <td>6</td>\n",
              "    </tr>\n",
              "  </tbody>\n",
              "</table>\n",
              "</div>"
            ],
            "text/plain": [
              "                                                text  label\n",
              "0  My card with Continental Finance was compromis...      2\n",
              "1  I am attempting to sell my home and the closin...      6"
            ]
          },
          "metadata": {},
          "execution_count": 26
        }
      ]
    },
    {
      "cell_type": "code",
      "metadata": {
        "id": "vzNmHwVkuijj"
      },
      "source": [
        "# val.reset_index(drop=True, inplace=True)\n",
        "# val.head(2)"
      ],
      "execution_count": null,
      "outputs": []
    },
    {
      "cell_type": "code",
      "metadata": {
        "id": "A_sCe_oevuy1"
      },
      "source": [
        "# val.shape, train.shape"
      ],
      "execution_count": null,
      "outputs": []
    },
    {
      "cell_type": "code",
      "metadata": {
        "colab": {
          "base_uri": "https://localhost:8080/"
        },
        "id": "5EVcradUvyW5",
        "outputId": "cc5c1e36-e2d7-49f3-d6d4-d951d86624ff"
      },
      "source": [
        "#Installing the BERT module\n",
        "!pip install bert-tensorflow\n",
        "#!pip install bert-for-tf2"
      ],
      "execution_count": null,
      "outputs": [
        {
          "output_type": "stream",
          "name": "stdout",
          "text": [
            "Collecting bert-tensorflow\n",
            "  Downloading bert_tensorflow-1.0.4-py2.py3-none-any.whl (64 kB)\n",
            "\u001b[?25l\r\u001b[K     |█████                           | 10 kB 33.3 MB/s eta 0:00:01\r\u001b[K     |██████████▏                     | 20 kB 39.1 MB/s eta 0:00:01\r\u001b[K     |███████████████▎                | 30 kB 21.6 MB/s eta 0:00:01\r\u001b[K     |████████████████████▍           | 40 kB 17.9 MB/s eta 0:00:01\r\u001b[K     |█████████████████████████▍      | 51 kB 10.5 MB/s eta 0:00:01\r\u001b[K     |██████████████████████████████▌ | 61 kB 10.5 MB/s eta 0:00:01\r\u001b[K     |████████████████████████████████| 64 kB 2.8 MB/s \n",
            "\u001b[?25hRequirement already satisfied: six in /usr/local/lib/python3.7/dist-packages (from bert-tensorflow) (1.15.0)\n",
            "Installing collected packages: bert-tensorflow\n",
            "Successfully installed bert-tensorflow-1.0.4\n"
          ]
        }
      ]
    },
    {
      "cell_type": "code",
      "metadata": {
        "id": "fe6JpJIziH5w"
      },
      "source": [
        "import bert\n",
        "from bert import optimization"
      ],
      "execution_count": null,
      "outputs": []
    },
    {
      "cell_type": "code",
      "metadata": {
        "id": "wVvZleVReEpL"
      },
      "source": [
        "# print(\"Num GPUs Available: \", len(tf.config.list_physical_devices('CPU')))"
      ],
      "execution_count": null,
      "outputs": []
    },
    {
      "cell_type": "code",
      "metadata": {
        "id": "gKD1XwXzisor",
        "colab": {
          "base_uri": "https://localhost:8080/"
        },
        "outputId": "ab46d7f8-8dd9-4fea-ac0e-b29151adefc5"
      },
      "source": [
        "pip install -q tf-models-official==2.4.0"
      ],
      "execution_count": null,
      "outputs": [
        {
          "output_type": "stream",
          "name": "stdout",
          "text": [
            "\u001b[?25l\r\u001b[K     |▎                               | 10 kB 24.2 MB/s eta 0:00:01\r\u001b[K     |▋                               | 20 kB 23.3 MB/s eta 0:00:01\r\u001b[K     |█                               | 30 kB 17.8 MB/s eta 0:00:01\r\u001b[K     |█▏                              | 40 kB 16.2 MB/s eta 0:00:01\r\u001b[K     |█▌                              | 51 kB 7.1 MB/s eta 0:00:01\r\u001b[K     |█▉                              | 61 kB 8.4 MB/s eta 0:00:01\r\u001b[K     |██▏                             | 71 kB 7.9 MB/s eta 0:00:01\r\u001b[K     |██▍                             | 81 kB 8.8 MB/s eta 0:00:01\r\u001b[K     |██▊                             | 92 kB 9.6 MB/s eta 0:00:01\r\u001b[K     |███                             | 102 kB 7.2 MB/s eta 0:00:01\r\u001b[K     |███▍                            | 112 kB 7.2 MB/s eta 0:00:01\r\u001b[K     |███▋                            | 122 kB 7.2 MB/s eta 0:00:01\r\u001b[K     |████                            | 133 kB 7.2 MB/s eta 0:00:01\r\u001b[K     |████▎                           | 143 kB 7.2 MB/s eta 0:00:01\r\u001b[K     |████▋                           | 153 kB 7.2 MB/s eta 0:00:01\r\u001b[K     |████▉                           | 163 kB 7.2 MB/s eta 0:00:01\r\u001b[K     |█████▏                          | 174 kB 7.2 MB/s eta 0:00:01\r\u001b[K     |█████▌                          | 184 kB 7.2 MB/s eta 0:00:01\r\u001b[K     |█████▊                          | 194 kB 7.2 MB/s eta 0:00:01\r\u001b[K     |██████                          | 204 kB 7.2 MB/s eta 0:00:01\r\u001b[K     |██████▍                         | 215 kB 7.2 MB/s eta 0:00:01\r\u001b[K     |██████▊                         | 225 kB 7.2 MB/s eta 0:00:01\r\u001b[K     |███████                         | 235 kB 7.2 MB/s eta 0:00:01\r\u001b[K     |███████▎                        | 245 kB 7.2 MB/s eta 0:00:01\r\u001b[K     |███████▋                        | 256 kB 7.2 MB/s eta 0:00:01\r\u001b[K     |████████                        | 266 kB 7.2 MB/s eta 0:00:01\r\u001b[K     |████████▏                       | 276 kB 7.2 MB/s eta 0:00:01\r\u001b[K     |████████▌                       | 286 kB 7.2 MB/s eta 0:00:01\r\u001b[K     |████████▉                       | 296 kB 7.2 MB/s eta 0:00:01\r\u001b[K     |█████████▏                      | 307 kB 7.2 MB/s eta 0:00:01\r\u001b[K     |█████████▍                      | 317 kB 7.2 MB/s eta 0:00:01\r\u001b[K     |█████████▊                      | 327 kB 7.2 MB/s eta 0:00:01\r\u001b[K     |██████████                      | 337 kB 7.2 MB/s eta 0:00:01\r\u001b[K     |██████████▍                     | 348 kB 7.2 MB/s eta 0:00:01\r\u001b[K     |██████████▋                     | 358 kB 7.2 MB/s eta 0:00:01\r\u001b[K     |███████████                     | 368 kB 7.2 MB/s eta 0:00:01\r\u001b[K     |███████████▎                    | 378 kB 7.2 MB/s eta 0:00:01\r\u001b[K     |███████████▌                    | 389 kB 7.2 MB/s eta 0:00:01\r\u001b[K     |███████████▉                    | 399 kB 7.2 MB/s eta 0:00:01\r\u001b[K     |████████████▏                   | 409 kB 7.2 MB/s eta 0:00:01\r\u001b[K     |████████████▌                   | 419 kB 7.2 MB/s eta 0:00:01\r\u001b[K     |████████████▊                   | 430 kB 7.2 MB/s eta 0:00:01\r\u001b[K     |█████████████                   | 440 kB 7.2 MB/s eta 0:00:01\r\u001b[K     |█████████████▍                  | 450 kB 7.2 MB/s eta 0:00:01\r\u001b[K     |█████████████▊                  | 460 kB 7.2 MB/s eta 0:00:01\r\u001b[K     |██████████████                  | 471 kB 7.2 MB/s eta 0:00:01\r\u001b[K     |██████████████▎                 | 481 kB 7.2 MB/s eta 0:00:01\r\u001b[K     |██████████████▋                 | 491 kB 7.2 MB/s eta 0:00:01\r\u001b[K     |███████████████                 | 501 kB 7.2 MB/s eta 0:00:01\r\u001b[K     |███████████████▏                | 512 kB 7.2 MB/s eta 0:00:01\r\u001b[K     |███████████████▌                | 522 kB 7.2 MB/s eta 0:00:01\r\u001b[K     |███████████████▉                | 532 kB 7.2 MB/s eta 0:00:01\r\u001b[K     |████████████████▏               | 542 kB 7.2 MB/s eta 0:00:01\r\u001b[K     |████████████████▍               | 552 kB 7.2 MB/s eta 0:00:01\r\u001b[K     |████████████████▊               | 563 kB 7.2 MB/s eta 0:00:01\r\u001b[K     |█████████████████               | 573 kB 7.2 MB/s eta 0:00:01\r\u001b[K     |█████████████████▎              | 583 kB 7.2 MB/s eta 0:00:01\r\u001b[K     |█████████████████▋              | 593 kB 7.2 MB/s eta 0:00:01\r\u001b[K     |██████████████████              | 604 kB 7.2 MB/s eta 0:00:01\r\u001b[K     |██████████████████▎             | 614 kB 7.2 MB/s eta 0:00:01\r\u001b[K     |██████████████████▌             | 624 kB 7.2 MB/s eta 0:00:01\r\u001b[K     |██████████████████▉             | 634 kB 7.2 MB/s eta 0:00:01\r\u001b[K     |███████████████████▏            | 645 kB 7.2 MB/s eta 0:00:01\r\u001b[K     |███████████████████▌            | 655 kB 7.2 MB/s eta 0:00:01\r\u001b[K     |███████████████████▊            | 665 kB 7.2 MB/s eta 0:00:01\r\u001b[K     |████████████████████            | 675 kB 7.2 MB/s eta 0:00:01\r\u001b[K     |████████████████████▍           | 686 kB 7.2 MB/s eta 0:00:01\r\u001b[K     |████████████████████▊           | 696 kB 7.2 MB/s eta 0:00:01\r\u001b[K     |█████████████████████           | 706 kB 7.2 MB/s eta 0:00:01\r\u001b[K     |█████████████████████▎          | 716 kB 7.2 MB/s eta 0:00:01\r\u001b[K     |█████████████████████▋          | 727 kB 7.2 MB/s eta 0:00:01\r\u001b[K     |██████████████████████          | 737 kB 7.2 MB/s eta 0:00:01\r\u001b[K     |██████████████████████▏         | 747 kB 7.2 MB/s eta 0:00:01\r\u001b[K     |██████████████████████▌         | 757 kB 7.2 MB/s eta 0:00:01\r\u001b[K     |██████████████████████▉         | 768 kB 7.2 MB/s eta 0:00:01\r\u001b[K     |███████████████████████         | 778 kB 7.2 MB/s eta 0:00:01\r\u001b[K     |███████████████████████▍        | 788 kB 7.2 MB/s eta 0:00:01\r\u001b[K     |███████████████████████▊        | 798 kB 7.2 MB/s eta 0:00:01\r\u001b[K     |████████████████████████        | 808 kB 7.2 MB/s eta 0:00:01\r\u001b[K     |████████████████████████▎       | 819 kB 7.2 MB/s eta 0:00:01\r\u001b[K     |████████████████████████▋       | 829 kB 7.2 MB/s eta 0:00:01\r\u001b[K     |█████████████████████████       | 839 kB 7.2 MB/s eta 0:00:01\r\u001b[K     |█████████████████████████▎      | 849 kB 7.2 MB/s eta 0:00:01\r\u001b[K     |█████████████████████████▌      | 860 kB 7.2 MB/s eta 0:00:01\r\u001b[K     |█████████████████████████▉      | 870 kB 7.2 MB/s eta 0:00:01\r\u001b[K     |██████████████████████████▏     | 880 kB 7.2 MB/s eta 0:00:01\r\u001b[K     |██████████████████████████▌     | 890 kB 7.2 MB/s eta 0:00:01\r\u001b[K     |██████████████████████████▊     | 901 kB 7.2 MB/s eta 0:00:01\r\u001b[K     |███████████████████████████     | 911 kB 7.2 MB/s eta 0:00:01\r\u001b[K     |███████████████████████████▍    | 921 kB 7.2 MB/s eta 0:00:01\r\u001b[K     |███████████████████████████▊    | 931 kB 7.2 MB/s eta 0:00:01\r\u001b[K     |████████████████████████████    | 942 kB 7.2 MB/s eta 0:00:01\r\u001b[K     |████████████████████████████▎   | 952 kB 7.2 MB/s eta 0:00:01\r\u001b[K     |████████████████████████████▋   | 962 kB 7.2 MB/s eta 0:00:01\r\u001b[K     |████████████████████████████▉   | 972 kB 7.2 MB/s eta 0:00:01\r\u001b[K     |█████████████████████████████▏  | 983 kB 7.2 MB/s eta 0:00:01\r\u001b[K     |█████████████████████████████▌  | 993 kB 7.2 MB/s eta 0:00:01\r\u001b[K     |█████████████████████████████▉  | 1.0 MB 7.2 MB/s eta 0:00:01\r\u001b[K     |██████████████████████████████  | 1.0 MB 7.2 MB/s eta 0:00:01\r\u001b[K     |██████████████████████████████▍ | 1.0 MB 7.2 MB/s eta 0:00:01\r\u001b[K     |██████████████████████████████▊ | 1.0 MB 7.2 MB/s eta 0:00:01\r\u001b[K     |███████████████████████████████ | 1.0 MB 7.2 MB/s eta 0:00:01\r\u001b[K     |███████████████████████████████▎| 1.1 MB 7.2 MB/s eta 0:00:01\r\u001b[K     |███████████████████████████████▋| 1.1 MB 7.2 MB/s eta 0:00:01\r\u001b[K     |████████████████████████████████| 1.1 MB 7.2 MB/s eta 0:00:01\r\u001b[K     |████████████████████████████████| 1.1 MB 7.2 MB/s \n",
            "\u001b[K     |████████████████████████████████| 352 kB 77.7 MB/s \n",
            "\u001b[K     |████████████████████████████████| 596 kB 62.9 MB/s \n",
            "\u001b[K     |████████████████████████████████| 1.1 MB 56.1 MB/s \n",
            "\u001b[K     |████████████████████████████████| 43 kB 2.5 MB/s \n",
            "\u001b[K     |████████████████████████████████| 47.6 MB 68 kB/s \n",
            "\u001b[K     |████████████████████████████████| 1.2 MB 91.0 MB/s \n",
            "\u001b[K     |████████████████████████████████| 213 kB 96.2 MB/s \n",
            "\u001b[K     |████████████████████████████████| 99 kB 10.9 MB/s \n",
            "\u001b[?25h  Building wheel for py-cpuinfo (setup.py) ... \u001b[?25l\u001b[?25hdone\n",
            "  Building wheel for seqeval (setup.py) ... \u001b[?25l\u001b[?25hdone\n"
          ]
        }
      ]
    },
    {
      "cell_type": "code",
      "metadata": {
        "id": "3vlcbuQV2KVg"
      },
      "source": [
        "import os\n",
        "\n",
        "import numpy as np\n",
        "import matplotlib.pyplot as plt\n",
        "\n",
        "import tensorflow as tf\n",
        "\n",
        "import tensorflow_hub as hub\n",
        "import tensorflow_datasets as tfds\n",
        "tfds.disable_progress_bar()"
      ],
      "execution_count": null,
      "outputs": []
    },
    {
      "cell_type": "markdown",
      "metadata": {
        "id": "IaasMDd0Pn3P"
      },
      "source": [
        "\n",
        "# Setting The Output Directory for BERT\n",
        "\n"
      ]
    },
    {
      "cell_type": "code",
      "metadata": {
        "colab": {
          "base_uri": "https://localhost:8080/"
        },
        "id": "2XEgt457yd_0",
        "outputId": "e72c383b-a183-4a84-d698-f90936772441"
      },
      "source": [
        "#Setting the output directory for BERT \n",
        "# Set the output directory for saving model file\n",
        "OUTPUT_DIR = '/content/drive/MyDrive/Model_CP_NEW_CC'\n",
        "\n",
        "#@markdown Whether or not to clear/delete the directory and create a new one\n",
        "DO_DELETE = True #@param {type:\"boolean\"}\n",
        "\n",
        "if DO_DELETE:\n",
        "  try:\n",
        "    tf.io.gfile.DeleteRecursively(OUTPUT_DIR)#deletes everything under the directory recursively\n",
        "  except:\n",
        "    pass\n",
        "\n",
        "tf.io.gfile.makedirs(OUTPUT_DIR) #Creates a directory and all parent/intermediate directories.\n",
        "print('***** Model output directory: {} *****'.format(OUTPUT_DIR))"
      ],
      "execution_count": null,
      "outputs": [
        {
          "output_type": "stream",
          "name": "stdout",
          "text": [
            "***** Model output directory: /content/drive/MyDrive/Model_CP_NEW_CC *****\n"
          ]
        }
      ]
    },
    {
      "cell_type": "code",
      "metadata": {
        "colab": {
          "base_uri": "https://localhost:8080/"
        },
        "id": "OP59yHEBy7Pk",
        "outputId": "2d5b1b1c-e165-4c81-9598-f0edf3c392b4"
      },
      "source": [
        "print(\"Training Set Shape :\", train.shape)\n",
        "# print(\"Validation Set Shape :\", val.shape)\n",
        "# print(\"Test Set Shape :\", test.shape)"
      ],
      "execution_count": null,
      "outputs": [
        {
          "output_type": "stream",
          "name": "stdout",
          "text": [
            "Training Set Shape : (17142, 2)\n"
          ]
        }
      ]
    },
    {
      "cell_type": "code",
      "metadata": {
        "colab": {
          "base_uri": "https://localhost:8080/"
        },
        "id": "CRmICBn0y7Sj",
        "outputId": "6e777939-0dcd-4cfe-c23b-ddf4eb526638"
      },
      "source": [
        "DATA_COLUMN = 'text'\n",
        "LABEL_COLUMN = 'label'\n",
        "# The list containing all the classes (train['SECTION'].unique())\n",
        "label_list = [x for x in np.unique(train.label)]\n",
        "label_list"
      ],
      "execution_count": null,
      "outputs": [
        {
          "output_type": "execute_result",
          "data": {
            "text/plain": [
              "[0, 1, 2, 3, 4, 5, 6, 7, 8, 9]"
            ]
          },
          "metadata": {},
          "execution_count": 36
        }
      ]
    },
    {
      "cell_type": "markdown",
      "metadata": {
        "id": "CePX9HTsQvZj"
      },
      "source": [
        "# Splitting the Data into smaller chunks"
      ]
    },
    {
      "cell_type": "code",
      "metadata": {
        "id": "iNg5-wtmy7Vw"
      },
      "source": [
        "#Splitting the data into smaller chunks \n",
        "def get_split(text1):\n",
        "  l_total = []\n",
        "  l_parcial = []\n",
        "  if len(text1.split())//150 >0:\n",
        "    n = len(text1.split())//150\n",
        "  else: \n",
        "    n = 1\n",
        "  for w in range(n):\n",
        "    if w == 0:\n",
        "      l_parcial = text1.split()[:200]\n",
        "      l_total.append(\" \".join(l_parcial))\n",
        "    else:\n",
        "      l_parcial = text1.split()[w*150:w*150 + 200] #overlapping 50 words in every chunks \n",
        "      l_total.append(\" \".join(l_parcial))\n",
        "  return l_total"
      ],
      "execution_count": null,
      "outputs": []
    },
    {
      "cell_type": "code",
      "metadata": {
        "id": "94x90BiKomPv"
      },
      "source": [
        "def get_split_count(text1):\n",
        "  if len(text1.split())//150 >0:\n",
        "    n = len(text1.split())//150\n",
        "  else: \n",
        "    n = 1\n",
        "  return n"
      ],
      "execution_count": null,
      "outputs": []
    },
    {
      "cell_type": "code",
      "metadata": {
        "id": "MZT0Tkphqlc3",
        "colab": {
          "base_uri": "https://localhost:8080/",
          "height": 204
        },
        "outputId": "b76d4701-aaac-4ee8-9965-316331b81b59"
      },
      "source": [
        "train['text_split'] = train[DATA_COLUMN].apply(get_split)\n",
        "train.head()"
      ],
      "execution_count": null,
      "outputs": [
        {
          "output_type": "execute_result",
          "data": {
            "text/html": [
              "<div>\n",
              "<style scoped>\n",
              "    .dataframe tbody tr th:only-of-type {\n",
              "        vertical-align: middle;\n",
              "    }\n",
              "\n",
              "    .dataframe tbody tr th {\n",
              "        vertical-align: top;\n",
              "    }\n",
              "\n",
              "    .dataframe thead th {\n",
              "        text-align: right;\n",
              "    }\n",
              "</style>\n",
              "<table border=\"1\" class=\"dataframe\">\n",
              "  <thead>\n",
              "    <tr style=\"text-align: right;\">\n",
              "      <th></th>\n",
              "      <th>text</th>\n",
              "      <th>label</th>\n",
              "      <th>text_split</th>\n",
              "    </tr>\n",
              "  </thead>\n",
              "  <tbody>\n",
              "    <tr>\n",
              "      <th>0</th>\n",
              "      <td>My card with Continental Finance was compromis...</td>\n",
              "      <td>2</td>\n",
              "      <td>[My card with Continental Finance was compromi...</td>\n",
              "    </tr>\n",
              "    <tr>\n",
              "      <th>1</th>\n",
              "      <td>I am attempting to sell my home and the closin...</td>\n",
              "      <td>6</td>\n",
              "      <td>[I am attempting to sell my home and the closi...</td>\n",
              "    </tr>\n",
              "    <tr>\n",
              "      <th>2</th>\n",
              "      <td>On XXXX XXXX 2015 my lawyer helped me send Ban...</td>\n",
              "      <td>6</td>\n",
              "      <td>[On XXXX XXXX 2015 my lawyer helped me send Ba...</td>\n",
              "    </tr>\n",
              "    <tr>\n",
              "      <th>3</th>\n",
              "      <td>XXXX XXXX 2015Walmart Synchrony BankXXXX GA XX...</td>\n",
              "      <td>2</td>\n",
              "      <td>[XXXX XXXX 2015Walmart Synchrony BankXXXX GA X...</td>\n",
              "    </tr>\n",
              "    <tr>\n",
              "      <th>4</th>\n",
              "      <td>I had my mortgage loan with XXXX for past 10 y...</td>\n",
              "      <td>6</td>\n",
              "      <td>[I had my mortgage loan with XXXX for past 10 ...</td>\n",
              "    </tr>\n",
              "  </tbody>\n",
              "</table>\n",
              "</div>"
            ],
            "text/plain": [
              "                                                text  ...                                         text_split\n",
              "0  My card with Continental Finance was compromis...  ...  [My card with Continental Finance was compromi...\n",
              "1  I am attempting to sell my home and the closin...  ...  [I am attempting to sell my home and the closi...\n",
              "2  On XXXX XXXX 2015 my lawyer helped me send Ban...  ...  [On XXXX XXXX 2015 my lawyer helped me send Ba...\n",
              "3  XXXX XXXX 2015Walmart Synchrony BankXXXX GA XX...  ...  [XXXX XXXX 2015Walmart Synchrony BankXXXX GA X...\n",
              "4  I had my mortgage loan with XXXX for past 10 y...  ...  [I had my mortgage loan with XXXX for past 10 ...\n",
              "\n",
              "[5 rows x 3 columns]"
            ]
          },
          "metadata": {},
          "execution_count": 39
        }
      ]
    },
    {
      "cell_type": "code",
      "metadata": {
        "colab": {
          "base_uri": "https://localhost:8080/",
          "height": 204
        },
        "id": "I1AXyk6R18-5",
        "outputId": "2f544c2e-2f34-4474-d415-cf9630289eb9"
      },
      "source": [
        "train['text_split_count'] = train[DATA_COLUMN].apply(get_split_count)\n",
        "train.head()"
      ],
      "execution_count": null,
      "outputs": [
        {
          "output_type": "execute_result",
          "data": {
            "text/html": [
              "<div>\n",
              "<style scoped>\n",
              "    .dataframe tbody tr th:only-of-type {\n",
              "        vertical-align: middle;\n",
              "    }\n",
              "\n",
              "    .dataframe tbody tr th {\n",
              "        vertical-align: top;\n",
              "    }\n",
              "\n",
              "    .dataframe thead th {\n",
              "        text-align: right;\n",
              "    }\n",
              "</style>\n",
              "<table border=\"1\" class=\"dataframe\">\n",
              "  <thead>\n",
              "    <tr style=\"text-align: right;\">\n",
              "      <th></th>\n",
              "      <th>text</th>\n",
              "      <th>label</th>\n",
              "      <th>text_split</th>\n",
              "      <th>text_split_count</th>\n",
              "    </tr>\n",
              "  </thead>\n",
              "  <tbody>\n",
              "    <tr>\n",
              "      <th>0</th>\n",
              "      <td>My card with Continental Finance was compromis...</td>\n",
              "      <td>2</td>\n",
              "      <td>[My card with Continental Finance was compromi...</td>\n",
              "      <td>2</td>\n",
              "    </tr>\n",
              "    <tr>\n",
              "      <th>1</th>\n",
              "      <td>I am attempting to sell my home and the closin...</td>\n",
              "      <td>6</td>\n",
              "      <td>[I am attempting to sell my home and the closi...</td>\n",
              "      <td>2</td>\n",
              "    </tr>\n",
              "    <tr>\n",
              "      <th>2</th>\n",
              "      <td>On XXXX XXXX 2015 my lawyer helped me send Ban...</td>\n",
              "      <td>6</td>\n",
              "      <td>[On XXXX XXXX 2015 my lawyer helped me send Ba...</td>\n",
              "      <td>4</td>\n",
              "    </tr>\n",
              "    <tr>\n",
              "      <th>3</th>\n",
              "      <td>XXXX XXXX 2015Walmart Synchrony BankXXXX GA XX...</td>\n",
              "      <td>2</td>\n",
              "      <td>[XXXX XXXX 2015Walmart Synchrony BankXXXX GA X...</td>\n",
              "      <td>2</td>\n",
              "    </tr>\n",
              "    <tr>\n",
              "      <th>4</th>\n",
              "      <td>I had my mortgage loan with XXXX for past 10 y...</td>\n",
              "      <td>6</td>\n",
              "      <td>[I had my mortgage loan with XXXX for past 10 ...</td>\n",
              "      <td>2</td>\n",
              "    </tr>\n",
              "  </tbody>\n",
              "</table>\n",
              "</div>"
            ],
            "text/plain": [
              "                                                text  ...  text_split_count\n",
              "0  My card with Continental Finance was compromis...  ...                 2\n",
              "1  I am attempting to sell my home and the closin...  ...                 2\n",
              "2  On XXXX XXXX 2015 my lawyer helped me send Ban...  ...                 4\n",
              "3  XXXX XXXX 2015Walmart Synchrony BankXXXX GA XX...  ...                 2\n",
              "4  I had my mortgage loan with XXXX for past 10 y...  ...                 2\n",
              "\n",
              "[5 rows x 4 columns]"
            ]
          },
          "metadata": {},
          "execution_count": 40
        }
      ]
    },
    {
      "cell_type": "code",
      "metadata": {
        "id": "q_dYA9QVp_Bw"
      },
      "source": [
        "count_1 =0\n",
        "count_2 =0\n",
        "count_3 =0\n",
        "count_4 =0\n",
        "count_5 =0\n",
        "for i in train['text_split_count']:\n",
        "  if i==5:\n",
        "    count_5+=1\n",
        "  if i==1:\n",
        "    count_1+=1\n",
        "  if i==2:\n",
        "    count_2+=1\n",
        "  if i==3:\n",
        "    count_3+=1\n",
        "  if i==4:\n",
        "    count_4+=1"
      ],
      "execution_count": null,
      "outputs": []
    },
    {
      "cell_type": "code",
      "metadata": {
        "colab": {
          "base_uri": "https://localhost:8080/"
        },
        "id": "wYS52j7xrWYL",
        "outputId": "b39f1f19-a35b-4726-d7e9-e4fc7ec786e9"
      },
      "source": [
        "print('count_1 ', count_1)\n",
        "print('count_2 ', count_2)\n",
        "print('count_3 ', count_3)\n",
        "print('count_4 ', count_4)\n",
        "print('count_5 ', count_5)"
      ],
      "execution_count": null,
      "outputs": [
        {
          "output_type": "stream",
          "name": "stdout",
          "text": [
            "count_1  4045\n",
            "count_2  6873\n",
            "count_3  3264\n",
            "count_4  2758\n",
            "count_5  202\n"
          ]
        }
      ]
    },
    {
      "cell_type": "code",
      "metadata": {
        "id": "ak0SX4L-60Jj"
      },
      "source": [
        "test_set = train[(train['text_split_count'] == 4)]"
      ],
      "execution_count": null,
      "outputs": []
    },
    {
      "cell_type": "code",
      "metadata": {
        "colab": {
          "base_uri": "https://localhost:8080/"
        },
        "id": "ptt53MwTANg0",
        "outputId": "eeaf66f8-5d10-4db7-b589-bb87784595b2"
      },
      "source": [
        "train.shape , test_set.shape"
      ],
      "execution_count": null,
      "outputs": [
        {
          "output_type": "execute_result",
          "data": {
            "text/plain": [
              "((17142, 4), (2758, 4))"
            ]
          },
          "metadata": {},
          "execution_count": 44
        }
      ]
    },
    {
      "cell_type": "code",
      "metadata": {
        "id": "glqzPgSG60Mz"
      },
      "source": [
        "train = train[(train['text_split_count'].isin([1,2,3,5]))]"
      ],
      "execution_count": null,
      "outputs": []
    },
    {
      "cell_type": "code",
      "metadata": {
        "colab": {
          "base_uri": "https://localhost:8080/"
        },
        "id": "EOHCerEeAWPQ",
        "outputId": "a636ef24-8478-4ef1-adb9-ec7266804596"
      },
      "source": [
        "train.shape"
      ],
      "execution_count": null,
      "outputs": [
        {
          "output_type": "execute_result",
          "data": {
            "text/plain": [
              "(14384, 4)"
            ]
          },
          "metadata": {},
          "execution_count": 46
        }
      ]
    },
    {
      "cell_type": "code",
      "metadata": {
        "colab": {
          "base_uri": "https://localhost:8080/",
          "height": 204
        },
        "id": "XYkYPXkquWPq",
        "outputId": "aa5ac2fc-44d1-4e8a-b9c6-3601b49ba236"
      },
      "source": [
        "from sklearn.model_selection import train_test_split\n",
        "train, val = train_test_split(train, test_size=0.2, random_state=35)\n",
        "train.head()"
      ],
      "execution_count": null,
      "outputs": [
        {
          "output_type": "execute_result",
          "data": {
            "text/html": [
              "<div>\n",
              "<style scoped>\n",
              "    .dataframe tbody tr th:only-of-type {\n",
              "        vertical-align: middle;\n",
              "    }\n",
              "\n",
              "    .dataframe tbody tr th {\n",
              "        vertical-align: top;\n",
              "    }\n",
              "\n",
              "    .dataframe thead th {\n",
              "        text-align: right;\n",
              "    }\n",
              "</style>\n",
              "<table border=\"1\" class=\"dataframe\">\n",
              "  <thead>\n",
              "    <tr style=\"text-align: right;\">\n",
              "      <th></th>\n",
              "      <th>text</th>\n",
              "      <th>label</th>\n",
              "      <th>text_split</th>\n",
              "      <th>text_split_count</th>\n",
              "    </tr>\n",
              "  </thead>\n",
              "  <tbody>\n",
              "    <tr>\n",
              "      <th>16866</th>\n",
              "      <td>I was informed today after an excessive runaro...</td>\n",
              "      <td>6</td>\n",
              "      <td>[I was informed today after an excessive runar...</td>\n",
              "      <td>2</td>\n",
              "    </tr>\n",
              "    <tr>\n",
              "      <th>12461</th>\n",
              "      <td>I have a loan with New American Funding with a...</td>\n",
              "      <td>6</td>\n",
              "      <td>[I have a loan with New American Funding with ...</td>\n",
              "      <td>3</td>\n",
              "    </tr>\n",
              "    <tr>\n",
              "      <th>15195</th>\n",
              "      <td>I refinanced my loan with Greenlight Loans a d...</td>\n",
              "      <td>6</td>\n",
              "      <td>[I refinanced my loan with Greenlight Loans a ...</td>\n",
              "      <td>2</td>\n",
              "    </tr>\n",
              "    <tr>\n",
              "      <th>2372</th>\n",
              "      <td>Our mortgage was acquired by Bank of America w...</td>\n",
              "      <td>6</td>\n",
              "      <td>[Our mortgage was acquired by Bank of America ...</td>\n",
              "      <td>2</td>\n",
              "    </tr>\n",
              "    <tr>\n",
              "      <th>7817</th>\n",
              "      <td>I WAS ASSESSED ATTORNEY FEES ON XXXX XXXX 15 1...</td>\n",
              "      <td>6</td>\n",
              "      <td>[I WAS ASSESSED ATTORNEY FEES ON XXXX XXXX 15 ...</td>\n",
              "      <td>2</td>\n",
              "    </tr>\n",
              "  </tbody>\n",
              "</table>\n",
              "</div>"
            ],
            "text/plain": [
              "                                                    text  ...  text_split_count\n",
              "16866  I was informed today after an excessive runaro...  ...                 2\n",
              "12461  I have a loan with New American Funding with a...  ...                 3\n",
              "15195  I refinanced my loan with Greenlight Loans a d...  ...                 2\n",
              "2372   Our mortgage was acquired by Bank of America w...  ...                 2\n",
              "7817   I WAS ASSESSED ATTORNEY FEES ON XXXX XXXX 15 1...  ...                 2\n",
              "\n",
              "[5 rows x 4 columns]"
            ]
          },
          "metadata": {},
          "execution_count": 47
        }
      ]
    },
    {
      "cell_type": "code",
      "metadata": {
        "colab": {
          "base_uri": "https://localhost:8080/"
        },
        "id": "wTW6UL7MAkpg",
        "outputId": "25a1523b-0b95-412f-b54c-bfbf778c7800"
      },
      "source": [
        "train.shape, val.shape, test_set.shape"
      ],
      "execution_count": null,
      "outputs": [
        {
          "output_type": "execute_result",
          "data": {
            "text/plain": [
              "((11507, 4), (2877, 4), (2758, 4))"
            ]
          },
          "metadata": {},
          "execution_count": 48
        }
      ]
    },
    {
      "cell_type": "code",
      "metadata": {
        "colab": {
          "base_uri": "https://localhost:8080/"
        },
        "id": "Emmt1I-U19EH",
        "outputId": "e3c1e71d-23c9-4a0b-97cf-927e7bf2726d"
      },
      "source": [
        "train_l = []\n",
        "label_l = []\n",
        "index_l =[]\n",
        "for idx,row in train.iterrows():\n",
        "  for l in row['text_split']:  #it is going to create list of training chunks with label and index mapping \n",
        "    train_l.append(l)\n",
        "    label_l.append(row['label'])\n",
        "    index_l.append(idx)\n",
        "len(train_l), len(label_l), len(index_l)"
      ],
      "execution_count": null,
      "outputs": [
        {
          "output_type": "execute_result",
          "data": {
            "text/plain": [
              "(22871, 22871, 22871)"
            ]
          },
          "metadata": {},
          "execution_count": 49
        }
      ]
    },
    {
      "cell_type": "code",
      "metadata": {
        "colab": {
          "base_uri": "https://localhost:8080/"
        },
        "id": "uENg5e4E19G7",
        "outputId": "3a1da2a5-a8d8-4377-d1cb-70f794fe3c29"
      },
      "source": [
        "\n",
        "val_l = []\n",
        "val_label_l = []\n",
        "val_index_l = []\n",
        "for idx,row in val.iterrows():\n",
        "  for l in row['text_split']:\n",
        "    val_l.append(l)\n",
        "    val_label_l.append(row['label'])\n",
        "    val_index_l.append(idx)\n",
        "len(val_l), len(val_label_l), len(val_index_l)"
      ],
      "execution_count": null,
      "outputs": [
        {
          "output_type": "execute_result",
          "data": {
            "text/plain": [
              "(5722, 5722, 5722)"
            ]
          },
          "metadata": {},
          "execution_count": 50
        }
      ]
    },
    {
      "cell_type": "code",
      "metadata": {
        "colab": {
          "base_uri": "https://localhost:8080/"
        },
        "id": "YyTmuUM9AuQ8",
        "outputId": "99201a50-2a96-4afe-8d0e-de56eb723b06"
      },
      "source": [
        "test_l = []\n",
        "test_label_l = []\n",
        "test_index_l = []\n",
        "for idx,row in test_set.iterrows():\n",
        "  for l in row['text_split']:\n",
        "    test_l.append(l)\n",
        "    test_label_l.append(row['label'])\n",
        "    test_index_l.append(idx)\n",
        "len(test_l), len(test_label_l), len(test_index_l)"
      ],
      "execution_count": null,
      "outputs": [
        {
          "output_type": "execute_result",
          "data": {
            "text/plain": [
              "(11032, 11032, 11032)"
            ]
          },
          "metadata": {},
          "execution_count": 51
        }
      ]
    },
    {
      "cell_type": "code",
      "metadata": {
        "colab": {
          "base_uri": "https://localhost:8080/",
          "height": 204
        },
        "id": "51RfS2C519JW",
        "outputId": "f3757022-7951-4942-90b7-5317d2d88b7a"
      },
      "source": [
        "train_df = pd.DataFrame({DATA_COLUMN:train_l, LABEL_COLUMN:label_l})\n",
        "train_df.head()"
      ],
      "execution_count": null,
      "outputs": [
        {
          "output_type": "execute_result",
          "data": {
            "text/html": [
              "<div>\n",
              "<style scoped>\n",
              "    .dataframe tbody tr th:only-of-type {\n",
              "        vertical-align: middle;\n",
              "    }\n",
              "\n",
              "    .dataframe tbody tr th {\n",
              "        vertical-align: top;\n",
              "    }\n",
              "\n",
              "    .dataframe thead th {\n",
              "        text-align: right;\n",
              "    }\n",
              "</style>\n",
              "<table border=\"1\" class=\"dataframe\">\n",
              "  <thead>\n",
              "    <tr style=\"text-align: right;\">\n",
              "      <th></th>\n",
              "      <th>text</th>\n",
              "      <th>label</th>\n",
              "    </tr>\n",
              "  </thead>\n",
              "  <tbody>\n",
              "    <tr>\n",
              "      <th>0</th>\n",
              "      <td>I was informed today after an excessive runaro...</td>\n",
              "      <td>6</td>\n",
              "    </tr>\n",
              "    <tr>\n",
              "      <th>1</th>\n",
              "      <td>I had been sending 1300 00 a month every month...</td>\n",
              "      <td>6</td>\n",
              "    </tr>\n",
              "    <tr>\n",
              "      <th>2</th>\n",
              "      <td>I have a loan with New American Funding with a...</td>\n",
              "      <td>6</td>\n",
              "    </tr>\n",
              "    <tr>\n",
              "      <th>3</th>\n",
              "      <td>and was told that due to the new payment syste...</td>\n",
              "      <td>6</td>\n",
              "    </tr>\n",
              "    <tr>\n",
              "      <th>4</th>\n",
              "      <td>or I was made to understand so and it appears ...</td>\n",
              "      <td>6</td>\n",
              "    </tr>\n",
              "  </tbody>\n",
              "</table>\n",
              "</div>"
            ],
            "text/plain": [
              "                                                text  label\n",
              "0  I was informed today after an excessive runaro...      6\n",
              "1  I had been sending 1300 00 a month every month...      6\n",
              "2  I have a loan with New American Funding with a...      6\n",
              "3  and was told that due to the new payment syste...      6\n",
              "4  or I was made to understand so and it appears ...      6"
            ]
          },
          "metadata": {},
          "execution_count": 52
        }
      ]
    },
    {
      "cell_type": "code",
      "metadata": {
        "colab": {
          "base_uri": "https://localhost:8080/",
          "height": 204
        },
        "id": "mot-Nwv6y7Zz",
        "outputId": "804a7de2-8050-4422-becd-c131b1660600"
      },
      "source": [
        "val_df = pd.DataFrame({DATA_COLUMN:val_l, LABEL_COLUMN:val_label_l})\n",
        "val_df.head()"
      ],
      "execution_count": null,
      "outputs": [
        {
          "output_type": "execute_result",
          "data": {
            "text/html": [
              "<div>\n",
              "<style scoped>\n",
              "    .dataframe tbody tr th:only-of-type {\n",
              "        vertical-align: middle;\n",
              "    }\n",
              "\n",
              "    .dataframe tbody tr th {\n",
              "        vertical-align: top;\n",
              "    }\n",
              "\n",
              "    .dataframe thead th {\n",
              "        text-align: right;\n",
              "    }\n",
              "</style>\n",
              "<table border=\"1\" class=\"dataframe\">\n",
              "  <thead>\n",
              "    <tr style=\"text-align: right;\">\n",
              "      <th></th>\n",
              "      <th>text</th>\n",
              "      <th>label</th>\n",
              "    </tr>\n",
              "  </thead>\n",
              "  <tbody>\n",
              "    <tr>\n",
              "      <th>0</th>\n",
              "      <td>I have a XXXX mileage plus credit card with JP...</td>\n",
              "      <td>2</td>\n",
              "    </tr>\n",
              "    <tr>\n",
              "      <th>1</th>\n",
              "      <td>does nt notify or disclosure their behaviors o...</td>\n",
              "      <td>2</td>\n",
              "    </tr>\n",
              "    <tr>\n",
              "      <th>2</th>\n",
              "      <td>This correspondence is in reference to XXXX I ...</td>\n",
              "      <td>0</td>\n",
              "    </tr>\n",
              "    <tr>\n",
              "      <th>3</th>\n",
              "      <td>again calledc on XXXX of XXXX and payment stil...</td>\n",
              "      <td>0</td>\n",
              "    </tr>\n",
              "    <tr>\n",
              "      <th>4</th>\n",
              "      <td>I previously had an identity theft situation X...</td>\n",
              "      <td>4</td>\n",
              "    </tr>\n",
              "  </tbody>\n",
              "</table>\n",
              "</div>"
            ],
            "text/plain": [
              "                                                text  label\n",
              "0  I have a XXXX mileage plus credit card with JP...      2\n",
              "1  does nt notify or disclosure their behaviors o...      2\n",
              "2  This correspondence is in reference to XXXX I ...      0\n",
              "3  again calledc on XXXX of XXXX and payment stil...      0\n",
              "4  I previously had an identity theft situation X...      4"
            ]
          },
          "metadata": {},
          "execution_count": 53
        }
      ]
    },
    {
      "cell_type": "code",
      "metadata": {
        "colab": {
          "base_uri": "https://localhost:8080/",
          "height": 204
        },
        "id": "jWiGIXgBA1F-",
        "outputId": "e0df7d84-7fd1-4885-da1f-58cf2d462ec0"
      },
      "source": [
        "test_df = pd.DataFrame({DATA_COLUMN:test_l, LABEL_COLUMN:test_label_l})\n",
        "test_df.head()"
      ],
      "execution_count": null,
      "outputs": [
        {
          "output_type": "execute_result",
          "data": {
            "text/html": [
              "<div>\n",
              "<style scoped>\n",
              "    .dataframe tbody tr th:only-of-type {\n",
              "        vertical-align: middle;\n",
              "    }\n",
              "\n",
              "    .dataframe tbody tr th {\n",
              "        vertical-align: top;\n",
              "    }\n",
              "\n",
              "    .dataframe thead th {\n",
              "        text-align: right;\n",
              "    }\n",
              "</style>\n",
              "<table border=\"1\" class=\"dataframe\">\n",
              "  <thead>\n",
              "    <tr style=\"text-align: right;\">\n",
              "      <th></th>\n",
              "      <th>text</th>\n",
              "      <th>label</th>\n",
              "    </tr>\n",
              "  </thead>\n",
              "  <tbody>\n",
              "    <tr>\n",
              "      <th>0</th>\n",
              "      <td>On XXXX XXXX 2015 my lawyer helped me send Ban...</td>\n",
              "      <td>6</td>\n",
              "    </tr>\n",
              "    <tr>\n",
              "      <th>1</th>\n",
              "      <td>Copy of good faith estimate estimated and fina...</td>\n",
              "      <td>6</td>\n",
              "    </tr>\n",
              "    <tr>\n",
              "      <th>2</th>\n",
              "      <td>On XXXX XXXX 2015 after 14 business days XXXX ...</td>\n",
              "      <td>6</td>\n",
              "    </tr>\n",
              "    <tr>\n",
              "      <th>3</th>\n",
              "      <td>a XXXX page letter sent XXXX XXXX Mail stating...</td>\n",
              "      <td>6</td>\n",
              "    </tr>\n",
              "    <tr>\n",
              "      <th>4</th>\n",
              "      <td>This information is true correct complete not ...</td>\n",
              "      <td>3</td>\n",
              "    </tr>\n",
              "  </tbody>\n",
              "</table>\n",
              "</div>"
            ],
            "text/plain": [
              "                                                text  label\n",
              "0  On XXXX XXXX 2015 my lawyer helped me send Ban...      6\n",
              "1  Copy of good faith estimate estimated and fina...      6\n",
              "2  On XXXX XXXX 2015 after 14 business days XXXX ...      6\n",
              "3  a XXXX page letter sent XXXX XXXX Mail stating...      6\n",
              "4  This information is true correct complete not ...      3"
            ]
          },
          "metadata": {},
          "execution_count": 54
        }
      ]
    },
    {
      "cell_type": "code",
      "metadata": {
        "colab": {
          "base_uri": "https://localhost:8080/"
        },
        "id": "H_X8tjRSA6Ow",
        "outputId": "0daaa5fd-a29b-4b09-f348-9d0fe7bfda98"
      },
      "source": [
        "print('train_df shape : ',train_df.shape)\n",
        "print('val_df shape : ',val_df.shape)\n",
        "print('test_df shape : ',test_df.shape)"
      ],
      "execution_count": null,
      "outputs": [
        {
          "output_type": "stream",
          "name": "stdout",
          "text": [
            "train_df shape :  (22871, 2)\n",
            "val_df shape :  (5722, 2)\n",
            "test_df shape :  (11032, 2)\n"
          ]
        }
      ]
    },
    {
      "cell_type": "markdown",
      "metadata": {
        "id": "gGlfUu51SQ1c"
      },
      "source": [
        "# BERT: Data Preprocessing"
      ]
    },
    {
      "cell_type": "code",
      "metadata": {
        "id": "-DgdKAVs6LZ-"
      },
      "source": [
        "#BERT - Data Preprocessing\n",
        "#//**Note-BELOW ONE IS NOT WORKING AS THE CLASS \"INPUTEXAMPLE\" IS PRESENT ONLY THE BERT-TENSORFLOW VERSION 1.0.1 **\n",
        "#train_InputExamples = train_df.apply(lambda x: bert.run_classifier.InputExample(guid=None,\n",
        "                                                       #            text_a = x[DATA_COLUMN], \n",
        "                                                       #            text_b = None, \n",
        "                                                       #            label = x[LABEL_COLUMN]), axis = 1)\n",
        "#AttributeError: module 'official.nlp.bert.run_classifier' has no attribute 'InputExample'\n",
        "#Getting the above error , so we are using an alternate method to create BERT dataframe \n",
        "\n",
        "#Reference : https://towardsdatascience.com/beginners-guide-to-bert-for-multi-classification-task-92f5445c2d7c"
      ],
      "execution_count": null,
      "outputs": []
    },
    {
      "cell_type": "code",
      "metadata": {
        "id": "KbTf_A0G6nbf"
      },
      "source": [
        "#create a new dataframe for train, dev data \n",
        "#<DO NOT USE THIS ONE>\n",
        "# train_InputExamples = pd.DataFrame({'guid': None,\n",
        "#     'text_a': train_df[DATA_COLUMN],\n",
        "#     'text_b': None,\n",
        "#     'label': train_df[LABEL_COLUMN]})"
      ],
      "execution_count": null,
      "outputs": []
    },
    {
      "cell_type": "code",
      "metadata": {
        "id": "dXw5J4InCivr"
      },
      "source": [
        "# train_InputExamples"
      ],
      "execution_count": null,
      "outputs": []
    },
    {
      "cell_type": "code",
      "metadata": {
        "id": "QVaG-mW2CmTi"
      },
      "source": [
        "\n",
        "# print(\"Row 0 - guid of training set : \", train_InputExamples.iloc[0].guid)\n",
        "# print(\"\\n__________\\nRow 0 - text_a of training set : \", train_InputExamples.iloc[0].text_a)\n",
        "# print(\"\\n__________\\nRow 0 - text_b of training set : \", train_InputExamples.iloc[0].text_b)\n",
        "# print(\"\\n__________\\nRow 0 - label of training set : \", train_InputExamples.iloc[0].label)"
      ],
      "execution_count": null,
      "outputs": []
    },
    {
      "cell_type": "code",
      "metadata": {
        "id": "bx8mzU2qCsdc"
      },
      "source": [
        "#Second refrence \n",
        "#https://colab.research.google.com/github/dipanjanS/nlp_workshop_odsc19/blob/master/Module05%20-%20NLP%20Applications/Project07E%20-%20Text%20Classification%20with%20BERT%20Deep%20Transfer%20Learning.ipynb#scrollTo=MZ-eiTcDZ6Jw"
      ],
      "execution_count": null,
      "outputs": []
    },
    {
      "cell_type": "code",
      "metadata": {
        "id": "OFqwAgdEDMR8"
      },
      "source": [
        "class PaddingInputExample(object):\n",
        "      pass\n",
        "\n",
        "class InputExample(object):\n",
        "    \"\"\"A single training/test example for simple sequence classification.\"\"\"\n",
        "\n",
        "    def __init__(self, guid, text_a, text_b=None, label=None):\n",
        "        \n",
        "        \"\"\"Constructs a InputExample.\n",
        "    Args:\n",
        "      guid: Unique id for the example.\n",
        "      text_a: string. The untokenized text of the first sequence. For single\n",
        "        sequence tasks, only this sequence must be specified.\n",
        "      text_b: (Optional) string. The untokenized text of the second sequence.\n",
        "        Only must be specified for sequence pair tasks.\n",
        "      label: (Optional) string. The label of the example. This should be\n",
        "        specified for train and dev examples, but not for test examples.\n",
        "    \"\"\"\n",
        "        self.guid = guid\n",
        "        self.text_a = text_a\n",
        "        self.text_b = text_b\n",
        "        self.label = label"
      ],
      "execution_count": null,
      "outputs": []
    },
    {
      "cell_type": "code",
      "metadata": {
        "id": "Vegh-oReDMUw"
      },
      "source": [
        "train_InputExamples_1 = train_df.apply(lambda x: InputExample(guid=None,\n",
        "                                                                  text_a = x[DATA_COLUMN], \n",
        "                                                                  text_b = None, \n",
        "                                                                  label = x[LABEL_COLUMN]), axis = 1)"
      ],
      "execution_count": null,
      "outputs": []
    },
    {
      "cell_type": "code",
      "metadata": {
        "colab": {
          "base_uri": "https://localhost:8080/"
        },
        "id": "0Lwdle-FDMXj",
        "outputId": "20f27803-2761-4d35-d096-99fea69793ec"
      },
      "source": [
        "train_InputExamples_1"
      ],
      "execution_count": null,
      "outputs": [
        {
          "output_type": "execute_result",
          "data": {
            "text/plain": [
              "0        <__main__.InputExample object at 0x7f9e3d69af50>\n",
              "1        <__main__.InputExample object at 0x7f9ea64f1250>\n",
              "2        <__main__.InputExample object at 0x7f9e3d0cda50>\n",
              "3        <__main__.InputExample object at 0x7f9ea8bc4890>\n",
              "4        <__main__.InputExample object at 0x7f9e3cde6310>\n",
              "                               ...                       \n",
              "22866    <__main__.InputExample object at 0x7f9e3c8e6bd0>\n",
              "22867    <__main__.InputExample object at 0x7f9e3c8e6c10>\n",
              "22868    <__main__.InputExample object at 0x7f9e3c8e6c50>\n",
              "22869    <__main__.InputExample object at 0x7f9e3c8e6c90>\n",
              "22870    <__main__.InputExample object at 0x7f9e3c8e6cd0>\n",
              "Length: 22871, dtype: object"
            ]
          },
          "metadata": {},
          "execution_count": 63
        }
      ]
    },
    {
      "cell_type": "code",
      "metadata": {
        "colab": {
          "base_uri": "https://localhost:8080/"
        },
        "id": "splGqF_aDbjm",
        "outputId": "ed633a35-dc60-4bf2-a987-ef9291761348"
      },
      "source": [
        "print(\"Row 0 - guid of training set : \", train_InputExamples_1.iloc[0].guid)\n",
        "print(\"\\n__________\\nRow 0 - text_a of training set : \", train_InputExamples_1.iloc[0].text_a)\n",
        "print(\"\\n__________\\nRow 0 - text_b of training set : \", train_InputExamples_1.iloc[0].text_b)\n",
        "print(\"\\n__________\\nRow 0 - label of training set : \", train_InputExamples_1.iloc[0].label)"
      ],
      "execution_count": null,
      "outputs": [
        {
          "output_type": "stream",
          "name": "stdout",
          "text": [
            "Row 0 - guid of training set :  None\n",
            "\n",
            "__________\n",
            "Row 0 - text_a of training set :  I was informed today after an excessive runaround that XXXX XXXX transferred my loan to NationStar This was incredibly shocking to me since I was NEVER notified in ANY way XXXX has had my up to date contact information because I have received tax info from the company in the past Why I was not notified of my loan going to another company I can not understand When I finally spoke with a NationStar representative I found out I was transferred to NationStar XX XX XXXX They received payment for a couplemonths then it stopped Apparently XXXX XXXX never gave them the correct contact info for me either so they were never able to get in touch with me to tell me about the transfer of my loan or how they were not receiving the payments I was sending I was then informed I was 8500 00 behind And yet I had been sending 1300 00 a month every month and NEVER missed a payment actual mortgage payment 9500 00 I understand XXXX may have forwarded XX XX XXXX XX XX XXXX to NS That still leaves XXXX months of payments unaccounted for That is 11000 00 XXXX XXXX has\n",
            "\n",
            "__________\n",
            "Row 0 - text_b of training set :  None\n",
            "\n",
            "__________\n",
            "Row 0 - label of training set :  6\n"
          ]
        }
      ]
    },
    {
      "cell_type": "code",
      "metadata": {
        "id": "5QGCTIhmDpoZ"
      },
      "source": [
        "val_InputExamples_1 = val_df.apply(lambda x: InputExample(guid=None, \n",
        "                                                                   text_a = x[DATA_COLUMN], \n",
        "                                                                   text_b = None, \n",
        "                                                                   label = x[LABEL_COLUMN]), axis = 1)"
      ],
      "execution_count": null,
      "outputs": []
    },
    {
      "cell_type": "code",
      "metadata": {
        "id": "7JpyhQuLBBtX"
      },
      "source": [
        "test_InputExamples_1 = test_df.apply(lambda x: InputExample(guid=None, \n",
        "                                                                   text_a = x[DATA_COLUMN], \n",
        "                                                                   text_b = None, \n",
        "                                                                   label = x[LABEL_COLUMN]), axis = 1)"
      ],
      "execution_count": null,
      "outputs": []
    },
    {
      "cell_type": "markdown",
      "metadata": {
        "id": "lUbc22wTTvkQ"
      },
      "source": [
        "# BERT: Loading the pre-trained model"
      ]
    },
    {
      "cell_type": "code",
      "metadata": {
        "id": "HY899GClFwCm"
      },
      "source": [
        "# import tensorflow.compat.v1 as tf\n",
        "# #To make tf 2.0 compatible with tf1.0 code, we disable the tf2.0 functionalities\n",
        "# tf.disable_eager_execution()"
      ],
      "execution_count": null,
      "outputs": []
    },
    {
      "cell_type": "code",
      "metadata": {
        "id": "KTTvwSajjwY-"
      },
      "source": [
        "##We are creatung the tokens to gorm the vocabulary which inturn is ued to represent the words\n",
        "#BERT: Loading the pre-trained model\n",
        "# bert_layer = hub.KerasLayer(\"https://tfhub.dev/tensorflow/bert_en_uncased_L-12_H-768_A-12/1\",trainable=True)\n",
        "\n",
        "# vocab_file = bert_layer.resolved_object.vocab_file.asset_path.numpy()\n",
        "# do_lower_case = bert_layer.resolved_object.do_lower_case.numpy()\n",
        "# tokenizer = FullTokenizer(vocab_file, do_lower_case)"
      ],
      "execution_count": null,
      "outputs": []
    },
    {
      "cell_type": "code",
      "metadata": {
        "id": "mrU7bGvtjiQp"
      },
      "source": [
        "#len(tokenizer.vocab.keys())"
      ],
      "execution_count": null,
      "outputs": []
    },
    {
      "cell_type": "code",
      "metadata": {
        "id": "ZUuRNANekAzz"
      },
      "source": [
        "#Here is what the tokenised sample of the first training set observation looks like\n",
        "#print(tokenizer.tokenize(train_InputExamples_1.iloc[0].text_a))"
      ],
      "execution_count": null,
      "outputs": []
    },
    {
      "cell_type": "code",
      "metadata": {
        "id": "UAdJ0xafpTMd"
      },
      "source": [
        "#BERT_MODEL_HUB = \"https://tfhub.dev/google/bert_uncased_L-12_H-768_A-12/1\""
      ],
      "execution_count": null,
      "outputs": []
    },
    {
      "cell_type": "code",
      "metadata": {
        "id": "BO7PECyJRh37"
      },
      "source": [
        "import official.nlp.bert.tokenization as tokenization"
      ],
      "execution_count": null,
      "outputs": []
    },
    {
      "cell_type": "code",
      "metadata": {
        "id": "EWFFUaGwDyVv",
        "colab": {
          "base_uri": "https://localhost:8080/"
        },
        "outputId": "73c94997-856f-4c5f-b132-3e247724cd28"
      },
      "source": [
        "# ##We are creatung the tokens to gorm the vocabulary which inturn is ued to represent the words\n",
        "# #BERT: Loading the pre-trained model\n",
        "# This is a path to an uncased (all lowercase) version of BERT\n",
        "BERT_MODEL_HUB = \"https://tfhub.dev/google/bert_uncased_L-12_H-768_A-12/1\"\n",
        "\n",
        "def create_tokenizer_from_hub_module():\n",
        "  \"\"\"Get the vocab file and casing info from the Hub module.\"\"\"\n",
        "  with tf.Graph().as_default():\n",
        "    bert_module = hub.Module(BERT_MODEL_HUB)\n",
        "    tokenization_info = bert_module(signature=\"tokenization_info\", as_dict=True)\n",
        "    with tf.compat.v1.Session() as sess:\n",
        "      vocab_file, do_lower_case = sess.run([tokenization_info[\"vocab_file\"],\n",
        "                                            tokenization_info[\"do_lower_case\"]])\n",
        "      \n",
        "  return tokenization.FullTokenizer(\n",
        "      vocab_file=vocab_file, do_lower_case=do_lower_case)\n",
        "\n",
        "tokenizer = create_tokenizer_from_hub_module()"
      ],
      "execution_count": null,
      "outputs": [
        {
          "output_type": "stream",
          "name": "stdout",
          "text": [
            "INFO:tensorflow:Saver not created because there are no variables in the graph to restore\n"
          ]
        },
        {
          "output_type": "stream",
          "name": "stderr",
          "text": [
            "INFO:tensorflow:Saver not created because there are no variables in the graph to restore\n"
          ]
        }
      ]
    },
    {
      "cell_type": "code",
      "metadata": {
        "colab": {
          "base_uri": "https://localhost:8080/"
        },
        "id": "dttRQBafVA1q",
        "outputId": "56a93e39-8567-47ab-87f3-32c0b3d352a7"
      },
      "source": [
        "len(tokenizer.vocab.keys())"
      ],
      "execution_count": null,
      "outputs": [
        {
          "output_type": "execute_result",
          "data": {
            "text/plain": [
              "30522"
            ]
          },
          "metadata": {},
          "execution_count": 74
        }
      ]
    },
    {
      "cell_type": "code",
      "metadata": {
        "colab": {
          "base_uri": "https://localhost:8080/"
        },
        "id": "a1WjG5m1GOQ4",
        "outputId": "fb9ccad1-2e64-41a0-c77a-8c39e2edaafa"
      },
      "source": [
        "print(tokenizer.tokenize(train_InputExamples_1.iloc[0].text_a))"
      ],
      "execution_count": null,
      "outputs": [
        {
          "output_type": "stream",
          "name": "stdout",
          "text": [
            "['i', 'was', 'informed', 'today', 'after', 'an', 'excessive', 'run', '##around', 'that', 'xx', '##xx', 'xx', '##xx', 'transferred', 'my', 'loan', 'to', 'nations', '##tar', 'this', 'was', 'incredibly', 'shocking', 'to', 'me', 'since', 'i', 'was', 'never', 'notified', 'in', 'any', 'way', 'xx', '##xx', 'has', 'had', 'my', 'up', 'to', 'date', 'contact', 'information', 'because', 'i', 'have', 'received', 'tax', 'info', 'from', 'the', 'company', 'in', 'the', 'past', 'why', 'i', 'was', 'not', 'notified', 'of', 'my', 'loan', 'going', 'to', 'another', 'company', 'i', 'can', 'not', 'understand', 'when', 'i', 'finally', 'spoke', 'with', 'a', 'nations', '##tar', 'representative', 'i', 'found', 'out', 'i', 'was', 'transferred', 'to', 'nations', '##tar', 'xx', 'xx', 'xx', '##xx', 'they', 'received', 'payment', 'for', 'a', 'couple', '##mont', '##hs', 'then', 'it', 'stopped', 'apparently', 'xx', '##xx', 'xx', '##xx', 'never', 'gave', 'them', 'the', 'correct', 'contact', 'info', 'for', 'me', 'either', 'so', 'they', 'were', 'never', 'able', 'to', 'get', 'in', 'touch', 'with', 'me', 'to', 'tell', 'me', 'about', 'the', 'transfer', 'of', 'my', 'loan', 'or', 'how', 'they', 'were', 'not', 'receiving', 'the', 'payments', 'i', 'was', 'sending', 'i', 'was', 'then', 'informed', 'i', 'was', '850', '##0', '00', 'behind', 'and', 'yet', 'i', 'had', 'been', 'sending', '1300', '00', 'a', 'month', 'every', 'month', 'and', 'never', 'missed', 'a', 'payment', 'actual', 'mortgage', 'payment', '950', '##0', '00', 'i', 'understand', 'xx', '##xx', 'may', 'have', 'forward', '##ed', 'xx', 'xx', 'xx', '##xx', 'xx', 'xx', 'xx', '##xx', 'to', 'ns', 'that', 'still', 'leaves', 'xx', '##xx', 'months', 'of', 'payments', 'una', '##cco', '##unt', '##ed', 'for', 'that', 'is', '1100', '##0', '00', 'xx', '##xx', 'xx', '##xx', 'has']\n"
          ]
        }
      ]
    },
    {
      "cell_type": "code",
      "metadata": {
        "id": "Do9OnHpRGJqp"
      },
      "source": [
        "#Defining Input features \n",
        "class InputFeatures(object):\n",
        "  \"\"\"A single set of features of data.\"\"\"\n",
        "\n",
        "  def __init__(self,\n",
        "               input_ids,\n",
        "               input_mask,\n",
        "               segment_ids,\n",
        "               label_id,\n",
        "               is_real_example=True):\n",
        "    self.input_ids = input_ids\n",
        "    self.input_mask = input_mask\n",
        "    self.segment_ids = segment_ids\n",
        "    self.label_id = label_id\n",
        "    self.is_real_example = is_real_example"
      ],
      "execution_count": null,
      "outputs": []
    },
    {
      "cell_type": "code",
      "metadata": {
        "id": "LMCVuhwOVwE3"
      },
      "source": [
        "def convert_single_example(tokenizer, example, max_seq_length=256):\n",
        "    \"\"\"Converts a single `InputExample` into a single `InputFeatures`.\"\"\"\n",
        "\n",
        "    if isinstance(example, PaddingInputExample):                             # In case of padding\n",
        "        input_ids = [0] * max_seq_length\n",
        "        input_mask = [0] * max_seq_length\n",
        "        segment_ids = [0] * max_seq_length\n",
        "        label = 0\n",
        "        return input_ids, input_mask, segment_ids, label\n",
        "\n",
        "    tokens_a = tokenizer.tokenize(example.text_a)\n",
        "    if len(tokens_a) > max_seq_length - 2:\n",
        "        tokens_a = tokens_a[0 : (max_seq_length - 2)]\n",
        "\n",
        "    tokens = []\n",
        "    segment_ids = []\n",
        "    tokens.append(\"[CLS]\")\n",
        "    segment_ids.append(0)\n",
        "    for token in tokens_a:\n",
        "        tokens.append(token)\n",
        "        segment_ids.append(0)\n",
        "    tokens.append(\"[SEP]\")\n",
        "    segment_ids.append(0)\n",
        "\n",
        "    input_ids = tokenizer.convert_tokens_to_ids(tokens)                      # mapping tokens to ids\n",
        "\n",
        "    # The mask has 1 for real tokens and 0 for padding tokens. Only real\n",
        "    # tokens are attended to.\n",
        "    input_mask = [1] * len(input_ids)\n",
        "\n",
        "    # Zero-pad up to the sequence length.\n",
        "    while len(input_ids) < max_seq_length:\n",
        "        input_ids.append(0)\n",
        "        input_mask.append(0)\n",
        "        segment_ids.append(0)\n",
        "\n",
        "    assert len(input_ids) == max_seq_length\n",
        "    assert len(input_mask) == max_seq_length\n",
        "    assert len(segment_ids) == max_seq_length\n",
        "\n",
        "    return input_ids, input_mask, segment_ids, example.label"
      ],
      "execution_count": null,
      "outputs": []
    },
    {
      "cell_type": "code",
      "metadata": {
        "id": "5cReEa_6GJtc"
      },
      "source": [
        "# Convert our train and validation features to InputFeatures that BERT understands.\n",
        "# train_features = bert.run_classifier.convert_examples_to_features(train_InputExamples_1, label_list, MAX_SEQ_LENGTH, tokenizer)\n",
        "\n",
        "# val_features = bert.run_classifier.convert_examples_to_features(val_InputExamples_1, label_list, MAX_SEQ_LENGTH, tokenizer)"
      ],
      "execution_count": null,
      "outputs": []
    },
    {
      "cell_type": "code",
      "metadata": {
        "id": "rBbW4pfSKjfR"
      },
      "source": [
        "def convert_examples_to_features(tokenizer, examples, max_seq_length=200):\n",
        "    \"\"\"Convert a set of `InputExample`s to a list of `InputFeatures`.\"\"\"\n",
        "\n",
        "    input_ids, input_masks, segment_ids, labels, features = [], [], [], [],[]\n",
        "    for example in tqdm.tqdm(examples, desc=\"Converting examples to features\"):\n",
        "        input_id, input_mask, segment_id, label = convert_single_example(\n",
        "            tokenizer, example, max_seq_length\n",
        "        )\n",
        "\n",
        "        input_ids.append(input_id)\n",
        "        input_masks.append(input_mask)\n",
        "        segment_ids.append(segment_id)\n",
        "        labels.append(label)\n",
        "\n",
        "        feature = InputFeatures(input_ids=input_id,\n",
        "        input_mask=input_mask,\n",
        "        segment_ids=segment_id,\n",
        "        label_id=label,\n",
        "        is_real_example=True)\n",
        "\n",
        "        features.append(feature)\n",
        "    # return(\n",
        "    #     np.array(input_ids),\n",
        "    #     np.array(input_masks),\n",
        "    #     np.array(segment_ids),\n",
        "    #     np.array(labels).reshape(-1, 1),\n",
        "    # )\n",
        "    return features"
      ],
      "execution_count": null,
      "outputs": []
    },
    {
      "cell_type": "code",
      "metadata": {
        "id": "p9vdlwHPV9Nk"
      },
      "source": [
        "import tqdm"
      ],
      "execution_count": null,
      "outputs": []
    },
    {
      "cell_type": "code",
      "metadata": {
        "colab": {
          "base_uri": "https://localhost:8080/"
        },
        "id": "WSjQpmcAGJ0t",
        "outputId": "7739c7db-b4f4-4269-dcd5-1769e65dc0b8"
      },
      "source": [
        "# Convert our train and validation features to InputFeatures that BERT understands.\n",
        "MAX_SEQ_LENGTH = 200\n",
        "train_features = convert_examples_to_features(tokenizer, train_InputExamples_1, MAX_SEQ_LENGTH)\n",
        "\n",
        "val_features = convert_examples_to_features(tokenizer, val_InputExamples_1, MAX_SEQ_LENGTH)\n",
        "\n",
        "test_features = convert_examples_to_features(tokenizer, test_InputExamples_1, MAX_SEQ_LENGTH)"
      ],
      "execution_count": null,
      "outputs": [
        {
          "output_type": "stream",
          "name": "stderr",
          "text": [
            "Converting examples to features: 100%|██████████| 22871/22871 [01:14<00:00, 307.88it/s]\n",
            "Converting examples to features: 100%|██████████| 5722/5722 [00:18<00:00, 307.95it/s]\n",
            "Converting examples to features: 100%|██████████| 11032/11032 [00:36<00:00, 302.18it/s]\n"
          ]
        }
      ]
    },
    {
      "cell_type": "code",
      "metadata": {
        "colab": {
          "base_uri": "https://localhost:8080/"
        },
        "id": "aDzWg7l1oXi9",
        "outputId": "c90f1bf9-e026-4b62-e7e5-ad00b8093e19"
      },
      "source": [
        "print(\"Sentence : \", train_InputExamples_1.iloc[0].text_a)\n",
        "print(\"-\"*30)\n",
        "print(\"Tokens : \", tokenizer.tokenize(train_InputExamples_1.iloc[0].text_a))\n",
        "print(\"-\"*30)\n",
        "print(\"Input IDs : \", train_features[0].input_ids)\n",
        "print(\"-\"*30)\n",
        "print(\"Input Masks : \", train_features[0].input_mask)\n",
        "print(\"-\"*30)\n",
        "print(\"Segment IDs : \", train_features[0].segment_ids)"
      ],
      "execution_count": null,
      "outputs": [
        {
          "output_type": "stream",
          "name": "stdout",
          "text": [
            "Sentence :  I was informed today after an excessive runaround that XXXX XXXX transferred my loan to NationStar This was incredibly shocking to me since I was NEVER notified in ANY way XXXX has had my up to date contact information because I have received tax info from the company in the past Why I was not notified of my loan going to another company I can not understand When I finally spoke with a NationStar representative I found out I was transferred to NationStar XX XX XXXX They received payment for a couplemonths then it stopped Apparently XXXX XXXX never gave them the correct contact info for me either so they were never able to get in touch with me to tell me about the transfer of my loan or how they were not receiving the payments I was sending I was then informed I was 8500 00 behind And yet I had been sending 1300 00 a month every month and NEVER missed a payment actual mortgage payment 9500 00 I understand XXXX may have forwarded XX XX XXXX XX XX XXXX to NS That still leaves XXXX months of payments unaccounted for That is 11000 00 XXXX XXXX has\n",
            "------------------------------\n",
            "Tokens :  ['i', 'was', 'informed', 'today', 'after', 'an', 'excessive', 'run', '##around', 'that', 'xx', '##xx', 'xx', '##xx', 'transferred', 'my', 'loan', 'to', 'nations', '##tar', 'this', 'was', 'incredibly', 'shocking', 'to', 'me', 'since', 'i', 'was', 'never', 'notified', 'in', 'any', 'way', 'xx', '##xx', 'has', 'had', 'my', 'up', 'to', 'date', 'contact', 'information', 'because', 'i', 'have', 'received', 'tax', 'info', 'from', 'the', 'company', 'in', 'the', 'past', 'why', 'i', 'was', 'not', 'notified', 'of', 'my', 'loan', 'going', 'to', 'another', 'company', 'i', 'can', 'not', 'understand', 'when', 'i', 'finally', 'spoke', 'with', 'a', 'nations', '##tar', 'representative', 'i', 'found', 'out', 'i', 'was', 'transferred', 'to', 'nations', '##tar', 'xx', 'xx', 'xx', '##xx', 'they', 'received', 'payment', 'for', 'a', 'couple', '##mont', '##hs', 'then', 'it', 'stopped', 'apparently', 'xx', '##xx', 'xx', '##xx', 'never', 'gave', 'them', 'the', 'correct', 'contact', 'info', 'for', 'me', 'either', 'so', 'they', 'were', 'never', 'able', 'to', 'get', 'in', 'touch', 'with', 'me', 'to', 'tell', 'me', 'about', 'the', 'transfer', 'of', 'my', 'loan', 'or', 'how', 'they', 'were', 'not', 'receiving', 'the', 'payments', 'i', 'was', 'sending', 'i', 'was', 'then', 'informed', 'i', 'was', '850', '##0', '00', 'behind', 'and', 'yet', 'i', 'had', 'been', 'sending', '1300', '00', 'a', 'month', 'every', 'month', 'and', 'never', 'missed', 'a', 'payment', 'actual', 'mortgage', 'payment', '950', '##0', '00', 'i', 'understand', 'xx', '##xx', 'may', 'have', 'forward', '##ed', 'xx', 'xx', 'xx', '##xx', 'xx', 'xx', 'xx', '##xx', 'to', 'ns', 'that', 'still', 'leaves', 'xx', '##xx', 'months', 'of', 'payments', 'una', '##cco', '##unt', '##ed', 'for', 'that', 'is', '1100', '##0', '00', 'xx', '##xx', 'xx', '##xx', 'has']\n",
            "------------------------------\n",
            "Input IDs :  [101, 1045, 2001, 6727, 2651, 2044, 2019, 11664, 2448, 24490, 2008, 22038, 20348, 22038, 20348, 4015, 2026, 5414, 2000, 3741, 7559, 2023, 2001, 11757, 16880, 2000, 2033, 2144, 1045, 2001, 2196, 19488, 1999, 2151, 2126, 22038, 20348, 2038, 2018, 2026, 2039, 2000, 3058, 3967, 2592, 2138, 1045, 2031, 2363, 4171, 18558, 2013, 1996, 2194, 1999, 1996, 2627, 2339, 1045, 2001, 2025, 19488, 1997, 2026, 5414, 2183, 2000, 2178, 2194, 1045, 2064, 2025, 3305, 2043, 1045, 2633, 3764, 2007, 1037, 3741, 7559, 4387, 1045, 2179, 2041, 1045, 2001, 4015, 2000, 3741, 7559, 22038, 22038, 22038, 20348, 2027, 2363, 7909, 2005, 1037, 3232, 9629, 7898, 2059, 2009, 3030, 4593, 22038, 20348, 22038, 20348, 2196, 2435, 2068, 1996, 6149, 3967, 18558, 2005, 2033, 2593, 2061, 2027, 2020, 2196, 2583, 2000, 2131, 1999, 3543, 2007, 2033, 2000, 2425, 2033, 2055, 1996, 4651, 1997, 2026, 5414, 2030, 2129, 2027, 2020, 2025, 4909, 1996, 10504, 1045, 2001, 6016, 1045, 2001, 2059, 6727, 1045, 2001, 15678, 2692, 4002, 2369, 1998, 2664, 1045, 2018, 2042, 6016, 19527, 4002, 1037, 3204, 2296, 3204, 1998, 2196, 4771, 1037, 7909, 5025, 14344, 7909, 20317, 2692, 4002, 1045, 3305, 22038, 20348, 2089, 2031, 2830, 2098, 22038, 22038, 22038, 20348, 22038, 22038, 102]\n",
            "------------------------------\n",
            "Input Masks :  [1, 1, 1, 1, 1, 1, 1, 1, 1, 1, 1, 1, 1, 1, 1, 1, 1, 1, 1, 1, 1, 1, 1, 1, 1, 1, 1, 1, 1, 1, 1, 1, 1, 1, 1, 1, 1, 1, 1, 1, 1, 1, 1, 1, 1, 1, 1, 1, 1, 1, 1, 1, 1, 1, 1, 1, 1, 1, 1, 1, 1, 1, 1, 1, 1, 1, 1, 1, 1, 1, 1, 1, 1, 1, 1, 1, 1, 1, 1, 1, 1, 1, 1, 1, 1, 1, 1, 1, 1, 1, 1, 1, 1, 1, 1, 1, 1, 1, 1, 1, 1, 1, 1, 1, 1, 1, 1, 1, 1, 1, 1, 1, 1, 1, 1, 1, 1, 1, 1, 1, 1, 1, 1, 1, 1, 1, 1, 1, 1, 1, 1, 1, 1, 1, 1, 1, 1, 1, 1, 1, 1, 1, 1, 1, 1, 1, 1, 1, 1, 1, 1, 1, 1, 1, 1, 1, 1, 1, 1, 1, 1, 1, 1, 1, 1, 1, 1, 1, 1, 1, 1, 1, 1, 1, 1, 1, 1, 1, 1, 1, 1, 1, 1, 1, 1, 1, 1, 1, 1, 1, 1, 1, 1, 1, 1, 1, 1, 1, 1, 1]\n",
            "------------------------------\n",
            "Segment IDs :  [0, 0, 0, 0, 0, 0, 0, 0, 0, 0, 0, 0, 0, 0, 0, 0, 0, 0, 0, 0, 0, 0, 0, 0, 0, 0, 0, 0, 0, 0, 0, 0, 0, 0, 0, 0, 0, 0, 0, 0, 0, 0, 0, 0, 0, 0, 0, 0, 0, 0, 0, 0, 0, 0, 0, 0, 0, 0, 0, 0, 0, 0, 0, 0, 0, 0, 0, 0, 0, 0, 0, 0, 0, 0, 0, 0, 0, 0, 0, 0, 0, 0, 0, 0, 0, 0, 0, 0, 0, 0, 0, 0, 0, 0, 0, 0, 0, 0, 0, 0, 0, 0, 0, 0, 0, 0, 0, 0, 0, 0, 0, 0, 0, 0, 0, 0, 0, 0, 0, 0, 0, 0, 0, 0, 0, 0, 0, 0, 0, 0, 0, 0, 0, 0, 0, 0, 0, 0, 0, 0, 0, 0, 0, 0, 0, 0, 0, 0, 0, 0, 0, 0, 0, 0, 0, 0, 0, 0, 0, 0, 0, 0, 0, 0, 0, 0, 0, 0, 0, 0, 0, 0, 0, 0, 0, 0, 0, 0, 0, 0, 0, 0, 0, 0, 0, 0, 0, 0, 0, 0, 0, 0, 0, 0, 0, 0, 0, 0, 0, 0]\n"
          ]
        }
      ]
    },
    {
      "cell_type": "code",
      "metadata": {
        "id": "TJ943C4bWMK2"
      },
      "source": [
        "def create_model(is_predicting, input_ids, input_mask, segment_ids, labels,\n",
        "                 num_labels):\n",
        "  \n",
        "  bert_module = hub.Module(\n",
        "      BERT_MODEL_HUB,\n",
        "      trainable=True)\n",
        "  bert_inputs = dict(\n",
        "      input_ids=input_ids,\n",
        "      input_mask=input_mask,\n",
        "      segment_ids=segment_ids)\n",
        "  bert_outputs = bert_module(\n",
        "      inputs=bert_inputs,\n",
        "      signature=\"tokens\",\n",
        "      as_dict=True)\n",
        "\n",
        "  # Use \"pooled_output\" for classification tasks on an entire sentence.\n",
        "  # Use \"sequence_outputs\" for token-level output.\n",
        "  output_layer = bert_outputs[\"pooled_output\"]\n",
        "  # with tf.Session() as sess:\n",
        "  output_layer1 = bert_outputs[\"pooled_output\"]\n",
        "  # output_layer1 = 999\n",
        "  hidden_size = output_layer.shape[-1]\n",
        "\n",
        "  # Create our own layer to tune for politeness data.\n",
        "  output_weights = tf.get_variable(\n",
        "      \"output_weights\", [num_labels, hidden_size],\n",
        "      initializer=tf.truncated_normal_initializer(stddev=0.02))\n",
        "\n",
        "  output_bias = tf.get_variable(\n",
        "      \"output_bias\", [num_labels], initializer=tf.zeros_initializer())\n",
        "\n",
        "  with tf.variable_scope(\"loss\"):\n",
        "\n",
        "    # Dropout helps prevent overfitting\n",
        "    output_layer = tf.nn.dropout(output_layer, keep_prob=0.8)\n",
        "\n",
        "    logits = tf.matmul(output_layer, output_weights, transpose_b=True)\n",
        "    logits = tf.nn.bias_add(logits, output_bias)\n",
        "    log_probs = tf.nn.log_softmax(logits, axis=-1)\n",
        "\n",
        "    # Convert labels into one-hot encoding\n",
        "    one_hot_labels = tf.one_hot(labels, depth=num_labels, dtype=tf.float32)\n",
        "\n",
        "    predicted_labels = tf.squeeze(tf.argmax(log_probs, axis=-1, output_type=tf.int32))\n",
        "    # If we're predicting, we want predicted labels and the probabiltiies.\n",
        "    if is_predicting:\n",
        "      return (predicted_labels, log_probs, output_layer1)\n",
        "\n",
        "    # If we're train/eval, compute loss between predicted and actual label\n",
        "    per_example_loss = -tf.reduce_sum(one_hot_labels * log_probs, axis=-1)\n",
        "    loss = tf.reduce_mean(per_example_loss)\n",
        "    return (loss, predicted_labels, log_probs)"
      ],
      "execution_count": null,
      "outputs": []
    },
    {
      "cell_type": "code",
      "metadata": {
        "id": "97j2dxcMWQXu"
      },
      "source": [
        "def model_fn_builder(num_labels, learning_rate, num_train_steps,\n",
        "                     num_warmup_steps):\n",
        "  \"\"\"Returns `model_fn` closure for TPUEstimator.\"\"\"\n",
        "  def model_fn(features, labels, mode, params):  # pylint: disable=unused-argument\n",
        "    \"\"\"The `model_fn` for TPUEstimator.\"\"\"\n",
        "\n",
        "    input_ids = features[\"input_ids\"]\n",
        "    input_mask = features[\"input_mask\"]\n",
        "    segment_ids = features[\"segment_ids\"]\n",
        "    label_ids = features[\"label_ids\"]\n",
        "\n",
        "    is_predicting = (mode == tf.estimator.ModeKeys.PREDICT)\n",
        "    \n",
        "    # TRAIN and EVAL\n",
        "    if not is_predicting:\n",
        "\n",
        "      (loss, predicted_labels, log_probs) = create_model(\n",
        "        is_predicting, input_ids, input_mask, segment_ids, label_ids, num_labels)\n",
        "\n",
        "      train_op = bert.optimization.create_optimizer(\n",
        "          loss, learning_rate, num_train_steps, num_warmup_steps, use_tpu=False)\n",
        "\n",
        "      # Calculate evaluation metrics. \n",
        "      def metric_fn(label_ids, predicted_labels):\n",
        "        accuracy = tf.metrics.accuracy(label_ids, predicted_labels)\n",
        "        true_pos = tf.metrics.true_positives(\n",
        "            label_ids,\n",
        "            predicted_labels)\n",
        "        true_neg = tf.metrics.true_negatives(\n",
        "            label_ids,\n",
        "            predicted_labels)   \n",
        "        false_pos = tf.metrics.false_positives(\n",
        "            label_ids,\n",
        "            predicted_labels)  \n",
        "        false_neg = tf.metrics.false_negatives(\n",
        "            label_ids,\n",
        "            predicted_labels)\n",
        "        \n",
        "        return {\n",
        "            \"eval_accuracy\": accuracy,\n",
        "            \"true_positives\": true_pos,\n",
        "            \"true_negatives\": true_neg,\n",
        "            \"false_positives\": false_pos,\n",
        "            \"false_negatives\": false_neg,\n",
        "            }\n",
        "\n",
        "      eval_metrics = metric_fn(label_ids, predicted_labels)\n",
        "\n",
        "      if mode == tf.estimator.ModeKeys.TRAIN:\n",
        "        return tf.estimator.EstimatorSpec(mode=mode,\n",
        "          loss=loss,\n",
        "          train_op=train_op)\n",
        "      else:\n",
        "          return tf.estimator.EstimatorSpec(mode=mode,\n",
        "            loss=loss,\n",
        "            eval_metric_ops=eval_metrics)\n",
        "    else:\n",
        "      (predicted_labels, log_probs, output_layer) = create_model(\n",
        "        is_predicting, input_ids, input_mask, segment_ids, label_ids, num_labels)\n",
        "      predictions = {\n",
        "          'probabilities': log_probs,\n",
        "          'labels': predicted_labels,\n",
        "          'pooled_output': output_layer\n",
        "      }\n",
        "      return tf.estimator.EstimatorSpec(mode, predictions=predictions)\n",
        "\n",
        "  # Return the actual model function in the closure\n",
        "  return model_fn"
      ],
      "execution_count": null,
      "outputs": []
    },
    {
      "cell_type": "code",
      "metadata": {
        "id": "krNx-z91Izx4"
      },
      "source": [
        "BATCH_SIZE = 16\n",
        "LEARNING_RATE = 2e-5\n",
        "NUM_TRAIN_EPOCHS = 1.0\n",
        "# Warmup is a period of time where the learning rate is small and gradually increases--usually helps training.\n",
        "WARMUP_PROPORTION = 0.1\n",
        "# Model configs\n",
        "SAVE_CHECKPOINTS_STEPS = 300\n",
        "SAVE_SUMMARY_STEPS = 100\n",
        "\n",
        "# Compute train and warmup steps from batch size\n",
        "num_train_steps = int(len(train_features) / BATCH_SIZE * NUM_TRAIN_EPOCHS)\n",
        "num_warmup_steps = int(num_train_steps * WARMUP_PROPORTION)\n",
        "\n",
        "# Specify output directory and number of checkpoint steps to save\n",
        "run_config = tf.estimator.RunConfig(\n",
        "    model_dir=OUTPUT_DIR,\n",
        "    save_summary_steps=SAVE_SUMMARY_STEPS,\n",
        "    save_checkpoints_steps=SAVE_CHECKPOINTS_STEPS)\n",
        "\n",
        "# Specify output directory and number of checkpoint steps to save\n",
        "run_config = tf.estimator.RunConfig(\n",
        "    model_dir=OUTPUT_DIR,\n",
        "    save_summary_steps=SAVE_SUMMARY_STEPS,\n",
        "    save_checkpoints_steps=SAVE_CHECKPOINTS_STEPS)"
      ],
      "execution_count": null,
      "outputs": []
    },
    {
      "cell_type": "code",
      "metadata": {
        "colab": {
          "base_uri": "https://localhost:8080/"
        },
        "id": "TVqAeS5MI39i",
        "outputId": "b1b4c365-d82e-4146-ba1a-46f5bdd42260"
      },
      "source": [
        "num_train_steps, len(label_list)"
      ],
      "execution_count": null,
      "outputs": [
        {
          "output_type": "execute_result",
          "data": {
            "text/plain": [
              "(1429, 10)"
            ]
          },
          "metadata": {},
          "execution_count": 86
        }
      ]
    },
    {
      "cell_type": "code",
      "metadata": {
        "colab": {
          "base_uri": "https://localhost:8080/"
        },
        "id": "umpZ4k9gWdpu",
        "outputId": "127ad42a-36f2-43ea-e0dd-a35bc256c445"
      },
      "source": [
        "#Initializing the model and the estimator   <USE THIS BLOCK IF YOU ARE TRAINING FOR THE FIRST TIME>\n",
        "model_fn = model_fn_builder(\n",
        "  num_labels=len(label_list),\n",
        "  learning_rate=LEARNING_RATE,\n",
        "  num_train_steps=num_train_steps,\n",
        "  num_warmup_steps=num_warmup_steps)\n",
        "\n",
        "estimator = tf.estimator.Estimator(\n",
        "  model_fn=model_fn,\n",
        "  config=run_config,\n",
        "  params={\"batch_size\": BATCH_SIZE})"
      ],
      "execution_count": null,
      "outputs": [
        {
          "output_type": "stream",
          "name": "stdout",
          "text": [
            "INFO:tensorflow:Using config: {'_model_dir': '/content/drive/MyDrive/Model_CP_NEW_CC', '_tf_random_seed': None, '_save_summary_steps': 100, '_save_checkpoints_steps': 300, '_save_checkpoints_secs': None, '_session_config': allow_soft_placement: true\n",
            "graph_options {\n",
            "  rewrite_options {\n",
            "    meta_optimizer_iterations: ONE\n",
            "  }\n",
            "}\n",
            ", '_keep_checkpoint_max': 5, '_keep_checkpoint_every_n_hours': 10000, '_log_step_count_steps': 100, '_train_distribute': None, '_device_fn': None, '_protocol': None, '_eval_distribute': None, '_experimental_distribute': None, '_experimental_max_worker_delay_secs': None, '_session_creation_timeout_secs': 7200, '_checkpoint_save_graph_def': True, '_service': None, '_cluster_spec': ClusterSpec({}), '_task_type': 'worker', '_task_id': 0, '_global_id_in_cluster': 0, '_master': '', '_evaluation_master': '', '_is_chief': True, '_num_ps_replicas': 0, '_num_worker_replicas': 1}\n"
          ]
        },
        {
          "output_type": "stream",
          "name": "stderr",
          "text": [
            "INFO:tensorflow:Using config: {'_model_dir': '/content/drive/MyDrive/Model_CP_NEW_CC', '_tf_random_seed': None, '_save_summary_steps': 100, '_save_checkpoints_steps': 300, '_save_checkpoints_secs': None, '_session_config': allow_soft_placement: true\n",
            "graph_options {\n",
            "  rewrite_options {\n",
            "    meta_optimizer_iterations: ONE\n",
            "  }\n",
            "}\n",
            ", '_keep_checkpoint_max': 5, '_keep_checkpoint_every_n_hours': 10000, '_log_step_count_steps': 100, '_train_distribute': None, '_device_fn': None, '_protocol': None, '_eval_distribute': None, '_experimental_distribute': None, '_experimental_max_worker_delay_secs': None, '_session_creation_timeout_secs': 7200, '_checkpoint_save_graph_def': True, '_service': None, '_cluster_spec': ClusterSpec({}), '_task_type': 'worker', '_task_id': 0, '_global_id_in_cluster': 0, '_master': '', '_evaluation_master': '', '_is_chief': True, '_num_ps_replicas': 0, '_num_worker_replicas': 1}\n"
          ]
        }
      ]
    },
    {
      "cell_type": "code",
      "metadata": {
        "id": "oSmYWE9WWwEG"
      },
      "source": [
        "def input_fn_builder(features, seq_length, is_training, drop_remainder):\n",
        "  \"\"\"Creates an `input_fn` closure to be passed to TPUEstimator.\"\"\"\n",
        "\n",
        "  all_input_ids = []\n",
        "  all_input_mask = []\n",
        "  all_segment_ids = []\n",
        "  all_label_ids = []\n",
        "\n",
        "  for feature in features:\n",
        "    all_input_ids.append(feature.input_ids)\n",
        "    all_input_mask.append(feature.input_mask)\n",
        "    all_segment_ids.append(feature.segment_ids)\n",
        "    all_label_ids.append(feature.label_id)\n",
        "\n",
        "  def input_fn(params):\n",
        "    \"\"\"The actual input function.\"\"\"\n",
        "    batch_size = params[\"batch_size\"]\n",
        "\n",
        "    num_examples = len(features)\n",
        "\n",
        "    # This is for demo purposes and does NOT scale to large data sets. We do\n",
        "    # not use Dataset.from_generator() because that uses tf.py_func which is\n",
        "    # not TPU compatible. The right way to load data is with TFRecordReader.\n",
        "    d = tf.data.Dataset.from_tensor_slices({\n",
        "        \"input_ids\":\n",
        "            tf.constant(\n",
        "                all_input_ids, shape=[num_examples, seq_length],\n",
        "                dtype=tf.int32),\n",
        "        \"input_mask\":\n",
        "            tf.constant(\n",
        "                all_input_mask,\n",
        "                shape=[num_examples, seq_length],\n",
        "                dtype=tf.int32),\n",
        "        \"segment_ids\":\n",
        "            tf.constant(\n",
        "                all_segment_ids,\n",
        "                shape=[num_examples, seq_length],\n",
        "                dtype=tf.int32),\n",
        "        \"label_ids\":\n",
        "            tf.constant(all_label_ids, shape=[num_examples], dtype=tf.int32),\n",
        "    })\n",
        "\n",
        "    if is_training:\n",
        "      d = d.repeat()\n",
        "      d = d.shuffle(buffer_size=100)\n",
        "\n",
        "    d = d.batch(batch_size=batch_size, drop_remainder=drop_remainder)\n",
        "    return d\n",
        "\n",
        "  return input_fn"
      ],
      "execution_count": null,
      "outputs": []
    },
    {
      "cell_type": "code",
      "metadata": {
        "id": "AHa51RE7I6Az"
      },
      "source": [
        "# Create an input function for training. drop_remainder = True for using TPUs.\n",
        "train_input_fn = input_fn_builder(\n",
        "    features=train_features,\n",
        "    seq_length=MAX_SEQ_LENGTH,\n",
        "    is_training=True,\n",
        "    drop_remainder=False)\n",
        "\n",
        "# Create an input function for validating. drop_remainder = True for using TPUs.\n",
        "val_input_fn = input_fn_builder(\n",
        "    features=val_features,\n",
        "    seq_length=MAX_SEQ_LENGTH,\n",
        "    is_training=False,\n",
        "    drop_remainder=False)\n",
        "\n",
        "# Create an input function for testing. drop_remainder = True for using TPUs.\n",
        "test_input_fn = input_fn_builder(\n",
        "    features=test_features,\n",
        "    seq_length=MAX_SEQ_LENGTH,\n",
        "    is_training=False,\n",
        "    drop_remainder=False)"
      ],
      "execution_count": null,
      "outputs": []
    },
    {
      "cell_type": "code",
      "metadata": {
        "id": "mI0OWHspW64E"
      },
      "source": [
        "import datetime"
      ],
      "execution_count": null,
      "outputs": []
    },
    {
      "cell_type": "code",
      "metadata": {
        "colab": {
          "base_uri": "https://localhost:8080/"
        },
        "id": "WSrrERU_W67U",
        "outputId": "a20a8be0-355a-4dc2-aea2-d8b32e87c259"
      },
      "source": [
        "import tensorflow.compat.v1 as tf\n",
        "tf.disable_v2_behavior()"
      ],
      "execution_count": null,
      "outputs": [
        {
          "output_type": "stream",
          "name": "stdout",
          "text": [
            "WARNING:tensorflow:From /usr/local/lib/python3.7/dist-packages/tensorflow/python/compat/v2_compat.py:111: disable_resource_variables (from tensorflow.python.ops.variable_scope) is deprecated and will be removed in a future version.\n",
            "Instructions for updating:\n",
            "non-resource variables are not supported in the long term\n"
          ]
        },
        {
          "output_type": "stream",
          "name": "stderr",
          "text": [
            "WARNING:tensorflow:From /usr/local/lib/python3.7/dist-packages/tensorflow/python/compat/v2_compat.py:111: disable_resource_variables (from tensorflow.python.ops.variable_scope) is deprecated and will be removed in a future version.\n",
            "Instructions for updating:\n",
            "non-resource variables are not supported in the long term\n"
          ]
        }
      ]
    },
    {
      "cell_type": "code",
      "metadata": {
        "colab": {
          "base_uri": "https://localhost:8080/"
        },
        "id": "I_zCQnzGW99s",
        "outputId": "0e70a73a-b621-4506-d6b7-08343cc09ff5"
      },
      "source": [
        "#BERT: Fine Tuning Training & Evaluating\n",
        "print(f'Beginning Training!')\n",
        "#current_time = datetime.time()\n",
        "estimator.train(input_fn=train_input_fn, max_steps=num_train_steps)\n",
        "#print(\"Training took time \", datetime.now() - current_time)"
      ],
      "execution_count": null,
      "outputs": [
        {
          "output_type": "stream",
          "name": "stdout",
          "text": [
            "Beginning Training!\n",
            "WARNING:tensorflow:From /usr/local/lib/python3.7/dist-packages/tensorflow/python/training/training_util.py:401: Variable.initialized_value (from tensorflow.python.ops.variables) is deprecated and will be removed in a future version.\n",
            "Instructions for updating:\n",
            "Use Variable.read_value. Variables in 2.X are initialized automatically both in eager and graph (inside tf.defun) contexts.\n"
          ]
        },
        {
          "output_type": "stream",
          "name": "stderr",
          "text": [
            "WARNING:tensorflow:From /usr/local/lib/python3.7/dist-packages/tensorflow/python/training/training_util.py:401: Variable.initialized_value (from tensorflow.python.ops.variables) is deprecated and will be removed in a future version.\n",
            "Instructions for updating:\n",
            "Use Variable.read_value. Variables in 2.X are initialized automatically both in eager and graph (inside tf.defun) contexts.\n"
          ]
        },
        {
          "output_type": "stream",
          "name": "stdout",
          "text": [
            "INFO:tensorflow:Calling model_fn.\n"
          ]
        },
        {
          "output_type": "stream",
          "name": "stderr",
          "text": [
            "INFO:tensorflow:Calling model_fn.\n"
          ]
        },
        {
          "output_type": "stream",
          "name": "stdout",
          "text": [
            "INFO:tensorflow:Saver not created because there are no variables in the graph to restore\n"
          ]
        },
        {
          "output_type": "stream",
          "name": "stderr",
          "text": [
            "INFO:tensorflow:Saver not created because there are no variables in the graph to restore\n"
          ]
        },
        {
          "output_type": "stream",
          "name": "stdout",
          "text": [
            "WARNING:tensorflow:From /usr/local/lib/python3.7/dist-packages/tensorflow/python/util/dispatch.py:1096: calling dropout (from tensorflow.python.ops.nn_ops) with keep_prob is deprecated and will be removed in a future version.\n",
            "Instructions for updating:\n",
            "Please use `rate` instead of `keep_prob`. Rate should be set to `rate = 1 - keep_prob`.\n"
          ]
        },
        {
          "output_type": "stream",
          "name": "stderr",
          "text": [
            "WARNING:tensorflow:From /usr/local/lib/python3.7/dist-packages/tensorflow/python/util/dispatch.py:1096: calling dropout (from tensorflow.python.ops.nn_ops) with keep_prob is deprecated and will be removed in a future version.\n",
            "Instructions for updating:\n",
            "Please use `rate` instead of `keep_prob`. Rate should be set to `rate = 1 - keep_prob`.\n"
          ]
        },
        {
          "output_type": "stream",
          "name": "stdout",
          "text": [
            "INFO:tensorflow:Done calling model_fn.\n"
          ]
        },
        {
          "output_type": "stream",
          "name": "stderr",
          "text": [
            "INFO:tensorflow:Done calling model_fn.\n"
          ]
        },
        {
          "output_type": "stream",
          "name": "stdout",
          "text": [
            "INFO:tensorflow:Create CheckpointSaverHook.\n"
          ]
        },
        {
          "output_type": "stream",
          "name": "stderr",
          "text": [
            "INFO:tensorflow:Create CheckpointSaverHook.\n"
          ]
        },
        {
          "output_type": "stream",
          "name": "stdout",
          "text": [
            "INFO:tensorflow:Graph was finalized.\n"
          ]
        },
        {
          "output_type": "stream",
          "name": "stderr",
          "text": [
            "INFO:tensorflow:Graph was finalized.\n"
          ]
        },
        {
          "output_type": "stream",
          "name": "stdout",
          "text": [
            "INFO:tensorflow:Running local_init_op.\n"
          ]
        },
        {
          "output_type": "stream",
          "name": "stderr",
          "text": [
            "INFO:tensorflow:Running local_init_op.\n"
          ]
        },
        {
          "output_type": "stream",
          "name": "stdout",
          "text": [
            "INFO:tensorflow:Done running local_init_op.\n"
          ]
        },
        {
          "output_type": "stream",
          "name": "stderr",
          "text": [
            "INFO:tensorflow:Done running local_init_op.\n"
          ]
        },
        {
          "output_type": "stream",
          "name": "stdout",
          "text": [
            "INFO:tensorflow:Calling checkpoint listeners before saving checkpoint 0...\n"
          ]
        },
        {
          "output_type": "stream",
          "name": "stderr",
          "text": [
            "INFO:tensorflow:Calling checkpoint listeners before saving checkpoint 0...\n"
          ]
        },
        {
          "output_type": "stream",
          "name": "stdout",
          "text": [
            "INFO:tensorflow:Saving checkpoints for 0 into /content/drive/MyDrive/Model_CP_NEW_CC/model.ckpt.\n"
          ]
        },
        {
          "output_type": "stream",
          "name": "stderr",
          "text": [
            "INFO:tensorflow:Saving checkpoints for 0 into /content/drive/MyDrive/Model_CP_NEW_CC/model.ckpt.\n"
          ]
        },
        {
          "output_type": "stream",
          "name": "stdout",
          "text": [
            "INFO:tensorflow:Calling checkpoint listeners after saving checkpoint 0...\n"
          ]
        },
        {
          "output_type": "stream",
          "name": "stderr",
          "text": [
            "INFO:tensorflow:Calling checkpoint listeners after saving checkpoint 0...\n"
          ]
        },
        {
          "output_type": "stream",
          "name": "stdout",
          "text": [
            "INFO:tensorflow:loss = 2.6753201, step = 0\n"
          ]
        },
        {
          "output_type": "stream",
          "name": "stderr",
          "text": [
            "INFO:tensorflow:loss = 2.6753201, step = 0\n"
          ]
        },
        {
          "output_type": "stream",
          "name": "stdout",
          "text": [
            "INFO:tensorflow:global_step/sec: 2.05084\n"
          ]
        },
        {
          "output_type": "stream",
          "name": "stderr",
          "text": [
            "INFO:tensorflow:global_step/sec: 2.05084\n"
          ]
        },
        {
          "output_type": "stream",
          "name": "stdout",
          "text": [
            "INFO:tensorflow:loss = 1.5297492, step = 100 (48.762 sec)\n"
          ]
        },
        {
          "output_type": "stream",
          "name": "stderr",
          "text": [
            "INFO:tensorflow:loss = 1.5297492, step = 100 (48.762 sec)\n"
          ]
        },
        {
          "output_type": "stream",
          "name": "stdout",
          "text": [
            "INFO:tensorflow:global_step/sec: 2.48168\n"
          ]
        },
        {
          "output_type": "stream",
          "name": "stderr",
          "text": [
            "INFO:tensorflow:global_step/sec: 2.48168\n"
          ]
        },
        {
          "output_type": "stream",
          "name": "stdout",
          "text": [
            "INFO:tensorflow:loss = 0.7979175, step = 200 (40.295 sec)\n"
          ]
        },
        {
          "output_type": "stream",
          "name": "stderr",
          "text": [
            "INFO:tensorflow:loss = 0.7979175, step = 200 (40.295 sec)\n"
          ]
        },
        {
          "output_type": "stream",
          "name": "stdout",
          "text": [
            "INFO:tensorflow:Calling checkpoint listeners before saving checkpoint 300...\n"
          ]
        },
        {
          "output_type": "stream",
          "name": "stderr",
          "text": [
            "INFO:tensorflow:Calling checkpoint listeners before saving checkpoint 300...\n"
          ]
        },
        {
          "output_type": "stream",
          "name": "stdout",
          "text": [
            "INFO:tensorflow:Saving checkpoints for 300 into /content/drive/MyDrive/Model_CP_NEW_CC/model.ckpt.\n"
          ]
        },
        {
          "output_type": "stream",
          "name": "stderr",
          "text": [
            "INFO:tensorflow:Saving checkpoints for 300 into /content/drive/MyDrive/Model_CP_NEW_CC/model.ckpt.\n"
          ]
        },
        {
          "output_type": "stream",
          "name": "stdout",
          "text": [
            "INFO:tensorflow:Calling checkpoint listeners after saving checkpoint 300...\n"
          ]
        },
        {
          "output_type": "stream",
          "name": "stderr",
          "text": [
            "INFO:tensorflow:Calling checkpoint listeners after saving checkpoint 300...\n"
          ]
        },
        {
          "output_type": "stream",
          "name": "stdout",
          "text": [
            "INFO:tensorflow:global_step/sec: 1.73807\n"
          ]
        },
        {
          "output_type": "stream",
          "name": "stderr",
          "text": [
            "INFO:tensorflow:global_step/sec: 1.73807\n"
          ]
        },
        {
          "output_type": "stream",
          "name": "stdout",
          "text": [
            "INFO:tensorflow:loss = 0.28139877, step = 300 (57.535 sec)\n"
          ]
        },
        {
          "output_type": "stream",
          "name": "stderr",
          "text": [
            "INFO:tensorflow:loss = 0.28139877, step = 300 (57.535 sec)\n"
          ]
        },
        {
          "output_type": "stream",
          "name": "stdout",
          "text": [
            "INFO:tensorflow:global_step/sec: 2.48116\n"
          ]
        },
        {
          "output_type": "stream",
          "name": "stderr",
          "text": [
            "INFO:tensorflow:global_step/sec: 2.48116\n"
          ]
        },
        {
          "output_type": "stream",
          "name": "stdout",
          "text": [
            "INFO:tensorflow:loss = 0.7239708, step = 400 (40.304 sec)\n"
          ]
        },
        {
          "output_type": "stream",
          "name": "stderr",
          "text": [
            "INFO:tensorflow:loss = 0.7239708, step = 400 (40.304 sec)\n"
          ]
        },
        {
          "output_type": "stream",
          "name": "stdout",
          "text": [
            "INFO:tensorflow:global_step/sec: 2.48247\n"
          ]
        },
        {
          "output_type": "stream",
          "name": "stderr",
          "text": [
            "INFO:tensorflow:global_step/sec: 2.48247\n"
          ]
        },
        {
          "output_type": "stream",
          "name": "stdout",
          "text": [
            "INFO:tensorflow:loss = 0.37031972, step = 500 (40.282 sec)\n"
          ]
        },
        {
          "output_type": "stream",
          "name": "stderr",
          "text": [
            "INFO:tensorflow:loss = 0.37031972, step = 500 (40.282 sec)\n"
          ]
        },
        {
          "output_type": "stream",
          "name": "stdout",
          "text": [
            "INFO:tensorflow:Calling checkpoint listeners before saving checkpoint 600...\n"
          ]
        },
        {
          "output_type": "stream",
          "name": "stderr",
          "text": [
            "INFO:tensorflow:Calling checkpoint listeners before saving checkpoint 600...\n"
          ]
        },
        {
          "output_type": "stream",
          "name": "stdout",
          "text": [
            "INFO:tensorflow:Saving checkpoints for 600 into /content/drive/MyDrive/Model_CP_NEW_CC/model.ckpt.\n"
          ]
        },
        {
          "output_type": "stream",
          "name": "stderr",
          "text": [
            "INFO:tensorflow:Saving checkpoints for 600 into /content/drive/MyDrive/Model_CP_NEW_CC/model.ckpt.\n"
          ]
        },
        {
          "output_type": "stream",
          "name": "stdout",
          "text": [
            "INFO:tensorflow:Calling checkpoint listeners after saving checkpoint 600...\n"
          ]
        },
        {
          "output_type": "stream",
          "name": "stderr",
          "text": [
            "INFO:tensorflow:Calling checkpoint listeners after saving checkpoint 600...\n"
          ]
        },
        {
          "output_type": "stream",
          "name": "stdout",
          "text": [
            "INFO:tensorflow:global_step/sec: 1.77609\n"
          ]
        },
        {
          "output_type": "stream",
          "name": "stderr",
          "text": [
            "INFO:tensorflow:global_step/sec: 1.77609\n"
          ]
        },
        {
          "output_type": "stream",
          "name": "stdout",
          "text": [
            "INFO:tensorflow:loss = 0.4671146, step = 600 (56.303 sec)\n"
          ]
        },
        {
          "output_type": "stream",
          "name": "stderr",
          "text": [
            "INFO:tensorflow:loss = 0.4671146, step = 600 (56.303 sec)\n"
          ]
        },
        {
          "output_type": "stream",
          "name": "stdout",
          "text": [
            "INFO:tensorflow:global_step/sec: 2.48212\n"
          ]
        },
        {
          "output_type": "stream",
          "name": "stderr",
          "text": [
            "INFO:tensorflow:global_step/sec: 2.48212\n"
          ]
        },
        {
          "output_type": "stream",
          "name": "stdout",
          "text": [
            "INFO:tensorflow:loss = 0.37608016, step = 700 (40.288 sec)\n"
          ]
        },
        {
          "output_type": "stream",
          "name": "stderr",
          "text": [
            "INFO:tensorflow:loss = 0.37608016, step = 700 (40.288 sec)\n"
          ]
        },
        {
          "output_type": "stream",
          "name": "stdout",
          "text": [
            "INFO:tensorflow:global_step/sec: 2.48222\n"
          ]
        },
        {
          "output_type": "stream",
          "name": "stderr",
          "text": [
            "INFO:tensorflow:global_step/sec: 2.48222\n"
          ]
        },
        {
          "output_type": "stream",
          "name": "stdout",
          "text": [
            "INFO:tensorflow:loss = 0.36202297, step = 800 (40.287 sec)\n"
          ]
        },
        {
          "output_type": "stream",
          "name": "stderr",
          "text": [
            "INFO:tensorflow:loss = 0.36202297, step = 800 (40.287 sec)\n"
          ]
        },
        {
          "output_type": "stream",
          "name": "stdout",
          "text": [
            "INFO:tensorflow:Calling checkpoint listeners before saving checkpoint 900...\n"
          ]
        },
        {
          "output_type": "stream",
          "name": "stderr",
          "text": [
            "INFO:tensorflow:Calling checkpoint listeners before saving checkpoint 900...\n"
          ]
        },
        {
          "output_type": "stream",
          "name": "stdout",
          "text": [
            "INFO:tensorflow:Saving checkpoints for 900 into /content/drive/MyDrive/Model_CP_NEW_CC/model.ckpt.\n"
          ]
        },
        {
          "output_type": "stream",
          "name": "stderr",
          "text": [
            "INFO:tensorflow:Saving checkpoints for 900 into /content/drive/MyDrive/Model_CP_NEW_CC/model.ckpt.\n"
          ]
        },
        {
          "output_type": "stream",
          "name": "stdout",
          "text": [
            "INFO:tensorflow:Calling checkpoint listeners after saving checkpoint 900...\n"
          ]
        },
        {
          "output_type": "stream",
          "name": "stderr",
          "text": [
            "INFO:tensorflow:Calling checkpoint listeners after saving checkpoint 900...\n"
          ]
        },
        {
          "output_type": "stream",
          "name": "stdout",
          "text": [
            "INFO:tensorflow:global_step/sec: 1.78168\n"
          ]
        },
        {
          "output_type": "stream",
          "name": "stderr",
          "text": [
            "INFO:tensorflow:global_step/sec: 1.78168\n"
          ]
        },
        {
          "output_type": "stream",
          "name": "stdout",
          "text": [
            "INFO:tensorflow:loss = 0.4209003, step = 900 (56.127 sec)\n"
          ]
        },
        {
          "output_type": "stream",
          "name": "stderr",
          "text": [
            "INFO:tensorflow:loss = 0.4209003, step = 900 (56.127 sec)\n"
          ]
        },
        {
          "output_type": "stream",
          "name": "stdout",
          "text": [
            "INFO:tensorflow:global_step/sec: 2.48172\n"
          ]
        },
        {
          "output_type": "stream",
          "name": "stderr",
          "text": [
            "INFO:tensorflow:global_step/sec: 2.48172\n"
          ]
        },
        {
          "output_type": "stream",
          "name": "stdout",
          "text": [
            "INFO:tensorflow:loss = 0.2682234, step = 1000 (40.295 sec)\n"
          ]
        },
        {
          "output_type": "stream",
          "name": "stderr",
          "text": [
            "INFO:tensorflow:loss = 0.2682234, step = 1000 (40.295 sec)\n"
          ]
        },
        {
          "output_type": "stream",
          "name": "stdout",
          "text": [
            "INFO:tensorflow:global_step/sec: 2.48217\n"
          ]
        },
        {
          "output_type": "stream",
          "name": "stderr",
          "text": [
            "INFO:tensorflow:global_step/sec: 2.48217\n"
          ]
        },
        {
          "output_type": "stream",
          "name": "stdout",
          "text": [
            "INFO:tensorflow:loss = 0.5620487, step = 1100 (40.287 sec)\n"
          ]
        },
        {
          "output_type": "stream",
          "name": "stderr",
          "text": [
            "INFO:tensorflow:loss = 0.5620487, step = 1100 (40.287 sec)\n"
          ]
        },
        {
          "output_type": "stream",
          "name": "stdout",
          "text": [
            "INFO:tensorflow:Calling checkpoint listeners before saving checkpoint 1200...\n"
          ]
        },
        {
          "output_type": "stream",
          "name": "stderr",
          "text": [
            "INFO:tensorflow:Calling checkpoint listeners before saving checkpoint 1200...\n"
          ]
        },
        {
          "output_type": "stream",
          "name": "stdout",
          "text": [
            "INFO:tensorflow:Saving checkpoints for 1200 into /content/drive/MyDrive/Model_CP_NEW_CC/model.ckpt.\n"
          ]
        },
        {
          "output_type": "stream",
          "name": "stderr",
          "text": [
            "INFO:tensorflow:Saving checkpoints for 1200 into /content/drive/MyDrive/Model_CP_NEW_CC/model.ckpt.\n"
          ]
        },
        {
          "output_type": "stream",
          "name": "stdout",
          "text": [
            "INFO:tensorflow:Calling checkpoint listeners after saving checkpoint 1200...\n"
          ]
        },
        {
          "output_type": "stream",
          "name": "stderr",
          "text": [
            "INFO:tensorflow:Calling checkpoint listeners after saving checkpoint 1200...\n"
          ]
        },
        {
          "output_type": "stream",
          "name": "stdout",
          "text": [
            "INFO:tensorflow:global_step/sec: 1.6988\n"
          ]
        },
        {
          "output_type": "stream",
          "name": "stderr",
          "text": [
            "INFO:tensorflow:global_step/sec: 1.6988\n"
          ]
        },
        {
          "output_type": "stream",
          "name": "stdout",
          "text": [
            "INFO:tensorflow:loss = 0.3243076, step = 1200 (58.865 sec)\n"
          ]
        },
        {
          "output_type": "stream",
          "name": "stderr",
          "text": [
            "INFO:tensorflow:loss = 0.3243076, step = 1200 (58.865 sec)\n"
          ]
        },
        {
          "output_type": "stream",
          "name": "stdout",
          "text": [
            "INFO:tensorflow:global_step/sec: 2.48151\n"
          ]
        },
        {
          "output_type": "stream",
          "name": "stderr",
          "text": [
            "INFO:tensorflow:global_step/sec: 2.48151\n"
          ]
        },
        {
          "output_type": "stream",
          "name": "stdout",
          "text": [
            "INFO:tensorflow:loss = 0.3604904, step = 1300 (40.298 sec)\n"
          ]
        },
        {
          "output_type": "stream",
          "name": "stderr",
          "text": [
            "INFO:tensorflow:loss = 0.3604904, step = 1300 (40.298 sec)\n"
          ]
        },
        {
          "output_type": "stream",
          "name": "stdout",
          "text": [
            "INFO:tensorflow:global_step/sec: 2.48202\n"
          ]
        },
        {
          "output_type": "stream",
          "name": "stderr",
          "text": [
            "INFO:tensorflow:global_step/sec: 2.48202\n"
          ]
        },
        {
          "output_type": "stream",
          "name": "stdout",
          "text": [
            "INFO:tensorflow:loss = 0.46636862, step = 1400 (40.290 sec)\n"
          ]
        },
        {
          "output_type": "stream",
          "name": "stderr",
          "text": [
            "INFO:tensorflow:loss = 0.46636862, step = 1400 (40.290 sec)\n"
          ]
        },
        {
          "output_type": "stream",
          "name": "stdout",
          "text": [
            "INFO:tensorflow:Calling checkpoint listeners before saving checkpoint 1429...\n"
          ]
        },
        {
          "output_type": "stream",
          "name": "stderr",
          "text": [
            "INFO:tensorflow:Calling checkpoint listeners before saving checkpoint 1429...\n"
          ]
        },
        {
          "output_type": "stream",
          "name": "stdout",
          "text": [
            "INFO:tensorflow:Saving checkpoints for 1429 into /content/drive/MyDrive/Model_CP_NEW_CC/model.ckpt.\n"
          ]
        },
        {
          "output_type": "stream",
          "name": "stderr",
          "text": [
            "INFO:tensorflow:Saving checkpoints for 1429 into /content/drive/MyDrive/Model_CP_NEW_CC/model.ckpt.\n"
          ]
        },
        {
          "output_type": "stream",
          "name": "stdout",
          "text": [
            "WARNING:tensorflow:From /usr/local/lib/python3.7/dist-packages/tensorflow/python/training/saver.py:1058: remove_checkpoint (from tensorflow.python.training.checkpoint_management) is deprecated and will be removed in a future version.\n",
            "Instructions for updating:\n",
            "Use standard file APIs to delete files with this prefix.\n"
          ]
        },
        {
          "output_type": "stream",
          "name": "stderr",
          "text": [
            "WARNING:tensorflow:From /usr/local/lib/python3.7/dist-packages/tensorflow/python/training/saver.py:1058: remove_checkpoint (from tensorflow.python.training.checkpoint_management) is deprecated and will be removed in a future version.\n",
            "Instructions for updating:\n",
            "Use standard file APIs to delete files with this prefix.\n"
          ]
        },
        {
          "output_type": "stream",
          "name": "stdout",
          "text": [
            "INFO:tensorflow:Calling checkpoint listeners after saving checkpoint 1429...\n"
          ]
        },
        {
          "output_type": "stream",
          "name": "stderr",
          "text": [
            "INFO:tensorflow:Calling checkpoint listeners after saving checkpoint 1429...\n"
          ]
        },
        {
          "output_type": "stream",
          "name": "stdout",
          "text": [
            "INFO:tensorflow:Loss for final step: 0.96083117.\n"
          ]
        },
        {
          "output_type": "stream",
          "name": "stderr",
          "text": [
            "INFO:tensorflow:Loss for final step: 0.96083117.\n"
          ]
        },
        {
          "output_type": "execute_result",
          "data": {
            "text/plain": [
              "<tensorflow_estimator.python.estimator.estimator.EstimatorV2 at 0x7f9e3aaa1510>"
            ]
          },
          "metadata": {},
          "execution_count": 92
        }
      ]
    },
    {
      "cell_type": "code",
      "metadata": {
        "id": "wNyCH35_W-A_"
      },
      "source": [
        "#Run this If you want to load the model \n",
        "#Loading a specific check point : \n",
        "# warm_start = tf.estimator.WarmStartSettings(ckpt_to_initialize_from='/content/drive/MyDrive/MS_Final_Project/Model_checkpoints_CC/model.ckpt-1800.meta')\n",
        "\n",
        "\n",
        "# model_fn = model_fn_builder(\n",
        "#   num_labels=len(label_list),\n",
        "#   learning_rate=LEARNING_RATE,\n",
        "#   num_train_steps=num_train_steps,\n",
        "#   num_warmup_steps=num_warmup_steps)\n",
        "\n",
        "# estimator=tf.estimator.Estimator(model_fn=model_fn,\n",
        "#                        config=run_config,\n",
        "#                        params={\"batch_size\": BATCH_SIZE},\n",
        "#                        warm_start_from=warm_start)"
      ],
      "execution_count": null,
      "outputs": []
    },
    {
      "cell_type": "code",
      "metadata": {
        "id": "pvk0K1c5W-G1",
        "colab": {
          "base_uri": "https://localhost:8080/"
        },
        "outputId": "bbe6f0c0-059c-4c44-8020-8d4904ffe466"
      },
      "source": [
        "#Evaluation of the BERT model\n",
        "estimator.evaluate(input_fn=val_input_fn, steps=None)"
      ],
      "execution_count": null,
      "outputs": [
        {
          "output_type": "stream",
          "name": "stdout",
          "text": [
            "INFO:tensorflow:Calling model_fn.\n"
          ]
        },
        {
          "output_type": "stream",
          "name": "stderr",
          "text": [
            "INFO:tensorflow:Calling model_fn.\n"
          ]
        },
        {
          "output_type": "stream",
          "name": "stdout",
          "text": [
            "INFO:tensorflow:Saver not created because there are no variables in the graph to restore\n"
          ]
        },
        {
          "output_type": "stream",
          "name": "stderr",
          "text": [
            "INFO:tensorflow:Saver not created because there are no variables in the graph to restore\n"
          ]
        },
        {
          "output_type": "stream",
          "name": "stdout",
          "text": [
            "INFO:tensorflow:Done calling model_fn.\n"
          ]
        },
        {
          "output_type": "stream",
          "name": "stderr",
          "text": [
            "INFO:tensorflow:Done calling model_fn.\n"
          ]
        },
        {
          "output_type": "stream",
          "name": "stdout",
          "text": [
            "INFO:tensorflow:Starting evaluation at 2021-11-15T19:38:55\n"
          ]
        },
        {
          "output_type": "stream",
          "name": "stderr",
          "text": [
            "INFO:tensorflow:Starting evaluation at 2021-11-15T19:38:55\n"
          ]
        },
        {
          "output_type": "stream",
          "name": "stdout",
          "text": [
            "INFO:tensorflow:Graph was finalized.\n"
          ]
        },
        {
          "output_type": "stream",
          "name": "stderr",
          "text": [
            "INFO:tensorflow:Graph was finalized.\n"
          ]
        },
        {
          "output_type": "stream",
          "name": "stdout",
          "text": [
            "INFO:tensorflow:Restoring parameters from /content/drive/MyDrive/Model_CP_NEW_CC/model.ckpt-1429\n"
          ]
        },
        {
          "output_type": "stream",
          "name": "stderr",
          "text": [
            "INFO:tensorflow:Restoring parameters from /content/drive/MyDrive/Model_CP_NEW_CC/model.ckpt-1429\n"
          ]
        },
        {
          "output_type": "stream",
          "name": "stdout",
          "text": [
            "INFO:tensorflow:Running local_init_op.\n"
          ]
        },
        {
          "output_type": "stream",
          "name": "stderr",
          "text": [
            "INFO:tensorflow:Running local_init_op.\n"
          ]
        },
        {
          "output_type": "stream",
          "name": "stdout",
          "text": [
            "INFO:tensorflow:Done running local_init_op.\n"
          ]
        },
        {
          "output_type": "stream",
          "name": "stderr",
          "text": [
            "INFO:tensorflow:Done running local_init_op.\n"
          ]
        },
        {
          "output_type": "stream",
          "name": "stdout",
          "text": [
            "INFO:tensorflow:Inference Time : 50.96052s\n"
          ]
        },
        {
          "output_type": "stream",
          "name": "stderr",
          "text": [
            "INFO:tensorflow:Inference Time : 50.96052s\n"
          ]
        },
        {
          "output_type": "stream",
          "name": "stdout",
          "text": [
            "INFO:tensorflow:Finished evaluation at 2021-11-15-19:39:46\n"
          ]
        },
        {
          "output_type": "stream",
          "name": "stderr",
          "text": [
            "INFO:tensorflow:Finished evaluation at 2021-11-15-19:39:46\n"
          ]
        },
        {
          "output_type": "stream",
          "name": "stdout",
          "text": [
            "INFO:tensorflow:Saving dict for global step 1429: eval_accuracy = 0.8509262, false_negatives = 125.0, false_positives = 127.0, global_step = 1429, loss = 0.51820546, true_negatives = 517.0, true_positives = 4953.0\n"
          ]
        },
        {
          "output_type": "stream",
          "name": "stderr",
          "text": [
            "INFO:tensorflow:Saving dict for global step 1429: eval_accuracy = 0.8509262, false_negatives = 125.0, false_positives = 127.0, global_step = 1429, loss = 0.51820546, true_negatives = 517.0, true_positives = 4953.0\n"
          ]
        },
        {
          "output_type": "stream",
          "name": "stdout",
          "text": [
            "INFO:tensorflow:Saving 'checkpoint_path' summary for global step 1429: /content/drive/MyDrive/Model_CP_NEW_CC/model.ckpt-1429\n"
          ]
        },
        {
          "output_type": "stream",
          "name": "stderr",
          "text": [
            "INFO:tensorflow:Saving 'checkpoint_path' summary for global step 1429: /content/drive/MyDrive/Model_CP_NEW_CC/model.ckpt-1429\n"
          ]
        },
        {
          "output_type": "execute_result",
          "data": {
            "text/plain": [
              "{'eval_accuracy': 0.8509262,\n",
              " 'false_negatives': 125.0,\n",
              " 'false_positives': 127.0,\n",
              " 'global_step': 1429,\n",
              " 'loss': 0.51820546,\n",
              " 'true_negatives': 517.0,\n",
              " 'true_positives': 4953.0}"
            ]
          },
          "metadata": {},
          "execution_count": 94
        }
      ]
    },
    {
      "cell_type": "code",
      "metadata": {
        "colab": {
          "base_uri": "https://localhost:8080/"
        },
        "id": "tmIJXK-hBbf1",
        "outputId": "af5cc18b-bfc4-4c72-b386-4d57dbd777f5"
      },
      "source": [
        "estimator.evaluate(input_fn=test_input_fn, steps=None)"
      ],
      "execution_count": null,
      "outputs": [
        {
          "output_type": "stream",
          "name": "stdout",
          "text": [
            "INFO:tensorflow:Calling model_fn.\n"
          ]
        },
        {
          "output_type": "stream",
          "name": "stderr",
          "text": [
            "INFO:tensorflow:Calling model_fn.\n"
          ]
        },
        {
          "output_type": "stream",
          "name": "stdout",
          "text": [
            "INFO:tensorflow:Saver not created because there are no variables in the graph to restore\n"
          ]
        },
        {
          "output_type": "stream",
          "name": "stderr",
          "text": [
            "INFO:tensorflow:Saver not created because there are no variables in the graph to restore\n"
          ]
        },
        {
          "output_type": "stream",
          "name": "stdout",
          "text": [
            "INFO:tensorflow:Done calling model_fn.\n"
          ]
        },
        {
          "output_type": "stream",
          "name": "stderr",
          "text": [
            "INFO:tensorflow:Done calling model_fn.\n"
          ]
        },
        {
          "output_type": "stream",
          "name": "stdout",
          "text": [
            "INFO:tensorflow:Starting evaluation at 2021-11-15T19:40:02\n"
          ]
        },
        {
          "output_type": "stream",
          "name": "stderr",
          "text": [
            "INFO:tensorflow:Starting evaluation at 2021-11-15T19:40:02\n"
          ]
        },
        {
          "output_type": "stream",
          "name": "stdout",
          "text": [
            "INFO:tensorflow:Graph was finalized.\n"
          ]
        },
        {
          "output_type": "stream",
          "name": "stderr",
          "text": [
            "INFO:tensorflow:Graph was finalized.\n"
          ]
        },
        {
          "output_type": "stream",
          "name": "stdout",
          "text": [
            "INFO:tensorflow:Restoring parameters from /content/drive/MyDrive/Model_CP_NEW_CC/model.ckpt-1429\n"
          ]
        },
        {
          "output_type": "stream",
          "name": "stderr",
          "text": [
            "INFO:tensorflow:Restoring parameters from /content/drive/MyDrive/Model_CP_NEW_CC/model.ckpt-1429\n"
          ]
        },
        {
          "output_type": "stream",
          "name": "stdout",
          "text": [
            "INFO:tensorflow:Running local_init_op.\n"
          ]
        },
        {
          "output_type": "stream",
          "name": "stderr",
          "text": [
            "INFO:tensorflow:Running local_init_op.\n"
          ]
        },
        {
          "output_type": "stream",
          "name": "stdout",
          "text": [
            "INFO:tensorflow:Done running local_init_op.\n"
          ]
        },
        {
          "output_type": "stream",
          "name": "stderr",
          "text": [
            "INFO:tensorflow:Done running local_init_op.\n"
          ]
        },
        {
          "output_type": "stream",
          "name": "stdout",
          "text": [
            "INFO:tensorflow:Inference Time : 92.95380s\n"
          ]
        },
        {
          "output_type": "stream",
          "name": "stderr",
          "text": [
            "INFO:tensorflow:Inference Time : 92.95380s\n"
          ]
        },
        {
          "output_type": "stream",
          "name": "stdout",
          "text": [
            "INFO:tensorflow:Finished evaluation at 2021-11-15-19:41:35\n"
          ]
        },
        {
          "output_type": "stream",
          "name": "stderr",
          "text": [
            "INFO:tensorflow:Finished evaluation at 2021-11-15-19:41:35\n"
          ]
        },
        {
          "output_type": "stream",
          "name": "stdout",
          "text": [
            "INFO:tensorflow:Saving dict for global step 1429: eval_accuracy = 0.8376541, false_negatives = 328.0, false_positives = 273.0, global_step = 1429, loss = 0.5328692, true_negatives = 1047.0, true_positives = 9384.0\n"
          ]
        },
        {
          "output_type": "stream",
          "name": "stderr",
          "text": [
            "INFO:tensorflow:Saving dict for global step 1429: eval_accuracy = 0.8376541, false_negatives = 328.0, false_positives = 273.0, global_step = 1429, loss = 0.5328692, true_negatives = 1047.0, true_positives = 9384.0\n"
          ]
        },
        {
          "output_type": "stream",
          "name": "stdout",
          "text": [
            "INFO:tensorflow:Saving 'checkpoint_path' summary for global step 1429: /content/drive/MyDrive/Model_CP_NEW_CC/model.ckpt-1429\n"
          ]
        },
        {
          "output_type": "stream",
          "name": "stderr",
          "text": [
            "INFO:tensorflow:Saving 'checkpoint_path' summary for global step 1429: /content/drive/MyDrive/Model_CP_NEW_CC/model.ckpt-1429\n"
          ]
        },
        {
          "output_type": "execute_result",
          "data": {
            "text/plain": [
              "{'eval_accuracy': 0.8376541,\n",
              " 'false_negatives': 328.0,\n",
              " 'false_positives': 273.0,\n",
              " 'global_step': 1429,\n",
              " 'loss': 0.5328692,\n",
              " 'true_negatives': 1047.0,\n",
              " 'true_positives': 9384.0}"
            ]
          },
          "metadata": {},
          "execution_count": 95
        }
      ]
    },
    {
      "cell_type": "markdown",
      "metadata": {
        "id": "mhBuXjQ55f9d"
      },
      "source": [
        "# Extract Embeddings from BERT"
      ]
    },
    {
      "cell_type": "code",
      "metadata": {
        "id": "rTeHqmogZdPQ"
      },
      "source": [
        "def serving_input_receiver_fn():\n",
        "    \"\"\"Serving input_fn that builds features from placeholders\n",
        "\n",
        "    Returns\n",
        "    -------\n",
        "    tf.estimator.export.ServingInputReceiver\n",
        "    \"\"\"\n",
        "    number = tf.placeholder(dtype=tf.float32, shape=[None, 1], name='number')\n",
        "    receiver_tensors = {'number': number}\n",
        "    features = tf.tile(number, multiples=[1, 2])\n",
        "    return tf.estimator.export.ServingInputReceiver(features, receiver_tensors)"
      ],
      "execution_count": null,
      "outputs": []
    },
    {
      "cell_type": "code",
      "metadata": {
        "id": "iZqu1qKVZdSw"
      },
      "source": [
        "# A method to get predictions\n",
        "def getPrediction(in_sentences, type_output = \"features\"):\n",
        "  #A list to map the actual labels to the predictions\n",
        "  labels = np.unique(train['label'])\n",
        "  input_examples = [InputExample(guid=\"\", text_a = x, text_b = None, label = 0) for x in in_sentences] \n",
        "  #input_features = convert_examples_to_features(input_examples, label_list, MAX_SEQ_LENGTH, tokenizer)\n",
        "  input_features = convert_examples_to_features(tokenizer,input_examples,MAX_SEQ_LENGTH )\n",
        "  #Predicting the classes \n",
        "  predict_input_fn = input_fn_builder(features=input_features, seq_length=MAX_SEQ_LENGTH, is_training=False, drop_remainder=False)\n",
        "  predictions = estimator.predict(predict_input_fn)\n",
        "  if type_output == \"features\":\n",
        "    return [prediction['pooled_output'] for _,prediction in enumerate(predictions) ]\n",
        "  else:\n",
        "    return ([(sentence, prediction['probabilities'],\n",
        "              prediction['labels'], labels[prediction['labels']]) for sentence, prediction in zip(in_sentences, predictions)])"
      ],
      "execution_count": null,
      "outputs": []
    },
    {
      "cell_type": "code",
      "metadata": {
        "colab": {
          "base_uri": "https://localhost:8080/"
        },
        "id": "V_60BrgK5vTB",
        "outputId": "09fcc1bf-c290-4494-9ba2-7a71eb8f4a46"
      },
      "source": [
        "tf.compat.v1.logging.set_verbosity(tf.compat.v1.logging.ERROR)\n",
        "MAX_SEQ_LENGTH"
      ],
      "execution_count": null,
      "outputs": [
        {
          "output_type": "execute_result",
          "data": {
            "text/plain": [
              "200"
            ]
          },
          "metadata": {},
          "execution_count": 98
        }
      ]
    },
    {
      "cell_type": "code",
      "metadata": {
        "colab": {
          "base_uri": "https://localhost:8080/"
        },
        "id": "NmBcjVnA5vW3",
        "outputId": "ea7f5db4-390c-4f27-aac1-ff71d0c526b5"
      },
      "source": [
        "train_df.shape, val_df.shape"
      ],
      "execution_count": null,
      "outputs": [
        {
          "output_type": "execute_result",
          "data": {
            "text/plain": [
              "((22871, 2), (5722, 2))"
            ]
          },
          "metadata": {},
          "execution_count": 99
        }
      ]
    },
    {
      "cell_type": "code",
      "metadata": {
        "colab": {
          "base_uri": "https://localhost:8080/"
        },
        "id": "Rsm_CEtN5vaH",
        "outputId": "053b2e81-a0a9-4c2f-af80-47db4dd1257b"
      },
      "source": [
        "tr_emb = np.apply_along_axis(getPrediction, 0,np.array(train_df[DATA_COLUMN]))"
      ],
      "execution_count": null,
      "outputs": [
        {
          "output_type": "stream",
          "name": "stderr",
          "text": [
            "Converting examples to features: 100%|██████████| 22871/22871 [01:13<00:00, 309.90it/s]\n"
          ]
        }
      ]
    },
    {
      "cell_type": "code",
      "metadata": {
        "colab": {
          "base_uri": "https://localhost:8080/"
        },
        "id": "8vTZ-uV36Ds-",
        "outputId": "1a252298-5b92-4b5e-c38c-4bb227a4a68f"
      },
      "source": [
        "val_emb = np.apply_along_axis(getPrediction, 0,np.array(val_df[DATA_COLUMN]))\n",
        "val_emb.shape"
      ],
      "execution_count": null,
      "outputs": [
        {
          "output_type": "stream",
          "name": "stderr",
          "text": [
            "Converting examples to features: 100%|██████████| 5722/5722 [00:18<00:00, 313.93it/s]\n"
          ]
        },
        {
          "output_type": "execute_result",
          "data": {
            "text/plain": [
              "(5722, 768)"
            ]
          },
          "metadata": {},
          "execution_count": 101
        }
      ]
    },
    {
      "cell_type": "code",
      "metadata": {
        "id": "TBnrsxrZw8Mh",
        "colab": {
          "base_uri": "https://localhost:8080/"
        },
        "outputId": "c7a3b663-244a-4f4f-fa87-ec871a5a044b"
      },
      "source": [
        "test_emb = np.apply_along_axis(getPrediction, 0,np.array(test_df[DATA_COLUMN]))"
      ],
      "execution_count": null,
      "outputs": [
        {
          "output_type": "stream",
          "name": "stderr",
          "text": [
            "Converting examples to features: 100%|██████████| 11032/11032 [00:35<00:00, 308.55it/s]\n"
          ]
        }
      ]
    },
    {
      "cell_type": "code",
      "metadata": {
        "colab": {
          "base_uri": "https://localhost:8080/"
        },
        "id": "2UyEB1BP6DwG",
        "outputId": "7cf7d58d-3851-403e-b360-59d67657fac5"
      },
      "source": [
        "tr_emb.shape, val_emb.shape, test_emb.shape"
      ],
      "execution_count": null,
      "outputs": [
        {
          "output_type": "execute_result",
          "data": {
            "text/plain": [
              "((22871, 768), (5722, 768), (11032, 768))"
            ]
          },
          "metadata": {},
          "execution_count": 103
        }
      ]
    },
    {
      "cell_type": "code",
      "metadata": {
        "colab": {
          "base_uri": "https://localhost:8080/"
        },
        "id": "rpOURexG6D11",
        "outputId": "dc45b1b4-4441-4728-a07a-f1499029b15d"
      },
      "source": [
        "aux = -1\n",
        "len_l = 0\n",
        "train_x = {}\n",
        "for l, emb in zip(index_l, tr_emb):\n",
        "  if l in train_x.keys():\n",
        "    train_x[l]  =np.vstack([train_x[l], emb])\n",
        "  else:\n",
        "    train_x[l] = [emb]\n",
        "\n",
        "len(train_x.keys())"
      ],
      "execution_count": null,
      "outputs": [
        {
          "output_type": "execute_result",
          "data": {
            "text/plain": [
              "11507"
            ]
          },
          "metadata": {},
          "execution_count": 104
        }
      ]
    },
    {
      "cell_type": "code",
      "metadata": {
        "colab": {
          "base_uri": "https://localhost:8080/",
          "height": 204
        },
        "id": "1rlNTPZk6D8K",
        "outputId": "cb82da47-b6f1-401a-acbc-3ddabb108422"
      },
      "source": [
        "train_l_final = []\n",
        "label_l_final = []\n",
        "for k in train_x.keys():\n",
        "  train_l_final.append(train_x[k])\n",
        "  label_l_final.append(train.loc[k]['label'])\n",
        "\n",
        "df_train = pd.DataFrame({'emb': train_l_final, 'label': label_l_final, })\n",
        "df_train.head()"
      ],
      "execution_count": null,
      "outputs": [
        {
          "output_type": "execute_result",
          "data": {
            "text/html": [
              "<div>\n",
              "<style scoped>\n",
              "    .dataframe tbody tr th:only-of-type {\n",
              "        vertical-align: middle;\n",
              "    }\n",
              "\n",
              "    .dataframe tbody tr th {\n",
              "        vertical-align: top;\n",
              "    }\n",
              "\n",
              "    .dataframe thead th {\n",
              "        text-align: right;\n",
              "    }\n",
              "</style>\n",
              "<table border=\"1\" class=\"dataframe\">\n",
              "  <thead>\n",
              "    <tr style=\"text-align: right;\">\n",
              "      <th></th>\n",
              "      <th>emb</th>\n",
              "      <th>label</th>\n",
              "    </tr>\n",
              "  </thead>\n",
              "  <tbody>\n",
              "    <tr>\n",
              "      <th>0</th>\n",
              "      <td>[[0.86072046, 0.43798667, -0.7019593, -0.88125...</td>\n",
              "      <td>6</td>\n",
              "    </tr>\n",
              "    <tr>\n",
              "      <th>1</th>\n",
              "      <td>[[0.9019492, 0.05607622, -0.26593843, -0.92448...</td>\n",
              "      <td>6</td>\n",
              "    </tr>\n",
              "    <tr>\n",
              "      <th>2</th>\n",
              "      <td>[[0.8820344, 0.3613367, -0.7108693, -0.8903254...</td>\n",
              "      <td>6</td>\n",
              "    </tr>\n",
              "    <tr>\n",
              "      <th>3</th>\n",
              "      <td>[[0.8209958, 0.6560065, -0.57341295, -0.896481...</td>\n",
              "      <td>6</td>\n",
              "    </tr>\n",
              "    <tr>\n",
              "      <th>4</th>\n",
              "      <td>[[0.89665663, 0.27449828, 0.09723861, -0.96131...</td>\n",
              "      <td>6</td>\n",
              "    </tr>\n",
              "  </tbody>\n",
              "</table>\n",
              "</div>"
            ],
            "text/plain": [
              "                                                 emb  label\n",
              "0  [[0.86072046, 0.43798667, -0.7019593, -0.88125...      6\n",
              "1  [[0.9019492, 0.05607622, -0.26593843, -0.92448...      6\n",
              "2  [[0.8820344, 0.3613367, -0.7108693, -0.8903254...      6\n",
              "3  [[0.8209958, 0.6560065, -0.57341295, -0.896481...      6\n",
              "4  [[0.89665663, 0.27449828, 0.09723861, -0.96131...      6"
            ]
          },
          "metadata": {},
          "execution_count": 105
        }
      ]
    },
    {
      "cell_type": "code",
      "metadata": {
        "colab": {
          "base_uri": "https://localhost:8080/",
          "height": 204
        },
        "id": "Ma7LNNTz6EBJ",
        "outputId": "c95857fc-66c0-47db-b4ce-b8b5350970d7"
      },
      "source": [
        "aux = -1\n",
        "len_l = 0\n",
        "val_x = {}\n",
        "\n",
        "for l, emb in zip(val_index_l, val_emb):\n",
        "  if l in val_x.keys():\n",
        "    val_x[l]  =np.vstack([val_x[l], emb])\n",
        "  else:\n",
        "    val_x[l] = [emb]\n",
        "\n",
        "\n",
        "val_l_final = []\n",
        "vlabel_l_final = []\n",
        "for k in val_x.keys():\n",
        "  val_l_final.append(val_x[k])\n",
        "  vlabel_l_final.append(val.loc[k]['label'])\n",
        "\n",
        "df_val = pd.DataFrame({'emb': val_l_final, 'label': vlabel_l_final})\n",
        "df_val.head()"
      ],
      "execution_count": null,
      "outputs": [
        {
          "output_type": "execute_result",
          "data": {
            "text/html": [
              "<div>\n",
              "<style scoped>\n",
              "    .dataframe tbody tr th:only-of-type {\n",
              "        vertical-align: middle;\n",
              "    }\n",
              "\n",
              "    .dataframe tbody tr th {\n",
              "        vertical-align: top;\n",
              "    }\n",
              "\n",
              "    .dataframe thead th {\n",
              "        text-align: right;\n",
              "    }\n",
              "</style>\n",
              "<table border=\"1\" class=\"dataframe\">\n",
              "  <thead>\n",
              "    <tr style=\"text-align: right;\">\n",
              "      <th></th>\n",
              "      <th>emb</th>\n",
              "      <th>label</th>\n",
              "    </tr>\n",
              "  </thead>\n",
              "  <tbody>\n",
              "    <tr>\n",
              "      <th>0</th>\n",
              "      <td>[[-0.9061749, 0.41015404, 0.6649685, -0.122788...</td>\n",
              "      <td>2</td>\n",
              "    </tr>\n",
              "    <tr>\n",
              "      <th>1</th>\n",
              "      <td>[[-0.31267247, -0.1406635, 0.5538943, -0.63370...</td>\n",
              "      <td>0</td>\n",
              "    </tr>\n",
              "    <tr>\n",
              "      <th>2</th>\n",
              "      <td>[[0.694341, 0.32753816, 0.77483904, -0.5109974...</td>\n",
              "      <td>4</td>\n",
              "    </tr>\n",
              "    <tr>\n",
              "      <th>3</th>\n",
              "      <td>[[0.79286414, -0.37492448, -0.19703907, -0.813...</td>\n",
              "      <td>1</td>\n",
              "    </tr>\n",
              "    <tr>\n",
              "      <th>4</th>\n",
              "      <td>[[0.22756599, -0.34257317, -0.7038676, 0.60045...</td>\n",
              "      <td>3</td>\n",
              "    </tr>\n",
              "  </tbody>\n",
              "</table>\n",
              "</div>"
            ],
            "text/plain": [
              "                                                 emb  label\n",
              "0  [[-0.9061749, 0.41015404, 0.6649685, -0.122788...      2\n",
              "1  [[-0.31267247, -0.1406635, 0.5538943, -0.63370...      0\n",
              "2  [[0.694341, 0.32753816, 0.77483904, -0.5109974...      4\n",
              "3  [[0.79286414, -0.37492448, -0.19703907, -0.813...      1\n",
              "4  [[0.22756599, -0.34257317, -0.7038676, 0.60045...      3"
            ]
          },
          "metadata": {},
          "execution_count": 106
        }
      ]
    },
    {
      "cell_type": "code",
      "metadata": {
        "colab": {
          "base_uri": "https://localhost:8080/",
          "height": 204
        },
        "id": "X-f3FUjCBr8J",
        "outputId": "a4a39649-a6b4-4633-916e-e1a46a6e6fb6"
      },
      "source": [
        "aux = -1\n",
        "len_l = 0\n",
        "test_x = {}\n",
        "\n",
        "for l, emb in zip(test_index_l, test_emb):\n",
        "  if l in test_x.keys():\n",
        "    test_x[l]  =np.vstack([test_x[l], emb])\n",
        "  else:\n",
        "    test_x[l] = [emb]\n",
        "\n",
        "\n",
        "test_l_final = []\n",
        "telabel_l_final = []\n",
        "for k in test_x.keys():\n",
        "  test_l_final.append(test_x[k])\n",
        "  telabel_l_final.append(test_set.loc[k]['label'])\n",
        "\n",
        "df_test = pd.DataFrame({'emb': test_l_final, 'label': telabel_l_final})\n",
        "df_test.head()"
      ],
      "execution_count": null,
      "outputs": [
        {
          "output_type": "execute_result",
          "data": {
            "text/html": [
              "<div>\n",
              "<style scoped>\n",
              "    .dataframe tbody tr th:only-of-type {\n",
              "        vertical-align: middle;\n",
              "    }\n",
              "\n",
              "    .dataframe tbody tr th {\n",
              "        vertical-align: top;\n",
              "    }\n",
              "\n",
              "    .dataframe thead th {\n",
              "        text-align: right;\n",
              "    }\n",
              "</style>\n",
              "<table border=\"1\" class=\"dataframe\">\n",
              "  <thead>\n",
              "    <tr style=\"text-align: right;\">\n",
              "      <th></th>\n",
              "      <th>emb</th>\n",
              "      <th>label</th>\n",
              "    </tr>\n",
              "  </thead>\n",
              "  <tbody>\n",
              "    <tr>\n",
              "      <th>0</th>\n",
              "      <td>[[0.77756655, 0.6698861, -0.4963346, -0.904869...</td>\n",
              "      <td>6</td>\n",
              "    </tr>\n",
              "    <tr>\n",
              "      <th>1</th>\n",
              "      <td>[[0.49540016, 0.51043004, -0.6766944, -0.40249...</td>\n",
              "      <td>3</td>\n",
              "    </tr>\n",
              "    <tr>\n",
              "      <th>2</th>\n",
              "      <td>[[0.76287097, -0.34154505, -0.6350638, -0.7079...</td>\n",
              "      <td>4</td>\n",
              "    </tr>\n",
              "    <tr>\n",
              "      <th>3</th>\n",
              "      <td>[[0.8625518, -0.43675116, 0.29617095, -0.91736...</td>\n",
              "      <td>6</td>\n",
              "    </tr>\n",
              "    <tr>\n",
              "      <th>4</th>\n",
              "      <td>[[0.7242977, 0.36210737, 0.5060949, -0.8694733...</td>\n",
              "      <td>6</td>\n",
              "    </tr>\n",
              "  </tbody>\n",
              "</table>\n",
              "</div>"
            ],
            "text/plain": [
              "                                                 emb  label\n",
              "0  [[0.77756655, 0.6698861, -0.4963346, -0.904869...      6\n",
              "1  [[0.49540016, 0.51043004, -0.6766944, -0.40249...      3\n",
              "2  [[0.76287097, -0.34154505, -0.6350638, -0.7079...      4\n",
              "3  [[0.8625518, -0.43675116, 0.29617095, -0.91736...      6\n",
              "4  [[0.7242977, 0.36210737, 0.5060949, -0.8694733...      6"
            ]
          },
          "metadata": {},
          "execution_count": 107
        }
      ]
    },
    {
      "cell_type": "code",
      "metadata": {
        "colab": {
          "base_uri": "https://localhost:8080/"
        },
        "id": "UJ5DvHYoCDur",
        "outputId": "d7d2efe5-f0ce-4f20-b1ff-41ea24810615"
      },
      "source": [
        "df_train.shape, df_val.shape, df_test.shape"
      ],
      "execution_count": null,
      "outputs": [
        {
          "output_type": "execute_result",
          "data": {
            "text/plain": [
              "((11507, 2), (2877, 2), (2758, 2))"
            ]
          },
          "metadata": {},
          "execution_count": 108
        }
      ]
    },
    {
      "cell_type": "code",
      "metadata": {
        "id": "JA5PvzWrw8U6"
      },
      "source": [
        "# import pickle\n",
        "\n",
        "# pickle_out = open(\"/content/drive/MyDrive/AEdf_train_cc.pickle\",\"wb\")\n",
        "# pickle.dump(df_train, pickle_out)\n",
        "# pickle_out.close()\n",
        "\n",
        "# pickle_out = open(\"/content/drive/MyDrive/AEdf_val_cc.pickle\",\"wb\")\n",
        "# pickle.dump(df_val, pickle_out)\n",
        "# pickle_out.close()\n",
        "\n",
        "# pickle_out = open(\"/content/drive/MyDrive/AEdf_test_cc.pickle\",\"wb\")\n",
        "# pickle.dump(df_test, pickle_out)\n",
        "# pickle_out.close()"
      ],
      "execution_count": null,
      "outputs": []
    },
    {
      "cell_type": "code",
      "metadata": {
        "id": "ftD4FIuoguKL"
      },
      "source": [
        "# len(df_train['emb'][0])"
      ],
      "execution_count": null,
      "outputs": []
    },
    {
      "cell_type": "markdown",
      "metadata": {
        "id": "6dq_SrCyrwaO"
      },
      "source": [
        "## **Autoencoders**"
      ]
    },
    {
      "cell_type": "code",
      "metadata": {
        "id": "dn4GjE8fU9Wj"
      },
      "source": [
        "# import pickle"
      ],
      "execution_count": null,
      "outputs": []
    },
    {
      "cell_type": "code",
      "metadata": {
        "id": "8uuNVn7iU1v6"
      },
      "source": [
        "# pickle_in = open(\"/content/drive/MyDrive/AEdf_train_cc.pickle\",\"rb\")\n",
        "# df_train = pickle.load(pickle_in)\n",
        "\n",
        "# pickle_in = open(\"/content/drive/MyDrive/AEdf_val_cc.pickle\",\"rb\")\n",
        "# df_val = pickle.load(pickle_in)\n",
        "\n",
        "# pickle_in = open(\"/content/drive/MyDrive/AEdf_test_cc.pickle\",\"rb\")\n",
        "# df_test = pickle.load(pickle_in)"
      ],
      "execution_count": null,
      "outputs": []
    },
    {
      "cell_type": "code",
      "metadata": {
        "id": "HvKGIddtwCwe"
      },
      "source": [
        "def finding_mean(mat):\n",
        "    return np.mean(mat, axis=0)"
      ],
      "execution_count": null,
      "outputs": []
    },
    {
      "cell_type": "code",
      "metadata": {
        "id": "xjyvzTSDwNTw"
      },
      "source": [
        "df_train['mean_emb'] = df_train['emb'].apply(finding_mean)"
      ],
      "execution_count": null,
      "outputs": []
    },
    {
      "cell_type": "code",
      "metadata": {
        "id": "wPkehspWwMxL"
      },
      "source": [
        "df_val['mean_emb'] = df_val['emb'].apply(finding_mean)"
      ],
      "execution_count": null,
      "outputs": []
    },
    {
      "cell_type": "code",
      "metadata": {
        "id": "wzphOEhnwMtE"
      },
      "source": [
        "df_test['mean_emb'] = df_test['emb'].apply(finding_mean)"
      ],
      "execution_count": null,
      "outputs": []
    },
    {
      "cell_type": "code",
      "metadata": {
        "colab": {
          "base_uri": "https://localhost:8080/",
          "height": 111
        },
        "id": "Ccg4S2krxnLP",
        "outputId": "fc5aa109-c7e9-4184-a3bc-27924ba4bfa7"
      },
      "source": [
        "df_val.reset_index(drop=True, inplace=True)\n",
        "df_val.head(2)"
      ],
      "execution_count": null,
      "outputs": [
        {
          "output_type": "execute_result",
          "data": {
            "text/html": [
              "<div>\n",
              "<style scoped>\n",
              "    .dataframe tbody tr th:only-of-type {\n",
              "        vertical-align: middle;\n",
              "    }\n",
              "\n",
              "    .dataframe tbody tr th {\n",
              "        vertical-align: top;\n",
              "    }\n",
              "\n",
              "    .dataframe thead th {\n",
              "        text-align: right;\n",
              "    }\n",
              "</style>\n",
              "<table border=\"1\" class=\"dataframe\">\n",
              "  <thead>\n",
              "    <tr style=\"text-align: right;\">\n",
              "      <th></th>\n",
              "      <th>emb</th>\n",
              "      <th>label</th>\n",
              "      <th>mean_emb</th>\n",
              "    </tr>\n",
              "  </thead>\n",
              "  <tbody>\n",
              "    <tr>\n",
              "      <th>0</th>\n",
              "      <td>[[-0.9061749, 0.41015404, 0.6649685, -0.122788...</td>\n",
              "      <td>2</td>\n",
              "      <td>[-0.91931015, 0.18508063, 0.6228454, -0.103337...</td>\n",
              "    </tr>\n",
              "    <tr>\n",
              "      <th>1</th>\n",
              "      <td>[[-0.31267247, -0.1406635, 0.5538943, -0.63370...</td>\n",
              "      <td>0</td>\n",
              "      <td>[-0.19657195, -0.25499365, 0.48945713, -0.6833...</td>\n",
              "    </tr>\n",
              "  </tbody>\n",
              "</table>\n",
              "</div>"
            ],
            "text/plain": [
              "                                                 emb  ...                                           mean_emb\n",
              "0  [[-0.9061749, 0.41015404, 0.6649685, -0.122788...  ...  [-0.91931015, 0.18508063, 0.6228454, -0.103337...\n",
              "1  [[-0.31267247, -0.1406635, 0.5538943, -0.63370...  ...  [-0.19657195, -0.25499365, 0.48945713, -0.6833...\n",
              "\n",
              "[2 rows x 3 columns]"
            ]
          },
          "metadata": {},
          "execution_count": 117
        }
      ]
    },
    {
      "cell_type": "code",
      "metadata": {
        "colab": {
          "base_uri": "https://localhost:8080/",
          "height": 111
        },
        "id": "zbL4ykRjxm9y",
        "outputId": "d3e852f3-65e1-4954-ddf0-af7d893eb069"
      },
      "source": [
        "df_test.reset_index(drop=True, inplace=True)\n",
        "df_test.head(2)"
      ],
      "execution_count": null,
      "outputs": [
        {
          "output_type": "execute_result",
          "data": {
            "text/html": [
              "<div>\n",
              "<style scoped>\n",
              "    .dataframe tbody tr th:only-of-type {\n",
              "        vertical-align: middle;\n",
              "    }\n",
              "\n",
              "    .dataframe tbody tr th {\n",
              "        vertical-align: top;\n",
              "    }\n",
              "\n",
              "    .dataframe thead th {\n",
              "        text-align: right;\n",
              "    }\n",
              "</style>\n",
              "<table border=\"1\" class=\"dataframe\">\n",
              "  <thead>\n",
              "    <tr style=\"text-align: right;\">\n",
              "      <th></th>\n",
              "      <th>emb</th>\n",
              "      <th>label</th>\n",
              "      <th>mean_emb</th>\n",
              "    </tr>\n",
              "  </thead>\n",
              "  <tbody>\n",
              "    <tr>\n",
              "      <th>0</th>\n",
              "      <td>[[0.77756655, 0.6698861, -0.4963346, -0.904869...</td>\n",
              "      <td>6</td>\n",
              "      <td>[0.36100292, 0.35160166, -0.21518295, -0.82993...</td>\n",
              "    </tr>\n",
              "    <tr>\n",
              "      <th>1</th>\n",
              "      <td>[[0.49540016, 0.51043004, -0.6766944, -0.40249...</td>\n",
              "      <td>3</td>\n",
              "      <td>[0.50985795, 0.15801601, -0.70547223, 0.025880...</td>\n",
              "    </tr>\n",
              "  </tbody>\n",
              "</table>\n",
              "</div>"
            ],
            "text/plain": [
              "                                                 emb  ...                                           mean_emb\n",
              "0  [[0.77756655, 0.6698861, -0.4963346, -0.904869...  ...  [0.36100292, 0.35160166, -0.21518295, -0.82993...\n",
              "1  [[0.49540016, 0.51043004, -0.6766944, -0.40249...  ...  [0.50985795, 0.15801601, -0.70547223, 0.025880...\n",
              "\n",
              "[2 rows x 3 columns]"
            ]
          },
          "metadata": {},
          "execution_count": 118
        }
      ]
    },
    {
      "cell_type": "code",
      "metadata": {
        "id": "m7lnrXUHrwIJ"
      },
      "source": [
        "train_x =np.array(df_train['mean_emb'])"
      ],
      "execution_count": null,
      "outputs": []
    },
    {
      "cell_type": "code",
      "metadata": {
        "colab": {
          "base_uri": "https://localhost:8080/"
        },
        "id": "yWzNjZoqrv4s",
        "outputId": "956f5e4a-aaf8-4502-94fd-48f0692d2104"
      },
      "source": [
        "train_x[0].shape"
      ],
      "execution_count": null,
      "outputs": [
        {
          "output_type": "execute_result",
          "data": {
            "text/plain": [
              "(768,)"
            ]
          },
          "metadata": {},
          "execution_count": 120
        }
      ]
    },
    {
      "cell_type": "code",
      "metadata": {
        "id": "L7VHMLh7rvpG"
      },
      "source": [
        "dev_x =np.array(df_val['mean_emb'])\n",
        "test_x = np.array(df_test['mean_emb'])"
      ],
      "execution_count": null,
      "outputs": []
    },
    {
      "cell_type": "code",
      "metadata": {
        "colab": {
          "base_uri": "https://localhost:8080/"
        },
        "id": "9hGD3p4ArvXQ",
        "outputId": "c4f2b0fb-af4e-43e2-e62e-097fbc86db3e"
      },
      "source": [
        "train_x.shape, dev_x.shape, test_x.shape"
      ],
      "execution_count": null,
      "outputs": [
        {
          "output_type": "execute_result",
          "data": {
            "text/plain": [
              "((11507,), (2877,), (2758,))"
            ]
          },
          "metadata": {},
          "execution_count": 122
        }
      ]
    },
    {
      "cell_type": "code",
      "metadata": {
        "colab": {
          "base_uri": "https://localhost:8080/"
        },
        "id": "FKmIYuFuso5M",
        "outputId": "27e571e8-ba0e-42e6-d637-2b947e6aa31f"
      },
      "source": [
        "train_x.shape"
      ],
      "execution_count": null,
      "outputs": [
        {
          "output_type": "execute_result",
          "data": {
            "text/plain": [
              "(11507,)"
            ]
          },
          "metadata": {},
          "execution_count": 123
        }
      ]
    },
    {
      "cell_type": "code",
      "metadata": {
        "id": "n09pNAvWsrqe"
      },
      "source": [
        "# len(train_x[0][])"
      ],
      "execution_count": null,
      "outputs": []
    },
    {
      "cell_type": "code",
      "metadata": {
        "id": "5jA_lTCskSzb"
      },
      "source": [
        "import sys"
      ],
      "execution_count": null,
      "outputs": []
    },
    {
      "cell_type": "code",
      "metadata": {
        "id": "Sassk21SjiZY"
      },
      "source": [
        "x_train=[]\n",
        "y_train=[]\n",
        "for i in range(df_train.shape[0]):\n",
        "  x_train.append(df_train[\"mean_emb\"][i])\n",
        "  y_train.append(df_train[\"label\"][i])\n",
        "\n",
        "X = np.array(x_train)\n",
        "y = np.array(y_train)"
      ],
      "execution_count": null,
      "outputs": []
    },
    {
      "cell_type": "code",
      "metadata": {
        "id": "i23SCeuuw4zt"
      },
      "source": [
        "x_val = []\n",
        "y_val = []\n",
        "for i in range(df_val.shape[0]):\n",
        "  x_val.append(df_val[\"mean_emb\"][i])\n",
        "  y_val.append(df_val[\"label\"][i])\n",
        "\n",
        "X_val = np.array(x_val)\n",
        "y_val = np.array(y_val)"
      ],
      "execution_count": null,
      "outputs": []
    },
    {
      "cell_type": "code",
      "metadata": {
        "id": "jtupF7whw4wf"
      },
      "source": [
        "x_test=[]\n",
        "y_test=[]\n",
        "for i in range(df_test.shape[0]):\n",
        "  x_test.append(df_test[\"mean_emb\"][i])\n",
        "  y_test.append(df_test[\"label\"][i])\n",
        "\n",
        "X_test = np.array(x_test)\n",
        "y_test = np.array(y_test)"
      ],
      "execution_count": null,
      "outputs": []
    },
    {
      "cell_type": "code",
      "metadata": {
        "colab": {
          "base_uri": "https://localhost:8080/"
        },
        "id": "oKOK3YItj2O3",
        "outputId": "2fcc7f93-52fb-4954-9ad9-caa72a53a730"
      },
      "source": [
        "X.shape, X_val.shape, X_test.shape"
      ],
      "execution_count": null,
      "outputs": [
        {
          "output_type": "execute_result",
          "data": {
            "text/plain": [
              "((11507, 768), (2877, 768), (2758, 768))"
            ]
          },
          "metadata": {},
          "execution_count": 129
        }
      ]
    },
    {
      "cell_type": "code",
      "metadata": {
        "colab": {
          "base_uri": "https://localhost:8080/"
        },
        "id": "qeaICgbxy6C8",
        "outputId": "d526437c-bd75-4491-8a3b-4114a8245da4"
      },
      "source": [
        "X"
      ],
      "execution_count": null,
      "outputs": [
        {
          "output_type": "execute_result",
          "data": {
            "text/plain": [
              "array([[ 0.88277185,  0.52090144, -0.68227226, ..., -0.9726062 ,\n",
              "        -0.08058631, -0.65581596],\n",
              "       [ 0.61674076,  0.08631352, -0.2646845 , ..., -0.8255411 ,\n",
              "        -0.18265043, -0.61337215],\n",
              "       [ 0.8846793 ,  0.16234295, -0.5977392 , ..., -0.928701  ,\n",
              "        -0.13180985, -0.5424822 ],\n",
              "       ...,\n",
              "       [ 0.6516204 ,  0.5347675 , -0.6124982 , ..., -0.93891   ,\n",
              "        -0.1506753 , -0.69749194],\n",
              "       [ 0.8400519 ,  0.59478617, -0.54205006, ..., -0.97618085,\n",
              "        -0.09541523, -0.46909273],\n",
              "       [ 0.5189385 ,  0.22839591,  0.06082961, ..., -0.87783027,\n",
              "        -0.05065242, -0.7075019 ]], dtype=float32)"
            ]
          },
          "metadata": {},
          "execution_count": 130
        }
      ]
    },
    {
      "cell_type": "code",
      "metadata": {
        "id": "vE2d7Ee2i3-d"
      },
      "source": [
        "# X_train = X.reshape((X.shape[1], -1))\n",
        "# X_train.shape\n",
        "# x_test = x_test.reshape((len(x_test), np.prod(x_test.shape[1:])))"
      ],
      "execution_count": null,
      "outputs": []
    },
    {
      "cell_type": "code",
      "metadata": {
        "id": "5_FDCGlXuMGN"
      },
      "source": [
        "train_y = np.array(df_train['label'])\n",
        "dev_y = np.array(df_val['label'])\n",
        "test_y = np.array(df_test['label'])"
      ],
      "execution_count": null,
      "outputs": []
    },
    {
      "cell_type": "code",
      "metadata": {
        "colab": {
          "base_uri": "https://localhost:8080/"
        },
        "id": "cHuJXTPtuMDl",
        "outputId": "6f8041e2-20fd-4733-e823-3e9e5262c796"
      },
      "source": [
        "train_y.shape, dev_y.shape, test_y.shape"
      ],
      "execution_count": null,
      "outputs": [
        {
          "output_type": "execute_result",
          "data": {
            "text/plain": [
              "((11507,), (2877,), (2758,))"
            ]
          },
          "metadata": {},
          "execution_count": 133
        }
      ]
    },
    {
      "cell_type": "code",
      "metadata": {
        "id": "2TrKIppPtsLk"
      },
      "source": [
        "# def input_generator(df):\n",
        "#     x_list= df['emb'].to_list()\n",
        "#     y_list= df.label.to_list()\n",
        "#     timesteps = len(max(df['emb'].to_list(), key=len))\n",
        "#     x_train= np.full((df['emb'].shape[0], timesteps, 768), -99.)\n",
        "#     y_train = np.zeros((df['emb'].shape[0],  1))\n",
        "#     for b in range(len(x_list)):\n",
        "#         x_train[b, 0:len(x_list[b]), :] = x_list[b]\n",
        "#         y_train[b]=y_list[b]\n",
        "#     return x_train, y_train"
      ],
      "execution_count": null,
      "outputs": []
    },
    {
      "cell_type": "code",
      "metadata": {
        "id": "r-cnCT-juEJD"
      },
      "source": [
        "# x_train_new,y_train_new=input_generator(df_train)\n",
        "# x_train_new.shape, y_train_new.shape"
      ],
      "execution_count": null,
      "outputs": []
    },
    {
      "cell_type": "code",
      "metadata": {
        "id": "4VJjEPriuEFj"
      },
      "source": [
        "# x_val_new,y_val_new=input_generator(df_val)\n",
        "# x_val_new.shape, y_val_new.shape"
      ],
      "execution_count": null,
      "outputs": []
    },
    {
      "cell_type": "code",
      "metadata": {
        "id": "ZUj7iI5RuwBL"
      },
      "source": [
        "from keras import layers\n",
        "from keras.layers import Embedding, Dense, Input, concatenate, Layer, Lambda, Dropout, Activation\n",
        "from keras.models import Sequential, Model"
      ],
      "execution_count": null,
      "outputs": []
    },
    {
      "cell_type": "code",
      "metadata": {
        "colab": {
          "base_uri": "https://localhost:8080/",
          "height": 1000
        },
        "id": "PWWOIC72uMAZ",
        "outputId": "1437c5ab-a5c1-485b-a684-190f1e8dadf3"
      },
      "source": [
        "encoding_dim = 500\n",
        "\n",
        "# Define input layer\n",
        "input_data = Input(shape=(768,))\n",
        "# Define encoding layer\n",
        "encoded = Dense(encoding_dim, activation='relu')(input_data)\n",
        "# Define decoding layer\n",
        "decoded = Dense(768, activation='sigmoid')(encoded)\n",
        "# Create the autoencoder model\n",
        "autoencoder = Model(input_data, decoded)\n",
        "#Compile the autoencoder model\n",
        "autoencoder.compile(metrics = ['mse'],\n",
        "                    optimizer='adam',\n",
        "                    loss='binary_crossentropy')\n",
        "\n",
        "autoencoder.summary()\n",
        "\n",
        "#Fit to train set, validate with dev set and save to hist_auto for plotting purposes\n",
        "hist_auto = autoencoder.fit(X, X, epochs = 50, batch_size=256, shuffle=True, validation_data=(X_val, X_val))\n",
        "#(train_x, train_x, epochs=50)\n",
        "#, batch_size=256, shuffle=True, validation_data=(dev_x, dev_x))\n",
        "\n",
        "# Summarize history for loss\n",
        "plt.figure()\n",
        "plt.plot(hist_auto.history['loss'])\n",
        "plt.plot(hist_auto.history['val_loss'])\n",
        "plt.title('Autoencoder model loss')\n",
        "plt.ylabel('loss')\n",
        "plt.xlabel('epoch')\n",
        "plt.legend(['train', 'test'], loc='upper right')\n",
        "plt.show()"
      ],
      "execution_count": null,
      "outputs": [
        {
          "output_type": "stream",
          "name": "stdout",
          "text": [
            "Model: \"model\"\n",
            "_________________________________________________________________\n",
            " Layer (type)                Output Shape              Param #   \n",
            "=================================================================\n",
            " input_1 (InputLayer)        [(None, 768)]             0         \n",
            "                                                                 \n",
            " dense (Dense)               (None, 500)               384500    \n",
            "                                                                 \n",
            " dense_1 (Dense)             (None, 768)               384768    \n",
            "                                                                 \n",
            "=================================================================\n",
            "Total params: 769,268\n",
            "Trainable params: 769,268\n",
            "Non-trainable params: 0\n",
            "_________________________________________________________________\n",
            "Train on 11507 samples, validate on 2877 samples\n",
            "Epoch 1/50\n",
            "11507/11507 [==============================] - 0s 22us/sample - loss: -9.9111 - mean_squared_error: 0.2788 - val_loss: -35.6596 - val_mean_squared_error: 0.2533\n",
            "Epoch 2/50\n",
            "11507/11507 [==============================] - 0s 12us/sample - loss: -103.5911 - mean_squared_error: 0.2653 - val_loss: -200.3233 - val_mean_squared_error: 0.2689\n"
          ]
        },
        {
          "output_type": "stream",
          "name": "stderr",
          "text": [
            "/usr/local/lib/python3.7/dist-packages/keras/engine/training_v1.py:2057: UserWarning: `Model.state_updates` will be removed in a future version. This property should not be used in TensorFlow 2.0, as `updates` are applied automatically.\n",
            "  updates = self.state_updates\n"
          ]
        },
        {
          "output_type": "stream",
          "name": "stdout",
          "text": [
            "Epoch 3/50\n",
            "11507/11507 [==============================] - 0s 12us/sample - loss: -351.5072 - mean_squared_error: 0.2754 - val_loss: -532.7300 - val_mean_squared_error: 0.2755\n",
            "Epoch 4/50\n",
            "11507/11507 [==============================] - 0s 12us/sample - loss: -772.2488 - mean_squared_error: 0.2798 - val_loss: -1040.8783 - val_mean_squared_error: 0.2786\n",
            "Epoch 5/50\n",
            "11507/11507 [==============================] - 0s 12us/sample - loss: -1371.4495 - mean_squared_error: 0.2824 - val_loss: -1722.2722 - val_mean_squared_error: 0.2810\n",
            "Epoch 6/50\n",
            "11507/11507 [==============================] - 0s 12us/sample - loss: -2148.7060 - mean_squared_error: 0.2839 - val_loss: -2578.2071 - val_mean_squared_error: 0.2820\n",
            "Epoch 7/50\n",
            "11507/11507 [==============================] - 0s 12us/sample - loss: -3100.6697 - mean_squared_error: 0.2848 - val_loss: -3608.2596 - val_mean_squared_error: 0.2837\n",
            "Epoch 8/50\n",
            "11507/11507 [==============================] - 0s 13us/sample - loss: -4226.1615 - mean_squared_error: 0.2861 - val_loss: -4809.5984 - val_mean_squared_error: 0.2837\n",
            "Epoch 9/50\n",
            "11507/11507 [==============================] - 0s 12us/sample - loss: -5524.3318 - mean_squared_error: 0.2867 - val_loss: -6176.9972 - val_mean_squared_error: 0.2853\n",
            "Epoch 10/50\n",
            "11507/11507 [==============================] - 0s 12us/sample - loss: -6990.2324 - mean_squared_error: 0.2875 - val_loss: -7707.4025 - val_mean_squared_error: 0.2860\n",
            "Epoch 11/50\n",
            "11507/11507 [==============================] - 0s 12us/sample - loss: -8622.6329 - mean_squared_error: 0.2880 - val_loss: -9400.3461 - val_mean_squared_error: 0.2860\n",
            "Epoch 12/50\n",
            "11507/11507 [==============================] - 0s 12us/sample - loss: -10414.6284 - mean_squared_error: 0.2884 - val_loss: -11259.5992 - val_mean_squared_error: 0.2854\n",
            "Epoch 13/50\n",
            "11507/11507 [==============================] - 0s 12us/sample - loss: -12369.3670 - mean_squared_error: 0.2887 - val_loss: -13269.3426 - val_mean_squared_error: 0.2865\n",
            "Epoch 14/50\n",
            "11507/11507 [==============================] - 0s 12us/sample - loss: -14478.0110 - mean_squared_error: 0.2891 - val_loss: -15437.0545 - val_mean_squared_error: 0.2857\n",
            "Epoch 15/50\n",
            "11507/11507 [==============================] - 0s 12us/sample - loss: -16744.7705 - mean_squared_error: 0.2893 - val_loss: -17744.6799 - val_mean_squared_error: 0.2871\n",
            "Epoch 16/50\n",
            "11507/11507 [==============================] - 0s 12us/sample - loss: -19158.2782 - mean_squared_error: 0.2897 - val_loss: -20217.3618 - val_mean_squared_error: 0.2868\n",
            "Epoch 17/50\n",
            "11507/11507 [==============================] - 0s 12us/sample - loss: -21729.0651 - mean_squared_error: 0.2898 - val_loss: -22819.0212 - val_mean_squared_error: 0.2869\n",
            "Epoch 18/50\n",
            "11507/11507 [==============================] - 0s 12us/sample - loss: -24442.9538 - mean_squared_error: 0.2900 - val_loss: -25572.8337 - val_mean_squared_error: 0.2864\n",
            "Epoch 19/50\n",
            "11507/11507 [==============================] - 0s 12us/sample - loss: -27305.0423 - mean_squared_error: 0.2902 - val_loss: -28467.8823 - val_mean_squared_error: 0.2875\n",
            "Epoch 20/50\n",
            "11507/11507 [==============================] - 0s 12us/sample - loss: -30306.4668 - mean_squared_error: 0.2903 - val_loss: -31510.5879 - val_mean_squared_error: 0.2885\n",
            "Epoch 21/50\n",
            "11507/11507 [==============================] - 0s 12us/sample - loss: -33451.8226 - mean_squared_error: 0.2907 - val_loss: -34685.7253 - val_mean_squared_error: 0.2881\n",
            "Epoch 22/50\n",
            "11507/11507 [==============================] - 0s 12us/sample - loss: -36738.5168 - mean_squared_error: 0.2906 - val_loss: -37984.7088 - val_mean_squared_error: 0.2890\n",
            "Epoch 23/50\n",
            "11507/11507 [==============================] - 0s 12us/sample - loss: -40152.0280 - mean_squared_error: 0.2907 - val_loss: -41446.7758 - val_mean_squared_error: 0.2881\n",
            "Epoch 24/50\n",
            "11507/11507 [==============================] - 0s 12us/sample - loss: -43710.9943 - mean_squared_error: 0.2909 - val_loss: -45019.0058 - val_mean_squared_error: 0.2879\n",
            "Epoch 25/50\n",
            "11507/11507 [==============================] - 0s 12us/sample - loss: -47401.5388 - mean_squared_error: 0.2910 - val_loss: -48716.4702 - val_mean_squared_error: 0.2878\n",
            "Epoch 26/50\n",
            "11507/11507 [==============================] - 0s 12us/sample - loss: -51215.6620 - mean_squared_error: 0.2910 - val_loss: -52563.3655 - val_mean_squared_error: 0.2884\n",
            "Epoch 27/50\n",
            "11507/11507 [==============================] - 0s 12us/sample - loss: -55163.2199 - mean_squared_error: 0.2911 - val_loss: -56533.5975 - val_mean_squared_error: 0.2891\n",
            "Epoch 28/50\n",
            "11507/11507 [==============================] - 0s 12us/sample - loss: -59244.9393 - mean_squared_error: 0.2912 - val_loss: -60606.3986 - val_mean_squared_error: 0.2882\n",
            "Epoch 29/50\n",
            "11507/11507 [==============================] - 0s 12us/sample - loss: -63439.8212 - mean_squared_error: 0.2913 - val_loss: -64832.7254 - val_mean_squared_error: 0.2887\n",
            "Epoch 30/50\n",
            "11507/11507 [==============================] - 0s 12us/sample - loss: -67772.4562 - mean_squared_error: 0.2913 - val_loss: -69160.0986 - val_mean_squared_error: 0.2887\n",
            "Epoch 31/50\n",
            "11507/11507 [==============================] - 0s 12us/sample - loss: -72223.9057 - mean_squared_error: 0.2913 - val_loss: -73605.8029 - val_mean_squared_error: 0.2890\n",
            "Epoch 32/50\n",
            "11507/11507 [==============================] - 0s 12us/sample - loss: -76791.6376 - mean_squared_error: 0.2915 - val_loss: -78193.6533 - val_mean_squared_error: 0.2887\n",
            "Epoch 33/50\n",
            "11507/11507 [==============================] - 0s 12us/sample - loss: -81491.1538 - mean_squared_error: 0.2913 - val_loss: -82873.3069 - val_mean_squared_error: 0.2889\n",
            "Epoch 34/50\n",
            "11507/11507 [==============================] - 0s 12us/sample - loss: -86297.8919 - mean_squared_error: 0.2915 - val_loss: -87695.3535 - val_mean_squared_error: 0.2889\n",
            "Epoch 35/50\n",
            "11507/11507 [==============================] - 0s 12us/sample - loss: -91230.5058 - mean_squared_error: 0.2917 - val_loss: -92620.9194 - val_mean_squared_error: 0.2892\n",
            "Epoch 36/50\n",
            "11507/11507 [==============================] - 0s 12us/sample - loss: -96271.6997 - mean_squared_error: 0.2915 - val_loss: -97666.6869 - val_mean_squared_error: 0.2883\n",
            "Epoch 37/50\n",
            "11507/11507 [==============================] - 0s 12us/sample - loss: -101437.0070 - mean_squared_error: 0.2918 - val_loss: -102804.5613 - val_mean_squared_error: 0.2886\n",
            "Epoch 38/50\n",
            "11507/11507 [==============================] - 0s 12us/sample - loss: -106707.5179 - mean_squared_error: 0.2919 - val_loss: -108064.9516 - val_mean_squared_error: 0.2892\n",
            "Epoch 39/50\n",
            "11507/11507 [==============================] - 0s 12us/sample - loss: -112095.5079 - mean_squared_error: 0.2917 - val_loss: -113429.3023 - val_mean_squared_error: 0.2891\n",
            "Epoch 40/50\n",
            "11507/11507 [==============================] - 0s 12us/sample - loss: -117589.9332 - mean_squared_error: 0.2918 - val_loss: -118919.2826 - val_mean_squared_error: 0.2891\n",
            "Epoch 41/50\n",
            "11507/11507 [==============================] - 0s 12us/sample - loss: -123196.0058 - mean_squared_error: 0.2918 - val_loss: -124516.0758 - val_mean_squared_error: 0.2893\n",
            "Epoch 42/50\n",
            "11507/11507 [==============================] - 0s 12us/sample - loss: -128915.0297 - mean_squared_error: 0.2917 - val_loss: -130205.8586 - val_mean_squared_error: 0.2891\n",
            "Epoch 43/50\n",
            "11507/11507 [==============================] - 0s 12us/sample - loss: -134740.9713 - mean_squared_error: 0.2918 - val_loss: -135995.5279 - val_mean_squared_error: 0.2895\n",
            "Epoch 44/50\n",
            "11507/11507 [==============================] - 0s 12us/sample - loss: -140667.6728 - mean_squared_error: 0.2920 - val_loss: -141911.9918 - val_mean_squared_error: 0.2891\n",
            "Epoch 45/50\n",
            "11507/11507 [==============================] - 0s 12us/sample - loss: -146701.4031 - mean_squared_error: 0.2917 - val_loss: -147933.8957 - val_mean_squared_error: 0.2891\n",
            "Epoch 46/50\n",
            "11507/11507 [==============================] - 0s 12us/sample - loss: -152832.7721 - mean_squared_error: 0.2920 - val_loss: -154070.7855 - val_mean_squared_error: 0.2884\n",
            "Epoch 47/50\n",
            "11507/11507 [==============================] - 0s 12us/sample - loss: -159089.4689 - mean_squared_error: 0.2918 - val_loss: -160252.7175 - val_mean_squared_error: 0.2898\n",
            "Epoch 48/50\n",
            "11507/11507 [==============================] - 0s 12us/sample - loss: -165430.5007 - mean_squared_error: 0.2920 - val_loss: -166554.4498 - val_mean_squared_error: 0.2885\n",
            "Epoch 49/50\n",
            "11507/11507 [==============================] - 0s 13us/sample - loss: -171874.0551 - mean_squared_error: 0.2919 - val_loss: -172978.9128 - val_mean_squared_error: 0.2901\n",
            "Epoch 50/50\n",
            "11507/11507 [==============================] - 0s 12us/sample - loss: -178429.7006 - mean_squared_error: 0.2920 - val_loss: -179479.1549 - val_mean_squared_error: 0.2885\n"
          ]
        },
        {
          "output_type": "display_data",
          "data": {
            "image/png": "[encoded data removed]",
            "text/plain": [
              "<Figure size 432x288 with 1 Axes>"
            ]
          },
          "metadata": {
            "needs_background": "light"
          }
        }
      ]
    },
    {
      "cell_type": "code",
      "metadata": {
        "id": "eqeTrp5GuL9Y",
        "colab": {
          "base_uri": "https://localhost:8080/"
        },
        "outputId": "98e1e1bf-083e-4fdb-d9d6-7dfaae8cf4cf"
      },
      "source": [
        "encoder = Model(input_data, encoded)\n",
        "encoded_X_train = encoder.predict(X)"
      ],
      "execution_count": null,
      "outputs": [
        {
          "output_type": "stream",
          "name": "stderr",
          "text": [
            "/usr/local/lib/python3.7/dist-packages/keras/engine/training_v1.py:2079: UserWarning: `Model.state_updates` will be removed in a future version. This property should not be used in TensorFlow 2.0, as `updates` are applied automatically.\n",
            "  updates=self.state_updates,\n"
          ]
        }
      ]
    },
    {
      "cell_type": "code",
      "metadata": {
        "colab": {
          "base_uri": "https://localhost:8080/"
        },
        "id": "zMIbDUcUuL6h",
        "outputId": "d1747f6b-4e91-450d-b9eb-4324912557d2"
      },
      "source": [
        "encoded_X_train.shape"
      ],
      "execution_count": null,
      "outputs": [
        {
          "output_type": "execute_result",
          "data": {
            "text/plain": [
              "(11507, 500)"
            ]
          },
          "metadata": {},
          "execution_count": 140
        }
      ]
    },
    {
      "cell_type": "code",
      "metadata": {
        "colab": {
          "base_uri": "https://localhost:8080/"
        },
        "id": "A7TCf8111UpY",
        "outputId": "8183b4f2-8576-406b-c622-822b76e8fb48"
      },
      "source": [
        "type(encoded_X_train)"
      ],
      "execution_count": null,
      "outputs": [
        {
          "output_type": "execute_result",
          "data": {
            "text/plain": [
              "numpy.ndarray"
            ]
          },
          "metadata": {},
          "execution_count": 141
        }
      ]
    },
    {
      "cell_type": "code",
      "metadata": {
        "colab": {
          "base_uri": "https://localhost:8080/"
        },
        "id": "2aCrqH4I2Hm1",
        "outputId": "3ee69ae0-4c06-41f7-a597-84c2bd496d48"
      },
      "source": [
        "df_train['emb']"
      ],
      "execution_count": null,
      "outputs": [
        {
          "output_type": "execute_result",
          "data": {
            "text/plain": [
              "0        [[0.86072046, 0.43798667, -0.7019593, -0.88125...\n",
              "1        [[0.9019492, 0.05607622, -0.26593843, -0.92448...\n",
              "2        [[0.8820344, 0.3613367, -0.7108693, -0.8903254...\n",
              "3        [[0.8209958, 0.6560065, -0.57341295, -0.896481...\n",
              "4        [[0.89665663, 0.27449828, 0.09723861, -0.96131...\n",
              "                               ...                        \n",
              "11502    [[-0.8018979, 0.55015033, 0.7057307, 0.0552690...\n",
              "11503    [[0.5490496, -0.11912848, -0.40134892, 0.06064...\n",
              "11504    [[0.75658625, 0.612969, -0.49684045, -0.929034...\n",
              "11505    [[0.87606156, 0.7177452, -0.5851185, -0.911565...\n",
              "11506    [[0.5189385, 0.22839591, 0.060829613, -0.81515...\n",
              "Name: emb, Length: 11507, dtype: object"
            ]
          },
          "metadata": {},
          "execution_count": 142
        }
      ]
    },
    {
      "cell_type": "code",
      "metadata": {
        "colab": {
          "base_uri": "https://localhost:8080/"
        },
        "id": "UcSk4-2p17YT",
        "outputId": "c91dde6d-9ef6-43e7-d8da-a70c964bdd3a"
      },
      "source": [
        "encoded_X_train"
      ],
      "execution_count": null,
      "outputs": [
        {
          "output_type": "execute_result",
          "data": {
            "text/plain": [
              "array([[1517.483  ,  902.2807 ,  539.0067 , ..., 1469.3584 , 1502.5675 ,\n",
              "        1523.825  ],\n",
              "       [1105.2904 ,  640.0748 ,  379.25452, ..., 1084.1586 , 1104.5028 ,\n",
              "        1115.0417 ],\n",
              "       [1377.4242 ,  756.4853 ,  417.27637, ..., 1322.934  , 1363.9381 ,\n",
              "        1390.9319 ],\n",
              "       ...,\n",
              "       [1377.9648 ,  751.7689 ,  410.5109 , ..., 1336.8287 , 1372.3243 ,\n",
              "        1393.9805 ],\n",
              "       [1423.5773 ,  962.9494 ,  647.0609 , ..., 1394.259  , 1412.9877 ,\n",
              "        1423.6353 ],\n",
              "       [1140.3612 ,  526.7482 ,  222.36778, ..., 1113.8922 , 1135.4374 ,\n",
              "        1152.1921 ]], dtype=float32)"
            ]
          },
          "metadata": {},
          "execution_count": 143
        }
      ]
    },
    {
      "cell_type": "code",
      "metadata": {
        "id": "_P3awRV6t-Dl",
        "colab": {
          "base_uri": "https://localhost:8080/"
        },
        "outputId": "a397fcb4-478d-4c64-b229-df7a7916d8c7"
      },
      "source": [
        "encoder = Model(input_data, encoded)\n",
        "encoded_X_val = encoder.predict(X_val)"
      ],
      "execution_count": null,
      "outputs": [
        {
          "output_type": "stream",
          "name": "stderr",
          "text": [
            "/usr/local/lib/python3.7/dist-packages/keras/engine/training_v1.py:2079: UserWarning: `Model.state_updates` will be removed in a future version. This property should not be used in TensorFlow 2.0, as `updates` are applied automatically.\n",
            "  updates=self.state_updates,\n"
          ]
        }
      ]
    },
    {
      "cell_type": "code",
      "metadata": {
        "colab": {
          "base_uri": "https://localhost:8080/"
        },
        "id": "Cd3YHBhet-A1",
        "outputId": "df0cf987-17e5-40f9-96d0-f150671f52ff"
      },
      "source": [
        "encoded_X_val.shape"
      ],
      "execution_count": null,
      "outputs": [
        {
          "output_type": "execute_result",
          "data": {
            "text/plain": [
              "(2877, 500)"
            ]
          },
          "metadata": {},
          "execution_count": 145
        }
      ]
    },
    {
      "cell_type": "code",
      "metadata": {
        "id": "k9U4mKxhKtbc",
        "colab": {
          "base_uri": "https://localhost:8080/"
        },
        "outputId": "f4ee642f-25c8-435e-dab8-0c4388a98d8f"
      },
      "source": [
        "encoder = Model(input_data, encoded)\n",
        "encoded_X_test = encoder.predict(X_test)"
      ],
      "execution_count": null,
      "outputs": [
        {
          "output_type": "stream",
          "name": "stderr",
          "text": [
            "/usr/local/lib/python3.7/dist-packages/keras/engine/training_v1.py:2079: UserWarning: `Model.state_updates` will be removed in a future version. This property should not be used in TensorFlow 2.0, as `updates` are applied automatically.\n",
            "  updates=self.state_updates,\n"
          ]
        }
      ]
    },
    {
      "cell_type": "code",
      "metadata": {
        "colab": {
          "base_uri": "https://localhost:8080/"
        },
        "id": "VSAUaItyOtUc",
        "outputId": "cf76d08f-6a24-4b32-a39e-43a9e979897b"
      },
      "source": [
        "encoded_X_test.shape"
      ],
      "execution_count": null,
      "outputs": [
        {
          "output_type": "execute_result",
          "data": {
            "text/plain": [
              "(2758, 500)"
            ]
          },
          "metadata": {},
          "execution_count": 147
        }
      ]
    },
    {
      "cell_type": "code",
      "metadata": {
        "colab": {
          "base_uri": "https://localhost:8080/"
        },
        "id": "JbYyvJod6O5W",
        "outputId": "a8b84b34-7c04-41c2-8675-cef4105bf938"
      },
      "source": [
        "# from keras import layers\n",
        "# from keras.layers import Embedding, Dense, Input, concatenate, Layer, Lambda, Dropout, Activation\n",
        "# from keras.models import Sequential, Model\n",
        "text_input = Input(shape=(None,500,), dtype='float32', name='text')\n",
        "\n",
        "l_mask = layers.Masking(mask_value=-99.)(text_input)\n",
        "# Which we encoded in a single vector via a LSTM\n",
        "encoded_text = layers.LSTM(100,)(l_mask)\n",
        "out_dense = layers.Dense(30, activation='relu')(encoded_text)\n",
        "# And we add a softmax classifier on top\n",
        "out = layers.Dense(10, activation='softmax')(out_dense)\n",
        "# At model instantiation, we specify the input and the output:\n",
        "model = Model(text_input, out)\n",
        "model.compile(optimizer='adam',\n",
        "              loss='sparse_categorical_crossentropy',\n",
        "              metrics=['acc'])\n",
        "model.summary()"
      ],
      "execution_count": null,
      "outputs": [
        {
          "output_type": "stream",
          "name": "stdout",
          "text": [
            "Model: \"model_4\"\n",
            "_________________________________________________________________\n",
            " Layer (type)                Output Shape              Param #   \n",
            "=================================================================\n",
            " text (InputLayer)           [(None, None, 500)]       0         \n",
            "                                                                 \n",
            " masking (Masking)           (None, None, 500)         0         \n",
            "                                                                 \n",
            " lstm (LSTM)                 (None, 100)               240400    \n",
            "                                                                 \n",
            " dense_2 (Dense)             (None, 30)                3030      \n",
            "                                                                 \n",
            " dense_3 (Dense)             (None, 10)                310       \n",
            "                                                                 \n",
            "=================================================================\n",
            "Total params: 243,740\n",
            "Trainable params: 243,740\n",
            "Non-trainable params: 0\n",
            "_________________________________________________________________\n"
          ]
        }
      ]
    },
    {
      "cell_type": "code",
      "metadata": {
        "id": "VOh14xH42opT"
      },
      "source": [
        "train_new = []\n",
        "for i in range(len(encoded_X_train)):\n",
        "  train_new.append(encoded_X_train[i])\n",
        "\n",
        "val_new = []\n",
        "for i in range(len(encoded_X_val)):\n",
        "  val_new.append(encoded_X_val[i])"
      ],
      "execution_count": null,
      "outputs": []
    },
    {
      "cell_type": "code",
      "metadata": {
        "id": "dZwwGlLdL1Sx"
      },
      "source": [
        "test_new = []\n",
        "for i in range(len(encoded_X_test)):\n",
        "  test_new.append(encoded_X_test[i])"
      ],
      "execution_count": null,
      "outputs": []
    },
    {
      "cell_type": "code",
      "metadata": {
        "colab": {
          "base_uri": "https://localhost:8080/"
        },
        "id": "2MR02DKb26HL",
        "outputId": "09acf04a-ae25-41b3-fcae-2cce6a363204"
      },
      "source": [
        "len(train_new)"
      ],
      "execution_count": null,
      "outputs": [
        {
          "output_type": "execute_result",
          "data": {
            "text/plain": [
              "11507"
            ]
          },
          "metadata": {},
          "execution_count": 151
        }
      ]
    },
    {
      "cell_type": "code",
      "metadata": {
        "colab": {
          "base_uri": "https://localhost:8080/",
          "height": 204
        },
        "id": "ZVYeGBkN0wh3",
        "outputId": "216fbce1-a6de-405f-8bbb-b6636e9e2f0f"
      },
      "source": [
        "df_train_AE = pd.DataFrame({'emb': train_new, 'label': df_train['label'], })\n",
        "df_train_AE.head()"
      ],
      "execution_count": null,
      "outputs": [
        {
          "output_type": "execute_result",
          "data": {
            "text/html": [
              "<div>\n",
              "<style scoped>\n",
              "    .dataframe tbody tr th:only-of-type {\n",
              "        vertical-align: middle;\n",
              "    }\n",
              "\n",
              "    .dataframe tbody tr th {\n",
              "        vertical-align: top;\n",
              "    }\n",
              "\n",
              "    .dataframe thead th {\n",
              "        text-align: right;\n",
              "    }\n",
              "</style>\n",
              "<table border=\"1\" class=\"dataframe\">\n",
              "  <thead>\n",
              "    <tr style=\"text-align: right;\">\n",
              "      <th></th>\n",
              "      <th>emb</th>\n",
              "      <th>label</th>\n",
              "    </tr>\n",
              "  </thead>\n",
              "  <tbody>\n",
              "    <tr>\n",
              "      <th>0</th>\n",
              "      <td>[1517.483, 902.2807, 539.0067, 1498.6249, 1127...</td>\n",
              "      <td>6</td>\n",
              "    </tr>\n",
              "    <tr>\n",
              "      <th>1</th>\n",
              "      <td>[1105.2904, 640.0748, 379.25452, 1087.3875, 82...</td>\n",
              "      <td>6</td>\n",
              "    </tr>\n",
              "    <tr>\n",
              "      <th>2</th>\n",
              "      <td>[1377.4242, 756.4853, 417.27637, 1350.9982, 95...</td>\n",
              "      <td>6</td>\n",
              "    </tr>\n",
              "    <tr>\n",
              "      <th>3</th>\n",
              "      <td>[1505.2328, 861.1341, 493.4098, 1486.0038, 111...</td>\n",
              "      <td>6</td>\n",
              "    </tr>\n",
              "    <tr>\n",
              "      <th>4</th>\n",
              "      <td>[1013.6584, 770.75287, 559.64703, 1022.967, 98...</td>\n",
              "      <td>6</td>\n",
              "    </tr>\n",
              "  </tbody>\n",
              "</table>\n",
              "</div>"
            ],
            "text/plain": [
              "                                                 emb  label\n",
              "0  [1517.483, 902.2807, 539.0067, 1498.6249, 1127...      6\n",
              "1  [1105.2904, 640.0748, 379.25452, 1087.3875, 82...      6\n",
              "2  [1377.4242, 756.4853, 417.27637, 1350.9982, 95...      6\n",
              "3  [1505.2328, 861.1341, 493.4098, 1486.0038, 111...      6\n",
              "4  [1013.6584, 770.75287, 559.64703, 1022.967, 98...      6"
            ]
          },
          "metadata": {},
          "execution_count": 152
        }
      ]
    },
    {
      "cell_type": "code",
      "metadata": {
        "colab": {
          "base_uri": "https://localhost:8080/",
          "height": 204
        },
        "id": "PTyYpubU0weG",
        "outputId": "c0051fc9-27ad-48f8-b67b-6ea2ac220717"
      },
      "source": [
        "df_val_AE = pd.DataFrame({'emb': val_new, 'label': df_val['label'], })\n",
        "df_val_AE.head()"
      ],
      "execution_count": null,
      "outputs": [
        {
          "output_type": "execute_result",
          "data": {
            "text/html": [
              "<div>\n",
              "<style scoped>\n",
              "    .dataframe tbody tr th:only-of-type {\n",
              "        vertical-align: middle;\n",
              "    }\n",
              "\n",
              "    .dataframe tbody tr th {\n",
              "        vertical-align: top;\n",
              "    }\n",
              "\n",
              "    .dataframe thead th {\n",
              "        text-align: right;\n",
              "    }\n",
              "</style>\n",
              "<table border=\"1\" class=\"dataframe\">\n",
              "  <thead>\n",
              "    <tr style=\"text-align: right;\">\n",
              "      <th></th>\n",
              "      <th>emb</th>\n",
              "      <th>label</th>\n",
              "    </tr>\n",
              "  </thead>\n",
              "  <tbody>\n",
              "    <tr>\n",
              "      <th>0</th>\n",
              "      <td>[0.0, 0.0, 0.0, 0.0, 0.0, 1065.4135, 0.0, 0.0,...</td>\n",
              "      <td>2</td>\n",
              "    </tr>\n",
              "    <tr>\n",
              "      <th>1</th>\n",
              "      <td>[230.17505, 262.93018, 233.11201, 234.16603, 3...</td>\n",
              "      <td>0</td>\n",
              "    </tr>\n",
              "    <tr>\n",
              "      <th>2</th>\n",
              "      <td>[0.0, 676.7934, 885.03827, 0.0, 509.49176, 621...</td>\n",
              "      <td>4</td>\n",
              "    </tr>\n",
              "    <tr>\n",
              "      <th>3</th>\n",
              "      <td>[835.08984, 631.3322, 472.1651, 830.15875, 740...</td>\n",
              "      <td>1</td>\n",
              "    </tr>\n",
              "    <tr>\n",
              "      <th>4</th>\n",
              "      <td>[0.0, 485.10248, 754.0275, 0.0, 10.569611, 126...</td>\n",
              "      <td>3</td>\n",
              "    </tr>\n",
              "  </tbody>\n",
              "</table>\n",
              "</div>"
            ],
            "text/plain": [
              "                                                 emb  label\n",
              "0  [0.0, 0.0, 0.0, 0.0, 0.0, 1065.4135, 0.0, 0.0,...      2\n",
              "1  [230.17505, 262.93018, 233.11201, 234.16603, 3...      0\n",
              "2  [0.0, 676.7934, 885.03827, 0.0, 509.49176, 621...      4\n",
              "3  [835.08984, 631.3322, 472.1651, 830.15875, 740...      1\n",
              "4  [0.0, 485.10248, 754.0275, 0.0, 10.569611, 126...      3"
            ]
          },
          "metadata": {},
          "execution_count": 153
        }
      ]
    },
    {
      "cell_type": "code",
      "metadata": {
        "colab": {
          "base_uri": "https://localhost:8080/",
          "height": 204
        },
        "id": "-qXb2-pELlfZ",
        "outputId": "09ba23b4-55f2-494c-e7ec-6c6ddb9d1e08"
      },
      "source": [
        "df_test_AE = pd.DataFrame({'emb': test_new, 'label': df_test['label'], })\n",
        "df_test_AE.head()"
      ],
      "execution_count": null,
      "outputs": [
        {
          "output_type": "execute_result",
          "data": {
            "text/html": [
              "<div>\n",
              "<style scoped>\n",
              "    .dataframe tbody tr th:only-of-type {\n",
              "        vertical-align: middle;\n",
              "    }\n",
              "\n",
              "    .dataframe tbody tr th {\n",
              "        vertical-align: top;\n",
              "    }\n",
              "\n",
              "    .dataframe thead th {\n",
              "        text-align: right;\n",
              "    }\n",
              "</style>\n",
              "<table border=\"1\" class=\"dataframe\">\n",
              "  <thead>\n",
              "    <tr style=\"text-align: right;\">\n",
              "      <th></th>\n",
              "      <th>emb</th>\n",
              "      <th>label</th>\n",
              "    </tr>\n",
              "  </thead>\n",
              "  <tbody>\n",
              "    <tr>\n",
              "      <th>0</th>\n",
              "      <td>[1079.2384, 681.64453, 438.77838, 1066.606, 85...</td>\n",
              "      <td>6</td>\n",
              "    </tr>\n",
              "    <tr>\n",
              "      <th>1</th>\n",
              "      <td>[167.1105, 734.3476, 877.459, 178.93819, 354.4...</td>\n",
              "      <td>3</td>\n",
              "    </tr>\n",
              "    <tr>\n",
              "      <th>2</th>\n",
              "      <td>[402.3811, 672.95294, 712.37994, 409.66428, 51...</td>\n",
              "      <td>4</td>\n",
              "    </tr>\n",
              "    <tr>\n",
              "      <th>3</th>\n",
              "      <td>[1199.3936, 846.57007, 597.6043, 1189.6061, 97...</td>\n",
              "      <td>6</td>\n",
              "    </tr>\n",
              "    <tr>\n",
              "      <th>4</th>\n",
              "      <td>[869.47015, 753.8413, 608.0529, 878.2892, 892....</td>\n",
              "      <td>6</td>\n",
              "    </tr>\n",
              "  </tbody>\n",
              "</table>\n",
              "</div>"
            ],
            "text/plain": [
              "                                                 emb  label\n",
              "0  [1079.2384, 681.64453, 438.77838, 1066.606, 85...      6\n",
              "1  [167.1105, 734.3476, 877.459, 178.93819, 354.4...      3\n",
              "2  [402.3811, 672.95294, 712.37994, 409.66428, 51...      4\n",
              "3  [1199.3936, 846.57007, 597.6043, 1189.6061, 97...      6\n",
              "4  [869.47015, 753.8413, 608.0529, 878.2892, 892....      6"
            ]
          },
          "metadata": {},
          "execution_count": 154
        }
      ]
    },
    {
      "cell_type": "code",
      "metadata": {
        "id": "akL-NEMh6O_J"
      },
      "source": [
        "num_sequences = len(df_train['emb'].to_list())\n",
        "batch_size = 37\n",
        "batches_per_epoch =  311\n",
        "assert batch_size * batches_per_epoch == num_sequences\n",
        "num_features= 500\n",
        "def train_generator(df):\n",
        "    x_list= df['emb'].to_list()\n",
        "    y_list =  df.label.to_list()\n",
        "    # Generate batches\n",
        "    while True:\n",
        "        for b in range(batches_per_epoch):\n",
        "            longest_index = (b + 1) * batch_size - 1\n",
        "            timesteps = len(max(df['emb'].to_list()[:(b + 1) * batch_size][-batch_size:], key=len))\n",
        "            x_train = np.full((batch_size, timesteps, num_features), -99.)\n",
        "            y_train = np.zeros((batch_size,  1))\n",
        "            for i in range(batch_size):\n",
        "                li = b * batch_size + i\n",
        "                x_train[i, 0:len(x_list[li]), :] = x_list[li]\n",
        "                y_train[i] = y_list[li]\n",
        "            yield x_train, y_train"
      ],
      "execution_count": null,
      "outputs": []
    },
    {
      "cell_type": "code",
      "metadata": {
        "id": "AV-9Le5i6PCE"
      },
      "source": [
        "num_sequences_val = len(df_val['emb'].to_list())\n",
        "batch_size_val = 21\n",
        "batches_per_epoch_val = 137\n",
        "assert batch_size_val * batches_per_epoch_val == num_sequences_val\n",
        "num_features= 500\n",
        "def val_generator(df):\n",
        "    x_list= df['emb'].to_list()\n",
        "    y_list =  df.label.to_list()\n",
        "    # Generate batches\n",
        "    while True:\n",
        "        for b in range(batches_per_epoch_val):\n",
        "            longest_index = (b + 1) * batch_size_val - 1\n",
        "            timesteps = len(max(df['emb'].to_list()[:(b + 1) * batch_size_val][-31:], key=len))\n",
        "            # print(len(df_train['emb'].to_list()[:b+batch_size][-7:]))\n",
        "            x_train = np.full((batch_size_val, timesteps, num_features), -99.)\n",
        "            y_train = np.zeros((batch_size_val,  1))\n",
        "            for i in range(batch_size_val):\n",
        "                li = b * batch_size_val + i\n",
        "                # print(\"li\", li)\n",
        "                # print(x_train[i, 0:len(x_list[li]), :].shape, len(x_list[li]))\n",
        "                x_train[i, 0:len(x_list[li]), :] = x_list[li]\n",
        "                y_train[i] = y_list[li]\n",
        "            yield x_train, y_train"
      ],
      "execution_count": null,
      "outputs": []
    },
    {
      "cell_type": "code",
      "metadata": {
        "id": "4L_65gSD6esK"
      },
      "source": [
        "from keras.callbacks import ReduceLROnPlateau\n",
        "call_reduce = ReduceLROnPlateau(monitor='val_acc', factor=0.95, patience=3, verbose=2,\n",
        "                                mode='auto', min_delta=0.01, cooldown=0, min_lr=0)"
      ],
      "execution_count": null,
      "outputs": []
    },
    {
      "cell_type": "code",
      "metadata": {
        "id": "ciRcZzSt4bWW"
      },
      "source": [
        "# model.fit(df_train_AE['emb'], df_train_AE['label'], steps_per_epoch=batches_per_epoch, epochs=10,\n",
        "#                     validation_data=(df_val_AE['emb'], df_val_AE['label']), validation_steps=batches_per_epoch_val, callbacks =[call_reduce] )"
      ],
      "execution_count": null,
      "outputs": []
    },
    {
      "cell_type": "code",
      "metadata": {
        "colab": {
          "base_uri": "https://localhost:8080/"
        },
        "id": "PVFM8ym5AppD",
        "outputId": "ca07f287-c135-4f2a-c6ac-5dde7228050d"
      },
      "source": [
        "model.fit_generator(train_generator(df_train_AE), steps_per_epoch=batches_per_epoch, epochs=100,\n",
        "                    validation_data=val_generator(df_val_AE), validation_steps=batches_per_epoch_val, callbacks =[call_reduce] )"
      ],
      "execution_count": null,
      "outputs": [
        {
          "output_type": "stream",
          "name": "stderr",
          "text": [
            "/usr/local/lib/python3.7/dist-packages/ipykernel_launcher.py:2: UserWarning: `model.fit_generator` is deprecated and will be removed in a future version. Please use `Model.fit`, which supports generators.\n",
            "  \n"
          ]
        },
        {
          "output_type": "stream",
          "name": "stdout",
          "text": [
            "Epoch 1/100\n",
            "311/311 [==============================] - ETA: 0s - batch: 155.0000 - size: 37.0000 - loss: 0.8514 - acc: 0.7762"
          ]
        },
        {
          "output_type": "stream",
          "name": "stderr",
          "text": [
            "/usr/local/lib/python3.7/dist-packages/keras/engine/training_v1.py:2057: UserWarning: `Model.state_updates` will be removed in a future version. This property should not be used in TensorFlow 2.0, as `updates` are applied automatically.\n",
            "  updates = self.state_updates\n"
          ]
        },
        {
          "output_type": "stream",
          "name": "stdout",
          "text": [
            "\b\b\b\b\b\b\b\b\b\b\b\b\b\b\b\b\b\b\b\b\b\b\b\b\b\b\b\b\b\b\b\b\b\b\b\b\b\b\b\b\b\b\b\b\b\b\b\b\b\b\b\b\b\b\b\b\b\b\b\b\b\b\b\b\b\b\b\b\b\b\b\b\b\b\b\b\b\b\b\b\b\b\b\b\b\b\b\b\b\b\b\b\b\b\b\b\b\b\b\b\b\b\b\b\b\b\b\b\b\b\b\b\b\r311/311 [==============================] - 145s 463ms/step - batch: 155.0000 - size: 37.0000 - loss: 0.8514 - acc: 0.7762 - val_loss: 0.7796 - val_acc: 0.7696 - lr: 0.0010\n",
            "Epoch 2/100\n",
            "311/311 [==============================] - 143s 460ms/step - batch: 155.0000 - size: 37.0000 - loss: 0.6691 - acc: 0.8008 - val_loss: 0.7568 - val_acc: 0.7775 - lr: 0.0010\n",
            "Epoch 3/100\n",
            "311/311 [==============================] - 144s 462ms/step - batch: 155.0000 - size: 37.0000 - loss: 0.6222 - acc: 0.8057 - val_loss: 0.7461 - val_acc: 0.7730 - lr: 0.0010\n",
            "Epoch 4/100\n",
            "311/311 [==============================] - 144s 462ms/step - batch: 155.0000 - size: 37.0000 - loss: 0.6338 - acc: 0.8067 - val_loss: 0.7250 - val_acc: 0.7901 - lr: 0.0010\n",
            "Epoch 5/100\n",
            "311/311 [==============================] - 143s 461ms/step - batch: 155.0000 - size: 37.0000 - loss: 0.6189 - acc: 0.8072 - val_loss: 0.7142 - val_acc: 0.7883 - lr: 0.0010\n",
            "Epoch 6/100\n",
            "311/311 [==============================] - 143s 460ms/step - batch: 155.0000 - size: 37.0000 - loss: 0.5913 - acc: 0.8179 - val_loss: 0.7031 - val_acc: 0.7991 - lr: 0.0010\n",
            "Epoch 7/100\n",
            "311/311 [==============================] - ETA: 0s - batch: 155.0000 - size: 37.0000 - loss: 0.5923 - acc: 0.8242\n",
            "Epoch 00007: ReduceLROnPlateau reducing learning rate to 0.0009500000451225787.\n",
            "311/311 [==============================] - 144s 464ms/step - batch: 155.0000 - size: 37.0000 - loss: 0.5923 - acc: 0.8242 - val_loss: 0.7167 - val_acc: 0.7918 - lr: 0.0010\n",
            "Epoch 8/100\n",
            "311/311 [==============================] - 143s 458ms/step - batch: 155.0000 - size: 37.0000 - loss: 0.6078 - acc: 0.8119 - val_loss: 0.7294 - val_acc: 0.7751 - lr: 9.5000e-04\n",
            "Epoch 9/100\n",
            "311/311 [==============================] - 143s 459ms/step - batch: 155.0000 - size: 37.0000 - loss: 0.5997 - acc: 0.8166 - val_loss: 0.7226 - val_acc: 0.7935 - lr: 9.5000e-04\n",
            "Epoch 10/100\n",
            "311/311 [==============================] - 142s 458ms/step - batch: 155.0000 - size: 37.0000 - loss: 0.6219 - acc: 0.8169 - val_loss: 0.7128 - val_acc: 0.8008 - lr: 9.5000e-04\n",
            "Epoch 11/100\n",
            "311/311 [==============================] - 143s 458ms/step - batch: 155.0000 - size: 37.0000 - loss: 0.5900 - acc: 0.8259 - val_loss: 0.7418 - val_acc: 0.7880 - lr: 9.5000e-04\n",
            "Epoch 12/100\n",
            "311/311 [==============================] - 143s 462ms/step - batch: 155.0000 - size: 37.0000 - loss: 0.5997 - acc: 0.8218 - val_loss: 0.7201 - val_acc: 0.7977 - lr: 9.5000e-04\n",
            "Epoch 13/100\n",
            "311/311 [==============================] - ETA: 0s - batch: 155.0000 - size: 37.0000 - loss: 0.6239 - acc: 0.8163\n",
            "Epoch 00013: ReduceLROnPlateau reducing learning rate to 0.0009025000152178108.\n",
            "311/311 [==============================] - 142s 458ms/step - batch: 155.0000 - size: 37.0000 - loss: 0.6239 - acc: 0.8163 - val_loss: 0.7552 - val_acc: 0.7772 - lr: 9.5000e-04\n",
            "Epoch 14/100\n",
            "311/311 [==============================] - 143s 459ms/step - batch: 155.0000 - size: 37.0000 - loss: 0.6317 - acc: 0.8101 - val_loss: 0.7593 - val_acc: 0.7883 - lr: 9.0250e-04\n",
            "Epoch 15/100\n",
            "311/311 [==============================] - 143s 459ms/step - batch: 155.0000 - size: 37.0000 - loss: 0.6221 - acc: 0.8132 - val_loss: 0.7483 - val_acc: 0.7890 - lr: 9.0250e-04\n",
            "Epoch 16/100\n",
            "311/311 [==============================] - ETA: 0s - batch: 155.0000 - size: 37.0000 - loss: 0.5899 - acc: 0.8236\n",
            "Epoch 00016: ReduceLROnPlateau reducing learning rate to 0.0008573750033974647.\n",
            "311/311 [==============================] - 143s 459ms/step - batch: 155.0000 - size: 37.0000 - loss: 0.5899 - acc: 0.8236 - val_loss: 0.7126 - val_acc: 0.7890 - lr: 9.0250e-04\n",
            "Epoch 17/100\n",
            "311/311 [==============================] - 142s 458ms/step - batch: 155.0000 - size: 37.0000 - loss: 0.5878 - acc: 0.8225 - val_loss: 0.7269 - val_acc: 0.7838 - lr: 8.5737e-04\n",
            "Epoch 18/100\n",
            "311/311 [==============================] - 143s 459ms/step - batch: 155.0000 - size: 37.0000 - loss: 0.5828 - acc: 0.8251 - val_loss: 0.7141 - val_acc: 0.7873 - lr: 8.5737e-04\n",
            "Epoch 19/100\n",
            "311/311 [==============================] - ETA: 0s - batch: 155.0000 - size: 37.0000 - loss: 0.5650 - acc: 0.8267\n",
            "Epoch 00019: ReduceLROnPlateau reducing learning rate to 0.0008145062311086804.\n",
            "311/311 [==============================] - 142s 457ms/step - batch: 155.0000 - size: 37.0000 - loss: 0.5650 - acc: 0.8267 - val_loss: 0.7133 - val_acc: 0.7987 - lr: 8.5737e-04\n",
            "Epoch 20/100\n",
            "311/311 [==============================] - 142s 457ms/step - batch: 155.0000 - size: 37.0000 - loss: 0.5684 - acc: 0.8331 - val_loss: 0.7063 - val_acc: 0.7974 - lr: 8.1451e-04\n",
            "Epoch 21/100\n",
            "311/311 [==============================] - 142s 458ms/step - batch: 155.0000 - size: 37.0000 - loss: 0.5624 - acc: 0.8312 - val_loss: 0.6784 - val_acc: 0.8001 - lr: 8.1451e-04\n",
            "Epoch 22/100\n",
            "311/311 [==============================] - ETA: 0s - batch: 155.0000 - size: 37.0000 - loss: 0.5681 - acc: 0.8163\n",
            "Epoch 00022: ReduceLROnPlateau reducing learning rate to 0.0007737808919046074.\n",
            "311/311 [==============================] - 142s 458ms/step - batch: 155.0000 - size: 37.0000 - loss: 0.5681 - acc: 0.8163 - val_loss: 0.6952 - val_acc: 0.7786 - lr: 8.1451e-04\n",
            "Epoch 23/100\n",
            "311/311 [==============================] - 143s 459ms/step - batch: 155.0000 - size: 37.0000 - loss: 0.5751 - acc: 0.8121 - val_loss: 0.7165 - val_acc: 0.7880 - lr: 7.7378e-04\n",
            "Epoch 24/100\n",
            "311/311 [==============================] - 142s 457ms/step - batch: 155.0000 - size: 37.0000 - loss: 0.5663 - acc: 0.8284 - val_loss: 0.7036 - val_acc: 0.7939 - lr: 7.7378e-04\n",
            "Epoch 25/100\n",
            "311/311 [==============================] - ETA: 0s - batch: 155.0000 - size: 37.0000 - loss: 0.5546 - acc: 0.8364\n",
            "Epoch 00025: ReduceLROnPlateau reducing learning rate to 0.000735091819660738.\n",
            "311/311 [==============================] - 142s 458ms/step - batch: 155.0000 - size: 37.0000 - loss: 0.5546 - acc: 0.8364 - val_loss: 0.6768 - val_acc: 0.8012 - lr: 7.7378e-04\n",
            "Epoch 26/100\n",
            "311/311 [==============================] - 142s 458ms/step - batch: 155.0000 - size: 37.0000 - loss: 0.5625 - acc: 0.8165 - val_loss: 0.6953 - val_acc: 0.7911 - lr: 7.3509e-04\n",
            "Epoch 27/100\n",
            "311/311 [==============================] - 143s 459ms/step - batch: 155.0000 - size: 37.0000 - loss: 0.5511 - acc: 0.8239 - val_loss: 0.6823 - val_acc: 0.7876 - lr: 7.3509e-04\n",
            "Epoch 28/100\n",
            "311/311 [==============================] - 142s 457ms/step - batch: 155.0000 - size: 37.0000 - loss: 0.5482 - acc: 0.8396 - val_loss: 0.6801 - val_acc: 0.8116 - lr: 7.3509e-04\n",
            "Epoch 29/100\n",
            "311/311 [==============================] - 142s 457ms/step - batch: 155.0000 - size: 37.0000 - loss: 0.5415 - acc: 0.8455 - val_loss: 0.7064 - val_acc: 0.7890 - lr: 7.3509e-04\n",
            "Epoch 30/100\n",
            "311/311 [==============================] - 142s 457ms/step - batch: 155.0000 - size: 37.0000 - loss: 0.5843 - acc: 0.8055 - val_loss: 0.6982 - val_acc: 0.7814 - lr: 7.3509e-04\n",
            "Epoch 31/100\n",
            "311/311 [==============================] - ETA: 0s - batch: 155.0000 - size: 37.0000 - loss: 0.5930 - acc: 0.8039\n",
            "Epoch 00031: ReduceLROnPlateau reducing learning rate to 0.0006983372120885178.\n",
            "311/311 [==============================] - 142s 458ms/step - batch: 155.0000 - size: 37.0000 - loss: 0.5930 - acc: 0.8039 - val_loss: 0.7081 - val_acc: 0.7831 - lr: 7.3509e-04\n",
            "Epoch 32/100\n",
            "311/311 [==============================] - 143s 459ms/step - batch: 155.0000 - size: 37.0000 - loss: 0.5906 - acc: 0.8044 - val_loss: 0.7162 - val_acc: 0.7789 - lr: 6.9834e-04\n",
            "Epoch 33/100\n",
            "311/311 [==============================] - 142s 458ms/step - batch: 155.0000 - size: 37.0000 - loss: 0.5999 - acc: 0.8004 - val_loss: 0.7182 - val_acc: 0.8008 - lr: 6.9834e-04\n",
            "Epoch 34/100\n",
            "311/311 [==============================] - ETA: 0s - batch: 155.0000 - size: 37.0000 - loss: 0.5879 - acc: 0.8079\n",
            "Epoch 00034: ReduceLROnPlateau reducing learning rate to 0.0006634203542489559.\n",
            "311/311 [==============================] - 143s 460ms/step - batch: 155.0000 - size: 37.0000 - loss: 0.5879 - acc: 0.8079 - val_loss: 0.7064 - val_acc: 0.7977 - lr: 6.9834e-04\n",
            "Epoch 35/100\n",
            "311/311 [==============================] - 143s 461ms/step - batch: 155.0000 - size: 37.0000 - loss: 0.5802 - acc: 0.8268 - val_loss: 0.7046 - val_acc: 0.8040 - lr: 6.6342e-04\n",
            "Epoch 36/100\n",
            "311/311 [==============================] - 143s 459ms/step - batch: 155.0000 - size: 37.0000 - loss: 0.5596 - acc: 0.8357 - val_loss: 0.6835 - val_acc: 0.8043 - lr: 6.6342e-04\n",
            "Epoch 37/100\n",
            "311/311 [==============================] - ETA: 0s - batch: 155.0000 - size: 37.0000 - loss: 0.5571 - acc: 0.8251\n",
            "Epoch 00037: ReduceLROnPlateau reducing learning rate to 0.0006302493420662358.\n",
            "311/311 [==============================] - 142s 458ms/step - batch: 155.0000 - size: 37.0000 - loss: 0.5571 - acc: 0.8251 - val_loss: 0.7120 - val_acc: 0.7675 - lr: 6.6342e-04\n",
            "Epoch 38/100\n",
            "311/311 [==============================] - 142s 458ms/step - batch: 155.0000 - size: 37.0000 - loss: 0.5700 - acc: 0.7986 - val_loss: 0.6828 - val_acc: 0.7967 - lr: 6.3025e-04\n",
            "Epoch 39/100\n",
            "311/311 [==============================] - 142s 457ms/step - batch: 155.0000 - size: 37.0000 - loss: 0.5722 - acc: 0.8087 - val_loss: 0.6972 - val_acc: 0.7803 - lr: 6.3025e-04\n",
            "Epoch 40/100\n",
            "311/311 [==============================] - ETA: 0s - batch: 155.0000 - size: 37.0000 - loss: 0.5618 - acc: 0.8122\n",
            "Epoch 00040: ReduceLROnPlateau reducing learning rate to 0.0005987368611386045.\n",
            "311/311 [==============================] - 143s 459ms/step - batch: 155.0000 - size: 37.0000 - loss: 0.5618 - acc: 0.8122 - val_loss: 0.7020 - val_acc: 0.7935 - lr: 6.3025e-04\n",
            "Epoch 41/100\n",
            "311/311 [==============================] - 142s 458ms/step - batch: 155.0000 - size: 37.0000 - loss: 0.5651 - acc: 0.8107 - val_loss: 0.7052 - val_acc: 0.7762 - lr: 5.9874e-04\n",
            "Epoch 42/100\n",
            "311/311 [==============================] - 143s 460ms/step - batch: 155.0000 - size: 37.0000 - loss: 0.5585 - acc: 0.8254 - val_loss: 0.6943 - val_acc: 0.8022 - lr: 5.9874e-04\n",
            "Epoch 43/100\n",
            "311/311 [==============================] - ETA: 0s - batch: 155.0000 - size: 37.0000 - loss: 0.5550 - acc: 0.8241\n",
            "Epoch 00043: ReduceLROnPlateau reducing learning rate to 0.0005688000208465382.\n",
            "311/311 [==============================] - 143s 459ms/step - batch: 155.0000 - size: 37.0000 - loss: 0.5550 - acc: 0.8241 - val_loss: 0.6977 - val_acc: 0.7762 - lr: 5.9874e-04\n",
            "Epoch 44/100\n",
            "311/311 [==============================] - 143s 460ms/step - batch: 155.0000 - size: 37.0000 - loss: 0.5467 - acc: 0.8369 - val_loss: 0.6925 - val_acc: 0.7963 - lr: 5.6880e-04\n",
            "Epoch 45/100\n",
            "311/311 [==============================] - 143s 459ms/step - batch: 155.0000 - size: 37.0000 - loss: 0.5379 - acc: 0.8396 - val_loss: 0.6806 - val_acc: 0.8019 - lr: 5.6880e-04\n",
            "Epoch 46/100\n",
            "311/311 [==============================] - ETA: 0s - batch: 155.0000 - size: 37.0000 - loss: 0.5373 - acc: 0.8370\n",
            "Epoch 00046: ReduceLROnPlateau reducing learning rate to 0.0005403600225690752.\n",
            "311/311 [==============================] - 143s 459ms/step - batch: 155.0000 - size: 37.0000 - loss: 0.5373 - acc: 0.8370 - val_loss: 0.6823 - val_acc: 0.8060 - lr: 5.6880e-04\n",
            "Epoch 47/100\n",
            "311/311 [==============================] - 143s 461ms/step - batch: 155.0000 - size: 37.0000 - loss: 0.5541 - acc: 0.8231 - val_loss: 0.6946 - val_acc: 0.7779 - lr: 5.4036e-04\n",
            "Epoch 48/100\n",
            "311/311 [==============================] - 143s 460ms/step - batch: 155.0000 - size: 37.0000 - loss: 0.5350 - acc: 0.8357 - val_loss: 0.6794 - val_acc: 0.8036 - lr: 5.4036e-04\n",
            "Epoch 49/100\n",
            "311/311 [==============================] - ETA: 0s - batch: 155.0000 - size: 37.0000 - loss: 0.5431 - acc: 0.8225\n",
            "Epoch 00049: ReduceLROnPlateau reducing learning rate to 0.0005133419937919825.\n",
            "311/311 [==============================] - 143s 461ms/step - batch: 155.0000 - size: 37.0000 - loss: 0.5431 - acc: 0.8225 - val_loss: 0.7014 - val_acc: 0.7734 - lr: 5.4036e-04\n",
            "Epoch 50/100\n",
            "311/311 [==============================] - 143s 460ms/step - batch: 155.0000 - size: 37.0000 - loss: 0.5478 - acc: 0.8290 - val_loss: 0.6734 - val_acc: 0.8081 - lr: 5.1334e-04\n",
            "Epoch 51/100\n",
            "311/311 [==============================] - 143s 460ms/step - batch: 155.0000 - size: 37.0000 - loss: 0.5233 - acc: 0.8406 - val_loss: 0.6794 - val_acc: 0.8102 - lr: 5.1334e-04\n",
            "Epoch 52/100\n",
            "311/311 [==============================] - ETA: 0s - batch: 155.0000 - size: 37.0000 - loss: 0.5264 - acc: 0.8417\n",
            "Epoch 00052: ReduceLROnPlateau reducing learning rate to 0.0004876748775132.\n",
            "311/311 [==============================] - 143s 459ms/step - batch: 155.0000 - size: 37.0000 - loss: 0.5264 - acc: 0.8417 - val_loss: 0.6869 - val_acc: 0.8123 - lr: 5.1334e-04\n",
            "Epoch 53/100\n",
            "311/311 [==============================] - 143s 460ms/step - batch: 155.0000 - size: 37.0000 - loss: 0.5496 - acc: 0.8242 - val_loss: 0.7071 - val_acc: 0.7758 - lr: 4.8767e-04\n",
            "Epoch 54/100\n",
            "311/311 [==============================] - 143s 460ms/step - batch: 155.0000 - size: 37.0000 - loss: 0.5210 - acc: 0.8453 - val_loss: 0.6684 - val_acc: 0.7991 - lr: 4.8767e-04\n",
            "Epoch 55/100\n",
            "311/311 [==============================] - ETA: 0s - batch: 155.0000 - size: 37.0000 - loss: 0.5175 - acc: 0.8506\n",
            "Epoch 00055: ReduceLROnPlateau reducing learning rate to 0.00046329112810781223.\n",
            "311/311 [==============================] - 143s 461ms/step - batch: 155.0000 - size: 37.0000 - loss: 0.5175 - acc: 0.8506 - val_loss: 0.6718 - val_acc: 0.8081 - lr: 4.8767e-04\n",
            "Epoch 56/100\n",
            "311/311 [==============================] - 143s 459ms/step - batch: 155.0000 - size: 37.0000 - loss: 0.5193 - acc: 0.8476 - val_loss: 0.6731 - val_acc: 0.8175 - lr: 4.6329e-04\n",
            "Epoch 57/100\n",
            "311/311 [==============================] - 142s 458ms/step - batch: 155.0000 - size: 37.0000 - loss: 0.5439 - acc: 0.8271 - val_loss: 0.7168 - val_acc: 0.7588 - lr: 4.6329e-04\n",
            "Epoch 58/100\n",
            "311/311 [==============================] - ETA: 0s - batch: 155.0000 - size: 37.0000 - loss: 0.5286 - acc: 0.8360\n",
            "Epoch 00058: ReduceLROnPlateau reducing learning rate to 0.00044012657308485355.\n",
            "311/311 [==============================] - 143s 459ms/step - batch: 155.0000 - size: 37.0000 - loss: 0.5286 - acc: 0.8360 - val_loss: 0.6666 - val_acc: 0.8140 - lr: 4.6329e-04\n",
            "Epoch 59/100\n",
            "311/311 [==============================] - 143s 459ms/step - batch: 155.0000 - size: 37.0000 - loss: 0.5112 - acc: 0.8522 - val_loss: 0.6588 - val_acc: 0.8172 - lr: 4.4013e-04\n",
            "Epoch 60/100\n",
            "311/311 [==============================] - 142s 458ms/step - batch: 155.0000 - size: 37.0000 - loss: 0.5174 - acc: 0.8475 - val_loss: 0.6652 - val_acc: 0.8144 - lr: 4.4013e-04\n",
            "Epoch 61/100\n",
            "311/311 [==============================] - ETA: 0s - batch: 155.0000 - size: 37.0000 - loss: 0.5470 - acc: 0.8229\n",
            "Epoch 00061: ReduceLROnPlateau reducing learning rate to 0.00041812024719547477.\n",
            "311/311 [==============================] - 142s 457ms/step - batch: 155.0000 - size: 37.0000 - loss: 0.5470 - acc: 0.8229 - val_loss: 0.6634 - val_acc: 0.8151 - lr: 4.4013e-04\n",
            "Epoch 62/100\n",
            "311/311 [==============================] - 142s 458ms/step - batch: 155.0000 - size: 37.0000 - loss: 0.5280 - acc: 0.8504 - val_loss: 0.6846 - val_acc: 0.7921 - lr: 4.1812e-04\n",
            "Epoch 63/100\n",
            "311/311 [==============================] - 142s 458ms/step - batch: 155.0000 - size: 37.0000 - loss: 0.5344 - acc: 0.8438 - val_loss: 0.6650 - val_acc: 0.8213 - lr: 4.1812e-04\n",
            "Epoch 64/100\n",
            "311/311 [==============================] - 143s 460ms/step - batch: 155.0000 - size: 37.0000 - loss: 0.5171 - acc: 0.8561 - val_loss: 0.6654 - val_acc: 0.8241 - lr: 4.1812e-04\n",
            "Epoch 65/100\n",
            "311/311 [==============================] - 142s 457ms/step - batch: 155.0000 - size: 37.0000 - loss: 0.5195 - acc: 0.8458 - val_loss: 0.6666 - val_acc: 0.7956 - lr: 4.1812e-04\n",
            "Epoch 66/100\n",
            "311/311 [==============================] - 142s 457ms/step - batch: 155.0000 - size: 37.0000 - loss: 0.5169 - acc: 0.8465 - val_loss: 0.6599 - val_acc: 0.8217 - lr: 4.1812e-04\n",
            "Epoch 67/100\n",
            "311/311 [==============================] - ETA: 0s - batch: 155.0000 - size: 37.0000 - loss: 0.5164 - acc: 0.8517\n",
            "Epoch 00067: ReduceLROnPlateau reducing learning rate to 0.00039721422654110934.\n",
            "311/311 [==============================] - 142s 458ms/step - batch: 155.0000 - size: 37.0000 - loss: 0.5164 - acc: 0.8517 - val_loss: 0.6827 - val_acc: 0.8054 - lr: 4.1812e-04\n",
            "Epoch 68/100\n",
            "311/311 [==============================] - 142s 457ms/step - batch: 155.0000 - size: 37.0000 - loss: 0.5204 - acc: 0.8374 - val_loss: 0.6575 - val_acc: 0.8161 - lr: 3.9721e-04\n",
            "Epoch 69/100\n",
            "311/311 [==============================] - 142s 457ms/step - batch: 155.0000 - size: 37.0000 - loss: 0.5095 - acc: 0.8543 - val_loss: 0.6711 - val_acc: 0.8168 - lr: 3.9721e-04\n",
            "Epoch 70/100\n",
            "311/311 [==============================] - ETA: 0s - batch: 155.0000 - size: 37.0000 - loss: 0.5054 - acc: 0.8574\n",
            "Epoch 00070: ReduceLROnPlateau reducing learning rate to 0.00037735351797891776.\n",
            "311/311 [==============================] - 142s 457ms/step - batch: 155.0000 - size: 37.0000 - loss: 0.5054 - acc: 0.8574 - val_loss: 0.6697 - val_acc: 0.8154 - lr: 3.9721e-04\n",
            "Epoch 71/100\n",
            "311/311 [==============================] - 142s 458ms/step - batch: 155.0000 - size: 37.0000 - loss: 0.5194 - acc: 0.8471 - val_loss: 0.6668 - val_acc: 0.8151 - lr: 3.7735e-04\n",
            "Epoch 72/100\n",
            "311/311 [==============================] - 142s 458ms/step - batch: 155.0000 - size: 37.0000 - loss: 0.5274 - acc: 0.8476 - val_loss: 0.7094 - val_acc: 0.7894 - lr: 3.7735e-04\n",
            "Epoch 73/100\n",
            "311/311 [==============================] - ETA: 0s - batch: 155.0000 - size: 37.0000 - loss: 0.5232 - acc: 0.8449\n",
            "Epoch 00073: ReduceLROnPlateau reducing learning rate to 0.00035848583793267607.\n",
            "311/311 [==============================] - 142s 458ms/step - batch: 155.0000 - size: 37.0000 - loss: 0.5232 - acc: 0.8449 - val_loss: 0.6738 - val_acc: 0.8022 - lr: 3.7735e-04\n",
            "Epoch 74/100\n",
            "311/311 [==============================] - 142s 457ms/step - batch: 155.0000 - size: 37.0000 - loss: 0.5104 - acc: 0.8535 - val_loss: 0.6802 - val_acc: 0.8203 - lr: 3.5849e-04\n",
            "Epoch 75/100\n",
            "311/311 [==============================] - 142s 457ms/step - batch: 155.0000 - size: 37.0000 - loss: 0.5196 - acc: 0.8488 - val_loss: 0.6936 - val_acc: 0.8005 - lr: 3.5849e-04\n",
            "Epoch 76/100\n",
            "311/311 [==============================] - ETA: 0s - batch: 155.0000 - size: 37.0000 - loss: 0.5328 - acc: 0.8479\n",
            "Epoch 00076: ReduceLROnPlateau reducing learning rate to 0.00034056155709549785.\n",
            "311/311 [==============================] - 142s 457ms/step - batch: 155.0000 - size: 37.0000 - loss: 0.5328 - acc: 0.8479 - val_loss: 0.6855 - val_acc: 0.8106 - lr: 3.5849e-04\n",
            "Epoch 77/100\n",
            "311/311 [==============================] - 143s 459ms/step - batch: 155.0000 - size: 37.0000 - loss: 0.5164 - acc: 0.8497 - val_loss: 0.6631 - val_acc: 0.8144 - lr: 3.4056e-04\n",
            "Epoch 78/100\n",
            "311/311 [==============================] - 144s 464ms/step - batch: 155.0000 - size: 37.0000 - loss: 0.5026 - acc: 0.8544 - val_loss: 0.6489 - val_acc: 0.8186 - lr: 3.4056e-04\n",
            "Epoch 79/100\n",
            "311/311 [==============================] - ETA: 0s - batch: 155.0000 - size: 37.0000 - loss: 0.5004 - acc: 0.8549\n",
            "Epoch 00079: ReduceLROnPlateau reducing learning rate to 0.00032353347924072293.\n",
            "311/311 [==============================] - 143s 459ms/step - batch: 155.0000 - size: 37.0000 - loss: 0.5004 - acc: 0.8549 - val_loss: 0.6651 - val_acc: 0.8213 - lr: 3.4056e-04\n",
            "Epoch 80/100\n",
            "311/311 [==============================] - 143s 459ms/step - batch: 155.0000 - size: 37.0000 - loss: 0.4911 - acc: 0.8575 - val_loss: 0.6549 - val_acc: 0.8210 - lr: 3.2353e-04\n",
            "Epoch 81/100\n",
            "311/311 [==============================] - 143s 460ms/step - batch: 155.0000 - size: 37.0000 - loss: 0.4959 - acc: 0.8510 - val_loss: 0.6525 - val_acc: 0.8133 - lr: 3.2353e-04\n",
            "Epoch 82/100\n",
            "311/311 [==============================] - ETA: 0s - batch: 155.0000 - size: 37.0000 - loss: 0.4877 - acc: 0.8598\n",
            "Epoch 00082: ReduceLROnPlateau reducing learning rate to 0.00030735681357327847.\n",
            "311/311 [==============================] - 143s 460ms/step - batch: 155.0000 - size: 37.0000 - loss: 0.4877 - acc: 0.8598 - val_loss: 0.6577 - val_acc: 0.8182 - lr: 3.2353e-04\n",
            "Epoch 83/100\n",
            "311/311 [==============================] - 143s 461ms/step - batch: 155.0000 - size: 37.0000 - loss: 0.4830 - acc: 0.8585 - val_loss: 0.6420 - val_acc: 0.8186 - lr: 3.0736e-04\n",
            "Epoch 84/100\n",
            "311/311 [==============================] - 144s 462ms/step - batch: 155.0000 - size: 37.0000 - loss: 0.4937 - acc: 0.8546 - val_loss: 0.6517 - val_acc: 0.8140 - lr: 3.0736e-04\n",
            "Epoch 85/100\n",
            "311/311 [==============================] - ETA: 0s - batch: 155.0000 - size: 37.0000 - loss: 0.4937 - acc: 0.8516\n",
            "Epoch 00085: ReduceLROnPlateau reducing learning rate to 0.00029198898118920624.\n",
            "311/311 [==============================] - 143s 459ms/step - batch: 155.0000 - size: 37.0000 - loss: 0.4937 - acc: 0.8516 - val_loss: 0.6585 - val_acc: 0.8040 - lr: 3.0736e-04\n",
            "Epoch 86/100\n",
            "311/311 [==============================] - 143s 460ms/step - batch: 155.0000 - size: 37.0000 - loss: 0.4914 - acc: 0.8496 - val_loss: 0.6455 - val_acc: 0.8012 - lr: 2.9199e-04\n",
            "Epoch 87/100\n",
            "311/311 [==============================] - 143s 459ms/step - batch: 155.0000 - size: 37.0000 - loss: 0.4905 - acc: 0.8510 - val_loss: 0.6826 - val_acc: 0.8133 - lr: 2.9199e-04\n",
            "Epoch 88/100\n",
            "311/311 [==============================] - ETA: 0s - batch: 155.0000 - size: 37.0000 - loss: 0.4942 - acc: 0.8523\n",
            "Epoch 00088: ReduceLROnPlateau reducing learning rate to 0.00027738953212974593.\n",
            "311/311 [==============================] - 143s 461ms/step - batch: 155.0000 - size: 37.0000 - loss: 0.4942 - acc: 0.8523 - val_loss: 0.6543 - val_acc: 0.8088 - lr: 2.9199e-04\n",
            "Epoch 89/100\n",
            "311/311 [==============================] - 143s 461ms/step - batch: 155.0000 - size: 37.0000 - loss: 0.4854 - acc: 0.8504 - val_loss: 0.6454 - val_acc: 0.8120 - lr: 2.7739e-04\n",
            "Epoch 90/100\n",
            "311/311 [==============================] - 143s 460ms/step - batch: 155.0000 - size: 37.0000 - loss: 0.4922 - acc: 0.8548 - val_loss: 0.6660 - val_acc: 0.8088 - lr: 2.7739e-04\n",
            "Epoch 91/100\n",
            "311/311 [==============================] - ETA: 0s - batch: 155.0000 - size: 37.0000 - loss: 0.4924 - acc: 0.8545\n",
            "Epoch 00091: ReduceLROnPlateau reducing learning rate to 0.0002635200624354184.\n",
            "311/311 [==============================] - 143s 461ms/step - batch: 155.0000 - size: 37.0000 - loss: 0.4924 - acc: 0.8545 - val_loss: 0.6521 - val_acc: 0.8130 - lr: 2.7739e-04\n",
            "Epoch 92/100\n",
            "311/311 [==============================] - 143s 460ms/step - batch: 155.0000 - size: 37.0000 - loss: 0.4910 - acc: 0.8539 - val_loss: 0.6577 - val_acc: 0.8092 - lr: 2.6352e-04\n",
            "Epoch 93/100\n",
            "311/311 [==============================] - 143s 460ms/step - batch: 155.0000 - size: 37.0000 - loss: 0.4972 - acc: 0.8548 - val_loss: 0.6679 - val_acc: 0.8071 - lr: 2.6352e-04\n",
            "Epoch 94/100\n",
            "311/311 [==============================] - ETA: 0s - batch: 155.0000 - size: 37.0000 - loss: 0.4972 - acc: 0.8553\n",
            "Epoch 00094: ReduceLROnPlateau reducing learning rate to 0.0002503440482541919.\n",
            "311/311 [==============================] - 143s 460ms/step - batch: 155.0000 - size: 37.0000 - loss: 0.4972 - acc: 0.8553 - val_loss: 0.6503 - val_acc: 0.8113 - lr: 2.6352e-04\n",
            "Epoch 95/100\n",
            "311/311 [==============================] - 143s 460ms/step - batch: 155.0000 - size: 37.0000 - loss: 0.4877 - acc: 0.8569 - val_loss: 0.6439 - val_acc: 0.8099 - lr: 2.5034e-04\n",
            "Epoch 96/100\n",
            "311/311 [==============================] - 143s 460ms/step - batch: 155.0000 - size: 37.0000 - loss: 0.4836 - acc: 0.8537 - val_loss: 0.6394 - val_acc: 0.8102 - lr: 2.5034e-04\n",
            "Epoch 97/100\n",
            "311/311 [==============================] - ETA: 0s - batch: 155.0000 - size: 37.0000 - loss: 0.4821 - acc: 0.8555\n",
            "Epoch 00097: ReduceLROnPlateau reducing learning rate to 0.00023782684584148226.\n",
            "311/311 [==============================] - 144s 462ms/step - batch: 155.0000 - size: 37.0000 - loss: 0.4821 - acc: 0.8555 - val_loss: 0.6479 - val_acc: 0.8147 - lr: 2.5034e-04\n",
            "Epoch 98/100\n",
            "311/311 [==============================] - 143s 459ms/step - batch: 155.0000 - size: 37.0000 - loss: 0.4821 - acc: 0.8528 - val_loss: 0.6471 - val_acc: 0.8144 - lr: 2.3783e-04\n",
            "Epoch 99/100\n",
            "311/311 [==============================] - 143s 459ms/step - batch: 155.0000 - size: 37.0000 - loss: 0.4728 - acc: 0.8561 - val_loss: 0.6356 - val_acc: 0.8154 - lr: 2.3783e-04\n",
            "Epoch 100/100\n",
            "311/311 [==============================] - ETA: 0s - batch: 155.0000 - size: 37.0000 - loss: 0.4804 - acc: 0.8535\n",
            "Epoch 00100: ReduceLROnPlateau reducing learning rate to 0.00022593549801968037.\n",
            "311/311 [==============================] - 143s 459ms/step - batch: 155.0000 - size: 37.0000 - loss: 0.4804 - acc: 0.8535 - val_loss: 0.6369 - val_acc: 0.8133 - lr: 2.3783e-04\n"
          ]
        },
        {
          "output_type": "execute_result",
          "data": {
            "text/plain": [
              "<keras.callbacks.History at 0x7f9da4f15190>"
            ]
          },
          "metadata": {},
          "execution_count": 159
        }
      ]
    },
    {
      "cell_type": "code",
      "metadata": {
        "id": "qGlt-0a7DU1n"
      },
      "source": [
        "#test"
      ],
      "execution_count": null,
      "outputs": []
    },
    {
      "cell_type": "code",
      "metadata": {
        "colab": {
          "base_uri": "https://localhost:8080/"
        },
        "id": "YoKi1cTn6evg",
        "outputId": "080af11c-409b-40a5-feb7-db9a709a5b9c"
      },
      "source": [
        "model.fit_generator(train_generator(df_train_AE), steps_per_epoch=batches_per_epoch, epochs=50,\n",
        "                    validation_data=val_generator(df_val_AE), validation_steps=batches_per_epoch_val, callbacks =[call_reduce] )"
      ],
      "execution_count": null,
      "outputs": [
        {
          "metadata": {
            "tags": null
          },
          "name": "stderr",
          "output_type": "stream",
          "text": [
            "/usr/local/lib/python3.7/dist-packages/keras/engine/training_v1.py:1228: UserWarning: `model.fit_generator` is deprecated and will be removed in a future version. Please use `Model.fit`, which supports generators.\n",
            "  warnings.warn('`model.fit_generator` is deprecated and '\n"
          ]
        },
        {
          "metadata": {
            "tags": null
          },
          "name": "stdout",
          "output_type": "stream",
          "text": [
            "Epoch 1/50\n",
            "311/311 [==============================] - ETA: 0s - batch: 155.0000 - size: 37.0000 - loss: 1.0465 - acc: 0.7193"
          ]
        },
        {
          "metadata": {
            "tags": null
          },
          "name": "stderr",
          "output_type": "stream",
          "text": [
            "/usr/local/lib/python3.7/dist-packages/keras/engine/training.py:2470: UserWarning: `Model.state_updates` will be removed in a future version. This property should not be used in TensorFlow 2.0, as `updates` are applied automatically.\n",
            "  warnings.warn('`Model.state_updates` will be removed in a future version. '\n"
          ]
        },
        {
          "output_type": "stream",
          "name": "stdout",
          "text": [
            "311/311 [==============================] - 212s 678ms/step - batch: 155.0000 - size: 37.0000 - loss: 1.0465 - acc: 0.7193 - val_loss: 0.9377 - val_acc: 0.7355 - lr: 0.0010\n",
            "Epoch 2/50\n",
            "311/311 [==============================] - 209s 673ms/step - batch: 155.0000 - size: 37.0000 - loss: 0.7392 - acc: 0.7942 - val_loss: 0.8110 - val_acc: 0.7417 - lr: 0.0010\n",
            "Epoch 3/50\n",
            "311/311 [==============================] - 209s 674ms/step - batch: 155.0000 - size: 37.0000 - loss: 0.7621 - acc: 0.7545 - val_loss: 0.8435 - val_acc: 0.7205 - lr: 0.0010\n",
            "Epoch 4/50\n",
            "311/311 [==============================] - ETA: 0s - batch: 155.0000 - size: 37.0000 - loss: 0.7697 - acc: 0.7502\n",
            "Epoch 00004: ReduceLROnPlateau reducing learning rate to 0.0009500000451225787.\n",
            "311/311 [==============================] - 208s 670ms/step - batch: 155.0000 - size: 37.0000 - loss: 0.7697 - acc: 0.7502 - val_loss: 0.8601 - val_acc: 0.7216 - lr: 0.0010\n",
            "Epoch 5/50\n",
            "311/311 [==============================] - 209s 672ms/step - batch: 155.0000 - size: 37.0000 - loss: 0.7352 - acc: 0.7687 - val_loss: 0.8253 - val_acc: 0.7369 - lr: 9.5000e-04\n",
            "Epoch 6/50\n",
            "311/311 [==============================] - 209s 671ms/step - batch: 155.0000 - size: 37.0000 - loss: 0.7164 - acc: 0.7901 - val_loss: 0.8331 - val_acc: 0.7835 - lr: 9.5000e-04\n",
            "Epoch 7/50\n",
            "311/311 [==============================] - 208s 669ms/step - batch: 155.0000 - size: 37.0000 - loss: 0.7337 - acc: 0.7875 - val_loss: 0.8578 - val_acc: 0.7285 - lr: 9.5000e-04\n",
            "Epoch 8/50\n",
            "311/311 [==============================] - 208s 668ms/step - batch: 155.0000 - size: 37.0000 - loss: 0.7188 - acc: 0.7875 - val_loss: 0.8402 - val_acc: 0.7428 - lr: 9.5000e-04\n",
            "Epoch 9/50\n",
            "311/311 [==============================] - ETA: 0s - batch: 155.0000 - size: 37.0000 - loss: 0.7119 - acc: 0.8006\n",
            "Epoch 00009: ReduceLROnPlateau reducing learning rate to 0.0009025000152178108.\n",
            "311/311 [==============================] - 208s 668ms/step - batch: 155.0000 - size: 37.0000 - loss: 0.7119 - acc: 0.8006 - val_loss: 0.8094 - val_acc: 0.7758 - lr: 9.5000e-04\n",
            "Epoch 10/50\n",
            "311/311 [==============================] - 207s 667ms/step - batch: 155.0000 - size: 37.0000 - loss: 0.6582 - acc: 0.8193 - val_loss: 0.7838 - val_acc: 0.7800 - lr: 9.0250e-04\n",
            "Epoch 11/50\n",
            "311/311 [==============================] - 207s 665ms/step - batch: 155.0000 - size: 37.0000 - loss: 0.6480 - acc: 0.8086 - val_loss: 0.8322 - val_acc: 0.7237 - lr: 9.0250e-04\n",
            "Epoch 12/50\n",
            "311/311 [==============================] - ETA: 0s - batch: 155.0000 - size: 37.0000 - loss: 0.6422 - acc: 0.8049\n",
            "Epoch 00012: ReduceLROnPlateau reducing learning rate to 0.0008573750033974647.\n",
            "311/311 [==============================] - 208s 667ms/step - batch: 155.0000 - size: 37.0000 - loss: 0.6422 - acc: 0.8049 - val_loss: 0.7174 - val_acc: 0.7925 - lr: 9.0250e-04\n",
            "Epoch 13/50\n",
            "311/311 [==============================] - 207s 667ms/step - batch: 155.0000 - size: 37.0000 - loss: 0.6109 - acc: 0.8235 - val_loss: 0.7187 - val_acc: 0.7967 - lr: 8.5737e-04\n",
            "Epoch 14/50\n",
            "311/311 [==============================] - 207s 666ms/step - batch: 155.0000 - size: 37.0000 - loss: 0.6784 - acc: 0.8074 - val_loss: 0.8226 - val_acc: 0.7758 - lr: 8.5737e-04\n",
            "Epoch 15/50\n",
            "311/311 [==============================] - 207s 667ms/step - batch: 155.0000 - size: 37.0000 - loss: 0.7435 - acc: 0.7658 - val_loss: 0.8392 - val_acc: 0.7306 - lr: 8.5737e-04\n",
            "Epoch 16/50\n",
            "311/311 [==============================] - ETA: 0s - batch: 155.0000 - size: 37.0000 - loss: 0.6914 - acc: 0.8026\n",
            "Epoch 00016: ReduceLROnPlateau reducing learning rate to 0.0008145062311086804.\n",
            "311/311 [==============================] - 207s 666ms/step - batch: 155.0000 - size: 37.0000 - loss: 0.6914 - acc: 0.8026 - val_loss: 0.8083 - val_acc: 0.7692 - lr: 8.5737e-04\n",
            "Epoch 17/50\n",
            "311/311 [==============================] - 208s 668ms/step - batch: 155.0000 - size: 37.0000 - loss: 0.6639 - acc: 0.8183 - val_loss: 0.8080 - val_acc: 0.7887 - lr: 8.1451e-04\n",
            "Epoch 18/50\n",
            "311/311 [==============================] - 209s 671ms/step - batch: 155.0000 - size: 37.0000 - loss: 0.7064 - acc: 0.8030 - val_loss: 0.8915 - val_acc: 0.7762 - lr: 8.1451e-04\n",
            "Epoch 19/50\n",
            "311/311 [==============================] - ETA: 0s - batch: 155.0000 - size: 37.0000 - loss: 0.7370 - acc: 0.8011\n",
            "Epoch 00019: ReduceLROnPlateau reducing learning rate to 0.0007737808919046074.\n",
            "311/311 [==============================] - 209s 672ms/step - batch: 155.0000 - size: 37.0000 - loss: 0.7370 - acc: 0.8011 - val_loss: 0.8135 - val_acc: 0.7786 - lr: 8.1451e-04\n",
            "Epoch 20/50\n",
            "311/311 [==============================] - 209s 671ms/step - batch: 155.0000 - size: 37.0000 - loss: 0.6777 - acc: 0.8020 - val_loss: 0.8448 - val_acc: 0.7268 - lr: 7.7378e-04\n",
            "Epoch 21/50\n",
            "311/311 [==============================] - 209s 673ms/step - batch: 155.0000 - size: 37.0000 - loss: 0.7145 - acc: 0.7838 - val_loss: 0.8134 - val_acc: 0.7723 - lr: 7.7378e-04\n",
            "Epoch 22/50\n",
            "311/311 [==============================] - ETA: 0s - batch: 155.0000 - size: 37.0000 - loss: 0.7033 - acc: 0.7904\n",
            "Epoch 00022: ReduceLROnPlateau reducing learning rate to 0.000735091819660738.\n",
            "311/311 [==============================] - 209s 671ms/step - batch: 155.0000 - size: 37.0000 - loss: 0.7033 - acc: 0.7904 - val_loss: 0.8221 - val_acc: 0.7529 - lr: 7.7378e-04\n",
            "Epoch 23/50\n",
            "311/311 [==============================] - 209s 672ms/step - batch: 155.0000 - size: 37.0000 - loss: 0.6894 - acc: 0.7880 - val_loss: 0.7998 - val_acc: 0.7442 - lr: 7.3509e-04\n",
            "Epoch 24/50\n",
            "311/311 [==============================] - 208s 671ms/step - batch: 155.0000 - size: 37.0000 - loss: 0.6655 - acc: 0.8080 - val_loss: 0.8182 - val_acc: 0.7369 - lr: 7.3509e-04\n",
            "Epoch 25/50\n",
            "311/311 [==============================] - ETA: 0s - batch: 155.0000 - size: 37.0000 - loss: 0.6805 - acc: 0.8047\n",
            "Epoch 00025: ReduceLROnPlateau reducing learning rate to 0.0006983372120885178.\n",
            "311/311 [==============================] - 208s 669ms/step - batch: 155.0000 - size: 37.0000 - loss: 0.6805 - acc: 0.8047 - val_loss: 0.7985 - val_acc: 0.7862 - lr: 7.3509e-04\n",
            "Epoch 26/50\n",
            "311/311 [==============================] - 209s 672ms/step - batch: 155.0000 - size: 37.0000 - loss: 0.6456 - acc: 0.8234 - val_loss: 0.7480 - val_acc: 0.7814 - lr: 6.9834e-04\n",
            "Epoch 27/50\n",
            "311/311 [==============================] - 209s 672ms/step - batch: 155.0000 - size: 37.0000 - loss: 0.6253 - acc: 0.8235 - val_loss: 0.7397 - val_acc: 0.7921 - lr: 6.9834e-04\n",
            "Epoch 28/50\n",
            "311/311 [==============================] - ETA: 0s - batch: 155.0000 - size: 37.0000 - loss: 0.6261 - acc: 0.8291\n",
            "Epoch 00028: ReduceLROnPlateau reducing learning rate to 0.0006634203542489559.\n",
            "311/311 [==============================] - 210s 677ms/step - batch: 155.0000 - size: 37.0000 - loss: 0.6261 - acc: 0.8291 - val_loss: 0.7552 - val_acc: 0.8026 - lr: 6.9834e-04\n",
            "Epoch 29/50\n",
            "311/311 [==============================] - 208s 670ms/step - batch: 155.0000 - size: 37.0000 - loss: 0.6392 - acc: 0.8268 - val_loss: 0.7599 - val_acc: 0.7946 - lr: 6.6342e-04\n",
            "Epoch 30/50\n",
            "311/311 [==============================] - 209s 671ms/step - batch: 155.0000 - size: 37.0000 - loss: 0.6594 - acc: 0.8075 - val_loss: 0.7915 - val_acc: 0.7682 - lr: 6.6342e-04\n",
            "Epoch 31/50\n",
            "311/311 [==============================] - ETA: 0s - batch: 155.0000 - size: 37.0000 - loss: 0.6193 - acc: 0.8219\n",
            "Epoch 00031: ReduceLROnPlateau reducing learning rate to 0.0006302493420662358.\n",
            "311/311 [==============================] - 208s 670ms/step - batch: 155.0000 - size: 37.0000 - loss: 0.6193 - acc: 0.8219 - val_loss: 0.7853 - val_acc: 0.7925 - lr: 6.6342e-04\n",
            "Epoch 32/50\n",
            "311/311 [==============================] - 210s 674ms/step - batch: 155.0000 - size: 37.0000 - loss: 0.6017 - acc: 0.8382 - val_loss: 0.7495 - val_acc: 0.7970 - lr: 6.3025e-04\n",
            "Epoch 33/50\n",
            "311/311 [==============================] - 209s 672ms/step - batch: 155.0000 - size: 37.0000 - loss: 0.6071 - acc: 0.8359 - val_loss: 0.7515 - val_acc: 0.8015 - lr: 6.3025e-04\n",
            "Epoch 34/50\n",
            "311/311 [==============================] - 207s 666ms/step - batch: 155.0000 - size: 37.0000 - loss: 0.5821 - acc: 0.8415 - val_loss: 0.7167 - val_acc: 0.8127 - lr: 6.3025e-04\n",
            "Epoch 35/50\n",
            "311/311 [==============================] - 206s 661ms/step - batch: 155.0000 - size: 37.0000 - loss: 0.5719 - acc: 0.8417 - val_loss: 0.7002 - val_acc: 0.8054 - lr: 6.3025e-04\n",
            "Epoch 36/50\n",
            "311/311 [==============================] - 206s 662ms/step - batch: 155.0000 - size: 37.0000 - loss: 0.6024 - acc: 0.8394 - val_loss: 0.7716 - val_acc: 0.8033 - lr: 6.3025e-04\n",
            "Epoch 37/50\n",
            "311/311 [==============================] - ETA: 0s - batch: 155.0000 - size: 37.0000 - loss: 0.6204 - acc: 0.8328\n",
            "Epoch 00037: ReduceLROnPlateau reducing learning rate to 0.0005987368611386045.\n",
            "311/311 [==============================] - 208s 670ms/step - batch: 155.0000 - size: 37.0000 - loss: 0.6204 - acc: 0.8328 - val_loss: 0.8226 - val_acc: 0.7442 - lr: 6.3025e-04\n",
            "Epoch 38/50\n",
            "311/311 [==============================] - 208s 669ms/step - batch: 155.0000 - size: 37.0000 - loss: 0.6314 - acc: 0.8198 - val_loss: 0.7274 - val_acc: 0.8047 - lr: 5.9874e-04\n",
            "Epoch 39/50\n",
            "311/311 [==============================] - 208s 669ms/step - batch: 155.0000 - size: 37.0000 - loss: 0.6474 - acc: 0.8086 - val_loss: 0.8021 - val_acc: 0.7511 - lr: 5.9874e-04\n",
            "Epoch 40/50\n",
            "311/311 [==============================] - ETA: 0s - batch: 155.0000 - size: 37.0000 - loss: 0.6416 - acc: 0.8166\n",
            "Epoch 00040: ReduceLROnPlateau reducing learning rate to 0.0005688000208465382.\n",
            "311/311 [==============================] - 210s 674ms/step - batch: 155.0000 - size: 37.0000 - loss: 0.6416 - acc: 0.8166 - val_loss: 0.7633 - val_acc: 0.8001 - lr: 5.9874e-04\n",
            "Epoch 41/50\n",
            "311/311 [==============================] - 210s 677ms/step - batch: 155.0000 - size: 37.0000 - loss: 0.6087 - acc: 0.8385 - val_loss: 0.7515 - val_acc: 0.8078 - lr: 5.6880e-04\n",
            "Epoch 42/50\n",
            "311/311 [==============================] - 210s 676ms/step - batch: 155.0000 - size: 37.0000 - loss: 0.5923 - acc: 0.8423 - val_loss: 0.7437 - val_acc: 0.8050 - lr: 5.6880e-04\n",
            "Epoch 43/50\n",
            "311/311 [==============================] - ETA: 0s - batch: 155.0000 - size: 37.0000 - loss: 0.5791 - acc: 0.8404\n",
            "Epoch 00043: ReduceLROnPlateau reducing learning rate to 0.0005403600225690752.\n",
            "311/311 [==============================] - 211s 679ms/step - batch: 155.0000 - size: 37.0000 - loss: 0.5791 - acc: 0.8404 - val_loss: 0.7457 - val_acc: 0.8008 - lr: 5.6880e-04\n",
            "Epoch 44/50\n",
            "311/311 [==============================] - 211s 679ms/step - batch: 155.0000 - size: 37.0000 - loss: 0.5951 - acc: 0.8403 - val_loss: 0.7524 - val_acc: 0.8026 - lr: 5.4036e-04\n",
            "Epoch 45/50\n",
            "311/311 [==============================] - 210s 674ms/step - batch: 155.0000 - size: 37.0000 - loss: 0.6068 - acc: 0.8351 - val_loss: 0.7205 - val_acc: 0.8158 - lr: 5.4036e-04\n",
            "Epoch 46/50\n",
            "311/311 [==============================] - ETA: 0s - batch: 155.0000 - size: 37.0000 - loss: 0.5778 - acc: 0.8451\n",
            "Epoch 00046: ReduceLROnPlateau reducing learning rate to 0.0005133419937919825.\n",
            "311/311 [==============================] - 211s 678ms/step - batch: 155.0000 - size: 37.0000 - loss: 0.5778 - acc: 0.8451 - val_loss: 0.7230 - val_acc: 0.8106 - lr: 5.4036e-04\n",
            "Epoch 47/50\n",
            "311/311 [==============================] - 210s 677ms/step - batch: 155.0000 - size: 37.0000 - loss: 0.5632 - acc: 0.8432 - val_loss: 0.7064 - val_acc: 0.7949 - lr: 5.1334e-04\n",
            "Epoch 48/50\n",
            "311/311 [==============================] - 211s 680ms/step - batch: 155.0000 - size: 37.0000 - loss: 0.5699 - acc: 0.8383 - val_loss: 0.7594 - val_acc: 0.7727 - lr: 5.1334e-04\n",
            "Epoch 49/50\n",
            "311/311 [==============================] - ETA: 0s - batch: 155.0000 - size: 37.0000 - loss: 0.5792 - acc: 0.8322\n",
            "Epoch 00049: ReduceLROnPlateau reducing learning rate to 0.0004876748775132.\n",
            "311/311 [==============================] - 209s 673ms/step - batch: 155.0000 - size: 37.0000 - loss: 0.5792 - acc: 0.8322 - val_loss: 0.7165 - val_acc: 0.8050 - lr: 5.1334e-04\n",
            "Epoch 50/50\n",
            "311/311 [==============================] - 210s 674ms/step - batch: 155.0000 - size: 37.0000 - loss: 0.5458 - acc: 0.8505 - val_loss: 0.7221 - val_acc: 0.8060 - lr: 4.8767e-04\n"
          ]
        },
        {
          "output_type": "execute_result",
          "data": {
            "text/plain": [
              "<keras.callbacks.History at 0x7f02b476a090>"
            ]
          },
          "metadata": {},
          "execution_count": 164
        }
      ]
    },
    {
      "cell_type": "code",
      "metadata": {
        "id": "5EjU_PJ-6eyT",
        "colab": {
          "base_uri": "https://localhost:8080/"
        },
        "outputId": "ad3c11d4-dbb6-4d3e-eeff-9378512d56a6"
      },
      "source": [
        "num_sequences_val = len(df_test['mean_emb'].to_list())\n",
        "batch_size_val = 14\n",
        "batches_per_epoch_val = 197\n",
        "assert batch_size_val * batches_per_epoch_val == num_sequences_val\n",
        "num_features= 500\n",
        "model.evaluate_generator(val_generator(df_test_AE), steps= batches_per_epoch_val)"
      ],
      "execution_count": null,
      "outputs": [
        {
          "output_type": "stream",
          "name": "stderr",
          "text": [
            "/usr/local/lib/python3.7/dist-packages/ipykernel_launcher.py:6: UserWarning: `Model.evaluate_generator` is deprecated and will be removed in a future version. Please use `Model.evaluate`, which supports generators.\n",
            "  \n"
          ]
        },
        {
          "output_type": "execute_result",
          "data": {
            "text/plain": [
              "[0.5928055007899473, 0.82160985]"
            ]
          },
          "metadata": {},
          "execution_count": 160
        }
      ]
    },
    {
      "cell_type": "code",
      "metadata": {
        "id": "H_pkyAkCkNXR",
        "colab": {
          "base_uri": "https://localhost:8080/"
        },
        "outputId": "dc2f964b-03ca-465c-e4f5-e843a9c7d517"
      },
      "source": [
        "y_proba=model.predict(val_generator(df_test_AE), steps= batches_per_epoch_val)"
      ],
      "execution_count": null,
      "outputs": [
        {
          "output_type": "stream",
          "name": "stderr",
          "text": [
            "/usr/local/lib/python3.7/dist-packages/keras/engine/training_v1.py:2079: UserWarning: `Model.state_updates` will be removed in a future version. This property should not be used in TensorFlow 2.0, as `updates` are applied automatically.\n",
            "  updates=self.state_updates,\n"
          ]
        }
      ]
    },
    {
      "cell_type": "code",
      "metadata": {
        "id": "B3KbyXfqN5XV"
      },
      "source": [
        "y_pred=[]\n",
        "for i in y_proba:\n",
        "    max_index_row = np.argmax(i, axis=0)\n",
        "    y_pred.append(max_index_row)"
      ],
      "execution_count": null,
      "outputs": []
    },
    {
      "cell_type": "code",
      "metadata": {
        "id": "8L2rqTL-OGkg",
        "colab": {
          "base_uri": "https://localhost:8080/"
        },
        "outputId": "c33e77dd-8131-4afa-e710-10d2f6eb3902"
      },
      "source": [
        "#Evaluating Model Performance by creating confusion matrix and classification report\n",
        "from sklearn.metrics import classification_report, confusion_matrix\n",
        "print('Confusion Matrix')\n",
        "print(confusion_matrix(y_pred, df_test_AE['label']))\n",
        "print('Classification Report')\n",
        "print(classification_report(y_pred, df_test_AE['label']))"
      ],
      "execution_count": null,
      "outputs": [
        {
          "output_type": "stream",
          "name": "stdout",
          "text": [
            "Confusion Matrix\n",
            "[[ 247    5   57    0    2   13    8    1    0    1]\n",
            " [   5   60   13   29   18    1    7    0    0    2]\n",
            " [  59   14  272    6   23    5    1    2    0    2]\n",
            " [   2    3    3  121    0    0    0    0    0    3]\n",
            " [   2   49    9   25  236    0   11    0    4   23]\n",
            " [   2    0    1    0    0   15    0    0    0    0]\n",
            " [  13   18    2    1   30    1 1242    0    0   13]\n",
            " [   0    0    0    0    0    0    0    0    0    0]\n",
            " [   0    0    0    0    0    0    0    0    0    0]\n",
            " [   0    1    0    0    1    0    0    1    0   73]]\n",
            "Classification Report\n",
            "              precision    recall  f1-score   support\n",
            "\n",
            "           0       0.75      0.74      0.74       334\n",
            "           1       0.40      0.44      0.42       135\n",
            "           2       0.76      0.71      0.73       384\n",
            "           3       0.66      0.92      0.77       132\n",
            "           4       0.76      0.66      0.71       359\n",
            "           5       0.43      0.83      0.57        18\n",
            "           6       0.98      0.94      0.96      1320\n",
            "           7       0.00      0.00      0.00         0\n",
            "           8       0.00      0.00      0.00         0\n",
            "           9       0.62      0.96      0.76        76\n",
            "\n",
            "    accuracy                           0.82      2758\n",
            "   macro avg       0.54      0.62      0.57      2758\n",
            "weighted avg       0.84      0.82      0.83      2758\n",
            "\n"
          ]
        },
        {
          "output_type": "stream",
          "name": "stderr",
          "text": [
            "/usr/local/lib/python3.7/dist-packages/sklearn/metrics/_classification.py:1308: UndefinedMetricWarning: Recall and F-score are ill-defined and being set to 0.0 in labels with no true samples. Use `zero_division` parameter to control this behavior.\n",
            "  _warn_prf(average, modifier, msg_start, len(result))\n",
            "/usr/local/lib/python3.7/dist-packages/sklearn/metrics/_classification.py:1308: UndefinedMetricWarning: Recall and F-score are ill-defined and being set to 0.0 in labels with no true samples. Use `zero_division` parameter to control this behavior.\n",
            "  _warn_prf(average, modifier, msg_start, len(result))\n",
            "/usr/local/lib/python3.7/dist-packages/sklearn/metrics/_classification.py:1308: UndefinedMetricWarning: Recall and F-score are ill-defined and being set to 0.0 in labels with no true samples. Use `zero_division` parameter to control this behavior.\n",
            "  _warn_prf(average, modifier, msg_start, len(result))\n"
          ]
        }
      ]
    },
    {
      "cell_type": "code",
      "metadata": {
        "id": "HzW3pljVONuy"
      },
      "source": [
        "mat = confusion_matrix(y_pred, df_test_AE['label'])"
      ],
      "execution_count": null,
      "outputs": []
    },
    {
      "cell_type": "code",
      "metadata": {
        "id": "VKBGfU-ZOYHz",
        "colab": {
          "base_uri": "https://localhost:8080/"
        },
        "outputId": "11760168-74fa-41a5-a231-d769a7cb6ea0"
      },
      "source": [
        "diag = np.diagonal(mat)\n",
        "sum(diag)"
      ],
      "execution_count": null,
      "outputs": [
        {
          "output_type": "execute_result",
          "data": {
            "text/plain": [
              "2266"
            ]
          },
          "metadata": {},
          "execution_count": 165
        }
      ]
    },
    {
      "cell_type": "code",
      "metadata": {
        "id": "w5a0tz_cOX_Y",
        "colab": {
          "base_uri": "https://localhost:8080/"
        },
        "outputId": "cbc32ca4-351b-45b4-9f3b-f72bb3ff9082"
      },
      "source": [
        "sum(sum(mat))-sum(diag)"
      ],
      "execution_count": null,
      "outputs": [
        {
          "output_type": "execute_result",
          "data": {
            "text/plain": [
              "492"
            ]
          },
          "metadata": {},
          "execution_count": 166
        }
      ]
    },
    {
      "cell_type": "code",
      "metadata": {
        "id": "Z0Vg3Z5tOfB_"
      },
      "source": [
        ""
      ],
      "execution_count": null,
      "outputs": []
    }
  ]
}