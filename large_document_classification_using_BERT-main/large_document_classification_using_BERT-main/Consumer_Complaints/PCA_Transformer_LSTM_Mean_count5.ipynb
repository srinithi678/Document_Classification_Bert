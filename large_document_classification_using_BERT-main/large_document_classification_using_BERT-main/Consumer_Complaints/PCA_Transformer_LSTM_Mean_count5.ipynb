{
  "nbformat": 4,
  "nbformat_minor": 0,
  "metadata": {
    "accelerator": "GPU",
    "colab": {
      "name": "Copy of Copy of PCA_ Transformer_Mean_count5_Testdata_dc.ipynb",
      "provenance": [],
      "collapsed_sections": [],
      "machine_shape": "hm"
    },
    "kernelspec": {
      "display_name": "Python 3",
      "name": "python3"
    },
    "language_info": {
      "name": "python"
    }
  },
  "cells": [
    {
      "cell_type": "code",
      "metadata": {
        "id": "LUgSWzLG3JWF"
      },
      "source": [
        "# # # cheking the number of cored this system has.\n",
        "# !cat /proc/cpuinfo | grep \"cpu cores\" | uniq\n",
        "\n",
        "# # GPU info\n",
        "# !nvidia-smi\n",
        "\n",
        "# # Amount of system RAM available to be used.\n",
        "# from psutil import virtual_memory\n",
        "# ram_gb = virtual_memory().total / (1024 * 1024 * 1024)   \n",
        "# print('Your runtime has {:.1f} gigabyte of availabe\\n'.format(ram_gb))\n",
        "\n",
        "# #finding the recursion limit to avoid Augmentation recursion error \n",
        "# import sys\n",
        "# print(sys.getrecursionlimit())\n",
        "\n",
        "# #installing fastai\n",
        "# !pip install torch===1.4.0 torchvision===0.5.0 -f https://download.pytorch.org/whl/torch_stable.html"
      ],
      "execution_count": null,
      "outputs": []
    },
    {
      "cell_type": "code",
      "metadata": {
        "colab": {
          "base_uri": "https://localhost:8080/"
        },
        "id": "5KF0pKp93cni",
        "outputId": "1fd2084e-3aa4-4fe2-f7e0-36572595b36e"
      },
      "source": [
        "#importing libraries and initializing fastai \n",
        "import pandas as pd \n",
        "import numpy as np \n",
        "import time\n",
        "\n",
        "#Mounting google drive for saving the models after training \n",
        "from google.colab import drive\n",
        "drive.mount('/content/drive')"
      ],
      "execution_count": null,
      "outputs": [
        {
          "output_type": "stream",
          "name": "stdout",
          "text": [
            "Mounted at /content/drive\n"
          ]
        }
      ]
    },
    {
      "cell_type": "code",
      "metadata": {
        "colab": {
          "base_uri": "https://localhost:8080/",
          "height": 428
        },
        "id": "DU9_FNMe5US1",
        "outputId": "03a7eb9f-1680-48b8-b139-9ce6e6a3c300"
      },
      "source": [
        "#loading the data \n",
        "#There are NaN values in the consumer_complaint_narrative column\n",
        "train_raw = pd.read_csv('/content/drive/MyDrive/consumer_complaints.csv')\n",
        "train_raw.head()"
      ],
      "execution_count": null,
      "outputs": [
        {
          "output_type": "stream",
          "name": "stderr",
          "text": [
            "/usr/local/lib/python3.7/dist-packages/IPython/core/interactiveshell.py:2718: DtypeWarning: Columns (5,11) have mixed types.Specify dtype option on import or set low_memory=False.\n",
            "  interactivity=interactivity, compiler=compiler, result=result)\n"
          ]
        },
        {
          "output_type": "execute_result",
          "data": {
            "text/html": [
              "<div>\n",
              "<style scoped>\n",
              "    .dataframe tbody tr th:only-of-type {\n",
              "        vertical-align: middle;\n",
              "    }\n",
              "\n",
              "    .dataframe tbody tr th {\n",
              "        vertical-align: top;\n",
              "    }\n",
              "\n",
              "    .dataframe thead th {\n",
              "        text-align: right;\n",
              "    }\n",
              "</style>\n",
              "<table border=\"1\" class=\"dataframe\">\n",
              "  <thead>\n",
              "    <tr style=\"text-align: right;\">\n",
              "      <th></th>\n",
              "      <th>date_received</th>\n",
              "      <th>product</th>\n",
              "      <th>sub_product</th>\n",
              "      <th>issue</th>\n",
              "      <th>sub_issue</th>\n",
              "      <th>consumer_complaint_narrative</th>\n",
              "      <th>company_public_response</th>\n",
              "      <th>company</th>\n",
              "      <th>state</th>\n",
              "      <th>zipcode</th>\n",
              "      <th>tags</th>\n",
              "      <th>consumer_consent_provided</th>\n",
              "      <th>submitted_via</th>\n",
              "      <th>date_sent_to_company</th>\n",
              "      <th>company_response_to_consumer</th>\n",
              "      <th>timely_response</th>\n",
              "      <th>consumer_disputed?</th>\n",
              "      <th>complaint_id</th>\n",
              "    </tr>\n",
              "  </thead>\n",
              "  <tbody>\n",
              "    <tr>\n",
              "      <th>0</th>\n",
              "      <td>08/30/2013</td>\n",
              "      <td>Mortgage</td>\n",
              "      <td>Other mortgage</td>\n",
              "      <td>Loan modification,collection,foreclosure</td>\n",
              "      <td>NaN</td>\n",
              "      <td>NaN</td>\n",
              "      <td>NaN</td>\n",
              "      <td>U.S. Bancorp</td>\n",
              "      <td>CA</td>\n",
              "      <td>95993</td>\n",
              "      <td>NaN</td>\n",
              "      <td>NaN</td>\n",
              "      <td>Referral</td>\n",
              "      <td>09/03/2013</td>\n",
              "      <td>Closed with explanation</td>\n",
              "      <td>Yes</td>\n",
              "      <td>Yes</td>\n",
              "      <td>511074</td>\n",
              "    </tr>\n",
              "    <tr>\n",
              "      <th>1</th>\n",
              "      <td>08/30/2013</td>\n",
              "      <td>Mortgage</td>\n",
              "      <td>Other mortgage</td>\n",
              "      <td>Loan servicing, payments, escrow account</td>\n",
              "      <td>NaN</td>\n",
              "      <td>NaN</td>\n",
              "      <td>NaN</td>\n",
              "      <td>Wells Fargo &amp; Company</td>\n",
              "      <td>CA</td>\n",
              "      <td>91104</td>\n",
              "      <td>NaN</td>\n",
              "      <td>NaN</td>\n",
              "      <td>Referral</td>\n",
              "      <td>09/03/2013</td>\n",
              "      <td>Closed with explanation</td>\n",
              "      <td>Yes</td>\n",
              "      <td>Yes</td>\n",
              "      <td>511080</td>\n",
              "    </tr>\n",
              "    <tr>\n",
              "      <th>2</th>\n",
              "      <td>08/30/2013</td>\n",
              "      <td>Credit reporting</td>\n",
              "      <td>NaN</td>\n",
              "      <td>Incorrect information on credit report</td>\n",
              "      <td>Account status</td>\n",
              "      <td>NaN</td>\n",
              "      <td>NaN</td>\n",
              "      <td>Wells Fargo &amp; Company</td>\n",
              "      <td>NY</td>\n",
              "      <td>11764</td>\n",
              "      <td>NaN</td>\n",
              "      <td>NaN</td>\n",
              "      <td>Postal mail</td>\n",
              "      <td>09/18/2013</td>\n",
              "      <td>Closed with explanation</td>\n",
              "      <td>Yes</td>\n",
              "      <td>No</td>\n",
              "      <td>510473</td>\n",
              "    </tr>\n",
              "    <tr>\n",
              "      <th>3</th>\n",
              "      <td>08/30/2013</td>\n",
              "      <td>Student loan</td>\n",
              "      <td>Non-federal student loan</td>\n",
              "      <td>Repaying your loan</td>\n",
              "      <td>Repaying your loan</td>\n",
              "      <td>NaN</td>\n",
              "      <td>NaN</td>\n",
              "      <td>Navient Solutions, Inc.</td>\n",
              "      <td>MD</td>\n",
              "      <td>21402</td>\n",
              "      <td>NaN</td>\n",
              "      <td>NaN</td>\n",
              "      <td>Email</td>\n",
              "      <td>08/30/2013</td>\n",
              "      <td>Closed with explanation</td>\n",
              "      <td>Yes</td>\n",
              "      <td>Yes</td>\n",
              "      <td>510326</td>\n",
              "    </tr>\n",
              "    <tr>\n",
              "      <th>4</th>\n",
              "      <td>08/30/2013</td>\n",
              "      <td>Debt collection</td>\n",
              "      <td>Credit card</td>\n",
              "      <td>False statements or representation</td>\n",
              "      <td>Attempted to collect wrong amount</td>\n",
              "      <td>NaN</td>\n",
              "      <td>NaN</td>\n",
              "      <td>Resurgent Capital Services L.P.</td>\n",
              "      <td>GA</td>\n",
              "      <td>30106</td>\n",
              "      <td>NaN</td>\n",
              "      <td>NaN</td>\n",
              "      <td>Web</td>\n",
              "      <td>08/30/2013</td>\n",
              "      <td>Closed with explanation</td>\n",
              "      <td>Yes</td>\n",
              "      <td>Yes</td>\n",
              "      <td>511067</td>\n",
              "    </tr>\n",
              "  </tbody>\n",
              "</table>\n",
              "</div>"
            ],
            "text/plain": [
              "  date_received           product  ... consumer_disputed? complaint_id\n",
              "0    08/30/2013          Mortgage  ...                Yes       511074\n",
              "1    08/30/2013          Mortgage  ...                Yes       511080\n",
              "2    08/30/2013  Credit reporting  ...                 No       510473\n",
              "3    08/30/2013      Student loan  ...                Yes       510326\n",
              "4    08/30/2013   Debt collection  ...                Yes       511067\n",
              "\n",
              "[5 rows x 18 columns]"
            ]
          },
          "metadata": {},
          "execution_count": 3
        }
      ]
    },
    {
      "cell_type": "code",
      "metadata": {
        "colab": {
          "base_uri": "https://localhost:8080/"
        },
        "id": "aP3sg9DF5UVi",
        "outputId": "c1d9d806-e1c2-425f-a853-03d62478151a"
      },
      "source": [
        "#Training data shape\n",
        "train_raw.shape"
      ],
      "execution_count": null,
      "outputs": [
        {
          "output_type": "execute_result",
          "data": {
            "text/plain": [
              "(555957, 18)"
            ]
          },
          "metadata": {},
          "execution_count": 4
        }
      ]
    },
    {
      "cell_type": "code",
      "metadata": {
        "colab": {
          "base_uri": "https://localhost:8080/"
        },
        "id": "Jr-vmJ_g5UYE",
        "outputId": "48333e96-190f-45aa-a84f-93d2504d1843"
      },
      "source": [
        "#Preprocessing the data \n",
        "#Extracting only those data whose consumer_complaint_narrative column is not null\n",
        "#columns = 18\n",
        "train_raw = train_raw[train_raw.consumer_complaint_narrative.notnull()]\n",
        "train_raw.shape"
      ],
      "execution_count": null,
      "outputs": [
        {
          "output_type": "execute_result",
          "data": {
            "text/plain": [
              "(66806, 18)"
            ]
          },
          "metadata": {},
          "execution_count": 5
        }
      ]
    },
    {
      "cell_type": "code",
      "metadata": {
        "colab": {
          "base_uri": "https://localhost:8080/",
          "height": 282
        },
        "id": "d8AXktCu6dhX",
        "outputId": "53df37c7-07b3-40c6-e264-35e9a371f473"
      },
      "source": [
        "#It splits the string into , separated values \n",
        "train_raw.consumer_complaint_narrative.apply(lambda x:len(x.split())).plot(kind='hist')"
      ],
      "execution_count": null,
      "outputs": [
        {
          "output_type": "execute_result",
          "data": {
            "text/plain": [
              "<matplotlib.axes._subplots.AxesSubplot at 0x7fe5a91697d0>"
            ]
          },
          "metadata": {},
          "execution_count": 6
        },
        {
          "output_type": "display_data",
          "data": {
            "image/png": "[encoded data removed]",
            "text/plain": [
              "<Figure size 432x288 with 1 Axes>"
            ]
          },
          "metadata": {
            "needs_background": "light"
          }
        }
      ]
    },
    {
      "cell_type": "code",
      "metadata": {
        "id": "lvN3HgfKCXlC"
      },
      "source": [
        "train_raw['len_txt'] =train_raw.consumer_complaint_narrative.apply(lambda x: len(x.split()))"
      ],
      "execution_count": null,
      "outputs": []
    },
    {
      "cell_type": "code",
      "metadata": {
        "colab": {
          "base_uri": "https://localhost:8080/",
          "height": 297
        },
        "id": "4NHjucCRCeCS",
        "outputId": "041a72e0-df57-4cb4-f7d5-022f40cc81d1"
      },
      "source": [
        "train_raw.describe()"
      ],
      "execution_count": null,
      "outputs": [
        {
          "output_type": "execute_result",
          "data": {
            "text/html": [
              "<div>\n",
              "<style scoped>\n",
              "    .dataframe tbody tr th:only-of-type {\n",
              "        vertical-align: middle;\n",
              "    }\n",
              "\n",
              "    .dataframe tbody tr th {\n",
              "        vertical-align: top;\n",
              "    }\n",
              "\n",
              "    .dataframe thead th {\n",
              "        text-align: right;\n",
              "    }\n",
              "</style>\n",
              "<table border=\"1\" class=\"dataframe\">\n",
              "  <thead>\n",
              "    <tr style=\"text-align: right;\">\n",
              "      <th></th>\n",
              "      <th>complaint_id</th>\n",
              "      <th>len_txt</th>\n",
              "    </tr>\n",
              "  </thead>\n",
              "  <tbody>\n",
              "    <tr>\n",
              "      <th>count</th>\n",
              "      <td>6.680600e+04</td>\n",
              "      <td>66806.000000</td>\n",
              "    </tr>\n",
              "    <tr>\n",
              "      <th>mean</th>\n",
              "      <td>1.571665e+06</td>\n",
              "      <td>190.644014</td>\n",
              "    </tr>\n",
              "    <tr>\n",
              "      <th>std</th>\n",
              "      <td>1.545692e+05</td>\n",
              "      <td>166.830597</td>\n",
              "    </tr>\n",
              "    <tr>\n",
              "      <th>min</th>\n",
              "      <td>1.290181e+06</td>\n",
              "      <td>1.000000</td>\n",
              "    </tr>\n",
              "    <tr>\n",
              "      <th>25%</th>\n",
              "      <td>1.443264e+06</td>\n",
              "      <td>71.000000</td>\n",
              "    </tr>\n",
              "    <tr>\n",
              "      <th>50%</th>\n",
              "      <td>1.569485e+06</td>\n",
              "      <td>136.000000</td>\n",
              "    </tr>\n",
              "    <tr>\n",
              "      <th>75%</th>\n",
              "      <td>1.702750e+06</td>\n",
              "      <td>254.000000</td>\n",
              "    </tr>\n",
              "    <tr>\n",
              "      <th>max</th>\n",
              "      <td>1.888608e+06</td>\n",
              "      <td>1284.000000</td>\n",
              "    </tr>\n",
              "  </tbody>\n",
              "</table>\n",
              "</div>"
            ],
            "text/plain": [
              "       complaint_id       len_txt\n",
              "count  6.680600e+04  66806.000000\n",
              "mean   1.571665e+06    190.644014\n",
              "std    1.545692e+05    166.830597\n",
              "min    1.290181e+06      1.000000\n",
              "25%    1.443264e+06     71.000000\n",
              "50%    1.569485e+06    136.000000\n",
              "75%    1.702750e+06    254.000000\n",
              "max    1.888608e+06   1284.000000"
            ]
          },
          "metadata": {},
          "execution_count": 8
        }
      ]
    },
    {
      "cell_type": "code",
      "metadata": {
        "colab": {
          "base_uri": "https://localhost:8080/"
        },
        "id": "OBEkUA71PMLB",
        "outputId": "0773f31e-f2d2-434e-965a-c44f3189f47d"
      },
      "source": [
        "train_raw.columns"
      ],
      "execution_count": null,
      "outputs": [
        {
          "output_type": "execute_result",
          "data": {
            "text/plain": [
              "Index(['date_received', 'product', 'sub_product', 'issue', 'sub_issue',\n",
              "       'consumer_complaint_narrative', 'company_public_response', 'company',\n",
              "       'state', 'zipcode', 'tags', 'consumer_consent_provided',\n",
              "       'submitted_via', 'date_sent_to_company', 'company_response_to_consumer',\n",
              "       'timely_response', 'consumer_disputed?', 'complaint_id', 'len_txt'],\n",
              "      dtype='object')"
            ]
          },
          "metadata": {},
          "execution_count": 9
        }
      ]
    },
    {
      "cell_type": "code",
      "metadata": {
        "colab": {
          "base_uri": "https://localhost:8080/"
        },
        "id": "M1CTdhCLCiL6",
        "outputId": "30af6276-2a73-4eb6-c1c8-444a8d8abce9"
      },
      "source": [
        "train_raw.shape"
      ],
      "execution_count": null,
      "outputs": [
        {
          "output_type": "execute_result",
          "data": {
            "text/plain": [
              "(66806, 19)"
            ]
          },
          "metadata": {},
          "execution_count": 10
        }
      ]
    },
    {
      "cell_type": "code",
      "metadata": {
        "colab": {
          "base_uri": "https://localhost:8080/"
        },
        "id": "BrjaAw55ms5q",
        "outputId": "b8bb1021-aefc-41fb-b7d6-6f5e22969974"
      },
      "source": [
        "#Select only the rows with more than 250 words \n",
        "train_raw = train_raw[train_raw.len_txt >249]\n",
        "train_raw.shape"
      ],
      "execution_count": null,
      "outputs": [
        {
          "output_type": "execute_result",
          "data": {
            "text/plain": [
              "(17142, 19)"
            ]
          },
          "metadata": {},
          "execution_count": 11
        }
      ]
    },
    {
      "cell_type": "code",
      "metadata": {
        "colab": {
          "base_uri": "https://localhost:8080/",
          "height": 411
        },
        "id": "aADLdVkGPjYi",
        "outputId": "1c6443dc-f432-48fa-b525-d7d06abb5e57"
      },
      "source": [
        "train_raw.head()"
      ],
      "execution_count": null,
      "outputs": [
        {
          "output_type": "execute_result",
          "data": {
            "text/html": [
              "<div>\n",
              "<style scoped>\n",
              "    .dataframe tbody tr th:only-of-type {\n",
              "        vertical-align: middle;\n",
              "    }\n",
              "\n",
              "    .dataframe tbody tr th {\n",
              "        vertical-align: top;\n",
              "    }\n",
              "\n",
              "    .dataframe thead th {\n",
              "        text-align: right;\n",
              "    }\n",
              "</style>\n",
              "<table border=\"1\" class=\"dataframe\">\n",
              "  <thead>\n",
              "    <tr style=\"text-align: right;\">\n",
              "      <th></th>\n",
              "      <th>date_received</th>\n",
              "      <th>product</th>\n",
              "      <th>sub_product</th>\n",
              "      <th>issue</th>\n",
              "      <th>sub_issue</th>\n",
              "      <th>consumer_complaint_narrative</th>\n",
              "      <th>company_public_response</th>\n",
              "      <th>company</th>\n",
              "      <th>state</th>\n",
              "      <th>zipcode</th>\n",
              "      <th>tags</th>\n",
              "      <th>consumer_consent_provided</th>\n",
              "      <th>submitted_via</th>\n",
              "      <th>date_sent_to_company</th>\n",
              "      <th>company_response_to_consumer</th>\n",
              "      <th>timely_response</th>\n",
              "      <th>consumer_disputed?</th>\n",
              "      <th>complaint_id</th>\n",
              "      <th>len_txt</th>\n",
              "    </tr>\n",
              "  </thead>\n",
              "  <tbody>\n",
              "    <tr>\n",
              "      <th>190155</th>\n",
              "      <td>03/19/2015</td>\n",
              "      <td>Mortgage</td>\n",
              "      <td>Conventional fixed mortgage</td>\n",
              "      <td>Loan modification,collection,foreclosure</td>\n",
              "      <td>NaN</td>\n",
              "      <td>In XX/XX/XXXX my wages that I earned at my job...</td>\n",
              "      <td>NaN</td>\n",
              "      <td>Wells Fargo &amp; Company</td>\n",
              "      <td>CA</td>\n",
              "      <td>946XX</td>\n",
              "      <td>NaN</td>\n",
              "      <td>Consent provided</td>\n",
              "      <td>Web</td>\n",
              "      <td>03/19/2015</td>\n",
              "      <td>Closed with explanation</td>\n",
              "      <td>Yes</td>\n",
              "      <td>Yes</td>\n",
              "      <td>1290524</td>\n",
              "      <td>666</td>\n",
              "    </tr>\n",
              "    <tr>\n",
              "      <th>190208</th>\n",
              "      <td>03/19/2015</td>\n",
              "      <td>Mortgage</td>\n",
              "      <td>Conventional fixed mortgage</td>\n",
              "      <td>Credit decision / Underwriting</td>\n",
              "      <td>NaN</td>\n",
              "      <td>XXXX was submitted XX/XX/XXXX. At the time I s...</td>\n",
              "      <td>NaN</td>\n",
              "      <td>Rushmore Loan Management Services LLC</td>\n",
              "      <td>CA</td>\n",
              "      <td>956XX</td>\n",
              "      <td>Older American</td>\n",
              "      <td>Consent provided</td>\n",
              "      <td>Web</td>\n",
              "      <td>03/19/2015</td>\n",
              "      <td>Closed with explanation</td>\n",
              "      <td>Yes</td>\n",
              "      <td>Yes</td>\n",
              "      <td>1292137</td>\n",
              "      <td>259</td>\n",
              "    </tr>\n",
              "    <tr>\n",
              "      <th>190251</th>\n",
              "      <td>03/19/2015</td>\n",
              "      <td>Mortgage</td>\n",
              "      <td>Conventional fixed mortgage</td>\n",
              "      <td>Loan servicing, payments, escrow account</td>\n",
              "      <td>NaN</td>\n",
              "      <td>I spoke to XXXX of green tree representatives ...</td>\n",
              "      <td>NaN</td>\n",
              "      <td>Ditech Financial LLC</td>\n",
              "      <td>CA</td>\n",
              "      <td>948XX</td>\n",
              "      <td>NaN</td>\n",
              "      <td>Consent provided</td>\n",
              "      <td>Web</td>\n",
              "      <td>03/19/2015</td>\n",
              "      <td>Closed with non-monetary relief</td>\n",
              "      <td>Yes</td>\n",
              "      <td>No</td>\n",
              "      <td>1290534</td>\n",
              "      <td>301</td>\n",
              "    </tr>\n",
              "    <tr>\n",
              "      <th>190263</th>\n",
              "      <td>03/19/2015</td>\n",
              "      <td>Credit card</td>\n",
              "      <td>NaN</td>\n",
              "      <td>Other</td>\n",
              "      <td>NaN</td>\n",
              "      <td>i opened XXXX Bank of America credit cards 15-...</td>\n",
              "      <td>Company chooses not to provide a public response</td>\n",
              "      <td>Bank of America</td>\n",
              "      <td>OR</td>\n",
              "      <td>971XX</td>\n",
              "      <td>NaN</td>\n",
              "      <td>Consent provided</td>\n",
              "      <td>Web</td>\n",
              "      <td>03/19/2015</td>\n",
              "      <td>Closed with monetary relief</td>\n",
              "      <td>Yes</td>\n",
              "      <td>Yes</td>\n",
              "      <td>1292209</td>\n",
              "      <td>780</td>\n",
              "    </tr>\n",
              "    <tr>\n",
              "      <th>190264</th>\n",
              "      <td>03/19/2015</td>\n",
              "      <td>Consumer Loan</td>\n",
              "      <td>Vehicle loan</td>\n",
              "      <td>Taking out the loan or lease</td>\n",
              "      <td>NaN</td>\n",
              "      <td>I applied for a loan with XXXX XXXX and had pu...</td>\n",
              "      <td>NaN</td>\n",
              "      <td>Hyundai Capital America</td>\n",
              "      <td>MS</td>\n",
              "      <td>392XX</td>\n",
              "      <td>NaN</td>\n",
              "      <td>Consent provided</td>\n",
              "      <td>Web</td>\n",
              "      <td>03/19/2015</td>\n",
              "      <td>Closed with explanation</td>\n",
              "      <td>Yes</td>\n",
              "      <td>No</td>\n",
              "      <td>1292159</td>\n",
              "      <td>558</td>\n",
              "    </tr>\n",
              "  </tbody>\n",
              "</table>\n",
              "</div>"
            ],
            "text/plain": [
              "       date_received        product  ... complaint_id len_txt\n",
              "190155    03/19/2015       Mortgage  ...      1290524     666\n",
              "190208    03/19/2015       Mortgage  ...      1292137     259\n",
              "190251    03/19/2015       Mortgage  ...      1290534     301\n",
              "190263    03/19/2015    Credit card  ...      1292209     780\n",
              "190264    03/19/2015  Consumer Loan  ...      1292159     558\n",
              "\n",
              "[5 rows x 19 columns]"
            ]
          },
          "metadata": {},
          "execution_count": 12
        }
      ]
    },
    {
      "cell_type": "code",
      "metadata": {
        "colab": {
          "base_uri": "https://localhost:8080/",
          "height": 204
        },
        "id": "mJ2aeLKnmtQ1",
        "outputId": "7c93b2b3-bf2c-4e1d-c48e-1b6e259b63a5"
      },
      "source": [
        "#selecting only the consumer_complaint_narrative and product columns\n",
        "train_raw=train_raw[['consumer_complaint_narrative','product']]\n",
        "train_raw.reset_index(inplace=True, drop=True)\n",
        "train_raw.head()"
      ],
      "execution_count": null,
      "outputs": [
        {
          "output_type": "execute_result",
          "data": {
            "text/html": [
              "<div>\n",
              "<style scoped>\n",
              "    .dataframe tbody tr th:only-of-type {\n",
              "        vertical-align: middle;\n",
              "    }\n",
              "\n",
              "    .dataframe tbody tr th {\n",
              "        vertical-align: top;\n",
              "    }\n",
              "\n",
              "    .dataframe thead th {\n",
              "        text-align: right;\n",
              "    }\n",
              "</style>\n",
              "<table border=\"1\" class=\"dataframe\">\n",
              "  <thead>\n",
              "    <tr style=\"text-align: right;\">\n",
              "      <th></th>\n",
              "      <th>consumer_complaint_narrative</th>\n",
              "      <th>product</th>\n",
              "    </tr>\n",
              "  </thead>\n",
              "  <tbody>\n",
              "    <tr>\n",
              "      <th>0</th>\n",
              "      <td>In XX/XX/XXXX my wages that I earned at my job...</td>\n",
              "      <td>Mortgage</td>\n",
              "    </tr>\n",
              "    <tr>\n",
              "      <th>1</th>\n",
              "      <td>XXXX was submitted XX/XX/XXXX. At the time I s...</td>\n",
              "      <td>Mortgage</td>\n",
              "    </tr>\n",
              "    <tr>\n",
              "      <th>2</th>\n",
              "      <td>I spoke to XXXX of green tree representatives ...</td>\n",
              "      <td>Mortgage</td>\n",
              "    </tr>\n",
              "    <tr>\n",
              "      <th>3</th>\n",
              "      <td>i opened XXXX Bank of America credit cards 15-...</td>\n",
              "      <td>Credit card</td>\n",
              "    </tr>\n",
              "    <tr>\n",
              "      <th>4</th>\n",
              "      <td>I applied for a loan with XXXX XXXX and had pu...</td>\n",
              "      <td>Consumer Loan</td>\n",
              "    </tr>\n",
              "  </tbody>\n",
              "</table>\n",
              "</div>"
            ],
            "text/plain": [
              "                        consumer_complaint_narrative        product\n",
              "0  In XX/XX/XXXX my wages that I earned at my job...       Mortgage\n",
              "1  XXXX was submitted XX/XX/XXXX. At the time I s...       Mortgage\n",
              "2  I spoke to XXXX of green tree representatives ...       Mortgage\n",
              "3  i opened XXXX Bank of America credit cards 15-...    Credit card\n",
              "4  I applied for a loan with XXXX XXXX and had pu...  Consumer Loan"
            ]
          },
          "metadata": {},
          "execution_count": 13
        }
      ]
    },
    {
      "cell_type": "code",
      "metadata": {
        "colab": {
          "base_uri": "https://localhost:8080/"
        },
        "id": "Jsevf5_fmtTv",
        "outputId": "8dea52f3-005a-44e3-9daf-094780e6fe8f"
      },
      "source": [
        "train_raw['product'].unique()"
      ],
      "execution_count": null,
      "outputs": [
        {
          "output_type": "execute_result",
          "data": {
            "text/plain": [
              "array(['Mortgage', 'Credit card', 'Consumer Loan', 'Debt collection',\n",
              "       'Credit reporting', 'Student loan', 'Bank account or service',\n",
              "       'Money transfers', 'Payday loan', 'Prepaid card',\n",
              "       'Other financial service'], dtype=object)"
            ]
          },
          "metadata": {},
          "execution_count": 14
        }
      ]
    },
    {
      "cell_type": "code",
      "metadata": {
        "colab": {
          "base_uri": "https://localhost:8080/",
          "height": 204
        },
        "id": "jm4c126BmtW7",
        "outputId": "66f40827-0d7d-48f0-f61f-bae77c11034e"
      },
      "source": [
        "#group similar products  dataframe.at = accessing a value using row column pair \n",
        "train_raw.at[train_raw['product']=='Credit reporting','product']= 'Credit reporting, credit repair services, or other personal consumer reports'\n",
        "train_raw.at[train_raw['product'] == 'Credit card', 'product'] = 'Credit card or prepaid card'\n",
        "train_raw.at[train_raw['product'] == 'Prepaid card', 'product'] = 'Credit card or prepaid card'\n",
        "train_raw.at[train_raw['product'] == 'Payday loan', 'product'] = 'Payday loan, title loan, or personal loan'\n",
        "train_raw.at[train_raw['product'] == 'Virtual currency', 'product'] = 'Money transfer, virtual currency, or money service'\n",
        "train_raw.head()"
      ],
      "execution_count": null,
      "outputs": [
        {
          "output_type": "execute_result",
          "data": {
            "text/html": [
              "<div>\n",
              "<style scoped>\n",
              "    .dataframe tbody tr th:only-of-type {\n",
              "        vertical-align: middle;\n",
              "    }\n",
              "\n",
              "    .dataframe tbody tr th {\n",
              "        vertical-align: top;\n",
              "    }\n",
              "\n",
              "    .dataframe thead th {\n",
              "        text-align: right;\n",
              "    }\n",
              "</style>\n",
              "<table border=\"1\" class=\"dataframe\">\n",
              "  <thead>\n",
              "    <tr style=\"text-align: right;\">\n",
              "      <th></th>\n",
              "      <th>consumer_complaint_narrative</th>\n",
              "      <th>product</th>\n",
              "    </tr>\n",
              "  </thead>\n",
              "  <tbody>\n",
              "    <tr>\n",
              "      <th>0</th>\n",
              "      <td>In XX/XX/XXXX my wages that I earned at my job...</td>\n",
              "      <td>Mortgage</td>\n",
              "    </tr>\n",
              "    <tr>\n",
              "      <th>1</th>\n",
              "      <td>XXXX was submitted XX/XX/XXXX. At the time I s...</td>\n",
              "      <td>Mortgage</td>\n",
              "    </tr>\n",
              "    <tr>\n",
              "      <th>2</th>\n",
              "      <td>I spoke to XXXX of green tree representatives ...</td>\n",
              "      <td>Mortgage</td>\n",
              "    </tr>\n",
              "    <tr>\n",
              "      <th>3</th>\n",
              "      <td>i opened XXXX Bank of America credit cards 15-...</td>\n",
              "      <td>Credit card or prepaid card</td>\n",
              "    </tr>\n",
              "    <tr>\n",
              "      <th>4</th>\n",
              "      <td>I applied for a loan with XXXX XXXX and had pu...</td>\n",
              "      <td>Consumer Loan</td>\n",
              "    </tr>\n",
              "  </tbody>\n",
              "</table>\n",
              "</div>"
            ],
            "text/plain": [
              "                        consumer_complaint_narrative                      product\n",
              "0  In XX/XX/XXXX my wages that I earned at my job...                     Mortgage\n",
              "1  XXXX was submitted XX/XX/XXXX. At the time I s...                     Mortgage\n",
              "2  I spoke to XXXX of green tree representatives ...                     Mortgage\n",
              "3  i opened XXXX Bank of America credit cards 15-...  Credit card or prepaid card\n",
              "4  I applied for a loan with XXXX XXXX and had pu...                Consumer Loan"
            ]
          },
          "metadata": {},
          "execution_count": 15
        }
      ]
    },
    {
      "cell_type": "code",
      "metadata": {
        "colab": {
          "base_uri": "https://localhost:8080/"
        },
        "id": "OZdxoRt5mtaH",
        "outputId": "38a7ed86-6a84-437f-fba6-aab23be1a41c"
      },
      "source": [
        "train_raw['product'].unique()"
      ],
      "execution_count": null,
      "outputs": [
        {
          "output_type": "execute_result",
          "data": {
            "text/plain": [
              "array(['Mortgage', 'Credit card or prepaid card', 'Consumer Loan',\n",
              "       'Debt collection',\n",
              "       'Credit reporting, credit repair services, or other personal consumer reports',\n",
              "       'Student loan', 'Bank account or service', 'Money transfers',\n",
              "       'Payday loan, title loan, or personal loan',\n",
              "       'Other financial service'], dtype=object)"
            ]
          },
          "metadata": {},
          "execution_count": 16
        }
      ]
    },
    {
      "cell_type": "code",
      "metadata": {
        "colab": {
          "base_uri": "https://localhost:8080/",
          "height": 646
        },
        "id": "znSJSyJuqCDk",
        "outputId": "15ff6d28-dbe2-4ca9-dea6-ba63fa6e108b"
      },
      "source": [
        "train_raw['product'].value_counts().sort_values(ascending=False).plot(kind='bar')\n",
        "#unbalanced dataset "
      ],
      "execution_count": null,
      "outputs": [
        {
          "output_type": "execute_result",
          "data": {
            "text/plain": [
              "<matplotlib.axes._subplots.AxesSubplot at 0x7fe5a7980e90>"
            ]
          },
          "metadata": {},
          "execution_count": 17
        },
        {
          "output_type": "display_data",
          "data": {
            "image/png": "[encoded data removed]",
            "text/plain": [
              "<Figure size 432x288 with 1 Axes>"
            ]
          },
          "metadata": {
            "needs_background": "light"
          }
        }
      ]
    },
    {
      "cell_type": "code",
      "metadata": {
        "colab": {
          "base_uri": "https://localhost:8080/",
          "height": 204
        },
        "id": "K1E6q3i6qMPw",
        "outputId": "95080e1e-1678-4ee0-ace1-1b799c6325a5"
      },
      "source": [
        "#Renaming the columns \n",
        "train_raw=train_raw.rename(columns = {'consumer_complaint_narrative':'text', 'product':'label'})\n",
        "train_raw.head()"
      ],
      "execution_count": null,
      "outputs": [
        {
          "output_type": "execute_result",
          "data": {
            "text/html": [
              "<div>\n",
              "<style scoped>\n",
              "    .dataframe tbody tr th:only-of-type {\n",
              "        vertical-align: middle;\n",
              "    }\n",
              "\n",
              "    .dataframe tbody tr th {\n",
              "        vertical-align: top;\n",
              "    }\n",
              "\n",
              "    .dataframe thead th {\n",
              "        text-align: right;\n",
              "    }\n",
              "</style>\n",
              "<table border=\"1\" class=\"dataframe\">\n",
              "  <thead>\n",
              "    <tr style=\"text-align: right;\">\n",
              "      <th></th>\n",
              "      <th>text</th>\n",
              "      <th>label</th>\n",
              "    </tr>\n",
              "  </thead>\n",
              "  <tbody>\n",
              "    <tr>\n",
              "      <th>0</th>\n",
              "      <td>In XX/XX/XXXX my wages that I earned at my job...</td>\n",
              "      <td>Mortgage</td>\n",
              "    </tr>\n",
              "    <tr>\n",
              "      <th>1</th>\n",
              "      <td>XXXX was submitted XX/XX/XXXX. At the time I s...</td>\n",
              "      <td>Mortgage</td>\n",
              "    </tr>\n",
              "    <tr>\n",
              "      <th>2</th>\n",
              "      <td>I spoke to XXXX of green tree representatives ...</td>\n",
              "      <td>Mortgage</td>\n",
              "    </tr>\n",
              "    <tr>\n",
              "      <th>3</th>\n",
              "      <td>i opened XXXX Bank of America credit cards 15-...</td>\n",
              "      <td>Credit card or prepaid card</td>\n",
              "    </tr>\n",
              "    <tr>\n",
              "      <th>4</th>\n",
              "      <td>I applied for a loan with XXXX XXXX and had pu...</td>\n",
              "      <td>Consumer Loan</td>\n",
              "    </tr>\n",
              "  </tbody>\n",
              "</table>\n",
              "</div>"
            ],
            "text/plain": [
              "                                                text                        label\n",
              "0  In XX/XX/XXXX my wages that I earned at my job...                     Mortgage\n",
              "1  XXXX was submitted XX/XX/XXXX. At the time I s...                     Mortgage\n",
              "2  I spoke to XXXX of green tree representatives ...                     Mortgage\n",
              "3  i opened XXXX Bank of America credit cards 15-...  Credit card or prepaid card\n",
              "4  I applied for a loan with XXXX XXXX and had pu...                Consumer Loan"
            ]
          },
          "metadata": {},
          "execution_count": 18
        }
      ]
    },
    {
      "cell_type": "code",
      "metadata": {
        "colab": {
          "base_uri": "https://localhost:8080/",
          "height": 204
        },
        "id": "ffaa3mq3qZu5",
        "outputId": "f055d530-3d8e-40b5-d0de-59d0dd22a241"
      },
      "source": [
        "#changing the categorical value column to integers\n",
        "\n",
        "from sklearn.preprocessing import LabelEncoder\n",
        "\n",
        "LE = LabelEncoder()\n",
        "train_raw['label'] = LE.fit_transform(train_raw['label'])\n",
        "train_raw.head()"
      ],
      "execution_count": null,
      "outputs": [
        {
          "output_type": "execute_result",
          "data": {
            "text/html": [
              "<div>\n",
              "<style scoped>\n",
              "    .dataframe tbody tr th:only-of-type {\n",
              "        vertical-align: middle;\n",
              "    }\n",
              "\n",
              "    .dataframe tbody tr th {\n",
              "        vertical-align: top;\n",
              "    }\n",
              "\n",
              "    .dataframe thead th {\n",
              "        text-align: right;\n",
              "    }\n",
              "</style>\n",
              "<table border=\"1\" class=\"dataframe\">\n",
              "  <thead>\n",
              "    <tr style=\"text-align: right;\">\n",
              "      <th></th>\n",
              "      <th>text</th>\n",
              "      <th>label</th>\n",
              "    </tr>\n",
              "  </thead>\n",
              "  <tbody>\n",
              "    <tr>\n",
              "      <th>0</th>\n",
              "      <td>In XX/XX/XXXX my wages that I earned at my job...</td>\n",
              "      <td>6</td>\n",
              "    </tr>\n",
              "    <tr>\n",
              "      <th>1</th>\n",
              "      <td>XXXX was submitted XX/XX/XXXX. At the time I s...</td>\n",
              "      <td>6</td>\n",
              "    </tr>\n",
              "    <tr>\n",
              "      <th>2</th>\n",
              "      <td>I spoke to XXXX of green tree representatives ...</td>\n",
              "      <td>6</td>\n",
              "    </tr>\n",
              "    <tr>\n",
              "      <th>3</th>\n",
              "      <td>i opened XXXX Bank of America credit cards 15-...</td>\n",
              "      <td>2</td>\n",
              "    </tr>\n",
              "    <tr>\n",
              "      <th>4</th>\n",
              "      <td>I applied for a loan with XXXX XXXX and had pu...</td>\n",
              "      <td>1</td>\n",
              "    </tr>\n",
              "  </tbody>\n",
              "</table>\n",
              "</div>"
            ],
            "text/plain": [
              "                                                text  label\n",
              "0  In XX/XX/XXXX my wages that I earned at my job...      6\n",
              "1  XXXX was submitted XX/XX/XXXX. At the time I s...      6\n",
              "2  I spoke to XXXX of green tree representatives ...      6\n",
              "3  i opened XXXX Bank of America credit cards 15-...      2\n",
              "4  I applied for a loan with XXXX XXXX and had pu...      1"
            ]
          },
          "metadata": {},
          "execution_count": 19
        }
      ]
    },
    {
      "cell_type": "code",
      "metadata": {
        "colab": {
          "base_uri": "https://localhost:8080/"
        },
        "id": "tHif9iOMq4Tc",
        "outputId": "79d624b4-c361-4834-a6e5-066baa045a51"
      },
      "source": [
        "len(np.unique(train_raw['label']))"
      ],
      "execution_count": null,
      "outputs": [
        {
          "output_type": "execute_result",
          "data": {
            "text/plain": [
              "10"
            ]
          },
          "metadata": {},
          "execution_count": 20
        }
      ]
    },
    {
      "cell_type": "code",
      "metadata": {
        "id": "ygzKXiBkq7Qq"
      },
      "source": [
        "#creating the copy of the dataframe\n",
        "#dataframe.copy(deep=True)  ==> This will create a copy and any changes to the copy will not be reflected in the original df\n",
        "train = train_raw.copy()"
      ],
      "execution_count": null,
      "outputs": []
    },
    {
      "cell_type": "code",
      "metadata": {
        "colab": {
          "base_uri": "https://localhost:8080/",
          "height": 204
        },
        "id": "uLDeNP3mrhby",
        "outputId": "90ad6890-a0d6-49e9-a63b-b9aa4d6dfb8e"
      },
      "source": [
        "#reindexing to create randomness \n",
        "train = train.reindex(np.random.permutation(train.index))\n",
        "train.head()"
      ],
      "execution_count": null,
      "outputs": [
        {
          "output_type": "execute_result",
          "data": {
            "text/html": [
              "<div>\n",
              "<style scoped>\n",
              "    .dataframe tbody tr th:only-of-type {\n",
              "        vertical-align: middle;\n",
              "    }\n",
              "\n",
              "    .dataframe tbody tr th {\n",
              "        vertical-align: top;\n",
              "    }\n",
              "\n",
              "    .dataframe thead th {\n",
              "        text-align: right;\n",
              "    }\n",
              "</style>\n",
              "<table border=\"1\" class=\"dataframe\">\n",
              "  <thead>\n",
              "    <tr style=\"text-align: right;\">\n",
              "      <th></th>\n",
              "      <th>text</th>\n",
              "      <th>label</th>\n",
              "    </tr>\n",
              "  </thead>\n",
              "  <tbody>\n",
              "    <tr>\n",
              "      <th>8539</th>\n",
              "      <td>Two years ago I made a Trust Deed Investment t...</td>\n",
              "      <td>6</td>\n",
              "    </tr>\n",
              "    <tr>\n",
              "      <th>3721</th>\n",
              "      <td>I was advised by XXXX employees ( XXXX males )...</td>\n",
              "      <td>1</td>\n",
              "    </tr>\n",
              "    <tr>\n",
              "      <th>12550</th>\n",
              "      <td>I am receiving threatening phone calls from a ...</td>\n",
              "      <td>8</td>\n",
              "    </tr>\n",
              "    <tr>\n",
              "      <th>16904</th>\n",
              "      <td>We have XXXX auto loans with Ally fin. XXXX is...</td>\n",
              "      <td>1</td>\n",
              "    </tr>\n",
              "    <tr>\n",
              "      <th>1575</th>\n",
              "      <td>For the past year, or more, scince changing ph...</td>\n",
              "      <td>4</td>\n",
              "    </tr>\n",
              "  </tbody>\n",
              "</table>\n",
              "</div>"
            ],
            "text/plain": [
              "                                                    text  label\n",
              "8539   Two years ago I made a Trust Deed Investment t...      6\n",
              "3721   I was advised by XXXX employees ( XXXX males )...      1\n",
              "12550  I am receiving threatening phone calls from a ...      8\n",
              "16904  We have XXXX auto loans with Ally fin. XXXX is...      1\n",
              "1575   For the past year, or more, scince changing ph...      4"
            ]
          },
          "metadata": {},
          "execution_count": 22
        }
      ]
    },
    {
      "cell_type": "code",
      "metadata": {
        "id": "fLH4GcrFrqF5"
      },
      "source": [
        "#remove the non-alphanumeric characters from the text \n",
        "import re \n",
        "def clean_txt(text):\n",
        "  text = re.sub(\"'\", \"\",text)\n",
        "  text=re.sub(\"(\\\\W)+\",\" \",text)     #() -- to match the sequence inside it , \\-- to escape the special characters , \n",
        "                                     #\\W -- get all the nonalphanumeric characters, + --all the instances \n",
        "\n",
        "  return text"
      ],
      "execution_count": null,
      "outputs": []
    },
    {
      "cell_type": "code",
      "metadata": {
        "colab": {
          "base_uri": "https://localhost:8080/",
          "height": 204
        },
        "id": "4Vbl1bJHuRZO",
        "outputId": "9cf70f75-fcea-491c-921f-d406a6f1b346"
      },
      "source": [
        "train['text']  = train.text.apply(clean_txt)\n",
        "train.head()"
      ],
      "execution_count": null,
      "outputs": [
        {
          "output_type": "execute_result",
          "data": {
            "text/html": [
              "<div>\n",
              "<style scoped>\n",
              "    .dataframe tbody tr th:only-of-type {\n",
              "        vertical-align: middle;\n",
              "    }\n",
              "\n",
              "    .dataframe tbody tr th {\n",
              "        vertical-align: top;\n",
              "    }\n",
              "\n",
              "    .dataframe thead th {\n",
              "        text-align: right;\n",
              "    }\n",
              "</style>\n",
              "<table border=\"1\" class=\"dataframe\">\n",
              "  <thead>\n",
              "    <tr style=\"text-align: right;\">\n",
              "      <th></th>\n",
              "      <th>text</th>\n",
              "      <th>label</th>\n",
              "    </tr>\n",
              "  </thead>\n",
              "  <tbody>\n",
              "    <tr>\n",
              "      <th>8539</th>\n",
              "      <td>Two years ago I made a Trust Deed Investment t...</td>\n",
              "      <td>6</td>\n",
              "    </tr>\n",
              "    <tr>\n",
              "      <th>3721</th>\n",
              "      <td>I was advised by XXXX employees XXXX males tha...</td>\n",
              "      <td>1</td>\n",
              "    </tr>\n",
              "    <tr>\n",
              "      <th>12550</th>\n",
              "      <td>I am receiving threatening phone calls from a ...</td>\n",
              "      <td>8</td>\n",
              "    </tr>\n",
              "    <tr>\n",
              "      <th>16904</th>\n",
              "      <td>We have XXXX auto loans with Ally fin XXXX is ...</td>\n",
              "      <td>1</td>\n",
              "    </tr>\n",
              "    <tr>\n",
              "      <th>1575</th>\n",
              "      <td>For the past year or more scince changing phon...</td>\n",
              "      <td>4</td>\n",
              "    </tr>\n",
              "  </tbody>\n",
              "</table>\n",
              "</div>"
            ],
            "text/plain": [
              "                                                    text  label\n",
              "8539   Two years ago I made a Trust Deed Investment t...      6\n",
              "3721   I was advised by XXXX employees XXXX males tha...      1\n",
              "12550  I am receiving threatening phone calls from a ...      8\n",
              "16904  We have XXXX auto loans with Ally fin XXXX is ...      1\n",
              "1575   For the past year or more scince changing phon...      4"
            ]
          },
          "metadata": {},
          "execution_count": 24
        }
      ]
    },
    {
      "cell_type": "code",
      "metadata": {
        "colab": {
          "base_uri": "https://localhost:8080/",
          "height": 111
        },
        "id": "70JSI0FzuhvN",
        "outputId": "3eab2d41-2641-4063-f26a-c70052b6f534"
      },
      "source": [
        "train.reset_index(drop=True, inplace=True)\n",
        "train.head(2)"
      ],
      "execution_count": null,
      "outputs": [
        {
          "output_type": "execute_result",
          "data": {
            "text/html": [
              "<div>\n",
              "<style scoped>\n",
              "    .dataframe tbody tr th:only-of-type {\n",
              "        vertical-align: middle;\n",
              "    }\n",
              "\n",
              "    .dataframe tbody tr th {\n",
              "        vertical-align: top;\n",
              "    }\n",
              "\n",
              "    .dataframe thead th {\n",
              "        text-align: right;\n",
              "    }\n",
              "</style>\n",
              "<table border=\"1\" class=\"dataframe\">\n",
              "  <thead>\n",
              "    <tr style=\"text-align: right;\">\n",
              "      <th></th>\n",
              "      <th>text</th>\n",
              "      <th>label</th>\n",
              "    </tr>\n",
              "  </thead>\n",
              "  <tbody>\n",
              "    <tr>\n",
              "      <th>0</th>\n",
              "      <td>Two years ago I made a Trust Deed Investment t...</td>\n",
              "      <td>6</td>\n",
              "    </tr>\n",
              "    <tr>\n",
              "      <th>1</th>\n",
              "      <td>I was advised by XXXX employees XXXX males tha...</td>\n",
              "      <td>1</td>\n",
              "    </tr>\n",
              "  </tbody>\n",
              "</table>\n",
              "</div>"
            ],
            "text/plain": [
              "                                                text  label\n",
              "0  Two years ago I made a Trust Deed Investment t...      6\n",
              "1  I was advised by XXXX employees XXXX males tha...      1"
            ]
          },
          "metadata": {},
          "execution_count": 25
        }
      ]
    },
    {
      "cell_type": "code",
      "metadata": {
        "colab": {
          "base_uri": "https://localhost:8080/"
        },
        "id": "sPFrymvmUxrC",
        "outputId": "71476f00-2312-4420-a34e-329337272d8f"
      },
      "source": [
        "train.shape"
      ],
      "execution_count": null,
      "outputs": [
        {
          "output_type": "execute_result",
          "data": {
            "text/plain": [
              "(17142, 2)"
            ]
          },
          "metadata": {},
          "execution_count": 26
        }
      ]
    },
    {
      "cell_type": "code",
      "metadata": {
        "id": "vzNmHwVkuijj"
      },
      "source": [
        "# val.reset_index(drop=True, inplace=True)\n",
        "# val.head(2)"
      ],
      "execution_count": null,
      "outputs": []
    },
    {
      "cell_type": "code",
      "metadata": {
        "id": "A_sCe_oevuy1"
      },
      "source": [
        "# val.shape, train.shape"
      ],
      "execution_count": null,
      "outputs": []
    },
    {
      "cell_type": "code",
      "metadata": {
        "colab": {
          "base_uri": "https://localhost:8080/"
        },
        "id": "TOJO40hlz7Xp",
        "outputId": "89a0b875-0ab3-4ed8-f41b-8dfde9303f19"
      },
      "source": [
        "!pip install tensorflow==2.5.0"
      ],
      "execution_count": null,
      "outputs": [
        {
          "output_type": "stream",
          "name": "stdout",
          "text": [
            "Requirement already satisfied: tensorflow==2.5.0 in /usr/local/lib/python3.7/dist-packages (2.5.0)\n",
            "Requirement already satisfied: termcolor~=1.1.0 in /usr/local/lib/python3.7/dist-packages (from tensorflow==2.5.0) (1.1.0)\n",
            "Requirement already satisfied: gast==0.4.0 in /usr/local/lib/python3.7/dist-packages (from tensorflow==2.5.0) (0.4.0)\n",
            "Requirement already satisfied: typing-extensions~=3.7.4 in /usr/local/lib/python3.7/dist-packages (from tensorflow==2.5.0) (3.7.4.3)\n",
            "Requirement already satisfied: h5py~=3.1.0 in /usr/local/lib/python3.7/dist-packages (from tensorflow==2.5.0) (3.1.0)\n",
            "Requirement already satisfied: wheel~=0.35 in /usr/local/lib/python3.7/dist-packages (from tensorflow==2.5.0) (0.37.0)\n",
            "Requirement already satisfied: keras-preprocessing~=1.1.2 in /usr/local/lib/python3.7/dist-packages (from tensorflow==2.5.0) (1.1.2)\n",
            "Requirement already satisfied: absl-py~=0.10 in /usr/local/lib/python3.7/dist-packages (from tensorflow==2.5.0) (0.12.0)\n",
            "Requirement already satisfied: six~=1.15.0 in /usr/local/lib/python3.7/dist-packages (from tensorflow==2.5.0) (1.15.0)\n",
            "Requirement already satisfied: protobuf>=3.9.2 in /usr/local/lib/python3.7/dist-packages (from tensorflow==2.5.0) (3.17.3)\n",
            "Requirement already satisfied: tensorflow-estimator<2.6.0,>=2.5.0rc0 in /usr/local/lib/python3.7/dist-packages (from tensorflow==2.5.0) (2.5.0)\n",
            "Requirement already satisfied: opt-einsum~=3.3.0 in /usr/local/lib/python3.7/dist-packages (from tensorflow==2.5.0) (3.3.0)\n",
            "Requirement already satisfied: flatbuffers~=1.12.0 in /usr/local/lib/python3.7/dist-packages (from tensorflow==2.5.0) (1.12)\n",
            "Requirement already satisfied: grpcio~=1.34.0 in /usr/local/lib/python3.7/dist-packages (from tensorflow==2.5.0) (1.34.1)\n",
            "Requirement already satisfied: numpy~=1.19.2 in /usr/local/lib/python3.7/dist-packages (from tensorflow==2.5.0) (1.19.5)\n",
            "Requirement already satisfied: astunparse~=1.6.3 in /usr/local/lib/python3.7/dist-packages (from tensorflow==2.5.0) (1.6.3)\n",
            "Requirement already satisfied: wrapt~=1.12.1 in /usr/local/lib/python3.7/dist-packages (from tensorflow==2.5.0) (1.12.1)\n",
            "Requirement already satisfied: google-pasta~=0.2 in /usr/local/lib/python3.7/dist-packages (from tensorflow==2.5.0) (0.2.0)\n",
            "Requirement already satisfied: keras-nightly~=2.5.0.dev in /usr/local/lib/python3.7/dist-packages (from tensorflow==2.5.0) (2.5.0.dev2021032900)\n",
            "Requirement already satisfied: tensorboard~=2.5 in /usr/local/lib/python3.7/dist-packages (from tensorflow==2.5.0) (2.6.0)\n",
            "Requirement already satisfied: cached-property in /usr/local/lib/python3.7/dist-packages (from h5py~=3.1.0->tensorflow==2.5.0) (1.5.2)\n",
            "Requirement already satisfied: werkzeug>=0.11.15 in /usr/local/lib/python3.7/dist-packages (from tensorboard~=2.5->tensorflow==2.5.0) (1.0.1)\n",
            "Requirement already satisfied: setuptools>=41.0.0 in /usr/local/lib/python3.7/dist-packages (from tensorboard~=2.5->tensorflow==2.5.0) (57.4.0)\n",
            "Requirement already satisfied: tensorboard-data-server<0.7.0,>=0.6.0 in /usr/local/lib/python3.7/dist-packages (from tensorboard~=2.5->tensorflow==2.5.0) (0.6.1)\n",
            "Requirement already satisfied: google-auth<2,>=1.6.3 in /usr/local/lib/python3.7/dist-packages (from tensorboard~=2.5->tensorflow==2.5.0) (1.35.0)\n",
            "Requirement already satisfied: google-auth-oauthlib<0.5,>=0.4.1 in /usr/local/lib/python3.7/dist-packages (from tensorboard~=2.5->tensorflow==2.5.0) (0.4.6)\n",
            "Requirement already satisfied: requests<3,>=2.21.0 in /usr/local/lib/python3.7/dist-packages (from tensorboard~=2.5->tensorflow==2.5.0) (2.23.0)\n",
            "Requirement already satisfied: tensorboard-plugin-wit>=1.6.0 in /usr/local/lib/python3.7/dist-packages (from tensorboard~=2.5->tensorflow==2.5.0) (1.8.0)\n",
            "Requirement already satisfied: markdown>=2.6.8 in /usr/local/lib/python3.7/dist-packages (from tensorboard~=2.5->tensorflow==2.5.0) (3.3.4)\n",
            "Requirement already satisfied: cachetools<5.0,>=2.0.0 in /usr/local/lib/python3.7/dist-packages (from google-auth<2,>=1.6.3->tensorboard~=2.5->tensorflow==2.5.0) (4.2.4)\n",
            "Requirement already satisfied: rsa<5,>=3.1.4 in /usr/local/lib/python3.7/dist-packages (from google-auth<2,>=1.6.3->tensorboard~=2.5->tensorflow==2.5.0) (4.7.2)\n",
            "Requirement already satisfied: pyasn1-modules>=0.2.1 in /usr/local/lib/python3.7/dist-packages (from google-auth<2,>=1.6.3->tensorboard~=2.5->tensorflow==2.5.0) (0.2.8)\n",
            "Requirement already satisfied: requests-oauthlib>=0.7.0 in /usr/local/lib/python3.7/dist-packages (from google-auth-oauthlib<0.5,>=0.4.1->tensorboard~=2.5->tensorflow==2.5.0) (1.3.0)\n",
            "Requirement already satisfied: importlib-metadata in /usr/local/lib/python3.7/dist-packages (from markdown>=2.6.8->tensorboard~=2.5->tensorflow==2.5.0) (4.8.1)\n",
            "Requirement already satisfied: pyasn1<0.5.0,>=0.4.6 in /usr/local/lib/python3.7/dist-packages (from pyasn1-modules>=0.2.1->google-auth<2,>=1.6.3->tensorboard~=2.5->tensorflow==2.5.0) (0.4.8)\n",
            "Requirement already satisfied: urllib3!=1.25.0,!=1.25.1,<1.26,>=1.21.1 in /usr/local/lib/python3.7/dist-packages (from requests<3,>=2.21.0->tensorboard~=2.5->tensorflow==2.5.0) (1.24.3)\n",
            "Requirement already satisfied: certifi>=2017.4.17 in /usr/local/lib/python3.7/dist-packages (from requests<3,>=2.21.0->tensorboard~=2.5->tensorflow==2.5.0) (2021.5.30)\n",
            "Requirement already satisfied: idna<3,>=2.5 in /usr/local/lib/python3.7/dist-packages (from requests<3,>=2.21.0->tensorboard~=2.5->tensorflow==2.5.0) (2.10)\n",
            "Requirement already satisfied: chardet<4,>=3.0.2 in /usr/local/lib/python3.7/dist-packages (from requests<3,>=2.21.0->tensorboard~=2.5->tensorflow==2.5.0) (3.0.4)\n",
            "Requirement already satisfied: oauthlib>=3.0.0 in /usr/local/lib/python3.7/dist-packages (from requests-oauthlib>=0.7.0->google-auth-oauthlib<0.5,>=0.4.1->tensorboard~=2.5->tensorflow==2.5.0) (3.1.1)\n",
            "Requirement already satisfied: zipp>=0.5 in /usr/local/lib/python3.7/dist-packages (from importlib-metadata->markdown>=2.6.8->tensorboard~=2.5->tensorflow==2.5.0) (3.6.0)\n"
          ]
        }
      ]
    },
    {
      "cell_type": "code",
      "metadata": {
        "colab": {
          "base_uri": "https://localhost:8080/"
        },
        "id": "5EVcradUvyW5",
        "outputId": "85f1aa74-f8f4-498a-ffab-3d7cf64bf5d6"
      },
      "source": [
        "#Installing the BERT module\n",
        "!pip install bert-tensorflow\n",
        "#!pip install bert-for-tf2\n",
        "\n",
        "import bert\n",
        "from bert import optimization\n",
        "\n",
        "!pip install -q tf-models-official==2.4.0\n",
        "\n",
        "import os\n",
        "\n",
        "import numpy as np\n",
        "import matplotlib.pyplot as plt\n",
        "\n",
        "import tensorflow as tf\n",
        "\n",
        "import tensorflow_hub as hub\n",
        "import tensorflow_datasets as tfds\n",
        "tfds.disable_progress_bar()"
      ],
      "execution_count": null,
      "outputs": [
        {
          "output_type": "stream",
          "name": "stdout",
          "text": [
            "Requirement already satisfied: bert-tensorflow in /usr/local/lib/python3.7/dist-packages (1.0.4)\n",
            "Requirement already satisfied: six in /usr/local/lib/python3.7/dist-packages (from bert-tensorflow) (1.15.0)\n"
          ]
        }
      ]
    },
    {
      "cell_type": "code",
      "metadata": {
        "colab": {
          "base_uri": "https://localhost:8080/"
        },
        "id": "2IxzeWXGz_YE",
        "outputId": "e9685714-5732-4c1e-c2c2-349d203f5cf3"
      },
      "source": [
        "print(tf.__version__)"
      ],
      "execution_count": null,
      "outputs": [
        {
          "output_type": "stream",
          "name": "stdout",
          "text": [
            "2.5.0\n"
          ]
        }
      ]
    },
    {
      "cell_type": "markdown",
      "metadata": {
        "id": "IaasMDd0Pn3P"
      },
      "source": [
        "\n",
        "# Setting The Output Directory for BERT\n",
        "\n"
      ]
    },
    {
      "cell_type": "code",
      "metadata": {
        "colab": {
          "base_uri": "https://localhost:8080/"
        },
        "id": "2XEgt457yd_0",
        "outputId": "11ab197e-8feb-4ffd-8845-2afad0732e69"
      },
      "source": [
        "#Setting the output directory for BERT \n",
        "# Set the output directory for saving model file\n",
        "OUTPUT_DIR = '/content/drive/MyDrive/ModelCheckPointsCC'\n",
        "\n",
        "#@markdown Whether or not to clear/delete the directory and create a new one\n",
        "DO_DELETE = True #@param {type:\"boolean\"}\n",
        "\n",
        "if DO_DELETE:\n",
        "  try:\n",
        "    tf.io.gfile.DeleteRecursively(OUTPUT_DIR)#deletes everything under the directory recursively\n",
        "  except:\n",
        "    pass\n",
        "\n",
        "tf.io.gfile.makedirs(OUTPUT_DIR) #Creates a directory and all parent/intermediate directories.\n",
        "print('***** Model output directory: {} *****'.format(OUTPUT_DIR))"
      ],
      "execution_count": null,
      "outputs": [
        {
          "output_type": "stream",
          "name": "stdout",
          "text": [
            "***** Model output directory: /content/drive/MyDrive/MS_Final_Project/Model_checkpoints_CC *****\n"
          ]
        }
      ]
    },
    {
      "cell_type": "code",
      "metadata": {
        "colab": {
          "base_uri": "https://localhost:8080/"
        },
        "id": "OP59yHEBy7Pk",
        "outputId": "af964f88-7da5-4d0f-e6e4-f5b65b362253"
      },
      "source": [
        "print(\"Training Set Shape :\", train.shape)\n",
        "#print(\"Validation Set Shape :\", val.shape)\n",
        "# print(\"Test Set Shape :\", test.shape)"
      ],
      "execution_count": null,
      "outputs": [
        {
          "output_type": "stream",
          "name": "stdout",
          "text": [
            "Training Set Shape : (17142, 2)\n"
          ]
        }
      ]
    },
    {
      "cell_type": "code",
      "metadata": {
        "colab": {
          "base_uri": "https://localhost:8080/"
        },
        "id": "CRmICBn0y7Sj",
        "outputId": "226763cf-0b3d-494c-ddb6-9a2e6f8010af"
      },
      "source": [
        "DATA_COLUMN = 'text'\n",
        "LABEL_COLUMN = 'label'\n",
        "# The list containing all the classes (train['SECTION'].unique())\n",
        "label_list = [x for x in np.unique(train.label)]\n",
        "label_list"
      ],
      "execution_count": null,
      "outputs": [
        {
          "output_type": "execute_result",
          "data": {
            "text/plain": [
              "[0, 1, 2, 3, 4, 5, 6, 7, 8, 9]"
            ]
          },
          "metadata": {},
          "execution_count": 34
        }
      ]
    },
    {
      "cell_type": "markdown",
      "metadata": {
        "id": "CePX9HTsQvZj"
      },
      "source": [
        "# Splitting the Data into smaller chunks"
      ]
    },
    {
      "cell_type": "code",
      "metadata": {
        "id": "iNg5-wtmy7Vw"
      },
      "source": [
        "#Splitting the data into smaller chunks \n",
        "def get_split(text1):\n",
        "  l_total = []\n",
        "  l_parcial = []\n",
        "  if len(text1.split())//150 >0:\n",
        "    n = len(text1.split())//150\n",
        "  else: \n",
        "    n = 1\n",
        "  for w in range(n):\n",
        "    if w == 0:\n",
        "      l_parcial = text1.split()[:200]\n",
        "      l_total.append(\" \".join(l_parcial))\n",
        "    else:\n",
        "      l_parcial = text1.split()[w*150:w*150 + 200] #overlapping 50 words in every chunks \n",
        "      l_total.append(\" \".join(l_parcial))\n",
        "  return l_total"
      ],
      "execution_count": null,
      "outputs": []
    },
    {
      "cell_type": "code",
      "metadata": {
        "id": "94x90BiKomPv"
      },
      "source": [
        "def get_split_count(text1):\n",
        "  if len(text1.split())//150 >0:\n",
        "    n = len(text1.split())//150\n",
        "  else: \n",
        "    n = 1\n",
        "  return n"
      ],
      "execution_count": null,
      "outputs": []
    },
    {
      "cell_type": "code",
      "metadata": {
        "colab": {
          "base_uri": "https://localhost:8080/",
          "height": 204
        },
        "id": "MZT0Tkphqlc3",
        "outputId": "56ce526e-122b-4f5c-a17c-c241eea7e642"
      },
      "source": [
        "train['text_split'] = train[DATA_COLUMN].apply(get_split)\n",
        "train.head()"
      ],
      "execution_count": null,
      "outputs": [
        {
          "output_type": "execute_result",
          "data": {
            "text/html": [
              "<div>\n",
              "<style scoped>\n",
              "    .dataframe tbody tr th:only-of-type {\n",
              "        vertical-align: middle;\n",
              "    }\n",
              "\n",
              "    .dataframe tbody tr th {\n",
              "        vertical-align: top;\n",
              "    }\n",
              "\n",
              "    .dataframe thead th {\n",
              "        text-align: right;\n",
              "    }\n",
              "</style>\n",
              "<table border=\"1\" class=\"dataframe\">\n",
              "  <thead>\n",
              "    <tr style=\"text-align: right;\">\n",
              "      <th></th>\n",
              "      <th>text</th>\n",
              "      <th>label</th>\n",
              "      <th>text_split</th>\n",
              "    </tr>\n",
              "  </thead>\n",
              "  <tbody>\n",
              "    <tr>\n",
              "      <th>0</th>\n",
              "      <td>Two years ago I made a Trust Deed Investment t...</td>\n",
              "      <td>6</td>\n",
              "      <td>[Two years ago I made a Trust Deed Investment ...</td>\n",
              "    </tr>\n",
              "    <tr>\n",
              "      <th>1</th>\n",
              "      <td>I was advised by XXXX employees XXXX males tha...</td>\n",
              "      <td>1</td>\n",
              "      <td>[I was advised by XXXX employees XXXX males th...</td>\n",
              "    </tr>\n",
              "    <tr>\n",
              "      <th>2</th>\n",
              "      <td>I am receiving threatening phone calls from a ...</td>\n",
              "      <td>8</td>\n",
              "      <td>[I am receiving threatening phone calls from a...</td>\n",
              "    </tr>\n",
              "    <tr>\n",
              "      <th>3</th>\n",
              "      <td>We have XXXX auto loans with Ally fin XXXX is ...</td>\n",
              "      <td>1</td>\n",
              "      <td>[We have XXXX auto loans with Ally fin XXXX is...</td>\n",
              "    </tr>\n",
              "    <tr>\n",
              "      <th>4</th>\n",
              "      <td>For the past year or more scince changing phon...</td>\n",
              "      <td>4</td>\n",
              "      <td>[For the past year or more scince changing pho...</td>\n",
              "    </tr>\n",
              "  </tbody>\n",
              "</table>\n",
              "</div>"
            ],
            "text/plain": [
              "                                                text  ...                                         text_split\n",
              "0  Two years ago I made a Trust Deed Investment t...  ...  [Two years ago I made a Trust Deed Investment ...\n",
              "1  I was advised by XXXX employees XXXX males tha...  ...  [I was advised by XXXX employees XXXX males th...\n",
              "2  I am receiving threatening phone calls from a ...  ...  [I am receiving threatening phone calls from a...\n",
              "3  We have XXXX auto loans with Ally fin XXXX is ...  ...  [We have XXXX auto loans with Ally fin XXXX is...\n",
              "4  For the past year or more scince changing phon...  ...  [For the past year or more scince changing pho...\n",
              "\n",
              "[5 rows x 3 columns]"
            ]
          },
          "metadata": {},
          "execution_count": 37
        }
      ]
    },
    {
      "cell_type": "code",
      "metadata": {
        "colab": {
          "base_uri": "https://localhost:8080/",
          "height": 204
        },
        "id": "I1AXyk6R18-5",
        "outputId": "c7ffef5c-4a23-4f1e-de4d-5ae5cccb8298"
      },
      "source": [
        "train['text_split_count'] = train[DATA_COLUMN].apply(get_split_count)\n",
        "train.head()"
      ],
      "execution_count": null,
      "outputs": [
        {
          "output_type": "execute_result",
          "data": {
            "text/html": [
              "<div>\n",
              "<style scoped>\n",
              "    .dataframe tbody tr th:only-of-type {\n",
              "        vertical-align: middle;\n",
              "    }\n",
              "\n",
              "    .dataframe tbody tr th {\n",
              "        vertical-align: top;\n",
              "    }\n",
              "\n",
              "    .dataframe thead th {\n",
              "        text-align: right;\n",
              "    }\n",
              "</style>\n",
              "<table border=\"1\" class=\"dataframe\">\n",
              "  <thead>\n",
              "    <tr style=\"text-align: right;\">\n",
              "      <th></th>\n",
              "      <th>text</th>\n",
              "      <th>label</th>\n",
              "      <th>text_split</th>\n",
              "      <th>text_split_count</th>\n",
              "    </tr>\n",
              "  </thead>\n",
              "  <tbody>\n",
              "    <tr>\n",
              "      <th>0</th>\n",
              "      <td>Two years ago I made a Trust Deed Investment t...</td>\n",
              "      <td>6</td>\n",
              "      <td>[Two years ago I made a Trust Deed Investment ...</td>\n",
              "      <td>3</td>\n",
              "    </tr>\n",
              "    <tr>\n",
              "      <th>1</th>\n",
              "      <td>I was advised by XXXX employees XXXX males tha...</td>\n",
              "      <td>1</td>\n",
              "      <td>[I was advised by XXXX employees XXXX males th...</td>\n",
              "      <td>1</td>\n",
              "    </tr>\n",
              "    <tr>\n",
              "      <th>2</th>\n",
              "      <td>I am receiving threatening phone calls from a ...</td>\n",
              "      <td>8</td>\n",
              "      <td>[I am receiving threatening phone calls from a...</td>\n",
              "      <td>2</td>\n",
              "    </tr>\n",
              "    <tr>\n",
              "      <th>3</th>\n",
              "      <td>We have XXXX auto loans with Ally fin XXXX is ...</td>\n",
              "      <td>1</td>\n",
              "      <td>[We have XXXX auto loans with Ally fin XXXX is...</td>\n",
              "      <td>2</td>\n",
              "    </tr>\n",
              "    <tr>\n",
              "      <th>4</th>\n",
              "      <td>For the past year or more scince changing phon...</td>\n",
              "      <td>4</td>\n",
              "      <td>[For the past year or more scince changing pho...</td>\n",
              "      <td>1</td>\n",
              "    </tr>\n",
              "  </tbody>\n",
              "</table>\n",
              "</div>"
            ],
            "text/plain": [
              "                                                text  ...  text_split_count\n",
              "0  Two years ago I made a Trust Deed Investment t...  ...                 3\n",
              "1  I was advised by XXXX employees XXXX males tha...  ...                 1\n",
              "2  I am receiving threatening phone calls from a ...  ...                 2\n",
              "3  We have XXXX auto loans with Ally fin XXXX is ...  ...                 2\n",
              "4  For the past year or more scince changing phon...  ...                 1\n",
              "\n",
              "[5 rows x 4 columns]"
            ]
          },
          "metadata": {},
          "execution_count": 38
        }
      ]
    },
    {
      "cell_type": "code",
      "metadata": {
        "colab": {
          "base_uri": "https://localhost:8080/"
        },
        "id": "-rhAKpQ5W0Hi",
        "outputId": "197cde86-ea2e-4e0a-ef08-542331933214"
      },
      "source": [
        "train.shape"
      ],
      "execution_count": null,
      "outputs": [
        {
          "output_type": "execute_result",
          "data": {
            "text/plain": [
              "(17142, 4)"
            ]
          },
          "metadata": {},
          "execution_count": 39
        }
      ]
    },
    {
      "cell_type": "code",
      "metadata": {
        "id": "q_dYA9QVp_Bw"
      },
      "source": [
        "count_1 =0\n",
        "count_2 =0\n",
        "count_3 =0\n",
        "count_4 =0\n",
        "count_5 =0\n",
        "for i in train['text_split_count']:\n",
        "  if i==5:\n",
        "    count_5+=1\n",
        "  if i==1:\n",
        "    count_1+=1\n",
        "  if i==2:\n",
        "    count_2+=1\n",
        "  if i==3:\n",
        "    count_3+=1\n",
        "  if i==4:\n",
        "    count_4+=1"
      ],
      "execution_count": null,
      "outputs": []
    },
    {
      "cell_type": "code",
      "metadata": {
        "colab": {
          "base_uri": "https://localhost:8080/"
        },
        "id": "wYS52j7xrWYL",
        "outputId": "3a2b4dbf-4e5f-40ad-f2a7-2b026e01ceca"
      },
      "source": [
        "print('count_1 ', count_1)\n",
        "print('count_2 ', count_2)\n",
        "print('count_3 ', count_3)\n",
        "print('count_4 ', count_4)\n",
        "print('count_5 ', count_5)"
      ],
      "execution_count": null,
      "outputs": [
        {
          "output_type": "stream",
          "name": "stdout",
          "text": [
            "count_1  4045\n",
            "count_2  6873\n",
            "count_3  3264\n",
            "count_4  2758\n",
            "count_5  202\n"
          ]
        }
      ]
    },
    {
      "cell_type": "code",
      "metadata": {
        "id": "5HgHYvLpVjN0"
      },
      "source": [
        "#creating the test set\n",
        "test_set = train[(train['text_split_count'] == 5)]"
      ],
      "execution_count": null,
      "outputs": []
    },
    {
      "cell_type": "code",
      "metadata": {
        "colab": {
          "base_uri": "https://localhost:8080/",
          "height": 419
        },
        "id": "zw29kiyKXHu_",
        "outputId": "c45f070f-fcd8-47f7-e216-8bb79f972b70"
      },
      "source": [
        "test_set"
      ],
      "execution_count": null,
      "outputs": [
        {
          "output_type": "execute_result",
          "data": {
            "text/html": [
              "<div>\n",
              "<style scoped>\n",
              "    .dataframe tbody tr th:only-of-type {\n",
              "        vertical-align: middle;\n",
              "    }\n",
              "\n",
              "    .dataframe tbody tr th {\n",
              "        vertical-align: top;\n",
              "    }\n",
              "\n",
              "    .dataframe thead th {\n",
              "        text-align: right;\n",
              "    }\n",
              "</style>\n",
              "<table border=\"1\" class=\"dataframe\">\n",
              "  <thead>\n",
              "    <tr style=\"text-align: right;\">\n",
              "      <th></th>\n",
              "      <th>text</th>\n",
              "      <th>label</th>\n",
              "      <th>text_split</th>\n",
              "      <th>text_split_count</th>\n",
              "    </tr>\n",
              "  </thead>\n",
              "  <tbody>\n",
              "    <tr>\n",
              "      <th>135</th>\n",
              "      <td>I bought home in XX XX XXXX taxes were escrowe...</td>\n",
              "      <td>6</td>\n",
              "      <td>[I bought home in XX XX XXXX taxes were escrow...</td>\n",
              "      <td>5</td>\n",
              "    </tr>\n",
              "    <tr>\n",
              "      <th>155</th>\n",
              "      <td>The customer service for M T bank is not forth...</td>\n",
              "      <td>6</td>\n",
              "      <td>[The customer service for M T bank is not fort...</td>\n",
              "      <td>5</td>\n",
              "    </tr>\n",
              "    <tr>\n",
              "      <th>382</th>\n",
              "      <td>I lost my home of 25 years to a preditory lend...</td>\n",
              "      <td>6</td>\n",
              "      <td>[I lost my home of 25 years to a preditory len...</td>\n",
              "      <td>5</td>\n",
              "    </tr>\n",
              "    <tr>\n",
              "      <th>475</th>\n",
              "      <td>My mortgage was transferred to freedom mortgag...</td>\n",
              "      <td>6</td>\n",
              "      <td>[My mortgage was transferred to freedom mortga...</td>\n",
              "      <td>5</td>\n",
              "    </tr>\n",
              "    <tr>\n",
              "      <th>641</th>\n",
              "      <td>This has been going on since XXXX XXXX 2015 Wa...</td>\n",
              "      <td>2</td>\n",
              "      <td>[This has been going on since XXXX XXXX 2015 W...</td>\n",
              "      <td>5</td>\n",
              "    </tr>\n",
              "    <tr>\n",
              "      <th>...</th>\n",
              "      <td>...</td>\n",
              "      <td>...</td>\n",
              "      <td>...</td>\n",
              "      <td>...</td>\n",
              "    </tr>\n",
              "    <tr>\n",
              "      <th>16658</th>\n",
              "      <td>Cash Central ran their debit through my Bank a...</td>\n",
              "      <td>8</td>\n",
              "      <td>[Cash Central ran their debit through my Bank ...</td>\n",
              "      <td>5</td>\n",
              "    </tr>\n",
              "    <tr>\n",
              "      <th>16783</th>\n",
              "      <td>I received a call from a debt collection agenc...</td>\n",
              "      <td>4</td>\n",
              "      <td>[I received a call from a debt collection agen...</td>\n",
              "      <td>5</td>\n",
              "    </tr>\n",
              "    <tr>\n",
              "      <th>16794</th>\n",
              "      <td>I bought my house in XXXX XXXX From that time ...</td>\n",
              "      <td>6</td>\n",
              "      <td>[I bought my house in XXXX XXXX From that time...</td>\n",
              "      <td>5</td>\n",
              "    </tr>\n",
              "    <tr>\n",
              "      <th>16836</th>\n",
              "      <td>On XXXX XXXX my wife sent a mortgage payment b...</td>\n",
              "      <td>6</td>\n",
              "      <td>[On XXXX XXXX my wife sent a mortgage payment ...</td>\n",
              "      <td>5</td>\n",
              "    </tr>\n",
              "    <tr>\n",
              "      <th>16899</th>\n",
              "      <td>I opened Ckg Svgs Accts with Cap One Bank this...</td>\n",
              "      <td>0</td>\n",
              "      <td>[I opened Ckg Svgs Accts with Cap One Bank thi...</td>\n",
              "      <td>5</td>\n",
              "    </tr>\n",
              "  </tbody>\n",
              "</table>\n",
              "<p>202 rows × 4 columns</p>\n",
              "</div>"
            ],
            "text/plain": [
              "                                                    text  ...  text_split_count\n",
              "135    I bought home in XX XX XXXX taxes were escrowe...  ...                 5\n",
              "155    The customer service for M T bank is not forth...  ...                 5\n",
              "382    I lost my home of 25 years to a preditory lend...  ...                 5\n",
              "475    My mortgage was transferred to freedom mortgag...  ...                 5\n",
              "641    This has been going on since XXXX XXXX 2015 Wa...  ...                 5\n",
              "...                                                  ...  ...               ...\n",
              "16658  Cash Central ran their debit through my Bank a...  ...                 5\n",
              "16783  I received a call from a debt collection agenc...  ...                 5\n",
              "16794  I bought my house in XXXX XXXX From that time ...  ...                 5\n",
              "16836  On XXXX XXXX my wife sent a mortgage payment b...  ...                 5\n",
              "16899  I opened Ckg Svgs Accts with Cap One Bank this...  ...                 5\n",
              "\n",
              "[202 rows x 4 columns]"
            ]
          },
          "metadata": {},
          "execution_count": 43
        }
      ]
    },
    {
      "cell_type": "code",
      "metadata": {
        "colab": {
          "base_uri": "https://localhost:8080/"
        },
        "id": "CVSCIgHSe5dJ",
        "outputId": "42346960-5528-4f90-f519-e575c2e9307b"
      },
      "source": [
        "train.shape , test_set.shape"
      ],
      "execution_count": null,
      "outputs": [
        {
          "output_type": "execute_result",
          "data": {
            "text/plain": [
              "((17142, 4), (202, 4))"
            ]
          },
          "metadata": {},
          "execution_count": 44
        }
      ]
    },
    {
      "cell_type": "code",
      "metadata": {
        "id": "MybNDg86fSEt"
      },
      "source": [
        "train = train[(train['text_split_count'].isin([1,2,3,4]))]"
      ],
      "execution_count": null,
      "outputs": []
    },
    {
      "cell_type": "code",
      "metadata": {
        "colab": {
          "base_uri": "https://localhost:8080/"
        },
        "id": "bT7AbZN3fmrQ",
        "outputId": "1e919363-9608-418b-b888-d2286667e7a2"
      },
      "source": [
        "train.shape"
      ],
      "execution_count": null,
      "outputs": [
        {
          "output_type": "execute_result",
          "data": {
            "text/plain": [
              "(16940, 4)"
            ]
          },
          "metadata": {},
          "execution_count": 46
        }
      ]
    },
    {
      "cell_type": "code",
      "metadata": {
        "colab": {
          "base_uri": "https://localhost:8080/",
          "height": 204
        },
        "id": "XYkYPXkquWPq",
        "outputId": "6629678c-6f92-4970-aa23-d57f567f5565"
      },
      "source": [
        "from sklearn.model_selection import train_test_split\n",
        "train, val = train_test_split(train, test_size=0.2, random_state=35)\n",
        "train.head()"
      ],
      "execution_count": null,
      "outputs": [
        {
          "output_type": "execute_result",
          "data": {
            "text/html": [
              "<div>\n",
              "<style scoped>\n",
              "    .dataframe tbody tr th:only-of-type {\n",
              "        vertical-align: middle;\n",
              "    }\n",
              "\n",
              "    .dataframe tbody tr th {\n",
              "        vertical-align: top;\n",
              "    }\n",
              "\n",
              "    .dataframe thead th {\n",
              "        text-align: right;\n",
              "    }\n",
              "</style>\n",
              "<table border=\"1\" class=\"dataframe\">\n",
              "  <thead>\n",
              "    <tr style=\"text-align: right;\">\n",
              "      <th></th>\n",
              "      <th>text</th>\n",
              "      <th>label</th>\n",
              "      <th>text_split</th>\n",
              "      <th>text_split_count</th>\n",
              "    </tr>\n",
              "  </thead>\n",
              "  <tbody>\n",
              "    <tr>\n",
              "      <th>12321</th>\n",
              "      <td>I opened a loan with Santander XX XX XXXX and ...</td>\n",
              "      <td>1</td>\n",
              "      <td>[I opened a loan with Santander XX XX XXXX and...</td>\n",
              "      <td>2</td>\n",
              "    </tr>\n",
              "    <tr>\n",
              "      <th>12026</th>\n",
              "      <td>I went through a bad divorce and my former spo...</td>\n",
              "      <td>3</td>\n",
              "      <td>[I went through a bad divorce and my former sp...</td>\n",
              "      <td>1</td>\n",
              "    </tr>\n",
              "    <tr>\n",
              "      <th>1151</th>\n",
              "      <td>Hello I disputed an innacurate collection acco...</td>\n",
              "      <td>3</td>\n",
              "      <td>[Hello I disputed an innacurate collection acc...</td>\n",
              "      <td>1</td>\n",
              "    </tr>\n",
              "    <tr>\n",
              "      <th>1274</th>\n",
              "      <td>This complaint is against Bank of America N A ...</td>\n",
              "      <td>4</td>\n",
              "      <td>[This complaint is against Bank of America N A...</td>\n",
              "      <td>2</td>\n",
              "    </tr>\n",
              "    <tr>\n",
              "      <th>10121</th>\n",
              "      <td>My story is similar to some I ve read Around o...</td>\n",
              "      <td>4</td>\n",
              "      <td>[My story is similar to some I ve read Around ...</td>\n",
              "      <td>3</td>\n",
              "    </tr>\n",
              "  </tbody>\n",
              "</table>\n",
              "</div>"
            ],
            "text/plain": [
              "                                                    text  ...  text_split_count\n",
              "12321  I opened a loan with Santander XX XX XXXX and ...  ...                 2\n",
              "12026  I went through a bad divorce and my former spo...  ...                 1\n",
              "1151   Hello I disputed an innacurate collection acco...  ...                 1\n",
              "1274   This complaint is against Bank of America N A ...  ...                 2\n",
              "10121  My story is similar to some I ve read Around o...  ...                 3\n",
              "\n",
              "[5 rows x 4 columns]"
            ]
          },
          "metadata": {},
          "execution_count": 47
        }
      ]
    },
    {
      "cell_type": "code",
      "metadata": {
        "colab": {
          "base_uri": "https://localhost:8080/"
        },
        "id": "-HB6fcp-hj3z",
        "outputId": "4704d3bf-05a4-49ec-aaed-6713eeee287f"
      },
      "source": [
        "train.shape, val.shape, test_set.shape"
      ],
      "execution_count": null,
      "outputs": [
        {
          "output_type": "execute_result",
          "data": {
            "text/plain": [
              "((13552, 4), (3388, 4), (202, 4))"
            ]
          },
          "metadata": {},
          "execution_count": 48
        }
      ]
    },
    {
      "cell_type": "code",
      "metadata": {
        "colab": {
          "base_uri": "https://localhost:8080/"
        },
        "id": "Emmt1I-U19EH",
        "outputId": "3480cfb1-557d-41b0-d767-62e367b44714"
      },
      "source": [
        "train_l = []\n",
        "label_l = []\n",
        "index_l =[]\n",
        "for idx,row in train.iterrows():\n",
        "  for l in row['text_split']:  #it is going to create list of training chunks with label and index mapping \n",
        "    train_l.append(l)\n",
        "    label_l.append(row['label'])\n",
        "    index_l.append(idx)\n",
        "len(train_l), len(label_l), len(index_l)"
      ],
      "execution_count": null,
      "outputs": [
        {
          "output_type": "execute_result",
          "data": {
            "text/plain": [
              "(30871, 30871, 30871)"
            ]
          },
          "metadata": {},
          "execution_count": 49
        }
      ]
    },
    {
      "cell_type": "code",
      "metadata": {
        "colab": {
          "base_uri": "https://localhost:8080/"
        },
        "id": "0aZq4QA7a79t",
        "outputId": "8ec2216e-6204-4168-cef6-9cce07edb74e"
      },
      "source": [
        "val_l = []\n",
        "val_label_l = []\n",
        "val_index_l = []\n",
        "for idx,row in val.iterrows():\n",
        "  for l in row['text_split']:\n",
        "    val_l.append(l)\n",
        "    val_label_l.append(row['label'])\n",
        "    val_index_l.append(idx)\n",
        "len(val_l), len(val_label_l), len(val_index_l)"
      ],
      "execution_count": null,
      "outputs": [
        {
          "output_type": "execute_result",
          "data": {
            "text/plain": [
              "(7744, 7744, 7744)"
            ]
          },
          "metadata": {},
          "execution_count": 50
        }
      ]
    },
    {
      "cell_type": "code",
      "metadata": {
        "colab": {
          "base_uri": "https://localhost:8080/"
        },
        "id": "uENg5e4E19G7",
        "outputId": "9a0f48bb-9d4f-478f-cd91-402bdf01b959"
      },
      "source": [
        "test_l = []\n",
        "test_label_l = []\n",
        "test_index_l = []\n",
        "for idx,row in test_set.iterrows():\n",
        "  for l in row['text_split']:\n",
        "    test_l.append(l)\n",
        "    test_label_l.append(row['label'])\n",
        "    test_index_l.append(idx)\n",
        "len(test_l), len(test_label_l), len(test_index_l)"
      ],
      "execution_count": null,
      "outputs": [
        {
          "output_type": "execute_result",
          "data": {
            "text/plain": [
              "(1010, 1010, 1010)"
            ]
          },
          "metadata": {},
          "execution_count": 51
        }
      ]
    },
    {
      "cell_type": "code",
      "metadata": {
        "colab": {
          "base_uri": "https://localhost:8080/",
          "height": 204
        },
        "id": "51RfS2C519JW",
        "outputId": "adc4b322-62dd-4291-a984-2cb6666a84d1"
      },
      "source": [
        "train_df = pd.DataFrame({DATA_COLUMN:train_l, LABEL_COLUMN:label_l})\n",
        "train_df.head()"
      ],
      "execution_count": null,
      "outputs": [
        {
          "output_type": "execute_result",
          "data": {
            "text/html": [
              "<div>\n",
              "<style scoped>\n",
              "    .dataframe tbody tr th:only-of-type {\n",
              "        vertical-align: middle;\n",
              "    }\n",
              "\n",
              "    .dataframe tbody tr th {\n",
              "        vertical-align: top;\n",
              "    }\n",
              "\n",
              "    .dataframe thead th {\n",
              "        text-align: right;\n",
              "    }\n",
              "</style>\n",
              "<table border=\"1\" class=\"dataframe\">\n",
              "  <thead>\n",
              "    <tr style=\"text-align: right;\">\n",
              "      <th></th>\n",
              "      <th>text</th>\n",
              "      <th>label</th>\n",
              "    </tr>\n",
              "  </thead>\n",
              "  <tbody>\n",
              "    <tr>\n",
              "      <th>0</th>\n",
              "      <td>I opened a loan with Santander XX XX XXXX and ...</td>\n",
              "      <td>1</td>\n",
              "    </tr>\n",
              "    <tr>\n",
              "      <th>1</th>\n",
              "      <td>is by Santander as well I have disputed the re...</td>\n",
              "      <td>1</td>\n",
              "    </tr>\n",
              "    <tr>\n",
              "      <th>2</th>\n",
              "      <td>I went through a bad divorce and my former spo...</td>\n",
              "      <td>3</td>\n",
              "    </tr>\n",
              "    <tr>\n",
              "      <th>3</th>\n",
              "      <td>Hello I disputed an innacurate collection acco...</td>\n",
              "      <td>3</td>\n",
              "    </tr>\n",
              "    <tr>\n",
              "      <th>4</th>\n",
              "      <td>This complaint is against Bank of America N A ...</td>\n",
              "      <td>4</td>\n",
              "    </tr>\n",
              "  </tbody>\n",
              "</table>\n",
              "</div>"
            ],
            "text/plain": [
              "                                                text  label\n",
              "0  I opened a loan with Santander XX XX XXXX and ...      1\n",
              "1  is by Santander as well I have disputed the re...      1\n",
              "2  I went through a bad divorce and my former spo...      3\n",
              "3  Hello I disputed an innacurate collection acco...      3\n",
              "4  This complaint is against Bank of America N A ...      4"
            ]
          },
          "metadata": {},
          "execution_count": 52
        }
      ]
    },
    {
      "cell_type": "code",
      "metadata": {
        "colab": {
          "base_uri": "https://localhost:8080/",
          "height": 204
        },
        "id": "_CfhlZ-HbmO3",
        "outputId": "e29e17c2-e04a-43ec-a644-fa834a1ede4d"
      },
      "source": [
        "val_df = pd.DataFrame({DATA_COLUMN:val_l, LABEL_COLUMN:val_label_l})\n",
        "val_df.head()"
      ],
      "execution_count": null,
      "outputs": [
        {
          "output_type": "execute_result",
          "data": {
            "text/html": [
              "<div>\n",
              "<style scoped>\n",
              "    .dataframe tbody tr th:only-of-type {\n",
              "        vertical-align: middle;\n",
              "    }\n",
              "\n",
              "    .dataframe tbody tr th {\n",
              "        vertical-align: top;\n",
              "    }\n",
              "\n",
              "    .dataframe thead th {\n",
              "        text-align: right;\n",
              "    }\n",
              "</style>\n",
              "<table border=\"1\" class=\"dataframe\">\n",
              "  <thead>\n",
              "    <tr style=\"text-align: right;\">\n",
              "      <th></th>\n",
              "      <th>text</th>\n",
              "      <th>label</th>\n",
              "    </tr>\n",
              "  </thead>\n",
              "  <tbody>\n",
              "    <tr>\n",
              "      <th>0</th>\n",
              "      <td>I was cheated by BB T and the XXXX could not h...</td>\n",
              "      <td>0</td>\n",
              "    </tr>\n",
              "    <tr>\n",
              "      <th>1</th>\n",
              "      <td>7 00 on a dormant account I questioned the cha...</td>\n",
              "      <td>0</td>\n",
              "    </tr>\n",
              "    <tr>\n",
              "      <th>2</th>\n",
              "      <td>by writing I did not get any response So pleas...</td>\n",
              "      <td>0</td>\n",
              "    </tr>\n",
              "    <tr>\n",
              "      <th>3</th>\n",
              "      <td>During the time my daughter was in college I o...</td>\n",
              "      <td>2</td>\n",
              "    </tr>\n",
              "    <tr>\n",
              "      <th>4</th>\n",
              "      <td>calling me about a late payment and I told the...</td>\n",
              "      <td>2</td>\n",
              "    </tr>\n",
              "  </tbody>\n",
              "</table>\n",
              "</div>"
            ],
            "text/plain": [
              "                                                text  label\n",
              "0  I was cheated by BB T and the XXXX could not h...      0\n",
              "1  7 00 on a dormant account I questioned the cha...      0\n",
              "2  by writing I did not get any response So pleas...      0\n",
              "3  During the time my daughter was in college I o...      2\n",
              "4  calling me about a late payment and I told the...      2"
            ]
          },
          "metadata": {},
          "execution_count": 53
        }
      ]
    },
    {
      "cell_type": "code",
      "metadata": {
        "colab": {
          "base_uri": "https://localhost:8080/",
          "height": 204
        },
        "id": "X6rGj8Esbnr-",
        "outputId": "aa9671ad-e2a7-42f6-d474-699e574a0d44"
      },
      "source": [
        "test_df = pd.DataFrame({DATA_COLUMN:test_l, LABEL_COLUMN:test_label_l})\n",
        "test_df.head()"
      ],
      "execution_count": null,
      "outputs": [
        {
          "output_type": "execute_result",
          "data": {
            "text/html": [
              "<div>\n",
              "<style scoped>\n",
              "    .dataframe tbody tr th:only-of-type {\n",
              "        vertical-align: middle;\n",
              "    }\n",
              "\n",
              "    .dataframe tbody tr th {\n",
              "        vertical-align: top;\n",
              "    }\n",
              "\n",
              "    .dataframe thead th {\n",
              "        text-align: right;\n",
              "    }\n",
              "</style>\n",
              "<table border=\"1\" class=\"dataframe\">\n",
              "  <thead>\n",
              "    <tr style=\"text-align: right;\">\n",
              "      <th></th>\n",
              "      <th>text</th>\n",
              "      <th>label</th>\n",
              "    </tr>\n",
              "  </thead>\n",
              "  <tbody>\n",
              "    <tr>\n",
              "      <th>0</th>\n",
              "      <td>I bought home in XX XX XXXX taxes were escrowe...</td>\n",
              "      <td>6</td>\n",
              "    </tr>\n",
              "    <tr>\n",
              "      <th>1</th>\n",
              "      <td>with XXXX XXXX a t Selene this lasted for 9mon...</td>\n",
              "      <td>6</td>\n",
              "    </tr>\n",
              "    <tr>\n",
              "      <th>2</th>\n",
              "      <td>they transferred over the escrow to XXXX After...</td>\n",
              "      <td>6</td>\n",
              "    </tr>\n",
              "    <tr>\n",
              "      <th>3</th>\n",
              "      <td>let s do the math They credited me for 2600 00...</td>\n",
              "      <td>6</td>\n",
              "    </tr>\n",
              "    <tr>\n",
              "      <th>4</th>\n",
              "      <td>XX XXXX XX XX XXXX and XX XX XXXX Then in XX X...</td>\n",
              "      <td>6</td>\n",
              "    </tr>\n",
              "  </tbody>\n",
              "</table>\n",
              "</div>"
            ],
            "text/plain": [
              "                                                text  label\n",
              "0  I bought home in XX XX XXXX taxes were escrowe...      6\n",
              "1  with XXXX XXXX a t Selene this lasted for 9mon...      6\n",
              "2  they transferred over the escrow to XXXX After...      6\n",
              "3  let s do the math They credited me for 2600 00...      6\n",
              "4  XX XXXX XX XX XXXX and XX XX XXXX Then in XX X...      6"
            ]
          },
          "metadata": {},
          "execution_count": 54
        }
      ]
    },
    {
      "cell_type": "code",
      "metadata": {
        "colab": {
          "base_uri": "https://localhost:8080/"
        },
        "id": "5UkFxeVbXHPi",
        "outputId": "d718f562-627c-44e7-b8ce-a12df57c54dd"
      },
      "source": [
        "print('train_df shape : ',train_df.shape)\n",
        "print('val_df shape : ',val_df.shape)\n",
        "print('test_df shape : ',test_df.shape)"
      ],
      "execution_count": null,
      "outputs": [
        {
          "output_type": "stream",
          "name": "stdout",
          "text": [
            "train_df shape :  (30871, 2)\n",
            "val_df shape :  (7744, 2)\n",
            "test_df shape :  (1010, 2)\n"
          ]
        }
      ]
    },
    {
      "cell_type": "markdown",
      "metadata": {
        "id": "gGlfUu51SQ1c"
      },
      "source": [
        "# BERT: Data Preprocessing"
      ]
    },
    {
      "cell_type": "code",
      "metadata": {
        "id": "OFqwAgdEDMR8"
      },
      "source": [
        "class PaddingInputExample(object):\n",
        "      pass\n",
        "\n",
        "class InputExample(object):\n",
        "    \"\"\"A single training/test example for simple sequence classification.\"\"\"\n",
        "\n",
        "    def __init__(self, guid, text_a, text_b=None, label=None):\n",
        "        \n",
        "        \"\"\"Constructs a InputExample.\n",
        "    Args:\n",
        "      guid: Unique id for the example.\n",
        "      text_a: string. The untokenized text of the first sequence. For single\n",
        "        sequence tasks, only this sequence must be specified.\n",
        "      text_b: (Optional) string. The untokenized text of the second sequence.\n",
        "        Only must be specified for sequence pair tasks.\n",
        "      label: (Optional) string. The label of the example. This should be\n",
        "        specified for train and dev examples, but not for test examples.\n",
        "    \"\"\"\n",
        "        self.guid = guid\n",
        "        self.text_a = text_a\n",
        "        self.text_b = text_b\n",
        "        self.label = label"
      ],
      "execution_count": null,
      "outputs": []
    },
    {
      "cell_type": "code",
      "metadata": {
        "id": "Vegh-oReDMUw"
      },
      "source": [
        "train_InputExamples_1 = train_df.apply(lambda x: InputExample(guid=None,\n",
        "                                                                  text_a = x[DATA_COLUMN], \n",
        "                                                                  text_b = None, \n",
        "                                                                  label = x[LABEL_COLUMN]), axis = 1)"
      ],
      "execution_count": null,
      "outputs": []
    },
    {
      "cell_type": "code",
      "metadata": {
        "colab": {
          "base_uri": "https://localhost:8080/"
        },
        "id": "0Lwdle-FDMXj",
        "outputId": "6d64773e-686f-43c3-c66c-c0c19498c29e"
      },
      "source": [
        "train_InputExamples_1"
      ],
      "execution_count": null,
      "outputs": [
        {
          "output_type": "execute_result",
          "data": {
            "text/plain": [
              "0        <__main__.InputExample object at 0x7fe5543db690>\n",
              "1        <__main__.InputExample object at 0x7fe5543d5c50>\n",
              "2        <__main__.InputExample object at 0x7fe554abbc90>\n",
              "3        <__main__.InputExample object at 0x7fe554abb0d0>\n",
              "4        <__main__.InputExample object at 0x7fe55437f790>\n",
              "                               ...                       \n",
              "30866    <__main__.InputExample object at 0x7fe553cb8b90>\n",
              "30867    <__main__.InputExample object at 0x7fe553cb8bd0>\n",
              "30868    <__main__.InputExample object at 0x7fe553cb8c10>\n",
              "30869    <__main__.InputExample object at 0x7fe553cb8c50>\n",
              "30870    <__main__.InputExample object at 0x7fe553cb8c90>\n",
              "Length: 30871, dtype: object"
            ]
          },
          "metadata": {},
          "execution_count": 58
        }
      ]
    },
    {
      "cell_type": "code",
      "metadata": {
        "colab": {
          "base_uri": "https://localhost:8080/"
        },
        "id": "splGqF_aDbjm",
        "outputId": "83481030-e501-4c33-ecd3-8725c12d5f01"
      },
      "source": [
        "print(\"Row 0 - guid of training set : \", train_InputExamples_1.iloc[0].guid)\n",
        "print(\"\\n__________\\nRow 0 - text_a of training set : \", train_InputExamples_1.iloc[0].text_a)\n",
        "print(\"\\n__________\\nRow 0 - text_b of training set : \", train_InputExamples_1.iloc[0].text_b)\n",
        "print(\"\\n__________\\nRow 0 - label of training set : \", train_InputExamples_1.iloc[0].label)"
      ],
      "execution_count": null,
      "outputs": [
        {
          "output_type": "stream",
          "name": "stdout",
          "text": [
            "Row 0 - guid of training set :  None\n",
            "\n",
            "__________\n",
            "Row 0 - text_a of training set :  I opened a loan with Santander XX XX XXXX and was financed XXXX at 16 99 interest rate on my loan for 72 months which should equate to 26000 00 in finance charges equaling a monthly payment of 370 00 and I have been paying 370 00 I made my payments accordingly over the next 4 years I tried refinancing my loan in XX XX XXXX as well a trade in my vehicle around the same time Come to find out I was severely upside down and no one would finance me a new loan with my vehicle as a trade or refinance because my debt owed was to high At that time I allowed my vehicle to repossessed due to the amount owed I feel I am a victim of a predatory lending from Santander and now my credit history is be slandered and portrayed worse than it actually is by Santander as well I have disputed the reporting of my account as per my rights of FCRA due incorrect payment history reporting first date of delinquency on my account repeatedly reported inaccurately a charged off account reporting open 9 months after repossession as well as being billed car\n",
            "\n",
            "__________\n",
            "Row 0 - text_b of training set :  None\n",
            "\n",
            "__________\n",
            "Row 0 - label of training set :  1\n"
          ]
        }
      ]
    },
    {
      "cell_type": "code",
      "metadata": {
        "id": "5QGCTIhmDpoZ"
      },
      "source": [
        "val_InputExamples_1 = val_df.apply(lambda x: InputExample(guid=None, \n",
        "                                                                   text_a = x[DATA_COLUMN], \n",
        "                                                                   text_b = None, \n",
        "                                                                   label = x[LABEL_COLUMN]), axis = 1)"
      ],
      "execution_count": null,
      "outputs": []
    },
    {
      "cell_type": "code",
      "metadata": {
        "id": "6PgnWouab3ZG"
      },
      "source": [
        "test_InputExamples_1 = test_df.apply(lambda x: InputExample(guid=None, \n",
        "                                                                   text_a = x[DATA_COLUMN], \n",
        "                                                                   text_b = None, \n",
        "                                                                   label = x[LABEL_COLUMN]), axis = 1)"
      ],
      "execution_count": null,
      "outputs": []
    },
    {
      "cell_type": "markdown",
      "metadata": {
        "id": "lUbc22wTTvkQ"
      },
      "source": [
        "# BERT: Loading the pre-trained model"
      ]
    },
    {
      "cell_type": "code",
      "metadata": {
        "id": "BO7PECyJRh37"
      },
      "source": [
        "import official.nlp.bert.tokenization as tokenization"
      ],
      "execution_count": null,
      "outputs": []
    },
    {
      "cell_type": "code",
      "metadata": {
        "id": "EWFFUaGwDyVv",
        "colab": {
          "base_uri": "https://localhost:8080/"
        },
        "outputId": "e84c276b-98b8-422c-ebb4-61b64656fbc8"
      },
      "source": [
        "# ##We are creatung the tokens to gorm the vocabulary which inturn is ued to represent the words\n",
        "# #BERT: Loading the pre-trained model\n",
        "# This is a path to an uncased (all lowercase) version of BERT\n",
        "BERT_MODEL_HUB = \"https://tfhub.dev/google/bert_uncased_L-12_H-768_A-12/1\"\n",
        "\n",
        "def create_tokenizer_from_hub_module():\n",
        "  \"\"\"Get the vocab file and casing info from the Hub module.\"\"\"\n",
        "  with tf.Graph().as_default():\n",
        "    bert_module = hub.Module(BERT_MODEL_HUB)\n",
        "    tokenization_info = bert_module(signature=\"tokenization_info\", as_dict=True)\n",
        "    with tf.compat.v1.Session() as sess:\n",
        "      vocab_file, do_lower_case = sess.run([tokenization_info[\"vocab_file\"],\n",
        "                                            tokenization_info[\"do_lower_case\"]])\n",
        "      \n",
        "  return tokenization.FullTokenizer(\n",
        "      vocab_file=vocab_file, do_lower_case=do_lower_case)\n",
        "\n",
        "tokenizer = create_tokenizer_from_hub_module()"
      ],
      "execution_count": null,
      "outputs": [
        {
          "output_type": "stream",
          "name": "stdout",
          "text": [
            "INFO:tensorflow:Saver not created because there are no variables in the graph to restore\n"
          ]
        },
        {
          "output_type": "stream",
          "name": "stderr",
          "text": [
            "INFO:tensorflow:Saver not created because there are no variables in the graph to restore\n"
          ]
        }
      ]
    },
    {
      "cell_type": "code",
      "metadata": {
        "colab": {
          "base_uri": "https://localhost:8080/"
        },
        "id": "dttRQBafVA1q",
        "outputId": "443cf02d-77af-491f-fa70-4ad0db185c65"
      },
      "source": [
        "len(tokenizer.vocab.keys())"
      ],
      "execution_count": null,
      "outputs": [
        {
          "output_type": "execute_result",
          "data": {
            "text/plain": [
              "30522"
            ]
          },
          "metadata": {},
          "execution_count": 64
        }
      ]
    },
    {
      "cell_type": "code",
      "metadata": {
        "id": "Do9OnHpRGJqp"
      },
      "source": [
        "#Defining Input features \n",
        "class InputFeatures(object):\n",
        "  \"\"\"A single set of features of data.\"\"\"\n",
        "\n",
        "  def __init__(self,\n",
        "               input_ids,\n",
        "               input_mask,\n",
        "               segment_ids,\n",
        "               label_id,\n",
        "               is_real_example=True):\n",
        "    self.input_ids = input_ids\n",
        "    self.input_mask = input_mask\n",
        "    self.segment_ids = segment_ids\n",
        "    self.label_id = label_id\n",
        "    self.is_real_example = is_real_example"
      ],
      "execution_count": null,
      "outputs": []
    },
    {
      "cell_type": "code",
      "metadata": {
        "id": "LMCVuhwOVwE3"
      },
      "source": [
        "def convert_single_example(tokenizer, example, max_seq_length=256):\n",
        "    \"\"\"Converts a single `InputExample` into a single `InputFeatures`.\"\"\"\n",
        "\n",
        "    if isinstance(example, PaddingInputExample):\n",
        "        input_ids = [0] * max_seq_length\n",
        "        input_mask = [0] * max_seq_length\n",
        "        segment_ids = [0] * max_seq_length\n",
        "        label = 0\n",
        "        return input_ids, input_mask, segment_ids, label\n",
        "\n",
        "    tokens_a = tokenizer.tokenize(example.text_a)\n",
        "    if len(tokens_a) > max_seq_length - 2:\n",
        "        tokens_a = tokens_a[0 : (max_seq_length - 2)]\n",
        "\n",
        "    tokens = []\n",
        "    segment_ids = []\n",
        "    tokens.append(\"[CLS]\")\n",
        "    segment_ids.append(0)\n",
        "    for token in tokens_a:\n",
        "        tokens.append(token)\n",
        "        segment_ids.append(0)\n",
        "    tokens.append(\"[SEP]\")\n",
        "    segment_ids.append(0)\n",
        "\n",
        "    input_ids = tokenizer.convert_tokens_to_ids(tokens)\n",
        "\n",
        "    # The mask has 1 for real tokens and 0 for padding tokens. Only real\n",
        "    # tokens are attended to.\n",
        "    input_mask = [1] * len(input_ids)\n",
        "\n",
        "    # Zero-pad up to the sequence length.\n",
        "    while len(input_ids) < max_seq_length:\n",
        "        input_ids.append(0)\n",
        "        input_mask.append(0)\n",
        "        segment_ids.append(0)\n",
        "\n",
        "    assert len(input_ids) == max_seq_length\n",
        "    assert len(input_mask) == max_seq_length\n",
        "    assert len(segment_ids) == max_seq_length\n",
        "\n",
        "    return input_ids, input_mask, segment_ids, example.label"
      ],
      "execution_count": null,
      "outputs": []
    },
    {
      "cell_type": "code",
      "metadata": {
        "id": "rBbW4pfSKjfR"
      },
      "source": [
        "def convert_examples_to_features(tokenizer, examples, max_seq_length=200):\n",
        "    \"\"\"Convert a set of `InputExample`s to a list of `InputFeatures`.\"\"\"\n",
        "\n",
        "    input_ids, input_masks, segment_ids, labels,features = [], [], [], [],[]\n",
        "    for example in tqdm.tqdm(examples, desc=\"Converting examples to features\"):\n",
        "        input_id, input_mask, segment_id, label = convert_single_example(\n",
        "            tokenizer, example, max_seq_length\n",
        "        )\n",
        "\n",
        "        input_ids.append(input_id)\n",
        "        input_masks.append(input_mask)\n",
        "        segment_ids.append(segment_id)\n",
        "        labels.append(label)\n",
        "\n",
        "        feature = InputFeatures(input_ids=input_id,\n",
        "        input_mask=input_mask,\n",
        "        segment_ids=segment_id,\n",
        "        label_id=label,\n",
        "        is_real_example=True)\n",
        "\n",
        "        features.append(feature)\n",
        "    # return(\n",
        "    #     np.array(input_ids),\n",
        "    #     np.array(input_masks),\n",
        "    #     np.array(segment_ids),\n",
        "    #     np.array(labels).reshape(-1, 1),\n",
        "    # )\n",
        "    return features"
      ],
      "execution_count": null,
      "outputs": []
    },
    {
      "cell_type": "code",
      "metadata": {
        "id": "p9vdlwHPV9Nk"
      },
      "source": [
        "import tqdm\n",
        "MAX_SEQ_LENGTH = 200"
      ],
      "execution_count": null,
      "outputs": []
    },
    {
      "cell_type": "code",
      "metadata": {
        "colab": {
          "base_uri": "https://localhost:8080/"
        },
        "id": "WSjQpmcAGJ0t",
        "outputId": "c125666f-3c42-430c-d9ca-0343cb33182e"
      },
      "source": [
        "# Convert our train and validation features to InputFeatures that BERT understands.\n",
        "\n",
        "train_features = convert_examples_to_features(tokenizer, train_InputExamples_1, MAX_SEQ_LENGTH)\n",
        "\n",
        "val_features = convert_examples_to_features(tokenizer, val_InputExamples_1, MAX_SEQ_LENGTH)\n",
        "\n",
        "test_features = convert_examples_to_features(tokenizer, test_InputExamples_1, MAX_SEQ_LENGTH)"
      ],
      "execution_count": null,
      "outputs": [
        {
          "output_type": "stream",
          "name": "stderr",
          "text": [
            "Converting examples to features: 100%|██████████| 30871/30871 [01:58<00:00, 260.82it/s]\n",
            "Converting examples to features: 100%|██████████| 7744/7744 [00:29<00:00, 258.20it/s]\n",
            "Converting examples to features: 100%|██████████| 1010/1010 [00:03<00:00, 284.84it/s]\n"
          ]
        }
      ]
    },
    {
      "cell_type": "code",
      "metadata": {
        "id": "aDzWg7l1oXi9",
        "colab": {
          "base_uri": "https://localhost:8080/"
        },
        "outputId": "e34f25f4-283d-4e7a-adb2-8730306ce659"
      },
      "source": [
        "print(\"Sentence : \", train_InputExamples_1.iloc[0].text_a)\n",
        "print(\"-\"*30)\n",
        "print(\"Tokens : \", tokenizer.tokenize(train_InputExamples_1.iloc[0].text_a))\n",
        "print(\"-\"*30)\n",
        "print(\"Input IDs : \", train_features[0].input_ids)\n",
        "print(\"-\"*30)\n",
        "print(\"Input Masks : \", train_features[0].input_mask)\n",
        "print(\"-\"*30)\n",
        "print(\"Segment IDs : \", train_features[0].segment_ids)"
      ],
      "execution_count": null,
      "outputs": [
        {
          "output_type": "stream",
          "name": "stdout",
          "text": [
            "Sentence :  I opened a loan with Santander XX XX XXXX and was financed XXXX at 16 99 interest rate on my loan for 72 months which should equate to 26000 00 in finance charges equaling a monthly payment of 370 00 and I have been paying 370 00 I made my payments accordingly over the next 4 years I tried refinancing my loan in XX XX XXXX as well a trade in my vehicle around the same time Come to find out I was severely upside down and no one would finance me a new loan with my vehicle as a trade or refinance because my debt owed was to high At that time I allowed my vehicle to repossessed due to the amount owed I feel I am a victim of a predatory lending from Santander and now my credit history is be slandered and portrayed worse than it actually is by Santander as well I have disputed the reporting of my account as per my rights of FCRA due incorrect payment history reporting first date of delinquency on my account repeatedly reported inaccurately a charged off account reporting open 9 months after repossession as well as being billed car\n",
            "------------------------------\n",
            "Tokens :  ['i', 'opened', 'a', 'loan', 'with', 'santa', '##nder', 'xx', 'xx', 'xx', '##xx', 'and', 'was', 'financed', 'xx', '##xx', 'at', '16', '99', 'interest', 'rate', 'on', 'my', 'loan', 'for', '72', 'months', 'which', 'should', 'e', '##qua', '##te', 'to', '260', '##00', '00', 'in', 'finance', 'charges', 'equal', '##ing', 'a', 'monthly', 'payment', 'of', '370', '00', 'and', 'i', 'have', 'been', 'paying', '370', '00', 'i', 'made', 'my', 'payments', 'accordingly', 'over', 'the', 'next', '4', 'years', 'i', 'tried', 'ref', '##ina', '##nc', '##ing', 'my', 'loan', 'in', 'xx', 'xx', 'xx', '##xx', 'as', 'well', 'a', 'trade', 'in', 'my', 'vehicle', 'around', 'the', 'same', 'time', 'come', 'to', 'find', 'out', 'i', 'was', 'severely', 'upside', 'down', 'and', 'no', 'one', 'would', 'finance', 'me', 'a', 'new', 'loan', 'with', 'my', 'vehicle', 'as', 'a', 'trade', 'or', 'ref', '##ina', '##nce', 'because', 'my', 'debt', 'owed', 'was', 'to', 'high', 'at', 'that', 'time', 'i', 'allowed', 'my', 'vehicle', 'to', 'rep', '##oss', '##essed', 'due', 'to', 'the', 'amount', 'owed', 'i', 'feel', 'i', 'am', 'a', 'victim', 'of', 'a', 'predatory', 'lending', 'from', 'santa', '##nder', 'and', 'now', 'my', 'credit', 'history', 'is', 'be', 'sl', '##ander', '##ed', 'and', 'portrayed', 'worse', 'than', 'it', 'actually', 'is', 'by', 'santa', '##nder', 'as', 'well', 'i', 'have', 'disputed', 'the', 'reporting', 'of', 'my', 'account', 'as', 'per', 'my', 'rights', 'of', 'fc', '##ra', 'due', 'incorrect', 'payment', 'history', 'reporting', 'first', 'date', 'of', 'del', '##in', '##que', '##ncy', 'on', 'my', 'account', 'repeatedly', 'reported', 'inaccurate', '##ly', 'a', 'charged', 'off', 'account', 'reporting', 'open', '9', 'months', 'after', 'rep', '##oss', '##ess', '##ion', 'as', 'well', 'as', 'being', 'billed', 'car']\n",
            "------------------------------\n",
            "Input IDs :  [101, 1045, 2441, 1037, 5414, 2007, 4203, 11563, 22038, 22038, 22038, 20348, 1998, 2001, 13790, 22038, 20348, 2012, 2385, 5585, 3037, 3446, 2006, 2026, 5414, 2005, 5824, 2706, 2029, 2323, 1041, 16211, 2618, 2000, 13539, 8889, 4002, 1999, 5446, 5571, 5020, 2075, 1037, 7058, 7909, 1997, 16444, 4002, 1998, 1045, 2031, 2042, 7079, 16444, 4002, 1045, 2081, 2026, 10504, 11914, 2058, 1996, 2279, 1018, 2086, 1045, 2699, 25416, 3981, 12273, 2075, 2026, 5414, 1999, 22038, 22038, 22038, 20348, 2004, 2092, 1037, 3119, 1999, 2026, 4316, 2105, 1996, 2168, 2051, 2272, 2000, 2424, 2041, 1045, 2001, 8949, 14961, 2091, 1998, 2053, 2028, 2052, 5446, 2033, 1037, 2047, 5414, 2007, 2026, 4316, 2004, 1037, 3119, 2030, 25416, 3981, 5897, 2138, 2026, 7016, 12232, 2001, 2000, 2152, 2012, 2008, 2051, 1045, 3039, 2026, 4316, 2000, 16360, 15094, 23656, 2349, 2000, 1996, 3815, 12232, 1045, 2514, 1045, 2572, 1037, 6778, 1997, 1037, 21659, 18435, 2013, 4203, 11563, 1998, 2085, 2026, 4923, 2381, 2003, 2022, 22889, 12243, 2098, 1998, 6791, 4788, 2084, 2009, 2941, 2003, 2011, 4203, 11563, 2004, 2092, 1045, 2031, 11621, 1996, 7316, 1997, 2026, 4070, 2004, 2566, 2026, 2916, 1997, 4429, 2527, 2349, 16542, 7909, 2381, 7316, 2034, 3058, 1997, 3972, 102]\n",
            "------------------------------\n",
            "Input Masks :  [1, 1, 1, 1, 1, 1, 1, 1, 1, 1, 1, 1, 1, 1, 1, 1, 1, 1, 1, 1, 1, 1, 1, 1, 1, 1, 1, 1, 1, 1, 1, 1, 1, 1, 1, 1, 1, 1, 1, 1, 1, 1, 1, 1, 1, 1, 1, 1, 1, 1, 1, 1, 1, 1, 1, 1, 1, 1, 1, 1, 1, 1, 1, 1, 1, 1, 1, 1, 1, 1, 1, 1, 1, 1, 1, 1, 1, 1, 1, 1, 1, 1, 1, 1, 1, 1, 1, 1, 1, 1, 1, 1, 1, 1, 1, 1, 1, 1, 1, 1, 1, 1, 1, 1, 1, 1, 1, 1, 1, 1, 1, 1, 1, 1, 1, 1, 1, 1, 1, 1, 1, 1, 1, 1, 1, 1, 1, 1, 1, 1, 1, 1, 1, 1, 1, 1, 1, 1, 1, 1, 1, 1, 1, 1, 1, 1, 1, 1, 1, 1, 1, 1, 1, 1, 1, 1, 1, 1, 1, 1, 1, 1, 1, 1, 1, 1, 1, 1, 1, 1, 1, 1, 1, 1, 1, 1, 1, 1, 1, 1, 1, 1, 1, 1, 1, 1, 1, 1, 1, 1, 1, 1, 1, 1, 1, 1, 1, 1, 1, 1]\n",
            "------------------------------\n",
            "Segment IDs :  [0, 0, 0, 0, 0, 0, 0, 0, 0, 0, 0, 0, 0, 0, 0, 0, 0, 0, 0, 0, 0, 0, 0, 0, 0, 0, 0, 0, 0, 0, 0, 0, 0, 0, 0, 0, 0, 0, 0, 0, 0, 0, 0, 0, 0, 0, 0, 0, 0, 0, 0, 0, 0, 0, 0, 0, 0, 0, 0, 0, 0, 0, 0, 0, 0, 0, 0, 0, 0, 0, 0, 0, 0, 0, 0, 0, 0, 0, 0, 0, 0, 0, 0, 0, 0, 0, 0, 0, 0, 0, 0, 0, 0, 0, 0, 0, 0, 0, 0, 0, 0, 0, 0, 0, 0, 0, 0, 0, 0, 0, 0, 0, 0, 0, 0, 0, 0, 0, 0, 0, 0, 0, 0, 0, 0, 0, 0, 0, 0, 0, 0, 0, 0, 0, 0, 0, 0, 0, 0, 0, 0, 0, 0, 0, 0, 0, 0, 0, 0, 0, 0, 0, 0, 0, 0, 0, 0, 0, 0, 0, 0, 0, 0, 0, 0, 0, 0, 0, 0, 0, 0, 0, 0, 0, 0, 0, 0, 0, 0, 0, 0, 0, 0, 0, 0, 0, 0, 0, 0, 0, 0, 0, 0, 0, 0, 0, 0, 0, 0, 0]\n"
          ]
        }
      ]
    },
    {
      "cell_type": "code",
      "metadata": {
        "id": "TJ943C4bWMK2"
      },
      "source": [
        "def create_model(is_predicting, input_ids, input_mask, segment_ids, labels,\n",
        "                 num_labels):\n",
        "  \n",
        "  bert_module = hub.Module(\n",
        "      BERT_MODEL_HUB,\n",
        "      trainable=True)\n",
        "  bert_inputs = dict(\n",
        "      input_ids=input_ids,\n",
        "      input_mask=input_mask,\n",
        "      segment_ids=segment_ids)\n",
        "  bert_outputs = bert_module(\n",
        "      inputs=bert_inputs,\n",
        "      signature=\"tokens\",\n",
        "      as_dict=True)\n",
        "\n",
        "  # Use \"pooled_output\" for classification tasks on an entire sentence.\n",
        "  # Use \"sequence_outputs\" for token-level output.\n",
        "  output_layer = bert_outputs[\"pooled_output\"]\n",
        "  # with tf.Session() as sess:\n",
        "  output_layer1 = bert_outputs[\"pooled_output\"]\n",
        "  # output_layer1 = 999\n",
        "  hidden_size = output_layer.shape[-1]\n",
        "\n",
        "  # Create our own layer to tune for politeness data.\n",
        "  output_weights = tf.get_variable(\n",
        "      \"output_weights\", [num_labels, hidden_size],\n",
        "      initializer=tf.truncated_normal_initializer(stddev=0.02))\n",
        "\n",
        "  output_bias = tf.get_variable(\n",
        "      \"output_bias\", [num_labels], initializer=tf.zeros_initializer())\n",
        "\n",
        "  with tf.variable_scope(\"loss\"):\n",
        "\n",
        "    # Dropout helps prevent overfitting\n",
        "    output_layer = tf.nn.dropout(output_layer, keep_prob=0.8)\n",
        "\n",
        "    logits = tf.matmul(output_layer, output_weights, transpose_b=True)\n",
        "    logits = tf.nn.bias_add(logits, output_bias)\n",
        "    log_probs = tf.nn.log_softmax(logits, axis=-1)\n",
        "\n",
        "    # Convert labels into one-hot encoding\n",
        "    one_hot_labels = tf.one_hot(labels, depth=num_labels, dtype=tf.float32)\n",
        "\n",
        "    predicted_labels = tf.squeeze(tf.argmax(log_probs, axis=-1, output_type=tf.int32))\n",
        "    # If we're predicting, we want predicted labels and the probabiltiies.\n",
        "    if is_predicting:\n",
        "      return (predicted_labels, log_probs, output_layer1)\n",
        "\n",
        "    # If we're train/eval, compute loss between predicted and actual label\n",
        "    per_example_loss = -tf.reduce_sum(one_hot_labels * log_probs, axis=-1)\n",
        "    loss = tf.reduce_mean(per_example_loss)\n",
        "    return (loss, predicted_labels, log_probs)"
      ],
      "execution_count": null,
      "outputs": []
    },
    {
      "cell_type": "code",
      "metadata": {
        "id": "97j2dxcMWQXu"
      },
      "source": [
        "def model_fn_builder(num_labels, learning_rate, num_train_steps,\n",
        "                     num_warmup_steps):\n",
        "  \"\"\"Returns `model_fn` closure for TPUEstimator.\"\"\"\n",
        "  def model_fn(features, labels, mode, params):  # pylint: disable=unused-argument\n",
        "    \"\"\"The `model_fn` for TPUEstimator.\"\"\"\n",
        "\n",
        "    input_ids = features[\"input_ids\"]\n",
        "    input_mask = features[\"input_mask\"]\n",
        "    segment_ids = features[\"segment_ids\"]\n",
        "    label_ids = features[\"label_ids\"]\n",
        "\n",
        "    is_predicting = (mode == tf.estimator.ModeKeys.PREDICT)\n",
        "    \n",
        "    # TRAIN and EVAL\n",
        "    if not is_predicting:\n",
        "\n",
        "      (loss, predicted_labels, log_probs) = create_model(\n",
        "        is_predicting, input_ids, input_mask, segment_ids, label_ids, num_labels)\n",
        "\n",
        "      train_op = bert.optimization.create_optimizer(\n",
        "          loss, learning_rate, num_train_steps, num_warmup_steps, use_tpu=False)\n",
        "\n",
        "      # Calculate evaluation metrics. \n",
        "      def metric_fn(label_ids, predicted_labels):\n",
        "        accuracy = tf.metrics.accuracy(label_ids, predicted_labels)\n",
        "        true_pos = tf.metrics.true_positives(\n",
        "            label_ids,\n",
        "            predicted_labels)\n",
        "        true_neg = tf.metrics.true_negatives(\n",
        "            label_ids,\n",
        "            predicted_labels)   \n",
        "        false_pos = tf.metrics.false_positives(\n",
        "            label_ids,\n",
        "            predicted_labels)  \n",
        "        false_neg = tf.metrics.false_negatives(\n",
        "            label_ids,\n",
        "            predicted_labels)\n",
        "        \n",
        "        return {\n",
        "            \"eval_accuracy\": accuracy,\n",
        "            \"true_positives\": true_pos,\n",
        "            \"true_negatives\": true_neg,\n",
        "            \"false_positives\": false_pos,\n",
        "            \"false_negatives\": false_neg,\n",
        "            }\n",
        "\n",
        "      eval_metrics = metric_fn(label_ids, predicted_labels)\n",
        "\n",
        "      if mode == tf.estimator.ModeKeys.TRAIN:\n",
        "        return tf.estimator.EstimatorSpec(mode=mode,\n",
        "          loss=loss,\n",
        "          train_op=train_op)\n",
        "      else:\n",
        "          return tf.estimator.EstimatorSpec(mode=mode,\n",
        "            loss=loss,\n",
        "            eval_metric_ops=eval_metrics)\n",
        "    else:\n",
        "      (predicted_labels, log_probs, output_layer) = create_model(\n",
        "        is_predicting, input_ids, input_mask, segment_ids, label_ids, num_labels)\n",
        "      predictions = {\n",
        "          'probabilities': log_probs,\n",
        "          'labels': predicted_labels,\n",
        "          'pooled_output': output_layer\n",
        "      }\n",
        "      return tf.estimator.EstimatorSpec(mode, predictions=predictions)\n",
        "\n",
        "  # Return the actual model function in the closure\n",
        "  return model_fn"
      ],
      "execution_count": null,
      "outputs": []
    },
    {
      "cell_type": "code",
      "metadata": {
        "id": "krNx-z91Izx4"
      },
      "source": [
        "BATCH_SIZE = 16\n",
        "LEARNING_RATE = 2e-5\n",
        "NUM_TRAIN_EPOCHS = 1.0\n",
        "# Warmup is a period of time where the learning rate is small and gradually increases--usually helps training.\n",
        "WARMUP_PROPORTION = 0.1\n",
        "# Model configs\n",
        "SAVE_CHECKPOINTS_STEPS = 300\n",
        "SAVE_SUMMARY_STEPS = 100\n",
        "\n",
        "# # Compute train and warmup steps from batch size\n",
        "num_train_steps = int(len(train_features) / BATCH_SIZE * NUM_TRAIN_EPOCHS)\n",
        "num_warmup_steps = int(num_train_steps * WARMUP_PROPORTION)\n",
        "\n",
        "# Specify output directory and number of checkpoint steps to save\n",
        "run_config = tf.estimator.RunConfig(\n",
        "    model_dir=OUTPUT_DIR,\n",
        "    save_summary_steps=SAVE_SUMMARY_STEPS,\n",
        "    save_checkpoints_steps=SAVE_CHECKPOINTS_STEPS)\n",
        "\n",
        "# Specify output directory and number of checkpoint steps to save\n",
        "run_config = tf.estimator.RunConfig(\n",
        "    model_dir=OUTPUT_DIR,\n",
        "    save_summary_steps=SAVE_SUMMARY_STEPS,\n",
        "    save_checkpoints_steps=SAVE_CHECKPOINTS_STEPS)"
      ],
      "execution_count": null,
      "outputs": []
    },
    {
      "cell_type": "code",
      "metadata": {
        "id": "TVqAeS5MI39i",
        "colab": {
          "base_uri": "https://localhost:8080/"
        },
        "outputId": "5ef02377-2e06-4ad4-aa09-92019e9f150b"
      },
      "source": [
        "num_train_steps, len(label_list)"
      ],
      "execution_count": null,
      "outputs": [
        {
          "output_type": "execute_result",
          "data": {
            "text/plain": [
              "(1929, 10)"
            ]
          },
          "metadata": {},
          "execution_count": 74
        }
      ]
    },
    {
      "cell_type": "code",
      "metadata": {
        "id": "umpZ4k9gWdpu",
        "colab": {
          "base_uri": "https://localhost:8080/"
        },
        "outputId": "96f633bb-8763-4463-da2b-9e5c0879bfd6"
      },
      "source": [
        "# #Initializing the model and the estimator   <USE THIS BLOCK IF YOU ARE TRAINING FOR THE FIRST TIME>\n",
        "model_fn = model_fn_builder(\n",
        "  num_labels=len(label_list),\n",
        "  learning_rate=LEARNING_RATE,\n",
        "  num_train_steps=num_train_steps,\n",
        "  num_warmup_steps=num_warmup_steps)\n",
        "\n",
        "estimator = tf.estimator.Estimator(\n",
        "  model_fn=model_fn,\n",
        "  config=run_config,\n",
        "  params={\"batch_size\": BATCH_SIZE})"
      ],
      "execution_count": null,
      "outputs": [
        {
          "output_type": "stream",
          "name": "stdout",
          "text": [
            "INFO:tensorflow:Using config: {'_model_dir': '/content/drive/MyDrive/MS_Final_Project/Model_checkpoints_CC', '_tf_random_seed': None, '_save_summary_steps': 100, '_save_checkpoints_steps': 300, '_save_checkpoints_secs': None, '_session_config': allow_soft_placement: true\n",
            "graph_options {\n",
            "  rewrite_options {\n",
            "    meta_optimizer_iterations: ONE\n",
            "  }\n",
            "}\n",
            ", '_keep_checkpoint_max': 5, '_keep_checkpoint_every_n_hours': 10000, '_log_step_count_steps': 100, '_train_distribute': None, '_device_fn': None, '_protocol': None, '_eval_distribute': None, '_experimental_distribute': None, '_experimental_max_worker_delay_secs': None, '_session_creation_timeout_secs': 7200, '_checkpoint_save_graph_def': True, '_service': None, '_cluster_spec': ClusterSpec({}), '_task_type': 'worker', '_task_id': 0, '_global_id_in_cluster': 0, '_master': '', '_evaluation_master': '', '_is_chief': True, '_num_ps_replicas': 0, '_num_worker_replicas': 1}\n"
          ]
        },
        {
          "output_type": "stream",
          "name": "stderr",
          "text": [
            "INFO:tensorflow:Using config: {'_model_dir': '/content/drive/MyDrive/MS_Final_Project/Model_checkpoints_CC', '_tf_random_seed': None, '_save_summary_steps': 100, '_save_checkpoints_steps': 300, '_save_checkpoints_secs': None, '_session_config': allow_soft_placement: true\n",
            "graph_options {\n",
            "  rewrite_options {\n",
            "    meta_optimizer_iterations: ONE\n",
            "  }\n",
            "}\n",
            ", '_keep_checkpoint_max': 5, '_keep_checkpoint_every_n_hours': 10000, '_log_step_count_steps': 100, '_train_distribute': None, '_device_fn': None, '_protocol': None, '_eval_distribute': None, '_experimental_distribute': None, '_experimental_max_worker_delay_secs': None, '_session_creation_timeout_secs': 7200, '_checkpoint_save_graph_def': True, '_service': None, '_cluster_spec': ClusterSpec({}), '_task_type': 'worker', '_task_id': 0, '_global_id_in_cluster': 0, '_master': '', '_evaluation_master': '', '_is_chief': True, '_num_ps_replicas': 0, '_num_worker_replicas': 1}\n"
          ]
        }
      ]
    },
    {
      "cell_type": "code",
      "metadata": {
        "id": "oSmYWE9WWwEG"
      },
      "source": [
        "def input_fn_builder(features, seq_length, is_training, drop_remainder):\n",
        "  \"\"\"Creates an `input_fn` closure to be passed to TPUEstimator.\"\"\"\n",
        "\n",
        "  all_input_ids = []\n",
        "  all_input_mask = []\n",
        "  all_segment_ids = []\n",
        "  all_label_ids = []\n",
        "\n",
        "  for feature in features:\n",
        "    all_input_ids.append(feature.input_ids)\n",
        "    all_input_mask.append(feature.input_mask)\n",
        "    all_segment_ids.append(feature.segment_ids)\n",
        "    all_label_ids.append(feature.label_id)\n",
        "\n",
        "  def input_fn(params):\n",
        "    \"\"\"The actual input function.\"\"\"\n",
        "    batch_size = params[\"batch_size\"]\n",
        "\n",
        "    num_examples = len(features)\n",
        "\n",
        "    # This is for demo purposes and does NOT scale to large data sets. We do\n",
        "    # not use Dataset.from_generator() because that uses tf.py_func which is\n",
        "    # not TPU compatible. The right way to load data is with TFRecordReader.\n",
        "    d = tf.data.Dataset.from_tensor_slices({\n",
        "        \"input_ids\":\n",
        "            tf.constant(\n",
        "                all_input_ids, shape=[num_examples, seq_length],\n",
        "                dtype=tf.int32),\n",
        "        \"input_mask\":\n",
        "            tf.constant(\n",
        "                all_input_mask,\n",
        "                shape=[num_examples, seq_length],\n",
        "                dtype=tf.int32),\n",
        "        \"segment_ids\":\n",
        "            tf.constant(\n",
        "                all_segment_ids,\n",
        "                shape=[num_examples, seq_length],\n",
        "                dtype=tf.int32),\n",
        "        \"label_ids\":\n",
        "            tf.constant(all_label_ids, shape=[num_examples], dtype=tf.int32),\n",
        "    })\n",
        "\n",
        "    if is_training:\n",
        "      d = d.repeat()\n",
        "      d = d.shuffle(buffer_size=100)\n",
        "\n",
        "    d = d.batch(batch_size=batch_size, drop_remainder=drop_remainder)\n",
        "    return d\n",
        "\n",
        "  return input_fn"
      ],
      "execution_count": null,
      "outputs": []
    },
    {
      "cell_type": "code",
      "metadata": {
        "id": "AHa51RE7I6Az"
      },
      "source": [
        "# Create an input function for training. drop_remainder = True for using TPUs.\n",
        "train_input_fn = input_fn_builder(\n",
        "    features=train_features,\n",
        "    seq_length=MAX_SEQ_LENGTH,\n",
        "    is_training=True,\n",
        "    drop_remainder=False)\n",
        "\n",
        "# Create an input function for validating. drop_remainder = True for using TPUs.\n",
        "val_input_fn = input_fn_builder(\n",
        "    features=val_features,\n",
        "    seq_length=MAX_SEQ_LENGTH,\n",
        "    is_training=False,\n",
        "    drop_remainder=False)"
      ],
      "execution_count": null,
      "outputs": []
    },
    {
      "cell_type": "code",
      "metadata": {
        "id": "mI0OWHspW64E"
      },
      "source": [
        "import datetime"
      ],
      "execution_count": null,
      "outputs": []
    },
    {
      "cell_type": "code",
      "metadata": {
        "id": "WSrrERU_W67U",
        "colab": {
          "base_uri": "https://localhost:8080/"
        },
        "outputId": "86e5c9f2-fa89-4202-f8c1-c14fa329f4fd"
      },
      "source": [
        "import tensorflow.compat.v1 as tf\n",
        "tf.disable_v2_behavior()"
      ],
      "execution_count": null,
      "outputs": [
        {
          "output_type": "stream",
          "name": "stdout",
          "text": [
            "WARNING:tensorflow:From /usr/local/lib/python3.7/dist-packages/tensorflow/python/compat/v2_compat.py:96: disable_resource_variables (from tensorflow.python.ops.variable_scope) is deprecated and will be removed in a future version.\n",
            "Instructions for updating:\n",
            "non-resource variables are not supported in the long term\n"
          ]
        },
        {
          "output_type": "stream",
          "name": "stderr",
          "text": [
            "WARNING:tensorflow:From /usr/local/lib/python3.7/dist-packages/tensorflow/python/compat/v2_compat.py:96: disable_resource_variables (from tensorflow.python.ops.variable_scope) is deprecated and will be removed in a future version.\n",
            "Instructions for updating:\n",
            "non-resource variables are not supported in the long term\n"
          ]
        }
      ]
    },
    {
      "cell_type": "code",
      "metadata": {
        "id": "vM1cnLbuDhT7",
        "colab": {
          "base_uri": "https://localhost:8080/"
        },
        "outputId": "e5e9c557-a539-49e1-b2df-c34a35b32fe2"
      },
      "source": [
        "# #Just for reference -->DO NOT RUN IT\n",
        "# #BERT: Fine Tuning Training & Evaluating\n",
        "print(f'Beginning Training!')\n",
        "#current_time = datetime.time()\n",
        "estimator.train(input_fn=train_input_fn, max_steps=num_train_steps)\n",
        "#print(\"Training took time \", datetime.now() - current_time)"
      ],
      "execution_count": null,
      "outputs": [
        {
          "output_type": "stream",
          "name": "stdout",
          "text": [
            "Beginning Training!\n",
            "WARNING:tensorflow:From /usr/local/lib/python3.7/dist-packages/tensorflow/python/training/training_util.py:236: Variable.initialized_value (from tensorflow.python.ops.variables) is deprecated and will be removed in a future version.\n",
            "Instructions for updating:\n",
            "Use Variable.read_value. Variables in 2.X are initialized automatically both in eager and graph (inside tf.defun) contexts.\n"
          ]
        },
        {
          "output_type": "stream",
          "name": "stderr",
          "text": [
            "WARNING:tensorflow:From /usr/local/lib/python3.7/dist-packages/tensorflow/python/training/training_util.py:236: Variable.initialized_value (from tensorflow.python.ops.variables) is deprecated and will be removed in a future version.\n",
            "Instructions for updating:\n",
            "Use Variable.read_value. Variables in 2.X are initialized automatically both in eager and graph (inside tf.defun) contexts.\n"
          ]
        },
        {
          "output_type": "stream",
          "name": "stdout",
          "text": [
            "INFO:tensorflow:Calling model_fn.\n"
          ]
        },
        {
          "output_type": "stream",
          "name": "stderr",
          "text": [
            "INFO:tensorflow:Calling model_fn.\n"
          ]
        },
        {
          "output_type": "stream",
          "name": "stdout",
          "text": [
            "INFO:tensorflow:Saver not created because there are no variables in the graph to restore\n"
          ]
        },
        {
          "output_type": "stream",
          "name": "stderr",
          "text": [
            "INFO:tensorflow:Saver not created because there are no variables in the graph to restore\n"
          ]
        },
        {
          "output_type": "stream",
          "name": "stdout",
          "text": [
            "WARNING:tensorflow:From /usr/local/lib/python3.7/dist-packages/tensorflow/python/util/dispatch.py:206: calling dropout (from tensorflow.python.ops.nn_ops) with keep_prob is deprecated and will be removed in a future version.\n",
            "Instructions for updating:\n",
            "Please use `rate` instead of `keep_prob`. Rate should be set to `rate = 1 - keep_prob`.\n"
          ]
        },
        {
          "output_type": "stream",
          "name": "stderr",
          "text": [
            "WARNING:tensorflow:From /usr/local/lib/python3.7/dist-packages/tensorflow/python/util/dispatch.py:206: calling dropout (from tensorflow.python.ops.nn_ops) with keep_prob is deprecated and will be removed in a future version.\n",
            "Instructions for updating:\n",
            "Please use `rate` instead of `keep_prob`. Rate should be set to `rate = 1 - keep_prob`.\n"
          ]
        },
        {
          "output_type": "stream",
          "name": "stdout",
          "text": [
            "INFO:tensorflow:Done calling model_fn.\n"
          ]
        },
        {
          "output_type": "stream",
          "name": "stderr",
          "text": [
            "INFO:tensorflow:Done calling model_fn.\n"
          ]
        },
        {
          "output_type": "stream",
          "name": "stdout",
          "text": [
            "INFO:tensorflow:Create CheckpointSaverHook.\n"
          ]
        },
        {
          "output_type": "stream",
          "name": "stderr",
          "text": [
            "INFO:tensorflow:Create CheckpointSaverHook.\n"
          ]
        },
        {
          "output_type": "stream",
          "name": "stdout",
          "text": [
            "INFO:tensorflow:Graph was finalized.\n"
          ]
        },
        {
          "output_type": "stream",
          "name": "stderr",
          "text": [
            "INFO:tensorflow:Graph was finalized.\n"
          ]
        },
        {
          "output_type": "stream",
          "name": "stdout",
          "text": [
            "INFO:tensorflow:Running local_init_op.\n"
          ]
        },
        {
          "output_type": "stream",
          "name": "stderr",
          "text": [
            "INFO:tensorflow:Running local_init_op.\n"
          ]
        },
        {
          "output_type": "stream",
          "name": "stdout",
          "text": [
            "INFO:tensorflow:Done running local_init_op.\n"
          ]
        },
        {
          "output_type": "stream",
          "name": "stderr",
          "text": [
            "INFO:tensorflow:Done running local_init_op.\n"
          ]
        },
        {
          "output_type": "stream",
          "name": "stdout",
          "text": [
            "INFO:tensorflow:Calling checkpoint listeners before saving checkpoint 0...\n"
          ]
        },
        {
          "output_type": "stream",
          "name": "stderr",
          "text": [
            "INFO:tensorflow:Calling checkpoint listeners before saving checkpoint 0...\n"
          ]
        },
        {
          "output_type": "stream",
          "name": "stdout",
          "text": [
            "INFO:tensorflow:Saving checkpoints for 0 into /content/drive/MyDrive/MS_Final_Project/Model_checkpoints_CC/model.ckpt.\n"
          ]
        },
        {
          "output_type": "stream",
          "name": "stderr",
          "text": [
            "INFO:tensorflow:Saving checkpoints for 0 into /content/drive/MyDrive/MS_Final_Project/Model_checkpoints_CC/model.ckpt.\n"
          ]
        },
        {
          "output_type": "stream",
          "name": "stdout",
          "text": [
            "INFO:tensorflow:Calling checkpoint listeners after saving checkpoint 0...\n"
          ]
        },
        {
          "output_type": "stream",
          "name": "stderr",
          "text": [
            "INFO:tensorflow:Calling checkpoint listeners after saving checkpoint 0...\n"
          ]
        },
        {
          "output_type": "stream",
          "name": "stdout",
          "text": [
            "INFO:tensorflow:loss = 2.1322918, step = 0\n"
          ]
        },
        {
          "output_type": "stream",
          "name": "stderr",
          "text": [
            "INFO:tensorflow:loss = 2.1322918, step = 0\n"
          ]
        },
        {
          "output_type": "stream",
          "name": "stdout",
          "text": [
            "INFO:tensorflow:global_step/sec: 1.92664\n"
          ]
        },
        {
          "output_type": "stream",
          "name": "stderr",
          "text": [
            "INFO:tensorflow:global_step/sec: 1.92664\n"
          ]
        },
        {
          "output_type": "stream",
          "name": "stdout",
          "text": [
            "INFO:tensorflow:loss = 1.5549669, step = 100 (51.906 sec)\n"
          ]
        },
        {
          "output_type": "stream",
          "name": "stderr",
          "text": [
            "INFO:tensorflow:loss = 1.5549669, step = 100 (51.906 sec)\n"
          ]
        },
        {
          "output_type": "stream",
          "name": "stdout",
          "text": [
            "INFO:tensorflow:global_step/sec: 2.47459\n"
          ]
        },
        {
          "output_type": "stream",
          "name": "stderr",
          "text": [
            "INFO:tensorflow:global_step/sec: 2.47459\n"
          ]
        },
        {
          "output_type": "stream",
          "name": "stdout",
          "text": [
            "INFO:tensorflow:loss = 0.7525867, step = 200 (40.411 sec)\n"
          ]
        },
        {
          "output_type": "stream",
          "name": "stderr",
          "text": [
            "INFO:tensorflow:loss = 0.7525867, step = 200 (40.411 sec)\n"
          ]
        },
        {
          "output_type": "stream",
          "name": "stdout",
          "text": [
            "INFO:tensorflow:Calling checkpoint listeners before saving checkpoint 300...\n"
          ]
        },
        {
          "output_type": "stream",
          "name": "stderr",
          "text": [
            "INFO:tensorflow:Calling checkpoint listeners before saving checkpoint 300...\n"
          ]
        },
        {
          "output_type": "stream",
          "name": "stdout",
          "text": [
            "INFO:tensorflow:Saving checkpoints for 300 into /content/drive/MyDrive/MS_Final_Project/Model_checkpoints_CC/model.ckpt.\n"
          ]
        },
        {
          "output_type": "stream",
          "name": "stderr",
          "text": [
            "INFO:tensorflow:Saving checkpoints for 300 into /content/drive/MyDrive/MS_Final_Project/Model_checkpoints_CC/model.ckpt.\n"
          ]
        },
        {
          "output_type": "stream",
          "name": "stdout",
          "text": [
            "INFO:tensorflow:Calling checkpoint listeners after saving checkpoint 300...\n"
          ]
        },
        {
          "output_type": "stream",
          "name": "stderr",
          "text": [
            "INFO:tensorflow:Calling checkpoint listeners after saving checkpoint 300...\n"
          ]
        },
        {
          "output_type": "stream",
          "name": "stdout",
          "text": [
            "INFO:tensorflow:global_step/sec: 2.10487\n"
          ]
        },
        {
          "output_type": "stream",
          "name": "stderr",
          "text": [
            "INFO:tensorflow:global_step/sec: 2.10487\n"
          ]
        },
        {
          "output_type": "stream",
          "name": "stdout",
          "text": [
            "INFO:tensorflow:loss = 0.24837455, step = 300 (47.514 sec)\n"
          ]
        },
        {
          "output_type": "stream",
          "name": "stderr",
          "text": [
            "INFO:tensorflow:loss = 0.24837455, step = 300 (47.514 sec)\n"
          ]
        },
        {
          "output_type": "stream",
          "name": "stdout",
          "text": [
            "INFO:tensorflow:global_step/sec: 2.4743\n"
          ]
        },
        {
          "output_type": "stream",
          "name": "stderr",
          "text": [
            "INFO:tensorflow:global_step/sec: 2.4743\n"
          ]
        },
        {
          "output_type": "stream",
          "name": "stdout",
          "text": [
            "INFO:tensorflow:loss = 0.49126095, step = 400 (40.410 sec)\n"
          ]
        },
        {
          "output_type": "stream",
          "name": "stderr",
          "text": [
            "INFO:tensorflow:loss = 0.49126095, step = 400 (40.410 sec)\n"
          ]
        },
        {
          "output_type": "stream",
          "name": "stdout",
          "text": [
            "INFO:tensorflow:global_step/sec: 2.47588\n"
          ]
        },
        {
          "output_type": "stream",
          "name": "stderr",
          "text": [
            "INFO:tensorflow:global_step/sec: 2.47588\n"
          ]
        },
        {
          "output_type": "stream",
          "name": "stdout",
          "text": [
            "INFO:tensorflow:loss = 0.42685127, step = 500 (40.390 sec)\n"
          ]
        },
        {
          "output_type": "stream",
          "name": "stderr",
          "text": [
            "INFO:tensorflow:loss = 0.42685127, step = 500 (40.390 sec)\n"
          ]
        },
        {
          "output_type": "stream",
          "name": "stdout",
          "text": [
            "INFO:tensorflow:Calling checkpoint listeners before saving checkpoint 600...\n"
          ]
        },
        {
          "output_type": "stream",
          "name": "stderr",
          "text": [
            "INFO:tensorflow:Calling checkpoint listeners before saving checkpoint 600...\n"
          ]
        },
        {
          "output_type": "stream",
          "name": "stdout",
          "text": [
            "INFO:tensorflow:Saving checkpoints for 600 into /content/drive/MyDrive/MS_Final_Project/Model_checkpoints_CC/model.ckpt.\n"
          ]
        },
        {
          "output_type": "stream",
          "name": "stderr",
          "text": [
            "INFO:tensorflow:Saving checkpoints for 600 into /content/drive/MyDrive/MS_Final_Project/Model_checkpoints_CC/model.ckpt.\n"
          ]
        },
        {
          "output_type": "stream",
          "name": "stdout",
          "text": [
            "INFO:tensorflow:Calling checkpoint listeners after saving checkpoint 600...\n"
          ]
        },
        {
          "output_type": "stream",
          "name": "stderr",
          "text": [
            "INFO:tensorflow:Calling checkpoint listeners after saving checkpoint 600...\n"
          ]
        },
        {
          "output_type": "stream",
          "name": "stdout",
          "text": [
            "INFO:tensorflow:global_step/sec: 2.10351\n"
          ]
        },
        {
          "output_type": "stream",
          "name": "stderr",
          "text": [
            "INFO:tensorflow:global_step/sec: 2.10351\n"
          ]
        },
        {
          "output_type": "stream",
          "name": "stdout",
          "text": [
            "INFO:tensorflow:loss = 0.85342455, step = 600 (47.539 sec)\n"
          ]
        },
        {
          "output_type": "stream",
          "name": "stderr",
          "text": [
            "INFO:tensorflow:loss = 0.85342455, step = 600 (47.539 sec)\n"
          ]
        },
        {
          "output_type": "stream",
          "name": "stdout",
          "text": [
            "INFO:tensorflow:global_step/sec: 2.47504\n"
          ]
        },
        {
          "output_type": "stream",
          "name": "stderr",
          "text": [
            "INFO:tensorflow:global_step/sec: 2.47504\n"
          ]
        },
        {
          "output_type": "stream",
          "name": "stdout",
          "text": [
            "INFO:tensorflow:loss = 0.7204707, step = 700 (40.404 sec)\n"
          ]
        },
        {
          "output_type": "stream",
          "name": "stderr",
          "text": [
            "INFO:tensorflow:loss = 0.7204707, step = 700 (40.404 sec)\n"
          ]
        },
        {
          "output_type": "stream",
          "name": "stdout",
          "text": [
            "INFO:tensorflow:global_step/sec: 2.4761\n"
          ]
        },
        {
          "output_type": "stream",
          "name": "stderr",
          "text": [
            "INFO:tensorflow:global_step/sec: 2.4761\n"
          ]
        },
        {
          "output_type": "stream",
          "name": "stdout",
          "text": [
            "INFO:tensorflow:loss = 0.37335747, step = 800 (40.385 sec)\n"
          ]
        },
        {
          "output_type": "stream",
          "name": "stderr",
          "text": [
            "INFO:tensorflow:loss = 0.37335747, step = 800 (40.385 sec)\n"
          ]
        },
        {
          "output_type": "stream",
          "name": "stdout",
          "text": [
            "INFO:tensorflow:Calling checkpoint listeners before saving checkpoint 900...\n"
          ]
        },
        {
          "output_type": "stream",
          "name": "stderr",
          "text": [
            "INFO:tensorflow:Calling checkpoint listeners before saving checkpoint 900...\n"
          ]
        },
        {
          "output_type": "stream",
          "name": "stdout",
          "text": [
            "INFO:tensorflow:Saving checkpoints for 900 into /content/drive/MyDrive/MS_Final_Project/Model_checkpoints_CC/model.ckpt.\n"
          ]
        },
        {
          "output_type": "stream",
          "name": "stderr",
          "text": [
            "INFO:tensorflow:Saving checkpoints for 900 into /content/drive/MyDrive/MS_Final_Project/Model_checkpoints_CC/model.ckpt.\n"
          ]
        },
        {
          "output_type": "stream",
          "name": "stdout",
          "text": [
            "INFO:tensorflow:Calling checkpoint listeners after saving checkpoint 900...\n"
          ]
        },
        {
          "output_type": "stream",
          "name": "stderr",
          "text": [
            "INFO:tensorflow:Calling checkpoint listeners after saving checkpoint 900...\n"
          ]
        },
        {
          "output_type": "stream",
          "name": "stdout",
          "text": [
            "INFO:tensorflow:global_step/sec: 2.13399\n"
          ]
        },
        {
          "output_type": "stream",
          "name": "stderr",
          "text": [
            "INFO:tensorflow:global_step/sec: 2.13399\n"
          ]
        },
        {
          "output_type": "stream",
          "name": "stdout",
          "text": [
            "INFO:tensorflow:loss = 0.1747292, step = 900 (46.860 sec)\n"
          ]
        },
        {
          "output_type": "stream",
          "name": "stderr",
          "text": [
            "INFO:tensorflow:loss = 0.1747292, step = 900 (46.860 sec)\n"
          ]
        },
        {
          "output_type": "stream",
          "name": "stdout",
          "text": [
            "INFO:tensorflow:global_step/sec: 2.47446\n"
          ]
        },
        {
          "output_type": "stream",
          "name": "stderr",
          "text": [
            "INFO:tensorflow:global_step/sec: 2.47446\n"
          ]
        },
        {
          "output_type": "stream",
          "name": "stdout",
          "text": [
            "INFO:tensorflow:loss = 0.42678523, step = 1000 (40.413 sec)\n"
          ]
        },
        {
          "output_type": "stream",
          "name": "stderr",
          "text": [
            "INFO:tensorflow:loss = 0.42678523, step = 1000 (40.413 sec)\n"
          ]
        },
        {
          "output_type": "stream",
          "name": "stdout",
          "text": [
            "INFO:tensorflow:global_step/sec: 2.47534\n"
          ]
        },
        {
          "output_type": "stream",
          "name": "stderr",
          "text": [
            "INFO:tensorflow:global_step/sec: 2.47534\n"
          ]
        },
        {
          "output_type": "stream",
          "name": "stdout",
          "text": [
            "INFO:tensorflow:loss = 0.48908854, step = 1100 (40.401 sec)\n"
          ]
        },
        {
          "output_type": "stream",
          "name": "stderr",
          "text": [
            "INFO:tensorflow:loss = 0.48908854, step = 1100 (40.401 sec)\n"
          ]
        },
        {
          "output_type": "stream",
          "name": "stdout",
          "text": [
            "INFO:tensorflow:Calling checkpoint listeners before saving checkpoint 1200...\n"
          ]
        },
        {
          "output_type": "stream",
          "name": "stderr",
          "text": [
            "INFO:tensorflow:Calling checkpoint listeners before saving checkpoint 1200...\n"
          ]
        },
        {
          "output_type": "stream",
          "name": "stdout",
          "text": [
            "INFO:tensorflow:Saving checkpoints for 1200 into /content/drive/MyDrive/MS_Final_Project/Model_checkpoints_CC/model.ckpt.\n"
          ]
        },
        {
          "output_type": "stream",
          "name": "stderr",
          "text": [
            "INFO:tensorflow:Saving checkpoints for 1200 into /content/drive/MyDrive/MS_Final_Project/Model_checkpoints_CC/model.ckpt.\n"
          ]
        },
        {
          "output_type": "stream",
          "name": "stdout",
          "text": [
            "INFO:tensorflow:Calling checkpoint listeners after saving checkpoint 1200...\n"
          ]
        },
        {
          "output_type": "stream",
          "name": "stderr",
          "text": [
            "INFO:tensorflow:Calling checkpoint listeners after saving checkpoint 1200...\n"
          ]
        },
        {
          "output_type": "stream",
          "name": "stdout",
          "text": [
            "INFO:tensorflow:global_step/sec: 2.13585\n"
          ]
        },
        {
          "output_type": "stream",
          "name": "stderr",
          "text": [
            "INFO:tensorflow:global_step/sec: 2.13585\n"
          ]
        },
        {
          "output_type": "stream",
          "name": "stdout",
          "text": [
            "INFO:tensorflow:loss = 0.2727156, step = 1200 (46.818 sec)\n"
          ]
        },
        {
          "output_type": "stream",
          "name": "stderr",
          "text": [
            "INFO:tensorflow:loss = 0.2727156, step = 1200 (46.818 sec)\n"
          ]
        },
        {
          "output_type": "stream",
          "name": "stdout",
          "text": [
            "INFO:tensorflow:global_step/sec: 2.47516\n"
          ]
        },
        {
          "output_type": "stream",
          "name": "stderr",
          "text": [
            "INFO:tensorflow:global_step/sec: 2.47516\n"
          ]
        },
        {
          "output_type": "stream",
          "name": "stdout",
          "text": [
            "INFO:tensorflow:loss = 0.54249394, step = 1300 (40.401 sec)\n"
          ]
        },
        {
          "output_type": "stream",
          "name": "stderr",
          "text": [
            "INFO:tensorflow:loss = 0.54249394, step = 1300 (40.401 sec)\n"
          ]
        },
        {
          "output_type": "stream",
          "name": "stdout",
          "text": [
            "INFO:tensorflow:global_step/sec: 2.47537\n"
          ]
        },
        {
          "output_type": "stream",
          "name": "stderr",
          "text": [
            "INFO:tensorflow:global_step/sec: 2.47537\n"
          ]
        },
        {
          "output_type": "stream",
          "name": "stdout",
          "text": [
            "INFO:tensorflow:loss = 0.82631326, step = 1400 (40.398 sec)\n"
          ]
        },
        {
          "output_type": "stream",
          "name": "stderr",
          "text": [
            "INFO:tensorflow:loss = 0.82631326, step = 1400 (40.398 sec)\n"
          ]
        },
        {
          "output_type": "stream",
          "name": "stdout",
          "text": [
            "INFO:tensorflow:Calling checkpoint listeners before saving checkpoint 1500...\n"
          ]
        },
        {
          "output_type": "stream",
          "name": "stderr",
          "text": [
            "INFO:tensorflow:Calling checkpoint listeners before saving checkpoint 1500...\n"
          ]
        },
        {
          "output_type": "stream",
          "name": "stdout",
          "text": [
            "INFO:tensorflow:Saving checkpoints for 1500 into /content/drive/MyDrive/MS_Final_Project/Model_checkpoints_CC/model.ckpt.\n"
          ]
        },
        {
          "output_type": "stream",
          "name": "stderr",
          "text": [
            "INFO:tensorflow:Saving checkpoints for 1500 into /content/drive/MyDrive/MS_Final_Project/Model_checkpoints_CC/model.ckpt.\n"
          ]
        },
        {
          "output_type": "stream",
          "name": "stdout",
          "text": [
            "WARNING:tensorflow:From /usr/local/lib/python3.7/dist-packages/tensorflow/python/training/saver.py:971: remove_checkpoint (from tensorflow.python.training.checkpoint_management) is deprecated and will be removed in a future version.\n",
            "Instructions for updating:\n",
            "Use standard file APIs to delete files with this prefix.\n"
          ]
        },
        {
          "output_type": "stream",
          "name": "stderr",
          "text": [
            "WARNING:tensorflow:From /usr/local/lib/python3.7/dist-packages/tensorflow/python/training/saver.py:971: remove_checkpoint (from tensorflow.python.training.checkpoint_management) is deprecated and will be removed in a future version.\n",
            "Instructions for updating:\n",
            "Use standard file APIs to delete files with this prefix.\n"
          ]
        },
        {
          "output_type": "stream",
          "name": "stdout",
          "text": [
            "INFO:tensorflow:Calling checkpoint listeners after saving checkpoint 1500...\n"
          ]
        },
        {
          "output_type": "stream",
          "name": "stderr",
          "text": [
            "INFO:tensorflow:Calling checkpoint listeners after saving checkpoint 1500...\n"
          ]
        },
        {
          "output_type": "stream",
          "name": "stdout",
          "text": [
            "INFO:tensorflow:global_step/sec: 2.13867\n"
          ]
        },
        {
          "output_type": "stream",
          "name": "stderr",
          "text": [
            "INFO:tensorflow:global_step/sec: 2.13867\n"
          ]
        },
        {
          "output_type": "stream",
          "name": "stdout",
          "text": [
            "INFO:tensorflow:loss = 0.078925475, step = 1500 (46.758 sec)\n"
          ]
        },
        {
          "output_type": "stream",
          "name": "stderr",
          "text": [
            "INFO:tensorflow:loss = 0.078925475, step = 1500 (46.758 sec)\n"
          ]
        },
        {
          "output_type": "stream",
          "name": "stdout",
          "text": [
            "INFO:tensorflow:global_step/sec: 2.4742\n"
          ]
        },
        {
          "output_type": "stream",
          "name": "stderr",
          "text": [
            "INFO:tensorflow:global_step/sec: 2.4742\n"
          ]
        },
        {
          "output_type": "stream",
          "name": "stdout",
          "text": [
            "INFO:tensorflow:loss = 0.22944768, step = 1600 (40.417 sec)\n"
          ]
        },
        {
          "output_type": "stream",
          "name": "stderr",
          "text": [
            "INFO:tensorflow:loss = 0.22944768, step = 1600 (40.417 sec)\n"
          ]
        },
        {
          "output_type": "stream",
          "name": "stdout",
          "text": [
            "INFO:tensorflow:global_step/sec: 2.47577\n"
          ]
        },
        {
          "output_type": "stream",
          "name": "stderr",
          "text": [
            "INFO:tensorflow:global_step/sec: 2.47577\n"
          ]
        },
        {
          "output_type": "stream",
          "name": "stdout",
          "text": [
            "INFO:tensorflow:loss = 1.1519765, step = 1700 (40.391 sec)\n"
          ]
        },
        {
          "output_type": "stream",
          "name": "stderr",
          "text": [
            "INFO:tensorflow:loss = 1.1519765, step = 1700 (40.391 sec)\n"
          ]
        },
        {
          "output_type": "stream",
          "name": "stdout",
          "text": [
            "INFO:tensorflow:Calling checkpoint listeners before saving checkpoint 1800...\n"
          ]
        },
        {
          "output_type": "stream",
          "name": "stderr",
          "text": [
            "INFO:tensorflow:Calling checkpoint listeners before saving checkpoint 1800...\n"
          ]
        },
        {
          "output_type": "stream",
          "name": "stdout",
          "text": [
            "INFO:tensorflow:Saving checkpoints for 1800 into /content/drive/MyDrive/MS_Final_Project/Model_checkpoints_CC/model.ckpt.\n"
          ]
        },
        {
          "output_type": "stream",
          "name": "stderr",
          "text": [
            "INFO:tensorflow:Saving checkpoints for 1800 into /content/drive/MyDrive/MS_Final_Project/Model_checkpoints_CC/model.ckpt.\n"
          ]
        },
        {
          "output_type": "stream",
          "name": "stdout",
          "text": [
            "INFO:tensorflow:Calling checkpoint listeners after saving checkpoint 1800...\n"
          ]
        },
        {
          "output_type": "stream",
          "name": "stderr",
          "text": [
            "INFO:tensorflow:Calling checkpoint listeners after saving checkpoint 1800...\n"
          ]
        },
        {
          "output_type": "stream",
          "name": "stdout",
          "text": [
            "INFO:tensorflow:global_step/sec: 2.12621\n"
          ]
        },
        {
          "output_type": "stream",
          "name": "stderr",
          "text": [
            "INFO:tensorflow:global_step/sec: 2.12621\n"
          ]
        },
        {
          "output_type": "stream",
          "name": "stdout",
          "text": [
            "INFO:tensorflow:loss = 0.7323273, step = 1800 (47.034 sec)\n"
          ]
        },
        {
          "output_type": "stream",
          "name": "stderr",
          "text": [
            "INFO:tensorflow:loss = 0.7323273, step = 1800 (47.034 sec)\n"
          ]
        },
        {
          "output_type": "stream",
          "name": "stdout",
          "text": [
            "INFO:tensorflow:global_step/sec: 2.47378\n"
          ]
        },
        {
          "output_type": "stream",
          "name": "stderr",
          "text": [
            "INFO:tensorflow:global_step/sec: 2.47378\n"
          ]
        },
        {
          "output_type": "stream",
          "name": "stdout",
          "text": [
            "INFO:tensorflow:loss = 0.04308114, step = 1900 (40.422 sec)\n"
          ]
        },
        {
          "output_type": "stream",
          "name": "stderr",
          "text": [
            "INFO:tensorflow:loss = 0.04308114, step = 1900 (40.422 sec)\n"
          ]
        },
        {
          "output_type": "stream",
          "name": "stdout",
          "text": [
            "INFO:tensorflow:Calling checkpoint listeners before saving checkpoint 1929...\n"
          ]
        },
        {
          "output_type": "stream",
          "name": "stderr",
          "text": [
            "INFO:tensorflow:Calling checkpoint listeners before saving checkpoint 1929...\n"
          ]
        },
        {
          "output_type": "stream",
          "name": "stdout",
          "text": [
            "INFO:tensorflow:Saving checkpoints for 1929 into /content/drive/MyDrive/MS_Final_Project/Model_checkpoints_CC/model.ckpt.\n"
          ]
        },
        {
          "output_type": "stream",
          "name": "stderr",
          "text": [
            "INFO:tensorflow:Saving checkpoints for 1929 into /content/drive/MyDrive/MS_Final_Project/Model_checkpoints_CC/model.ckpt.\n"
          ]
        },
        {
          "output_type": "stream",
          "name": "stdout",
          "text": [
            "INFO:tensorflow:Calling checkpoint listeners after saving checkpoint 1929...\n"
          ]
        },
        {
          "output_type": "stream",
          "name": "stderr",
          "text": [
            "INFO:tensorflow:Calling checkpoint listeners after saving checkpoint 1929...\n"
          ]
        },
        {
          "output_type": "stream",
          "name": "stdout",
          "text": [
            "INFO:tensorflow:Loss for final step: 0.7501347.\n"
          ]
        },
        {
          "output_type": "stream",
          "name": "stderr",
          "text": [
            "INFO:tensorflow:Loss for final step: 0.7501347.\n"
          ]
        },
        {
          "output_type": "execute_result",
          "data": {
            "text/plain": [
              "<tensorflow_estimator.python.estimator.estimator.EstimatorV2 at 0x7fe552dfd890>"
            ]
          },
          "metadata": {},
          "execution_count": 80
        }
      ]
    },
    {
      "cell_type": "code",
      "metadata": {
        "id": "wNyCH35_W-A_"
      },
      "source": [
        "#Run this If you want to load the model \n",
        "#Loading a specific check point : \n",
        "# warm_start = tf.estimator.WarmStartSettings(ckpt_to_initialize_from='/content/drive/MyDrive/MS_Final_Project/Model_checkpoints_CC_folder/Model_checkpoints_CC/model.ckpt-1200.meta')\n",
        "\n",
        "\n",
        "# model_fn = model_fn_builder(\n",
        "#   num_labels=len(label_list),\n",
        "#   learning_rate=LEARNING_RATE,\n",
        "#   num_train_steps=num_train_steps,\n",
        "#   num_warmup_steps=num_warmup_steps)\n",
        "\n",
        "# estimator=tf.estimator.Estimator(model_fn=model_fn,\n",
        "#                        config=run_config,\n",
        "#                        params={\"batch_size\": BATCH_SIZE},\n",
        "#                        warm_start_from=warm_start)"
      ],
      "execution_count": null,
      "outputs": []
    },
    {
      "cell_type": "code",
      "metadata": {
        "colab": {
          "base_uri": "https://localhost:8080/",
          "height": 35
        },
        "id": "69hfL8fdA8mW",
        "outputId": "49123bf8-efca-4c48-fcd3-31e21f9add4a"
      },
      "source": [
        "import tensorflow\n",
        "tensorflow.__version__"
      ],
      "execution_count": null,
      "outputs": [
        {
          "output_type": "execute_result",
          "data": {
            "application/vnd.google.colaboratory.intrinsic+json": {
              "type": "string"
            },
            "text/plain": [
              "'2.5.0'"
            ]
          },
          "metadata": {},
          "execution_count": 82
        }
      ]
    },
    {
      "cell_type": "code",
      "metadata": {
        "id": "_jvFK3VQBM7K"
      },
      "source": [
        "# import tensorflow.compat.v1 as tf\n",
        "# tf.disable_v2_behavior()"
      ],
      "execution_count": null,
      "outputs": []
    },
    {
      "cell_type": "code",
      "metadata": {
        "id": "pvk0K1c5W-G1",
        "colab": {
          "base_uri": "https://localhost:8080/"
        },
        "outputId": "7bde72c3-5b62-42d8-be5f-d0376beb6a1e"
      },
      "source": [
        "#Evaluation of the BERT model\n",
        "estimator.evaluate(input_fn=val_input_fn, steps=None)"
      ],
      "execution_count": null,
      "outputs": [
        {
          "output_type": "stream",
          "name": "stdout",
          "text": [
            "INFO:tensorflow:Calling model_fn.\n"
          ]
        },
        {
          "output_type": "stream",
          "name": "stderr",
          "text": [
            "INFO:tensorflow:Calling model_fn.\n"
          ]
        },
        {
          "output_type": "stream",
          "name": "stdout",
          "text": [
            "INFO:tensorflow:Saver not created because there are no variables in the graph to restore\n"
          ]
        },
        {
          "output_type": "stream",
          "name": "stderr",
          "text": [
            "INFO:tensorflow:Saver not created because there are no variables in the graph to restore\n"
          ]
        },
        {
          "output_type": "stream",
          "name": "stdout",
          "text": [
            "INFO:tensorflow:Done calling model_fn.\n"
          ]
        },
        {
          "output_type": "stream",
          "name": "stderr",
          "text": [
            "INFO:tensorflow:Done calling model_fn.\n"
          ]
        },
        {
          "output_type": "stream",
          "name": "stdout",
          "text": [
            "INFO:tensorflow:Starting evaluation at 2021-10-15T16:39:48\n"
          ]
        },
        {
          "output_type": "stream",
          "name": "stderr",
          "text": [
            "INFO:tensorflow:Starting evaluation at 2021-10-15T16:39:48\n"
          ]
        },
        {
          "output_type": "stream",
          "name": "stdout",
          "text": [
            "INFO:tensorflow:Graph was finalized.\n"
          ]
        },
        {
          "output_type": "stream",
          "name": "stderr",
          "text": [
            "INFO:tensorflow:Graph was finalized.\n"
          ]
        },
        {
          "output_type": "stream",
          "name": "stdout",
          "text": [
            "INFO:tensorflow:Restoring parameters from /content/drive/MyDrive/MS_Final_Project/Model_checkpoints_CC/model.ckpt-1929\n"
          ]
        },
        {
          "output_type": "stream",
          "name": "stderr",
          "text": [
            "INFO:tensorflow:Restoring parameters from /content/drive/MyDrive/MS_Final_Project/Model_checkpoints_CC/model.ckpt-1929\n"
          ]
        },
        {
          "output_type": "stream",
          "name": "stdout",
          "text": [
            "INFO:tensorflow:Running local_init_op.\n"
          ]
        },
        {
          "output_type": "stream",
          "name": "stderr",
          "text": [
            "INFO:tensorflow:Running local_init_op.\n"
          ]
        },
        {
          "output_type": "stream",
          "name": "stdout",
          "text": [
            "INFO:tensorflow:Done running local_init_op.\n"
          ]
        },
        {
          "output_type": "stream",
          "name": "stderr",
          "text": [
            "INFO:tensorflow:Done running local_init_op.\n"
          ]
        },
        {
          "output_type": "stream",
          "name": "stdout",
          "text": [
            "INFO:tensorflow:Inference Time : 69.45966s\n"
          ]
        },
        {
          "output_type": "stream",
          "name": "stderr",
          "text": [
            "INFO:tensorflow:Inference Time : 69.45966s\n"
          ]
        },
        {
          "output_type": "stream",
          "name": "stdout",
          "text": [
            "INFO:tensorflow:Finished evaluation at 2021-10-15-16:40:58\n"
          ]
        },
        {
          "output_type": "stream",
          "name": "stderr",
          "text": [
            "INFO:tensorflow:Finished evaluation at 2021-10-15-16:40:58\n"
          ]
        },
        {
          "output_type": "stream",
          "name": "stdout",
          "text": [
            "INFO:tensorflow:Saving dict for global step 1929: eval_accuracy = 0.85717976, false_negatives = 159.0, false_positives = 161.0, global_step = 1929, loss = 0.48118463, true_negatives = 672.0, true_positives = 6752.0\n"
          ]
        },
        {
          "output_type": "stream",
          "name": "stderr",
          "text": [
            "INFO:tensorflow:Saving dict for global step 1929: eval_accuracy = 0.85717976, false_negatives = 159.0, false_positives = 161.0, global_step = 1929, loss = 0.48118463, true_negatives = 672.0, true_positives = 6752.0\n"
          ]
        },
        {
          "output_type": "stream",
          "name": "stdout",
          "text": [
            "INFO:tensorflow:Saving 'checkpoint_path' summary for global step 1929: /content/drive/MyDrive/MS_Final_Project/Model_checkpoints_CC/model.ckpt-1929\n"
          ]
        },
        {
          "output_type": "stream",
          "name": "stderr",
          "text": [
            "INFO:tensorflow:Saving 'checkpoint_path' summary for global step 1929: /content/drive/MyDrive/MS_Final_Project/Model_checkpoints_CC/model.ckpt-1929\n"
          ]
        },
        {
          "output_type": "execute_result",
          "data": {
            "text/plain": [
              "{'eval_accuracy': 0.85717976,\n",
              " 'false_negatives': 159.0,\n",
              " 'false_positives': 161.0,\n",
              " 'global_step': 1929,\n",
              " 'loss': 0.48118463,\n",
              " 'true_negatives': 672.0,\n",
              " 'true_positives': 6752.0}"
            ]
          },
          "metadata": {},
          "execution_count": 84
        }
      ]
    },
    {
      "cell_type": "code",
      "metadata": {
        "id": "MjH1IrCZaSMC"
      },
      "source": [
        "# Create an input function for validating. drop_remainder = True for using TPUs.\n",
        "test_input_fn = input_fn_builder(\n",
        "    features=test_features,\n",
        "    seq_length=MAX_SEQ_LENGTH,\n",
        "    is_training=False,\n",
        "    drop_remainder=False)"
      ],
      "execution_count": null,
      "outputs": []
    },
    {
      "cell_type": "code",
      "metadata": {
        "id": "k9Zibu_Lalro"
      },
      "source": [
        "# import tensorflow.compat.v1 as tf\n",
        "# tf.disable_v2_behavior()"
      ],
      "execution_count": null,
      "outputs": []
    },
    {
      "cell_type": "code",
      "metadata": {
        "id": "OPJbjGZOaNaI",
        "colab": {
          "base_uri": "https://localhost:8080/"
        },
        "outputId": "2a1ce345-73cb-48db-e942-7b2ee0ff0228"
      },
      "source": [
        "estimator.evaluate(input_fn=test_input_fn, steps=None)"
      ],
      "execution_count": null,
      "outputs": [
        {
          "output_type": "stream",
          "name": "stdout",
          "text": [
            "INFO:tensorflow:Calling model_fn.\n"
          ]
        },
        {
          "output_type": "stream",
          "name": "stderr",
          "text": [
            "INFO:tensorflow:Calling model_fn.\n"
          ]
        },
        {
          "output_type": "stream",
          "name": "stdout",
          "text": [
            "INFO:tensorflow:Saver not created because there are no variables in the graph to restore\n"
          ]
        },
        {
          "output_type": "stream",
          "name": "stderr",
          "text": [
            "INFO:tensorflow:Saver not created because there are no variables in the graph to restore\n"
          ]
        },
        {
          "output_type": "stream",
          "name": "stdout",
          "text": [
            "INFO:tensorflow:Done calling model_fn.\n"
          ]
        },
        {
          "output_type": "stream",
          "name": "stderr",
          "text": [
            "INFO:tensorflow:Done calling model_fn.\n"
          ]
        },
        {
          "output_type": "stream",
          "name": "stdout",
          "text": [
            "INFO:tensorflow:Starting evaluation at 2021-10-15T16:41:12\n"
          ]
        },
        {
          "output_type": "stream",
          "name": "stderr",
          "text": [
            "INFO:tensorflow:Starting evaluation at 2021-10-15T16:41:12\n"
          ]
        },
        {
          "output_type": "stream",
          "name": "stdout",
          "text": [
            "INFO:tensorflow:Graph was finalized.\n"
          ]
        },
        {
          "output_type": "stream",
          "name": "stderr",
          "text": [
            "INFO:tensorflow:Graph was finalized.\n"
          ]
        },
        {
          "output_type": "stream",
          "name": "stdout",
          "text": [
            "INFO:tensorflow:Restoring parameters from /content/drive/MyDrive/MS_Final_Project/Model_checkpoints_CC/model.ckpt-1929\n"
          ]
        },
        {
          "output_type": "stream",
          "name": "stderr",
          "text": [
            "INFO:tensorflow:Restoring parameters from /content/drive/MyDrive/MS_Final_Project/Model_checkpoints_CC/model.ckpt-1929\n"
          ]
        },
        {
          "output_type": "stream",
          "name": "stdout",
          "text": [
            "INFO:tensorflow:Running local_init_op.\n"
          ]
        },
        {
          "output_type": "stream",
          "name": "stderr",
          "text": [
            "INFO:tensorflow:Running local_init_op.\n"
          ]
        },
        {
          "output_type": "stream",
          "name": "stdout",
          "text": [
            "INFO:tensorflow:Done running local_init_op.\n"
          ]
        },
        {
          "output_type": "stream",
          "name": "stderr",
          "text": [
            "INFO:tensorflow:Done running local_init_op.\n"
          ]
        },
        {
          "output_type": "stream",
          "name": "stdout",
          "text": [
            "INFO:tensorflow:Inference Time : 13.86246s\n"
          ]
        },
        {
          "output_type": "stream",
          "name": "stderr",
          "text": [
            "INFO:tensorflow:Inference Time : 13.86246s\n"
          ]
        },
        {
          "output_type": "stream",
          "name": "stdout",
          "text": [
            "INFO:tensorflow:Finished evaluation at 2021-10-15-16:41:26\n"
          ]
        },
        {
          "output_type": "stream",
          "name": "stderr",
          "text": [
            "INFO:tensorflow:Finished evaluation at 2021-10-15-16:41:26\n"
          ]
        },
        {
          "output_type": "stream",
          "name": "stdout",
          "text": [
            "INFO:tensorflow:Saving dict for global step 1929: eval_accuracy = 0.76039606, false_negatives = 41.0, false_positives = 37.0, global_step = 1929, loss = 0.7023038, true_negatives = 93.0, true_positives = 839.0\n"
          ]
        },
        {
          "output_type": "stream",
          "name": "stderr",
          "text": [
            "INFO:tensorflow:Saving dict for global step 1929: eval_accuracy = 0.76039606, false_negatives = 41.0, false_positives = 37.0, global_step = 1929, loss = 0.7023038, true_negatives = 93.0, true_positives = 839.0\n"
          ]
        },
        {
          "output_type": "stream",
          "name": "stdout",
          "text": [
            "INFO:tensorflow:Saving 'checkpoint_path' summary for global step 1929: /content/drive/MyDrive/MS_Final_Project/Model_checkpoints_CC/model.ckpt-1929\n"
          ]
        },
        {
          "output_type": "stream",
          "name": "stderr",
          "text": [
            "INFO:tensorflow:Saving 'checkpoint_path' summary for global step 1929: /content/drive/MyDrive/MS_Final_Project/Model_checkpoints_CC/model.ckpt-1929\n"
          ]
        },
        {
          "output_type": "execute_result",
          "data": {
            "text/plain": [
              "{'eval_accuracy': 0.76039606,\n",
              " 'false_negatives': 41.0,\n",
              " 'false_positives': 37.0,\n",
              " 'global_step': 1929,\n",
              " 'loss': 0.7023038,\n",
              " 'true_negatives': 93.0,\n",
              " 'true_positives': 839.0}"
            ]
          },
          "metadata": {},
          "execution_count": 87
        }
      ]
    },
    {
      "cell_type": "markdown",
      "metadata": {
        "id": "mhBuXjQ55f9d"
      },
      "source": [
        "# Extract Embeddings from BERT"
      ]
    },
    {
      "cell_type": "code",
      "metadata": {
        "id": "rTeHqmogZdPQ"
      },
      "source": [
        "def serving_input_receiver_fn():\n",
        "    \"\"\"Serving input_fn that builds features from placeholders\n",
        "\n",
        "    Returns\n",
        "    -------\n",
        "    tf.estimator.export.ServingInputReceiver\n",
        "    \"\"\"\n",
        "    number = tf.placeholder(dtype=tf.float32, shape=[None, 1], name='number')\n",
        "    receiver_tensors = {'number': number}\n",
        "    features = tf.tile(number, multiples=[1, 2])\n",
        "    return tf.estimator.export.ServingInputReceiver(features, receiver_tensors)"
      ],
      "execution_count": null,
      "outputs": []
    },
    {
      "cell_type": "code",
      "metadata": {
        "id": "iZqu1qKVZdSw"
      },
      "source": [
        "# A method to get predictions\n",
        "def getPrediction(in_sentences, type_output = \"features\"):\n",
        "  #A list to map the actual labels to the predictions\n",
        "  labels = np.unique(train['label'])\n",
        "  input_examples = [InputExample(guid=\"\", text_a = x, text_b = None, label = 0) for x in in_sentences] \n",
        "  #input_features = convert_examples_to_features(input_examples, label_list, MAX_SEQ_LENGTH, tokenizer)\n",
        "  input_features = convert_examples_to_features(tokenizer,input_examples,MAX_SEQ_LENGTH )\n",
        "  #Predicting the classes \n",
        "  predict_input_fn = input_fn_builder(features=input_features, seq_length=MAX_SEQ_LENGTH, is_training=False, drop_remainder=False)\n",
        "  predictions = estimator.predict(predict_input_fn)\n",
        "  if type_output == \"features\":\n",
        "    return [prediction['pooled_output'] for _,prediction in enumerate(predictions) ]\n",
        "  else:\n",
        "    return ([(sentence, prediction['probabilities'],\n",
        "              prediction['labels'], labels[prediction['labels']]) for sentence, prediction in zip(in_sentences, predictions)])"
      ],
      "execution_count": null,
      "outputs": []
    },
    {
      "cell_type": "code",
      "metadata": {
        "id": "V_60BrgK5vTB",
        "colab": {
          "base_uri": "https://localhost:8080/"
        },
        "outputId": "acf83e53-1a4c-46c3-bdb1-13bdf946f3ba"
      },
      "source": [
        "tf.compat.v1.logging.set_verbosity(tf.compat.v1.logging.ERROR)\n",
        "MAX_SEQ_LENGTH"
      ],
      "execution_count": null,
      "outputs": [
        {
          "output_type": "execute_result",
          "data": {
            "text/plain": [
              "200"
            ]
          },
          "metadata": {},
          "execution_count": 90
        }
      ]
    },
    {
      "cell_type": "code",
      "metadata": {
        "id": "NmBcjVnA5vW3",
        "colab": {
          "base_uri": "https://localhost:8080/"
        },
        "outputId": "a2269394-7c01-49da-9d13-b7e45a9a69c7"
      },
      "source": [
        "train_df.shape, val_df.shape , test_df.shape"
      ],
      "execution_count": null,
      "outputs": [
        {
          "output_type": "execute_result",
          "data": {
            "text/plain": [
              "((30871, 2), (7744, 2), (1010, 2))"
            ]
          },
          "metadata": {},
          "execution_count": 91
        }
      ]
    },
    {
      "cell_type": "code",
      "metadata": {
        "id": "mLR27nwovvPe"
      },
      "source": [
        "# import pickle\n",
        "\n",
        "# pickle_in = open(\"/content/drive/MyDrive/MS_Final_Project/df_train_cc_count5.pickle\",\"rb\")\n",
        "# df_train = pickle.load(pickle_in)\n",
        "\n",
        "# pickle_in = open(\"/content/drive/MyDrive/MS_Final_Project/df_val_cc_count5.pickle\",\"rb\")\n",
        "# df_val = pickle.load(pickle_in)\n",
        "\n",
        "# pickle_in = open(\"/content/drive/MyDrive/MS_Final_Project/df_test_cc_count5.pickle\",\"rb\")\n",
        "# df_test = pickle.load(pickle_in)"
      ],
      "execution_count": null,
      "outputs": []
    },
    {
      "cell_type": "code",
      "metadata": {
        "id": "Rsm_CEtN5vaH",
        "colab": {
          "base_uri": "https://localhost:8080/"
        },
        "outputId": "e2fba0a9-38a8-4625-98e3-291a631cfbd9"
      },
      "source": [
        "tr_emb = np.apply_along_axis(getPrediction, 0,np.array(train_df[DATA_COLUMN]))"
      ],
      "execution_count": null,
      "outputs": [
        {
          "output_type": "stream",
          "name": "stderr",
          "text": [
            "Converting examples to features: 100%|██████████| 30871/30871 [01:57<00:00, 263.23it/s]\n"
          ]
        }
      ]
    },
    {
      "cell_type": "code",
      "metadata": {
        "id": "8vTZ-uV36Ds-",
        "colab": {
          "base_uri": "https://localhost:8080/"
        },
        "outputId": "37a19bea-0d1d-4e7a-d1d5-da5a5dcba10c"
      },
      "source": [
        "val_emb = np.apply_along_axis(getPrediction, 0,np.array(val_df[DATA_COLUMN]))"
      ],
      "execution_count": null,
      "outputs": [
        {
          "output_type": "stream",
          "name": "stderr",
          "text": [
            "Converting examples to features: 100%|██████████| 7744/7744 [00:28<00:00, 270.24it/s]\n"
          ]
        }
      ]
    },
    {
      "cell_type": "code",
      "metadata": {
        "id": "XelnFAAGcmr3",
        "colab": {
          "base_uri": "https://localhost:8080/"
        },
        "outputId": "fa9e9038-6ec1-4892-faa4-c23c5d3c1010"
      },
      "source": [
        "test_emb = np.apply_along_axis(getPrediction, 0,np.array(test_df[DATA_COLUMN]))"
      ],
      "execution_count": null,
      "outputs": [
        {
          "output_type": "stream",
          "name": "stderr",
          "text": [
            "Converting examples to features: 100%|██████████| 1010/1010 [00:03<00:00, 290.10it/s]\n"
          ]
        }
      ]
    },
    {
      "cell_type": "code",
      "metadata": {
        "id": "2UyEB1BP6DwG",
        "colab": {
          "base_uri": "https://localhost:8080/"
        },
        "outputId": "5c285420-913d-4128-91db-e079c81562c8"
      },
      "source": [
        " tr_emb.shape,val_emb.shape,test_emb.shape"
      ],
      "execution_count": null,
      "outputs": [
        {
          "output_type": "execute_result",
          "data": {
            "text/plain": [
              "((30871, 768), (7744, 768), (1010, 768))"
            ]
          },
          "metadata": {},
          "execution_count": 96
        }
      ]
    },
    {
      "cell_type": "code",
      "metadata": {
        "id": "rpOURexG6D11",
        "colab": {
          "base_uri": "https://localhost:8080/",
          "height": 204
        },
        "outputId": "baa5cb97-cafa-474c-9ac6-6dd6ee8ef6d0"
      },
      "source": [
        "aux = -1\n",
        "len_l = 0\n",
        "train_x = {}\n",
        "for l, emb in zip(index_l, tr_emb):\n",
        "  if l in train_x.keys():\n",
        "    train_x[l]  =np.vstack([train_x[l], emb])\n",
        "  else:\n",
        "    train_x[l] = [emb]\n",
        "\n",
        "len(train_x.keys())\n",
        "\n",
        "train_l_final = []\n",
        "label_l_final = []\n",
        "for k in train_x.keys():\n",
        "  train_l_final.append(train_x[k])\n",
        "  label_l_final.append(train.loc[k]['label'])\n",
        "\n",
        "df_train = pd.DataFrame({'emb': train_l_final, 'label': label_l_final, })\n",
        "df_train.head()"
      ],
      "execution_count": null,
      "outputs": [
        {
          "output_type": "execute_result",
          "data": {
            "text/html": [
              "<div>\n",
              "<style scoped>\n",
              "    .dataframe tbody tr th:only-of-type {\n",
              "        vertical-align: middle;\n",
              "    }\n",
              "\n",
              "    .dataframe tbody tr th {\n",
              "        vertical-align: top;\n",
              "    }\n",
              "\n",
              "    .dataframe thead th {\n",
              "        text-align: right;\n",
              "    }\n",
              "</style>\n",
              "<table border=\"1\" class=\"dataframe\">\n",
              "  <thead>\n",
              "    <tr style=\"text-align: right;\">\n",
              "      <th></th>\n",
              "      <th>emb</th>\n",
              "      <th>label</th>\n",
              "    </tr>\n",
              "  </thead>\n",
              "  <tbody>\n",
              "    <tr>\n",
              "      <th>0</th>\n",
              "      <td>[[-0.4676593, 0.14724328, -0.8827459, 0.856973...</td>\n",
              "      <td>1</td>\n",
              "    </tr>\n",
              "    <tr>\n",
              "      <th>1</th>\n",
              "      <td>[[0.7654536, -0.3047139, -0.954275, -0.4499121...</td>\n",
              "      <td>3</td>\n",
              "    </tr>\n",
              "    <tr>\n",
              "      <th>2</th>\n",
              "      <td>[[0.7149185, 0.8784548, -0.0600981, -0.7525436...</td>\n",
              "      <td>3</td>\n",
              "    </tr>\n",
              "    <tr>\n",
              "      <th>3</th>\n",
              "      <td>[[0.69485337, -0.742411, -0.73213583, -0.35592...</td>\n",
              "      <td>4</td>\n",
              "    </tr>\n",
              "    <tr>\n",
              "      <th>4</th>\n",
              "      <td>[[0.7575402, -0.32592666, -0.14666598, -0.5177...</td>\n",
              "      <td>4</td>\n",
              "    </tr>\n",
              "  </tbody>\n",
              "</table>\n",
              "</div>"
            ],
            "text/plain": [
              "                                                 emb  label\n",
              "0  [[-0.4676593, 0.14724328, -0.8827459, 0.856973...      1\n",
              "1  [[0.7654536, -0.3047139, -0.954275, -0.4499121...      3\n",
              "2  [[0.7149185, 0.8784548, -0.0600981, -0.7525436...      3\n",
              "3  [[0.69485337, -0.742411, -0.73213583, -0.35592...      4\n",
              "4  [[0.7575402, -0.32592666, -0.14666598, -0.5177...      4"
            ]
          },
          "metadata": {},
          "execution_count": 97
        }
      ]
    },
    {
      "cell_type": "code",
      "metadata": {
        "id": "08Xt-A1I8VTb"
      },
      "source": [
        "def finding_mean(mat):\n",
        "    return np.mean(mat, axis=0)"
      ],
      "execution_count": null,
      "outputs": []
    },
    {
      "cell_type": "code",
      "metadata": {
        "id": "gTOzlu3W8ZBO"
      },
      "source": [
        "df_train['mean_emb'] = df_train['emb'].apply(finding_mean)"
      ],
      "execution_count": null,
      "outputs": []
    },
    {
      "cell_type": "code",
      "metadata": {
        "id": "Ma7LNNTz6EBJ",
        "colab": {
          "base_uri": "https://localhost:8080/",
          "height": 204
        },
        "outputId": "0eef39c5-ef25-4e81-d4a9-ee8c85868745"
      },
      "source": [
        "aux = -1\n",
        "len_l = 0\n",
        "val_x = {}\n",
        "\n",
        "for l, emb in zip(val_index_l, val_emb):\n",
        "  if l in val_x.keys():\n",
        "    val_x[l]  =np.vstack([val_x[l], emb])\n",
        "  else:\n",
        "    val_x[l] = [emb]\n",
        "\n",
        "\n",
        "val_l_final = []\n",
        "vlabel_l_final = []\n",
        "for k in val_x.keys():\n",
        "  val_l_final.append(val_x[k])\n",
        "  vlabel_l_final.append(val.loc[k]['label'])\n",
        "\n",
        "df_val = pd.DataFrame({'emb': val_l_final, 'label': vlabel_l_final})\n",
        "df_val.head()"
      ],
      "execution_count": null,
      "outputs": [
        {
          "output_type": "execute_result",
          "data": {
            "text/html": [
              "<div>\n",
              "<style scoped>\n",
              "    .dataframe tbody tr th:only-of-type {\n",
              "        vertical-align: middle;\n",
              "    }\n",
              "\n",
              "    .dataframe tbody tr th {\n",
              "        vertical-align: top;\n",
              "    }\n",
              "\n",
              "    .dataframe thead th {\n",
              "        text-align: right;\n",
              "    }\n",
              "</style>\n",
              "<table border=\"1\" class=\"dataframe\">\n",
              "  <thead>\n",
              "    <tr style=\"text-align: right;\">\n",
              "      <th></th>\n",
              "      <th>emb</th>\n",
              "      <th>label</th>\n",
              "    </tr>\n",
              "  </thead>\n",
              "  <tbody>\n",
              "    <tr>\n",
              "      <th>0</th>\n",
              "      <td>[[-0.783164, -0.69078225, -0.4979816, 0.515874...</td>\n",
              "      <td>0</td>\n",
              "    </tr>\n",
              "    <tr>\n",
              "      <th>1</th>\n",
              "      <td>[[-0.74008334, -0.5976591, -0.85920256, 0.9358...</td>\n",
              "      <td>2</td>\n",
              "    </tr>\n",
              "    <tr>\n",
              "      <th>2</th>\n",
              "      <td>[[0.83383435, -0.7300818, -0.80806947, -0.5707...</td>\n",
              "      <td>6</td>\n",
              "    </tr>\n",
              "    <tr>\n",
              "      <th>3</th>\n",
              "      <td>[[0.7400355, -0.88878053, -0.9872371, 0.026747...</td>\n",
              "      <td>6</td>\n",
              "    </tr>\n",
              "    <tr>\n",
              "      <th>4</th>\n",
              "      <td>[[0.5014749, -0.52733105, -0.84813243, 0.62376...</td>\n",
              "      <td>8</td>\n",
              "    </tr>\n",
              "  </tbody>\n",
              "</table>\n",
              "</div>"
            ],
            "text/plain": [
              "                                                 emb  label\n",
              "0  [[-0.783164, -0.69078225, -0.4979816, 0.515874...      0\n",
              "1  [[-0.74008334, -0.5976591, -0.85920256, 0.9358...      2\n",
              "2  [[0.83383435, -0.7300818, -0.80806947, -0.5707...      6\n",
              "3  [[0.7400355, -0.88878053, -0.9872371, 0.026747...      6\n",
              "4  [[0.5014749, -0.52733105, -0.84813243, 0.62376...      8"
            ]
          },
          "metadata": {},
          "execution_count": 100
        }
      ]
    },
    {
      "cell_type": "code",
      "metadata": {
        "id": "EbtNQaUN8fcf"
      },
      "source": [
        "df_val['mean_emb'] = df_val['emb'].apply(finding_mean)"
      ],
      "execution_count": null,
      "outputs": []
    },
    {
      "cell_type": "code",
      "metadata": {
        "id": "6r60G3NC8fov",
        "colab": {
          "base_uri": "https://localhost:8080/",
          "height": 204
        },
        "outputId": "7f2c2644-6755-472e-de1b-e8b78deafab8"
      },
      "source": [
        "df_val.head()"
      ],
      "execution_count": null,
      "outputs": [
        {
          "output_type": "execute_result",
          "data": {
            "text/html": [
              "<div>\n",
              "<style scoped>\n",
              "    .dataframe tbody tr th:only-of-type {\n",
              "        vertical-align: middle;\n",
              "    }\n",
              "\n",
              "    .dataframe tbody tr th {\n",
              "        vertical-align: top;\n",
              "    }\n",
              "\n",
              "    .dataframe thead th {\n",
              "        text-align: right;\n",
              "    }\n",
              "</style>\n",
              "<table border=\"1\" class=\"dataframe\">\n",
              "  <thead>\n",
              "    <tr style=\"text-align: right;\">\n",
              "      <th></th>\n",
              "      <th>emb</th>\n",
              "      <th>label</th>\n",
              "      <th>mean_emb</th>\n",
              "    </tr>\n",
              "  </thead>\n",
              "  <tbody>\n",
              "    <tr>\n",
              "      <th>0</th>\n",
              "      <td>[[-0.783164, -0.69078225, -0.4979816, 0.515874...</td>\n",
              "      <td>0</td>\n",
              "      <td>[-0.7262547, -0.73510987, -0.74689406, 0.63284...</td>\n",
              "    </tr>\n",
              "    <tr>\n",
              "      <th>1</th>\n",
              "      <td>[[-0.74008334, -0.5976591, -0.85920256, 0.9358...</td>\n",
              "      <td>2</td>\n",
              "      <td>[-0.5520195, -0.41578737, -0.863876, 0.8940236...</td>\n",
              "    </tr>\n",
              "    <tr>\n",
              "      <th>2</th>\n",
              "      <td>[[0.83383435, -0.7300818, -0.80806947, -0.5707...</td>\n",
              "      <td>6</td>\n",
              "      <td>[0.8227659, -0.7315526, -0.7922643, -0.5664758...</td>\n",
              "    </tr>\n",
              "    <tr>\n",
              "      <th>3</th>\n",
              "      <td>[[0.7400355, -0.88878053, -0.9872371, 0.026747...</td>\n",
              "      <td>6</td>\n",
              "      <td>[0.8209452, -0.8347185, -0.96097404, -0.250146...</td>\n",
              "    </tr>\n",
              "    <tr>\n",
              "      <th>4</th>\n",
              "      <td>[[0.5014749, -0.52733105, -0.84813243, 0.62376...</td>\n",
              "      <td>8</td>\n",
              "      <td>[0.5014749, -0.52733105, -0.84813243, 0.623763...</td>\n",
              "    </tr>\n",
              "  </tbody>\n",
              "</table>\n",
              "</div>"
            ],
            "text/plain": [
              "                                                 emb  ...                                           mean_emb\n",
              "0  [[-0.783164, -0.69078225, -0.4979816, 0.515874...  ...  [-0.7262547, -0.73510987, -0.74689406, 0.63284...\n",
              "1  [[-0.74008334, -0.5976591, -0.85920256, 0.9358...  ...  [-0.5520195, -0.41578737, -0.863876, 0.8940236...\n",
              "2  [[0.83383435, -0.7300818, -0.80806947, -0.5707...  ...  [0.8227659, -0.7315526, -0.7922643, -0.5664758...\n",
              "3  [[0.7400355, -0.88878053, -0.9872371, 0.026747...  ...  [0.8209452, -0.8347185, -0.96097404, -0.250146...\n",
              "4  [[0.5014749, -0.52733105, -0.84813243, 0.62376...  ...  [0.5014749, -0.52733105, -0.84813243, 0.623763...\n",
              "\n",
              "[5 rows x 3 columns]"
            ]
          },
          "metadata": {},
          "execution_count": 102
        }
      ]
    },
    {
      "cell_type": "code",
      "metadata": {
        "id": "zZ-QWHvhnHo_",
        "colab": {
          "base_uri": "https://localhost:8080/",
          "height": 204
        },
        "outputId": "50b59db7-985c-4bda-c944-45c7587ad7ca"
      },
      "source": [
        "aux = -1\n",
        "len_l = 0\n",
        "test_x = {}\n",
        "\n",
        "for l, emb in zip(test_index_l, test_emb):\n",
        "  if l in test_x.keys():\n",
        "    test_x[l]  =np.vstack([test_x[l], emb])\n",
        "  else:\n",
        "    test_x[l] = [emb]\n",
        "\n",
        "\n",
        "test_l_final = []\n",
        "telabel_l_final = []\n",
        "for k in test_x.keys():\n",
        "  test_l_final.append(test_x[k])\n",
        "  telabel_l_final.append(test_set.loc[k]['label'])\n",
        "\n",
        "df_test = pd.DataFrame({'emb': test_l_final, 'label': telabel_l_final})\n",
        "df_test.head()"
      ],
      "execution_count": null,
      "outputs": [
        {
          "output_type": "execute_result",
          "data": {
            "text/html": [
              "<div>\n",
              "<style scoped>\n",
              "    .dataframe tbody tr th:only-of-type {\n",
              "        vertical-align: middle;\n",
              "    }\n",
              "\n",
              "    .dataframe tbody tr th {\n",
              "        vertical-align: top;\n",
              "    }\n",
              "\n",
              "    .dataframe thead th {\n",
              "        text-align: right;\n",
              "    }\n",
              "</style>\n",
              "<table border=\"1\" class=\"dataframe\">\n",
              "  <thead>\n",
              "    <tr style=\"text-align: right;\">\n",
              "      <th></th>\n",
              "      <th>emb</th>\n",
              "      <th>label</th>\n",
              "    </tr>\n",
              "  </thead>\n",
              "  <tbody>\n",
              "    <tr>\n",
              "      <th>0</th>\n",
              "      <td>[[0.84547275, -0.7904111, -0.6355421, -0.44478...</td>\n",
              "      <td>6</td>\n",
              "    </tr>\n",
              "    <tr>\n",
              "      <th>1</th>\n",
              "      <td>[[0.72963846, -0.8137451, -0.98527116, -0.0794...</td>\n",
              "      <td>6</td>\n",
              "    </tr>\n",
              "    <tr>\n",
              "      <th>2</th>\n",
              "      <td>[[0.8521673, -0.8041709, -0.9282413, -0.393869...</td>\n",
              "      <td>6</td>\n",
              "    </tr>\n",
              "    <tr>\n",
              "      <th>3</th>\n",
              "      <td>[[0.8170345, -0.7437862, -0.7211674, -0.552395...</td>\n",
              "      <td>6</td>\n",
              "    </tr>\n",
              "    <tr>\n",
              "      <th>4</th>\n",
              "      <td>[[-0.8204357, -0.64627033, -0.9308182, 0.96971...</td>\n",
              "      <td>2</td>\n",
              "    </tr>\n",
              "  </tbody>\n",
              "</table>\n",
              "</div>"
            ],
            "text/plain": [
              "                                                 emb  label\n",
              "0  [[0.84547275, -0.7904111, -0.6355421, -0.44478...      6\n",
              "1  [[0.72963846, -0.8137451, -0.98527116, -0.0794...      6\n",
              "2  [[0.8521673, -0.8041709, -0.9282413, -0.393869...      6\n",
              "3  [[0.8170345, -0.7437862, -0.7211674, -0.552395...      6\n",
              "4  [[-0.8204357, -0.64627033, -0.9308182, 0.96971...      2"
            ]
          },
          "metadata": {},
          "execution_count": 103
        }
      ]
    },
    {
      "cell_type": "code",
      "metadata": {
        "id": "InmeWoW88mPL"
      },
      "source": [
        "df_test['mean_emb'] = df_test['emb'].apply(finding_mean)"
      ],
      "execution_count": null,
      "outputs": []
    },
    {
      "cell_type": "code",
      "metadata": {
        "id": "YuEYH7W98oDx",
        "colab": {
          "base_uri": "https://localhost:8080/",
          "height": 204
        },
        "outputId": "c5d655e6-0ac1-4322-af7a-b657446ca590"
      },
      "source": [
        "df_test.head()"
      ],
      "execution_count": null,
      "outputs": [
        {
          "output_type": "execute_result",
          "data": {
            "text/html": [
              "<div>\n",
              "<style scoped>\n",
              "    .dataframe tbody tr th:only-of-type {\n",
              "        vertical-align: middle;\n",
              "    }\n",
              "\n",
              "    .dataframe tbody tr th {\n",
              "        vertical-align: top;\n",
              "    }\n",
              "\n",
              "    .dataframe thead th {\n",
              "        text-align: right;\n",
              "    }\n",
              "</style>\n",
              "<table border=\"1\" class=\"dataframe\">\n",
              "  <thead>\n",
              "    <tr style=\"text-align: right;\">\n",
              "      <th></th>\n",
              "      <th>emb</th>\n",
              "      <th>label</th>\n",
              "      <th>mean_emb</th>\n",
              "    </tr>\n",
              "  </thead>\n",
              "  <tbody>\n",
              "    <tr>\n",
              "      <th>0</th>\n",
              "      <td>[[0.84547275, -0.7904111, -0.6355421, -0.44478...</td>\n",
              "      <td>6</td>\n",
              "      <td>[0.827374, -0.8059948, -0.84323674, -0.2394481...</td>\n",
              "    </tr>\n",
              "    <tr>\n",
              "      <th>1</th>\n",
              "      <td>[[0.72963846, -0.8137451, -0.98527116, -0.0794...</td>\n",
              "      <td>6</td>\n",
              "      <td>[0.39737815, -0.8056177, -0.96296626, 0.218164...</td>\n",
              "    </tr>\n",
              "    <tr>\n",
              "      <th>2</th>\n",
              "      <td>[[0.8521673, -0.8041709, -0.9282413, -0.393869...</td>\n",
              "      <td>6</td>\n",
              "      <td>[0.8363844, -0.7805557, -0.9342691, -0.4360138...</td>\n",
              "    </tr>\n",
              "    <tr>\n",
              "      <th>3</th>\n",
              "      <td>[[0.8170345, -0.7437862, -0.7211674, -0.552395...</td>\n",
              "      <td>6</td>\n",
              "      <td>[0.8319768, -0.75901896, -0.7903815, -0.526949...</td>\n",
              "    </tr>\n",
              "    <tr>\n",
              "      <th>4</th>\n",
              "      <td>[[-0.8204357, -0.64627033, -0.9308182, 0.96971...</td>\n",
              "      <td>2</td>\n",
              "      <td>[-0.52787155, -0.61808467, -0.9804741, 0.92917...</td>\n",
              "    </tr>\n",
              "  </tbody>\n",
              "</table>\n",
              "</div>"
            ],
            "text/plain": [
              "                                                 emb  ...                                           mean_emb\n",
              "0  [[0.84547275, -0.7904111, -0.6355421, -0.44478...  ...  [0.827374, -0.8059948, -0.84323674, -0.2394481...\n",
              "1  [[0.72963846, -0.8137451, -0.98527116, -0.0794...  ...  [0.39737815, -0.8056177, -0.96296626, 0.218164...\n",
              "2  [[0.8521673, -0.8041709, -0.9282413, -0.393869...  ...  [0.8363844, -0.7805557, -0.9342691, -0.4360138...\n",
              "3  [[0.8170345, -0.7437862, -0.7211674, -0.552395...  ...  [0.8319768, -0.75901896, -0.7903815, -0.526949...\n",
              "4  [[-0.8204357, -0.64627033, -0.9308182, 0.96971...  ...  [-0.52787155, -0.61808467, -0.9804741, 0.92917...\n",
              "\n",
              "[5 rows x 3 columns]"
            ]
          },
          "metadata": {},
          "execution_count": 105
        }
      ]
    },
    {
      "cell_type": "code",
      "metadata": {
        "id": "dAQjJPEn80NS"
      },
      "source": [
        "# import pickle\n",
        "\n",
        "# pickle_out = open(\"/content/drive/MyDrive/MS_Final_Project/pca_df_train_cc_count5.pickle\",\"wb\")\n",
        "# pickle.dump(df_train, pickle_out)\n",
        "# pickle_out.close()\n",
        "\n",
        "# pickle_out = open(\"/content/drive/MyDrive/MS_Final_Project/df_val_cc_count5.pickle\",\"wb\")\n",
        "# pickle.dump(df_val, pickle_out)\n",
        "# pickle_out.close()\n",
        "\n",
        "# pickle_out = open(\"/content/drive/MyDrive/MS_Final_Project/df_test_cc_count5.pickle\",\"wb\")\n",
        "# pickle.dump(df_test, pickle_out)\n",
        "# pickle_out.close()"
      ],
      "execution_count": null,
      "outputs": []
    },
    {
      "cell_type": "code",
      "metadata": {
        "id": "wifbEY_R5Q4r"
      },
      "source": [
        "import pickle"
      ],
      "execution_count": null,
      "outputs": []
    },
    {
      "cell_type": "code",
      "metadata": {
        "id": "Yec5McSF-ghJ"
      },
      "source": [
        "pickle_in = open(\"/content/drive/MyDrive/Pickles/df_train_cc_count5.pickle\",\"rb\")\n",
        "df_train = pickle.load(pickle_in)\n",
        "\n",
        "pickle_in = open(\"/content/drive/MyDrive/Pickles/df_val_cc_count5.pickle\",\"rb\")\n",
        "df_val = pickle.load(pickle_in)\n",
        "\n",
        "pickle_in = open(\"/content/drive/MyDrive/Pickles/df_test_cc_count5.pickle\",\"rb\")\n",
        "df_test = pickle.load(pickle_in)"
      ],
      "execution_count": null,
      "outputs": []
    },
    {
      "cell_type": "code",
      "metadata": {
        "colab": {
          "base_uri": "https://localhost:8080/",
          "height": 417
        },
        "id": "vr5xAgoV-yXf",
        "outputId": "804f5429-3f4a-42a4-b9b1-024bcfa1fac1"
      },
      "source": [
        "df_train"
      ],
      "execution_count": null,
      "outputs": [
        {
          "output_type": "execute_result",
          "data": {
            "text/html": [
              "<div>\n",
              "<style scoped>\n",
              "    .dataframe tbody tr th:only-of-type {\n",
              "        vertical-align: middle;\n",
              "    }\n",
              "\n",
              "    .dataframe tbody tr th {\n",
              "        vertical-align: top;\n",
              "    }\n",
              "\n",
              "    .dataframe thead th {\n",
              "        text-align: right;\n",
              "    }\n",
              "</style>\n",
              "<table border=\"1\" class=\"dataframe\">\n",
              "  <thead>\n",
              "    <tr style=\"text-align: right;\">\n",
              "      <th></th>\n",
              "      <th>emb</th>\n",
              "      <th>label</th>\n",
              "      <th>mean_emb</th>\n",
              "    </tr>\n",
              "  </thead>\n",
              "  <tbody>\n",
              "    <tr>\n",
              "      <th>0</th>\n",
              "      <td>[[-0.021099621, -0.28834894, 0.7219702, 0.3243...</td>\n",
              "      <td>3</td>\n",
              "      <td>[-0.31734654, -0.2424916, 0.63371956, 0.544734...</td>\n",
              "    </tr>\n",
              "    <tr>\n",
              "      <th>1</th>\n",
              "      <td>[[-0.94986975, 0.07269567, 0.8704889, 0.950459...</td>\n",
              "      <td>2</td>\n",
              "      <td>[-0.92828494, 0.183393, 0.8550927, 0.9233754, ...</td>\n",
              "    </tr>\n",
              "    <tr>\n",
              "      <th>2</th>\n",
              "      <td>[[-0.97692055, 0.034012984, 0.8985519, 0.97121...</td>\n",
              "      <td>2</td>\n",
              "      <td>[-0.97692055, 0.034012984, 0.8985519, 0.971216...</td>\n",
              "    </tr>\n",
              "    <tr>\n",
              "      <th>3</th>\n",
              "      <td>[[-0.33321068, -0.44509885, 0.7722971, 0.52170...</td>\n",
              "      <td>3</td>\n",
              "      <td>[-0.33321068, -0.44509885, 0.7722971, 0.521708...</td>\n",
              "    </tr>\n",
              "    <tr>\n",
              "      <th>4</th>\n",
              "      <td>[[0.1334224, -0.16724484, -0.7966242, -0.44695...</td>\n",
              "      <td>6</td>\n",
              "      <td>[-0.3031048, -0.41733286, -0.82505804, -0.2265...</td>\n",
              "    </tr>\n",
              "    <tr>\n",
              "      <th>...</th>\n",
              "      <td>...</td>\n",
              "      <td>...</td>\n",
              "      <td>...</td>\n",
              "    </tr>\n",
              "    <tr>\n",
              "      <th>13547</th>\n",
              "      <td>[[0.046362247, -0.035511155, -0.8277228, -0.45...</td>\n",
              "      <td>6</td>\n",
              "      <td>[0.20709851, -0.11711824, -0.772329, -0.472510...</td>\n",
              "    </tr>\n",
              "    <tr>\n",
              "      <th>13548</th>\n",
              "      <td>[[-0.910325, 0.2355118, 0.897265, 0.9133836, -...</td>\n",
              "      <td>2</td>\n",
              "      <td>[-0.8838366, 0.19539505, 0.8418225, 0.8763018,...</td>\n",
              "    </tr>\n",
              "    <tr>\n",
              "      <th>13549</th>\n",
              "      <td>[[0.5068917, -0.039287187, -0.9189707, -0.2104...</td>\n",
              "      <td>4</td>\n",
              "      <td>[0.6690841, 0.31198674, -0.7114719, -0.4333441...</td>\n",
              "    </tr>\n",
              "    <tr>\n",
              "      <th>13550</th>\n",
              "      <td>[[-0.40635964, -0.45109355, 0.8118932, 0.54926...</td>\n",
              "      <td>3</td>\n",
              "      <td>[-0.17363006, -0.41950807, 0.7430628, 0.339043...</td>\n",
              "    </tr>\n",
              "    <tr>\n",
              "      <th>13551</th>\n",
              "      <td>[[-0.6468596, -0.7702212, -0.29160282, 0.34270...</td>\n",
              "      <td>3</td>\n",
              "      <td>[-0.6415425, -0.81177425, 0.011334375, 0.27554...</td>\n",
              "    </tr>\n",
              "  </tbody>\n",
              "</table>\n",
              "<p>13552 rows × 3 columns</p>\n",
              "</div>"
            ],
            "text/plain": [
              "                                                     emb  ...                                           mean_emb\n",
              "0      [[-0.021099621, -0.28834894, 0.7219702, 0.3243...  ...  [-0.31734654, -0.2424916, 0.63371956, 0.544734...\n",
              "1      [[-0.94986975, 0.07269567, 0.8704889, 0.950459...  ...  [-0.92828494, 0.183393, 0.8550927, 0.9233754, ...\n",
              "2      [[-0.97692055, 0.034012984, 0.8985519, 0.97121...  ...  [-0.97692055, 0.034012984, 0.8985519, 0.971216...\n",
              "3      [[-0.33321068, -0.44509885, 0.7722971, 0.52170...  ...  [-0.33321068, -0.44509885, 0.7722971, 0.521708...\n",
              "4      [[0.1334224, -0.16724484, -0.7966242, -0.44695...  ...  [-0.3031048, -0.41733286, -0.82505804, -0.2265...\n",
              "...                                                  ...  ...                                                ...\n",
              "13547  [[0.046362247, -0.035511155, -0.8277228, -0.45...  ...  [0.20709851, -0.11711824, -0.772329, -0.472510...\n",
              "13548  [[-0.910325, 0.2355118, 0.897265, 0.9133836, -...  ...  [-0.8838366, 0.19539505, 0.8418225, 0.8763018,...\n",
              "13549  [[0.5068917, -0.039287187, -0.9189707, -0.2104...  ...  [0.6690841, 0.31198674, -0.7114719, -0.4333441...\n",
              "13550  [[-0.40635964, -0.45109355, 0.8118932, 0.54926...  ...  [-0.17363006, -0.41950807, 0.7430628, 0.339043...\n",
              "13551  [[-0.6468596, -0.7702212, -0.29160282, 0.34270...  ...  [-0.6415425, -0.81177425, 0.011334375, 0.27554...\n",
              "\n",
              "[13552 rows x 3 columns]"
            ]
          },
          "metadata": {},
          "execution_count": 5
        }
      ]
    },
    {
      "cell_type": "markdown",
      "metadata": {
        "id": "bDlLbgyJeVh1"
      },
      "source": [
        "**CHECK PCA**"
      ]
    },
    {
      "cell_type": "code",
      "metadata": {
        "id": "i30lCdQGeUuv"
      },
      "source": [
        "from sklearn.decomposition import PCA\n",
        "from sklearn.decomposition import KernelPCA"
      ],
      "execution_count": null,
      "outputs": []
    },
    {
      "cell_type": "code",
      "metadata": {
        "id": "TrHaU4rmf6z0"
      },
      "source": [
        "#changing dataframe to numpy array \n",
        "x_train=[]\n",
        "y_train=[]\n",
        "for i in range(df_train.shape[0]):\n",
        "  x_train.append(df_train[\"mean_emb\"][i])\n",
        "  y_train.append(df_train[\"label\"][i])\n",
        "\n",
        "X = np.array(x_train,ndmin=2)\n",
        "y = np.array(y_train)"
      ],
      "execution_count": null,
      "outputs": []
    },
    {
      "cell_type": "code",
      "metadata": {
        "id": "2vI__Cr1kA3G"
      },
      "source": [
        "x_val=[]\n",
        "y_val=[]\n",
        "for i in range(df_val.shape[0]):\n",
        "  x_val.append(df_val[\"mean_emb\"][i])\n",
        "  y_val.append(df_val[\"label\"][i])\n",
        "\n",
        "X_val = np.array(x_val,ndmin=2)\n",
        "y_val = np.array(y_val)"
      ],
      "execution_count": null,
      "outputs": []
    },
    {
      "cell_type": "code",
      "metadata": {
        "id": "9m7Cgca2ke0w"
      },
      "source": [
        "x_test=[]\n",
        "y_test=[]\n",
        "for i in range(df_test.shape[0]):\n",
        "  x_test.append(df_test[\"mean_emb\"][i])\n",
        "  y_test.append(df_test[\"label\"][i])\n",
        "\n",
        "X_test = np.array(x_test,ndmin=2)\n",
        "y_test = np.array(y_test)"
      ],
      "execution_count": null,
      "outputs": []
    },
    {
      "cell_type": "code",
      "metadata": {
        "colab": {
          "base_uri": "https://localhost:8080/"
        },
        "id": "2W-qhHTLf6tn",
        "outputId": "b32df206-57c8-4fea-d93c-cfdcddb0ddb3"
      },
      "source": [
        "type(X)"
      ],
      "execution_count": null,
      "outputs": [
        {
          "output_type": "execute_result",
          "data": {
            "text/plain": [
              "numpy.ndarray"
            ]
          },
          "metadata": {},
          "execution_count": 10
        }
      ]
    },
    {
      "cell_type": "code",
      "metadata": {
        "id": "O_yKmpTPf6ns"
      },
      "source": [
        "# y = np.array(df_train['label'])"
      ],
      "execution_count": null,
      "outputs": []
    },
    {
      "cell_type": "code",
      "metadata": {
        "colab": {
          "base_uri": "https://localhost:8080/"
        },
        "id": "ZVzh5Ne6gNFS",
        "outputId": "cd616662-852c-4507-8c0c-f5e2d1979109"
      },
      "source": [
        "X.shape"
      ],
      "execution_count": null,
      "outputs": [
        {
          "output_type": "execute_result",
          "data": {
            "text/plain": [
              "(13552, 768)"
            ]
          },
          "metadata": {},
          "execution_count": 11
        }
      ]
    },
    {
      "cell_type": "code",
      "metadata": {
        "colab": {
          "base_uri": "https://localhost:8080/"
        },
        "id": "CrUs_-TJgQ1T",
        "outputId": "1c178aeb-1f8f-46ae-f53e-cbf6bce63f66"
      },
      "source": [
        "y.shape"
      ],
      "execution_count": null,
      "outputs": [
        {
          "output_type": "execute_result",
          "data": {
            "text/plain": [
              "(13552,)"
            ]
          },
          "metadata": {},
          "execution_count": 12
        }
      ]
    },
    {
      "cell_type": "code",
      "metadata": {
        "id": "_7bWRKGAgKXl",
        "colab": {
          "base_uri": "https://localhost:8080/",
          "height": 128
        },
        "outputId": "53fae922-d89a-41f1-a463-57c6f76e5013"
      },
      "source": [
        "# x_pca_temp=[]\n",
        "# for i in range(df_train['emb'].shape[0]):\n",
        "#   X=df_train['emb'][i] ==5 chunks\n",
        "#   covarinace matrix \n",
        "#   egigen value, eigen vectors \n",
        "#   varinave \n",
        "#   choose the chunks with large variance \n",
        "#   pca = PCA(n_components=2)\n",
        "#   X_pca = pca.fit_transform(X)\n",
        "#   x_pca_temp.append(X_Pca)"
      ],
      "execution_count": null,
      "outputs": [
        {
          "output_type": "error",
          "ename": "SyntaxError",
          "evalue": "ignored",
          "traceback": [
            "\u001b[0;36m  File \u001b[0;32m\"<ipython-input-13-0c35915e1ba9>\"\u001b[0;36m, line \u001b[0;32m3\u001b[0m\n\u001b[0;31m    X=df_train['emb'][i] ==5 chunks\u001b[0m\n\u001b[0m                                  ^\u001b[0m\n\u001b[0;31mSyntaxError\u001b[0m\u001b[0;31m:\u001b[0m invalid syntax\n"
          ]
        }
      ]
    },
    {
      "cell_type": "code",
      "metadata": {
        "id": "e-KDY4CaeUnQ"
      },
      "source": [
        "pca = PCA(n_components=768)\n",
        "X_pca = pca.fit_transform(X)\n",
        "\n",
        "kpca = KernelPCA(n_components=768, kernel='rbf', \n",
        "                 gamma=15, random_state=42)\n",
        "X_kpca = kpca.fit_transform(X)"
      ],
      "execution_count": null,
      "outputs": []
    },
    {
      "cell_type": "code",
      "metadata": {
        "id": "7byrbO2kkTnq"
      },
      "source": [
        "pca = PCA(n_components=768)\n",
        "X_val_pca = pca.fit_transform(X_val)\n",
        "\n",
        "kpca = KernelPCA(n_components=768, kernel='rbf', \n",
        "                 gamma=15, random_state=42)\n",
        "X_val_kpca = kpca.fit_transform(X_val)"
      ],
      "execution_count": null,
      "outputs": []
    },
    {
      "cell_type": "code",
      "metadata": {
        "id": "mSxR4d6VkwhA"
      },
      "source": [
        "pca = PCA(n_components=202)\n",
        "X_test_pca = pca.fit_transform(X_test)\n",
        "\n",
        "kpca = KernelPCA(n_components=202, kernel='rbf', \n",
        "                 gamma=15, random_state=42)\n",
        "X_test_kpca = kpca.fit_transform(X_test)"
      ],
      "execution_count": null,
      "outputs": []
    },
    {
      "cell_type": "code",
      "metadata": {
        "colab": {
          "base_uri": "https://localhost:8080/"
        },
        "id": "FAcyeDm-hbws",
        "outputId": "702f4987-ba7e-4f08-c4f3-992c3580abdb"
      },
      "source": [
        "X_pca.shape,X_kpca.shape"
      ],
      "execution_count": null,
      "outputs": [
        {
          "output_type": "execute_result",
          "data": {
            "text/plain": [
              "((13552, 768), (13552, 768))"
            ]
          },
          "metadata": {},
          "execution_count": 17
        }
      ]
    },
    {
      "cell_type": "code",
      "metadata": {
        "id": "OQvQk8I7ivv5"
      },
      "source": [
        "import seaborn as sns"
      ],
      "execution_count": null,
      "outputs": []
    },
    {
      "cell_type": "code",
      "metadata": {
        "colab": {
          "base_uri": "https://localhost:8080/"
        },
        "id": "Z4f_aD5aiyg6",
        "outputId": "6681933a-d609-453b-d532-d02cdbde6876"
      },
      "source": [
        "X_pca"
      ],
      "execution_count": null,
      "outputs": [
        {
          "output_type": "execute_result",
          "data": {
            "text/plain": [
              "array([[ 6.56872988e+00,  6.19530296e+00, -1.52568018e+00, ...,\n",
              "         2.21950957e-03, -5.48161427e-03,  6.84147188e-03],\n",
              "       [ 1.07116022e+01, -1.05823946e+01, -2.80103064e+00, ...,\n",
              "         3.01308246e-05, -5.04299905e-03, -4.00533946e-03],\n",
              "       [ 1.09822922e+01, -1.14356174e+01, -4.11199427e+00, ...,\n",
              "        -1.42327910e-02, -1.47136173e-03,  4.44562500e-03],\n",
              "       ...,\n",
              "       [ 6.82968020e-01,  4.12784338e+00, -4.97534800e+00, ...,\n",
              "         1.08294515e-02,  3.12564283e-04, -9.97059513e-03],\n",
              "       [ 6.24187326e+00,  1.07043686e+01, -2.59002805e-01, ...,\n",
              "         3.88483657e-03, -2.24807346e-03, -4.71471623e-03],\n",
              "       [-1.73092306e+00, -1.91358364e+00, -4.82025051e+00, ...,\n",
              "        -4.65087919e-03, -4.73899953e-03, -5.62364096e-03]], dtype=float32)"
            ]
          },
          "metadata": {},
          "execution_count": 19
        }
      ]
    },
    {
      "cell_type": "code",
      "metadata": {
        "id": "379Ot84ifIwP"
      },
      "source": [
        "import matplotlib.pyplot as plt\n",
        "import seaborn as sns"
      ],
      "execution_count": null,
      "outputs": []
    },
    {
      "cell_type": "code",
      "metadata": {
        "colab": {
          "base_uri": "https://localhost:8080/",
          "height": 396
        },
        "id": "sBhtqgwLhIkn",
        "outputId": "ed46983a-548e-40fa-a355-2688ea6891c4"
      },
      "source": [
        "fig, ax = plt.subplots(nrows=1, ncols=2, figsize=(13.5 ,4))\n",
        "sns.scatterplot(X_pca[:, 0], X_pca[:, 1], hue=y, palette='Set1', ax=ax[0])\n",
        "sns.scatterplot(X_kpca[:, 0], X_kpca[:, 1], hue=y, palette='Set1', ax=ax[1])\n",
        "ax[0].set_title(\"PCA\", fontsize=15, pad=15)\n",
        "ax[1].set_title(\"RBF Kernel PCA\", fontsize=15, pad=15)\n",
        "ax[0].set_xlabel(\"Component 1\", fontsize=12)\n",
        "ax[0].set_ylabel(\"Component 2\", fontsize=12)\n",
        "ax[1].set_xlabel(\"Component 1\", fontsize=12)\n",
        "ax[1].set_ylabel(\"Component 2\", fontsize=12)\n",
        "plt.savefig('PCA vs Kernel PCA.png', dpi=100)"
      ],
      "execution_count": null,
      "outputs": [
        {
          "output_type": "stream",
          "name": "stderr",
          "text": [
            "/usr/local/lib/python3.7/dist-packages/seaborn/_decorators.py:43: FutureWarning: Pass the following variables as keyword args: x, y. From version 0.12, the only valid positional argument will be `data`, and passing other arguments without an explicit keyword will result in an error or misinterpretation.\n",
            "  FutureWarning\n",
            "/usr/local/lib/python3.7/dist-packages/seaborn/_decorators.py:43: FutureWarning: Pass the following variables as keyword args: x, y. From version 0.12, the only valid positional argument will be `data`, and passing other arguments without an explicit keyword will result in an error or misinterpretation.\n",
            "  FutureWarning\n"
          ]
        },
        {
          "output_type": "display_data",
          "data": {
            "image/png": "[encoded data removed]",
            "text/plain": [
              "<Figure size 972x288 with 2 Axes>"
            ]
          },
          "metadata": {
            "needs_background": "light"
          }
        }
      ]
    },
    {
      "cell_type": "code",
      "metadata": {
        "colab": {
          "base_uri": "https://localhost:8080/",
          "height": 397
        },
        "id": "xdPwYPjoeUOn",
        "outputId": "c43570fd-def7-4f24-da54-b6f4634bb33f"
      },
      "source": [
        "fig, ax = plt.subplots(nrows=1, ncols=2, figsize=(13.5 ,4))\n",
        "sns.scatterplot(X_pca[:, 0], X_pca[:, 1], hue=y, palette='Set1', ax=ax[0])\n",
        "sns.scatterplot(X_kpca[:, 0], X_kpca[:, 1], hue=y, palette='Set1', ax=ax[1])\n",
        "ax[0].set_title(\"PCA\", fontsize=15, pad=15)\n",
        "ax[1].set_title(\"RBF Kernel PCA\", fontsize=15, pad=15)\n",
        "ax[0].set_xlabel(\"Component 1\", fontsize=12)\n",
        "ax[0].set_ylabel(\"Component 2\", fontsize=12)\n",
        "ax[1].set_xlabel(\"Component 1\", fontsize=12)\n",
        "ax[1].set_ylabel(\"Component 2\", fontsize=12)\n",
        "plt.savefig('PCA vs Kernel PCA.png', dpi=100)"
      ],
      "execution_count": null,
      "outputs": [
        {
          "output_type": "stream",
          "name": "stderr",
          "text": [
            "/usr/local/lib/python3.7/dist-packages/seaborn/_decorators.py:43: FutureWarning: Pass the following variables as keyword args: x, y. From version 0.12, the only valid positional argument will be `data`, and passing other arguments without an explicit keyword will result in an error or misinterpretation.\n",
            "  FutureWarning\n",
            "/usr/local/lib/python3.7/dist-packages/seaborn/_decorators.py:43: FutureWarning: Pass the following variables as keyword args: x, y. From version 0.12, the only valid positional argument will be `data`, and passing other arguments without an explicit keyword will result in an error or misinterpretation.\n",
            "  FutureWarning\n"
          ]
        },
        {
          "output_type": "display_data",
          "data": {
            "image/png": "[encoded data removed]",
            "text/plain": [
              "<Figure size 972x288 with 2 Axes>"
            ]
          },
          "metadata": {
            "needs_background": "light"
          }
        }
      ]
    },
    {
      "cell_type": "code",
      "metadata": {
        "id": "ujV9wjnGtel-",
        "colab": {
          "base_uri": "https://localhost:8080/"
        },
        "outputId": "a0b62f39-eb25-463d-bdb3-ebf3ca013a12"
      },
      "source": [
        "import tensorflow as tf\n",
        "print(tf.__version__)\n",
        "\n",
        "from tensorflow import keras\n",
        "from tensorflow.keras import layers"
      ],
      "execution_count": null,
      "outputs": [
        {
          "output_type": "stream",
          "name": "stdout",
          "text": [
            "2.6.0\n"
          ]
        }
      ]
    },
    {
      "cell_type": "markdown",
      "metadata": {
        "id": "AJ28Sx_QABqA"
      },
      "source": [
        "#creating the input for the transformer"
      ]
    },
    {
      "cell_type": "code",
      "metadata": {
        "id": "AAxFAvPTEB4u"
      },
      "source": [
        "#creating the input for the transformer\n",
        "x_train=[]\n",
        "y_train=[]\n",
        "for i in range(df_train.shape[0]):\n",
        "  x_train.append(df_train[\"mean_emb\"][i])\n",
        "  y_train.append(df_train[\"label\"][i])"
      ],
      "execution_count": null,
      "outputs": []
    },
    {
      "cell_type": "code",
      "metadata": {
        "id": "3GuRff91EB6_"
      },
      "source": [
        "x_tr = np.array(x_train)\n",
        "y_tr=np.array(y_train)"
      ],
      "execution_count": null,
      "outputs": []
    },
    {
      "cell_type": "code",
      "metadata": {
        "id": "jJg6BxE8ECCK",
        "colab": {
          "base_uri": "https://localhost:8080/"
        },
        "outputId": "809d287f-d59d-454b-f1eb-1504f4345ebc"
      },
      "source": [
        "x_tr.shape, y_tr.shape"
      ],
      "execution_count": null,
      "outputs": [
        {
          "output_type": "execute_result",
          "data": {
            "text/plain": [
              "((13552, 768), (13552,))"
            ]
          },
          "metadata": {},
          "execution_count": 101
        }
      ]
    },
    {
      "cell_type": "code",
      "metadata": {
        "id": "2Fr1weEgECEU",
        "colab": {
          "base_uri": "https://localhost:8080/"
        },
        "outputId": "c0af699c-9710-4468-d9ea-6c8361b5a7a8"
      },
      "source": [
        "#creating the validation input \n",
        "x_val=[]\n",
        "y_val=[]\n",
        "for i in range(df_val.shape[0]):\n",
        "  x_val.append(df_val[\"mean_emb\"][i])\n",
        "  y_val.append(df_val[\"label\"][i])\n",
        "\n",
        "x_va = np.array(x_val)\n",
        "y_va=np.array(y_val)\n",
        "\n",
        "x_va.shape, y_va.shape"
      ],
      "execution_count": null,
      "outputs": [
        {
          "output_type": "execute_result",
          "data": {
            "text/plain": [
              "((3388, 768), (3388,))"
            ]
          },
          "metadata": {},
          "execution_count": 102
        }
      ]
    },
    {
      "cell_type": "code",
      "metadata": {
        "id": "rt_L20xgECHh",
        "colab": {
          "base_uri": "https://localhost:8080/"
        },
        "outputId": "a45eca7d-9a84-43b8-df25-3fc0bd93d648"
      },
      "source": [
        "#creating the test input \n",
        "x_test=[]\n",
        "y_test=[]\n",
        "for i in range(df_test.shape[0]):\n",
        "  x_test.append(df_test[\"mean_emb\"][i])\n",
        "  y_test.append(df_test[\"label\"][i])\n",
        "\n",
        "x_te = np.array(x_test)\n",
        "y_te=np.array(y_test)\n",
        "\n",
        "x_te.shape, y_te.shape"
      ],
      "execution_count": null,
      "outputs": [
        {
          "output_type": "execute_result",
          "data": {
            "text/plain": [
              "((202, 768), (202,))"
            ]
          },
          "metadata": {},
          "execution_count": 103
        }
      ]
    },
    {
      "cell_type": "code",
      "metadata": {
        "id": "VwZYsz2VGfzh",
        "colab": {
          "base_uri": "https://localhost:8080/"
        },
        "outputId": "500d50ce-070a-431c-d112-c8a1d23cc968"
      },
      "source": [
        "#creating the validation input \n",
        "x_e_tr=[]\n",
        "y_e_tr=[]\n",
        "for i in range(df_train.shape[0]):\n",
        "  x_e_tr.append(df_train[\"emb\"][i])\n",
        "  y_e_tr.append(df_train[\"label\"][i])\n",
        "\n",
        "x_emb_tr = np.array(x_e_tr)\n",
        "y_emb_tr=np.array(y_e_tr)\n",
        "\n",
        "x_emb_tr.shape, y_emb_tr.shape"
      ],
      "execution_count": null,
      "outputs": [
        {
          "output_type": "stream",
          "name": "stderr",
          "text": [
            "/usr/local/lib/python3.7/dist-packages/ipykernel_launcher.py:8: VisibleDeprecationWarning: Creating an ndarray from ragged nested sequences (which is a list-or-tuple of lists-or-tuples-or ndarrays with different lengths or shapes) is deprecated. If you meant to do this, you must specify 'dtype=object' when creating the ndarray\n",
            "  \n"
          ]
        },
        {
          "output_type": "execute_result",
          "data": {
            "text/plain": [
              "((13552,), (13552,))"
            ]
          },
          "metadata": {},
          "execution_count": 104
        }
      ]
    },
    {
      "cell_type": "code",
      "metadata": {
        "id": "YG_P1rUaHLek",
        "colab": {
          "base_uri": "https://localhost:8080/"
        },
        "outputId": "f0253841-e651-4468-c0ed-32c327d1745f"
      },
      "source": [
        "df_train[\"emb\"][0]"
      ],
      "execution_count": null,
      "outputs": [
        {
          "output_type": "execute_result",
          "data": {
            "text/plain": [
              "array([[-0.0211  , -0.288349,  0.72197 ,  0.324376, ...,  0.802411,  0.902796, -0.522767, -0.101945],\n",
              "       [-0.613593, -0.196634,  0.545469,  0.765092, ...,  0.781981,  0.731322, -0.640408,  0.276129]], dtype=float32)"
            ]
          },
          "metadata": {},
          "execution_count": 105
        }
      ]
    },
    {
      "cell_type": "code",
      "metadata": {
        "id": "y10w4cAFHR_0",
        "colab": {
          "base_uri": "https://localhost:8080/"
        },
        "outputId": "63071b4f-8620-4c6e-a652-9289df6a9e78"
      },
      "source": [
        "type(x_emb_tr[0])"
      ],
      "execution_count": null,
      "outputs": [
        {
          "output_type": "execute_result",
          "data": {
            "text/plain": [
              "numpy.ndarray"
            ]
          },
          "metadata": {},
          "execution_count": 106
        }
      ]
    },
    {
      "cell_type": "code",
      "metadata": {
        "id": "kvHh_ZA2F-Jh",
        "colab": {
          "base_uri": "https://localhost:8080/"
        },
        "outputId": "72ac5916-079a-48af-c0e9-628f1dca4c85"
      },
      "source": [
        "#creating the validation input \n",
        "x_e_val=[]\n",
        "y_e_val=[]\n",
        "for i in range(df_val.shape[0]):\n",
        "  x_e_val.append(df_val[\"emb\"][i])\n",
        "  y_e_val.append(df_val[\"label\"][i])\n",
        "\n",
        "x_emb_val = np.array(x_e_val)\n",
        "y_emb_val=np.array(y_e_val)\n",
        "\n",
        "x_emb_val.shape, y_emb_val.shape"
      ],
      "execution_count": null,
      "outputs": [
        {
          "output_type": "stream",
          "name": "stderr",
          "text": [
            "/usr/local/lib/python3.7/dist-packages/ipykernel_launcher.py:8: VisibleDeprecationWarning: Creating an ndarray from ragged nested sequences (which is a list-or-tuple of lists-or-tuples-or ndarrays with different lengths or shapes) is deprecated. If you meant to do this, you must specify 'dtype=object' when creating the ndarray\n",
            "  \n"
          ]
        },
        {
          "output_type": "execute_result",
          "data": {
            "text/plain": [
              "((3388,), (3388,))"
            ]
          },
          "metadata": {},
          "execution_count": 107
        }
      ]
    },
    {
      "cell_type": "code",
      "metadata": {
        "id": "crzKglP9F-NV",
        "colab": {
          "base_uri": "https://localhost:8080/"
        },
        "outputId": "c1ae3fc4-3f51-4317-dfa9-ae5551530502"
      },
      "source": [
        "#creating the validation input \n",
        "x_e_test=[]\n",
        "y_e_test=[]\n",
        "for i in range(df_test.shape[0]):\n",
        "  x_e_test.append(df_test[\"emb\"][i])\n",
        "  y_e_test.append(df_test[\"label\"][i])\n",
        "\n",
        "x_emb_test = np.array(x_e_test)\n",
        "y_emb_test=np.array(y_e_test)\n",
        "\n",
        "x_emb_test.shape, y_emb_test.shape"
      ],
      "execution_count": null,
      "outputs": [
        {
          "output_type": "execute_result",
          "data": {
            "text/plain": [
              "((202, 5, 768), (202,))"
            ]
          },
          "metadata": {},
          "execution_count": 108
        }
      ]
    },
    {
      "cell_type": "code",
      "metadata": {
        "id": "WQLxgV51H4eN",
        "colab": {
          "base_uri": "https://localhost:8080/"
        },
        "outputId": "d9f06055-1c78-4f42-a4a4-184a4a3e131b"
      },
      "source": [
        "x_emb_test[0]"
      ],
      "execution_count": null,
      "outputs": [
        {
          "output_type": "execute_result",
          "data": {
            "text/plain": [
              "array([[ 0.905484, -0.439665,  0.487833, -0.930498, ...,  0.112375,  0.137263, -0.564621, -0.94157 ],\n",
              "       [ 0.888559, -0.55981 ,  0.310729, -0.926052, ...,  0.522132, -0.091857, -0.516601, -0.920653],\n",
              "       [ 0.817395, -0.587691,  0.022902, -0.899876, ...,  0.502195, -0.195852, -0.613516, -0.917648],\n",
              "       [ 0.830759, -0.514598, -0.549505, -0.924031, ...,  0.668297, -0.828999, -0.413538, -0.658639],\n",
              "       [ 0.903599, -0.489176,  0.847997, -0.956377, ...,  0.537001,  0.373665, -0.429996, -0.934402]], dtype=float32)"
            ]
          },
          "metadata": {},
          "execution_count": 109
        }
      ]
    },
    {
      "cell_type": "code",
      "metadata": {
        "id": "VULdNfW-NF1E"
      },
      "source": [
        "#Masking the input for same length \n",
        "num_features=150\n",
        "def input_generator(df):\n",
        "    x_list= df['emb'].to_list()\n",
        "    y_list= df.label.to_list()\n",
        "    timesteps = len(max(df['emb'].to_list(), key=len))\n",
        "    x_train= np.full((df['emb'].shape[0], timesteps, num_features), -99.)\n",
        "    y_train = np.zeros((df['emb'].shape[0],  1))\n",
        "    for b in range(len(x_list)):\n",
        "        x_train[b, 0:len(x_list[b]), :] = x_list[b]\n",
        "        y_train[b]=y_list[b]\n",
        "    return x_train, y_train\n"
      ],
      "execution_count": null,
      "outputs": []
    },
    {
      "cell_type": "code",
      "metadata": {
        "id": "9CL7nSeONF41",
        "colab": {
          "base_uri": "https://localhost:8080/"
        },
        "outputId": "3fff45fb-6a43-4910-8066-d8928ffaf719"
      },
      "source": [
        "x_train_new,y_train_new=input_generator(df_train)\n",
        "x_train_new.shape, y_train_new.shape"
      ],
      "execution_count": null,
      "outputs": [
        {
          "output_type": "execute_result",
          "data": {
            "text/plain": [
              "((13552, 4, 768), (13552, 1))"
            ]
          },
          "metadata": {},
          "execution_count": 111
        }
      ]
    },
    {
      "cell_type": "code",
      "metadata": {
        "id": "-p_6wrnUq20C",
        "colab": {
          "base_uri": "https://localhost:8080/"
        },
        "outputId": "15d37d82-8365-4bc7-a78d-5d2a3e15171d"
      },
      "source": [
        "x_val_new,y_val_new=input_generator(df_val)\n",
        "x_val_new.shape, y_val_new.shape"
      ],
      "execution_count": null,
      "outputs": [
        {
          "output_type": "execute_result",
          "data": {
            "text/plain": [
              "((3388, 4, 768), (3388, 1))"
            ]
          },
          "metadata": {},
          "execution_count": 112
        }
      ]
    },
    {
      "cell_type": "markdown",
      "metadata": {
        "id": "4jjLFxtFEMn2"
      },
      "source": [
        "# Transformer Model Creation"
      ]
    },
    {
      "cell_type": "code",
      "metadata": {
        "id": "vEuPjsHsJ_cd"
      },
      "source": [
        "# import tensorflow.compat.v1 as tf\n",
        "# tf.disable_v2_behavior()"
      ],
      "execution_count": null,
      "outputs": []
    },
    {
      "cell_type": "code",
      "metadata": {
        "id": "nPNEhHPhECPW"
      },
      "source": [
        "\n",
        "class TransformerBlock(layers.Layer):\n",
        "    def __init__(self, embed_dim, num_heads, ff_dim, rate=0.1):\n",
        "        super(TransformerBlock, self).__init__()\n",
        "        self.att = layers.MultiHeadAttention(num_heads=num_heads, key_dim=embed_dim)\n",
        "        self.ffn = keras.Sequential(\n",
        "            [layers.Dense(ff_dim, activation=\"relu\"), layers.Dense(embed_dim),]\n",
        "        )\n",
        "        self.layernorm1 = layers.LayerNormalization(epsilon=1e-6)\n",
        "        self.layernorm2 = layers.LayerNormalization(epsilon=1e-6)\n",
        "        self.dropout1 = layers.Dropout(rate)\n",
        "        self.dropout2 = layers.Dropout(rate)\n",
        "\n",
        "    def call(self, inputs, training):\n",
        "        attn_output = self.att(inputs, inputs)\n",
        "        attn_output = self.dropout1(attn_output, training=training)\n",
        "        out1 = self.layernorm1(inputs + attn_output)\n",
        "        ffn_output = self.ffn(out1)\n",
        "        ffn_output = self.dropout2(ffn_output, training=training)\n",
        "        return self.layernorm2(out1 + ffn_output)\n"
      ],
      "execution_count": null,
      "outputs": []
    },
    {
      "cell_type": "code",
      "metadata": {
        "id": "oaY8TCx1ECSk"
      },
      "source": [
        "\n",
        "class TokenAndPositionEmbedding(layers.Layer):\n",
        "    def __init__(self, maxlen, vocab_size, embed_dim):\n",
        "        super(TokenAndPositionEmbedding, self).__init__()\n",
        "        #self.token_emb = layers.Embedding(input_dim=vocab_size, output_dim=embed_dim)\n",
        "        self.pos_emb = layers.Embedding(input_dim=maxlen, output_dim=embed_dim)\n",
        "\n",
        "    def call(self, x):\n",
        "        maxlen = tf.shape(x)[-1]\n",
        "        positions = tf.range(start=0, limit=maxlen, delta=1)\n",
        "        positions = self.pos_emb(positions)\n",
        "        print(positions)\n",
        "        #x = self.token_emb(x)\n",
        "        print(x)\n",
        "        return x + positions\n"
      ],
      "execution_count": null,
      "outputs": []
    },
    {
      "cell_type": "code",
      "metadata": {
        "id": "WF8P5ZeeFc24"
      },
      "source": [
        "df_train['emb'].shape"
      ],
      "execution_count": null,
      "outputs": []
    },
    {
      "cell_type": "code",
      "metadata": {
        "id": "LGsLtaddJEyE"
      },
      "source": [
        "vocab_size = 30  # Only consider the top 20k words\n",
        "maxlen = 4  # Only consider the first 200 words of each movie review"
      ],
      "execution_count": null,
      "outputs": []
    },
    {
      "cell_type": "code",
      "metadata": {
        "id": "7vGBiRyvECUz",
        "colab": {
          "base_uri": "https://localhost:8080/"
        },
        "outputId": "533110ed-9319-4864-9570-deaf4a56a1b9"
      },
      "source": [
        "\n",
        "embed_dim = 768  # Embedding size for each token\n",
        "num_heads = 2  # Number of attention heads\n",
        "ff_dim = 32  # Hidden layer size in feed forward network inside transformer\n",
        "\n",
        "inputs = layers.Input(shape=(None,768,))\n",
        "embedding_layer = TokenAndPositionEmbedding(maxlen, vocab_size, embed_dim)\n",
        "x = embedding_layer(inputs)\n",
        "x = inputs\n",
        "transformer_block = TransformerBlock(embed_dim, num_heads, ff_dim)\n",
        "x = transformer_block(x,True)\n",
        "x = layers.GlobalAveragePooling1D()(x)\n",
        "x = layers.Dropout(0.1)(x)\n",
        "x = layers.Dense(20, activation=\"relu\")(x)\n",
        "x = layers.Dropout(0.1)(x)\n",
        "outputs = layers.Dense(10, activation=\"softmax\")(x)\n",
        "\n",
        "model = keras.Model(inputs=inputs, outputs=outputs)\n"
      ],
      "execution_count": null,
      "outputs": [
        {
          "output_type": "stream",
          "name": "stdout",
          "text": [
            "Tensor(\"token_and_position_embedding_2/embedding_2/embedding_lookup/Identity_1:0\", shape=(?, 768), dtype=float32)\n",
            "Tensor(\"input_3:0\", shape=(?, ?, 768), dtype=float32)\n"
          ]
        }
      ]
    },
    {
      "cell_type": "code",
      "metadata": {
        "colab": {
          "base_uri": "https://localhost:8080/"
        },
        "id": "pkzSHzJgJRwV",
        "outputId": "044753d0-fdc1-442a-deea-b522c929ab7b"
      },
      "source": [
        "x_emb_tr[0].shape"
      ],
      "execution_count": null,
      "outputs": [
        {
          "output_type": "execute_result",
          "data": {
            "text/plain": [
              "(2, 768)"
            ]
          },
          "metadata": {},
          "execution_count": 121
        }
      ]
    },
    {
      "cell_type": "code",
      "metadata": {
        "colab": {
          "base_uri": "https://localhost:8080/"
        },
        "id": "fr7VUJO5sL_k",
        "outputId": "b80eeba0-0304-4d7f-f3f2-afc187bd2f06"
      },
      "source": [
        "print(tf.__version__)"
      ],
      "execution_count": null,
      "outputs": [
        {
          "output_type": "stream",
          "name": "stdout",
          "text": [
            "2.5.0\n"
          ]
        }
      ]
    },
    {
      "cell_type": "code",
      "metadata": {
        "colab": {
          "base_uri": "https://localhost:8080/"
        },
        "id": "B7bsikdnAqGt",
        "outputId": "77d5c4bd-d39f-4380-f148-90b4787c30ff"
      },
      "source": [
        "x_train_new.shape"
      ],
      "execution_count": null,
      "outputs": [
        {
          "output_type": "execute_result",
          "data": {
            "text/plain": [
              "(13552, 4, 768)"
            ]
          },
          "metadata": {},
          "execution_count": 147
        }
      ]
    },
    {
      "cell_type": "code",
      "metadata": {
        "colab": {
          "base_uri": "https://localhost:8080/"
        },
        "id": "DfNFj498A4yy",
        "outputId": "bf5fba5b-b50f-499d-ac82-883b4d565f9f"
      },
      "source": [
        "print(tf.test.gpu_device_name())"
      ],
      "execution_count": null,
      "outputs": [
        {
          "output_type": "stream",
          "name": "stdout",
          "text": [
            "/device:GPU:0\n"
          ]
        }
      ]
    },
    {
      "cell_type": "code",
      "metadata": {
        "colab": {
          "base_uri": "https://localhost:8080/"
        },
        "id": "EvrHprKNECYB",
        "outputId": "4c352238-0691-43da-88c3-72581c75f68d"
      },
      "source": [
        "model.compile(\"adam\", \"sparse_categorical_crossentropy\", metrics=[\"accuracy\"])\n",
        "model.fit(x_train_new, y_train_new, batch_size=32, epochs=40, validation_data=(x_val_new, y_val_new))"
      ],
      "execution_count": null,
      "outputs": [
        {
          "output_type": "stream",
          "name": "stdout",
          "text": [
            "Train on 13552 samples, validate on 3388 samples\n",
            "Epoch 1/40\n",
            "13312/13552 [============================>.] - ETA: 0s - loss: 0.6208 - acc: 0.8098"
          ]
        },
        {
          "output_type": "stream",
          "name": "stderr",
          "text": [
            "/usr/local/lib/python3.7/dist-packages/tensorflow/python/keras/engine/training.py:2426: UserWarning: `Model.state_updates` will be removed in a future version. This property should not be used in TensorFlow 2.0, as `updates` are applied automatically.\n",
            "  warnings.warn('`Model.state_updates` will be removed in a future version. '\n"
          ]
        },
        {
          "output_type": "stream",
          "name": "stdout",
          "text": [
            "13552/13552 [==============================] - 3s 239us/sample - loss: 0.6209 - acc: 0.8097 - val_loss: 0.6674 - val_acc: 0.7999\n",
            "Epoch 2/40\n",
            "13552/13552 [==============================] - 3s 206us/sample - loss: 0.6647 - acc: 0.8000 - val_loss: 0.6780 - val_acc: 0.7931\n",
            "Epoch 3/40\n",
            "13552/13552 [==============================] - 3s 206us/sample - loss: 0.6643 - acc: 0.7981 - val_loss: 0.6574 - val_acc: 0.8037\n",
            "Epoch 4/40\n",
            "13552/13552 [==============================] - 3s 204us/sample - loss: 0.7473 - acc: 0.7830 - val_loss: 0.6877 - val_acc: 0.7946\n",
            "Epoch 5/40\n",
            "13552/13552 [==============================] - 3s 203us/sample - loss: 0.6128 - acc: 0.8212 - val_loss: 0.4582 - val_acc: 0.8843\n",
            "Epoch 6/40\n",
            "13552/13552 [==============================] - 3s 204us/sample - loss: 0.4712 - acc: 0.8675 - val_loss: 0.4866 - val_acc: 0.8439\n",
            "Epoch 7/40\n",
            "13552/13552 [==============================] - 3s 204us/sample - loss: 0.4870 - acc: 0.8393 - val_loss: 0.4805 - val_acc: 0.8430\n",
            "Epoch 8/40\n",
            "13552/13552 [==============================] - 3s 204us/sample - loss: 0.4817 - acc: 0.8370 - val_loss: 0.4925 - val_acc: 0.8406\n",
            "Epoch 9/40\n",
            "13552/13552 [==============================] - 3s 204us/sample - loss: 0.4891 - acc: 0.8350 - val_loss: 0.4806 - val_acc: 0.8424\n",
            "Epoch 10/40\n",
            "13552/13552 [==============================] - 3s 203us/sample - loss: 0.4892 - acc: 0.8360 - val_loss: 0.4919 - val_acc: 0.8415\n",
            "Epoch 11/40\n",
            "13552/13552 [==============================] - 3s 204us/sample - loss: 0.4858 - acc: 0.8366 - val_loss: 0.4947 - val_acc: 0.8365\n",
            "Epoch 12/40\n",
            "13552/13552 [==============================] - 3s 204us/sample - loss: 0.4987 - acc: 0.8301 - val_loss: 0.5199 - val_acc: 0.8229\n",
            "Epoch 13/40\n",
            "13552/13552 [==============================] - 3s 204us/sample - loss: 0.5182 - acc: 0.8293 - val_loss: 0.4973 - val_acc: 0.8456\n",
            "Epoch 14/40\n",
            "13552/13552 [==============================] - 3s 204us/sample - loss: 0.4837 - acc: 0.8422 - val_loss: 0.4855 - val_acc: 0.8492\n",
            "Epoch 15/40\n",
            "13552/13552 [==============================] - 3s 203us/sample - loss: 0.4455 - acc: 0.8514 - val_loss: 0.4538 - val_acc: 0.8551\n",
            "Epoch 16/40\n",
            "13552/13552 [==============================] - 3s 208us/sample - loss: 0.4418 - acc: 0.8539 - val_loss: 0.4427 - val_acc: 0.8619\n",
            "Epoch 17/40\n",
            "13552/13552 [==============================] - 3s 211us/sample - loss: 0.4274 - acc: 0.8605 - val_loss: 0.4270 - val_acc: 0.8707\n",
            "Epoch 18/40\n",
            "13552/13552 [==============================] - 3s 209us/sample - loss: 0.4185 - acc: 0.8683 - val_loss: 0.4024 - val_acc: 0.8766\n",
            "Epoch 19/40\n",
            "13552/13552 [==============================] - 3s 208us/sample - loss: 0.4040 - acc: 0.8723 - val_loss: 0.4007 - val_acc: 0.8811\n",
            "Epoch 20/40\n",
            "13552/13552 [==============================] - 3s 205us/sample - loss: 0.3989 - acc: 0.8725 - val_loss: 0.4093 - val_acc: 0.8672\n",
            "Epoch 21/40\n",
            "13552/13552 [==============================] - 3s 202us/sample - loss: 0.3974 - acc: 0.8751 - val_loss: 0.3954 - val_acc: 0.8740\n",
            "Epoch 22/40\n",
            "13552/13552 [==============================] - 3s 202us/sample - loss: 0.3937 - acc: 0.8754 - val_loss: 0.3740 - val_acc: 0.8799\n",
            "Epoch 23/40\n",
            "13552/13552 [==============================] - 3s 204us/sample - loss: 0.3691 - acc: 0.8865 - val_loss: 0.3724 - val_acc: 0.8816\n",
            "Epoch 24/40\n",
            "13552/13552 [==============================] - 3s 202us/sample - loss: 0.3661 - acc: 0.8841 - val_loss: 0.3727 - val_acc: 0.8843\n",
            "Epoch 25/40\n",
            "13552/13552 [==============================] - 3s 202us/sample - loss: 0.3608 - acc: 0.8854 - val_loss: 0.3757 - val_acc: 0.8852\n",
            "Epoch 26/40\n",
            "13552/13552 [==============================] - 3s 202us/sample - loss: 0.3805 - acc: 0.8794 - val_loss: 0.4139 - val_acc: 0.8725\n",
            "Epoch 27/40\n",
            "13552/13552 [==============================] - 3s 202us/sample - loss: 0.4182 - acc: 0.8645 - val_loss: 0.4070 - val_acc: 0.8743\n",
            "Epoch 28/40\n",
            "13552/13552 [==============================] - 3s 203us/sample - loss: 0.4157 - acc: 0.8675 - val_loss: 0.3999 - val_acc: 0.8754\n",
            "Epoch 29/40\n",
            "13552/13552 [==============================] - 3s 202us/sample - loss: 0.4087 - acc: 0.8692 - val_loss: 0.4042 - val_acc: 0.8749\n",
            "Epoch 30/40\n",
            "13552/13552 [==============================] - 3s 203us/sample - loss: 0.4081 - acc: 0.8695 - val_loss: 0.4139 - val_acc: 0.8660\n",
            "Epoch 31/40\n",
            "13552/13552 [==============================] - 3s 203us/sample - loss: 0.4085 - acc: 0.8697 - val_loss: 0.4026 - val_acc: 0.8692\n",
            "Epoch 32/40\n",
            "13552/13552 [==============================] - 3s 201us/sample - loss: 0.4071 - acc: 0.8713 - val_loss: 0.3921 - val_acc: 0.8790\n",
            "Epoch 33/40\n",
            "13552/13552 [==============================] - 3s 203us/sample - loss: 0.4126 - acc: 0.8636 - val_loss: 0.4357 - val_acc: 0.8619\n",
            "Epoch 34/40\n",
            "13552/13552 [==============================] - 3s 202us/sample - loss: 0.4286 - acc: 0.8555 - val_loss: 0.4297 - val_acc: 0.8610\n",
            "Epoch 35/40\n",
            "13552/13552 [==============================] - 3s 205us/sample - loss: 0.4287 - acc: 0.8540 - val_loss: 0.4308 - val_acc: 0.8568\n",
            "Epoch 36/40\n",
            "13552/13552 [==============================] - 3s 202us/sample - loss: 0.4300 - acc: 0.8558 - val_loss: 0.4375 - val_acc: 0.8586\n",
            "Epoch 37/40\n",
            "13552/13552 [==============================] - 3s 203us/sample - loss: 0.3703 - acc: 0.8867 - val_loss: 0.3365 - val_acc: 0.9097\n",
            "Epoch 38/40\n",
            "13552/13552 [==============================] - 3s 202us/sample - loss: 0.3145 - acc: 0.9129 - val_loss: 0.3346 - val_acc: 0.9109\n",
            "Epoch 39/40\n",
            "13552/13552 [==============================] - 3s 201us/sample - loss: 0.3113 - acc: 0.9120 - val_loss: 0.3288 - val_acc: 0.9103\n",
            "Epoch 40/40\n",
            "13552/13552 [==============================] - 3s 204us/sample - loss: 0.3085 - acc: 0.9140 - val_loss: 0.3284 - val_acc: 0.9050\n"
          ]
        },
        {
          "output_type": "execute_result",
          "data": {
            "text/plain": [
              "<tensorflow.python.keras.callbacks.History at 0x7fba51084c10>"
            ]
          },
          "metadata": {},
          "execution_count": 159
        }
      ]
    },
    {
      "cell_type": "code",
      "metadata": {
        "colab": {
          "base_uri": "https://localhost:8080/"
        },
        "id": "eIQlsqtbNian",
        "outputId": "dac8ca65-3b57-4169-e9b0-988917c0e127"
      },
      "source": [
        "x_test_new,y_test_new=input_generator(df_test)\n",
        "x_test_new.shape, y_test_new.shape"
      ],
      "execution_count": null,
      "outputs": [
        {
          "output_type": "execute_result",
          "data": {
            "text/plain": [
              "((202, 5, 768), (202, 1))"
            ]
          },
          "metadata": {},
          "execution_count": 160
        }
      ]
    },
    {
      "cell_type": "code",
      "metadata": {
        "id": "Osm4n2r4ECaR",
        "colab": {
          "base_uri": "https://localhost:8080/"
        },
        "outputId": "711be08c-cb3f-466e-dfdc-501c102b7fc3"
      },
      "source": [
        "y_proba=model.predict(x_test_new)"
      ],
      "execution_count": null,
      "outputs": [
        {
          "output_type": "stream",
          "name": "stderr",
          "text": [
            "/usr/local/lib/python3.7/dist-packages/tensorflow/python/keras/engine/training.py:2426: UserWarning: `Model.state_updates` will be removed in a future version. This property should not be used in TensorFlow 2.0, as `updates` are applied automatically.\n",
            "  warnings.warn('`Model.state_updates` will be removed in a future version. '\n"
          ]
        }
      ]
    },
    {
      "cell_type": "code",
      "metadata": {
        "colab": {
          "base_uri": "https://localhost:8080/"
        },
        "id": "SmgGLck-N3gU",
        "outputId": "ccd356fa-d71c-4ab4-e8d8-28a360fc5e02"
      },
      "source": [
        "y_proba"
      ],
      "execution_count": null,
      "outputs": [
        {
          "output_type": "execute_result",
          "data": {
            "text/plain": [
              "array([[9.027434e-08, 3.889851e-05, 3.657653e-12, 2.174903e-05, ..., 2.652809e-03, 2.144997e-04, 9.700734e-05,\n",
              "        9.890404e-01],\n",
              "       [2.792854e-07, 9.998766e-01, 7.441630e-08, 9.730267e-06, ..., 1.914151e-10, 1.179892e-06, 2.513387e-06,\n",
              "        3.028690e-07],\n",
              "       [3.537511e-04, 3.276363e-05, 1.382831e-05, 1.975912e-07, ..., 9.977552e-01, 1.103436e-04, 3.281945e-07,\n",
              "        1.504454e-10],\n",
              "       [1.415591e-03, 3.978645e-04, 3.642303e-05, 2.909844e-05, ..., 9.548303e-01, 1.811554e-03, 7.091745e-05,\n",
              "        4.616264e-08],\n",
              "       ...,\n",
              "       [2.234897e-05, 5.011218e-05, 1.428910e-06, 2.057262e-04, ..., 9.927182e-01, 4.368439e-06, 4.762219e-07,\n",
              "        3.297347e-10],\n",
              "       [2.654622e-03, 4.861393e-04, 8.883431e-05, 2.187428e-06, ..., 9.863436e-01, 8.217194e-04, 2.560095e-05,\n",
              "        1.009410e-08],\n",
              "       [2.371457e-03, 4.260127e-04, 7.784545e-01, 9.026015e-03, ..., 4.324513e-08, 3.308851e-05, 5.799739e-06,\n",
              "        1.303655e-07],\n",
              "       [3.832221e-03, 8.989450e-07, 7.370576e-05, 2.411708e-14, ..., 9.503776e-01, 1.353220e-02, 2.243019e-08,\n",
              "        1.640288e-10]], dtype=float32)"
            ]
          },
          "metadata": {},
          "execution_count": 162
        }
      ]
    },
    {
      "cell_type": "code",
      "metadata": {
        "id": "JqIBkms2NWcM"
      },
      "source": [
        "y_pred=[]\n",
        "for i in y_proba:\n",
        "    max_index_row = np.argmax(i, axis=0)\n",
        "    y_pred.append(max_index_row)"
      ],
      "execution_count": null,
      "outputs": []
    },
    {
      "cell_type": "code",
      "metadata": {
        "colab": {
          "base_uri": "https://localhost:8080/"
        },
        "id": "DXGQ-mvQECdi",
        "outputId": "e5629f18-b93b-433d-c40e-82cfa8e3e4b5"
      },
      "source": [
        "#Evaluating Model Performance by creating confusion matrix and classification report\n",
        "from sklearn.metrics import classification_report, confusion_matrix\n",
        "print('Confusion Matrix')\n",
        "print(confusion_matrix(y_pred, df_test['label']))\n",
        "print('Classification Report')\n",
        "print(classification_report(y_pred, df_test['label']))"
      ],
      "execution_count": null,
      "outputs": [
        {
          "output_type": "stream",
          "name": "stdout",
          "text": [
            "Confusion Matrix\n",
            "[[23  0  2  0 ...  1  0  0  0]\n",
            " [ 0 15  2  0 ...  0  0  2  0]\n",
            " [ 2  0 23  0 ...  0  0  0  0]\n",
            " [ 0  0  0  9 ...  0  0  0  0]\n",
            " ...\n",
            " [ 0  0  0  0 ...  1  0  0  0]\n",
            " [ 1  2  0  0 ...  0 83  0  0]\n",
            " [ 0  0  0  0 ...  0  0  0  0]\n",
            " [ 0  0  0  0 ...  0  0  0  6]]\n",
            "Classification Report\n",
            "              precision    recall  f1-score   support\n",
            "\n",
            "           0       0.88      0.85      0.87        27\n",
            "           1       0.88      0.75      0.81        20\n",
            "           2       0.77      0.92      0.84        25\n",
            "           3       0.90      0.90      0.90        10\n",
            "           4       0.88      0.78      0.82        27\n",
            "           5       0.50      1.00      0.67         1\n",
            "           6       1.00      0.97      0.98        86\n",
            "           8       0.00      0.00      0.00         0\n",
            "           9       0.86      1.00      0.92         6\n",
            "\n",
            "    accuracy                           0.90       202\n",
            "   macro avg       0.74      0.80      0.76       202\n",
            "weighted avg       0.92      0.90      0.90       202\n",
            "\n"
          ]
        },
        {
          "output_type": "stream",
          "name": "stderr",
          "text": [
            "/usr/local/lib/python3.7/dist-packages/sklearn/metrics/_classification.py:1272: UndefinedMetricWarning: Recall and F-score are ill-defined and being set to 0.0 in labels with no true samples. Use `zero_division` parameter to control this behavior.\n",
            "  _warn_prf(average, modifier, msg_start, len(result))\n"
          ]
        }
      ]
    },
    {
      "cell_type": "code",
      "metadata": {
        "colab": {
          "base_uri": "https://localhost:8080/"
        },
        "id": "q88omhCrOAC_",
        "outputId": "abada5ac-d3e3-4beb-e28b-4ec723204766"
      },
      "source": [
        "mat = confusion_matrix(y_pred, df_test['label'])\n",
        "\n",
        "diag = np.diagonal(mat)\n",
        "print('No of correctly identified labels :',sum(diag))\n",
        "print('No of misclassified samples : ',sum(sum(mat))-sum(diag))"
      ],
      "execution_count": null,
      "outputs": [
        {
          "output_type": "stream",
          "name": "stdout",
          "text": [
            "No of correctly identified labels : 181\n",
            "No of misclassified samples :  21\n"
          ]
        }
      ]
    },
    {
      "cell_type": "code",
      "metadata": {
        "id": "X8GN4BX6OAFf"
      },
      "source": [
        ""
      ],
      "execution_count": null,
      "outputs": []
    },
    {
      "cell_type": "code",
      "metadata": {
        "id": "Aoky-kb3OAIu"
      },
      "source": [
        ""
      ],
      "execution_count": null,
      "outputs": []
    },
    {
      "cell_type": "code",
      "metadata": {
        "id": "rUQfjgRGOALP"
      },
      "source": [
        ""
      ],
      "execution_count": null,
      "outputs": []
    },
    {
      "cell_type": "code",
      "metadata": {
        "id": "4OHeBi0sECfz"
      },
      "source": [
        "y_proba=model.predict(x_te)"
      ],
      "execution_count": null,
      "outputs": []
    },
    {
      "cell_type": "code",
      "metadata": {
        "colab": {
          "base_uri": "https://localhost:8080/"
        },
        "id": "okIT4TSQNWZq",
        "outputId": "a5be5b10-56d2-4100-97ea-ad1febf72099"
      },
      "source": [
        "y_proba"
      ],
      "execution_count": null,
      "outputs": [
        {
          "output_type": "execute_result",
          "data": {
            "text/plain": [
              "array([[0.111036, 0.060999, 0.134507, 0.118398, ..., 0.330741, 0.002619, 0.005043, 0.037773],\n",
              "       [0.111038, 0.06101 , 0.134523, 0.118377, ..., 0.330754, 0.00262 , 0.005043, 0.037784],\n",
              "       [0.111036, 0.060999, 0.134507, 0.118398, ..., 0.330741, 0.002619, 0.005043, 0.037773],\n",
              "       [0.111036, 0.060999, 0.134507, 0.118398, ..., 0.330741, 0.002619, 0.005043, 0.037773],\n",
              "       ...,\n",
              "       [0.111036, 0.060999, 0.134507, 0.118398, ..., 0.330741, 0.002619, 0.005043, 0.037773],\n",
              "       [0.111036, 0.060999, 0.134507, 0.118398, ..., 0.330741, 0.002619, 0.005043, 0.037773],\n",
              "       [0.111036, 0.060999, 0.134507, 0.118398, ..., 0.330741, 0.002619, 0.005043, 0.037773],\n",
              "       [0.111036, 0.060999, 0.134507, 0.118398, ..., 0.330741, 0.002619, 0.005043, 0.037773]], dtype=float32)"
            ]
          },
          "metadata": {},
          "execution_count": 135
        }
      ]
    },
    {
      "cell_type": "code",
      "metadata": {
        "colab": {
          "base_uri": "https://localhost:8080/"
        },
        "id": "83Kn_g_5NWfw",
        "outputId": "d54d04a7-430c-488f-fd6f-82f68a9dcabc"
      },
      "source": [
        "#Evaluating Model Performance by creating confusion matrix and classification report\n",
        "from sklearn.metrics import classification_report, confusion_matrix\n",
        "print('Confusion Matrix')\n",
        "print(confusion_matrix(y_pred, df_test['label']))\n",
        "print('Classification Report')\n",
        "print(classification_report(y_pred, df_test['label']))"
      ],
      "execution_count": null,
      "outputs": [
        {
          "output_type": "stream",
          "name": "stdout",
          "text": [
            "Confusion Matrix\n",
            "[[ 0  0  0  0 ...  0  0  0  0]\n",
            " [ 0  0  0  0 ...  0  0  0  0]\n",
            " [ 0  0  0  0 ...  0  0  0  0]\n",
            " [ 0  0  0  0 ...  0  0  0  0]\n",
            " ...\n",
            " [ 0  0  0  0 ...  0  0  0  0]\n",
            " [26 17 30 10 ...  2 83  3  7]\n",
            " [ 0  0  0  0 ...  0  0  0  0]\n",
            " [ 0  0  0  0 ...  0  0  0  0]]\n",
            "Classification Report\n",
            "              precision    recall  f1-score   support\n",
            "\n",
            "           0       0.00      0.00      0.00         0\n",
            "           1       0.00      0.00      0.00         0\n",
            "           2       0.00      0.00      0.00         0\n",
            "           3       0.00      0.00      0.00         0\n",
            "           4       0.00      0.00      0.00         0\n",
            "           5       0.00      0.00      0.00         0\n",
            "           6       1.00      0.41      0.58       202\n",
            "           8       0.00      0.00      0.00         0\n",
            "           9       0.00      0.00      0.00         0\n",
            "\n",
            "    accuracy                           0.41       202\n",
            "   macro avg       0.11      0.05      0.06       202\n",
            "weighted avg       1.00      0.41      0.58       202\n",
            "\n"
          ]
        },
        {
          "output_type": "stream",
          "name": "stderr",
          "text": [
            "/usr/local/lib/python3.7/dist-packages/sklearn/metrics/_classification.py:1272: UndefinedMetricWarning: Recall and F-score are ill-defined and being set to 0.0 in labels with no true samples. Use `zero_division` parameter to control this behavior.\n",
            "  _warn_prf(average, modifier, msg_start, len(result))\n"
          ]
        }
      ]
    },
    {
      "cell_type": "code",
      "metadata": {
        "colab": {
          "base_uri": "https://localhost:8080/"
        },
        "id": "HdhotqlwNrdZ",
        "outputId": "2ead4ee3-f8cb-456e-8bf4-ccf4d29bc8c4"
      },
      "source": [
        "mat = confusion_matrix(y_pred, df_test['label'])\n",
        "\n",
        "diag = np.diagonal(mat)\n",
        "print('No of correctly identified labels :',sum(diag))\n",
        "print('No of misclassified samples : ',sum(sum(mat))-sum(diag))"
      ],
      "execution_count": null,
      "outputs": [
        {
          "output_type": "stream",
          "name": "stdout",
          "text": [
            "No of correctly identified labels : 83\n",
            "No of misclassified samples :  119\n"
          ]
        }
      ]
    },
    {
      "cell_type": "code",
      "metadata": {
        "colab": {
          "base_uri": "https://localhost:8080/"
        },
        "id": "qnkhEoLUNrgL",
        "outputId": "0e7f7ba0-6128-4cd5-801c-2989ac210fc5"
      },
      "source": [
        "tr_emb.shape[0]"
      ],
      "execution_count": null,
      "outputs": [
        {
          "output_type": "execute_result",
          "data": {
            "text/plain": [
              "30891"
            ]
          },
          "metadata": {},
          "execution_count": 145
        }
      ]
    },
    {
      "cell_type": "code",
      "metadata": {
        "colab": {
          "base_uri": "https://localhost:8080/"
        },
        "id": "FeJSU2tbNrjd",
        "outputId": "246461ce-7006-4a13-f7cf-08f2394e24b6"
      },
      "source": [
        "tr_emb.shape[1]"
      ],
      "execution_count": null,
      "outputs": [
        {
          "output_type": "execute_result",
          "data": {
            "text/plain": [
              "768"
            ]
          },
          "metadata": {},
          "execution_count": 146
        }
      ]
    },
    {
      "cell_type": "code",
      "metadata": {
        "id": "HyGh48ltNrrC"
      },
      "source": [
        "from keras.layers import Layer\n",
        "import keras.backend as K"
      ],
      "execution_count": null,
      "outputs": []
    },
    {
      "cell_type": "code",
      "metadata": {
        "id": "nzvrukfGNrtv"
      },
      "source": [
        "class attention(Layer):\n",
        "    def __init__(self,**kwargs):\n",
        "        super(attention,self).__init__(**kwargs)\n",
        "\n",
        "    def build(self,input_shape):\n",
        "        self.W=self.add_weight(name=\"att_weight\",shape=(input_shape[-1],1),initializer=\"normal\")\n",
        "        self.b=self.add_weight(name=\"att_bias\",shape=(input_shape[1],1),initializer=\"zeros\")        \n",
        "        super(attention, self).build(input_shape)\n",
        "\n",
        "    def call(self,x):\n",
        "        et=K.squeeze(K.tanh(K.dot(x,self.W)+self.b),axis=-1)\n",
        "        at=K.softmax(et)\n",
        "        at=K.expand_dims(at,axis=-1)\n",
        "        output=x*at\n",
        "        return K.sum(output,axis=1)\n",
        "\n",
        "    def compute_output_shape(self,input_shape):\n",
        "        return (input_shape[0],input_shape[-1])\n",
        "\n",
        "    def get_config(self):\n",
        "        return super(attention,self).get_config()"
      ],
      "execution_count": null,
      "outputs": []
    },
    {
      "cell_type": "markdown",
      "metadata": {
        "id": "ntSrxvZ4_oI3"
      },
      "source": [
        "# LSTM Model creation"
      ]
    },
    {
      "cell_type": "code",
      "metadata": {
        "colab": {
          "base_uri": "https://localhost:8080/"
        },
        "id": "NtnImAacASBF",
        "outputId": "c37b16e4-b0f6-4542-f411-ca54337625b4"
      },
      "source": [
        "X_pca.shape , y.shape , X_val_pca.shape , y_val.shape , X_test_pca.shape, y_test.shape"
      ],
      "execution_count": null,
      "outputs": [
        {
          "output_type": "execute_result",
          "data": {
            "text/plain": [
              "((13552, 768), (13552,), (3388, 768), (3388,), (202, 202), (202,))"
            ]
          },
          "metadata": {},
          "execution_count": 24
        }
      ]
    },
    {
      "cell_type": "code",
      "metadata": {
        "colab": {
          "base_uri": "https://localhost:8080/"
        },
        "id": "1c6CStkESKte",
        "outputId": "43d49ad7-1da9-40ef-f677-1e0c5f167ea4"
      },
      "source": [
        "X_kpca.shape , y.shape , X_val_kpca.shape , y_val.shape , X_test_kpca.shape, y_test.shape"
      ],
      "execution_count": null,
      "outputs": [
        {
          "output_type": "execute_result",
          "data": {
            "text/plain": [
              "((13552, 768), (13552,), (3388, 768), (3388,), (202, 202), (202,))"
            ]
          },
          "metadata": {},
          "execution_count": 25
        }
      ]
    },
    {
      "cell_type": "code",
      "metadata": {
        "id": "l-UAfkZ-C9vA",
        "colab": {
          "base_uri": "https://localhost:8080/"
        },
        "outputId": "d6e5d2cb-d0d0-41b0-b60e-851858e3a4fe"
      },
      "source": [
        "import tensorflow.compat.v1 as tf\n",
        "tf.disable_v2_behavior()"
      ],
      "execution_count": null,
      "outputs": [
        {
          "output_type": "stream",
          "name": "stdout",
          "text": [
            "WARNING:tensorflow:From /usr/local/lib/python3.7/dist-packages/tensorflow/python/compat/v2_compat.py:101: disable_resource_variables (from tensorflow.python.ops.variable_scope) is deprecated and will be removed in a future version.\n",
            "Instructions for updating:\n",
            "non-resource variables are not supported in the long term\n"
          ]
        }
      ]
    },
    {
      "cell_type": "code",
      "metadata": {
        "colab": {
          "base_uri": "https://localhost:8080/",
          "height": 35
        },
        "id": "jrDuPm-nEh6O",
        "outputId": "ba45b4f0-5909-46cb-dd90-0ecd5acf124d"
      },
      "source": [
        "tf.__version__"
      ],
      "execution_count": null,
      "outputs": [
        {
          "output_type": "execute_result",
          "data": {
            "application/vnd.google.colaboratory.intrinsic+json": {
              "type": "string"
            },
            "text/plain": [
              "'2.6.0'"
            ]
          },
          "metadata": {},
          "execution_count": 27
        }
      ]
    },
    {
      "cell_type": "code",
      "metadata": {
        "colab": {
          "base_uri": "https://localhost:8080/"
        },
        "id": "s0ByUwWTCMGI",
        "outputId": "8e2d8f3c-de7c-47ba-829a-1b4deccf8e8c"
      },
      "source": [
        "from tensorflow.keras import layers\n",
        "from tensorflow.keras.layers import Embedding, Dense, Input, concatenate, Layer, Lambda, Dropout, Activation\n",
        "from tensorflow.keras.models import Sequential, Model\n",
        "text_input = Input(shape=(None,500,), dtype='float32', name='text')\n",
        "\n",
        "l_mask = layers.Masking(mask_value=-99.)(text_input)\n",
        "# Which we encoded in a single vector via a LSTM\n",
        "encoded_text = layers.LSTM(100,return_sequences=True)(l_mask)\n",
        "# att_out=attention()(encoded_text)\n",
        "out_dense = layers.Dense(30, activation='relu')(encoded_text)\n",
        "# # And we add a softmax classifier on top\n",
        "# out = layers.Dense(len(label_list), activation='softmax')(out_dense)\n",
        "out = layers.Dense(10, activation='softmax')(out_dense)\n",
        "# At model instantiation, we specify the input and the output:\n",
        "model500 = Model(text_input, out)\n",
        "model500.compile(optimizer='adam',\n",
        "              loss='sparse_categorical_crossentropy',\n",
        "              metrics=['acc'])\n",
        "model500.summary()"
      ],
      "execution_count": null,
      "outputs": [
        {
          "output_type": "stream",
          "name": "stdout",
          "text": [
            "WARNING:tensorflow:Layer lstm will not use cuDNN kernels since it doesn't meet the criteria. It will use a generic GPU kernel as fallback when running on GPU.\n",
            "Model: \"model\"\n",
            "_________________________________________________________________\n",
            "Layer (type)                 Output Shape              Param #   \n",
            "=================================================================\n",
            "text (InputLayer)            [(None, None, 500)]       0         \n",
            "_________________________________________________________________\n",
            "masking (Masking)            (None, None, 500)         0         \n",
            "_________________________________________________________________\n",
            "lstm (LSTM)                  (None, None, 100)         240400    \n",
            "_________________________________________________________________\n",
            "dense (Dense)                (None, None, 30)          3030      \n",
            "_________________________________________________________________\n",
            "dense_1 (Dense)              (None, None, 10)          310       \n",
            "=================================================================\n",
            "Total params: 243,740\n",
            "Trainable params: 243,740\n",
            "Non-trainable params: 0\n",
            "_________________________________________________________________\n"
          ]
        }
      ]
    },
    {
      "cell_type": "code",
      "metadata": {
        "colab": {
          "base_uri": "https://localhost:8080/"
        },
        "id": "QfiBSgYJGLbD",
        "outputId": "6b52b437-c7f0-41a1-9f33-f7a257c4bc07"
      },
      "source": [
        "text_input = Input(shape=(None,768,), dtype='float32', name='text')\n",
        "\n",
        "l_mask = layers.Masking(mask_value=-99.)(text_input)\n",
        "# Which we encoded in a single vector via a LSTM\n",
        "encoded_text = layers.LSTM(100,return_sequences=True)(l_mask)\n",
        "# att_out=attention()(encoded_text)\n",
        "out_dense = layers.Dense(30, activation='relu')(encoded_text)\n",
        "# # And we add a softmax classifier on top\n",
        "# out = layers.Dense(len(label_list), activation='softmax')(out_dense)\n",
        "out = layers.Dense(10, activation='softmax')(out_dense)\n",
        "# At model instantiation, we specify the input and the output:\n",
        "modelnew = Model(text_input, out)\n",
        "modelnew.compile(optimizer='adam',\n",
        "              loss='sparse_categorical_crossentropy',\n",
        "              metrics=['acc'])\n",
        "modelnew.summary()"
      ],
      "execution_count": null,
      "outputs": [
        {
          "output_type": "stream",
          "name": "stdout",
          "text": [
            "WARNING:tensorflow:Layer lstm_2 will not use cuDNN kernels since it doesn't meet the criteria. It will use a generic GPU kernel as fallback when running on GPU.\n",
            "Model: \"model_2\"\n",
            "_________________________________________________________________\n",
            "Layer (type)                 Output Shape              Param #   \n",
            "=================================================================\n",
            "text (InputLayer)            [(None, None, 768)]       0         \n",
            "_________________________________________________________________\n",
            "masking_2 (Masking)          (None, None, 768)         0         \n",
            "_________________________________________________________________\n",
            "lstm_2 (LSTM)                (None, None, 100)         347600    \n",
            "_________________________________________________________________\n",
            "dense_4 (Dense)              (None, None, 30)          3030      \n",
            "_________________________________________________________________\n",
            "dense_5 (Dense)              (None, None, 10)          310       \n",
            "=================================================================\n",
            "Total params: 350,940\n",
            "Trainable params: 350,940\n",
            "Non-trainable params: 0\n",
            "_________________________________________________________________\n"
          ]
        }
      ]
    },
    {
      "cell_type": "code",
      "metadata": {
        "colab": {
          "base_uri": "https://localhost:8080/"
        },
        "id": "XyANQGOpmiJr",
        "outputId": "93b11e7b-6ef2-4f0f-c50c-5e3029be8bc6"
      },
      "source": [
        "type(X_pca)"
      ],
      "execution_count": null,
      "outputs": [
        {
          "output_type": "execute_result",
          "data": {
            "text/plain": [
              "numpy.ndarray"
            ]
          },
          "metadata": {},
          "execution_count": 31
        }
      ]
    },
    {
      "cell_type": "code",
      "metadata": {
        "colab": {
          "base_uri": "https://localhost:8080/",
          "height": 203
        },
        "id": "rddSzKaaSdvy",
        "outputId": "906f9218-d52d-4603-8949-7f8768c507de"
      },
      "source": [
        "#creating the kpca dataframe for LSTM \n",
        "x_tr_kpca=[]\n",
        "for i in range(df_train.shape[0]):\n",
        "  x_tr_kpca.append(np.array(X_kpca[i],ndmin=2))\n",
        "  # y_train.append(df_train[\"label\"][i])\n",
        "df_train_kpca = pd.DataFrame({'emb': x_tr_kpca, 'label': y, })\n",
        "df_train_kpca.head()\n",
        "\n",
        "x_va_kpca=[]\n",
        "for i in range(df_val.shape[0]):\n",
        "  x_va_kpca.append(np.array(X_val_kpca[i],ndmin=2))\n",
        "df_val_kpca = pd.DataFrame({'emb': x_va_kpca, 'label': y_val, })\n",
        "df_val_kpca.head()\n",
        "\n",
        "x_te_kpca=[]\n",
        "for i in range(df_test.shape[0]):\n",
        "  x_te_kpca.append(np.array(X_test_kpca[i],ndmin=2))\n",
        "df_test_kpca = pd.DataFrame({'emb': x_te_kpca, 'label': y_test, })\n",
        "df_test_kpca.head()"
      ],
      "execution_count": null,
      "outputs": [
        {
          "output_type": "execute_result",
          "data": {
            "text/html": [
              "<div>\n",
              "<style scoped>\n",
              "    .dataframe tbody tr th:only-of-type {\n",
              "        vertical-align: middle;\n",
              "    }\n",
              "\n",
              "    .dataframe tbody tr th {\n",
              "        vertical-align: top;\n",
              "    }\n",
              "\n",
              "    .dataframe thead th {\n",
              "        text-align: right;\n",
              "    }\n",
              "</style>\n",
              "<table border=\"1\" class=\"dataframe\">\n",
              "  <thead>\n",
              "    <tr style=\"text-align: right;\">\n",
              "      <th></th>\n",
              "      <th>emb</th>\n",
              "      <th>label</th>\n",
              "    </tr>\n",
              "  </thead>\n",
              "  <tbody>\n",
              "    <tr>\n",
              "      <th>0</th>\n",
              "      <td>[[-0.0, 0.0, -0.0010697228, 0.0, 0.0, -0.0, -0...</td>\n",
              "      <td>9</td>\n",
              "    </tr>\n",
              "    <tr>\n",
              "      <th>1</th>\n",
              "      <td>[[-0.074283294, 0.0126767075, 0.046161123, -0....</td>\n",
              "      <td>1</td>\n",
              "    </tr>\n",
              "    <tr>\n",
              "      <th>2</th>\n",
              "      <td>[[-0.024785336, -0.002120813, -0.23610666, -0....</td>\n",
              "      <td>6</td>\n",
              "    </tr>\n",
              "    <tr>\n",
              "      <th>3</th>\n",
              "      <td>[[0.027527338, -0.002689607, 0.6748692, 0.0302...</td>\n",
              "      <td>6</td>\n",
              "    </tr>\n",
              "    <tr>\n",
              "      <th>4</th>\n",
              "      <td>[[0.026814176, -0.007734082, -0.5872042, 0.044...</td>\n",
              "      <td>6</td>\n",
              "    </tr>\n",
              "  </tbody>\n",
              "</table>\n",
              "</div>"
            ],
            "text/plain": [
              "                                                 emb  label\n",
              "0  [[-0.0, 0.0, -0.0010697228, 0.0, 0.0, -0.0, -0...      9\n",
              "1  [[-0.074283294, 0.0126767075, 0.046161123, -0....      1\n",
              "2  [[-0.024785336, -0.002120813, -0.23610666, -0....      6\n",
              "3  [[0.027527338, -0.002689607, 0.6748692, 0.0302...      6\n",
              "4  [[0.026814176, -0.007734082, -0.5872042, 0.044...      6"
            ]
          },
          "metadata": {},
          "execution_count": 32
        }
      ]
    },
    {
      "cell_type": "code",
      "metadata": {
        "colab": {
          "base_uri": "https://localhost:8080/"
        },
        "id": "t8MDbdguWAr-",
        "outputId": "dc0dce0d-3891-438e-9dd4-b17160d84464"
      },
      "source": [
        "df_train_kpca.shape , df_val_kpca.shape , df_test_kpca.shape"
      ],
      "execution_count": null,
      "outputs": [
        {
          "output_type": "execute_result",
          "data": {
            "text/plain": [
              "((13552, 2), (3388, 2), (202, 2))"
            ]
          },
          "metadata": {},
          "execution_count": 33
        }
      ]
    },
    {
      "cell_type": "code",
      "metadata": {
        "colab": {
          "base_uri": "https://localhost:8080/",
          "height": 203
        },
        "id": "eOJVop0cVtHL",
        "outputId": "38542f85-26e7-4da5-bc2d-e7f36cf25531"
      },
      "source": [
        "#creating the pca dataframe for LSTM \n",
        "\n",
        "x_tr_pca=[]\n",
        "for i in range(df_train.shape[0]):\n",
        "  x_tr_pca.append(np.array(X_pca[i],ndmin=2))\n",
        "  # y_train.append(df_train[\"label\"][i])\n",
        "df_train_pca = pd.DataFrame({'emb': x_tr_pca, 'label': y, })\n",
        "df_train_pca.head()\n",
        "\n",
        "x_va_pca=[]\n",
        "for i in range(df_val.shape[0]):\n",
        "  x_va_pca.append(np.array(X_val_pca[i],ndmin=2))\n",
        "df_val_pca = pd.DataFrame({'emb': x_va_pca, 'label': y_val, })\n",
        "df_val_pca.head()\n",
        "\n",
        "x_te_pca=[]\n",
        "for i in range(df_test.shape[0]):\n",
        "  x_te_pca.append(np.array(X_test_pca[i],ndmin=2))\n",
        "df_test_pca = pd.DataFrame({'emb': x_te_pca, 'label': y_test, })\n",
        "df_test_pca.head()"
      ],
      "execution_count": null,
      "outputs": [
        {
          "output_type": "execute_result",
          "data": {
            "text/html": [
              "<div>\n",
              "<style scoped>\n",
              "    .dataframe tbody tr th:only-of-type {\n",
              "        vertical-align: middle;\n",
              "    }\n",
              "\n",
              "    .dataframe tbody tr th {\n",
              "        vertical-align: top;\n",
              "    }\n",
              "\n",
              "    .dataframe thead th {\n",
              "        text-align: right;\n",
              "    }\n",
              "</style>\n",
              "<table border=\"1\" class=\"dataframe\">\n",
              "  <thead>\n",
              "    <tr style=\"text-align: right;\">\n",
              "      <th></th>\n",
              "      <th>emb</th>\n",
              "      <th>label</th>\n",
              "    </tr>\n",
              "  </thead>\n",
              "  <tbody>\n",
              "    <tr>\n",
              "      <th>0</th>\n",
              "      <td>[[-0.20761497, 14.356926, 3.3819017, -5.765600...</td>\n",
              "      <td>9</td>\n",
              "    </tr>\n",
              "    <tr>\n",
              "      <th>1</th>\n",
              "      <td>[[-7.0100155, 10.214987, 2.6995695, 9.46628, -...</td>\n",
              "      <td>1</td>\n",
              "    </tr>\n",
              "    <tr>\n",
              "      <th>2</th>\n",
              "      <td>[[8.795957, -2.4557872, 0.8416132, 0.043828215...</td>\n",
              "      <td>6</td>\n",
              "    </tr>\n",
              "    <tr>\n",
              "      <th>3</th>\n",
              "      <td>[[9.157772, -2.70769, 0.8532848, -1.0255451, -...</td>\n",
              "      <td>6</td>\n",
              "    </tr>\n",
              "    <tr>\n",
              "      <th>4</th>\n",
              "      <td>[[10.860066, -1.5798033, 1.246959, -0.00511443...</td>\n",
              "      <td>6</td>\n",
              "    </tr>\n",
              "  </tbody>\n",
              "</table>\n",
              "</div>"
            ],
            "text/plain": [
              "                                                 emb  label\n",
              "0  [[-0.20761497, 14.356926, 3.3819017, -5.765600...      9\n",
              "1  [[-7.0100155, 10.214987, 2.6995695, 9.46628, -...      1\n",
              "2  [[8.795957, -2.4557872, 0.8416132, 0.043828215...      6\n",
              "3  [[9.157772, -2.70769, 0.8532848, -1.0255451, -...      6\n",
              "4  [[10.860066, -1.5798033, 1.246959, -0.00511443...      6"
            ]
          },
          "metadata": {},
          "execution_count": 34
        }
      ]
    },
    {
      "cell_type": "code",
      "metadata": {
        "colab": {
          "base_uri": "https://localhost:8080/"
        },
        "id": "WWk3iSkNE-zO",
        "outputId": "6276e476-6e55-416b-c64d-e3919e07b342"
      },
      "source": [
        "df_train_pca.shape , df_val_pca.shape , df_test_pca.shape"
      ],
      "execution_count": null,
      "outputs": [
        {
          "output_type": "execute_result",
          "data": {
            "text/plain": [
              "((13552, 2), (3388, 2), (202, 2))"
            ]
          },
          "metadata": {},
          "execution_count": 35
        }
      ]
    },
    {
      "cell_type": "code",
      "metadata": {
        "id": "akL-NEMh6O_J"
      },
      "source": [
        "num_sequences = len(df_train['emb'].to_list())\n",
        "batch_size = 4\n",
        "batches_per_epoch =  3388\n",
        "assert batch_size * batches_per_epoch == num_sequences\n",
        "num_features= 768\n",
        "def train_generator_try(df):\n",
        "    x_list= df['emb'].to_list()\n",
        "    y_list =  df.label.to_list()\n",
        "    # Generate batches\n",
        "    while True:\n",
        "        for b in range(batches_per_epoch):\n",
        "            longest_index = (b + 1) * batch_size - 1\n",
        "            timesteps = len(max(df['emb'].to_list()[:(b + 1) * batch_size][-batch_size:], key=len))\n",
        "            x_train = np.full((batch_size, timesteps, num_features), -99.)\n",
        "            y_train = np.zeros((batch_size,  1))\n",
        "            for i in range(batch_size):\n",
        "                li = b * batch_size + i\n",
        "                x_train[i, 0:len(x_list[li]), :] = x_list[li]\n",
        "                y_train[i] = y_list[li]\n",
        "            #print(x_train.shape , y_train.shape)\n",
        "            yield x_train, y_train\n"
      ],
      "execution_count": null,
      "outputs": []
    },
    {
      "cell_type": "code",
      "metadata": {
        "colab": {
          "base_uri": "https://localhost:8080/"
        },
        "id": "BOsvlMsQMkue",
        "outputId": "a1639962-b477-4e43-abc1-eccf3560fd83"
      },
      "source": [
        "df_train['emb'][0]"
      ],
      "execution_count": null,
      "outputs": [
        {
          "output_type": "execute_result",
          "data": {
            "text/plain": [
              "array([[-0.4676593 ,  0.14724328, -0.8827459 , ..., -0.82500774,\n",
              "         0.4735413 ,  0.95219964],\n",
              "       [-0.22119352,  0.41026565, -0.96930635, ..., -0.8069091 ,\n",
              "         0.0626434 ,  0.93483937]], dtype=float32)"
            ]
          },
          "metadata": {},
          "execution_count": 214
        }
      ]
    },
    {
      "cell_type": "code",
      "metadata": {
        "id": "PZQJ5Cz0JI-2"
      },
      "source": [
        "def train_generator(df):\n",
        "    x_list= df['emb'].to_list()\n",
        "    print('x_list :',len(x_list) )\n",
        "    y_list =  df.label.to_list()\n",
        "    # Generate batches\n",
        "    for b in range(batches_per_epoch):\n",
        "        print('b: ',b)\n",
        "        longest_index = (b + 1) * batch_size - 1\n",
        "        print('longest_index :',longest_index)\n",
        "        print(max(df['emb'].to_list()[:(b + 1) * batch_size][-batch_size:], key=len))\n",
        "        timesteps = len(max(df['emb'].to_list()[:(b + 1) * batch_size][-batch_size:], key=len))\n",
        "        print('timesteps :',timesteps)\n",
        "        x_train = np.full((batch_size, timesteps, num_features), -99.)\n",
        "        y_train = np.zeros((batch_size,  1))\n",
        "        for i in range(batch_size):\n",
        "            li = b * batch_size + i\n",
        "            x_train[i, 0:len(x_list[li]), :] = x_list[li]\n",
        "            y_train[i] = y_list[li]\n",
        "        print(x_train.shape , y_train.shape)\n",
        "        print('---------')\n",
        "        return x_train, y_train"
      ],
      "execution_count": null,
      "outputs": []
    },
    {
      "cell_type": "code",
      "metadata": {
        "colab": {
          "base_uri": "https://localhost:8080/"
        },
        "id": "FFcur7rbIc4o",
        "outputId": "16da9215-cd6c-4dcd-91b5-edecb6e3932f"
      },
      "source": [
        "num_features= 768\n",
        "x_p, y_p= train_generator(df_train)"
      ],
      "execution_count": null,
      "outputs": [
        {
          "output_type": "stream",
          "name": "stdout",
          "text": [
            "x_list : 13552\n",
            "b:  0\n",
            "longest_index : 3\n",
            "[[-0.4676593   0.14724328 -0.8827459  ... -0.82500774  0.4735413\n",
            "   0.95219964]\n",
            " [-0.22119352  0.41026565 -0.96930635 ... -0.8069091   0.0626434\n",
            "   0.93483937]]\n",
            "timesteps : 2\n",
            "(4, 2, 768) (4, 1)\n",
            "---------\n"
          ]
        }
      ]
    },
    {
      "cell_type": "code",
      "metadata": {
        "colab": {
          "base_uri": "https://localhost:8080/"
        },
        "id": "kA5ZUgfOKtbq",
        "outputId": "23880401-9b19-46be-b122-65691b230efa"
      },
      "source": [
        "num_features= 150\n",
        "x_p, y_p= train_generator(df_train_pca_new)"
      ],
      "execution_count": null,
      "outputs": [
        {
          "output_type": "stream",
          "name": "stdout",
          "text": [
            "x_list : 13552\n",
            "b:  0\n",
            "longest_index : 3\n",
            "[[-5.11111641e+00  5.02894688e+00 -6.01223469e+00  1.22594910e+01\n",
            "   4.44989014e+00 -3.32102990e+00 -1.25423038e+00 -2.90294027e+00\n",
            "  -2.95091391e-01 -1.18472862e+00 -1.85002625e+00 -7.43027866e-01\n",
            "   3.69427592e-01 -6.52508736e-01 -1.61397979e-01  2.75647268e-02\n",
            "   2.46263206e-01  2.33053088e-01  5.71861342e-02 -2.81025797e-01\n",
            "   9.86435264e-02  7.85834417e-02 -1.45908043e-01  1.12041764e-01\n",
            "   3.46478879e-01 -2.03056321e-01  1.28206536e-01 -5.52704632e-01\n",
            "  -7.66409114e-02  2.19931856e-01  1.23768330e-01 -2.27163672e-01\n",
            "   2.14045253e-02 -2.05890253e-01 -1.72378257e-01 -3.70048173e-02\n",
            "  -1.55515403e-01  8.10440108e-02 -3.43725741e-01  4.19440009e-02\n",
            "   2.09611624e-01  3.06654006e-01 -2.08872631e-02 -1.88662335e-02\n",
            "  -1.88585483e-02  5.39682843e-02  1.00099839e-01  9.24598426e-02\n",
            "   1.21653993e-02 -2.93989867e-01  1.05934283e-02 -5.37375472e-02\n",
            "  -1.30467042e-01 -8.94064233e-02  4.19555716e-02  3.53831261e-01\n",
            "  -3.18221338e-02 -1.59525089e-02 -6.07641563e-02  5.45270517e-02\n",
            "  -2.01259479e-02  4.47029546e-02 -1.60395309e-01 -5.79576083e-02\n",
            "  -3.94163188e-03  1.09312430e-01  3.66478115e-02 -1.64616838e-01\n",
            "  -8.03308189e-03  5.15456013e-02 -1.12505723e-02  2.82351971e-02\n",
            "   2.13396680e-02  1.80516452e-01 -7.60797337e-02 -8.79728943e-02\n",
            "  -3.65656354e-02  6.07961938e-02 -1.77581366e-02  4.84797880e-02\n",
            "  -6.34948015e-02 -5.62883727e-02  6.72721565e-02 -5.99415856e-04\n",
            "   1.27716511e-02  2.41467446e-01 -1.69221804e-01  9.98164713e-02\n",
            "   6.81002811e-02 -7.98159093e-02 -2.08689317e-01  1.56693816e-01\n",
            "  -7.38041475e-02 -1.52496636e-01 -9.07625596e-04 -1.27373680e-01\n",
            "  -8.46660987e-04 -1.58410206e-01  9.97059792e-02 -6.41247109e-02\n",
            "  -6.18415624e-02  5.32509834e-02 -2.69568875e-03 -2.62400985e-01\n",
            "   4.24406268e-02  1.24745993e-02  1.46471173e-01  1.79356318e-02\n",
            "  -7.94230122e-03  1.39220003e-02 -2.18164429e-01 -1.63549855e-01\n",
            "   3.76459286e-02 -7.66910836e-02  3.24947014e-02 -8.56590178e-03\n",
            "   1.25427261e-01 -2.96287593e-02 -9.61093754e-02  2.52169482e-02\n",
            "  -5.75147793e-02  4.31821011e-02 -1.00662172e-01 -1.40351206e-02\n",
            "   1.28670946e-01  9.15055946e-02  2.98650470e-02 -3.02834157e-02\n",
            "   2.29430795e-02  6.86096922e-02  3.02346367e-02 -1.04988152e-02\n",
            "  -7.21084327e-02  8.99868906e-02  2.19181463e-01  6.59267977e-02\n",
            "  -1.07617281e-01  4.06674482e-02  5.51514365e-02 -8.98136720e-02\n",
            "   2.22822260e-02  4.87360209e-02  4.11182866e-02 -2.31873803e-03\n",
            "  -4.83686961e-02 -2.37885173e-02  8.73330235e-02  3.43171284e-02\n",
            "  -7.54378587e-02 -6.91673681e-02]]\n",
            "timesteps : 1\n",
            "(4, 1, 150) (4, 1)\n",
            "---------\n"
          ]
        }
      ]
    },
    {
      "cell_type": "code",
      "metadata": {
        "id": "AV-9Le5i6PCE"
      },
      "source": [
        "num_sequences_val = len(df_val['emb'].to_list())\n",
        "batch_size_val = 4\n",
        "batches_per_epoch_val = 847\n",
        "assert batch_size_val * batches_per_epoch_val == num_sequences_val\n",
        "num_features= 768\n",
        "def val_generator_try(df):\n",
        "    x_list= df['emb'].to_list()\n",
        "    y_list =  df.label.to_list()\n",
        "    # Generate batches\n",
        "    while True:\n",
        "        for b in range(batches_per_epoch_val):\n",
        "            longest_index = (b + 1) * batch_size_val - 1\n",
        "            timesteps = len(max(df['emb'].to_list()[:(b + 1) * batch_size_val][-31:], key=len))\n",
        "            # print(len(df_train['emb'].to_list()[:b+batch_size][-7:]))\n",
        "            x_train = np.full((batch_size_val, timesteps, num_features), -99.)\n",
        "            y_train = np.zeros((batch_size_val,  1))\n",
        "            for i in range(batch_size_val):\n",
        "                li = b * batch_size_val + i\n",
        "                x_train[i, 0:len(x_list[li]), :] = x_list[li]\n",
        "                y_train[i] = y_list[li]\n",
        "            yield x_train, y_train"
      ],
      "execution_count": null,
      "outputs": []
    },
    {
      "cell_type": "code",
      "metadata": {
        "colab": {
          "base_uri": "https://localhost:8080/"
        },
        "id": "0WXvXeMquPxr",
        "outputId": "a8873987-1568-4957-e5ea-01de0d06607f"
      },
      "source": [
        "df_val['emb'][0].shape"
      ],
      "execution_count": null,
      "outputs": [
        {
          "output_type": "execute_result",
          "data": {
            "text/plain": [
              "(2, 768)"
            ]
          },
          "metadata": {},
          "execution_count": 45
        }
      ]
    },
    {
      "cell_type": "code",
      "metadata": {
        "id": "rxp8kZnR6O8H",
        "colab": {
          "base_uri": "https://localhost:8080/"
        },
        "outputId": "e62d744e-6cb2-4d7a-f6e4-2cdce2442256"
      },
      "source": [
        "df_train.shape, df_val.shape, df_test.shape"
      ],
      "execution_count": null,
      "outputs": [
        {
          "output_type": "execute_result",
          "data": {
            "text/plain": [
              "((13552, 3), (3388, 3), (202, 3))"
            ]
          },
          "metadata": {},
          "execution_count": 274
        }
      ]
    },
    {
      "cell_type": "code",
      "metadata": {
        "colab": {
          "base_uri": "https://localhost:8080/",
          "height": 419
        },
        "id": "yw4quK0WGAup",
        "outputId": "f330d9e9-2631-4667-a65f-f893a6ddfe0e"
      },
      "source": [
        "df_train"
      ],
      "execution_count": null,
      "outputs": [
        {
          "output_type": "execute_result",
          "data": {
            "text/html": [
              "<div>\n",
              "<style scoped>\n",
              "    .dataframe tbody tr th:only-of-type {\n",
              "        vertical-align: middle;\n",
              "    }\n",
              "\n",
              "    .dataframe tbody tr th {\n",
              "        vertical-align: top;\n",
              "    }\n",
              "\n",
              "    .dataframe thead th {\n",
              "        text-align: right;\n",
              "    }\n",
              "</style>\n",
              "<table border=\"1\" class=\"dataframe\">\n",
              "  <thead>\n",
              "    <tr style=\"text-align: right;\">\n",
              "      <th></th>\n",
              "      <th>emb</th>\n",
              "      <th>label</th>\n",
              "      <th>mean_emb</th>\n",
              "    </tr>\n",
              "  </thead>\n",
              "  <tbody>\n",
              "    <tr>\n",
              "      <th>0</th>\n",
              "      <td>[[-0.4676593, 0.14724328, -0.8827459, 0.856973...</td>\n",
              "      <td>1</td>\n",
              "      <td>[-0.3444264, 0.27875447, -0.9260261, 0.8091671...</td>\n",
              "    </tr>\n",
              "    <tr>\n",
              "      <th>1</th>\n",
              "      <td>[[0.7654536, -0.3047139, -0.954275, -0.4499121...</td>\n",
              "      <td>3</td>\n",
              "      <td>[0.7654536, -0.3047139, -0.954275, -0.4499121,...</td>\n",
              "    </tr>\n",
              "    <tr>\n",
              "      <th>2</th>\n",
              "      <td>[[0.7149185, 0.8784548, -0.0600981, -0.7525436...</td>\n",
              "      <td>3</td>\n",
              "      <td>[0.7149185, 0.8784548, -0.0600981, -0.7525436,...</td>\n",
              "    </tr>\n",
              "    <tr>\n",
              "      <th>3</th>\n",
              "      <td>[[0.69485337, -0.742411, -0.73213583, -0.35592...</td>\n",
              "      <td>4</td>\n",
              "      <td>[0.68209875, -0.7316514, -0.74696326, -0.33999...</td>\n",
              "    </tr>\n",
              "    <tr>\n",
              "      <th>4</th>\n",
              "      <td>[[0.7575402, -0.32592666, -0.14666598, -0.5177...</td>\n",
              "      <td>4</td>\n",
              "      <td>[0.7002898, -0.29207325, -0.1383036, -0.317435...</td>\n",
              "    </tr>\n",
              "    <tr>\n",
              "      <th>...</th>\n",
              "      <td>...</td>\n",
              "      <td>...</td>\n",
              "      <td>...</td>\n",
              "    </tr>\n",
              "    <tr>\n",
              "      <th>13547</th>\n",
              "      <td>[[-0.60229355, -0.659548, -0.92286974, 0.90314...</td>\n",
              "      <td>2</td>\n",
              "      <td>[0.106040604, -0.33704576, -0.9644529, 0.52130...</td>\n",
              "    </tr>\n",
              "    <tr>\n",
              "      <th>13548</th>\n",
              "      <td>[[0.8312326, -0.72575754, -0.7635738, -0.42647...</td>\n",
              "      <td>6</td>\n",
              "      <td>[0.8312326, -0.72575754, -0.7635738, -0.426476...</td>\n",
              "    </tr>\n",
              "    <tr>\n",
              "      <th>13549</th>\n",
              "      <td>[[0.6254029, 0.81965697, -0.40367526, -0.74304...</td>\n",
              "      <td>3</td>\n",
              "      <td>[0.63485307, 0.7946311, -0.51452553, -0.711726...</td>\n",
              "    </tr>\n",
              "    <tr>\n",
              "      <th>13550</th>\n",
              "      <td>[[-0.5137969, -0.31365255, -0.9789185, 0.90656...</td>\n",
              "      <td>2</td>\n",
              "      <td>[-0.28326535, -0.54598224, -0.9894284, 0.91639...</td>\n",
              "    </tr>\n",
              "    <tr>\n",
              "      <th>13551</th>\n",
              "      <td>[[-0.821001, -0.77577657, -0.88489354, 0.90225...</td>\n",
              "      <td>2</td>\n",
              "      <td>[-0.5349622, -0.6709487, -0.9496994, 0.8860586...</td>\n",
              "    </tr>\n",
              "  </tbody>\n",
              "</table>\n",
              "<p>13552 rows × 3 columns</p>\n",
              "</div>"
            ],
            "text/plain": [
              "                                                     emb  ...                                           mean_emb\n",
              "0      [[-0.4676593, 0.14724328, -0.8827459, 0.856973...  ...  [-0.3444264, 0.27875447, -0.9260261, 0.8091671...\n",
              "1      [[0.7654536, -0.3047139, -0.954275, -0.4499121...  ...  [0.7654536, -0.3047139, -0.954275, -0.4499121,...\n",
              "2      [[0.7149185, 0.8784548, -0.0600981, -0.7525436...  ...  [0.7149185, 0.8784548, -0.0600981, -0.7525436,...\n",
              "3      [[0.69485337, -0.742411, -0.73213583, -0.35592...  ...  [0.68209875, -0.7316514, -0.74696326, -0.33999...\n",
              "4      [[0.7575402, -0.32592666, -0.14666598, -0.5177...  ...  [0.7002898, -0.29207325, -0.1383036, -0.317435...\n",
              "...                                                  ...  ...                                                ...\n",
              "13547  [[-0.60229355, -0.659548, -0.92286974, 0.90314...  ...  [0.106040604, -0.33704576, -0.9644529, 0.52130...\n",
              "13548  [[0.8312326, -0.72575754, -0.7635738, -0.42647...  ...  [0.8312326, -0.72575754, -0.7635738, -0.426476...\n",
              "13549  [[0.6254029, 0.81965697, -0.40367526, -0.74304...  ...  [0.63485307, 0.7946311, -0.51452553, -0.711726...\n",
              "13550  [[-0.5137969, -0.31365255, -0.9789185, 0.90656...  ...  [-0.28326535, -0.54598224, -0.9894284, 0.91639...\n",
              "13551  [[-0.821001, -0.77577657, -0.88489354, 0.90225...  ...  [-0.5349622, -0.6709487, -0.9496994, 0.8860586...\n",
              "\n",
              "[13552 rows x 3 columns]"
            ]
          },
          "metadata": {},
          "execution_count": 144
        }
      ]
    },
    {
      "cell_type": "code",
      "metadata": {
        "id": "4L_65gSD6esK"
      },
      "source": [
        "from tensorflow.keras.callbacks import ReduceLROnPlateau\n",
        "call_reduce = ReduceLROnPlateau(monitor='val_acc', factor=0.95, patience=3, verbose=2,\n",
        "                                mode='auto', min_delta=0.01, cooldown=0, min_lr=0)"
      ],
      "execution_count": null,
      "outputs": []
    },
    {
      "cell_type": "code",
      "metadata": {
        "colab": {
          "base_uri": "https://localhost:8080/"
        },
        "id": "YoKi1cTn6evg",
        "outputId": "132e57dd-b684-4387-b653-df5efadeccad"
      },
      "source": [
        "model1.fit_generator(train_generator(df_train_pca_new), steps_per_epoch=batches_per_epoch, epochs=10,\n",
        "                    validation_data=val_generator(df_val_pca_new), validation_steps=batches_per_epoch_val, callbacks =[call_reduce] )"
      ],
      "execution_count": null,
      "outputs": [
        {
          "output_type": "stream",
          "name": "stderr",
          "text": [
            "/usr/local/lib/python3.7/dist-packages/tensorflow/python/keras/engine/training_v1.py:1246: UserWarning: `model.fit_generator` is deprecated and will be removed in a future version. Please use `Model.fit`, which supports generators.\n",
            "  warnings.warn('`model.fit_generator` is deprecated and '\n"
          ]
        },
        {
          "output_type": "stream",
          "name": "stdout",
          "text": [
            "Epoch 1/10\n",
            "3383/3388 [============================>.] - ETA: 0s - batch: 1691.0000 - size: 4.0000 - loss: 0.3237 - acc: 0.3819"
          ]
        },
        {
          "output_type": "stream",
          "name": "stderr",
          "text": [
            "/usr/local/lib/python3.7/dist-packages/tensorflow/python/keras/engine/training.py:2426: UserWarning: `Model.state_updates` will be removed in a future version. This property should not be used in TensorFlow 2.0, as `updates` are applied automatically.\n",
            "  warnings.warn('`Model.state_updates` will be removed in a future version. '\n"
          ]
        },
        {
          "output_type": "stream",
          "name": "stdout",
          "text": [
            "3388/3388 [==============================] - 24s 7ms/step - batch: 1693.5000 - size: 4.0000 - loss: 0.3241 - acc: 0.3820 - val_loss: 1.7435 - val_acc: 0.2907 - lr: 0.0010\n",
            "Epoch 2/10\n",
            "3388/3388 [==============================] - 23s 7ms/step - batch: 1693.5000 - size: 4.0000 - loss: 0.2489 - acc: 0.3847 - val_loss: 1.8265 - val_acc: 0.2903 - lr: 0.0010\n",
            "Epoch 3/10\n",
            "3388/3388 [==============================] - 23s 7ms/step - batch: 1693.5000 - size: 4.0000 - loss: 0.2267 - acc: 0.3858 - val_loss: 1.9654 - val_acc: 0.2920 - lr: 0.0010\n",
            "Epoch 4/10\n",
            "3386/3388 [============================>.] - ETA: 0s - batch: 1692.5000 - size: 4.0000 - loss: 0.2078 - acc: 0.3870\n",
            "Epoch 00004: ReduceLROnPlateau reducing learning rate to 0.0009500000451225787.\n",
            "3388/3388 [==============================] - 23s 7ms/step - batch: 1693.5000 - size: 4.0000 - loss: 0.2077 - acc: 0.3870 - val_loss: 2.1341 - val_acc: 0.2941 - lr: 0.0010\n",
            "Epoch 5/10\n",
            "3388/3388 [==============================] - 23s 7ms/step - batch: 1693.5000 - size: 4.0000 - loss: 0.1888 - acc: 0.3887 - val_loss: 2.2962 - val_acc: 0.2925 - lr: 9.5000e-04\n",
            "Epoch 6/10\n",
            "3388/3388 [==============================] - 23s 7ms/step - batch: 1693.5000 - size: 4.0000 - loss: 0.1720 - acc: 0.3898 - val_loss: 2.4674 - val_acc: 0.2932 - lr: 9.5000e-04\n",
            "Epoch 7/10\n",
            "3388/3388 [==============================] - ETA: 0s - batch: 1693.5000 - size: 4.0000 - loss: 0.1551 - acc: 0.3906\n",
            "Epoch 00007: ReduceLROnPlateau reducing learning rate to 0.0009025000152178108.\n",
            "3388/3388 [==============================] - 23s 7ms/step - batch: 1693.5000 - size: 4.0000 - loss: 0.1551 - acc: 0.3906 - val_loss: 2.6468 - val_acc: 0.2935 - lr: 9.5000e-04\n",
            "Epoch 8/10\n",
            "3388/3388 [==============================] - 23s 7ms/step - batch: 1693.5000 - size: 4.0000 - loss: 0.1386 - acc: 0.3920 - val_loss: 2.8567 - val_acc: 0.2921 - lr: 9.0250e-04\n",
            "Epoch 9/10\n",
            "3388/3388 [==============================] - 23s 7ms/step - batch: 1693.5000 - size: 4.0000 - loss: 0.1237 - acc: 0.3930 - val_loss: 3.1446 - val_acc: 0.2894 - lr: 9.0250e-04\n",
            "Epoch 10/10\n",
            "3388/3388 [==============================] - ETA: 0s - batch: 1693.5000 - size: 4.0000 - loss: 0.1102 - acc: 0.3939\n",
            "Epoch 00010: ReduceLROnPlateau reducing learning rate to 0.0008573750033974647.\n",
            "3388/3388 [==============================] - 23s 7ms/step - batch: 1693.5000 - size: 4.0000 - loss: 0.1102 - acc: 0.3939 - val_loss: 3.4085 - val_acc: 0.2901 - lr: 9.0250e-04\n"
          ]
        },
        {
          "output_type": "execute_result",
          "data": {
            "text/plain": [
              "<tensorflow.python.keras.callbacks.History at 0x7fe43097ef90>"
            ]
          },
          "metadata": {},
          "execution_count": 235
        }
      ]
    },
    {
      "cell_type": "code",
      "metadata": {
        "colab": {
          "base_uri": "https://localhost:8080/"
        },
        "id": "yMMnNHkFTU_y",
        "outputId": "1af34163-c0f8-4497-efed-8faae35497d2"
      },
      "source": [
        "model1.fit_generator(train_generator(df_train_kpca), steps_per_epoch=batches_per_epoch, epochs=10,\n",
        "                    validation_data=val_generator(df_val_kpca), validation_steps=batches_per_epoch_val, callbacks =[call_reduce] )"
      ],
      "execution_count": null,
      "outputs": [
        {
          "output_type": "stream",
          "name": "stdout",
          "text": [
            "Epoch 1/10\n",
            "  29/3388 [..............................] - ETA: 19s - batch: 14.0000 - size: 4.0000 - loss: 1.9194 - acc: 0.3621"
          ]
        },
        {
          "output_type": "stream",
          "name": "stderr",
          "text": [
            "/usr/local/lib/python3.7/dist-packages/tensorflow/python/keras/engine/training_v1.py:1246: UserWarning: `model.fit_generator` is deprecated and will be removed in a future version. Please use `Model.fit`, which supports generators.\n",
            "  warnings.warn('`model.fit_generator` is deprecated and '\n"
          ]
        },
        {
          "output_type": "stream",
          "name": "stdout",
          "text": [
            "3388/3388 [==============================] - 23s 7ms/step - batch: 1693.5000 - size: 4.0000 - loss: 1.8329 - acc: 0.3477 - val_loss: 1.8098 - val_acc: 0.3580 - lr: 8.5737e-04\n",
            "Epoch 2/10\n",
            "3388/3388 [==============================] - 23s 7ms/step - batch: 1693.5000 - size: 4.0000 - loss: 1.7934 - acc: 0.3497 - val_loss: 1.8309 - val_acc: 0.3532 - lr: 8.5737e-04\n",
            "Epoch 3/10\n",
            "3388/3388 [==============================] - 23s 7ms/step - batch: 1693.5000 - size: 4.0000 - loss: 1.7721 - acc: 0.3508 - val_loss: 1.8983 - val_acc: 0.3427 - lr: 8.5737e-04\n",
            "Epoch 4/10\n",
            "3384/3388 [============================>.] - ETA: 0s - batch: 1691.5000 - size: 4.0000 - loss: 1.7642 - acc: 0.3512\n",
            "Epoch 00004: ReduceLROnPlateau reducing learning rate to 0.0008145062311086804.\n",
            "3388/3388 [==============================] - 23s 7ms/step - batch: 1693.5000 - size: 4.0000 - loss: 1.7644 - acc: 0.3512 - val_loss: 1.9920 - val_acc: 0.3351 - lr: 8.5737e-04\n",
            "Epoch 5/10\n",
            "3388/3388 [==============================] - 23s 7ms/step - batch: 1693.5000 - size: 4.0000 - loss: 1.7602 - acc: 0.3514 - val_loss: 2.1692 - val_acc: 0.3161 - lr: 8.1451e-04\n",
            "Epoch 6/10\n",
            "3388/3388 [==============================] - 23s 7ms/step - batch: 1693.5000 - size: 4.0000 - loss: 1.7573 - acc: 0.3516 - val_loss: 2.4463 - val_acc: 0.2976 - lr: 8.1451e-04\n",
            "Epoch 7/10\n",
            "3387/3388 [============================>.] - ETA: 0s - batch: 1693.0000 - size: 4.0000 - loss: 1.7549 - acc: 0.3517\n",
            "Epoch 00007: ReduceLROnPlateau reducing learning rate to 0.0007737808919046074.\n",
            "3388/3388 [==============================] - 23s 7ms/step - batch: 1693.5000 - size: 4.0000 - loss: 1.7549 - acc: 0.3517 - val_loss: 2.8594 - val_acc: 0.2825 - lr: 8.1451e-04\n",
            "Epoch 8/10\n",
            "3388/3388 [==============================] - 23s 7ms/step - batch: 1693.5000 - size: 4.0000 - loss: 1.7530 - acc: 0.3517 - val_loss: 3.3932 - val_acc: 0.2715 - lr: 7.7378e-04\n",
            "Epoch 9/10\n",
            "3388/3388 [==============================] - 23s 7ms/step - batch: 1693.5000 - size: 4.0000 - loss: 1.7514 - acc: 0.3518 - val_loss: 3.9215 - val_acc: 0.2693 - lr: 7.7378e-04\n",
            "Epoch 10/10\n",
            "3381/3388 [============================>.] - ETA: 0s - batch: 1690.0000 - size: 4.0000 - loss: 1.7503 - acc: 0.3517\n",
            "Epoch 00010: ReduceLROnPlateau reducing learning rate to 0.000735091819660738.\n",
            "3388/3388 [==============================] - 23s 7ms/step - batch: 1693.5000 - size: 4.0000 - loss: 1.7502 - acc: 0.3517 - val_loss: 4.5977 - val_acc: 0.2655 - lr: 7.7378e-04\n"
          ]
        },
        {
          "output_type": "execute_result",
          "data": {
            "text/plain": [
              "<tensorflow.python.keras.callbacks.History at 0x7fe4ba1c5350>"
            ]
          },
          "metadata": {},
          "execution_count": 239
        }
      ]
    },
    {
      "cell_type": "code",
      "metadata": {
        "colab": {
          "base_uri": "https://localhost:8080/"
        },
        "id": "xeh_Sp7XYv9F",
        "outputId": "a82c025c-340f-49c1-b499-c42a50a8bc27"
      },
      "source": [
        "model500.fit_generator(train_generator(df_train_pca), steps_per_epoch=batches_per_epoch, epochs=10,\n",
        "                    validation_data=val_generator(df_val_pca), validation_steps=batches_per_epoch_val, callbacks =[call_reduce] )"
      ],
      "execution_count": null,
      "outputs": [
        {
          "output_type": "stream",
          "name": "stderr",
          "text": [
            "/usr/local/lib/python3.7/dist-packages/tensorflow/python/keras/engine/training_v1.py:1246: UserWarning: `model.fit_generator` is deprecated and will be removed in a future version. Please use `Model.fit`, which supports generators.\n",
            "  warnings.warn('`model.fit_generator` is deprecated and '\n"
          ]
        },
        {
          "output_type": "stream",
          "name": "stdout",
          "text": [
            "Epoch 1/10\n",
            "3380/3388 [============================>.] - ETA: 0s - batch: 1689.5000 - size: 4.0000 - loss: 0.3193 - acc: 0.3820"
          ]
        },
        {
          "output_type": "stream",
          "name": "stderr",
          "text": [
            "/usr/local/lib/python3.7/dist-packages/tensorflow/python/keras/engine/training.py:2426: UserWarning: `Model.state_updates` will be removed in a future version. This property should not be used in TensorFlow 2.0, as `updates` are applied automatically.\n",
            "  warnings.warn('`Model.state_updates` will be removed in a future version. '\n"
          ]
        },
        {
          "output_type": "stream",
          "name": "stdout",
          "text": [
            "3388/3388 [==============================] - 24s 7ms/step - batch: 1693.5000 - size: 4.0000 - loss: 0.3198 - acc: 0.3821 - val_loss: 1.8219 - val_acc: 0.2916 - lr: 0.0010\n",
            "Epoch 2/10\n",
            "3388/3388 [==============================] - 23s 7ms/step - batch: 1693.5000 - size: 4.0000 - loss: 0.2354 - acc: 0.3852 - val_loss: 1.9051 - val_acc: 0.2952 - lr: 0.0010\n",
            "Epoch 3/10\n",
            "3388/3388 [==============================] - 23s 7ms/step - batch: 1693.5000 - size: 4.0000 - loss: 0.2021 - acc: 0.3876 - val_loss: 2.1012 - val_acc: 0.2958 - lr: 0.0010\n",
            "Epoch 4/10\n",
            "3384/3388 [============================>.] - ETA: 0s - batch: 1691.5000 - size: 4.0000 - loss: 0.1714 - acc: 0.3897\n",
            "Epoch 00004: ReduceLROnPlateau reducing learning rate to 0.0009500000451225787.\n",
            "3388/3388 [==============================] - 23s 7ms/step - batch: 1693.5000 - size: 4.0000 - loss: 0.1718 - acc: 0.3898 - val_loss: 2.3125 - val_acc: 0.2978 - lr: 0.0010\n",
            "Epoch 5/10\n",
            "3388/3388 [==============================] - 23s 7ms/step - batch: 1693.5000 - size: 4.0000 - loss: 0.1427 - acc: 0.3925 - val_loss: 2.6051 - val_acc: 0.2978 - lr: 9.5000e-04\n",
            "Epoch 6/10\n",
            "3388/3388 [==============================] - 23s 7ms/step - batch: 1693.5000 - size: 4.0000 - loss: 0.1182 - acc: 0.3940 - val_loss: 2.9176 - val_acc: 0.2990 - lr: 9.5000e-04\n",
            "Epoch 7/10\n",
            "3388/3388 [==============================] - ETA: 0s - batch: 1693.5000 - size: 4.0000 - loss: 0.0964 - acc: 0.3955\n",
            "Epoch 00007: ReduceLROnPlateau reducing learning rate to 0.0009025000152178108.\n",
            "3388/3388 [==============================] - 23s 7ms/step - batch: 1693.5000 - size: 4.0000 - loss: 0.0964 - acc: 0.3955 - val_loss: 3.3591 - val_acc: 0.2950 - lr: 9.5000e-04\n",
            "Epoch 8/10\n",
            "3388/3388 [==============================] - 23s 7ms/step - batch: 1693.5000 - size: 4.0000 - loss: 0.0777 - acc: 0.3966 - val_loss: 3.6264 - val_acc: 0.2913 - lr: 9.0250e-04\n",
            "Epoch 9/10\n",
            "3388/3388 [==============================] - 23s 7ms/step - batch: 1693.5000 - size: 4.0000 - loss: 0.0636 - acc: 0.3971 - val_loss: 4.0804 - val_acc: 0.2926 - lr: 9.0250e-04\n",
            "Epoch 10/10\n",
            "3388/3388 [==============================] - ETA: 0s - batch: 1693.5000 - size: 4.0000 - loss: 0.0499 - acc: 0.3980\n",
            "Epoch 00010: ReduceLROnPlateau reducing learning rate to 0.0008573750033974647.\n",
            "3388/3388 [==============================] - 23s 7ms/step - batch: 1693.5000 - size: 4.0000 - loss: 0.0499 - acc: 0.3980 - val_loss: 4.4139 - val_acc: 0.2836 - lr: 9.0250e-04\n"
          ]
        },
        {
          "output_type": "execute_result",
          "data": {
            "text/plain": [
              "<tensorflow.python.keras.callbacks.History at 0x7fe218b26450>"
            ]
          },
          "metadata": {},
          "execution_count": 259
        }
      ]
    },
    {
      "cell_type": "code",
      "metadata": {
        "colab": {
          "base_uri": "https://localhost:8080/"
        },
        "id": "QoQ_Q9DXbC-Z",
        "outputId": "fec83018-b71e-4b94-964b-cdd10e456eef"
      },
      "source": [
        "df_train_pca['emb'][0].shape"
      ],
      "execution_count": null,
      "outputs": [
        {
          "output_type": "execute_result",
          "data": {
            "text/plain": [
              "(1, 768)"
            ]
          },
          "metadata": {},
          "execution_count": 276
        }
      ]
    },
    {
      "cell_type": "code",
      "metadata": {
        "colab": {
          "base_uri": "https://localhost:8080/"
        },
        "id": "2_EvYiKca261",
        "outputId": "07809337-0756-4611-8b02-c0887ac8582b"
      },
      "source": [
        "model768.fit_generator(train_generator(df_train_pca), steps_per_epoch=batches_per_epoch, epochs=10,\n",
        "                    validation_data=val_generator(df_val_pca), validation_steps=batches_per_epoch_val, callbacks =[call_reduce] )"
      ],
      "execution_count": null,
      "outputs": [
        {
          "output_type": "stream",
          "name": "stderr",
          "text": [
            "/usr/local/lib/python3.7/dist-packages/tensorflow/python/keras/engine/training_v1.py:1246: UserWarning: `model.fit_generator` is deprecated and will be removed in a future version. Please use `Model.fit`, which supports generators.\n",
            "  warnings.warn('`model.fit_generator` is deprecated and '\n"
          ]
        },
        {
          "output_type": "stream",
          "name": "stdout",
          "text": [
            "Epoch 1/10\n",
            "3387/3388 [============================>.] - ETA: 0s - batch: 1693.0000 - size: 4.0000 - loss: 0.3208 - acc: 0.3817"
          ]
        },
        {
          "output_type": "stream",
          "name": "stderr",
          "text": [
            "/usr/local/lib/python3.7/dist-packages/tensorflow/python/keras/engine/training.py:2426: UserWarning: `Model.state_updates` will be removed in a future version. This property should not be used in TensorFlow 2.0, as `updates` are applied automatically.\n",
            "  warnings.warn('`Model.state_updates` will be removed in a future version. '\n"
          ]
        },
        {
          "output_type": "stream",
          "name": "stdout",
          "text": [
            "3388/3388 [==============================] - 25s 7ms/step - batch: 1693.5000 - size: 4.0000 - loss: 0.3207 - acc: 0.3817 - val_loss: 1.8982 - val_acc: 0.2937 - lr: 0.0010\n",
            "Epoch 2/10\n",
            "3388/3388 [==============================] - 23s 7ms/step - batch: 1693.5000 - size: 4.0000 - loss: 0.2310 - acc: 0.3858 - val_loss: 2.0043 - val_acc: 0.2972 - lr: 0.0010\n",
            "Epoch 3/10\n",
            "3388/3388 [==============================] - 23s 7ms/step - batch: 1693.5000 - size: 4.0000 - loss: 0.1934 - acc: 0.3886 - val_loss: 2.1292 - val_acc: 0.2983 - lr: 0.0010\n",
            "Epoch 4/10\n",
            "3387/3388 [============================>.] - ETA: 0s - batch: 1693.0000 - size: 4.0000 - loss: 0.1598 - acc: 0.3911\n",
            "Epoch 00004: ReduceLROnPlateau reducing learning rate to 0.0009500000451225787.\n",
            "3388/3388 [==============================] - 23s 7ms/step - batch: 1693.5000 - size: 4.0000 - loss: 0.1597 - acc: 0.3911 - val_loss: 2.3177 - val_acc: 0.3015 - lr: 0.0010\n",
            "Epoch 5/10\n",
            "3388/3388 [==============================] - 23s 7ms/step - batch: 1693.5000 - size: 4.0000 - loss: 0.1270 - acc: 0.3933 - val_loss: 2.6702 - val_acc: 0.3005 - lr: 9.5000e-04\n",
            "Epoch 6/10\n",
            "3388/3388 [==============================] - 23s 7ms/step - batch: 1693.5000 - size: 4.0000 - loss: 0.1005 - acc: 0.3950 - val_loss: 3.0716 - val_acc: 0.2986 - lr: 9.5000e-04\n",
            "Epoch 7/10\n",
            "3384/3388 [============================>.] - ETA: 0s - batch: 1691.5000 - size: 4.0000 - loss: 0.0783 - acc: 0.3964\n",
            "Epoch 00007: ReduceLROnPlateau reducing learning rate to 0.0009025000152178108.\n",
            "3388/3388 [==============================] - 23s 7ms/step - batch: 1693.5000 - size: 4.0000 - loss: 0.0786 - acc: 0.3965 - val_loss: 3.5341 - val_acc: 0.2925 - lr: 9.5000e-04\n",
            "Epoch 8/10\n",
            "3388/3388 [==============================] - 23s 7ms/step - batch: 1693.5000 - size: 4.0000 - loss: 0.0628 - acc: 0.3972 - val_loss: 3.9924 - val_acc: 0.2932 - lr: 9.0250e-04\n",
            "Epoch 9/10\n",
            "3388/3388 [==============================] - 23s 7ms/step - batch: 1693.5000 - size: 4.0000 - loss: 0.0475 - acc: 0.3983 - val_loss: 4.2794 - val_acc: 0.2842 - lr: 9.0250e-04\n",
            "Epoch 10/10\n",
            "3382/3388 [============================>.] - ETA: 0s - batch: 1690.5000 - size: 4.0000 - loss: 0.0384 - acc: 0.3986\n",
            "Epoch 00010: ReduceLROnPlateau reducing learning rate to 0.0008573750033974647.\n",
            "3388/3388 [==============================] - 23s 7ms/step - batch: 1693.5000 - size: 4.0000 - loss: 0.0386 - acc: 0.3987 - val_loss: 4.0455 - val_acc: 0.2939 - lr: 9.0250e-04\n"
          ]
        },
        {
          "output_type": "execute_result",
          "data": {
            "text/plain": [
              "<tensorflow.python.keras.callbacks.History at 0x7fe219b7ae90>"
            ]
          },
          "metadata": {},
          "execution_count": 277
        }
      ]
    },
    {
      "cell_type": "code",
      "metadata": {
        "colab": {
          "base_uri": "https://localhost:8080/"
        },
        "id": "tqdcdXsMcD_W",
        "outputId": "1a40aa7d-1ff3-452d-8280-d43b9de07347"
      },
      "source": [
        "df_train_kpca['emb'][0].shape"
      ],
      "execution_count": null,
      "outputs": [
        {
          "output_type": "execute_result",
          "data": {
            "text/plain": [
              "(1, 768)"
            ]
          },
          "metadata": {},
          "execution_count": 278
        }
      ]
    },
    {
      "cell_type": "code",
      "metadata": {
        "colab": {
          "base_uri": "https://localhost:8080/"
        },
        "id": "ZfhJjGfxbQR7",
        "outputId": "7d5a7138-e453-49be-e06d-8787d12a2262"
      },
      "source": [
        "model768.fit_generator(train_generator(df_train_kpca), steps_per_epoch=batches_per_epoch, epochs=10,\n",
        "                    validation_data=val_generator(df_val_kpca), validation_steps=batches_per_epoch_val, callbacks =[call_reduce] )"
      ],
      "execution_count": null,
      "outputs": [
        {
          "output_type": "stream",
          "name": "stdout",
          "text": [
            "Epoch 1/10\n",
            "  27/3388 [..............................] - ETA: 20s - batch: 13.0000 - size: 4.0000 - loss: 2.2543 - acc: 0.3102"
          ]
        },
        {
          "output_type": "stream",
          "name": "stderr",
          "text": [
            "/usr/local/lib/python3.7/dist-packages/tensorflow/python/keras/engine/training_v1.py:1246: UserWarning: `model.fit_generator` is deprecated and will be removed in a future version. Please use `Model.fit`, which supports generators.\n",
            "  warnings.warn('`model.fit_generator` is deprecated and '\n"
          ]
        },
        {
          "output_type": "stream",
          "name": "stdout",
          "text": [
            "3388/3388 [==============================] - 24s 7ms/step - batch: 1693.5000 - size: 4.0000 - loss: 1.8624 - acc: 0.3410 - val_loss: 1.8572 - val_acc: 0.3538 - lr: 8.5737e-04\n",
            "Epoch 2/10\n",
            "3388/3388 [==============================] - 23s 7ms/step - batch: 1693.5000 - size: 4.0000 - loss: 1.7779 - acc: 0.3483 - val_loss: 1.8970 - val_acc: 0.3405 - lr: 8.5737e-04\n",
            "Epoch 3/10\n",
            "3388/3388 [==============================] - 23s 7ms/step - batch: 1693.5000 - size: 4.0000 - loss: 1.7116 - acc: 0.3501 - val_loss: 2.0119 - val_acc: 0.3196 - lr: 8.5737e-04\n",
            "Epoch 4/10\n",
            "3386/3388 [============================>.] - ETA: 0s - batch: 1692.5000 - size: 4.0000 - loss: 1.6758 - acc: 0.3485\n",
            "Epoch 00004: ReduceLROnPlateau reducing learning rate to 0.0008145062311086804.\n",
            "3388/3388 [==============================] - 23s 7ms/step - batch: 1693.5000 - size: 4.0000 - loss: 1.6757 - acc: 0.3485 - val_loss: 2.1632 - val_acc: 0.2969 - lr: 8.5737e-04\n",
            "Epoch 5/10\n",
            "3388/3388 [==============================] - 24s 7ms/step - batch: 1693.5000 - size: 4.0000 - loss: 1.6515 - acc: 0.3474 - val_loss: 2.3411 - val_acc: 0.2824 - lr: 8.1451e-04\n",
            "Epoch 6/10\n",
            "3388/3388 [==============================] - 23s 7ms/step - batch: 1693.5000 - size: 4.0000 - loss: 1.6328 - acc: 0.3456 - val_loss: 2.5306 - val_acc: 0.2690 - lr: 8.1451e-04\n",
            "Epoch 7/10\n",
            "3385/3388 [============================>.] - ETA: 0s - batch: 1692.0000 - size: 4.0000 - loss: 1.6160 - acc: 0.3444\n",
            "Epoch 00007: ReduceLROnPlateau reducing learning rate to 0.0007737808919046074.\n",
            "3388/3388 [==============================] - 23s 7ms/step - batch: 1693.5000 - size: 4.0000 - loss: 1.6162 - acc: 0.3444 - val_loss: 2.7264 - val_acc: 0.2613 - lr: 8.1451e-04\n",
            "Epoch 8/10\n",
            "3388/3388 [==============================] - 23s 7ms/step - batch: 1693.5000 - size: 4.0000 - loss: 1.5988 - acc: 0.3436 - val_loss: 2.9415 - val_acc: 0.2538 - lr: 7.7378e-04\n",
            "Epoch 9/10\n",
            "3388/3388 [==============================] - 23s 7ms/step - batch: 1693.5000 - size: 4.0000 - loss: 1.5836 - acc: 0.3431 - val_loss: 3.1419 - val_acc: 0.2475 - lr: 7.7378e-04\n",
            "Epoch 10/10\n",
            "3383/3388 [============================>.] - ETA: 0s - batch: 1691.0000 - size: 4.0000 - loss: 1.5681 - acc: 0.3423\n",
            "Epoch 00010: ReduceLROnPlateau reducing learning rate to 0.000735091819660738.\n",
            "3388/3388 [==============================] - 23s 7ms/step - batch: 1693.5000 - size: 4.0000 - loss: 1.5680 - acc: 0.3423 - val_loss: 3.3651 - val_acc: 0.2445 - lr: 7.7378e-04\n"
          ]
        },
        {
          "output_type": "execute_result",
          "data": {
            "text/plain": [
              "<tensorflow.python.keras.callbacks.History at 0x7fe4309701d0>"
            ]
          },
          "metadata": {},
          "execution_count": 279
        }
      ]
    },
    {
      "cell_type": "code",
      "metadata": {
        "colab": {
          "base_uri": "https://localhost:8080/"
        },
        "id": "lZSX2OSIeHHD",
        "outputId": "90ae7230-95c7-44d6-f4d6-d69665ae8d8d"
      },
      "source": [
        "df_train['emb'][0].shape"
      ],
      "execution_count": null,
      "outputs": [
        {
          "output_type": "execute_result",
          "data": {
            "text/plain": [
              "(2, 768)"
            ]
          },
          "metadata": {},
          "execution_count": 284
        }
      ]
    },
    {
      "cell_type": "code",
      "metadata": {
        "colab": {
          "base_uri": "https://localhost:8080/"
        },
        "id": "sgaVLZDXenDs",
        "outputId": "d20afc32-2395-4f46-8a2c-e942bfe8fa52"
      },
      "source": [
        "batches_per_epoch_val"
      ],
      "execution_count": null,
      "outputs": [
        {
          "output_type": "execute_result",
          "data": {
            "text/plain": [
              "847"
            ]
          },
          "metadata": {},
          "execution_count": 289
        }
      ]
    },
    {
      "cell_type": "code",
      "metadata": {
        "colab": {
          "base_uri": "https://localhost:8080/",
          "height": 525
        },
        "id": "F949Wad8cOVp",
        "outputId": "470240f9-5fba-452f-a50c-69326e30b826"
      },
      "source": [
        "modelnew.fit_generator(train_generator_try(df_train), steps_per_epoch=batches_per_epoch, epochs=10,validation_data=val_generator_try(df_val), validation_steps=batches_per_epoch_val)\n",
        "#, callbacks =[call_reduce] )"
      ],
      "execution_count": null,
      "outputs": [
        {
          "output_type": "stream",
          "name": "stdout",
          "text": [
            "Epoch 1/10\n"
          ]
        },
        {
          "output_type": "stream",
          "name": "stderr",
          "text": [
            "/usr/local/lib/python3.7/dist-packages/keras/engine/training_v1.py:1228: UserWarning: `model.fit_generator` is deprecated and will be removed in a future version. Please use `Model.fit`, which supports generators.\n",
            "  warnings.warn('`model.fit_generator` is deprecated and '\n"
          ]
        },
        {
          "output_type": "error",
          "ename": "InvalidArgumentError",
          "evalue": "ignored",
          "traceback": [
            "\u001b[0;31m---------------------------------------------------------------------------\u001b[0m",
            "\u001b[0;31mInvalidArgumentError\u001b[0m                      Traceback (most recent call last)",
            "\u001b[0;32m<ipython-input-46-4bb97baa364e>\u001b[0m in \u001b[0;36m<module>\u001b[0;34m()\u001b[0m\n\u001b[0;32m----> 1\u001b[0;31m \u001b[0mmodelnew\u001b[0m\u001b[0;34m.\u001b[0m\u001b[0mfit_generator\u001b[0m\u001b[0;34m(\u001b[0m\u001b[0mtrain_generator_try\u001b[0m\u001b[0;34m(\u001b[0m\u001b[0mdf_train\u001b[0m\u001b[0;34m)\u001b[0m\u001b[0;34m,\u001b[0m \u001b[0msteps_per_epoch\u001b[0m\u001b[0;34m=\u001b[0m\u001b[0mbatches_per_epoch\u001b[0m\u001b[0;34m,\u001b[0m \u001b[0mepochs\u001b[0m\u001b[0;34m=\u001b[0m\u001b[0;36m10\u001b[0m\u001b[0;34m,\u001b[0m\u001b[0mvalidation_data\u001b[0m\u001b[0;34m=\u001b[0m\u001b[0mval_generator_try\u001b[0m\u001b[0;34m(\u001b[0m\u001b[0mdf_val\u001b[0m\u001b[0;34m)\u001b[0m\u001b[0;34m,\u001b[0m \u001b[0mvalidation_steps\u001b[0m\u001b[0;34m=\u001b[0m\u001b[0mbatches_per_epoch_val\u001b[0m\u001b[0;34m)\u001b[0m\u001b[0;34m\u001b[0m\u001b[0;34m\u001b[0m\u001b[0m\n\u001b[0m\u001b[1;32m      2\u001b[0m \u001b[0;31m#, callbacks =[call_reduce] )\u001b[0m\u001b[0;34m\u001b[0m\u001b[0;34m\u001b[0m\u001b[0;34m\u001b[0m\u001b[0m\n",
            "\u001b[0;32m/usr/local/lib/python3.7/dist-packages/keras/engine/training_v1.py\u001b[0m in \u001b[0;36mfit_generator\u001b[0;34m(self, generator, steps_per_epoch, epochs, verbose, callbacks, validation_data, validation_steps, validation_freq, class_weight, max_queue_size, workers, use_multiprocessing, shuffle, initial_epoch)\u001b[0m\n\u001b[1;32m   1243\u001b[0m         \u001b[0muse_multiprocessing\u001b[0m\u001b[0;34m=\u001b[0m\u001b[0muse_multiprocessing\u001b[0m\u001b[0;34m,\u001b[0m\u001b[0;34m\u001b[0m\u001b[0;34m\u001b[0m\u001b[0m\n\u001b[1;32m   1244\u001b[0m         \u001b[0mshuffle\u001b[0m\u001b[0;34m=\u001b[0m\u001b[0mshuffle\u001b[0m\u001b[0;34m,\u001b[0m\u001b[0;34m\u001b[0m\u001b[0;34m\u001b[0m\u001b[0m\n\u001b[0;32m-> 1245\u001b[0;31m         initial_epoch=initial_epoch)\n\u001b[0m\u001b[1;32m   1246\u001b[0m \u001b[0;34m\u001b[0m\u001b[0m\n\u001b[1;32m   1247\u001b[0m   def evaluate_generator(self,\n",
            "\u001b[0;32m/usr/local/lib/python3.7/dist-packages/keras/engine/training_v1.py\u001b[0m in \u001b[0;36mfit\u001b[0;34m(self, x, y, batch_size, epochs, verbose, callbacks, validation_split, validation_data, shuffle, class_weight, sample_weight, initial_epoch, steps_per_epoch, validation_steps, validation_freq, max_queue_size, workers, use_multiprocessing, **kwargs)\u001b[0m\n\u001b[1;32m    794\u001b[0m         \u001b[0mmax_queue_size\u001b[0m\u001b[0;34m=\u001b[0m\u001b[0mmax_queue_size\u001b[0m\u001b[0;34m,\u001b[0m\u001b[0;34m\u001b[0m\u001b[0;34m\u001b[0m\u001b[0m\n\u001b[1;32m    795\u001b[0m         \u001b[0mworkers\u001b[0m\u001b[0;34m=\u001b[0m\u001b[0mworkers\u001b[0m\u001b[0;34m,\u001b[0m\u001b[0;34m\u001b[0m\u001b[0;34m\u001b[0m\u001b[0m\n\u001b[0;32m--> 796\u001b[0;31m         use_multiprocessing=use_multiprocessing)\n\u001b[0m\u001b[1;32m    797\u001b[0m \u001b[0;34m\u001b[0m\u001b[0m\n\u001b[1;32m    798\u001b[0m   def evaluate(self,\n",
            "\u001b[0;32m/usr/local/lib/python3.7/dist-packages/keras/engine/training_generator_v1.py\u001b[0m in \u001b[0;36mfit\u001b[0;34m(self, model, x, y, batch_size, epochs, verbose, callbacks, validation_split, validation_data, shuffle, class_weight, sample_weight, initial_epoch, steps_per_epoch, validation_steps, validation_freq, max_queue_size, workers, use_multiprocessing)\u001b[0m\n\u001b[1;32m    584\u001b[0m         \u001b[0mshuffle\u001b[0m\u001b[0;34m=\u001b[0m\u001b[0mshuffle\u001b[0m\u001b[0;34m,\u001b[0m\u001b[0;34m\u001b[0m\u001b[0;34m\u001b[0m\u001b[0m\n\u001b[1;32m    585\u001b[0m         \u001b[0minitial_epoch\u001b[0m\u001b[0;34m=\u001b[0m\u001b[0minitial_epoch\u001b[0m\u001b[0;34m,\u001b[0m\u001b[0;34m\u001b[0m\u001b[0;34m\u001b[0m\u001b[0m\n\u001b[0;32m--> 586\u001b[0;31m         steps_name='steps_per_epoch')\n\u001b[0m\u001b[1;32m    587\u001b[0m \u001b[0;34m\u001b[0m\u001b[0m\n\u001b[1;32m    588\u001b[0m   def evaluate(self,\n",
            "\u001b[0;32m/usr/local/lib/python3.7/dist-packages/keras/engine/training_generator_v1.py\u001b[0m in \u001b[0;36mmodel_iteration\u001b[0;34m(model, data, steps_per_epoch, epochs, verbose, callbacks, validation_data, validation_steps, validation_freq, class_weight, max_queue_size, workers, use_multiprocessing, shuffle, initial_epoch, mode, batch_size, steps_name, **kwargs)\u001b[0m\n\u001b[1;32m    250\u001b[0m \u001b[0;34m\u001b[0m\u001b[0m\n\u001b[1;32m    251\u001b[0m       \u001b[0mis_deferred\u001b[0m \u001b[0;34m=\u001b[0m \u001b[0;32mnot\u001b[0m \u001b[0mmodel\u001b[0m\u001b[0;34m.\u001b[0m\u001b[0m_is_compiled\u001b[0m\u001b[0;34m\u001b[0m\u001b[0;34m\u001b[0m\u001b[0m\n\u001b[0;32m--> 252\u001b[0;31m       \u001b[0mbatch_outs\u001b[0m \u001b[0;34m=\u001b[0m \u001b[0mbatch_function\u001b[0m\u001b[0;34m(\u001b[0m\u001b[0;34m*\u001b[0m\u001b[0mbatch_data\u001b[0m\u001b[0;34m)\u001b[0m\u001b[0;34m\u001b[0m\u001b[0;34m\u001b[0m\u001b[0m\n\u001b[0m\u001b[1;32m    253\u001b[0m       \u001b[0;32mif\u001b[0m \u001b[0;32mnot\u001b[0m \u001b[0misinstance\u001b[0m\u001b[0;34m(\u001b[0m\u001b[0mbatch_outs\u001b[0m\u001b[0;34m,\u001b[0m \u001b[0mlist\u001b[0m\u001b[0;34m)\u001b[0m\u001b[0;34m:\u001b[0m\u001b[0;34m\u001b[0m\u001b[0;34m\u001b[0m\u001b[0m\n\u001b[1;32m    254\u001b[0m         \u001b[0mbatch_outs\u001b[0m \u001b[0;34m=\u001b[0m \u001b[0;34m[\u001b[0m\u001b[0mbatch_outs\u001b[0m\u001b[0;34m]\u001b[0m\u001b[0;34m\u001b[0m\u001b[0;34m\u001b[0m\u001b[0m\n",
            "\u001b[0;32m/usr/local/lib/python3.7/dist-packages/keras/engine/training_v1.py\u001b[0m in \u001b[0;36mtrain_on_batch\u001b[0;34m(self, x, y, sample_weight, class_weight, reset_metrics)\u001b[0m\n\u001b[1;32m   1074\u001b[0m       \u001b[0mself\u001b[0m\u001b[0;34m.\u001b[0m\u001b[0m_update_sample_weight_modes\u001b[0m\u001b[0;34m(\u001b[0m\u001b[0msample_weights\u001b[0m\u001b[0;34m=\u001b[0m\u001b[0msample_weights\u001b[0m\u001b[0;34m)\u001b[0m\u001b[0;34m\u001b[0m\u001b[0;34m\u001b[0m\u001b[0m\n\u001b[1;32m   1075\u001b[0m       \u001b[0mself\u001b[0m\u001b[0;34m.\u001b[0m\u001b[0m_make_train_function\u001b[0m\u001b[0;34m(\u001b[0m\u001b[0;34m)\u001b[0m\u001b[0;34m\u001b[0m\u001b[0;34m\u001b[0m\u001b[0m\n\u001b[0;32m-> 1076\u001b[0;31m       \u001b[0moutputs\u001b[0m \u001b[0;34m=\u001b[0m \u001b[0mself\u001b[0m\u001b[0;34m.\u001b[0m\u001b[0mtrain_function\u001b[0m\u001b[0;34m(\u001b[0m\u001b[0mins\u001b[0m\u001b[0;34m)\u001b[0m  \u001b[0;31m# pylint: disable=not-callable\u001b[0m\u001b[0;34m\u001b[0m\u001b[0;34m\u001b[0m\u001b[0m\n\u001b[0m\u001b[1;32m   1077\u001b[0m \u001b[0;34m\u001b[0m\u001b[0m\n\u001b[1;32m   1078\u001b[0m     \u001b[0;32mif\u001b[0m \u001b[0mreset_metrics\u001b[0m\u001b[0;34m:\u001b[0m\u001b[0;34m\u001b[0m\u001b[0;34m\u001b[0m\u001b[0m\n",
            "\u001b[0;32m/usr/local/lib/python3.7/dist-packages/keras/backend.py\u001b[0m in \u001b[0;36m__call__\u001b[0;34m(self, inputs)\u001b[0m\n\u001b[1;32m   4030\u001b[0m \u001b[0;34m\u001b[0m\u001b[0m\n\u001b[1;32m   4031\u001b[0m     fetched = self._callable_fn(*array_vals,\n\u001b[0;32m-> 4032\u001b[0;31m                                 run_metadata=self.run_metadata)\n\u001b[0m\u001b[1;32m   4033\u001b[0m     \u001b[0mself\u001b[0m\u001b[0;34m.\u001b[0m\u001b[0m_call_fetch_callbacks\u001b[0m\u001b[0;34m(\u001b[0m\u001b[0mfetched\u001b[0m\u001b[0;34m[\u001b[0m\u001b[0;34m-\u001b[0m\u001b[0mlen\u001b[0m\u001b[0;34m(\u001b[0m\u001b[0mself\u001b[0m\u001b[0;34m.\u001b[0m\u001b[0m_fetches\u001b[0m\u001b[0;34m)\u001b[0m\u001b[0;34m:\u001b[0m\u001b[0;34m]\u001b[0m\u001b[0;34m)\u001b[0m\u001b[0;34m\u001b[0m\u001b[0;34m\u001b[0m\u001b[0m\n\u001b[1;32m   4034\u001b[0m     output_structure = tf.nest.pack_sequence_as(\n",
            "\u001b[0;32m/usr/local/lib/python3.7/dist-packages/tensorflow/python/client/session.py\u001b[0m in \u001b[0;36m__call__\u001b[0;34m(self, *args, **kwargs)\u001b[0m\n\u001b[1;32m   1478\u001b[0m         ret = tf_session.TF_SessionRunCallable(self._session._session,\n\u001b[1;32m   1479\u001b[0m                                                \u001b[0mself\u001b[0m\u001b[0;34m.\u001b[0m\u001b[0m_handle\u001b[0m\u001b[0;34m,\u001b[0m \u001b[0margs\u001b[0m\u001b[0;34m,\u001b[0m\u001b[0;34m\u001b[0m\u001b[0;34m\u001b[0m\u001b[0m\n\u001b[0;32m-> 1480\u001b[0;31m                                                run_metadata_ptr)\n\u001b[0m\u001b[1;32m   1481\u001b[0m         \u001b[0;32mif\u001b[0m \u001b[0mrun_metadata\u001b[0m\u001b[0;34m:\u001b[0m\u001b[0;34m\u001b[0m\u001b[0;34m\u001b[0m\u001b[0m\n\u001b[1;32m   1482\u001b[0m           \u001b[0mproto_data\u001b[0m \u001b[0;34m=\u001b[0m \u001b[0mtf_session\u001b[0m\u001b[0;34m.\u001b[0m\u001b[0mTF_GetBuffer\u001b[0m\u001b[0;34m(\u001b[0m\u001b[0mrun_metadata_ptr\u001b[0m\u001b[0;34m)\u001b[0m\u001b[0;34m\u001b[0m\u001b[0;34m\u001b[0m\u001b[0m\n",
            "\u001b[0;31mInvalidArgumentError\u001b[0m: 2 root error(s) found.\n  (0) Invalid argument: required broadcastable shapes\n\t [[{{node metrics_4/acc/Equal}}]]\n\t [[metrics_4/acc/Identity/_341]]\n  (1) Invalid argument: required broadcastable shapes\n\t [[{{node metrics_4/acc/Equal}}]]\n0 successful operations.\n0 derived errors ignored."
          ]
        }
      ]
    },
    {
      "cell_type": "code",
      "metadata": {
        "id": "5EjU_PJ-6eyT",
        "colab": {
          "base_uri": "https://localhost:8080/"
        },
        "outputId": "51b2aa06-c5a9-47f8-9d09-d0f62724d46e"
      },
      "source": [
        "num_sequences_val = len(df_test['mean_emb'].to_list())\n",
        "batch_size_val = 2\n",
        "batches_per_epoch_val = 101\n",
        "assert batch_size_val * batches_per_epoch_val == num_sequences_val\n",
        "num_features= 768\n",
        "model.evaluate_generator(val_generator(df_test), steps= batches_per_epoch_val)"
      ],
      "execution_count": null,
      "outputs": [
        {
          "output_type": "stream",
          "name": "stderr",
          "text": [
            "/usr/local/lib/python3.7/dist-packages/keras/engine/training_v1.py:1261: UserWarning: `Model.evaluate_generator` is deprecated and will be removed in a future version. Please use `Model.evaluate`, which supports generators.\n",
            "  warnings.warn('`Model.evaluate_generator` is deprecated and '\n"
          ]
        },
        {
          "output_type": "execute_result",
          "data": {
            "text/plain": [
              "[0.2631700588482441, 0.9059406]"
            ]
          },
          "metadata": {},
          "execution_count": 188
        }
      ]
    },
    {
      "cell_type": "code",
      "metadata": {
        "id": "88KjGuTc9u-s",
        "colab": {
          "base_uri": "https://localhost:8080/"
        },
        "outputId": "32b1d967-12f6-49fd-8024-1c1e25ef2404"
      },
      "source": [
        "num_sequences_val = len(df_test['mean_emb'].to_list())\n",
        "batch_size_val = 2\n",
        "batches_per_epoch_val = 101\n",
        "assert batch_size_val * batches_per_epoch_val == num_sequences_val\n",
        "num_features= 768\n",
        "y_proba=model.predict(val_generator(df_test), steps= batches_per_epoch_val)"
      ],
      "execution_count": null,
      "outputs": [
        {
          "output_type": "stream",
          "name": "stderr",
          "text": [
            "/usr/local/lib/python3.7/dist-packages/keras/engine/training.py:2470: UserWarning: `Model.state_updates` will be removed in a future version. This property should not be used in TensorFlow 2.0, as `updates` are applied automatically.\n",
            "  warnings.warn('`Model.state_updates` will be removed in a future version. '\n"
          ]
        }
      ]
    },
    {
      "cell_type": "code",
      "metadata": {
        "id": "vbya2kLw9yID"
      },
      "source": [
        "y_pred=[]\n",
        "for i in y_proba:\n",
        "    max_index_row = np.argmax(i, axis=0)\n",
        "    y_pred.append(max_index_row)"
      ],
      "execution_count": null,
      "outputs": []
    },
    {
      "cell_type": "code",
      "metadata": {
        "colab": {
          "base_uri": "https://localhost:8080/"
        },
        "id": "Hazn-52090JH",
        "outputId": "2fa9c9f7-dd90-4360-d175-af158b8c2cd0"
      },
      "source": [
        "#Evaluating Model Performance by creating confusion matrix and classification report\n",
        "from sklearn.metrics import classification_report, confusion_matrix\n",
        "print('Confusion Matrix')\n",
        "print(confusion_matrix(y_pred, df_test['label']))\n",
        "print('Classification Report')\n",
        "print(classification_report(y_pred, df_test['label']))"
      ],
      "execution_count": null,
      "outputs": [
        {
          "output_type": "stream",
          "name": "stdout",
          "text": [
            "Confusion Matrix\n",
            "[[23  1  4  0 ...  1  1  1  0]\n",
            " [ 0 14  0  0 ...  0  0  1  0]\n",
            " [ 2  1 24  0 ...  0  0  0  0]\n",
            " [ 0  0  0  9 ...  0  0  0  0]\n",
            " ...\n",
            " [ 1  0  0  0 ...  1  0  0  0]\n",
            " [ 0  1  0  0 ...  0 82  0  0]\n",
            " [ 0  0  0  0 ...  0  0  1  0]\n",
            " [ 0  0  0  0 ...  0  0  0  7]]\n",
            "Classification Report\n",
            "              precision    recall  f1-score   support\n",
            "\n",
            "           0       0.88      0.72      0.79        32\n",
            "           1       0.82      0.88      0.85        16\n",
            "           2       0.80      0.89      0.84        27\n",
            "           3       0.90      1.00      0.95         9\n",
            "           4       0.92      0.88      0.90        25\n",
            "           5       0.50      0.50      0.50         2\n",
            "           6       0.99      0.99      0.99        83\n",
            "           8       0.33      1.00      0.50         1\n",
            "           9       1.00      1.00      1.00         7\n",
            "\n",
            "    accuracy                           0.91       202\n",
            "   macro avg       0.79      0.87      0.81       202\n",
            "weighted avg       0.91      0.91      0.91       202\n",
            "\n"
          ]
        }
      ]
    },
    {
      "cell_type": "code",
      "metadata": {
        "id": "PkFTwbUdcRFB"
      },
      "source": [
        "mat = confusion_matrix(y_pred, df_test['label'])"
      ],
      "execution_count": null,
      "outputs": []
    },
    {
      "cell_type": "code",
      "metadata": {
        "colab": {
          "base_uri": "https://localhost:8080/"
        },
        "id": "pFWFYexOcTim",
        "outputId": "4ddd4351-efa9-43d7-bbe9-246664b8c4ef"
      },
      "source": [
        "print(mat)"
      ],
      "execution_count": null,
      "outputs": [
        {
          "output_type": "stream",
          "name": "stdout",
          "text": [
            "[[23  1  4  0 ...  1  1  1  0]\n",
            " [ 0 14  0  0 ...  0  0  1  0]\n",
            " [ 2  1 24  0 ...  0  0  0  0]\n",
            " [ 0  0  0  9 ...  0  0  0  0]\n",
            " ...\n",
            " [ 1  0  0  0 ...  1  0  0  0]\n",
            " [ 0  1  0  0 ...  0 82  0  0]\n",
            " [ 0  0  0  0 ...  0  0  1  0]\n",
            " [ 0  0  0  0 ...  0  0  0  7]]\n"
          ]
        }
      ]
    },
    {
      "cell_type": "code",
      "metadata": {
        "colab": {
          "base_uri": "https://localhost:8080/"
        },
        "id": "W7-B1E8PbK8L",
        "outputId": "6f752fc8-e0ee-47ae-d953-fcec8c197e70"
      },
      "source": [
        "diag = np.diagonal(mat)\n",
        "sum(diag)"
      ],
      "execution_count": null,
      "outputs": [
        {
          "output_type": "execute_result",
          "data": {
            "text/plain": [
              "183"
            ]
          },
          "metadata": {},
          "execution_count": 194
        }
      ]
    },
    {
      "cell_type": "code",
      "metadata": {
        "colab": {
          "base_uri": "https://localhost:8080/"
        },
        "id": "eSp_J7dpcLAF",
        "outputId": "2b9f343f-e674-40ef-ffdd-25b8beb9123f"
      },
      "source": [
        "sum(sum(mat))-sum(diag)"
      ],
      "execution_count": null,
      "outputs": [
        {
          "output_type": "execute_result",
          "data": {
            "text/plain": [
              "19"
            ]
          },
          "metadata": {},
          "execution_count": 195
        }
      ]
    },
    {
      "cell_type": "code",
      "metadata": {
        "colab": {
          "base_uri": "https://localhost:8080/"
        },
        "id": "I_zCQnzGW99s",
        "outputId": "7f0bf4db-0d3c-440d-d70e-467359adda1e"
      },
      "source": [
        "#Just for reference -->DO NOT RUN IT\n",
        "# #BERT: Fine Tuning Training & Evaluating\n",
        "# print(f'Beginning Training!')\n",
        "# #current_time = datetime.time()\n",
        "# estimator.train(input_fn=train_input_fn, max_steps=num_train_steps)\n",
        "# #print(\"Training took time \", datetime.now() - current_time)"
      ],
      "execution_count": null,
      "outputs": [
        {
          "name": "stdout",
          "output_type": "stream",
          "text": [
            "Beginning Training!\n",
            "WARNING:tensorflow:From /usr/local/lib/python3.7/dist-packages/tensorflow/python/training/training_util.py:236: Variable.initialized_value (from tensorflow.python.ops.variables) is deprecated and will be removed in a future version.\n",
            "Instructions for updating:\n",
            "Use Variable.read_value. Variables in 2.X are initialized automatically both in eager and graph (inside tf.defun) contexts.\n"
          ]
        },
        {
          "name": "stderr",
          "output_type": "stream",
          "text": [
            "WARNING:tensorflow:From /usr/local/lib/python3.7/dist-packages/tensorflow/python/training/training_util.py:236: Variable.initialized_value (from tensorflow.python.ops.variables) is deprecated and will be removed in a future version.\n",
            "Instructions for updating:\n",
            "Use Variable.read_value. Variables in 2.X are initialized automatically both in eager and graph (inside tf.defun) contexts.\n"
          ]
        },
        {
          "name": "stdout",
          "output_type": "stream",
          "text": [
            "INFO:tensorflow:Calling model_fn.\n"
          ]
        },
        {
          "name": "stderr",
          "output_type": "stream",
          "text": [
            "INFO:tensorflow:Calling model_fn.\n"
          ]
        },
        {
          "name": "stdout",
          "output_type": "stream",
          "text": [
            "INFO:tensorflow:Saver not created because there are no variables in the graph to restore\n"
          ]
        },
        {
          "name": "stderr",
          "output_type": "stream",
          "text": [
            "INFO:tensorflow:Saver not created because there are no variables in the graph to restore\n"
          ]
        },
        {
          "name": "stdout",
          "output_type": "stream",
          "text": [
            "WARNING:tensorflow:From /usr/local/lib/python3.7/dist-packages/tensorflow/python/util/dispatch.py:206: calling dropout (from tensorflow.python.ops.nn_ops) with keep_prob is deprecated and will be removed in a future version.\n",
            "Instructions for updating:\n",
            "Please use `rate` instead of `keep_prob`. Rate should be set to `rate = 1 - keep_prob`.\n"
          ]
        },
        {
          "name": "stderr",
          "output_type": "stream",
          "text": [
            "WARNING:tensorflow:From /usr/local/lib/python3.7/dist-packages/tensorflow/python/util/dispatch.py:206: calling dropout (from tensorflow.python.ops.nn_ops) with keep_prob is deprecated and will be removed in a future version.\n",
            "Instructions for updating:\n",
            "Please use `rate` instead of `keep_prob`. Rate should be set to `rate = 1 - keep_prob`.\n"
          ]
        },
        {
          "name": "stdout",
          "output_type": "stream",
          "text": [
            "INFO:tensorflow:Done calling model_fn.\n"
          ]
        },
        {
          "name": "stderr",
          "output_type": "stream",
          "text": [
            "INFO:tensorflow:Done calling model_fn.\n"
          ]
        },
        {
          "name": "stdout",
          "output_type": "stream",
          "text": [
            "INFO:tensorflow:Create CheckpointSaverHook.\n"
          ]
        },
        {
          "name": "stderr",
          "output_type": "stream",
          "text": [
            "INFO:tensorflow:Create CheckpointSaverHook.\n"
          ]
        },
        {
          "name": "stdout",
          "output_type": "stream",
          "text": [
            "INFO:tensorflow:Graph was finalized.\n"
          ]
        },
        {
          "name": "stderr",
          "output_type": "stream",
          "text": [
            "INFO:tensorflow:Graph was finalized.\n"
          ]
        },
        {
          "name": "stdout",
          "output_type": "stream",
          "text": [
            "INFO:tensorflow:Running local_init_op.\n"
          ]
        },
        {
          "name": "stderr",
          "output_type": "stream",
          "text": [
            "INFO:tensorflow:Running local_init_op.\n"
          ]
        },
        {
          "name": "stdout",
          "output_type": "stream",
          "text": [
            "INFO:tensorflow:Done running local_init_op.\n"
          ]
        },
        {
          "name": "stderr",
          "output_type": "stream",
          "text": [
            "INFO:tensorflow:Done running local_init_op.\n"
          ]
        },
        {
          "name": "stdout",
          "output_type": "stream",
          "text": [
            "INFO:tensorflow:Calling checkpoint listeners before saving checkpoint 0...\n"
          ]
        },
        {
          "name": "stderr",
          "output_type": "stream",
          "text": [
            "INFO:tensorflow:Calling checkpoint listeners before saving checkpoint 0...\n"
          ]
        },
        {
          "name": "stdout",
          "output_type": "stream",
          "text": [
            "INFO:tensorflow:Saving checkpoints for 0 into /content/drive/MyDrive/MS_Final_Project/Model_checkpoints_CC/model.ckpt.\n"
          ]
        },
        {
          "name": "stderr",
          "output_type": "stream",
          "text": [
            "INFO:tensorflow:Saving checkpoints for 0 into /content/drive/MyDrive/MS_Final_Project/Model_checkpoints_CC/model.ckpt.\n"
          ]
        },
        {
          "name": "stdout",
          "output_type": "stream",
          "text": [
            "INFO:tensorflow:Calling checkpoint listeners after saving checkpoint 0...\n"
          ]
        },
        {
          "name": "stderr",
          "output_type": "stream",
          "text": [
            "INFO:tensorflow:Calling checkpoint listeners after saving checkpoint 0...\n"
          ]
        },
        {
          "name": "stdout",
          "output_type": "stream",
          "text": [
            "INFO:tensorflow:loss = 2.269146, step = 0\n"
          ]
        },
        {
          "name": "stderr",
          "output_type": "stream",
          "text": [
            "INFO:tensorflow:loss = 2.269146, step = 0\n"
          ]
        },
        {
          "name": "stdout",
          "output_type": "stream",
          "text": [
            "INFO:tensorflow:global_step/sec: 2.03454\n"
          ]
        },
        {
          "name": "stderr",
          "output_type": "stream",
          "text": [
            "INFO:tensorflow:global_step/sec: 2.03454\n"
          ]
        },
        {
          "name": "stdout",
          "output_type": "stream",
          "text": [
            "INFO:tensorflow:loss = 1.0293264, step = 100 (49.153 sec)\n"
          ]
        },
        {
          "name": "stderr",
          "output_type": "stream",
          "text": [
            "INFO:tensorflow:loss = 1.0293264, step = 100 (49.153 sec)\n"
          ]
        },
        {
          "name": "stdout",
          "output_type": "stream",
          "text": [
            "INFO:tensorflow:global_step/sec: 2.47521\n"
          ]
        },
        {
          "name": "stderr",
          "output_type": "stream",
          "text": [
            "INFO:tensorflow:global_step/sec: 2.47521\n"
          ]
        },
        {
          "name": "stdout",
          "output_type": "stream",
          "text": [
            "INFO:tensorflow:loss = 1.0047464, step = 200 (40.401 sec)\n"
          ]
        },
        {
          "name": "stderr",
          "output_type": "stream",
          "text": [
            "INFO:tensorflow:loss = 1.0047464, step = 200 (40.401 sec)\n"
          ]
        },
        {
          "name": "stdout",
          "output_type": "stream",
          "text": [
            "INFO:tensorflow:Calling checkpoint listeners before saving checkpoint 300...\n"
          ]
        },
        {
          "name": "stderr",
          "output_type": "stream",
          "text": [
            "INFO:tensorflow:Calling checkpoint listeners before saving checkpoint 300...\n"
          ]
        },
        {
          "name": "stdout",
          "output_type": "stream",
          "text": [
            "INFO:tensorflow:Saving checkpoints for 300 into /content/drive/MyDrive/MS_Final_Project/Model_checkpoints_CC/model.ckpt.\n"
          ]
        },
        {
          "name": "stderr",
          "output_type": "stream",
          "text": [
            "INFO:tensorflow:Saving checkpoints for 300 into /content/drive/MyDrive/MS_Final_Project/Model_checkpoints_CC/model.ckpt.\n"
          ]
        },
        {
          "name": "stdout",
          "output_type": "stream",
          "text": [
            "INFO:tensorflow:Calling checkpoint listeners after saving checkpoint 300...\n"
          ]
        },
        {
          "name": "stderr",
          "output_type": "stream",
          "text": [
            "INFO:tensorflow:Calling checkpoint listeners after saving checkpoint 300...\n"
          ]
        },
        {
          "name": "stdout",
          "output_type": "stream",
          "text": [
            "INFO:tensorflow:global_step/sec: 2.14739\n"
          ]
        },
        {
          "name": "stderr",
          "output_type": "stream",
          "text": [
            "INFO:tensorflow:global_step/sec: 2.14739\n"
          ]
        },
        {
          "name": "stdout",
          "output_type": "stream",
          "text": [
            "INFO:tensorflow:loss = 0.8332013, step = 300 (46.568 sec)\n"
          ]
        },
        {
          "name": "stderr",
          "output_type": "stream",
          "text": [
            "INFO:tensorflow:loss = 0.8332013, step = 300 (46.568 sec)\n"
          ]
        },
        {
          "name": "stdout",
          "output_type": "stream",
          "text": [
            "INFO:tensorflow:global_step/sec: 2.47347\n"
          ]
        },
        {
          "name": "stderr",
          "output_type": "stream",
          "text": [
            "INFO:tensorflow:global_step/sec: 2.47347\n"
          ]
        },
        {
          "name": "stdout",
          "output_type": "stream",
          "text": [
            "INFO:tensorflow:loss = 1.0196545, step = 400 (40.429 sec)\n"
          ]
        },
        {
          "name": "stderr",
          "output_type": "stream",
          "text": [
            "INFO:tensorflow:loss = 1.0196545, step = 400 (40.429 sec)\n"
          ]
        },
        {
          "name": "stdout",
          "output_type": "stream",
          "text": [
            "INFO:tensorflow:global_step/sec: 2.47606\n"
          ]
        },
        {
          "name": "stderr",
          "output_type": "stream",
          "text": [
            "INFO:tensorflow:global_step/sec: 2.47606\n"
          ]
        },
        {
          "name": "stdout",
          "output_type": "stream",
          "text": [
            "INFO:tensorflow:loss = 0.5582099, step = 500 (40.387 sec)\n"
          ]
        },
        {
          "name": "stderr",
          "output_type": "stream",
          "text": [
            "INFO:tensorflow:loss = 0.5582099, step = 500 (40.387 sec)\n"
          ]
        },
        {
          "name": "stdout",
          "output_type": "stream",
          "text": [
            "INFO:tensorflow:Calling checkpoint listeners before saving checkpoint 600...\n"
          ]
        },
        {
          "name": "stderr",
          "output_type": "stream",
          "text": [
            "INFO:tensorflow:Calling checkpoint listeners before saving checkpoint 600...\n"
          ]
        },
        {
          "name": "stdout",
          "output_type": "stream",
          "text": [
            "INFO:tensorflow:Saving checkpoints for 600 into /content/drive/MyDrive/MS_Final_Project/Model_checkpoints_CC/model.ckpt.\n"
          ]
        },
        {
          "name": "stderr",
          "output_type": "stream",
          "text": [
            "INFO:tensorflow:Saving checkpoints for 600 into /content/drive/MyDrive/MS_Final_Project/Model_checkpoints_CC/model.ckpt.\n"
          ]
        },
        {
          "name": "stdout",
          "output_type": "stream",
          "text": [
            "INFO:tensorflow:Calling checkpoint listeners after saving checkpoint 600...\n"
          ]
        },
        {
          "name": "stderr",
          "output_type": "stream",
          "text": [
            "INFO:tensorflow:Calling checkpoint listeners after saving checkpoint 600...\n"
          ]
        },
        {
          "name": "stdout",
          "output_type": "stream",
          "text": [
            "INFO:tensorflow:global_step/sec: 2.16216\n"
          ]
        },
        {
          "name": "stderr",
          "output_type": "stream",
          "text": [
            "INFO:tensorflow:global_step/sec: 2.16216\n"
          ]
        },
        {
          "name": "stdout",
          "output_type": "stream",
          "text": [
            "INFO:tensorflow:loss = 0.70514524, step = 600 (46.250 sec)\n"
          ]
        },
        {
          "name": "stderr",
          "output_type": "stream",
          "text": [
            "INFO:tensorflow:loss = 0.70514524, step = 600 (46.250 sec)\n"
          ]
        },
        {
          "name": "stdout",
          "output_type": "stream",
          "text": [
            "INFO:tensorflow:global_step/sec: 2.47374\n"
          ]
        },
        {
          "name": "stderr",
          "output_type": "stream",
          "text": [
            "INFO:tensorflow:global_step/sec: 2.47374\n"
          ]
        },
        {
          "name": "stdout",
          "output_type": "stream",
          "text": [
            "INFO:tensorflow:loss = 1.2256243, step = 700 (40.425 sec)\n"
          ]
        },
        {
          "name": "stderr",
          "output_type": "stream",
          "text": [
            "INFO:tensorflow:loss = 1.2256243, step = 700 (40.425 sec)\n"
          ]
        },
        {
          "name": "stdout",
          "output_type": "stream",
          "text": [
            "INFO:tensorflow:global_step/sec: 2.47581\n"
          ]
        },
        {
          "name": "stderr",
          "output_type": "stream",
          "text": [
            "INFO:tensorflow:global_step/sec: 2.47581\n"
          ]
        },
        {
          "name": "stdout",
          "output_type": "stream",
          "text": [
            "INFO:tensorflow:loss = 0.23693301, step = 800 (40.391 sec)\n"
          ]
        },
        {
          "name": "stderr",
          "output_type": "stream",
          "text": [
            "INFO:tensorflow:loss = 0.23693301, step = 800 (40.391 sec)\n"
          ]
        },
        {
          "name": "stdout",
          "output_type": "stream",
          "text": [
            "INFO:tensorflow:Calling checkpoint listeners before saving checkpoint 900...\n"
          ]
        },
        {
          "name": "stderr",
          "output_type": "stream",
          "text": [
            "INFO:tensorflow:Calling checkpoint listeners before saving checkpoint 900...\n"
          ]
        },
        {
          "name": "stdout",
          "output_type": "stream",
          "text": [
            "INFO:tensorflow:Saving checkpoints for 900 into /content/drive/MyDrive/MS_Final_Project/Model_checkpoints_CC/model.ckpt.\n"
          ]
        },
        {
          "name": "stderr",
          "output_type": "stream",
          "text": [
            "INFO:tensorflow:Saving checkpoints for 900 into /content/drive/MyDrive/MS_Final_Project/Model_checkpoints_CC/model.ckpt.\n"
          ]
        },
        {
          "name": "stdout",
          "output_type": "stream",
          "text": [
            "INFO:tensorflow:Calling checkpoint listeners after saving checkpoint 900...\n"
          ]
        },
        {
          "name": "stderr",
          "output_type": "stream",
          "text": [
            "INFO:tensorflow:Calling checkpoint listeners after saving checkpoint 900...\n"
          ]
        },
        {
          "name": "stdout",
          "output_type": "stream",
          "text": [
            "INFO:tensorflow:global_step/sec: 2.13953\n"
          ]
        },
        {
          "name": "stderr",
          "output_type": "stream",
          "text": [
            "INFO:tensorflow:global_step/sec: 2.13953\n"
          ]
        },
        {
          "name": "stdout",
          "output_type": "stream",
          "text": [
            "INFO:tensorflow:loss = 1.0314894, step = 900 (46.739 sec)\n"
          ]
        },
        {
          "name": "stderr",
          "output_type": "stream",
          "text": [
            "INFO:tensorflow:loss = 1.0314894, step = 900 (46.739 sec)\n"
          ]
        },
        {
          "name": "stdout",
          "output_type": "stream",
          "text": [
            "INFO:tensorflow:global_step/sec: 2.47311\n"
          ]
        },
        {
          "name": "stderr",
          "output_type": "stream",
          "text": [
            "INFO:tensorflow:global_step/sec: 2.47311\n"
          ]
        },
        {
          "name": "stdout",
          "output_type": "stream",
          "text": [
            "INFO:tensorflow:loss = 0.50885725, step = 1000 (40.436 sec)\n"
          ]
        },
        {
          "name": "stderr",
          "output_type": "stream",
          "text": [
            "INFO:tensorflow:loss = 0.50885725, step = 1000 (40.436 sec)\n"
          ]
        },
        {
          "name": "stdout",
          "output_type": "stream",
          "text": [
            "INFO:tensorflow:global_step/sec: 2.47567\n"
          ]
        },
        {
          "name": "stderr",
          "output_type": "stream",
          "text": [
            "INFO:tensorflow:global_step/sec: 2.47567\n"
          ]
        },
        {
          "name": "stdout",
          "output_type": "stream",
          "text": [
            "INFO:tensorflow:loss = 0.3976738, step = 1100 (40.393 sec)\n"
          ]
        },
        {
          "name": "stderr",
          "output_type": "stream",
          "text": [
            "INFO:tensorflow:loss = 0.3976738, step = 1100 (40.393 sec)\n"
          ]
        },
        {
          "name": "stdout",
          "output_type": "stream",
          "text": [
            "INFO:tensorflow:Calling checkpoint listeners before saving checkpoint 1200...\n"
          ]
        },
        {
          "name": "stderr",
          "output_type": "stream",
          "text": [
            "INFO:tensorflow:Calling checkpoint listeners before saving checkpoint 1200...\n"
          ]
        },
        {
          "name": "stdout",
          "output_type": "stream",
          "text": [
            "INFO:tensorflow:Saving checkpoints for 1200 into /content/drive/MyDrive/MS_Final_Project/Model_checkpoints_CC/model.ckpt.\n"
          ]
        },
        {
          "name": "stderr",
          "output_type": "stream",
          "text": [
            "INFO:tensorflow:Saving checkpoints for 1200 into /content/drive/MyDrive/MS_Final_Project/Model_checkpoints_CC/model.ckpt.\n"
          ]
        },
        {
          "name": "stdout",
          "output_type": "stream",
          "text": [
            "INFO:tensorflow:Calling checkpoint listeners after saving checkpoint 1200...\n"
          ]
        },
        {
          "name": "stderr",
          "output_type": "stream",
          "text": [
            "INFO:tensorflow:Calling checkpoint listeners after saving checkpoint 1200...\n"
          ]
        },
        {
          "name": "stdout",
          "output_type": "stream",
          "text": [
            "INFO:tensorflow:global_step/sec: 2.14793\n"
          ]
        },
        {
          "name": "stderr",
          "output_type": "stream",
          "text": [
            "INFO:tensorflow:global_step/sec: 2.14793\n"
          ]
        },
        {
          "name": "stdout",
          "output_type": "stream",
          "text": [
            "INFO:tensorflow:loss = 0.48501277, step = 1200 (46.556 sec)\n"
          ]
        },
        {
          "name": "stderr",
          "output_type": "stream",
          "text": [
            "INFO:tensorflow:loss = 0.48501277, step = 1200 (46.556 sec)\n"
          ]
        },
        {
          "name": "stdout",
          "output_type": "stream",
          "text": [
            "INFO:tensorflow:global_step/sec: 2.47377\n"
          ]
        },
        {
          "name": "stderr",
          "output_type": "stream",
          "text": [
            "INFO:tensorflow:global_step/sec: 2.47377\n"
          ]
        },
        {
          "name": "stdout",
          "output_type": "stream",
          "text": [
            "INFO:tensorflow:loss = 0.2039797, step = 1300 (40.424 sec)\n"
          ]
        },
        {
          "name": "stderr",
          "output_type": "stream",
          "text": [
            "INFO:tensorflow:loss = 0.2039797, step = 1300 (40.424 sec)\n"
          ]
        },
        {
          "name": "stdout",
          "output_type": "stream",
          "text": [
            "INFO:tensorflow:global_step/sec: 2.47695\n"
          ]
        },
        {
          "name": "stderr",
          "output_type": "stream",
          "text": [
            "INFO:tensorflow:global_step/sec: 2.47695\n"
          ]
        },
        {
          "name": "stdout",
          "output_type": "stream",
          "text": [
            "INFO:tensorflow:loss = 0.35457504, step = 1400 (40.372 sec)\n"
          ]
        },
        {
          "name": "stderr",
          "output_type": "stream",
          "text": [
            "INFO:tensorflow:loss = 0.35457504, step = 1400 (40.372 sec)\n"
          ]
        },
        {
          "name": "stdout",
          "output_type": "stream",
          "text": [
            "INFO:tensorflow:Calling checkpoint listeners before saving checkpoint 1500...\n"
          ]
        },
        {
          "name": "stderr",
          "output_type": "stream",
          "text": [
            "INFO:tensorflow:Calling checkpoint listeners before saving checkpoint 1500...\n"
          ]
        },
        {
          "name": "stdout",
          "output_type": "stream",
          "text": [
            "INFO:tensorflow:Saving checkpoints for 1500 into /content/drive/MyDrive/MS_Final_Project/Model_checkpoints_CC/model.ckpt.\n"
          ]
        },
        {
          "name": "stderr",
          "output_type": "stream",
          "text": [
            "INFO:tensorflow:Saving checkpoints for 1500 into /content/drive/MyDrive/MS_Final_Project/Model_checkpoints_CC/model.ckpt.\n"
          ]
        },
        {
          "name": "stdout",
          "output_type": "stream",
          "text": [
            "WARNING:tensorflow:From /usr/local/lib/python3.7/dist-packages/tensorflow/python/training/saver.py:971: remove_checkpoint (from tensorflow.python.training.checkpoint_management) is deprecated and will be removed in a future version.\n",
            "Instructions for updating:\n",
            "Use standard file APIs to delete files with this prefix.\n"
          ]
        },
        {
          "name": "stderr",
          "output_type": "stream",
          "text": [
            "WARNING:tensorflow:From /usr/local/lib/python3.7/dist-packages/tensorflow/python/training/saver.py:971: remove_checkpoint (from tensorflow.python.training.checkpoint_management) is deprecated and will be removed in a future version.\n",
            "Instructions for updating:\n",
            "Use standard file APIs to delete files with this prefix.\n"
          ]
        },
        {
          "name": "stdout",
          "output_type": "stream",
          "text": [
            "INFO:tensorflow:Calling checkpoint listeners after saving checkpoint 1500...\n"
          ]
        },
        {
          "name": "stderr",
          "output_type": "stream",
          "text": [
            "INFO:tensorflow:Calling checkpoint listeners after saving checkpoint 1500...\n"
          ]
        },
        {
          "name": "stdout",
          "output_type": "stream",
          "text": [
            "INFO:tensorflow:global_step/sec: 2.08047\n"
          ]
        },
        {
          "name": "stderr",
          "output_type": "stream",
          "text": [
            "INFO:tensorflow:global_step/sec: 2.08047\n"
          ]
        },
        {
          "name": "stdout",
          "output_type": "stream",
          "text": [
            "INFO:tensorflow:loss = 0.5878937, step = 1500 (48.067 sec)\n"
          ]
        },
        {
          "name": "stderr",
          "output_type": "stream",
          "text": [
            "INFO:tensorflow:loss = 0.5878937, step = 1500 (48.067 sec)\n"
          ]
        },
        {
          "name": "stdout",
          "output_type": "stream",
          "text": [
            "INFO:tensorflow:global_step/sec: 2.47501\n"
          ]
        },
        {
          "name": "stderr",
          "output_type": "stream",
          "text": [
            "INFO:tensorflow:global_step/sec: 2.47501\n"
          ]
        },
        {
          "name": "stdout",
          "output_type": "stream",
          "text": [
            "INFO:tensorflow:loss = 0.3608415, step = 1600 (40.403 sec)\n"
          ]
        },
        {
          "name": "stderr",
          "output_type": "stream",
          "text": [
            "INFO:tensorflow:loss = 0.3608415, step = 1600 (40.403 sec)\n"
          ]
        },
        {
          "name": "stdout",
          "output_type": "stream",
          "text": [
            "INFO:tensorflow:global_step/sec: 2.47714\n"
          ]
        },
        {
          "name": "stderr",
          "output_type": "stream",
          "text": [
            "INFO:tensorflow:global_step/sec: 2.47714\n"
          ]
        },
        {
          "name": "stdout",
          "output_type": "stream",
          "text": [
            "INFO:tensorflow:loss = 0.36334234, step = 1700 (40.369 sec)\n"
          ]
        },
        {
          "name": "stderr",
          "output_type": "stream",
          "text": [
            "INFO:tensorflow:loss = 0.36334234, step = 1700 (40.369 sec)\n"
          ]
        },
        {
          "name": "stdout",
          "output_type": "stream",
          "text": [
            "INFO:tensorflow:Calling checkpoint listeners before saving checkpoint 1800...\n"
          ]
        },
        {
          "name": "stderr",
          "output_type": "stream",
          "text": [
            "INFO:tensorflow:Calling checkpoint listeners before saving checkpoint 1800...\n"
          ]
        },
        {
          "name": "stdout",
          "output_type": "stream",
          "text": [
            "INFO:tensorflow:Saving checkpoints for 1800 into /content/drive/MyDrive/MS_Final_Project/Model_checkpoints_CC/model.ckpt.\n"
          ]
        },
        {
          "name": "stderr",
          "output_type": "stream",
          "text": [
            "INFO:tensorflow:Saving checkpoints for 1800 into /content/drive/MyDrive/MS_Final_Project/Model_checkpoints_CC/model.ckpt.\n"
          ]
        },
        {
          "name": "stdout",
          "output_type": "stream",
          "text": [
            "INFO:tensorflow:Calling checkpoint listeners after saving checkpoint 1800...\n"
          ]
        },
        {
          "name": "stderr",
          "output_type": "stream",
          "text": [
            "INFO:tensorflow:Calling checkpoint listeners after saving checkpoint 1800...\n"
          ]
        },
        {
          "name": "stdout",
          "output_type": "stream",
          "text": [
            "INFO:tensorflow:global_step/sec: 2.15762\n"
          ]
        },
        {
          "name": "stderr",
          "output_type": "stream",
          "text": [
            "INFO:tensorflow:global_step/sec: 2.15762\n"
          ]
        },
        {
          "name": "stdout",
          "output_type": "stream",
          "text": [
            "INFO:tensorflow:loss = 0.2758512, step = 1800 (46.347 sec)\n"
          ]
        },
        {
          "name": "stderr",
          "output_type": "stream",
          "text": [
            "INFO:tensorflow:loss = 0.2758512, step = 1800 (46.347 sec)\n"
          ]
        },
        {
          "name": "stdout",
          "output_type": "stream",
          "text": [
            "INFO:tensorflow:global_step/sec: 2.47499\n"
          ]
        },
        {
          "name": "stderr",
          "output_type": "stream",
          "text": [
            "INFO:tensorflow:global_step/sec: 2.47499\n"
          ]
        },
        {
          "name": "stdout",
          "output_type": "stream",
          "text": [
            "INFO:tensorflow:loss = 0.64759105, step = 1900 (40.404 sec)\n"
          ]
        },
        {
          "name": "stderr",
          "output_type": "stream",
          "text": [
            "INFO:tensorflow:loss = 0.64759105, step = 1900 (40.404 sec)\n"
          ]
        },
        {
          "name": "stdout",
          "output_type": "stream",
          "text": [
            "INFO:tensorflow:Calling checkpoint listeners before saving checkpoint 1982...\n"
          ]
        },
        {
          "name": "stderr",
          "output_type": "stream",
          "text": [
            "INFO:tensorflow:Calling checkpoint listeners before saving checkpoint 1982...\n"
          ]
        },
        {
          "name": "stdout",
          "output_type": "stream",
          "text": [
            "INFO:tensorflow:Saving checkpoints for 1982 into /content/drive/MyDrive/MS_Final_Project/Model_checkpoints_CC/model.ckpt.\n"
          ]
        },
        {
          "name": "stderr",
          "output_type": "stream",
          "text": [
            "INFO:tensorflow:Saving checkpoints for 1982 into /content/drive/MyDrive/MS_Final_Project/Model_checkpoints_CC/model.ckpt.\n"
          ]
        },
        {
          "name": "stdout",
          "output_type": "stream",
          "text": [
            "INFO:tensorflow:Calling checkpoint listeners after saving checkpoint 1982...\n"
          ]
        },
        {
          "name": "stderr",
          "output_type": "stream",
          "text": [
            "INFO:tensorflow:Calling checkpoint listeners after saving checkpoint 1982...\n"
          ]
        },
        {
          "name": "stdout",
          "output_type": "stream",
          "text": [
            "INFO:tensorflow:Loss for final step: 0.43535817.\n"
          ]
        },
        {
          "name": "stderr",
          "output_type": "stream",
          "text": [
            "INFO:tensorflow:Loss for final step: 0.43535817.\n"
          ]
        },
        {
          "data": {
            "text/plain": [
              "<tensorflow_estimator.python.estimator.estimator.EstimatorV2 at 0x7ff929b52290>"
            ]
          },
          "execution_count": 112,
          "metadata": {},
          "output_type": "execute_result"
        }
      ]
    },
    {
      "cell_type": "code",
      "metadata": {
        "id": "CiXD_1uTFCwc"
      },
      "source": [
        ""
      ],
      "execution_count": null,
      "outputs": []
    }
  ]
}