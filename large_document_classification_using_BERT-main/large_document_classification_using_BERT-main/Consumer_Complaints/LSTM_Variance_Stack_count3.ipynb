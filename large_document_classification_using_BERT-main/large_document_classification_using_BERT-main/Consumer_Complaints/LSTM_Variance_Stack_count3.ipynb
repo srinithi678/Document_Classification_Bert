{
  "nbformat": 4,
  "nbformat_minor": 0,
  "metadata": {
    "accelerator": "GPU",
    "colab": {
      "name": "Variance_Stack_count3_Testdata_dc.ipynb",
      "provenance": [],
      "collapsed_sections": [],
      "machine_shape": "hm"
    },
    "kernelspec": {
      "display_name": "Python 3",
      "name": "python3"
    },
    "language_info": {
      "name": "python"
    }
  },
  "cells": [
    {
      "cell_type": "code",
      "metadata": {
        "id": "LUgSWzLG3JWF"
      },
      "source": [
        "# # # cheking the number of cored this system has.\n",
        "# !cat /proc/cpuinfo | grep \"cpu cores\" | uniq\n",
        "\n",
        "# # GPU info\n",
        "# !nvidia-smi\n",
        "\n",
        "# # Amount of system RAM available to be used.\n",
        "# from psutil import virtual_memory\n",
        "# ram_gb = virtual_memory().total / (1024 * 1024 * 1024)   \n",
        "# print('Your runtime has {:.1f} gigabyte of availabe\\n'.format(ram_gb))\n",
        "\n",
        "# #finding the recursion limit to avoid Augmentation recursion error \n",
        "# import sys\n",
        "# print(sys.getrecursionlimit())\n",
        "\n",
        "# #installing fastai\n",
        "# !pip install torch===1.4.0 torchvision===0.5.0 -f https://download.pytorch.org/whl/torch_stable.html"
      ],
      "execution_count": null,
      "outputs": []
    },
    {
      "cell_type": "code",
      "metadata": {
        "colab": {
          "base_uri": "https://localhost:8080/"
        },
        "id": "5KF0pKp93cni",
        "outputId": "82be4b54-5189-4cc1-a4ee-b7219c3b79c8"
      },
      "source": [
        "#importing libraries and initializing fastai \n",
        "import pandas as pd \n",
        "import numpy as np \n",
        "import time\n",
        "\n",
        "#Mounting google drive for saving the models after training \n",
        "from google.colab import drive\n",
        "drive.mount('/content/drive')"
      ],
      "execution_count": null,
      "outputs": [
        {
          "output_type": "stream",
          "name": "stdout",
          "text": [
            "Mounted at /content/drive\n"
          ]
        }
      ]
    },
    {
      "cell_type": "code",
      "metadata": {
        "colab": {
          "base_uri": "https://localhost:8080/",
          "height": 428
        },
        "id": "DU9_FNMe5US1",
        "outputId": "872d7b15-5160-4361-8b35-d42deb209cb1"
      },
      "source": [
        "#loading the data \n",
        "#There are NaN values in the consumer_complaint_narrative column\n",
        "train_raw = pd.read_csv('/content/drive/MyDrive/consumer_complaints.csv')\n",
        "train_raw.head()"
      ],
      "execution_count": null,
      "outputs": [
        {
          "output_type": "stream",
          "name": "stderr",
          "text": [
            "/usr/local/lib/python3.7/dist-packages/IPython/core/interactiveshell.py:2718: DtypeWarning: Columns (5,11) have mixed types.Specify dtype option on import or set low_memory=False.\n",
            "  interactivity=interactivity, compiler=compiler, result=result)\n"
          ]
        },
        {
          "output_type": "execute_result",
          "data": {
            "text/html": [
              "<div>\n",
              "<style scoped>\n",
              "    .dataframe tbody tr th:only-of-type {\n",
              "        vertical-align: middle;\n",
              "    }\n",
              "\n",
              "    .dataframe tbody tr th {\n",
              "        vertical-align: top;\n",
              "    }\n",
              "\n",
              "    .dataframe thead th {\n",
              "        text-align: right;\n",
              "    }\n",
              "</style>\n",
              "<table border=\"1\" class=\"dataframe\">\n",
              "  <thead>\n",
              "    <tr style=\"text-align: right;\">\n",
              "      <th></th>\n",
              "      <th>date_received</th>\n",
              "      <th>product</th>\n",
              "      <th>sub_product</th>\n",
              "      <th>issue</th>\n",
              "      <th>sub_issue</th>\n",
              "      <th>consumer_complaint_narrative</th>\n",
              "      <th>company_public_response</th>\n",
              "      <th>company</th>\n",
              "      <th>state</th>\n",
              "      <th>zipcode</th>\n",
              "      <th>tags</th>\n",
              "      <th>consumer_consent_provided</th>\n",
              "      <th>submitted_via</th>\n",
              "      <th>date_sent_to_company</th>\n",
              "      <th>company_response_to_consumer</th>\n",
              "      <th>timely_response</th>\n",
              "      <th>consumer_disputed?</th>\n",
              "      <th>complaint_id</th>\n",
              "    </tr>\n",
              "  </thead>\n",
              "  <tbody>\n",
              "    <tr>\n",
              "      <th>0</th>\n",
              "      <td>08/30/2013</td>\n",
              "      <td>Mortgage</td>\n",
              "      <td>Other mortgage</td>\n",
              "      <td>Loan modification,collection,foreclosure</td>\n",
              "      <td>NaN</td>\n",
              "      <td>NaN</td>\n",
              "      <td>NaN</td>\n",
              "      <td>U.S. Bancorp</td>\n",
              "      <td>CA</td>\n",
              "      <td>95993</td>\n",
              "      <td>NaN</td>\n",
              "      <td>NaN</td>\n",
              "      <td>Referral</td>\n",
              "      <td>09/03/2013</td>\n",
              "      <td>Closed with explanation</td>\n",
              "      <td>Yes</td>\n",
              "      <td>Yes</td>\n",
              "      <td>511074</td>\n",
              "    </tr>\n",
              "    <tr>\n",
              "      <th>1</th>\n",
              "      <td>08/30/2013</td>\n",
              "      <td>Mortgage</td>\n",
              "      <td>Other mortgage</td>\n",
              "      <td>Loan servicing, payments, escrow account</td>\n",
              "      <td>NaN</td>\n",
              "      <td>NaN</td>\n",
              "      <td>NaN</td>\n",
              "      <td>Wells Fargo &amp; Company</td>\n",
              "      <td>CA</td>\n",
              "      <td>91104</td>\n",
              "      <td>NaN</td>\n",
              "      <td>NaN</td>\n",
              "      <td>Referral</td>\n",
              "      <td>09/03/2013</td>\n",
              "      <td>Closed with explanation</td>\n",
              "      <td>Yes</td>\n",
              "      <td>Yes</td>\n",
              "      <td>511080</td>\n",
              "    </tr>\n",
              "    <tr>\n",
              "      <th>2</th>\n",
              "      <td>08/30/2013</td>\n",
              "      <td>Credit reporting</td>\n",
              "      <td>NaN</td>\n",
              "      <td>Incorrect information on credit report</td>\n",
              "      <td>Account status</td>\n",
              "      <td>NaN</td>\n",
              "      <td>NaN</td>\n",
              "      <td>Wells Fargo &amp; Company</td>\n",
              "      <td>NY</td>\n",
              "      <td>11764</td>\n",
              "      <td>NaN</td>\n",
              "      <td>NaN</td>\n",
              "      <td>Postal mail</td>\n",
              "      <td>09/18/2013</td>\n",
              "      <td>Closed with explanation</td>\n",
              "      <td>Yes</td>\n",
              "      <td>No</td>\n",
              "      <td>510473</td>\n",
              "    </tr>\n",
              "    <tr>\n",
              "      <th>3</th>\n",
              "      <td>08/30/2013</td>\n",
              "      <td>Student loan</td>\n",
              "      <td>Non-federal student loan</td>\n",
              "      <td>Repaying your loan</td>\n",
              "      <td>Repaying your loan</td>\n",
              "      <td>NaN</td>\n",
              "      <td>NaN</td>\n",
              "      <td>Navient Solutions, Inc.</td>\n",
              "      <td>MD</td>\n",
              "      <td>21402</td>\n",
              "      <td>NaN</td>\n",
              "      <td>NaN</td>\n",
              "      <td>Email</td>\n",
              "      <td>08/30/2013</td>\n",
              "      <td>Closed with explanation</td>\n",
              "      <td>Yes</td>\n",
              "      <td>Yes</td>\n",
              "      <td>510326</td>\n",
              "    </tr>\n",
              "    <tr>\n",
              "      <th>4</th>\n",
              "      <td>08/30/2013</td>\n",
              "      <td>Debt collection</td>\n",
              "      <td>Credit card</td>\n",
              "      <td>False statements or representation</td>\n",
              "      <td>Attempted to collect wrong amount</td>\n",
              "      <td>NaN</td>\n",
              "      <td>NaN</td>\n",
              "      <td>Resurgent Capital Services L.P.</td>\n",
              "      <td>GA</td>\n",
              "      <td>30106</td>\n",
              "      <td>NaN</td>\n",
              "      <td>NaN</td>\n",
              "      <td>Web</td>\n",
              "      <td>08/30/2013</td>\n",
              "      <td>Closed with explanation</td>\n",
              "      <td>Yes</td>\n",
              "      <td>Yes</td>\n",
              "      <td>511067</td>\n",
              "    </tr>\n",
              "  </tbody>\n",
              "</table>\n",
              "</div>"
            ],
            "text/plain": [
              "  date_received           product  ... consumer_disputed? complaint_id\n",
              "0    08/30/2013          Mortgage  ...                Yes       511074\n",
              "1    08/30/2013          Mortgage  ...                Yes       511080\n",
              "2    08/30/2013  Credit reporting  ...                 No       510473\n",
              "3    08/30/2013      Student loan  ...                Yes       510326\n",
              "4    08/30/2013   Debt collection  ...                Yes       511067\n",
              "\n",
              "[5 rows x 18 columns]"
            ]
          },
          "metadata": {},
          "execution_count": 3
        }
      ]
    },
    {
      "cell_type": "code",
      "metadata": {
        "colab": {
          "base_uri": "https://localhost:8080/"
        },
        "id": "aP3sg9DF5UVi",
        "outputId": "3109da61-956d-43e7-ab1e-a9a4ffa26df7"
      },
      "source": [
        "#Training data shape\n",
        "train_raw.shape"
      ],
      "execution_count": null,
      "outputs": [
        {
          "output_type": "execute_result",
          "data": {
            "text/plain": [
              "(555957, 18)"
            ]
          },
          "metadata": {},
          "execution_count": 4
        }
      ]
    },
    {
      "cell_type": "code",
      "metadata": {
        "colab": {
          "base_uri": "https://localhost:8080/"
        },
        "id": "Jr-vmJ_g5UYE",
        "outputId": "c7992e28-de21-40ac-cba2-0b0510dc103c"
      },
      "source": [
        "#Preprocessing the data \n",
        "#Extracting only those data whose consumer_complaint_narrative column is not null\n",
        "#columns = 18\n",
        "train_raw = train_raw[train_raw.consumer_complaint_narrative.notnull()]\n",
        "train_raw.shape"
      ],
      "execution_count": null,
      "outputs": [
        {
          "output_type": "execute_result",
          "data": {
            "text/plain": [
              "(66806, 18)"
            ]
          },
          "metadata": {},
          "execution_count": 5
        }
      ]
    },
    {
      "cell_type": "code",
      "metadata": {
        "colab": {
          "base_uri": "https://localhost:8080/",
          "height": 282
        },
        "id": "d8AXktCu6dhX",
        "outputId": "e3dbae4e-e9c1-4d66-d515-63ceaa29c3ed"
      },
      "source": [
        "#It splits the string into , separated values \n",
        "train_raw.consumer_complaint_narrative.apply(lambda x:len(x.split())).plot(kind='hist')"
      ],
      "execution_count": null,
      "outputs": [
        {
          "output_type": "execute_result",
          "data": {
            "text/plain": [
              "<matplotlib.axes._subplots.AxesSubplot at 0x7fd9939e8310>"
            ]
          },
          "metadata": {},
          "execution_count": 6
        },
        {
          "output_type": "display_data",
          "data": {
            "image/png": "[encoded data removed]",
            "text/plain": [
              "<Figure size 432x288 with 1 Axes>"
            ]
          },
          "metadata": {
            "needs_background": "light"
          }
        }
      ]
    },
    {
      "cell_type": "code",
      "metadata": {
        "id": "lvN3HgfKCXlC"
      },
      "source": [
        "train_raw['len_txt'] =train_raw.consumer_complaint_narrative.apply(lambda x: len(x.split()))"
      ],
      "execution_count": null,
      "outputs": []
    },
    {
      "cell_type": "code",
      "metadata": {
        "colab": {
          "base_uri": "https://localhost:8080/",
          "height": 297
        },
        "id": "4NHjucCRCeCS",
        "outputId": "b6a5a281-7e6c-4ba3-efbf-13bb4fdec201"
      },
      "source": [
        "train_raw.describe()"
      ],
      "execution_count": null,
      "outputs": [
        {
          "output_type": "execute_result",
          "data": {
            "text/html": [
              "<div>\n",
              "<style scoped>\n",
              "    .dataframe tbody tr th:only-of-type {\n",
              "        vertical-align: middle;\n",
              "    }\n",
              "\n",
              "    .dataframe tbody tr th {\n",
              "        vertical-align: top;\n",
              "    }\n",
              "\n",
              "    .dataframe thead th {\n",
              "        text-align: right;\n",
              "    }\n",
              "</style>\n",
              "<table border=\"1\" class=\"dataframe\">\n",
              "  <thead>\n",
              "    <tr style=\"text-align: right;\">\n",
              "      <th></th>\n",
              "      <th>complaint_id</th>\n",
              "      <th>len_txt</th>\n",
              "    </tr>\n",
              "  </thead>\n",
              "  <tbody>\n",
              "    <tr>\n",
              "      <th>count</th>\n",
              "      <td>6.680600e+04</td>\n",
              "      <td>66806.000000</td>\n",
              "    </tr>\n",
              "    <tr>\n",
              "      <th>mean</th>\n",
              "      <td>1.571665e+06</td>\n",
              "      <td>190.644014</td>\n",
              "    </tr>\n",
              "    <tr>\n",
              "      <th>std</th>\n",
              "      <td>1.545692e+05</td>\n",
              "      <td>166.830597</td>\n",
              "    </tr>\n",
              "    <tr>\n",
              "      <th>min</th>\n",
              "      <td>1.290181e+06</td>\n",
              "      <td>1.000000</td>\n",
              "    </tr>\n",
              "    <tr>\n",
              "      <th>25%</th>\n",
              "      <td>1.443264e+06</td>\n",
              "      <td>71.000000</td>\n",
              "    </tr>\n",
              "    <tr>\n",
              "      <th>50%</th>\n",
              "      <td>1.569485e+06</td>\n",
              "      <td>136.000000</td>\n",
              "    </tr>\n",
              "    <tr>\n",
              "      <th>75%</th>\n",
              "      <td>1.702750e+06</td>\n",
              "      <td>254.000000</td>\n",
              "    </tr>\n",
              "    <tr>\n",
              "      <th>max</th>\n",
              "      <td>1.888608e+06</td>\n",
              "      <td>1284.000000</td>\n",
              "    </tr>\n",
              "  </tbody>\n",
              "</table>\n",
              "</div>"
            ],
            "text/plain": [
              "       complaint_id       len_txt\n",
              "count  6.680600e+04  66806.000000\n",
              "mean   1.571665e+06    190.644014\n",
              "std    1.545692e+05    166.830597\n",
              "min    1.290181e+06      1.000000\n",
              "25%    1.443264e+06     71.000000\n",
              "50%    1.569485e+06    136.000000\n",
              "75%    1.702750e+06    254.000000\n",
              "max    1.888608e+06   1284.000000"
            ]
          },
          "metadata": {},
          "execution_count": 8
        }
      ]
    },
    {
      "cell_type": "code",
      "metadata": {
        "colab": {
          "base_uri": "https://localhost:8080/"
        },
        "id": "OBEkUA71PMLB",
        "outputId": "b86a0cb1-7c3d-4d18-e651-d1e58512a386"
      },
      "source": [
        "train_raw.columns"
      ],
      "execution_count": null,
      "outputs": [
        {
          "output_type": "execute_result",
          "data": {
            "text/plain": [
              "Index(['date_received', 'product', 'sub_product', 'issue', 'sub_issue',\n",
              "       'consumer_complaint_narrative', 'company_public_response', 'company',\n",
              "       'state', 'zipcode', 'tags', 'consumer_consent_provided',\n",
              "       'submitted_via', 'date_sent_to_company', 'company_response_to_consumer',\n",
              "       'timely_response', 'consumer_disputed?', 'complaint_id', 'len_txt'],\n",
              "      dtype='object')"
            ]
          },
          "metadata": {},
          "execution_count": 9
        }
      ]
    },
    {
      "cell_type": "code",
      "metadata": {
        "colab": {
          "base_uri": "https://localhost:8080/"
        },
        "id": "M1CTdhCLCiL6",
        "outputId": "5882ce14-0d35-49cd-ba2e-f12b71d6eabc"
      },
      "source": [
        "train_raw.shape"
      ],
      "execution_count": null,
      "outputs": [
        {
          "output_type": "execute_result",
          "data": {
            "text/plain": [
              "(66806, 19)"
            ]
          },
          "metadata": {},
          "execution_count": 10
        }
      ]
    },
    {
      "cell_type": "code",
      "metadata": {
        "colab": {
          "base_uri": "https://localhost:8080/"
        },
        "id": "BrjaAw55ms5q",
        "outputId": "a9059817-1324-48a3-c7e5-f8e4e5246965"
      },
      "source": [
        "#Select only the rows with more than 250 words \n",
        "train_raw = train_raw[train_raw.len_txt >249]\n",
        "train_raw.shape"
      ],
      "execution_count": null,
      "outputs": [
        {
          "output_type": "execute_result",
          "data": {
            "text/plain": [
              "(17142, 19)"
            ]
          },
          "metadata": {},
          "execution_count": 11
        }
      ]
    },
    {
      "cell_type": "code",
      "metadata": {
        "colab": {
          "base_uri": "https://localhost:8080/",
          "height": 411
        },
        "id": "aADLdVkGPjYi",
        "outputId": "ddc6ff5c-3bd6-4708-9e68-9fa478af90eb"
      },
      "source": [
        "train_raw.head()"
      ],
      "execution_count": null,
      "outputs": [
        {
          "output_type": "execute_result",
          "data": {
            "text/html": [
              "<div>\n",
              "<style scoped>\n",
              "    .dataframe tbody tr th:only-of-type {\n",
              "        vertical-align: middle;\n",
              "    }\n",
              "\n",
              "    .dataframe tbody tr th {\n",
              "        vertical-align: top;\n",
              "    }\n",
              "\n",
              "    .dataframe thead th {\n",
              "        text-align: right;\n",
              "    }\n",
              "</style>\n",
              "<table border=\"1\" class=\"dataframe\">\n",
              "  <thead>\n",
              "    <tr style=\"text-align: right;\">\n",
              "      <th></th>\n",
              "      <th>date_received</th>\n",
              "      <th>product</th>\n",
              "      <th>sub_product</th>\n",
              "      <th>issue</th>\n",
              "      <th>sub_issue</th>\n",
              "      <th>consumer_complaint_narrative</th>\n",
              "      <th>company_public_response</th>\n",
              "      <th>company</th>\n",
              "      <th>state</th>\n",
              "      <th>zipcode</th>\n",
              "      <th>tags</th>\n",
              "      <th>consumer_consent_provided</th>\n",
              "      <th>submitted_via</th>\n",
              "      <th>date_sent_to_company</th>\n",
              "      <th>company_response_to_consumer</th>\n",
              "      <th>timely_response</th>\n",
              "      <th>consumer_disputed?</th>\n",
              "      <th>complaint_id</th>\n",
              "      <th>len_txt</th>\n",
              "    </tr>\n",
              "  </thead>\n",
              "  <tbody>\n",
              "    <tr>\n",
              "      <th>190155</th>\n",
              "      <td>03/19/2015</td>\n",
              "      <td>Mortgage</td>\n",
              "      <td>Conventional fixed mortgage</td>\n",
              "      <td>Loan modification,collection,foreclosure</td>\n",
              "      <td>NaN</td>\n",
              "      <td>In XX/XX/XXXX my wages that I earned at my job...</td>\n",
              "      <td>NaN</td>\n",
              "      <td>Wells Fargo &amp; Company</td>\n",
              "      <td>CA</td>\n",
              "      <td>946XX</td>\n",
              "      <td>NaN</td>\n",
              "      <td>Consent provided</td>\n",
              "      <td>Web</td>\n",
              "      <td>03/19/2015</td>\n",
              "      <td>Closed with explanation</td>\n",
              "      <td>Yes</td>\n",
              "      <td>Yes</td>\n",
              "      <td>1290524</td>\n",
              "      <td>666</td>\n",
              "    </tr>\n",
              "    <tr>\n",
              "      <th>190208</th>\n",
              "      <td>03/19/2015</td>\n",
              "      <td>Mortgage</td>\n",
              "      <td>Conventional fixed mortgage</td>\n",
              "      <td>Credit decision / Underwriting</td>\n",
              "      <td>NaN</td>\n",
              "      <td>XXXX was submitted XX/XX/XXXX. At the time I s...</td>\n",
              "      <td>NaN</td>\n",
              "      <td>Rushmore Loan Management Services LLC</td>\n",
              "      <td>CA</td>\n",
              "      <td>956XX</td>\n",
              "      <td>Older American</td>\n",
              "      <td>Consent provided</td>\n",
              "      <td>Web</td>\n",
              "      <td>03/19/2015</td>\n",
              "      <td>Closed with explanation</td>\n",
              "      <td>Yes</td>\n",
              "      <td>Yes</td>\n",
              "      <td>1292137</td>\n",
              "      <td>259</td>\n",
              "    </tr>\n",
              "    <tr>\n",
              "      <th>190251</th>\n",
              "      <td>03/19/2015</td>\n",
              "      <td>Mortgage</td>\n",
              "      <td>Conventional fixed mortgage</td>\n",
              "      <td>Loan servicing, payments, escrow account</td>\n",
              "      <td>NaN</td>\n",
              "      <td>I spoke to XXXX of green tree representatives ...</td>\n",
              "      <td>NaN</td>\n",
              "      <td>Ditech Financial LLC</td>\n",
              "      <td>CA</td>\n",
              "      <td>948XX</td>\n",
              "      <td>NaN</td>\n",
              "      <td>Consent provided</td>\n",
              "      <td>Web</td>\n",
              "      <td>03/19/2015</td>\n",
              "      <td>Closed with non-monetary relief</td>\n",
              "      <td>Yes</td>\n",
              "      <td>No</td>\n",
              "      <td>1290534</td>\n",
              "      <td>301</td>\n",
              "    </tr>\n",
              "    <tr>\n",
              "      <th>190263</th>\n",
              "      <td>03/19/2015</td>\n",
              "      <td>Credit card</td>\n",
              "      <td>NaN</td>\n",
              "      <td>Other</td>\n",
              "      <td>NaN</td>\n",
              "      <td>i opened XXXX Bank of America credit cards 15-...</td>\n",
              "      <td>Company chooses not to provide a public response</td>\n",
              "      <td>Bank of America</td>\n",
              "      <td>OR</td>\n",
              "      <td>971XX</td>\n",
              "      <td>NaN</td>\n",
              "      <td>Consent provided</td>\n",
              "      <td>Web</td>\n",
              "      <td>03/19/2015</td>\n",
              "      <td>Closed with monetary relief</td>\n",
              "      <td>Yes</td>\n",
              "      <td>Yes</td>\n",
              "      <td>1292209</td>\n",
              "      <td>780</td>\n",
              "    </tr>\n",
              "    <tr>\n",
              "      <th>190264</th>\n",
              "      <td>03/19/2015</td>\n",
              "      <td>Consumer Loan</td>\n",
              "      <td>Vehicle loan</td>\n",
              "      <td>Taking out the loan or lease</td>\n",
              "      <td>NaN</td>\n",
              "      <td>I applied for a loan with XXXX XXXX and had pu...</td>\n",
              "      <td>NaN</td>\n",
              "      <td>Hyundai Capital America</td>\n",
              "      <td>MS</td>\n",
              "      <td>392XX</td>\n",
              "      <td>NaN</td>\n",
              "      <td>Consent provided</td>\n",
              "      <td>Web</td>\n",
              "      <td>03/19/2015</td>\n",
              "      <td>Closed with explanation</td>\n",
              "      <td>Yes</td>\n",
              "      <td>No</td>\n",
              "      <td>1292159</td>\n",
              "      <td>558</td>\n",
              "    </tr>\n",
              "  </tbody>\n",
              "</table>\n",
              "</div>"
            ],
            "text/plain": [
              "       date_received        product  ... complaint_id len_txt\n",
              "190155    03/19/2015       Mortgage  ...      1290524     666\n",
              "190208    03/19/2015       Mortgage  ...      1292137     259\n",
              "190251    03/19/2015       Mortgage  ...      1290534     301\n",
              "190263    03/19/2015    Credit card  ...      1292209     780\n",
              "190264    03/19/2015  Consumer Loan  ...      1292159     558\n",
              "\n",
              "[5 rows x 19 columns]"
            ]
          },
          "metadata": {},
          "execution_count": 12
        }
      ]
    },
    {
      "cell_type": "code",
      "metadata": {
        "colab": {
          "base_uri": "https://localhost:8080/",
          "height": 204
        },
        "id": "mJ2aeLKnmtQ1",
        "outputId": "14389365-6845-486f-e45a-a1215590de38"
      },
      "source": [
        "#selecting only the consumer_complaint_narrative and product columns\n",
        "train_raw=train_raw[['consumer_complaint_narrative','product']]\n",
        "train_raw.reset_index(inplace=True, drop=True)\n",
        "train_raw.head()"
      ],
      "execution_count": null,
      "outputs": [
        {
          "output_type": "execute_result",
          "data": {
            "text/html": [
              "<div>\n",
              "<style scoped>\n",
              "    .dataframe tbody tr th:only-of-type {\n",
              "        vertical-align: middle;\n",
              "    }\n",
              "\n",
              "    .dataframe tbody tr th {\n",
              "        vertical-align: top;\n",
              "    }\n",
              "\n",
              "    .dataframe thead th {\n",
              "        text-align: right;\n",
              "    }\n",
              "</style>\n",
              "<table border=\"1\" class=\"dataframe\">\n",
              "  <thead>\n",
              "    <tr style=\"text-align: right;\">\n",
              "      <th></th>\n",
              "      <th>consumer_complaint_narrative</th>\n",
              "      <th>product</th>\n",
              "    </tr>\n",
              "  </thead>\n",
              "  <tbody>\n",
              "    <tr>\n",
              "      <th>0</th>\n",
              "      <td>In XX/XX/XXXX my wages that I earned at my job...</td>\n",
              "      <td>Mortgage</td>\n",
              "    </tr>\n",
              "    <tr>\n",
              "      <th>1</th>\n",
              "      <td>XXXX was submitted XX/XX/XXXX. At the time I s...</td>\n",
              "      <td>Mortgage</td>\n",
              "    </tr>\n",
              "    <tr>\n",
              "      <th>2</th>\n",
              "      <td>I spoke to XXXX of green tree representatives ...</td>\n",
              "      <td>Mortgage</td>\n",
              "    </tr>\n",
              "    <tr>\n",
              "      <th>3</th>\n",
              "      <td>i opened XXXX Bank of America credit cards 15-...</td>\n",
              "      <td>Credit card</td>\n",
              "    </tr>\n",
              "    <tr>\n",
              "      <th>4</th>\n",
              "      <td>I applied for a loan with XXXX XXXX and had pu...</td>\n",
              "      <td>Consumer Loan</td>\n",
              "    </tr>\n",
              "  </tbody>\n",
              "</table>\n",
              "</div>"
            ],
            "text/plain": [
              "                        consumer_complaint_narrative        product\n",
              "0  In XX/XX/XXXX my wages that I earned at my job...       Mortgage\n",
              "1  XXXX was submitted XX/XX/XXXX. At the time I s...       Mortgage\n",
              "2  I spoke to XXXX of green tree representatives ...       Mortgage\n",
              "3  i opened XXXX Bank of America credit cards 15-...    Credit card\n",
              "4  I applied for a loan with XXXX XXXX and had pu...  Consumer Loan"
            ]
          },
          "metadata": {},
          "execution_count": 13
        }
      ]
    },
    {
      "cell_type": "code",
      "metadata": {
        "colab": {
          "base_uri": "https://localhost:8080/"
        },
        "id": "Jsevf5_fmtTv",
        "outputId": "f0641f15-3967-4cbd-f0bf-0cd9aa2226a1"
      },
      "source": [
        "train_raw['product'].unique()"
      ],
      "execution_count": null,
      "outputs": [
        {
          "output_type": "execute_result",
          "data": {
            "text/plain": [
              "array(['Mortgage', 'Credit card', 'Consumer Loan', 'Debt collection',\n",
              "       'Credit reporting', 'Student loan', 'Bank account or service',\n",
              "       'Money transfers', 'Payday loan', 'Prepaid card',\n",
              "       'Other financial service'], dtype=object)"
            ]
          },
          "metadata": {},
          "execution_count": 14
        }
      ]
    },
    {
      "cell_type": "code",
      "metadata": {
        "colab": {
          "base_uri": "https://localhost:8080/",
          "height": 204
        },
        "id": "jm4c126BmtW7",
        "outputId": "8d4545e9-82ab-430c-ae96-3e6d4f898ab2"
      },
      "source": [
        "#group similar products  dataframe.at = accessing a value using row column pair \n",
        "train_raw.at[train_raw['product']=='Credit reporting','product']= 'Credit reporting, credit repair services, or other personal consumer reports'\n",
        "train_raw.at[train_raw['product'] == 'Credit card', 'product'] = 'Credit card or prepaid card'\n",
        "train_raw.at[train_raw['product'] == 'Prepaid card', 'product'] = 'Credit card or prepaid card'\n",
        "train_raw.at[train_raw['product'] == 'Payday loan', 'product'] = 'Payday loan, title loan, or personal loan'\n",
        "train_raw.at[train_raw['product'] == 'Virtual currency', 'product'] = 'Money transfer, virtual currency, or money service'\n",
        "train_raw.head()"
      ],
      "execution_count": null,
      "outputs": [
        {
          "output_type": "execute_result",
          "data": {
            "text/html": [
              "<div>\n",
              "<style scoped>\n",
              "    .dataframe tbody tr th:only-of-type {\n",
              "        vertical-align: middle;\n",
              "    }\n",
              "\n",
              "    .dataframe tbody tr th {\n",
              "        vertical-align: top;\n",
              "    }\n",
              "\n",
              "    .dataframe thead th {\n",
              "        text-align: right;\n",
              "    }\n",
              "</style>\n",
              "<table border=\"1\" class=\"dataframe\">\n",
              "  <thead>\n",
              "    <tr style=\"text-align: right;\">\n",
              "      <th></th>\n",
              "      <th>consumer_complaint_narrative</th>\n",
              "      <th>product</th>\n",
              "    </tr>\n",
              "  </thead>\n",
              "  <tbody>\n",
              "    <tr>\n",
              "      <th>0</th>\n",
              "      <td>In XX/XX/XXXX my wages that I earned at my job...</td>\n",
              "      <td>Mortgage</td>\n",
              "    </tr>\n",
              "    <tr>\n",
              "      <th>1</th>\n",
              "      <td>XXXX was submitted XX/XX/XXXX. At the time I s...</td>\n",
              "      <td>Mortgage</td>\n",
              "    </tr>\n",
              "    <tr>\n",
              "      <th>2</th>\n",
              "      <td>I spoke to XXXX of green tree representatives ...</td>\n",
              "      <td>Mortgage</td>\n",
              "    </tr>\n",
              "    <tr>\n",
              "      <th>3</th>\n",
              "      <td>i opened XXXX Bank of America credit cards 15-...</td>\n",
              "      <td>Credit card or prepaid card</td>\n",
              "    </tr>\n",
              "    <tr>\n",
              "      <th>4</th>\n",
              "      <td>I applied for a loan with XXXX XXXX and had pu...</td>\n",
              "      <td>Consumer Loan</td>\n",
              "    </tr>\n",
              "  </tbody>\n",
              "</table>\n",
              "</div>"
            ],
            "text/plain": [
              "                        consumer_complaint_narrative                      product\n",
              "0  In XX/XX/XXXX my wages that I earned at my job...                     Mortgage\n",
              "1  XXXX was submitted XX/XX/XXXX. At the time I s...                     Mortgage\n",
              "2  I spoke to XXXX of green tree representatives ...                     Mortgage\n",
              "3  i opened XXXX Bank of America credit cards 15-...  Credit card or prepaid card\n",
              "4  I applied for a loan with XXXX XXXX and had pu...                Consumer Loan"
            ]
          },
          "metadata": {},
          "execution_count": 15
        }
      ]
    },
    {
      "cell_type": "code",
      "metadata": {
        "colab": {
          "base_uri": "https://localhost:8080/"
        },
        "id": "OZdxoRt5mtaH",
        "outputId": "7953bbd8-6fca-4822-b852-36132aeff08f"
      },
      "source": [
        "train_raw['product'].unique()"
      ],
      "execution_count": null,
      "outputs": [
        {
          "output_type": "execute_result",
          "data": {
            "text/plain": [
              "array(['Mortgage', 'Credit card or prepaid card', 'Consumer Loan',\n",
              "       'Debt collection',\n",
              "       'Credit reporting, credit repair services, or other personal consumer reports',\n",
              "       'Student loan', 'Bank account or service', 'Money transfers',\n",
              "       'Payday loan, title loan, or personal loan',\n",
              "       'Other financial service'], dtype=object)"
            ]
          },
          "metadata": {},
          "execution_count": 16
        }
      ]
    },
    {
      "cell_type": "code",
      "metadata": {
        "colab": {
          "base_uri": "https://localhost:8080/",
          "height": 646
        },
        "id": "znSJSyJuqCDk",
        "outputId": "34d9fbf3-e7cb-46a0-a2ab-a0d92189c120"
      },
      "source": [
        "train_raw['product'].value_counts().sort_values(ascending=False).plot(kind='bar')\n",
        "#unbalanced dataset "
      ],
      "execution_count": null,
      "outputs": [
        {
          "output_type": "execute_result",
          "data": {
            "text/plain": [
              "<matplotlib.axes._subplots.AxesSubplot at 0x7fd99343d9d0>"
            ]
          },
          "metadata": {},
          "execution_count": 17
        },
        {
          "output_type": "display_data",
          "data": {
            "image/png": "[encoded data removed]",
            "text/plain": [
              "<Figure size 432x288 with 1 Axes>"
            ]
          },
          "metadata": {
            "needs_background": "light"
          }
        }
      ]
    },
    {
      "cell_type": "code",
      "metadata": {
        "colab": {
          "base_uri": "https://localhost:8080/",
          "height": 204
        },
        "id": "K1E6q3i6qMPw",
        "outputId": "89a3ee27-eec4-4282-c595-f47a06a3dfa3"
      },
      "source": [
        "#Renaming the columns \n",
        "train_raw=train_raw.rename(columns = {'consumer_complaint_narrative':'text', 'product':'label'})\n",
        "train_raw.head()"
      ],
      "execution_count": null,
      "outputs": [
        {
          "output_type": "execute_result",
          "data": {
            "text/html": [
              "<div>\n",
              "<style scoped>\n",
              "    .dataframe tbody tr th:only-of-type {\n",
              "        vertical-align: middle;\n",
              "    }\n",
              "\n",
              "    .dataframe tbody tr th {\n",
              "        vertical-align: top;\n",
              "    }\n",
              "\n",
              "    .dataframe thead th {\n",
              "        text-align: right;\n",
              "    }\n",
              "</style>\n",
              "<table border=\"1\" class=\"dataframe\">\n",
              "  <thead>\n",
              "    <tr style=\"text-align: right;\">\n",
              "      <th></th>\n",
              "      <th>text</th>\n",
              "      <th>label</th>\n",
              "    </tr>\n",
              "  </thead>\n",
              "  <tbody>\n",
              "    <tr>\n",
              "      <th>0</th>\n",
              "      <td>In XX/XX/XXXX my wages that I earned at my job...</td>\n",
              "      <td>Mortgage</td>\n",
              "    </tr>\n",
              "    <tr>\n",
              "      <th>1</th>\n",
              "      <td>XXXX was submitted XX/XX/XXXX. At the time I s...</td>\n",
              "      <td>Mortgage</td>\n",
              "    </tr>\n",
              "    <tr>\n",
              "      <th>2</th>\n",
              "      <td>I spoke to XXXX of green tree representatives ...</td>\n",
              "      <td>Mortgage</td>\n",
              "    </tr>\n",
              "    <tr>\n",
              "      <th>3</th>\n",
              "      <td>i opened XXXX Bank of America credit cards 15-...</td>\n",
              "      <td>Credit card or prepaid card</td>\n",
              "    </tr>\n",
              "    <tr>\n",
              "      <th>4</th>\n",
              "      <td>I applied for a loan with XXXX XXXX and had pu...</td>\n",
              "      <td>Consumer Loan</td>\n",
              "    </tr>\n",
              "  </tbody>\n",
              "</table>\n",
              "</div>"
            ],
            "text/plain": [
              "                                                text                        label\n",
              "0  In XX/XX/XXXX my wages that I earned at my job...                     Mortgage\n",
              "1  XXXX was submitted XX/XX/XXXX. At the time I s...                     Mortgage\n",
              "2  I spoke to XXXX of green tree representatives ...                     Mortgage\n",
              "3  i opened XXXX Bank of America credit cards 15-...  Credit card or prepaid card\n",
              "4  I applied for a loan with XXXX XXXX and had pu...                Consumer Loan"
            ]
          },
          "metadata": {},
          "execution_count": 18
        }
      ]
    },
    {
      "cell_type": "code",
      "metadata": {
        "colab": {
          "base_uri": "https://localhost:8080/",
          "height": 204
        },
        "id": "ffaa3mq3qZu5",
        "outputId": "51a3effc-b201-4877-fd8d-29240f206118"
      },
      "source": [
        "#changing the categorical value column to integers\n",
        "\n",
        "from sklearn.preprocessing import LabelEncoder\n",
        "\n",
        "LE = LabelEncoder()\n",
        "train_raw['label'] = LE.fit_transform(train_raw['label'])\n",
        "train_raw.head()"
      ],
      "execution_count": null,
      "outputs": [
        {
          "output_type": "execute_result",
          "data": {
            "text/html": [
              "<div>\n",
              "<style scoped>\n",
              "    .dataframe tbody tr th:only-of-type {\n",
              "        vertical-align: middle;\n",
              "    }\n",
              "\n",
              "    .dataframe tbody tr th {\n",
              "        vertical-align: top;\n",
              "    }\n",
              "\n",
              "    .dataframe thead th {\n",
              "        text-align: right;\n",
              "    }\n",
              "</style>\n",
              "<table border=\"1\" class=\"dataframe\">\n",
              "  <thead>\n",
              "    <tr style=\"text-align: right;\">\n",
              "      <th></th>\n",
              "      <th>text</th>\n",
              "      <th>label</th>\n",
              "    </tr>\n",
              "  </thead>\n",
              "  <tbody>\n",
              "    <tr>\n",
              "      <th>0</th>\n",
              "      <td>In XX/XX/XXXX my wages that I earned at my job...</td>\n",
              "      <td>6</td>\n",
              "    </tr>\n",
              "    <tr>\n",
              "      <th>1</th>\n",
              "      <td>XXXX was submitted XX/XX/XXXX. At the time I s...</td>\n",
              "      <td>6</td>\n",
              "    </tr>\n",
              "    <tr>\n",
              "      <th>2</th>\n",
              "      <td>I spoke to XXXX of green tree representatives ...</td>\n",
              "      <td>6</td>\n",
              "    </tr>\n",
              "    <tr>\n",
              "      <th>3</th>\n",
              "      <td>i opened XXXX Bank of America credit cards 15-...</td>\n",
              "      <td>2</td>\n",
              "    </tr>\n",
              "    <tr>\n",
              "      <th>4</th>\n",
              "      <td>I applied for a loan with XXXX XXXX and had pu...</td>\n",
              "      <td>1</td>\n",
              "    </tr>\n",
              "  </tbody>\n",
              "</table>\n",
              "</div>"
            ],
            "text/plain": [
              "                                                text  label\n",
              "0  In XX/XX/XXXX my wages that I earned at my job...      6\n",
              "1  XXXX was submitted XX/XX/XXXX. At the time I s...      6\n",
              "2  I spoke to XXXX of green tree representatives ...      6\n",
              "3  i opened XXXX Bank of America credit cards 15-...      2\n",
              "4  I applied for a loan with XXXX XXXX and had pu...      1"
            ]
          },
          "metadata": {},
          "execution_count": 19
        }
      ]
    },
    {
      "cell_type": "code",
      "metadata": {
        "colab": {
          "base_uri": "https://localhost:8080/"
        },
        "id": "tHif9iOMq4Tc",
        "outputId": "7028083e-9963-42e8-af59-1416c995d85b"
      },
      "source": [
        "len(np.unique(train_raw['label']))"
      ],
      "execution_count": null,
      "outputs": [
        {
          "output_type": "execute_result",
          "data": {
            "text/plain": [
              "10"
            ]
          },
          "metadata": {},
          "execution_count": 20
        }
      ]
    },
    {
      "cell_type": "code",
      "metadata": {
        "id": "ygzKXiBkq7Qq"
      },
      "source": [
        "#creating the copy of the dataframe\n",
        "#dataframe.copy(deep=True)  ==> This will create a copy and any changes to the copy will not be reflected in the original df\n",
        "train = train_raw.copy()"
      ],
      "execution_count": null,
      "outputs": []
    },
    {
      "cell_type": "code",
      "metadata": {
        "colab": {
          "base_uri": "https://localhost:8080/",
          "height": 204
        },
        "id": "uLDeNP3mrhby",
        "outputId": "6fe57605-4931-429d-e79c-5110096b1769"
      },
      "source": [
        "#reindexing to create randomness \n",
        "train = train.reindex(np.random.permutation(train.index))\n",
        "train.head()"
      ],
      "execution_count": null,
      "outputs": [
        {
          "output_type": "execute_result",
          "data": {
            "text/html": [
              "<div>\n",
              "<style scoped>\n",
              "    .dataframe tbody tr th:only-of-type {\n",
              "        vertical-align: middle;\n",
              "    }\n",
              "\n",
              "    .dataframe tbody tr th {\n",
              "        vertical-align: top;\n",
              "    }\n",
              "\n",
              "    .dataframe thead th {\n",
              "        text-align: right;\n",
              "    }\n",
              "</style>\n",
              "<table border=\"1\" class=\"dataframe\">\n",
              "  <thead>\n",
              "    <tr style=\"text-align: right;\">\n",
              "      <th></th>\n",
              "      <th>text</th>\n",
              "      <th>label</th>\n",
              "    </tr>\n",
              "  </thead>\n",
              "  <tbody>\n",
              "    <tr>\n",
              "      <th>5273</th>\n",
              "      <td>XX/XX/XXXXDear Consumer Financial Protection B...</td>\n",
              "      <td>3</td>\n",
              "    </tr>\n",
              "    <tr>\n",
              "      <th>12871</th>\n",
              "      <td>I have a debt with XXXX XXXX XXXX ( XXXX ) I h...</td>\n",
              "      <td>4</td>\n",
              "    </tr>\n",
              "    <tr>\n",
              "      <th>2236</th>\n",
              "      <td>I have been a Bank of America Customer for alm...</td>\n",
              "      <td>6</td>\n",
              "    </tr>\n",
              "    <tr>\n",
              "      <th>3711</th>\n",
              "      <td>XXXX certified letters within a XXXX day perio...</td>\n",
              "      <td>4</td>\n",
              "    </tr>\n",
              "    <tr>\n",
              "      <th>1083</th>\n",
              "      <td>I received a call from a man whom phoned my pl...</td>\n",
              "      <td>4</td>\n",
              "    </tr>\n",
              "  </tbody>\n",
              "</table>\n",
              "</div>"
            ],
            "text/plain": [
              "                                                    text  label\n",
              "5273   XX/XX/XXXXDear Consumer Financial Protection B...      3\n",
              "12871  I have a debt with XXXX XXXX XXXX ( XXXX ) I h...      4\n",
              "2236   I have been a Bank of America Customer for alm...      6\n",
              "3711   XXXX certified letters within a XXXX day perio...      4\n",
              "1083   I received a call from a man whom phoned my pl...      4"
            ]
          },
          "metadata": {},
          "execution_count": 22
        }
      ]
    },
    {
      "cell_type": "code",
      "metadata": {
        "id": "fLH4GcrFrqF5"
      },
      "source": [
        "#remove the non-alphanumeric characters from the text \n",
        "import re \n",
        "def clean_txt(text):\n",
        "  text = re.sub(\"'\", \"\",text)\n",
        "  text=re.sub(\"(\\\\W)+\",\" \",text)     #() -- to match the sequence inside it , \\-- to escape the special characters , \n",
        "                                     #\\W -- get all the nonalphanumeric characters, + --all the instances \n",
        "\n",
        "  return text"
      ],
      "execution_count": null,
      "outputs": []
    },
    {
      "cell_type": "code",
      "metadata": {
        "colab": {
          "base_uri": "https://localhost:8080/",
          "height": 204
        },
        "id": "4Vbl1bJHuRZO",
        "outputId": "6201ced7-1462-4e6c-ee2b-5ce397d4714e"
      },
      "source": [
        "train['text']  = train.text.apply(clean_txt)\n",
        "train.head()"
      ],
      "execution_count": null,
      "outputs": [
        {
          "output_type": "execute_result",
          "data": {
            "text/html": [
              "<div>\n",
              "<style scoped>\n",
              "    .dataframe tbody tr th:only-of-type {\n",
              "        vertical-align: middle;\n",
              "    }\n",
              "\n",
              "    .dataframe tbody tr th {\n",
              "        vertical-align: top;\n",
              "    }\n",
              "\n",
              "    .dataframe thead th {\n",
              "        text-align: right;\n",
              "    }\n",
              "</style>\n",
              "<table border=\"1\" class=\"dataframe\">\n",
              "  <thead>\n",
              "    <tr style=\"text-align: right;\">\n",
              "      <th></th>\n",
              "      <th>text</th>\n",
              "      <th>label</th>\n",
              "    </tr>\n",
              "  </thead>\n",
              "  <tbody>\n",
              "    <tr>\n",
              "      <th>5273</th>\n",
              "      <td>XX XX XXXXDear Consumer Financial Protection B...</td>\n",
              "      <td>3</td>\n",
              "    </tr>\n",
              "    <tr>\n",
              "      <th>12871</th>\n",
              "      <td>I have a debt with XXXX XXXX XXXX XXXX I have ...</td>\n",
              "      <td>4</td>\n",
              "    </tr>\n",
              "    <tr>\n",
              "      <th>2236</th>\n",
              "      <td>I have been a Bank of America Customer for alm...</td>\n",
              "      <td>6</td>\n",
              "    </tr>\n",
              "    <tr>\n",
              "      <th>3711</th>\n",
              "      <td>XXXX certified letters within a XXXX day perio...</td>\n",
              "      <td>4</td>\n",
              "    </tr>\n",
              "    <tr>\n",
              "      <th>1083</th>\n",
              "      <td>I received a call from a man whom phoned my pl...</td>\n",
              "      <td>4</td>\n",
              "    </tr>\n",
              "  </tbody>\n",
              "</table>\n",
              "</div>"
            ],
            "text/plain": [
              "                                                    text  label\n",
              "5273   XX XX XXXXDear Consumer Financial Protection B...      3\n",
              "12871  I have a debt with XXXX XXXX XXXX XXXX I have ...      4\n",
              "2236   I have been a Bank of America Customer for alm...      6\n",
              "3711   XXXX certified letters within a XXXX day perio...      4\n",
              "1083   I received a call from a man whom phoned my pl...      4"
            ]
          },
          "metadata": {},
          "execution_count": 24
        }
      ]
    },
    {
      "cell_type": "code",
      "metadata": {
        "colab": {
          "base_uri": "https://localhost:8080/",
          "height": 111
        },
        "id": "70JSI0FzuhvN",
        "outputId": "2924b755-6674-45d8-d629-4fd2f8fdf664"
      },
      "source": [
        "train.reset_index(drop=True, inplace=True)\n",
        "train.head(2)"
      ],
      "execution_count": null,
      "outputs": [
        {
          "output_type": "execute_result",
          "data": {
            "text/html": [
              "<div>\n",
              "<style scoped>\n",
              "    .dataframe tbody tr th:only-of-type {\n",
              "        vertical-align: middle;\n",
              "    }\n",
              "\n",
              "    .dataframe tbody tr th {\n",
              "        vertical-align: top;\n",
              "    }\n",
              "\n",
              "    .dataframe thead th {\n",
              "        text-align: right;\n",
              "    }\n",
              "</style>\n",
              "<table border=\"1\" class=\"dataframe\">\n",
              "  <thead>\n",
              "    <tr style=\"text-align: right;\">\n",
              "      <th></th>\n",
              "      <th>text</th>\n",
              "      <th>label</th>\n",
              "    </tr>\n",
              "  </thead>\n",
              "  <tbody>\n",
              "    <tr>\n",
              "      <th>0</th>\n",
              "      <td>XX XX XXXXDear Consumer Financial Protection B...</td>\n",
              "      <td>3</td>\n",
              "    </tr>\n",
              "    <tr>\n",
              "      <th>1</th>\n",
              "      <td>I have a debt with XXXX XXXX XXXX XXXX I have ...</td>\n",
              "      <td>4</td>\n",
              "    </tr>\n",
              "  </tbody>\n",
              "</table>\n",
              "</div>"
            ],
            "text/plain": [
              "                                                text  label\n",
              "0  XX XX XXXXDear Consumer Financial Protection B...      3\n",
              "1  I have a debt with XXXX XXXX XXXX XXXX I have ...      4"
            ]
          },
          "metadata": {},
          "execution_count": 25
        }
      ]
    },
    {
      "cell_type": "code",
      "metadata": {
        "colab": {
          "base_uri": "https://localhost:8080/"
        },
        "id": "sPFrymvmUxrC",
        "outputId": "b532d2a3-c40c-443b-e45a-16488c1e64b4"
      },
      "source": [
        "train.shape"
      ],
      "execution_count": null,
      "outputs": [
        {
          "output_type": "execute_result",
          "data": {
            "text/plain": [
              "(17142, 2)"
            ]
          },
          "metadata": {},
          "execution_count": 26
        }
      ]
    },
    {
      "cell_type": "code",
      "metadata": {
        "colab": {
          "base_uri": "https://localhost:8080/"
        },
        "id": "5EVcradUvyW5",
        "outputId": "e633f909-1cf8-4056-ed40-88819f1652f2"
      },
      "source": [
        "#Installing the BERT module\n",
        "!pip install bert-tensorflow\n",
        "#!pip install bert-for-tf2\n",
        "\n",
        "import bert\n",
        "from bert import optimization\n",
        "\n",
        "!pip install -q tf-models-official==2.4.0\n",
        "\n",
        "import os\n",
        "\n",
        "import numpy as np\n",
        "import matplotlib.pyplot as plt\n",
        "\n",
        "import tensorflow as tf\n",
        "\n",
        "import tensorflow_hub as hub\n",
        "import tensorflow_datasets as tfds\n",
        "tfds.disable_progress_bar()"
      ],
      "execution_count": null,
      "outputs": [
        {
          "output_type": "stream",
          "name": "stdout",
          "text": [
            "Collecting bert-tensorflow\n",
            "  Downloading bert_tensorflow-1.0.4-py2.py3-none-any.whl (64 kB)\n",
            "\u001b[?25l\r\u001b[K     |█████                           | 10 kB 33.6 MB/s eta 0:00:01\r\u001b[K     |██████████▏                     | 20 kB 33.0 MB/s eta 0:00:01\r\u001b[K     |███████████████▎                | 30 kB 20.2 MB/s eta 0:00:01\r\u001b[K     |████████████████████▍           | 40 kB 16.6 MB/s eta 0:00:01\r\u001b[K     |█████████████████████████▍      | 51 kB 9.3 MB/s eta 0:00:01\r\u001b[K     |██████████████████████████████▌ | 61 kB 9.1 MB/s eta 0:00:01\r\u001b[K     |████████████████████████████████| 64 kB 2.7 MB/s \n",
            "\u001b[?25hRequirement already satisfied: six in /usr/local/lib/python3.7/dist-packages (from bert-tensorflow) (1.15.0)\n",
            "Installing collected packages: bert-tensorflow\n",
            "Successfully installed bert-tensorflow-1.0.4\n",
            "\u001b[K     |████████████████████████████████| 1.1 MB 7.7 MB/s \n",
            "\u001b[K     |████████████████████████████████| 1.2 MB 60.0 MB/s \n",
            "\u001b[K     |████████████████████████████████| 352 kB 92.8 MB/s \n",
            "\u001b[K     |████████████████████████████████| 1.1 MB 63.8 MB/s \n",
            "\u001b[K     |████████████████████████████████| 99 kB 12.5 MB/s \n",
            "\u001b[K     |████████████████████████████████| 213 kB 83.4 MB/s \n",
            "\u001b[K     |████████████████████████████████| 596 kB 74.3 MB/s \n",
            "\u001b[K     |████████████████████████████████| 47.6 MB 113.4 MB/s \n",
            "\u001b[K     |████████████████████████████████| 43 kB 2.5 MB/s \n",
            "\u001b[?25h  Building wheel for py-cpuinfo (setup.py) ... \u001b[?25l\u001b[?25hdone\n",
            "  Building wheel for seqeval (setup.py) ... \u001b[?25l\u001b[?25hdone\n"
          ]
        }
      ]
    },
    {
      "cell_type": "markdown",
      "metadata": {
        "id": "IaasMDd0Pn3P"
      },
      "source": [
        "\n",
        "# Setting The Output Directory for BERT\n",
        "\n"
      ]
    },
    {
      "cell_type": "code",
      "metadata": {
        "colab": {
          "base_uri": "https://localhost:8080/"
        },
        "id": "2XEgt457yd_0",
        "outputId": "7389b054-14c1-46a0-c831-3ea005d5066b"
      },
      "source": [
        "#Setting the output directory for BERT \n",
        "# Set the output directory for saving model file\n",
        "OUTPUT_DIR = '/content/drive/MyDrive/MS_Final_Project/Model_checkpoints_Cnt3'\n",
        "\n",
        "#@markdown Whether or not to clear/delete the directory and create a new one\n",
        "DO_DELETE = False #@param {type:\"boolean\"}\n",
        "\n",
        "if DO_DELETE:\n",
        "  try:\n",
        "    tf.io.gfile.DeleteRecursively(OUTPUT_DIR)#deletes everything under the directory recursively\n",
        "  except:\n",
        "    pass\n",
        "\n",
        "tf.io.gfile.makedirs(OUTPUT_DIR) #Creates a directory and all parent/intermediate directories.\n",
        "print('***** Model output directory: {} *****'.format(OUTPUT_DIR))"
      ],
      "execution_count": null,
      "outputs": [
        {
          "output_type": "stream",
          "name": "stdout",
          "text": [
            "***** Model output directory: /content/drive/MyDrive/MS_Final_Project/Model_checkpoints_Cnt3 *****\n"
          ]
        }
      ]
    },
    {
      "cell_type": "code",
      "metadata": {
        "colab": {
          "base_uri": "https://localhost:8080/"
        },
        "id": "OP59yHEBy7Pk",
        "outputId": "5e6f107c-f806-4881-e7a0-6592bdb662bc"
      },
      "source": [
        "print(\"Training Set Shape :\", train.shape)\n",
        "#print(\"Validation Set Shape :\", val.shape)\n",
        "# print(\"Test Set Shape :\", test.shape)"
      ],
      "execution_count": null,
      "outputs": [
        {
          "output_type": "stream",
          "name": "stdout",
          "text": [
            "Training Set Shape : (17142, 2)\n"
          ]
        }
      ]
    },
    {
      "cell_type": "code",
      "metadata": {
        "colab": {
          "base_uri": "https://localhost:8080/"
        },
        "id": "CRmICBn0y7Sj",
        "outputId": "01b0cb3f-6da6-4c95-99dc-f9133063fe9e"
      },
      "source": [
        "DATA_COLUMN = 'text'\n",
        "LABEL_COLUMN = 'label'\n",
        "# The list containing all the classes (train['SECTION'].unique())\n",
        "label_list = [x for x in np.unique(train.label)]\n",
        "label_list"
      ],
      "execution_count": null,
      "outputs": [
        {
          "output_type": "execute_result",
          "data": {
            "text/plain": [
              "[0, 1, 2, 3, 4, 5, 6, 7, 8, 9]"
            ]
          },
          "metadata": {},
          "execution_count": 30
        }
      ]
    },
    {
      "cell_type": "markdown",
      "metadata": {
        "id": "CePX9HTsQvZj"
      },
      "source": [
        "# Splitting the Data into smaller chunks"
      ]
    },
    {
      "cell_type": "code",
      "metadata": {
        "id": "iNg5-wtmy7Vw"
      },
      "source": [
        "#Splitting the data into smaller chunks \n",
        "def get_split(text1):\n",
        "  l_total = []\n",
        "  l_parcial = []\n",
        "  if len(text1.split())//150 >0:\n",
        "    n = len(text1.split())//150\n",
        "  else: \n",
        "    n = 1\n",
        "  for w in range(n):\n",
        "    if w == 0:\n",
        "      l_parcial = text1.split()[:200]\n",
        "      l_total.append(\" \".join(l_parcial))\n",
        "    else:\n",
        "      l_parcial = text1.split()[w*150:w*150 + 200] #overlapping 50 words in every chunks \n",
        "      l_total.append(\" \".join(l_parcial))\n",
        "  return l_total"
      ],
      "execution_count": null,
      "outputs": []
    },
    {
      "cell_type": "code",
      "metadata": {
        "id": "94x90BiKomPv"
      },
      "source": [
        "def get_split_count(text1):\n",
        "  if len(text1.split())//150 >0:\n",
        "    n = len(text1.split())//150\n",
        "  else: \n",
        "    n = 1\n",
        "  return n"
      ],
      "execution_count": null,
      "outputs": []
    },
    {
      "cell_type": "code",
      "metadata": {
        "colab": {
          "base_uri": "https://localhost:8080/",
          "height": 204
        },
        "id": "MZT0Tkphqlc3",
        "outputId": "3b47215d-13df-46a6-c5c6-99fdba1caee6"
      },
      "source": [
        "train['text_split'] = train[DATA_COLUMN].apply(get_split)\n",
        "train.head()"
      ],
      "execution_count": null,
      "outputs": [
        {
          "output_type": "execute_result",
          "data": {
            "text/html": [
              "<div>\n",
              "<style scoped>\n",
              "    .dataframe tbody tr th:only-of-type {\n",
              "        vertical-align: middle;\n",
              "    }\n",
              "\n",
              "    .dataframe tbody tr th {\n",
              "        vertical-align: top;\n",
              "    }\n",
              "\n",
              "    .dataframe thead th {\n",
              "        text-align: right;\n",
              "    }\n",
              "</style>\n",
              "<table border=\"1\" class=\"dataframe\">\n",
              "  <thead>\n",
              "    <tr style=\"text-align: right;\">\n",
              "      <th></th>\n",
              "      <th>text</th>\n",
              "      <th>label</th>\n",
              "      <th>text_split</th>\n",
              "    </tr>\n",
              "  </thead>\n",
              "  <tbody>\n",
              "    <tr>\n",
              "      <th>0</th>\n",
              "      <td>XX XX XXXXDear Consumer Financial Protection B...</td>\n",
              "      <td>3</td>\n",
              "      <td>[XX XX XXXXDear Consumer Financial Protection ...</td>\n",
              "    </tr>\n",
              "    <tr>\n",
              "      <th>1</th>\n",
              "      <td>I have a debt with XXXX XXXX XXXX XXXX I have ...</td>\n",
              "      <td>4</td>\n",
              "      <td>[I have a debt with XXXX XXXX XXXX XXXX I have...</td>\n",
              "    </tr>\n",
              "    <tr>\n",
              "      <th>2</th>\n",
              "      <td>I have been a Bank of America Customer for alm...</td>\n",
              "      <td>6</td>\n",
              "      <td>[I have been a Bank of America Customer for al...</td>\n",
              "    </tr>\n",
              "    <tr>\n",
              "      <th>3</th>\n",
              "      <td>XXXX certified letters within a XXXX day perio...</td>\n",
              "      <td>4</td>\n",
              "      <td>[XXXX certified letters within a XXXX day peri...</td>\n",
              "    </tr>\n",
              "    <tr>\n",
              "      <th>4</th>\n",
              "      <td>I received a call from a man whom phoned my pl...</td>\n",
              "      <td>4</td>\n",
              "      <td>[I received a call from a man whom phoned my p...</td>\n",
              "    </tr>\n",
              "  </tbody>\n",
              "</table>\n",
              "</div>"
            ],
            "text/plain": [
              "                                                text  ...                                         text_split\n",
              "0  XX XX XXXXDear Consumer Financial Protection B...  ...  [XX XX XXXXDear Consumer Financial Protection ...\n",
              "1  I have a debt with XXXX XXXX XXXX XXXX I have ...  ...  [I have a debt with XXXX XXXX XXXX XXXX I have...\n",
              "2  I have been a Bank of America Customer for alm...  ...  [I have been a Bank of America Customer for al...\n",
              "3  XXXX certified letters within a XXXX day perio...  ...  [XXXX certified letters within a XXXX day peri...\n",
              "4  I received a call from a man whom phoned my pl...  ...  [I received a call from a man whom phoned my p...\n",
              "\n",
              "[5 rows x 3 columns]"
            ]
          },
          "metadata": {},
          "execution_count": 33
        }
      ]
    },
    {
      "cell_type": "code",
      "metadata": {
        "colab": {
          "base_uri": "https://localhost:8080/",
          "height": 204
        },
        "id": "I1AXyk6R18-5",
        "outputId": "6744b613-ce1e-4b2d-8341-5c6742069e00"
      },
      "source": [
        "train['text_split_count'] = train[DATA_COLUMN].apply(get_split_count)\n",
        "train.head()"
      ],
      "execution_count": null,
      "outputs": [
        {
          "output_type": "execute_result",
          "data": {
            "text/html": [
              "<div>\n",
              "<style scoped>\n",
              "    .dataframe tbody tr th:only-of-type {\n",
              "        vertical-align: middle;\n",
              "    }\n",
              "\n",
              "    .dataframe tbody tr th {\n",
              "        vertical-align: top;\n",
              "    }\n",
              "\n",
              "    .dataframe thead th {\n",
              "        text-align: right;\n",
              "    }\n",
              "</style>\n",
              "<table border=\"1\" class=\"dataframe\">\n",
              "  <thead>\n",
              "    <tr style=\"text-align: right;\">\n",
              "      <th></th>\n",
              "      <th>text</th>\n",
              "      <th>label</th>\n",
              "      <th>text_split</th>\n",
              "      <th>text_split_count</th>\n",
              "    </tr>\n",
              "  </thead>\n",
              "  <tbody>\n",
              "    <tr>\n",
              "      <th>0</th>\n",
              "      <td>XX XX XXXXDear Consumer Financial Protection B...</td>\n",
              "      <td>3</td>\n",
              "      <td>[XX XX XXXXDear Consumer Financial Protection ...</td>\n",
              "      <td>2</td>\n",
              "    </tr>\n",
              "    <tr>\n",
              "      <th>1</th>\n",
              "      <td>I have a debt with XXXX XXXX XXXX XXXX I have ...</td>\n",
              "      <td>4</td>\n",
              "      <td>[I have a debt with XXXX XXXX XXXX XXXX I have...</td>\n",
              "      <td>4</td>\n",
              "    </tr>\n",
              "    <tr>\n",
              "      <th>2</th>\n",
              "      <td>I have been a Bank of America Customer for alm...</td>\n",
              "      <td>6</td>\n",
              "      <td>[I have been a Bank of America Customer for al...</td>\n",
              "      <td>2</td>\n",
              "    </tr>\n",
              "    <tr>\n",
              "      <th>3</th>\n",
              "      <td>XXXX certified letters within a XXXX day perio...</td>\n",
              "      <td>4</td>\n",
              "      <td>[XXXX certified letters within a XXXX day peri...</td>\n",
              "      <td>1</td>\n",
              "    </tr>\n",
              "    <tr>\n",
              "      <th>4</th>\n",
              "      <td>I received a call from a man whom phoned my pl...</td>\n",
              "      <td>4</td>\n",
              "      <td>[I received a call from a man whom phoned my p...</td>\n",
              "      <td>4</td>\n",
              "    </tr>\n",
              "  </tbody>\n",
              "</table>\n",
              "</div>"
            ],
            "text/plain": [
              "                                                text  ...  text_split_count\n",
              "0  XX XX XXXXDear Consumer Financial Protection B...  ...                 2\n",
              "1  I have a debt with XXXX XXXX XXXX XXXX I have ...  ...                 4\n",
              "2  I have been a Bank of America Customer for alm...  ...                 2\n",
              "3  XXXX certified letters within a XXXX day perio...  ...                 1\n",
              "4  I received a call from a man whom phoned my pl...  ...                 4\n",
              "\n",
              "[5 rows x 4 columns]"
            ]
          },
          "metadata": {},
          "execution_count": 34
        }
      ]
    },
    {
      "cell_type": "code",
      "metadata": {
        "colab": {
          "base_uri": "https://localhost:8080/"
        },
        "id": "-rhAKpQ5W0Hi",
        "outputId": "a9d809fb-f917-4fda-f5dd-2fe49d678222"
      },
      "source": [
        "train.shape"
      ],
      "execution_count": null,
      "outputs": [
        {
          "output_type": "execute_result",
          "data": {
            "text/plain": [
              "(17142, 4)"
            ]
          },
          "metadata": {},
          "execution_count": 35
        }
      ]
    },
    {
      "cell_type": "code",
      "metadata": {
        "id": "q_dYA9QVp_Bw"
      },
      "source": [
        "count_1 =0\n",
        "count_2 =0\n",
        "count_3 =0\n",
        "count_4 =0\n",
        "count_5 =0\n",
        "for i in train['text_split_count']:\n",
        "  if i==5:\n",
        "    count_5+=1\n",
        "  if i==1:\n",
        "    count_1+=1\n",
        "  if i==2:\n",
        "    count_2+=1\n",
        "  if i==3:\n",
        "    count_3+=1\n",
        "  if i==4:\n",
        "    count_4+=1"
      ],
      "execution_count": null,
      "outputs": []
    },
    {
      "cell_type": "code",
      "metadata": {
        "colab": {
          "base_uri": "https://localhost:8080/"
        },
        "id": "wYS52j7xrWYL",
        "outputId": "027858a6-4d38-4578-bf95-ada8412b5777"
      },
      "source": [
        "print('count_1 ', count_1)\n",
        "print('count_2 ', count_2)\n",
        "print('count_3 ', count_3)\n",
        "print('count_4 ', count_4)\n",
        "print('count_5 ', count_5)"
      ],
      "execution_count": null,
      "outputs": [
        {
          "output_type": "stream",
          "name": "stdout",
          "text": [
            "count_1  4045\n",
            "count_2  6873\n",
            "count_3  3264\n",
            "count_4  2758\n",
            "count_5  202\n"
          ]
        }
      ]
    },
    {
      "cell_type": "code",
      "metadata": {
        "id": "5HgHYvLpVjN0"
      },
      "source": [
        "#creating the test set\n",
        "test_set = train[(train['text_split_count'].isin([1,2,3]))]"
      ],
      "execution_count": null,
      "outputs": []
    },
    {
      "cell_type": "code",
      "metadata": {
        "colab": {
          "base_uri": "https://localhost:8080/",
          "height": 419
        },
        "id": "zw29kiyKXHu_",
        "outputId": "57cfbff6-7111-4f00-d734-7414e8694f08"
      },
      "source": [
        "test_set"
      ],
      "execution_count": null,
      "outputs": [
        {
          "output_type": "execute_result",
          "data": {
            "text/html": [
              "<div>\n",
              "<style scoped>\n",
              "    .dataframe tbody tr th:only-of-type {\n",
              "        vertical-align: middle;\n",
              "    }\n",
              "\n",
              "    .dataframe tbody tr th {\n",
              "        vertical-align: top;\n",
              "    }\n",
              "\n",
              "    .dataframe thead th {\n",
              "        text-align: right;\n",
              "    }\n",
              "</style>\n",
              "<table border=\"1\" class=\"dataframe\">\n",
              "  <thead>\n",
              "    <tr style=\"text-align: right;\">\n",
              "      <th></th>\n",
              "      <th>text</th>\n",
              "      <th>label</th>\n",
              "      <th>text_split</th>\n",
              "      <th>text_split_count</th>\n",
              "    </tr>\n",
              "  </thead>\n",
              "  <tbody>\n",
              "    <tr>\n",
              "      <th>0</th>\n",
              "      <td>XX XX XXXXDear Consumer Financial Protection B...</td>\n",
              "      <td>3</td>\n",
              "      <td>[XX XX XXXXDear Consumer Financial Protection ...</td>\n",
              "      <td>2</td>\n",
              "    </tr>\n",
              "    <tr>\n",
              "      <th>2</th>\n",
              "      <td>I have been a Bank of America Customer for alm...</td>\n",
              "      <td>6</td>\n",
              "      <td>[I have been a Bank of America Customer for al...</td>\n",
              "      <td>2</td>\n",
              "    </tr>\n",
              "    <tr>\n",
              "      <th>3</th>\n",
              "      <td>XXXX certified letters within a XXXX day perio...</td>\n",
              "      <td>4</td>\n",
              "      <td>[XXXX certified letters within a XXXX day peri...</td>\n",
              "      <td>1</td>\n",
              "    </tr>\n",
              "    <tr>\n",
              "      <th>5</th>\n",
              "      <td>To whom it may concern I XXXX XXXX am i single...</td>\n",
              "      <td>6</td>\n",
              "      <td>[To whom it may concern I XXXX XXXX am i singl...</td>\n",
              "      <td>2</td>\n",
              "    </tr>\n",
              "    <tr>\n",
              "      <th>6</th>\n",
              "      <td>I have a Nationstar Mortgage after my loan was...</td>\n",
              "      <td>6</td>\n",
              "      <td>[I have a Nationstar Mortgage after my loan wa...</td>\n",
              "      <td>2</td>\n",
              "    </tr>\n",
              "    <tr>\n",
              "      <th>...</th>\n",
              "      <td>...</td>\n",
              "      <td>...</td>\n",
              "      <td>...</td>\n",
              "      <td>...</td>\n",
              "    </tr>\n",
              "    <tr>\n",
              "      <th>17136</th>\n",
              "      <td>I attest that I XXXX NEWBIE both own this acco...</td>\n",
              "      <td>3</td>\n",
              "      <td>[I attest that I XXXX NEWBIE both own this acc...</td>\n",
              "      <td>3</td>\n",
              "    </tr>\n",
              "    <tr>\n",
              "      <th>17137</th>\n",
              "      <td>I am a recipient of NYS XXXX My coverage renew...</td>\n",
              "      <td>3</td>\n",
              "      <td>[I am a recipient of NYS XXXX My coverage rene...</td>\n",
              "      <td>3</td>\n",
              "    </tr>\n",
              "    <tr>\n",
              "      <th>17138</th>\n",
              "      <td>I received a voicemail on my cell phone statin...</td>\n",
              "      <td>4</td>\n",
              "      <td>[I received a voicemail on my cell phone stati...</td>\n",
              "      <td>2</td>\n",
              "    </tr>\n",
              "    <tr>\n",
              "      <th>17139</th>\n",
              "      <td>I have a loan modification under HAMP IndyMac ...</td>\n",
              "      <td>6</td>\n",
              "      <td>[I have a loan modification under HAMP IndyMac...</td>\n",
              "      <td>2</td>\n",
              "    </tr>\n",
              "    <tr>\n",
              "      <th>17141</th>\n",
              "      <td>XXXX previous case numberSince my last written...</td>\n",
              "      <td>6</td>\n",
              "      <td>[XXXX previous case numberSince my last writte...</td>\n",
              "      <td>3</td>\n",
              "    </tr>\n",
              "  </tbody>\n",
              "</table>\n",
              "<p>14182 rows × 4 columns</p>\n",
              "</div>"
            ],
            "text/plain": [
              "                                                    text  ...  text_split_count\n",
              "0      XX XX XXXXDear Consumer Financial Protection B...  ...                 2\n",
              "2      I have been a Bank of America Customer for alm...  ...                 2\n",
              "3      XXXX certified letters within a XXXX day perio...  ...                 1\n",
              "5      To whom it may concern I XXXX XXXX am i single...  ...                 2\n",
              "6      I have a Nationstar Mortgage after my loan was...  ...                 2\n",
              "...                                                  ...  ...               ...\n",
              "17136  I attest that I XXXX NEWBIE both own this acco...  ...                 3\n",
              "17137  I am a recipient of NYS XXXX My coverage renew...  ...                 3\n",
              "17138  I received a voicemail on my cell phone statin...  ...                 2\n",
              "17139  I have a loan modification under HAMP IndyMac ...  ...                 2\n",
              "17141  XXXX previous case numberSince my last written...  ...                 3\n",
              "\n",
              "[14182 rows x 4 columns]"
            ]
          },
          "metadata": {},
          "execution_count": 39
        }
      ]
    },
    {
      "cell_type": "code",
      "metadata": {
        "id": "MybNDg86fSEt"
      },
      "source": [
        "train = train[(train['text_split_count'].isin([4,5]))]"
      ],
      "execution_count": null,
      "outputs": []
    },
    {
      "cell_type": "code",
      "metadata": {
        "id": "BLRK4eNFEnbK"
      },
      "source": [
        "from sklearn.model_selection import train_test_split"
      ],
      "execution_count": null,
      "outputs": []
    },
    {
      "cell_type": "code",
      "metadata": {
        "id": "HqhED-nYBm9U"
      },
      "source": [
        "test1, test_set = train_test_split(test_set, test_size=0.2, random_state=35)"
      ],
      "execution_count": null,
      "outputs": []
    },
    {
      "cell_type": "code",
      "metadata": {
        "id": "bT7AbZN3fmrQ"
      },
      "source": [
        "frames = [train, test1]\n",
        "train = pd.concat(frames)"
      ],
      "execution_count": null,
      "outputs": []
    },
    {
      "cell_type": "code",
      "metadata": {
        "colab": {
          "base_uri": "https://localhost:8080/"
        },
        "id": "CVSCIgHSe5dJ",
        "outputId": "0628e294-a012-4d4e-d4e6-b8607c361526"
      },
      "source": [
        "train.shape , test_set.shape"
      ],
      "execution_count": null,
      "outputs": [
        {
          "output_type": "execute_result",
          "data": {
            "text/plain": [
              "((14305, 4), (2837, 4))"
            ]
          },
          "metadata": {},
          "execution_count": 44
        }
      ]
    },
    {
      "cell_type": "code",
      "metadata": {
        "colab": {
          "base_uri": "https://localhost:8080/",
          "height": 204
        },
        "id": "XYkYPXkquWPq",
        "outputId": "b4d415a5-6599-4eee-e3ab-31f7b2bb9fbf"
      },
      "source": [
        "train, val = train_test_split(train, test_size=0.2, random_state=35)\n",
        "train.head()"
      ],
      "execution_count": null,
      "outputs": [
        {
          "output_type": "execute_result",
          "data": {
            "text/html": [
              "<div>\n",
              "<style scoped>\n",
              "    .dataframe tbody tr th:only-of-type {\n",
              "        vertical-align: middle;\n",
              "    }\n",
              "\n",
              "    .dataframe tbody tr th {\n",
              "        vertical-align: top;\n",
              "    }\n",
              "\n",
              "    .dataframe thead th {\n",
              "        text-align: right;\n",
              "    }\n",
              "</style>\n",
              "<table border=\"1\" class=\"dataframe\">\n",
              "  <thead>\n",
              "    <tr style=\"text-align: right;\">\n",
              "      <th></th>\n",
              "      <th>text</th>\n",
              "      <th>label</th>\n",
              "      <th>text_split</th>\n",
              "      <th>text_split_count</th>\n",
              "    </tr>\n",
              "  </thead>\n",
              "  <tbody>\n",
              "    <tr>\n",
              "      <th>15961</th>\n",
              "      <td>In XXXX I put a significant down payment on an...</td>\n",
              "      <td>1</td>\n",
              "      <td>[In XXXX I put a significant down payment on a...</td>\n",
              "      <td>5</td>\n",
              "    </tr>\n",
              "    <tr>\n",
              "      <th>638</th>\n",
              "      <td>back in XX XX 2013 i filed a bankrutcy and one...</td>\n",
              "      <td>3</td>\n",
              "      <td>[back in XX XX 2013 i filed a bankrutcy and on...</td>\n",
              "      <td>1</td>\n",
              "    </tr>\n",
              "    <tr>\n",
              "      <th>13825</th>\n",
              "      <td>I started using this service on XXXX as i have...</td>\n",
              "      <td>2</td>\n",
              "      <td>[I started using this service on XXXX as i hav...</td>\n",
              "      <td>4</td>\n",
              "    </tr>\n",
              "    <tr>\n",
              "      <th>8816</th>\n",
              "      <td>Over the past month I have written many compla...</td>\n",
              "      <td>0</td>\n",
              "      <td>[Over the past month I have written many compl...</td>\n",
              "      <td>4</td>\n",
              "    </tr>\n",
              "    <tr>\n",
              "      <th>12757</th>\n",
              "      <td>My daughter needed financial support in getti...</td>\n",
              "      <td>2</td>\n",
              "      <td>[My daughter needed financial support in getti...</td>\n",
              "      <td>3</td>\n",
              "    </tr>\n",
              "  </tbody>\n",
              "</table>\n",
              "</div>"
            ],
            "text/plain": [
              "                                                    text  ...  text_split_count\n",
              "15961  In XXXX I put a significant down payment on an...  ...                 5\n",
              "638    back in XX XX 2013 i filed a bankrutcy and one...  ...                 1\n",
              "13825  I started using this service on XXXX as i have...  ...                 4\n",
              "8816   Over the past month I have written many compla...  ...                 4\n",
              "12757   My daughter needed financial support in getti...  ...                 3\n",
              "\n",
              "[5 rows x 4 columns]"
            ]
          },
          "metadata": {},
          "execution_count": 45
        }
      ]
    },
    {
      "cell_type": "code",
      "metadata": {
        "colab": {
          "base_uri": "https://localhost:8080/"
        },
        "id": "-HB6fcp-hj3z",
        "outputId": "27eb533e-8e46-4cb8-a0f3-cba36f85d824"
      },
      "source": [
        "train.shape, val.shape, test_set.shape"
      ],
      "execution_count": null,
      "outputs": [
        {
          "output_type": "execute_result",
          "data": {
            "text/plain": [
              "((11444, 4), (2861, 4), (2837, 4))"
            ]
          },
          "metadata": {},
          "execution_count": 46
        }
      ]
    },
    {
      "cell_type": "code",
      "metadata": {
        "colab": {
          "base_uri": "https://localhost:8080/"
        },
        "id": "Emmt1I-U19EH",
        "outputId": "e0efe84a-9774-4552-9f58-d27575dab2e9"
      },
      "source": [
        "train_l = []\n",
        "label_l = []\n",
        "index_l =[]\n",
        "for idx,row in train.iterrows():\n",
        "  for l in row['text_split']:  #it is going to create list of training chunks with label and index mapping \n",
        "    train_l.append(l)\n",
        "    label_l.append(row['label'])\n",
        "    index_l.append(idx)\n",
        "len(train_l), len(label_l), len(index_l)"
      ],
      "execution_count": null,
      "outputs": [
        {
          "output_type": "execute_result",
          "data": {
            "text/plain": [
              "(27414, 27414, 27414)"
            ]
          },
          "metadata": {},
          "execution_count": 47
        }
      ]
    },
    {
      "cell_type": "code",
      "metadata": {
        "colab": {
          "base_uri": "https://localhost:8080/"
        },
        "id": "0aZq4QA7a79t",
        "outputId": "6ff97e3c-c8c6-4dce-8ebf-68d88bd5766f"
      },
      "source": [
        "val_l = []\n",
        "val_label_l = []\n",
        "val_index_l = []\n",
        "for idx,row in val.iterrows():\n",
        "  for l in row['text_split']:\n",
        "    val_l.append(l)\n",
        "    val_label_l.append(row['label'])\n",
        "    val_index_l.append(idx)\n",
        "len(val_l), len(val_label_l), len(val_index_l)"
      ],
      "execution_count": null,
      "outputs": [
        {
          "output_type": "execute_result",
          "data": {
            "text/plain": [
              "(6707, 6707, 6707)"
            ]
          },
          "metadata": {},
          "execution_count": 48
        }
      ]
    },
    {
      "cell_type": "code",
      "metadata": {
        "colab": {
          "base_uri": "https://localhost:8080/"
        },
        "id": "uENg5e4E19G7",
        "outputId": "844c7414-15b0-4e6e-b556-2a2d894178af"
      },
      "source": [
        "test_l = []\n",
        "test_label_l = []\n",
        "test_index_l = []\n",
        "for idx,row in test_set.iterrows():\n",
        "  for l in row['text_split']:\n",
        "    test_l.append(l)\n",
        "    test_label_l.append(row['label'])\n",
        "    test_index_l.append(idx)\n",
        "len(test_l), len(test_label_l), len(test_index_l)"
      ],
      "execution_count": null,
      "outputs": [
        {
          "output_type": "execute_result",
          "data": {
            "text/plain": [
              "(5504, 5504, 5504)"
            ]
          },
          "metadata": {},
          "execution_count": 49
        }
      ]
    },
    {
      "cell_type": "code",
      "metadata": {
        "colab": {
          "base_uri": "https://localhost:8080/",
          "height": 204
        },
        "id": "51RfS2C519JW",
        "outputId": "d66f9de4-ed5f-4889-f50b-01deb3546d52"
      },
      "source": [
        "train_df = pd.DataFrame({DATA_COLUMN:train_l, LABEL_COLUMN:label_l})\n",
        "train_df.head()"
      ],
      "execution_count": null,
      "outputs": [
        {
          "output_type": "execute_result",
          "data": {
            "text/html": [
              "<div>\n",
              "<style scoped>\n",
              "    .dataframe tbody tr th:only-of-type {\n",
              "        vertical-align: middle;\n",
              "    }\n",
              "\n",
              "    .dataframe tbody tr th {\n",
              "        vertical-align: top;\n",
              "    }\n",
              "\n",
              "    .dataframe thead th {\n",
              "        text-align: right;\n",
              "    }\n",
              "</style>\n",
              "<table border=\"1\" class=\"dataframe\">\n",
              "  <thead>\n",
              "    <tr style=\"text-align: right;\">\n",
              "      <th></th>\n",
              "      <th>text</th>\n",
              "      <th>label</th>\n",
              "    </tr>\n",
              "  </thead>\n",
              "  <tbody>\n",
              "    <tr>\n",
              "      <th>0</th>\n",
              "      <td>In XXXX I put a significant down payment on an...</td>\n",
              "      <td>1</td>\n",
              "    </tr>\n",
              "    <tr>\n",
              "      <th>1</th>\n",
              "      <td>title to my car all time taken away from XXXX ...</td>\n",
              "      <td>1</td>\n",
              "    </tr>\n",
              "    <tr>\n",
              "      <th>2</th>\n",
              "      <td>even been able to pay property take on for ove...</td>\n",
              "      <td>1</td>\n",
              "    </tr>\n",
              "    <tr>\n",
              "      <th>3</th>\n",
              "      <td>So again we made more calls and my wife made m...</td>\n",
              "      <td>1</td>\n",
              "    </tr>\n",
              "    <tr>\n",
              "      <th>4</th>\n",
              "      <td>our account since XXXX I called the local poli...</td>\n",
              "      <td>1</td>\n",
              "    </tr>\n",
              "  </tbody>\n",
              "</table>\n",
              "</div>"
            ],
            "text/plain": [
              "                                                text  label\n",
              "0  In XXXX I put a significant down payment on an...      1\n",
              "1  title to my car all time taken away from XXXX ...      1\n",
              "2  even been able to pay property take on for ove...      1\n",
              "3  So again we made more calls and my wife made m...      1\n",
              "4  our account since XXXX I called the local poli...      1"
            ]
          },
          "metadata": {},
          "execution_count": 50
        }
      ]
    },
    {
      "cell_type": "code",
      "metadata": {
        "colab": {
          "base_uri": "https://localhost:8080/",
          "height": 204
        },
        "id": "_CfhlZ-HbmO3",
        "outputId": "04b70840-8efd-4d43-b009-4b3ae4e5544c"
      },
      "source": [
        "val_df = pd.DataFrame({DATA_COLUMN:val_l, LABEL_COLUMN:val_label_l})\n",
        "val_df.head()"
      ],
      "execution_count": null,
      "outputs": [
        {
          "output_type": "execute_result",
          "data": {
            "text/html": [
              "<div>\n",
              "<style scoped>\n",
              "    .dataframe tbody tr th:only-of-type {\n",
              "        vertical-align: middle;\n",
              "    }\n",
              "\n",
              "    .dataframe tbody tr th {\n",
              "        vertical-align: top;\n",
              "    }\n",
              "\n",
              "    .dataframe thead th {\n",
              "        text-align: right;\n",
              "    }\n",
              "</style>\n",
              "<table border=\"1\" class=\"dataframe\">\n",
              "  <thead>\n",
              "    <tr style=\"text-align: right;\">\n",
              "      <th></th>\n",
              "      <th>text</th>\n",
              "      <th>label</th>\n",
              "    </tr>\n",
              "  </thead>\n",
              "  <tbody>\n",
              "    <tr>\n",
              "      <th>0</th>\n",
              "      <td>I was denied for a loan modification HAMP XXXX...</td>\n",
              "      <td>6</td>\n",
              "    </tr>\n",
              "    <tr>\n",
              "      <th>1</th>\n",
              "      <td>prove this is what Wells Fargo does to everyon...</td>\n",
              "      <td>6</td>\n",
              "    </tr>\n",
              "    <tr>\n",
              "      <th>2</th>\n",
              "      <td>I currently have a mortgage with BB T initiall...</td>\n",
              "      <td>6</td>\n",
              "    </tr>\n",
              "    <tr>\n",
              "      <th>3</th>\n",
              "      <td>were told we were unable to refinance due to t...</td>\n",
              "      <td>6</td>\n",
              "    </tr>\n",
              "    <tr>\n",
              "      <th>4</th>\n",
              "      <td>On XXXX XXXX I call XXXX XXXX XXXX and gave my...</td>\n",
              "      <td>2</td>\n",
              "    </tr>\n",
              "  </tbody>\n",
              "</table>\n",
              "</div>"
            ],
            "text/plain": [
              "                                                text  label\n",
              "0  I was denied for a loan modification HAMP XXXX...      6\n",
              "1  prove this is what Wells Fargo does to everyon...      6\n",
              "2  I currently have a mortgage with BB T initiall...      6\n",
              "3  were told we were unable to refinance due to t...      6\n",
              "4  On XXXX XXXX I call XXXX XXXX XXXX and gave my...      2"
            ]
          },
          "metadata": {},
          "execution_count": 51
        }
      ]
    },
    {
      "cell_type": "code",
      "metadata": {
        "colab": {
          "base_uri": "https://localhost:8080/",
          "height": 204
        },
        "id": "X6rGj8Esbnr-",
        "outputId": "5f2b17cc-dd13-4a17-82c3-53b8c44c2fb6"
      },
      "source": [
        "test_df = pd.DataFrame({DATA_COLUMN:test_l, LABEL_COLUMN:test_label_l})\n",
        "test_df.head()"
      ],
      "execution_count": null,
      "outputs": [
        {
          "output_type": "execute_result",
          "data": {
            "text/html": [
              "<div>\n",
              "<style scoped>\n",
              "    .dataframe tbody tr th:only-of-type {\n",
              "        vertical-align: middle;\n",
              "    }\n",
              "\n",
              "    .dataframe tbody tr th {\n",
              "        vertical-align: top;\n",
              "    }\n",
              "\n",
              "    .dataframe thead th {\n",
              "        text-align: right;\n",
              "    }\n",
              "</style>\n",
              "<table border=\"1\" class=\"dataframe\">\n",
              "  <thead>\n",
              "    <tr style=\"text-align: right;\">\n",
              "      <th></th>\n",
              "      <th>text</th>\n",
              "      <th>label</th>\n",
              "    </tr>\n",
              "  </thead>\n",
              "  <tbody>\n",
              "    <tr>\n",
              "      <th>0</th>\n",
              "      <td>I deposited a cashiers check for 2900 00 at Ba...</td>\n",
              "      <td>0</td>\n",
              "    </tr>\n",
              "    <tr>\n",
              "      <th>1</th>\n",
              "      <td>I believe BB T is intentionally reordering tra...</td>\n",
              "      <td>0</td>\n",
              "    </tr>\n",
              "    <tr>\n",
              "      <th>2</th>\n",
              "      <td>Bought a car in XXXX totaled it XXXX On XXXX m...</td>\n",
              "      <td>3</td>\n",
              "    </tr>\n",
              "    <tr>\n",
              "      <th>3</th>\n",
              "      <td>Hi My issue concerns the lack of accurate and ...</td>\n",
              "      <td>3</td>\n",
              "    </tr>\n",
              "    <tr>\n",
              "      <th>4</th>\n",
              "      <td>solved issue for more than a year at this poin...</td>\n",
              "      <td>3</td>\n",
              "    </tr>\n",
              "  </tbody>\n",
              "</table>\n",
              "</div>"
            ],
            "text/plain": [
              "                                                text  label\n",
              "0  I deposited a cashiers check for 2900 00 at Ba...      0\n",
              "1  I believe BB T is intentionally reordering tra...      0\n",
              "2  Bought a car in XXXX totaled it XXXX On XXXX m...      3\n",
              "3  Hi My issue concerns the lack of accurate and ...      3\n",
              "4  solved issue for more than a year at this poin...      3"
            ]
          },
          "metadata": {},
          "execution_count": 52
        }
      ]
    },
    {
      "cell_type": "code",
      "metadata": {
        "colab": {
          "base_uri": "https://localhost:8080/"
        },
        "id": "5UkFxeVbXHPi",
        "outputId": "212399d9-911b-41c6-e232-6f94132982b4"
      },
      "source": [
        "print('train_df shape : ',train_df.shape)\n",
        "print('val_df shape : ',val_df.shape)\n",
        "print('test_df shape : ',test_df.shape)"
      ],
      "execution_count": null,
      "outputs": [
        {
          "output_type": "stream",
          "name": "stdout",
          "text": [
            "train_df shape :  (27414, 2)\n",
            "val_df shape :  (6707, 2)\n",
            "test_df shape :  (5504, 2)\n"
          ]
        }
      ]
    },
    {
      "cell_type": "markdown",
      "metadata": {
        "id": "gGlfUu51SQ1c"
      },
      "source": [
        "# BERT: Data Preprocessing"
      ]
    },
    {
      "cell_type": "code",
      "metadata": {
        "id": "OFqwAgdEDMR8"
      },
      "source": [
        "class PaddingInputExample(object):\n",
        "      pass\n",
        "\n",
        "class InputExample(object):\n",
        "    \"\"\"A single training/test example for simple sequence classification.\"\"\"\n",
        "\n",
        "    def __init__(self, guid, text_a, text_b=None, label=None):\n",
        "        \n",
        "        \"\"\"Constructs a InputExample.\n",
        "    Args:\n",
        "      guid: Unique id for the example.\n",
        "      text_a: string. The untokenized text of the first sequence. For single\n",
        "        sequence tasks, only this sequence must be specified.\n",
        "      text_b: (Optional) string. The untokenized text of the second sequence.\n",
        "        Only must be specified for sequence pair tasks.\n",
        "      label: (Optional) string. The label of the example. This should be\n",
        "        specified for train and dev examples, but not for test examples.\n",
        "    \"\"\"\n",
        "        self.guid = guid\n",
        "        self.text_a = text_a\n",
        "        self.text_b = text_b\n",
        "        self.label = label"
      ],
      "execution_count": null,
      "outputs": []
    },
    {
      "cell_type": "code",
      "metadata": {
        "id": "Vegh-oReDMUw"
      },
      "source": [
        "train_InputExamples_1 = train_df.apply(lambda x: InputExample(guid=None,\n",
        "                                                                  text_a = x[DATA_COLUMN], \n",
        "                                                                  text_b = None, \n",
        "                                                                  label = x[LABEL_COLUMN]), axis = 1)"
      ],
      "execution_count": null,
      "outputs": []
    },
    {
      "cell_type": "code",
      "metadata": {
        "colab": {
          "base_uri": "https://localhost:8080/"
        },
        "id": "0Lwdle-FDMXj",
        "outputId": "cf2f8ad3-7671-4613-a4ce-2d6ebeea3876"
      },
      "source": [
        "train_InputExamples_1"
      ],
      "execution_count": null,
      "outputs": [
        {
          "output_type": "execute_result",
          "data": {
            "text/plain": [
              "0        <__main__.InputExample object at 0x7fd9919c7b10>\n",
              "1        <__main__.InputExample object at 0x7fd993a0ae50>\n",
              "2        <__main__.InputExample object at 0x7fd933d4dad0>\n",
              "3        <__main__.InputExample object at 0x7fd933d4dd90>\n",
              "4        <__main__.InputExample object at 0x7fd933d4dfd0>\n",
              "                               ...                       \n",
              "27409    <__main__.InputExample object at 0x7fd93346b890>\n",
              "27410    <__main__.InputExample object at 0x7fd93346b8d0>\n",
              "27411    <__main__.InputExample object at 0x7fd93346b910>\n",
              "27412    <__main__.InputExample object at 0x7fd93346b950>\n",
              "27413    <__main__.InputExample object at 0x7fd93346b990>\n",
              "Length: 27414, dtype: object"
            ]
          },
          "metadata": {},
          "execution_count": 56
        }
      ]
    },
    {
      "cell_type": "code",
      "metadata": {
        "colab": {
          "base_uri": "https://localhost:8080/"
        },
        "id": "splGqF_aDbjm",
        "outputId": "c25035f9-d89f-4bf0-85cc-d7f0656e35d2"
      },
      "source": [
        "print(\"Row 0 - guid of training set : \", train_InputExamples_1.iloc[0].guid)\n",
        "print(\"\\n__________\\nRow 0 - text_a of training set : \", train_InputExamples_1.iloc[0].text_a)\n",
        "print(\"\\n__________\\nRow 0 - text_b of training set : \", train_InputExamples_1.iloc[0].text_b)\n",
        "print(\"\\n__________\\nRow 0 - label of training set : \", train_InputExamples_1.iloc[0].label)"
      ],
      "execution_count": null,
      "outputs": [
        {
          "output_type": "stream",
          "name": "stdout",
          "text": [
            "Row 0 - guid of training set :  None\n",
            "\n",
            "__________\n",
            "Row 0 - text_a of training set :  In XXXX I put a significant down payment on an Acura XXXX form XXXX XXXX in Virginia XXXX with some financing help through Acura Finance Corp Now American Honda Finance Corp XXXX I made my monthly payments to American Honda Finance Corp for approximately 2 years before I was offered a lower interest rate on the loan from XXXX Bank in XXXX VA In XXXX XXXX XXXX Bank took over the loan and I began to make monthly payments to XXXX Bank up to XXXX XXXX XXXX when I made a significant payment to purchase the car outright yet never was given the title to the car Since that time my wife and I have spent hundreds of hours in the Bank and on the phone with various departments at the Bank the Honda Finance Corp the Federal Reserve and the Attorney General of XXXX and XXXX to get the title to my car all time taken away from XXXX our jobs costing us XXXX dollars As of today XXXX XXXX XXXX I still do not have the title to my car This is my families only car to get us to work groceries etc Unfortunately we were left with\n",
            "\n",
            "__________\n",
            "Row 0 - text_b of training set :  None\n",
            "\n",
            "__________\n",
            "Row 0 - label of training set :  1\n"
          ]
        }
      ]
    },
    {
      "cell_type": "code",
      "metadata": {
        "id": "5QGCTIhmDpoZ"
      },
      "source": [
        "val_InputExamples_1 = val_df.apply(lambda x: InputExample(guid=None, \n",
        "                                                                   text_a = x[DATA_COLUMN], \n",
        "                                                                   text_b = None, \n",
        "                                                                   label = x[LABEL_COLUMN]), axis = 1)"
      ],
      "execution_count": null,
      "outputs": []
    },
    {
      "cell_type": "code",
      "metadata": {
        "id": "6PgnWouab3ZG"
      },
      "source": [
        "test_InputExamples_1 = test_df.apply(lambda x: InputExample(guid=None, \n",
        "                                                                   text_a = x[DATA_COLUMN], \n",
        "                                                                   text_b = None, \n",
        "                                                                   label = x[LABEL_COLUMN]), axis = 1)"
      ],
      "execution_count": null,
      "outputs": []
    },
    {
      "cell_type": "markdown",
      "metadata": {
        "id": "lUbc22wTTvkQ"
      },
      "source": [
        "# BERT: Loading the pre-trained model"
      ]
    },
    {
      "cell_type": "code",
      "metadata": {
        "id": "BO7PECyJRh37"
      },
      "source": [
        "import official.nlp.bert.tokenization as tokenization"
      ],
      "execution_count": null,
      "outputs": []
    },
    {
      "cell_type": "code",
      "metadata": {
        "id": "EWFFUaGwDyVv",
        "colab": {
          "base_uri": "https://localhost:8080/"
        },
        "outputId": "7ee2503f-f2ff-4b38-f20e-c7277dc4d004"
      },
      "source": [
        "# ##We are creatung the tokens to gorm the vocabulary which inturn is ued to represent the words\n",
        "# #BERT: Loading the pre-trained model\n",
        "# This is a path to an uncased (all lowercase) version of BERT\n",
        "BERT_MODEL_HUB = \"https://tfhub.dev/google/bert_uncased_L-12_H-768_A-12/1\"\n",
        "\n",
        "def create_tokenizer_from_hub_module():\n",
        "  \"\"\"Get the vocab file and casing info from the Hub module.\"\"\"\n",
        "  with tf.Graph().as_default():\n",
        "    bert_module = hub.Module(BERT_MODEL_HUB)\n",
        "    tokenization_info = bert_module(signature=\"tokenization_info\", as_dict=True)\n",
        "    with tf.compat.v1.Session() as sess:\n",
        "      vocab_file, do_lower_case = sess.run([tokenization_info[\"vocab_file\"],\n",
        "                                            tokenization_info[\"do_lower_case\"]])\n",
        "      \n",
        "  return tokenization.FullTokenizer(\n",
        "      vocab_file=vocab_file, do_lower_case=do_lower_case)\n",
        "\n",
        "tokenizer = create_tokenizer_from_hub_module()"
      ],
      "execution_count": null,
      "outputs": [
        {
          "output_type": "stream",
          "name": "stdout",
          "text": [
            "INFO:tensorflow:Saver not created because there are no variables in the graph to restore\n"
          ]
        },
        {
          "output_type": "stream",
          "name": "stderr",
          "text": [
            "INFO:tensorflow:Saver not created because there are no variables in the graph to restore\n"
          ]
        }
      ]
    },
    {
      "cell_type": "code",
      "metadata": {
        "colab": {
          "base_uri": "https://localhost:8080/"
        },
        "id": "dttRQBafVA1q",
        "outputId": "603c7f3f-1923-4889-dca4-10b768d95b0d"
      },
      "source": [
        "len(tokenizer.vocab.keys())"
      ],
      "execution_count": null,
      "outputs": [
        {
          "output_type": "execute_result",
          "data": {
            "text/plain": [
              "30522"
            ]
          },
          "metadata": {},
          "execution_count": 62
        }
      ]
    },
    {
      "cell_type": "code",
      "metadata": {
        "id": "Do9OnHpRGJqp"
      },
      "source": [
        "#Defining Input features \n",
        "class InputFeatures(object):\n",
        "  \"\"\"A single set of features of data.\"\"\"\n",
        "\n",
        "  def __init__(self,\n",
        "               input_ids,\n",
        "               input_mask,\n",
        "               segment_ids,\n",
        "               label_id,\n",
        "               is_real_example=True):\n",
        "    self.input_ids = input_ids\n",
        "    self.input_mask = input_mask\n",
        "    self.segment_ids = segment_ids\n",
        "    self.label_id = label_id\n",
        "    self.is_real_example = is_real_example"
      ],
      "execution_count": null,
      "outputs": []
    },
    {
      "cell_type": "code",
      "metadata": {
        "id": "LMCVuhwOVwE3"
      },
      "source": [
        "def convert_single_example(tokenizer, example, max_seq_length=256):\n",
        "    \"\"\"Converts a single `InputExample` into a single `InputFeatures`.\"\"\"\n",
        "\n",
        "    if isinstance(example, PaddingInputExample):\n",
        "        input_ids = [0] * max_seq_length\n",
        "        input_mask = [0] * max_seq_length\n",
        "        segment_ids = [0] * max_seq_length\n",
        "        label = 0\n",
        "        return input_ids, input_mask, segment_ids, label\n",
        "\n",
        "    tokens_a = tokenizer.tokenize(example.text_a)\n",
        "    if len(tokens_a) > max_seq_length - 2:\n",
        "        tokens_a = tokens_a[0 : (max_seq_length - 2)]\n",
        "\n",
        "    tokens = []\n",
        "    segment_ids = []\n",
        "    tokens.append(\"[CLS]\")\n",
        "    segment_ids.append(0)\n",
        "    for token in tokens_a:\n",
        "        tokens.append(token)\n",
        "        segment_ids.append(0)\n",
        "    tokens.append(\"[SEP]\")\n",
        "    segment_ids.append(0)\n",
        "\n",
        "    input_ids = tokenizer.convert_tokens_to_ids(tokens)\n",
        "\n",
        "    # The mask has 1 for real tokens and 0 for padding tokens. Only real\n",
        "    # tokens are attended to.\n",
        "    input_mask = [1] * len(input_ids)\n",
        "\n",
        "    # Zero-pad up to the sequence length.\n",
        "    while len(input_ids) < max_seq_length:\n",
        "        input_ids.append(0)\n",
        "        input_mask.append(0)\n",
        "        segment_ids.append(0)\n",
        "\n",
        "    assert len(input_ids) == max_seq_length\n",
        "    assert len(input_mask) == max_seq_length\n",
        "    assert len(segment_ids) == max_seq_length\n",
        "\n",
        "    return input_ids, input_mask, segment_ids, example.label"
      ],
      "execution_count": null,
      "outputs": []
    },
    {
      "cell_type": "code",
      "metadata": {
        "id": "rBbW4pfSKjfR"
      },
      "source": [
        "def convert_examples_to_features(tokenizer, examples, max_seq_length=200):\n",
        "    \"\"\"Convert a set of `InputExample`s to a list of `InputFeatures`.\"\"\"\n",
        "\n",
        "    input_ids, input_masks, segment_ids, labels,features = [], [], [], [],[]\n",
        "    for example in tqdm.tqdm(examples, desc=\"Converting examples to features\"):\n",
        "        input_id, input_mask, segment_id, label = convert_single_example(\n",
        "            tokenizer, example, max_seq_length\n",
        "        )\n",
        "\n",
        "        input_ids.append(input_id)\n",
        "        input_masks.append(input_mask)\n",
        "        segment_ids.append(segment_id)\n",
        "        labels.append(label)\n",
        "\n",
        "        feature = InputFeatures(input_ids=input_id,\n",
        "        input_mask=input_mask,\n",
        "        segment_ids=segment_id,\n",
        "        label_id=label,\n",
        "        is_real_example=True)\n",
        "\n",
        "        features.append(feature)\n",
        "    # return(\n",
        "    #     np.array(input_ids),\n",
        "    #     np.array(input_masks),\n",
        "    #     np.array(segment_ids),\n",
        "    #     np.array(labels).reshape(-1, 1),\n",
        "    # )\n",
        "    return features"
      ],
      "execution_count": null,
      "outputs": []
    },
    {
      "cell_type": "code",
      "metadata": {
        "id": "p9vdlwHPV9Nk"
      },
      "source": [
        "import tqdm\n",
        "MAX_SEQ_LENGTH = 200"
      ],
      "execution_count": null,
      "outputs": []
    },
    {
      "cell_type": "code",
      "metadata": {
        "colab": {
          "base_uri": "https://localhost:8080/"
        },
        "id": "WSjQpmcAGJ0t",
        "outputId": "80b4198d-ef9f-462d-fdc5-4949be14fb8c"
      },
      "source": [
        "# Convert our train and validation features to InputFeatures that BERT understands.\n",
        "\n",
        "train_features = convert_examples_to_features(tokenizer, train_InputExamples_1, MAX_SEQ_LENGTH)\n",
        "\n",
        "val_features = convert_examples_to_features(tokenizer, val_InputExamples_1, MAX_SEQ_LENGTH)\n",
        "\n",
        "test_features = convert_examples_to_features(tokenizer, test_InputExamples_1, MAX_SEQ_LENGTH)"
      ],
      "execution_count": null,
      "outputs": [
        {
          "output_type": "stream",
          "name": "stderr",
          "text": [
            "Converting examples to features: 100%|██████████| 27414/27414 [01:29<00:00, 304.66it/s]\n",
            "Converting examples to features: 100%|██████████| 6707/6707 [00:21<00:00, 311.08it/s]\n",
            "Converting examples to features: 100%|██████████| 5504/5504 [00:17<00:00, 314.32it/s]\n"
          ]
        }
      ]
    },
    {
      "cell_type": "code",
      "metadata": {
        "colab": {
          "base_uri": "https://localhost:8080/"
        },
        "id": "aDzWg7l1oXi9",
        "outputId": "3b5588db-9b09-4d72-c295-6183c9ad9536"
      },
      "source": [
        "print(\"Sentence : \", train_InputExamples_1.iloc[0].text_a)\n",
        "print(\"-\"*30)\n",
        "print(\"Tokens : \", tokenizer.tokenize(train_InputExamples_1.iloc[0].text_a))\n",
        "print(\"-\"*30)\n",
        "print(\"Input IDs : \", train_features[0].input_ids)\n",
        "print(\"-\"*30)\n",
        "print(\"Input Masks : \", train_features[0].input_mask)\n",
        "print(\"-\"*30)\n",
        "print(\"Segment IDs : \", train_features[0].segment_ids)"
      ],
      "execution_count": null,
      "outputs": [
        {
          "output_type": "stream",
          "name": "stdout",
          "text": [
            "Sentence :  In XXXX I put a significant down payment on an Acura XXXX form XXXX XXXX in Virginia XXXX with some financing help through Acura Finance Corp Now American Honda Finance Corp XXXX I made my monthly payments to American Honda Finance Corp for approximately 2 years before I was offered a lower interest rate on the loan from XXXX Bank in XXXX VA In XXXX XXXX XXXX Bank took over the loan and I began to make monthly payments to XXXX Bank up to XXXX XXXX XXXX when I made a significant payment to purchase the car outright yet never was given the title to the car Since that time my wife and I have spent hundreds of hours in the Bank and on the phone with various departments at the Bank the Honda Finance Corp the Federal Reserve and the Attorney General of XXXX and XXXX to get the title to my car all time taken away from XXXX our jobs costing us XXXX dollars As of today XXXX XXXX XXXX I still do not have the title to my car This is my families only car to get us to work groceries etc Unfortunately we were left with\n",
            "------------------------------\n",
            "Tokens :  ['in', 'xx', '##xx', 'i', 'put', 'a', 'significant', 'down', 'payment', 'on', 'an', 'ac', '##ura', 'xx', '##xx', 'form', 'xx', '##xx', 'xx', '##xx', 'in', 'virginia', 'xx', '##xx', 'with', 'some', 'financing', 'help', 'through', 'ac', '##ura', 'finance', 'corp', 'now', 'american', 'honda', 'finance', 'corp', 'xx', '##xx', 'i', 'made', 'my', 'monthly', 'payments', 'to', 'american', 'honda', 'finance', 'corp', 'for', 'approximately', '2', 'years', 'before', 'i', 'was', 'offered', 'a', 'lower', 'interest', 'rate', 'on', 'the', 'loan', 'from', 'xx', '##xx', 'bank', 'in', 'xx', '##xx', 'va', 'in', 'xx', '##xx', 'xx', '##xx', 'xx', '##xx', 'bank', 'took', 'over', 'the', 'loan', 'and', 'i', 'began', 'to', 'make', 'monthly', 'payments', 'to', 'xx', '##xx', 'bank', 'up', 'to', 'xx', '##xx', 'xx', '##xx', 'xx', '##xx', 'when', 'i', 'made', 'a', 'significant', 'payment', 'to', 'purchase', 'the', 'car', 'outright', 'yet', 'never', 'was', 'given', 'the', 'title', 'to', 'the', 'car', 'since', 'that', 'time', 'my', 'wife', 'and', 'i', 'have', 'spent', 'hundreds', 'of', 'hours', 'in', 'the', 'bank', 'and', 'on', 'the', 'phone', 'with', 'various', 'departments', 'at', 'the', 'bank', 'the', 'honda', 'finance', 'corp', 'the', 'federal', 'reserve', 'and', 'the', 'attorney', 'general', 'of', 'xx', '##xx', 'and', 'xx', '##xx', 'to', 'get', 'the', 'title', 'to', 'my', 'car', 'all', 'time', 'taken', 'away', 'from', 'xx', '##xx', 'our', 'jobs', 'costing', 'us', 'xx', '##xx', 'dollars', 'as', 'of', 'today', 'xx', '##xx', 'xx', '##xx', 'xx', '##xx', 'i', 'still', 'do', 'not', 'have', 'the', 'title', 'to', 'my', 'car', 'this', 'is', 'my', 'families', 'only', 'car', 'to', 'get', 'us', 'to', 'work', 'groceries', 'etc', 'unfortunately', 'we', 'were', 'left', 'with']\n",
            "------------------------------\n",
            "Input IDs :  [101, 1999, 22038, 20348, 1045, 2404, 1037, 3278, 2091, 7909, 2006, 2019, 9353, 4648, 22038, 20348, 2433, 22038, 20348, 22038, 20348, 1999, 3448, 22038, 20348, 2007, 2070, 12135, 2393, 2083, 9353, 4648, 5446, 13058, 2085, 2137, 11990, 5446, 13058, 22038, 20348, 1045, 2081, 2026, 7058, 10504, 2000, 2137, 11990, 5446, 13058, 2005, 3155, 1016, 2086, 2077, 1045, 2001, 3253, 1037, 2896, 3037, 3446, 2006, 1996, 5414, 2013, 22038, 20348, 2924, 1999, 22038, 20348, 12436, 1999, 22038, 20348, 22038, 20348, 22038, 20348, 2924, 2165, 2058, 1996, 5414, 1998, 1045, 2211, 2000, 2191, 7058, 10504, 2000, 22038, 20348, 2924, 2039, 2000, 22038, 20348, 22038, 20348, 22038, 20348, 2043, 1045, 2081, 1037, 3278, 7909, 2000, 5309, 1996, 2482, 13848, 2664, 2196, 2001, 2445, 1996, 2516, 2000, 1996, 2482, 2144, 2008, 2051, 2026, 2564, 1998, 1045, 2031, 2985, 5606, 1997, 2847, 1999, 1996, 2924, 1998, 2006, 1996, 3042, 2007, 2536, 7640, 2012, 1996, 2924, 1996, 11990, 5446, 13058, 1996, 2976, 3914, 1998, 1996, 4905, 2236, 1997, 22038, 20348, 1998, 22038, 20348, 2000, 2131, 1996, 2516, 2000, 2026, 2482, 2035, 2051, 2579, 2185, 2013, 22038, 20348, 2256, 5841, 22173, 2149, 22038, 20348, 6363, 2004, 1997, 2651, 22038, 20348, 22038, 20348, 22038, 20348, 1045, 2145, 102]\n",
            "------------------------------\n",
            "Input Masks :  [1, 1, 1, 1, 1, 1, 1, 1, 1, 1, 1, 1, 1, 1, 1, 1, 1, 1, 1, 1, 1, 1, 1, 1, 1, 1, 1, 1, 1, 1, 1, 1, 1, 1, 1, 1, 1, 1, 1, 1, 1, 1, 1, 1, 1, 1, 1, 1, 1, 1, 1, 1, 1, 1, 1, 1, 1, 1, 1, 1, 1, 1, 1, 1, 1, 1, 1, 1, 1, 1, 1, 1, 1, 1, 1, 1, 1, 1, 1, 1, 1, 1, 1, 1, 1, 1, 1, 1, 1, 1, 1, 1, 1, 1, 1, 1, 1, 1, 1, 1, 1, 1, 1, 1, 1, 1, 1, 1, 1, 1, 1, 1, 1, 1, 1, 1, 1, 1, 1, 1, 1, 1, 1, 1, 1, 1, 1, 1, 1, 1, 1, 1, 1, 1, 1, 1, 1, 1, 1, 1, 1, 1, 1, 1, 1, 1, 1, 1, 1, 1, 1, 1, 1, 1, 1, 1, 1, 1, 1, 1, 1, 1, 1, 1, 1, 1, 1, 1, 1, 1, 1, 1, 1, 1, 1, 1, 1, 1, 1, 1, 1, 1, 1, 1, 1, 1, 1, 1, 1, 1, 1, 1, 1, 1, 1, 1, 1, 1, 1, 1]\n",
            "------------------------------\n",
            "Segment IDs :  [0, 0, 0, 0, 0, 0, 0, 0, 0, 0, 0, 0, 0, 0, 0, 0, 0, 0, 0, 0, 0, 0, 0, 0, 0, 0, 0, 0, 0, 0, 0, 0, 0, 0, 0, 0, 0, 0, 0, 0, 0, 0, 0, 0, 0, 0, 0, 0, 0, 0, 0, 0, 0, 0, 0, 0, 0, 0, 0, 0, 0, 0, 0, 0, 0, 0, 0, 0, 0, 0, 0, 0, 0, 0, 0, 0, 0, 0, 0, 0, 0, 0, 0, 0, 0, 0, 0, 0, 0, 0, 0, 0, 0, 0, 0, 0, 0, 0, 0, 0, 0, 0, 0, 0, 0, 0, 0, 0, 0, 0, 0, 0, 0, 0, 0, 0, 0, 0, 0, 0, 0, 0, 0, 0, 0, 0, 0, 0, 0, 0, 0, 0, 0, 0, 0, 0, 0, 0, 0, 0, 0, 0, 0, 0, 0, 0, 0, 0, 0, 0, 0, 0, 0, 0, 0, 0, 0, 0, 0, 0, 0, 0, 0, 0, 0, 0, 0, 0, 0, 0, 0, 0, 0, 0, 0, 0, 0, 0, 0, 0, 0, 0, 0, 0, 0, 0, 0, 0, 0, 0, 0, 0, 0, 0, 0, 0, 0, 0, 0, 0]\n"
          ]
        }
      ]
    },
    {
      "cell_type": "code",
      "metadata": {
        "id": "TJ943C4bWMK2"
      },
      "source": [
        "def create_model(is_predicting, input_ids, input_mask, segment_ids, labels,\n",
        "                 num_labels):\n",
        "  \n",
        "  bert_module = hub.Module(\n",
        "      BERT_MODEL_HUB,\n",
        "      trainable=True)\n",
        "  bert_inputs = dict(\n",
        "      input_ids=input_ids,\n",
        "      input_mask=input_mask,\n",
        "      segment_ids=segment_ids)\n",
        "  bert_outputs = bert_module(\n",
        "      inputs=bert_inputs,\n",
        "      signature=\"tokens\",\n",
        "      as_dict=True)\n",
        "\n",
        "  # Use \"pooled_output\" for classification tasks on an entire sentence.\n",
        "  # Use \"sequence_outputs\" for token-level output.\n",
        "  output_layer = bert_outputs[\"pooled_output\"]\n",
        "  # with tf.Session() as sess:\n",
        "  output_layer1 = bert_outputs[\"pooled_output\"]\n",
        "  # output_layer1 = 999\n",
        "  hidden_size = output_layer.shape[-1]\n",
        "\n",
        "  # Create our own layer to tune for politeness data.\n",
        "  output_weights = tf.get_variable(\n",
        "      \"output_weights\", [num_labels, hidden_size],\n",
        "      initializer=tf.truncated_normal_initializer(stddev=0.02))\n",
        "\n",
        "  output_bias = tf.get_variable(\n",
        "      \"output_bias\", [num_labels], initializer=tf.zeros_initializer())\n",
        "\n",
        "  with tf.variable_scope(\"loss\"):\n",
        "\n",
        "    # Dropout helps prevent overfitting\n",
        "    output_layer = tf.nn.dropout(output_layer, keep_prob=0.8)\n",
        "\n",
        "    logits = tf.matmul(output_layer, output_weights, transpose_b=True)\n",
        "    logits = tf.nn.bias_add(logits, output_bias)\n",
        "    log_probs = tf.nn.log_softmax(logits, axis=-1)\n",
        "\n",
        "    # Convert labels into one-hot encoding\n",
        "    one_hot_labels = tf.one_hot(labels, depth=num_labels, dtype=tf.float32)\n",
        "\n",
        "    predicted_labels = tf.squeeze(tf.argmax(log_probs, axis=-1, output_type=tf.int32))\n",
        "    # If we're predicting, we want predicted labels and the probabiltiies.\n",
        "    if is_predicting:\n",
        "      return (predicted_labels, log_probs, output_layer1)\n",
        "\n",
        "    # If we're train/eval, compute loss between predicted and actual label\n",
        "    per_example_loss = -tf.reduce_sum(one_hot_labels * log_probs, axis=-1)\n",
        "    loss = tf.reduce_mean(per_example_loss)\n",
        "    return (loss, predicted_labels, log_probs)"
      ],
      "execution_count": null,
      "outputs": []
    },
    {
      "cell_type": "code",
      "metadata": {
        "id": "97j2dxcMWQXu"
      },
      "source": [
        "def model_fn_builder(num_labels, learning_rate, num_train_steps,\n",
        "                     num_warmup_steps):\n",
        "  \"\"\"Returns `model_fn` closure for TPUEstimator.\"\"\"\n",
        "  def model_fn(features, labels, mode, params):  # pylint: disable=unused-argument\n",
        "    \"\"\"The `model_fn` for TPUEstimator.\"\"\"\n",
        "\n",
        "    input_ids = features[\"input_ids\"]\n",
        "    input_mask = features[\"input_mask\"]\n",
        "    segment_ids = features[\"segment_ids\"]\n",
        "    label_ids = features[\"label_ids\"]\n",
        "\n",
        "    is_predicting = (mode == tf.estimator.ModeKeys.PREDICT)\n",
        "    \n",
        "    # TRAIN and EVAL\n",
        "    if not is_predicting:\n",
        "\n",
        "      (loss, predicted_labels, log_probs) = create_model(\n",
        "        is_predicting, input_ids, input_mask, segment_ids, label_ids, num_labels)\n",
        "\n",
        "      train_op = bert.optimization.create_optimizer(\n",
        "          loss, learning_rate, num_train_steps, num_warmup_steps, use_tpu=False)\n",
        "\n",
        "      # Calculate evaluation metrics. \n",
        "      def metric_fn(label_ids, predicted_labels):\n",
        "        accuracy = tf.metrics.accuracy(label_ids, predicted_labels)\n",
        "        true_pos = tf.metrics.true_positives(\n",
        "            label_ids,\n",
        "            predicted_labels)\n",
        "        true_neg = tf.metrics.true_negatives(\n",
        "            label_ids,\n",
        "            predicted_labels)   \n",
        "        false_pos = tf.metrics.false_positives(\n",
        "            label_ids,\n",
        "            predicted_labels)  \n",
        "        false_neg = tf.metrics.false_negatives(\n",
        "            label_ids,\n",
        "            predicted_labels)\n",
        "        \n",
        "        return {\n",
        "            \"eval_accuracy\": accuracy,\n",
        "            \"true_positives\": true_pos,\n",
        "            \"true_negatives\": true_neg,\n",
        "            \"false_positives\": false_pos,\n",
        "            \"false_negatives\": false_neg,\n",
        "            }\n",
        "\n",
        "      eval_metrics = metric_fn(label_ids, predicted_labels)\n",
        "\n",
        "      if mode == tf.estimator.ModeKeys.TRAIN:\n",
        "        return tf.estimator.EstimatorSpec(mode=mode,\n",
        "          loss=loss,\n",
        "          train_op=train_op)\n",
        "      else:\n",
        "          return tf.estimator.EstimatorSpec(mode=mode,\n",
        "            loss=loss,\n",
        "            eval_metric_ops=eval_metrics)\n",
        "    else:\n",
        "      (predicted_labels, log_probs, output_layer) = create_model(\n",
        "        is_predicting, input_ids, input_mask, segment_ids, label_ids, num_labels)\n",
        "      predictions = {\n",
        "          'probabilities': log_probs,\n",
        "          'labels': predicted_labels,\n",
        "          'pooled_output': output_layer\n",
        "      }\n",
        "      return tf.estimator.EstimatorSpec(mode, predictions=predictions)\n",
        "\n",
        "  # Return the actual model function in the closure\n",
        "  return model_fn"
      ],
      "execution_count": null,
      "outputs": []
    },
    {
      "cell_type": "code",
      "metadata": {
        "id": "krNx-z91Izx4"
      },
      "source": [
        "BATCH_SIZE = 16\n",
        "LEARNING_RATE = 2e-5\n",
        "NUM_TRAIN_EPOCHS = 1.0\n",
        "# Warmup is a period of time where the learning rate is small and gradually increases--usually helps training.\n",
        "WARMUP_PROPORTION = 0.1\n",
        "# Model configs\n",
        "SAVE_CHECKPOINTS_STEPS = 300\n",
        "SAVE_SUMMARY_STEPS = 100\n",
        "\n",
        "# # Compute train and warmup steps from batch size\n",
        "num_train_steps = int(len(train_features) / BATCH_SIZE * NUM_TRAIN_EPOCHS)\n",
        "num_warmup_steps = int(num_train_steps * WARMUP_PROPORTION)\n",
        "\n",
        "# Specify output directory and number of checkpoint steps to save\n",
        "run_config = tf.estimator.RunConfig(\n",
        "    model_dir=OUTPUT_DIR,\n",
        "    save_summary_steps=SAVE_SUMMARY_STEPS,\n",
        "    save_checkpoints_steps=SAVE_CHECKPOINTS_STEPS)\n",
        "\n",
        "# Specify output directory and number of checkpoint steps to save\n",
        "run_config = tf.estimator.RunConfig(\n",
        "    model_dir=OUTPUT_DIR,\n",
        "    save_summary_steps=SAVE_SUMMARY_STEPS,\n",
        "    save_checkpoints_steps=SAVE_CHECKPOINTS_STEPS)"
      ],
      "execution_count": null,
      "outputs": []
    },
    {
      "cell_type": "code",
      "metadata": {
        "colab": {
          "base_uri": "https://localhost:8080/"
        },
        "id": "TVqAeS5MI39i",
        "outputId": "0cae539a-69e9-47ce-f51d-d8c8eed35ab7"
      },
      "source": [
        "num_train_steps, len(label_list)"
      ],
      "execution_count": null,
      "outputs": [
        {
          "output_type": "execute_result",
          "data": {
            "text/plain": [
              "(1713, 10)"
            ]
          },
          "metadata": {},
          "execution_count": 72
        }
      ]
    },
    {
      "cell_type": "code",
      "metadata": {
        "id": "umpZ4k9gWdpu",
        "colab": {
          "base_uri": "https://localhost:8080/"
        },
        "outputId": "2fa58fee-df76-48a2-c7f6-744c2c907962"
      },
      "source": [
        "#Initializing the model and the estimator   <USE THIS BLOCK IF YOU ARE TRAINING FOR THE FIRST TIME>\n",
        "model_fn = model_fn_builder(\n",
        "  num_labels=len(label_list),\n",
        "  learning_rate=LEARNING_RATE,\n",
        "  num_train_steps=num_train_steps,\n",
        "  num_warmup_steps=num_warmup_steps)\n",
        "\n",
        "estimator = tf.estimator.Estimator(\n",
        "  model_fn=model_fn,\n",
        "  config=run_config,\n",
        "  params={\"batch_size\": BATCH_SIZE})"
      ],
      "execution_count": null,
      "outputs": [
        {
          "output_type": "stream",
          "name": "stdout",
          "text": [
            "INFO:tensorflow:Using config: {'_model_dir': '/content/drive/MyDrive/MS_Final_Project/Model_checkpoints_Cnt3', '_tf_random_seed': None, '_save_summary_steps': 100, '_save_checkpoints_steps': 300, '_save_checkpoints_secs': None, '_session_config': allow_soft_placement: true\n",
            "graph_options {\n",
            "  rewrite_options {\n",
            "    meta_optimizer_iterations: ONE\n",
            "  }\n",
            "}\n",
            ", '_keep_checkpoint_max': 5, '_keep_checkpoint_every_n_hours': 10000, '_log_step_count_steps': 100, '_train_distribute': None, '_device_fn': None, '_protocol': None, '_eval_distribute': None, '_experimental_distribute': None, '_experimental_max_worker_delay_secs': None, '_session_creation_timeout_secs': 7200, '_checkpoint_save_graph_def': True, '_service': None, '_cluster_spec': ClusterSpec({}), '_task_type': 'worker', '_task_id': 0, '_global_id_in_cluster': 0, '_master': '', '_evaluation_master': '', '_is_chief': True, '_num_ps_replicas': 0, '_num_worker_replicas': 1}\n"
          ]
        },
        {
          "output_type": "stream",
          "name": "stderr",
          "text": [
            "INFO:tensorflow:Using config: {'_model_dir': '/content/drive/MyDrive/MS_Final_Project/Model_checkpoints_Cnt3', '_tf_random_seed': None, '_save_summary_steps': 100, '_save_checkpoints_steps': 300, '_save_checkpoints_secs': None, '_session_config': allow_soft_placement: true\n",
            "graph_options {\n",
            "  rewrite_options {\n",
            "    meta_optimizer_iterations: ONE\n",
            "  }\n",
            "}\n",
            ", '_keep_checkpoint_max': 5, '_keep_checkpoint_every_n_hours': 10000, '_log_step_count_steps': 100, '_train_distribute': None, '_device_fn': None, '_protocol': None, '_eval_distribute': None, '_experimental_distribute': None, '_experimental_max_worker_delay_secs': None, '_session_creation_timeout_secs': 7200, '_checkpoint_save_graph_def': True, '_service': None, '_cluster_spec': ClusterSpec({}), '_task_type': 'worker', '_task_id': 0, '_global_id_in_cluster': 0, '_master': '', '_evaluation_master': '', '_is_chief': True, '_num_ps_replicas': 0, '_num_worker_replicas': 1}\n"
          ]
        }
      ]
    },
    {
      "cell_type": "code",
      "metadata": {
        "id": "oSmYWE9WWwEG"
      },
      "source": [
        "def input_fn_builder(features, seq_length, is_training, drop_remainder):\n",
        "  \"\"\"Creates an `input_fn` closure to be passed to TPUEstimator.\"\"\"\n",
        "\n",
        "  all_input_ids = []\n",
        "  all_input_mask = []\n",
        "  all_segment_ids = []\n",
        "  all_label_ids = []\n",
        "\n",
        "  for feature in features:\n",
        "    all_input_ids.append(feature.input_ids)\n",
        "    all_input_mask.append(feature.input_mask)\n",
        "    all_segment_ids.append(feature.segment_ids)\n",
        "    all_label_ids.append(feature.label_id)\n",
        "\n",
        "  def input_fn(params):\n",
        "    \"\"\"The actual input function.\"\"\"\n",
        "    batch_size = params[\"batch_size\"]\n",
        "\n",
        "    num_examples = len(features)\n",
        "\n",
        "    # This is for demo purposes and does NOT scale to large data sets. We do\n",
        "    # not use Dataset.from_generator() because that uses tf.py_func which is\n",
        "    # not TPU compatible. The right way to load data is with TFRecordReader.\n",
        "    d = tf.data.Dataset.from_tensor_slices({\n",
        "        \"input_ids\":\n",
        "            tf.constant(\n",
        "                all_input_ids, shape=[num_examples, seq_length],\n",
        "                dtype=tf.int32),\n",
        "        \"input_mask\":\n",
        "            tf.constant(\n",
        "                all_input_mask,\n",
        "                shape=[num_examples, seq_length],\n",
        "                dtype=tf.int32),\n",
        "        \"segment_ids\":\n",
        "            tf.constant(\n",
        "                all_segment_ids,\n",
        "                shape=[num_examples, seq_length],\n",
        "                dtype=tf.int32),\n",
        "        \"label_ids\":\n",
        "            tf.constant(all_label_ids, shape=[num_examples], dtype=tf.int32),\n",
        "    })\n",
        "\n",
        "    if is_training:\n",
        "      d = d.repeat()\n",
        "      d = d.shuffle(buffer_size=100)\n",
        "\n",
        "    d = d.batch(batch_size=batch_size, drop_remainder=drop_remainder)\n",
        "    return d\n",
        "\n",
        "  return input_fn"
      ],
      "execution_count": null,
      "outputs": []
    },
    {
      "cell_type": "code",
      "metadata": {
        "id": "AHa51RE7I6Az"
      },
      "source": [
        "# Create an input function for training. drop_remainder = True for using TPUs.\n",
        "train_input_fn = input_fn_builder(\n",
        "    features=train_features,\n",
        "    seq_length=MAX_SEQ_LENGTH,\n",
        "    is_training=True,\n",
        "    drop_remainder=False)\n",
        "\n",
        "# Create an input function for validating. drop_remainder = True for using TPUs.\n",
        "val_input_fn = input_fn_builder(\n",
        "    features=val_features,\n",
        "    seq_length=MAX_SEQ_LENGTH,\n",
        "    is_training=False,\n",
        "    drop_remainder=False)"
      ],
      "execution_count": null,
      "outputs": []
    },
    {
      "cell_type": "code",
      "metadata": {
        "id": "mI0OWHspW64E"
      },
      "source": [
        "import datetime"
      ],
      "execution_count": null,
      "outputs": []
    },
    {
      "cell_type": "code",
      "metadata": {
        "id": "WSrrERU_W67U",
        "colab": {
          "base_uri": "https://localhost:8080/"
        },
        "outputId": "90b4896a-f276-445e-f4d2-83239112fba2"
      },
      "source": [
        "import tensorflow.compat.v1 as tf\n",
        "tf.disable_v2_behavior()"
      ],
      "execution_count": null,
      "outputs": [
        {
          "output_type": "stream",
          "name": "stdout",
          "text": [
            "WARNING:tensorflow:From /usr/local/lib/python3.7/dist-packages/tensorflow/python/compat/v2_compat.py:101: disable_resource_variables (from tensorflow.python.ops.variable_scope) is deprecated and will be removed in a future version.\n",
            "Instructions for updating:\n",
            "non-resource variables are not supported in the long term\n"
          ]
        },
        {
          "output_type": "stream",
          "name": "stderr",
          "text": [
            "WARNING:tensorflow:From /usr/local/lib/python3.7/dist-packages/tensorflow/python/compat/v2_compat.py:101: disable_resource_variables (from tensorflow.python.ops.variable_scope) is deprecated and will be removed in a future version.\n",
            "Instructions for updating:\n",
            "non-resource variables are not supported in the long term\n"
          ]
        }
      ]
    },
    {
      "cell_type": "code",
      "metadata": {
        "colab": {
          "base_uri": "https://localhost:8080/"
        },
        "id": "TvQ61igDneAs",
        "outputId": "74548a89-9904-4181-f9dd-a8003b2d00a5"
      },
      "source": [
        "print(f'Beginning Training!')\n",
        "#current_time = datetime.time()\n",
        "estimator.train(input_fn=train_input_fn, max_steps=num_train_steps)\n",
        "#print(\"Training took time \", datetime.now() - current_time)"
      ],
      "execution_count": null,
      "outputs": [
        {
          "output_type": "stream",
          "name": "stdout",
          "text": [
            "Beginning Training!\n",
            "WARNING:tensorflow:From /usr/local/lib/python3.7/dist-packages/tensorflow/python/training/training_util.py:236: Variable.initialized_value (from tensorflow.python.ops.variables) is deprecated and will be removed in a future version.\n",
            "Instructions for updating:\n",
            "Use Variable.read_value. Variables in 2.X are initialized automatically both in eager and graph (inside tf.defun) contexts.\n"
          ]
        },
        {
          "output_type": "stream",
          "name": "stderr",
          "text": [
            "WARNING:tensorflow:From /usr/local/lib/python3.7/dist-packages/tensorflow/python/training/training_util.py:236: Variable.initialized_value (from tensorflow.python.ops.variables) is deprecated and will be removed in a future version.\n",
            "Instructions for updating:\n",
            "Use Variable.read_value. Variables in 2.X are initialized automatically both in eager and graph (inside tf.defun) contexts.\n"
          ]
        },
        {
          "output_type": "stream",
          "name": "stdout",
          "text": [
            "INFO:tensorflow:Calling model_fn.\n"
          ]
        },
        {
          "output_type": "stream",
          "name": "stderr",
          "text": [
            "INFO:tensorflow:Calling model_fn.\n"
          ]
        },
        {
          "output_type": "stream",
          "name": "stdout",
          "text": [
            "INFO:tensorflow:Saver not created because there are no variables in the graph to restore\n"
          ]
        },
        {
          "output_type": "stream",
          "name": "stderr",
          "text": [
            "INFO:tensorflow:Saver not created because there are no variables in the graph to restore\n"
          ]
        },
        {
          "output_type": "stream",
          "name": "stdout",
          "text": [
            "WARNING:tensorflow:From /usr/local/lib/python3.7/dist-packages/tensorflow/python/util/dispatch.py:206: calling dropout (from tensorflow.python.ops.nn_ops) with keep_prob is deprecated and will be removed in a future version.\n",
            "Instructions for updating:\n",
            "Please use `rate` instead of `keep_prob`. Rate should be set to `rate = 1 - keep_prob`.\n"
          ]
        },
        {
          "output_type": "stream",
          "name": "stderr",
          "text": [
            "WARNING:tensorflow:From /usr/local/lib/python3.7/dist-packages/tensorflow/python/util/dispatch.py:206: calling dropout (from tensorflow.python.ops.nn_ops) with keep_prob is deprecated and will be removed in a future version.\n",
            "Instructions for updating:\n",
            "Please use `rate` instead of `keep_prob`. Rate should be set to `rate = 1 - keep_prob`.\n"
          ]
        },
        {
          "output_type": "stream",
          "name": "stdout",
          "text": [
            "INFO:tensorflow:Done calling model_fn.\n"
          ]
        },
        {
          "output_type": "stream",
          "name": "stderr",
          "text": [
            "INFO:tensorflow:Done calling model_fn.\n"
          ]
        },
        {
          "output_type": "stream",
          "name": "stdout",
          "text": [
            "INFO:tensorflow:Create CheckpointSaverHook.\n"
          ]
        },
        {
          "output_type": "stream",
          "name": "stderr",
          "text": [
            "INFO:tensorflow:Create CheckpointSaverHook.\n"
          ]
        },
        {
          "output_type": "stream",
          "name": "stdout",
          "text": [
            "INFO:tensorflow:Graph was finalized.\n"
          ]
        },
        {
          "output_type": "stream",
          "name": "stderr",
          "text": [
            "INFO:tensorflow:Graph was finalized.\n"
          ]
        },
        {
          "output_type": "stream",
          "name": "stdout",
          "text": [
            "INFO:tensorflow:Running local_init_op.\n"
          ]
        },
        {
          "output_type": "stream",
          "name": "stderr",
          "text": [
            "INFO:tensorflow:Running local_init_op.\n"
          ]
        },
        {
          "output_type": "stream",
          "name": "stdout",
          "text": [
            "INFO:tensorflow:Done running local_init_op.\n"
          ]
        },
        {
          "output_type": "stream",
          "name": "stderr",
          "text": [
            "INFO:tensorflow:Done running local_init_op.\n"
          ]
        },
        {
          "output_type": "stream",
          "name": "stdout",
          "text": [
            "INFO:tensorflow:Calling checkpoint listeners before saving checkpoint 0...\n"
          ]
        },
        {
          "output_type": "stream",
          "name": "stderr",
          "text": [
            "INFO:tensorflow:Calling checkpoint listeners before saving checkpoint 0...\n"
          ]
        },
        {
          "output_type": "stream",
          "name": "stdout",
          "text": [
            "INFO:tensorflow:Saving checkpoints for 0 into /content/drive/MyDrive/MS_Final_Project/Model_checkpoints_Cnt3/model.ckpt.\n"
          ]
        },
        {
          "output_type": "stream",
          "name": "stderr",
          "text": [
            "INFO:tensorflow:Saving checkpoints for 0 into /content/drive/MyDrive/MS_Final_Project/Model_checkpoints_Cnt3/model.ckpt.\n"
          ]
        },
        {
          "output_type": "stream",
          "name": "stdout",
          "text": [
            "INFO:tensorflow:Calling checkpoint listeners after saving checkpoint 0...\n"
          ]
        },
        {
          "output_type": "stream",
          "name": "stderr",
          "text": [
            "INFO:tensorflow:Calling checkpoint listeners after saving checkpoint 0...\n"
          ]
        },
        {
          "output_type": "stream",
          "name": "stdout",
          "text": [
            "INFO:tensorflow:loss = 2.346861, step = 0\n"
          ]
        },
        {
          "output_type": "stream",
          "name": "stderr",
          "text": [
            "INFO:tensorflow:loss = 2.346861, step = 0\n"
          ]
        },
        {
          "output_type": "stream",
          "name": "stdout",
          "text": [
            "INFO:tensorflow:global_step/sec: 2.05908\n"
          ]
        },
        {
          "output_type": "stream",
          "name": "stderr",
          "text": [
            "INFO:tensorflow:global_step/sec: 2.05908\n"
          ]
        },
        {
          "output_type": "stream",
          "name": "stdout",
          "text": [
            "INFO:tensorflow:loss = 1.0559839, step = 100 (48.567 sec)\n"
          ]
        },
        {
          "output_type": "stream",
          "name": "stderr",
          "text": [
            "INFO:tensorflow:loss = 1.0559839, step = 100 (48.567 sec)\n"
          ]
        },
        {
          "output_type": "stream",
          "name": "stdout",
          "text": [
            "INFO:tensorflow:global_step/sec: 2.48682\n"
          ]
        },
        {
          "output_type": "stream",
          "name": "stderr",
          "text": [
            "INFO:tensorflow:global_step/sec: 2.48682\n"
          ]
        },
        {
          "output_type": "stream",
          "name": "stdout",
          "text": [
            "INFO:tensorflow:loss = 0.87870085, step = 200 (40.212 sec)\n"
          ]
        },
        {
          "output_type": "stream",
          "name": "stderr",
          "text": [
            "INFO:tensorflow:loss = 0.87870085, step = 200 (40.212 sec)\n"
          ]
        },
        {
          "output_type": "stream",
          "name": "stdout",
          "text": [
            "INFO:tensorflow:Calling checkpoint listeners before saving checkpoint 300...\n"
          ]
        },
        {
          "output_type": "stream",
          "name": "stderr",
          "text": [
            "INFO:tensorflow:Calling checkpoint listeners before saving checkpoint 300...\n"
          ]
        },
        {
          "output_type": "stream",
          "name": "stdout",
          "text": [
            "INFO:tensorflow:Saving checkpoints for 300 into /content/drive/MyDrive/MS_Final_Project/Model_checkpoints_Cnt3/model.ckpt.\n"
          ]
        },
        {
          "output_type": "stream",
          "name": "stderr",
          "text": [
            "INFO:tensorflow:Saving checkpoints for 300 into /content/drive/MyDrive/MS_Final_Project/Model_checkpoints_Cnt3/model.ckpt.\n"
          ]
        },
        {
          "output_type": "stream",
          "name": "stdout",
          "text": [
            "INFO:tensorflow:Calling checkpoint listeners after saving checkpoint 300...\n"
          ]
        },
        {
          "output_type": "stream",
          "name": "stderr",
          "text": [
            "INFO:tensorflow:Calling checkpoint listeners after saving checkpoint 300...\n"
          ]
        },
        {
          "output_type": "stream",
          "name": "stdout",
          "text": [
            "INFO:tensorflow:global_step/sec: 2.11885\n"
          ]
        },
        {
          "output_type": "stream",
          "name": "stderr",
          "text": [
            "INFO:tensorflow:global_step/sec: 2.11885\n"
          ]
        },
        {
          "output_type": "stream",
          "name": "stdout",
          "text": [
            "INFO:tensorflow:loss = 0.29442847, step = 300 (47.195 sec)\n"
          ]
        },
        {
          "output_type": "stream",
          "name": "stderr",
          "text": [
            "INFO:tensorflow:loss = 0.29442847, step = 300 (47.195 sec)\n"
          ]
        },
        {
          "output_type": "stream",
          "name": "stdout",
          "text": [
            "INFO:tensorflow:global_step/sec: 2.48549\n"
          ]
        },
        {
          "output_type": "stream",
          "name": "stderr",
          "text": [
            "INFO:tensorflow:global_step/sec: 2.48549\n"
          ]
        },
        {
          "output_type": "stream",
          "name": "stdout",
          "text": [
            "INFO:tensorflow:loss = 0.2825665, step = 400 (40.234 sec)\n"
          ]
        },
        {
          "output_type": "stream",
          "name": "stderr",
          "text": [
            "INFO:tensorflow:loss = 0.2825665, step = 400 (40.234 sec)\n"
          ]
        },
        {
          "output_type": "stream",
          "name": "stdout",
          "text": [
            "INFO:tensorflow:global_step/sec: 2.48417\n"
          ]
        },
        {
          "output_type": "stream",
          "name": "stderr",
          "text": [
            "INFO:tensorflow:global_step/sec: 2.48417\n"
          ]
        },
        {
          "output_type": "stream",
          "name": "stdout",
          "text": [
            "INFO:tensorflow:loss = 0.53617096, step = 500 (40.255 sec)\n"
          ]
        },
        {
          "output_type": "stream",
          "name": "stderr",
          "text": [
            "INFO:tensorflow:loss = 0.53617096, step = 500 (40.255 sec)\n"
          ]
        },
        {
          "output_type": "stream",
          "name": "stdout",
          "text": [
            "INFO:tensorflow:Calling checkpoint listeners before saving checkpoint 600...\n"
          ]
        },
        {
          "output_type": "stream",
          "name": "stderr",
          "text": [
            "INFO:tensorflow:Calling checkpoint listeners before saving checkpoint 600...\n"
          ]
        },
        {
          "output_type": "stream",
          "name": "stdout",
          "text": [
            "INFO:tensorflow:Saving checkpoints for 600 into /content/drive/MyDrive/MS_Final_Project/Model_checkpoints_Cnt3/model.ckpt.\n"
          ]
        },
        {
          "output_type": "stream",
          "name": "stderr",
          "text": [
            "INFO:tensorflow:Saving checkpoints for 600 into /content/drive/MyDrive/MS_Final_Project/Model_checkpoints_Cnt3/model.ckpt.\n"
          ]
        },
        {
          "output_type": "stream",
          "name": "stdout",
          "text": [
            "INFO:tensorflow:Calling checkpoint listeners after saving checkpoint 600...\n"
          ]
        },
        {
          "output_type": "stream",
          "name": "stderr",
          "text": [
            "INFO:tensorflow:Calling checkpoint listeners after saving checkpoint 600...\n"
          ]
        },
        {
          "output_type": "stream",
          "name": "stdout",
          "text": [
            "INFO:tensorflow:global_step/sec: 2.19331\n"
          ]
        },
        {
          "output_type": "stream",
          "name": "stderr",
          "text": [
            "INFO:tensorflow:global_step/sec: 2.19331\n"
          ]
        },
        {
          "output_type": "stream",
          "name": "stdout",
          "text": [
            "INFO:tensorflow:loss = 0.4894623, step = 600 (45.594 sec)\n"
          ]
        },
        {
          "output_type": "stream",
          "name": "stderr",
          "text": [
            "INFO:tensorflow:loss = 0.4894623, step = 600 (45.594 sec)\n"
          ]
        },
        {
          "output_type": "stream",
          "name": "stdout",
          "text": [
            "INFO:tensorflow:global_step/sec: 2.48304\n"
          ]
        },
        {
          "output_type": "stream",
          "name": "stderr",
          "text": [
            "INFO:tensorflow:global_step/sec: 2.48304\n"
          ]
        },
        {
          "output_type": "stream",
          "name": "stdout",
          "text": [
            "INFO:tensorflow:loss = 1.0728186, step = 700 (40.272 sec)\n"
          ]
        },
        {
          "output_type": "stream",
          "name": "stderr",
          "text": [
            "INFO:tensorflow:loss = 1.0728186, step = 700 (40.272 sec)\n"
          ]
        },
        {
          "output_type": "stream",
          "name": "stdout",
          "text": [
            "INFO:tensorflow:global_step/sec: 2.48347\n"
          ]
        },
        {
          "output_type": "stream",
          "name": "stderr",
          "text": [
            "INFO:tensorflow:global_step/sec: 2.48347\n"
          ]
        },
        {
          "output_type": "stream",
          "name": "stdout",
          "text": [
            "INFO:tensorflow:loss = 1.7270198, step = 800 (40.268 sec)\n"
          ]
        },
        {
          "output_type": "stream",
          "name": "stderr",
          "text": [
            "INFO:tensorflow:loss = 1.7270198, step = 800 (40.268 sec)\n"
          ]
        },
        {
          "output_type": "stream",
          "name": "stdout",
          "text": [
            "INFO:tensorflow:Calling checkpoint listeners before saving checkpoint 900...\n"
          ]
        },
        {
          "output_type": "stream",
          "name": "stderr",
          "text": [
            "INFO:tensorflow:Calling checkpoint listeners before saving checkpoint 900...\n"
          ]
        },
        {
          "output_type": "stream",
          "name": "stdout",
          "text": [
            "INFO:tensorflow:Saving checkpoints for 900 into /content/drive/MyDrive/MS_Final_Project/Model_checkpoints_Cnt3/model.ckpt.\n"
          ]
        },
        {
          "output_type": "stream",
          "name": "stderr",
          "text": [
            "INFO:tensorflow:Saving checkpoints for 900 into /content/drive/MyDrive/MS_Final_Project/Model_checkpoints_Cnt3/model.ckpt.\n"
          ]
        },
        {
          "output_type": "stream",
          "name": "stdout",
          "text": [
            "INFO:tensorflow:Calling checkpoint listeners after saving checkpoint 900...\n"
          ]
        },
        {
          "output_type": "stream",
          "name": "stderr",
          "text": [
            "INFO:tensorflow:Calling checkpoint listeners after saving checkpoint 900...\n"
          ]
        },
        {
          "output_type": "stream",
          "name": "stdout",
          "text": [
            "INFO:tensorflow:global_step/sec: 2.13511\n"
          ]
        },
        {
          "output_type": "stream",
          "name": "stderr",
          "text": [
            "INFO:tensorflow:global_step/sec: 2.13511\n"
          ]
        },
        {
          "output_type": "stream",
          "name": "stdout",
          "text": [
            "INFO:tensorflow:loss = 0.75936735, step = 900 (46.835 sec)\n"
          ]
        },
        {
          "output_type": "stream",
          "name": "stderr",
          "text": [
            "INFO:tensorflow:loss = 0.75936735, step = 900 (46.835 sec)\n"
          ]
        },
        {
          "output_type": "stream",
          "name": "stdout",
          "text": [
            "INFO:tensorflow:global_step/sec: 2.48254\n"
          ]
        },
        {
          "output_type": "stream",
          "name": "stderr",
          "text": [
            "INFO:tensorflow:global_step/sec: 2.48254\n"
          ]
        },
        {
          "output_type": "stream",
          "name": "stdout",
          "text": [
            "INFO:tensorflow:loss = 0.5213908, step = 1000 (40.282 sec)\n"
          ]
        },
        {
          "output_type": "stream",
          "name": "stderr",
          "text": [
            "INFO:tensorflow:loss = 0.5213908, step = 1000 (40.282 sec)\n"
          ]
        },
        {
          "output_type": "stream",
          "name": "stdout",
          "text": [
            "INFO:tensorflow:global_step/sec: 2.48357\n"
          ]
        },
        {
          "output_type": "stream",
          "name": "stderr",
          "text": [
            "INFO:tensorflow:global_step/sec: 2.48357\n"
          ]
        },
        {
          "output_type": "stream",
          "name": "stdout",
          "text": [
            "INFO:tensorflow:loss = 0.8483413, step = 1100 (40.264 sec)\n"
          ]
        },
        {
          "output_type": "stream",
          "name": "stderr",
          "text": [
            "INFO:tensorflow:loss = 0.8483413, step = 1100 (40.264 sec)\n"
          ]
        },
        {
          "output_type": "stream",
          "name": "stdout",
          "text": [
            "INFO:tensorflow:Calling checkpoint listeners before saving checkpoint 1200...\n"
          ]
        },
        {
          "output_type": "stream",
          "name": "stderr",
          "text": [
            "INFO:tensorflow:Calling checkpoint listeners before saving checkpoint 1200...\n"
          ]
        },
        {
          "output_type": "stream",
          "name": "stdout",
          "text": [
            "INFO:tensorflow:Saving checkpoints for 1200 into /content/drive/MyDrive/MS_Final_Project/Model_checkpoints_Cnt3/model.ckpt.\n"
          ]
        },
        {
          "output_type": "stream",
          "name": "stderr",
          "text": [
            "INFO:tensorflow:Saving checkpoints for 1200 into /content/drive/MyDrive/MS_Final_Project/Model_checkpoints_Cnt3/model.ckpt.\n"
          ]
        },
        {
          "output_type": "stream",
          "name": "stdout",
          "text": [
            "INFO:tensorflow:Calling checkpoint listeners after saving checkpoint 1200...\n"
          ]
        },
        {
          "output_type": "stream",
          "name": "stderr",
          "text": [
            "INFO:tensorflow:Calling checkpoint listeners after saving checkpoint 1200...\n"
          ]
        },
        {
          "output_type": "stream",
          "name": "stdout",
          "text": [
            "INFO:tensorflow:global_step/sec: 2.13745\n"
          ]
        },
        {
          "output_type": "stream",
          "name": "stderr",
          "text": [
            "INFO:tensorflow:global_step/sec: 2.13745\n"
          ]
        },
        {
          "output_type": "stream",
          "name": "stdout",
          "text": [
            "INFO:tensorflow:loss = 0.6205458, step = 1200 (46.785 sec)\n"
          ]
        },
        {
          "output_type": "stream",
          "name": "stderr",
          "text": [
            "INFO:tensorflow:loss = 0.6205458, step = 1200 (46.785 sec)\n"
          ]
        },
        {
          "output_type": "stream",
          "name": "stdout",
          "text": [
            "INFO:tensorflow:global_step/sec: 2.48279\n"
          ]
        },
        {
          "output_type": "stream",
          "name": "stderr",
          "text": [
            "INFO:tensorflow:global_step/sec: 2.48279\n"
          ]
        },
        {
          "output_type": "stream",
          "name": "stdout",
          "text": [
            "INFO:tensorflow:loss = 1.03423, step = 1300 (40.277 sec)\n"
          ]
        },
        {
          "output_type": "stream",
          "name": "stderr",
          "text": [
            "INFO:tensorflow:loss = 1.03423, step = 1300 (40.277 sec)\n"
          ]
        },
        {
          "output_type": "stream",
          "name": "stdout",
          "text": [
            "INFO:tensorflow:global_step/sec: 2.48338\n"
          ]
        },
        {
          "output_type": "stream",
          "name": "stderr",
          "text": [
            "INFO:tensorflow:global_step/sec: 2.48338\n"
          ]
        },
        {
          "output_type": "stream",
          "name": "stdout",
          "text": [
            "INFO:tensorflow:loss = 0.533647, step = 1400 (40.268 sec)\n"
          ]
        },
        {
          "output_type": "stream",
          "name": "stderr",
          "text": [
            "INFO:tensorflow:loss = 0.533647, step = 1400 (40.268 sec)\n"
          ]
        },
        {
          "output_type": "stream",
          "name": "stdout",
          "text": [
            "INFO:tensorflow:Calling checkpoint listeners before saving checkpoint 1500...\n"
          ]
        },
        {
          "output_type": "stream",
          "name": "stderr",
          "text": [
            "INFO:tensorflow:Calling checkpoint listeners before saving checkpoint 1500...\n"
          ]
        },
        {
          "output_type": "stream",
          "name": "stdout",
          "text": [
            "INFO:tensorflow:Saving checkpoints for 1500 into /content/drive/MyDrive/MS_Final_Project/Model_checkpoints_Cnt3/model.ckpt.\n"
          ]
        },
        {
          "output_type": "stream",
          "name": "stderr",
          "text": [
            "INFO:tensorflow:Saving checkpoints for 1500 into /content/drive/MyDrive/MS_Final_Project/Model_checkpoints_Cnt3/model.ckpt.\n"
          ]
        },
        {
          "output_type": "stream",
          "name": "stdout",
          "text": [
            "WARNING:tensorflow:From /usr/local/lib/python3.7/dist-packages/tensorflow/python/training/saver.py:971: remove_checkpoint (from tensorflow.python.training.checkpoint_management) is deprecated and will be removed in a future version.\n",
            "Instructions for updating:\n",
            "Use standard file APIs to delete files with this prefix.\n"
          ]
        },
        {
          "output_type": "stream",
          "name": "stderr",
          "text": [
            "WARNING:tensorflow:From /usr/local/lib/python3.7/dist-packages/tensorflow/python/training/saver.py:971: remove_checkpoint (from tensorflow.python.training.checkpoint_management) is deprecated and will be removed in a future version.\n",
            "Instructions for updating:\n",
            "Use standard file APIs to delete files with this prefix.\n"
          ]
        },
        {
          "output_type": "stream",
          "name": "stdout",
          "text": [
            "INFO:tensorflow:Calling checkpoint listeners after saving checkpoint 1500...\n"
          ]
        },
        {
          "output_type": "stream",
          "name": "stderr",
          "text": [
            "INFO:tensorflow:Calling checkpoint listeners after saving checkpoint 1500...\n"
          ]
        },
        {
          "output_type": "stream",
          "name": "stdout",
          "text": [
            "INFO:tensorflow:global_step/sec: 2.15828\n"
          ]
        },
        {
          "output_type": "stream",
          "name": "stderr",
          "text": [
            "INFO:tensorflow:global_step/sec: 2.15828\n"
          ]
        },
        {
          "output_type": "stream",
          "name": "stdout",
          "text": [
            "INFO:tensorflow:loss = 0.74886835, step = 1500 (46.333 sec)\n"
          ]
        },
        {
          "output_type": "stream",
          "name": "stderr",
          "text": [
            "INFO:tensorflow:loss = 0.74886835, step = 1500 (46.333 sec)\n"
          ]
        },
        {
          "output_type": "stream",
          "name": "stdout",
          "text": [
            "INFO:tensorflow:global_step/sec: 2.48222\n"
          ]
        },
        {
          "output_type": "stream",
          "name": "stderr",
          "text": [
            "INFO:tensorflow:global_step/sec: 2.48222\n"
          ]
        },
        {
          "output_type": "stream",
          "name": "stdout",
          "text": [
            "INFO:tensorflow:loss = 0.7395182, step = 1600 (40.287 sec)\n"
          ]
        },
        {
          "output_type": "stream",
          "name": "stderr",
          "text": [
            "INFO:tensorflow:loss = 0.7395182, step = 1600 (40.287 sec)\n"
          ]
        },
        {
          "output_type": "stream",
          "name": "stdout",
          "text": [
            "INFO:tensorflow:global_step/sec: 2.48361\n"
          ]
        },
        {
          "output_type": "stream",
          "name": "stderr",
          "text": [
            "INFO:tensorflow:global_step/sec: 2.48361\n"
          ]
        },
        {
          "output_type": "stream",
          "name": "stdout",
          "text": [
            "INFO:tensorflow:loss = 0.34589905, step = 1700 (40.264 sec)\n"
          ]
        },
        {
          "output_type": "stream",
          "name": "stderr",
          "text": [
            "INFO:tensorflow:loss = 0.34589905, step = 1700 (40.264 sec)\n"
          ]
        },
        {
          "output_type": "stream",
          "name": "stdout",
          "text": [
            "INFO:tensorflow:Calling checkpoint listeners before saving checkpoint 1713...\n"
          ]
        },
        {
          "output_type": "stream",
          "name": "stderr",
          "text": [
            "INFO:tensorflow:Calling checkpoint listeners before saving checkpoint 1713...\n"
          ]
        },
        {
          "output_type": "stream",
          "name": "stdout",
          "text": [
            "INFO:tensorflow:Saving checkpoints for 1713 into /content/drive/MyDrive/MS_Final_Project/Model_checkpoints_Cnt3/model.ckpt.\n"
          ]
        },
        {
          "output_type": "stream",
          "name": "stderr",
          "text": [
            "INFO:tensorflow:Saving checkpoints for 1713 into /content/drive/MyDrive/MS_Final_Project/Model_checkpoints_Cnt3/model.ckpt.\n"
          ]
        },
        {
          "output_type": "stream",
          "name": "stdout",
          "text": [
            "INFO:tensorflow:Calling checkpoint listeners after saving checkpoint 1713...\n"
          ]
        },
        {
          "output_type": "stream",
          "name": "stderr",
          "text": [
            "INFO:tensorflow:Calling checkpoint listeners after saving checkpoint 1713...\n"
          ]
        },
        {
          "output_type": "stream",
          "name": "stdout",
          "text": [
            "INFO:tensorflow:Loss for final step: 0.7017964.\n"
          ]
        },
        {
          "output_type": "stream",
          "name": "stderr",
          "text": [
            "INFO:tensorflow:Loss for final step: 0.7017964.\n"
          ]
        },
        {
          "output_type": "execute_result",
          "data": {
            "text/plain": [
              "<tensorflow_estimator.python.estimator.estimator.EstimatorV2 at 0x7fd9322fc3d0>"
            ]
          },
          "metadata": {},
          "execution_count": 78
        }
      ]
    },
    {
      "cell_type": "code",
      "metadata": {
        "id": "wNyCH35_W-A_"
      },
      "source": [
        "# #Run this If you want to load the model \n",
        "# #Loading a specific check point : \n",
        "# warm_start = tf.estimator.WarmStartSettings(ckpt_to_initialize_from='/content/drive/MyDrive/MCPCC/model.ckpt-1982.meta')\n",
        "\n",
        "\n",
        "# model_fn = model_fn_builder(\n",
        "#   num_labels=len(label_list),\n",
        "#   learning_rate=LEARNING_RATE,\n",
        "#   num_train_steps=num_train_steps,\n",
        "#   num_warmup_steps=num_warmup_steps)\n",
        "\n",
        "# estimator=tf.estimator.Estimator(model_fn=model_fn,\n",
        "#                        config=run_config,\n",
        "#                        params={\"batch_size\": BATCH_SIZE},\n",
        "#                        warm_start_from=warm_start)"
      ],
      "execution_count": null,
      "outputs": []
    },
    {
      "cell_type": "code",
      "metadata": {
        "colab": {
          "base_uri": "https://localhost:8080/"
        },
        "id": "pvk0K1c5W-G1",
        "outputId": "a67c0d78-05a3-4f76-b69f-b675526bd374"
      },
      "source": [
        "#Evaluation of the BERT model\n",
        "estimator.evaluate(input_fn=val_input_fn, steps=None)"
      ],
      "execution_count": null,
      "outputs": [
        {
          "output_type": "stream",
          "name": "stdout",
          "text": [
            "INFO:tensorflow:Calling model_fn.\n"
          ]
        },
        {
          "output_type": "stream",
          "name": "stderr",
          "text": [
            "INFO:tensorflow:Calling model_fn.\n"
          ]
        },
        {
          "output_type": "stream",
          "name": "stdout",
          "text": [
            "INFO:tensorflow:Saver not created because there are no variables in the graph to restore\n"
          ]
        },
        {
          "output_type": "stream",
          "name": "stderr",
          "text": [
            "INFO:tensorflow:Saver not created because there are no variables in the graph to restore\n"
          ]
        },
        {
          "output_type": "stream",
          "name": "stdout",
          "text": [
            "INFO:tensorflow:Done calling model_fn.\n"
          ]
        },
        {
          "output_type": "stream",
          "name": "stderr",
          "text": [
            "INFO:tensorflow:Done calling model_fn.\n"
          ]
        },
        {
          "output_type": "stream",
          "name": "stdout",
          "text": [
            "INFO:tensorflow:Starting evaluation at 2021-10-22T16:17:36\n"
          ]
        },
        {
          "output_type": "stream",
          "name": "stderr",
          "text": [
            "INFO:tensorflow:Starting evaluation at 2021-10-22T16:17:36\n"
          ]
        },
        {
          "output_type": "stream",
          "name": "stdout",
          "text": [
            "INFO:tensorflow:Graph was finalized.\n"
          ]
        },
        {
          "output_type": "stream",
          "name": "stderr",
          "text": [
            "INFO:tensorflow:Graph was finalized.\n"
          ]
        },
        {
          "output_type": "stream",
          "name": "stdout",
          "text": [
            "INFO:tensorflow:Restoring parameters from /content/drive/MyDrive/MS_Final_Project/Model_checkpoints_Cnt3/model.ckpt-1713\n"
          ]
        },
        {
          "output_type": "stream",
          "name": "stderr",
          "text": [
            "INFO:tensorflow:Restoring parameters from /content/drive/MyDrive/MS_Final_Project/Model_checkpoints_Cnt3/model.ckpt-1713\n"
          ]
        },
        {
          "output_type": "stream",
          "name": "stdout",
          "text": [
            "INFO:tensorflow:Running local_init_op.\n"
          ]
        },
        {
          "output_type": "stream",
          "name": "stderr",
          "text": [
            "INFO:tensorflow:Running local_init_op.\n"
          ]
        },
        {
          "output_type": "stream",
          "name": "stdout",
          "text": [
            "INFO:tensorflow:Done running local_init_op.\n"
          ]
        },
        {
          "output_type": "stream",
          "name": "stderr",
          "text": [
            "INFO:tensorflow:Done running local_init_op.\n"
          ]
        },
        {
          "output_type": "stream",
          "name": "stdout",
          "text": [
            "INFO:tensorflow:Inference Time : 59.45907s\n"
          ]
        },
        {
          "output_type": "stream",
          "name": "stderr",
          "text": [
            "INFO:tensorflow:Inference Time : 59.45907s\n"
          ]
        },
        {
          "output_type": "stream",
          "name": "stdout",
          "text": [
            "INFO:tensorflow:Finished evaluation at 2021-10-22-16:18:35\n"
          ]
        },
        {
          "output_type": "stream",
          "name": "stderr",
          "text": [
            "INFO:tensorflow:Finished evaluation at 2021-10-22-16:18:35\n"
          ]
        },
        {
          "output_type": "stream",
          "name": "stdout",
          "text": [
            "INFO:tensorflow:Saving dict for global step 1713: eval_accuracy = 0.8544804, false_negatives = 157.0, false_positives = 165.0, global_step = 1713, loss = 0.477306, true_negatives = 560.0, true_positives = 5825.0\n"
          ]
        },
        {
          "output_type": "stream",
          "name": "stderr",
          "text": [
            "INFO:tensorflow:Saving dict for global step 1713: eval_accuracy = 0.8544804, false_negatives = 157.0, false_positives = 165.0, global_step = 1713, loss = 0.477306, true_negatives = 560.0, true_positives = 5825.0\n"
          ]
        },
        {
          "output_type": "stream",
          "name": "stdout",
          "text": [
            "INFO:tensorflow:Saving 'checkpoint_path' summary for global step 1713: /content/drive/MyDrive/MS_Final_Project/Model_checkpoints_Cnt3/model.ckpt-1713\n"
          ]
        },
        {
          "output_type": "stream",
          "name": "stderr",
          "text": [
            "INFO:tensorflow:Saving 'checkpoint_path' summary for global step 1713: /content/drive/MyDrive/MS_Final_Project/Model_checkpoints_Cnt3/model.ckpt-1713\n"
          ]
        },
        {
          "output_type": "execute_result",
          "data": {
            "text/plain": [
              "{'eval_accuracy': 0.8544804,\n",
              " 'false_negatives': 157.0,\n",
              " 'false_positives': 165.0,\n",
              " 'global_step': 1713,\n",
              " 'loss': 0.477306,\n",
              " 'true_negatives': 560.0,\n",
              " 'true_positives': 5825.0}"
            ]
          },
          "metadata": {},
          "execution_count": 80
        }
      ]
    },
    {
      "cell_type": "markdown",
      "metadata": {
        "id": "mhBuXjQ55f9d"
      },
      "source": [
        "# Extract Embeddings from BERT"
      ]
    },
    {
      "cell_type": "code",
      "metadata": {
        "id": "rTeHqmogZdPQ"
      },
      "source": [
        "def serving_input_receiver_fn():\n",
        "    \"\"\"Serving input_fn that builds features from placeholders\n",
        "\n",
        "    Returns\n",
        "    -------\n",
        "    tf.estimator.export.ServingInputReceiver\n",
        "    \"\"\"\n",
        "    number = tf.placeholder(dtype=tf.float32, shape=[None, 1], name='number')\n",
        "    receiver_tensors = {'number': number}\n",
        "    features = tf.tile(number, multiples=[1, 2])\n",
        "    return tf.estimator.export.ServingInputReceiver(features, receiver_tensors)"
      ],
      "execution_count": null,
      "outputs": []
    },
    {
      "cell_type": "code",
      "metadata": {
        "id": "iZqu1qKVZdSw"
      },
      "source": [
        "# A method to get predictions\n",
        "def getPrediction(in_sentences, type_output = \"features\"):\n",
        "  #A list to map the actual labels to the predictions\n",
        "  labels = np.unique(train['label'])\n",
        "  input_examples = [InputExample(guid=\"\", text_a = x, text_b = None, label = 0) for x in in_sentences] \n",
        "  #input_features = convert_examples_to_features(input_examples, label_list, MAX_SEQ_LENGTH, tokenizer)\n",
        "  input_features = convert_examples_to_features(tokenizer,input_examples,MAX_SEQ_LENGTH )\n",
        "  #Predicting the classes \n",
        "  predict_input_fn = input_fn_builder(features=input_features, seq_length=MAX_SEQ_LENGTH, is_training=False, drop_remainder=False)\n",
        "  predictions = estimator.predict(predict_input_fn)\n",
        "  if type_output == \"features\":\n",
        "    return [prediction['pooled_output'] for _,prediction in enumerate(predictions) ]\n",
        "  else:\n",
        "    return ([(sentence, prediction['probabilities'],\n",
        "              prediction['labels'], labels[prediction['labels']]) for sentence, prediction in zip(in_sentences, predictions)])"
      ],
      "execution_count": null,
      "outputs": []
    },
    {
      "cell_type": "code",
      "metadata": {
        "id": "V_60BrgK5vTB",
        "colab": {
          "base_uri": "https://localhost:8080/"
        },
        "outputId": "581582d4-192e-42c3-9f99-7becfc8fe91b"
      },
      "source": [
        "tf.compat.v1.logging.set_verbosity(tf.compat.v1.logging.ERROR)\n",
        "MAX_SEQ_LENGTH"
      ],
      "execution_count": null,
      "outputs": [
        {
          "output_type": "execute_result",
          "data": {
            "text/plain": [
              "200"
            ]
          },
          "metadata": {},
          "execution_count": 83
        }
      ]
    },
    {
      "cell_type": "code",
      "metadata": {
        "id": "NmBcjVnA5vW3",
        "colab": {
          "base_uri": "https://localhost:8080/"
        },
        "outputId": "73c99c8b-6608-411c-985a-c69a59264fb3"
      },
      "source": [
        "train_df.shape, val_df.shape , test_df.shape"
      ],
      "execution_count": null,
      "outputs": [
        {
          "output_type": "execute_result",
          "data": {
            "text/plain": [
              "((27414, 2), (6707, 2), (5504, 2))"
            ]
          },
          "metadata": {},
          "execution_count": 84
        }
      ]
    },
    {
      "cell_type": "code",
      "metadata": {
        "id": "Rsm_CEtN5vaH",
        "colab": {
          "base_uri": "https://localhost:8080/"
        },
        "outputId": "82b15215-bc19-434f-ca07-1f0e4ea99b65"
      },
      "source": [
        "tr_emb = np.apply_along_axis(getPrediction, 0,np.array(train_df[DATA_COLUMN]))"
      ],
      "execution_count": null,
      "outputs": [
        {
          "output_type": "stream",
          "name": "stderr",
          "text": [
            "Converting examples to features: 100%|██████████| 27414/27414 [01:29<00:00, 307.57it/s]\n"
          ]
        }
      ]
    },
    {
      "cell_type": "code",
      "metadata": {
        "id": "8vTZ-uV36Ds-",
        "colab": {
          "base_uri": "https://localhost:8080/"
        },
        "outputId": "b3b71e1a-1fb9-47b6-8625-c27aa0ebc4c4"
      },
      "source": [
        "val_emb = np.apply_along_axis(getPrediction, 0,np.array(val_df[DATA_COLUMN]))"
      ],
      "execution_count": null,
      "outputs": [
        {
          "output_type": "stream",
          "name": "stderr",
          "text": [
            "Converting examples to features: 100%|██████████| 6707/6707 [00:21<00:00, 314.92it/s]\n"
          ]
        }
      ]
    },
    {
      "cell_type": "code",
      "metadata": {
        "id": "XelnFAAGcmr3",
        "colab": {
          "base_uri": "https://localhost:8080/"
        },
        "outputId": "dfa8ccf5-b412-4e9c-c300-f39f3f9f3e39"
      },
      "source": [
        "test_emb = np.apply_along_axis(getPrediction, 0,np.array(test_df[DATA_COLUMN]))"
      ],
      "execution_count": null,
      "outputs": [
        {
          "output_type": "stream",
          "name": "stderr",
          "text": [
            "Converting examples to features: 100%|██████████| 5504/5504 [00:17<00:00, 306.01it/s]\n"
          ]
        }
      ]
    },
    {
      "cell_type": "code",
      "metadata": {
        "id": "2UyEB1BP6DwG",
        "colab": {
          "base_uri": "https://localhost:8080/"
        },
        "outputId": "6c9a9ef4-e185-4564-a152-f441b2854415"
      },
      "source": [
        " tr_emb.shape,val_emb.shape,test_emb.shape"
      ],
      "execution_count": null,
      "outputs": [
        {
          "output_type": "execute_result",
          "data": {
            "text/plain": [
              "((27414, 768), (6707, 768), (5504, 768))"
            ]
          },
          "metadata": {},
          "execution_count": 88
        }
      ]
    },
    {
      "cell_type": "code",
      "metadata": {
        "id": "rpOURexG6D11",
        "colab": {
          "base_uri": "https://localhost:8080/",
          "height": 204
        },
        "outputId": "757b1bf9-6a08-4dac-d2ef-4272d5e45d26"
      },
      "source": [
        "aux = -1\n",
        "len_l = 0\n",
        "train_x = {}\n",
        "for l, emb in zip(index_l, tr_emb):\n",
        "  if l in train_x.keys():\n",
        "    train_x[l]  =np.vstack([train_x[l], emb])\n",
        "  else:\n",
        "    train_x[l] = [emb]\n",
        "\n",
        "len(train_x.keys())\n",
        "\n",
        "train_l_final = []\n",
        "label_l_final = []\n",
        "for k in train_x.keys():\n",
        "  train_l_final.append(train_x[k])\n",
        "  label_l_final.append(train.loc[k]['label'])\n",
        "\n",
        "df_train = pd.DataFrame({'emb': train_l_final, 'label': label_l_final, })\n",
        "df_train.head()"
      ],
      "execution_count": null,
      "outputs": [
        {
          "output_type": "execute_result",
          "data": {
            "text/html": [
              "<div>\n",
              "<style scoped>\n",
              "    .dataframe tbody tr th:only-of-type {\n",
              "        vertical-align: middle;\n",
              "    }\n",
              "\n",
              "    .dataframe tbody tr th {\n",
              "        vertical-align: top;\n",
              "    }\n",
              "\n",
              "    .dataframe thead th {\n",
              "        text-align: right;\n",
              "    }\n",
              "</style>\n",
              "<table border=\"1\" class=\"dataframe\">\n",
              "  <thead>\n",
              "    <tr style=\"text-align: right;\">\n",
              "      <th></th>\n",
              "      <th>emb</th>\n",
              "      <th>label</th>\n",
              "    </tr>\n",
              "  </thead>\n",
              "  <tbody>\n",
              "    <tr>\n",
              "      <th>0</th>\n",
              "      <td>[[-0.1610043, 0.4527748, -0.9387181, 0.3837650...</td>\n",
              "      <td>1</td>\n",
              "    </tr>\n",
              "    <tr>\n",
              "      <th>1</th>\n",
              "      <td>[[0.326586, -0.52607155, -0.82651794, -0.53501...</td>\n",
              "      <td>3</td>\n",
              "    </tr>\n",
              "    <tr>\n",
              "      <th>2</th>\n",
              "      <td>[[-0.6700569, 0.29940653, 0.93665946, 0.660795...</td>\n",
              "      <td>2</td>\n",
              "    </tr>\n",
              "    <tr>\n",
              "      <th>3</th>\n",
              "      <td>[[-0.8896185, -0.57728976, 0.86916393, 0.49304...</td>\n",
              "      <td>0</td>\n",
              "    </tr>\n",
              "    <tr>\n",
              "      <th>4</th>\n",
              "      <td>[[-0.6699596, -0.18776351, -0.9814323, 0.92064...</td>\n",
              "      <td>2</td>\n",
              "    </tr>\n",
              "  </tbody>\n",
              "</table>\n",
              "</div>"
            ],
            "text/plain": [
              "                                                 emb  label\n",
              "0  [[-0.1610043, 0.4527748, -0.9387181, 0.3837650...      1\n",
              "1  [[0.326586, -0.52607155, -0.82651794, -0.53501...      3\n",
              "2  [[-0.6700569, 0.29940653, 0.93665946, 0.660795...      2\n",
              "3  [[-0.8896185, -0.57728976, 0.86916393, 0.49304...      0\n",
              "4  [[-0.6699596, -0.18776351, -0.9814323, 0.92064...      2"
            ]
          },
          "metadata": {},
          "execution_count": 89
        }
      ]
    },
    {
      "cell_type": "code",
      "metadata": {
        "id": "08Xt-A1I8VTb"
      },
      "source": [
        "def finding_mean(mat):\n",
        "    return np.mean(mat, axis=0)"
      ],
      "execution_count": null,
      "outputs": []
    },
    {
      "cell_type": "code",
      "metadata": {
        "id": "gTOzlu3W8ZBO"
      },
      "source": [
        "df_train['mean_emb'] = df_train['emb'].apply(finding_mean)"
      ],
      "execution_count": null,
      "outputs": []
    },
    {
      "cell_type": "code",
      "metadata": {
        "id": "Ma7LNNTz6EBJ",
        "colab": {
          "base_uri": "https://localhost:8080/",
          "height": 204
        },
        "outputId": "cb5f7ee5-f076-4bfd-d4da-9f0694b6ebac"
      },
      "source": [
        "aux = -1\n",
        "len_l = 0\n",
        "val_x = {}\n",
        "\n",
        "for l, emb in zip(val_index_l, val_emb):\n",
        "  if l in val_x.keys():\n",
        "    val_x[l]  =np.vstack([val_x[l], emb])\n",
        "  else:\n",
        "    val_x[l] = [emb]\n",
        "\n",
        "\n",
        "val_l_final = []\n",
        "vlabel_l_final = []\n",
        "for k in val_x.keys():\n",
        "  val_l_final.append(val_x[k])\n",
        "  vlabel_l_final.append(val.loc[k]['label'])\n",
        "\n",
        "df_val = pd.DataFrame({'emb': val_l_final, 'label': vlabel_l_final})\n",
        "df_val.head()"
      ],
      "execution_count": null,
      "outputs": [
        {
          "output_type": "execute_result",
          "data": {
            "text/html": [
              "<div>\n",
              "<style scoped>\n",
              "    .dataframe tbody tr th:only-of-type {\n",
              "        vertical-align: middle;\n",
              "    }\n",
              "\n",
              "    .dataframe tbody tr th {\n",
              "        vertical-align: top;\n",
              "    }\n",
              "\n",
              "    .dataframe thead th {\n",
              "        text-align: right;\n",
              "    }\n",
              "</style>\n",
              "<table border=\"1\" class=\"dataframe\">\n",
              "  <thead>\n",
              "    <tr style=\"text-align: right;\">\n",
              "      <th></th>\n",
              "      <th>emb</th>\n",
              "      <th>label</th>\n",
              "    </tr>\n",
              "  </thead>\n",
              "  <tbody>\n",
              "    <tr>\n",
              "      <th>0</th>\n",
              "      <td>[[0.7754092, -0.7157613, -0.7628019, 0.7183220...</td>\n",
              "      <td>6</td>\n",
              "    </tr>\n",
              "    <tr>\n",
              "      <th>1</th>\n",
              "      <td>[[0.73216677, -0.754278, -0.7485629, 0.8141649...</td>\n",
              "      <td>6</td>\n",
              "    </tr>\n",
              "    <tr>\n",
              "      <th>2</th>\n",
              "      <td>[[0.67341906, -0.50461674, -0.9831959, 0.73962...</td>\n",
              "      <td>2</td>\n",
              "    </tr>\n",
              "    <tr>\n",
              "      <th>3</th>\n",
              "      <td>[[0.6199794, -0.040450368, -0.9822259, 0.64767...</td>\n",
              "      <td>4</td>\n",
              "    </tr>\n",
              "    <tr>\n",
              "      <th>4</th>\n",
              "      <td>[[0.6533263, 0.23176861, -0.97694004, 0.375422...</td>\n",
              "      <td>4</td>\n",
              "    </tr>\n",
              "  </tbody>\n",
              "</table>\n",
              "</div>"
            ],
            "text/plain": [
              "                                                 emb  label\n",
              "0  [[0.7754092, -0.7157613, -0.7628019, 0.7183220...      6\n",
              "1  [[0.73216677, -0.754278, -0.7485629, 0.8141649...      6\n",
              "2  [[0.67341906, -0.50461674, -0.9831959, 0.73962...      2\n",
              "3  [[0.6199794, -0.040450368, -0.9822259, 0.64767...      4\n",
              "4  [[0.6533263, 0.23176861, -0.97694004, 0.375422...      4"
            ]
          },
          "metadata": {},
          "execution_count": 92
        }
      ]
    },
    {
      "cell_type": "code",
      "metadata": {
        "id": "EbtNQaUN8fcf"
      },
      "source": [
        "df_val['mean_emb'] = df_val['emb'].apply(finding_mean)"
      ],
      "execution_count": null,
      "outputs": []
    },
    {
      "cell_type": "code",
      "metadata": {
        "id": "6r60G3NC8fov",
        "colab": {
          "base_uri": "https://localhost:8080/",
          "height": 204
        },
        "outputId": "d0ff8289-bfee-4d15-e27b-649ed4f4a6d5"
      },
      "source": [
        "df_val.head()"
      ],
      "execution_count": null,
      "outputs": [
        {
          "output_type": "execute_result",
          "data": {
            "text/html": [
              "<div>\n",
              "<style scoped>\n",
              "    .dataframe tbody tr th:only-of-type {\n",
              "        vertical-align: middle;\n",
              "    }\n",
              "\n",
              "    .dataframe tbody tr th {\n",
              "        vertical-align: top;\n",
              "    }\n",
              "\n",
              "    .dataframe thead th {\n",
              "        text-align: right;\n",
              "    }\n",
              "</style>\n",
              "<table border=\"1\" class=\"dataframe\">\n",
              "  <thead>\n",
              "    <tr style=\"text-align: right;\">\n",
              "      <th></th>\n",
              "      <th>emb</th>\n",
              "      <th>label</th>\n",
              "      <th>mean_emb</th>\n",
              "    </tr>\n",
              "  </thead>\n",
              "  <tbody>\n",
              "    <tr>\n",
              "      <th>0</th>\n",
              "      <td>[[0.7754092, -0.7157613, -0.7628019, 0.7183220...</td>\n",
              "      <td>6</td>\n",
              "      <td>[0.77188873, -0.7107458, -0.77146053, 0.745528...</td>\n",
              "    </tr>\n",
              "    <tr>\n",
              "      <th>1</th>\n",
              "      <td>[[0.73216677, -0.754278, -0.7485629, 0.8141649...</td>\n",
              "      <td>6</td>\n",
              "      <td>[0.7803488, -0.74760324, -0.71247625, 0.726761...</td>\n",
              "    </tr>\n",
              "    <tr>\n",
              "      <th>2</th>\n",
              "      <td>[[0.67341906, -0.50461674, -0.9831959, 0.73962...</td>\n",
              "      <td>2</td>\n",
              "      <td>[0.18005382, -0.46647507, -0.98544896, 0.85398...</td>\n",
              "    </tr>\n",
              "    <tr>\n",
              "      <th>3</th>\n",
              "      <td>[[0.6199794, -0.040450368, -0.9822259, 0.64767...</td>\n",
              "      <td>4</td>\n",
              "      <td>[0.644433, 0.025034526, -0.98827696, 0.6941883...</td>\n",
              "    </tr>\n",
              "    <tr>\n",
              "      <th>4</th>\n",
              "      <td>[[0.6533263, 0.23176861, -0.97694004, 0.375422...</td>\n",
              "      <td>4</td>\n",
              "      <td>[0.23425579, 0.049994316, -0.94592524, 0.67035...</td>\n",
              "    </tr>\n",
              "  </tbody>\n",
              "</table>\n",
              "</div>"
            ],
            "text/plain": [
              "                                                 emb  ...                                           mean_emb\n",
              "0  [[0.7754092, -0.7157613, -0.7628019, 0.7183220...  ...  [0.77188873, -0.7107458, -0.77146053, 0.745528...\n",
              "1  [[0.73216677, -0.754278, -0.7485629, 0.8141649...  ...  [0.7803488, -0.74760324, -0.71247625, 0.726761...\n",
              "2  [[0.67341906, -0.50461674, -0.9831959, 0.73962...  ...  [0.18005382, -0.46647507, -0.98544896, 0.85398...\n",
              "3  [[0.6199794, -0.040450368, -0.9822259, 0.64767...  ...  [0.644433, 0.025034526, -0.98827696, 0.6941883...\n",
              "4  [[0.6533263, 0.23176861, -0.97694004, 0.375422...  ...  [0.23425579, 0.049994316, -0.94592524, 0.67035...\n",
              "\n",
              "[5 rows x 3 columns]"
            ]
          },
          "metadata": {},
          "execution_count": 94
        }
      ]
    },
    {
      "cell_type": "code",
      "metadata": {
        "id": "zZ-QWHvhnHo_",
        "colab": {
          "base_uri": "https://localhost:8080/",
          "height": 204
        },
        "outputId": "237228bd-1903-4728-a27c-3c5f091b53c0"
      },
      "source": [
        "aux = -1\n",
        "len_l = 0\n",
        "test_x = {}\n",
        "\n",
        "for l, emb in zip(test_index_l, test_emb):\n",
        "  if l in test_x.keys():\n",
        "    test_x[l]  =np.vstack([test_x[l], emb])\n",
        "  else:\n",
        "    test_x[l] = [emb]\n",
        "\n",
        "\n",
        "test_l_final = []\n",
        "telabel_l_final = []\n",
        "for k in test_x.keys():\n",
        "  test_l_final.append(test_x[k])\n",
        "  telabel_l_final.append(test_set.loc[k]['label'])\n",
        "\n",
        "df_test = pd.DataFrame({'emb': test_l_final, 'label': telabel_l_final})\n",
        "df_test.head()"
      ],
      "execution_count": null,
      "outputs": [
        {
          "output_type": "execute_result",
          "data": {
            "text/html": [
              "<div>\n",
              "<style scoped>\n",
              "    .dataframe tbody tr th:only-of-type {\n",
              "        vertical-align: middle;\n",
              "    }\n",
              "\n",
              "    .dataframe tbody tr th {\n",
              "        vertical-align: top;\n",
              "    }\n",
              "\n",
              "    .dataframe thead th {\n",
              "        text-align: right;\n",
              "    }\n",
              "</style>\n",
              "<table border=\"1\" class=\"dataframe\">\n",
              "  <thead>\n",
              "    <tr style=\"text-align: right;\">\n",
              "      <th></th>\n",
              "      <th>emb</th>\n",
              "      <th>label</th>\n",
              "    </tr>\n",
              "  </thead>\n",
              "  <tbody>\n",
              "    <tr>\n",
              "      <th>0</th>\n",
              "      <td>[[-0.8872524, -0.5151761, 0.9619557, 0.4168277...</td>\n",
              "      <td>0</td>\n",
              "    </tr>\n",
              "    <tr>\n",
              "      <th>1</th>\n",
              "      <td>[[-0.8493523, -0.47106075, 0.85801953, 0.53620...</td>\n",
              "      <td>0</td>\n",
              "    </tr>\n",
              "    <tr>\n",
              "      <th>2</th>\n",
              "      <td>[[0.05610805, -0.49450946, -0.9561615, 0.44017...</td>\n",
              "      <td>3</td>\n",
              "    </tr>\n",
              "    <tr>\n",
              "      <th>3</th>\n",
              "      <td>[[0.4641734, -0.6316321, -0.921132, 0.2067978,...</td>\n",
              "      <td>3</td>\n",
              "    </tr>\n",
              "    <tr>\n",
              "      <th>4</th>\n",
              "      <td>[[-0.7124537, -0.13783441, 0.9466789, 0.398362...</td>\n",
              "      <td>0</td>\n",
              "    </tr>\n",
              "  </tbody>\n",
              "</table>\n",
              "</div>"
            ],
            "text/plain": [
              "                                                 emb  label\n",
              "0  [[-0.8872524, -0.5151761, 0.9619557, 0.4168277...      0\n",
              "1  [[-0.8493523, -0.47106075, 0.85801953, 0.53620...      0\n",
              "2  [[0.05610805, -0.49450946, -0.9561615, 0.44017...      3\n",
              "3  [[0.4641734, -0.6316321, -0.921132, 0.2067978,...      3\n",
              "4  [[-0.7124537, -0.13783441, 0.9466789, 0.398362...      0"
            ]
          },
          "metadata": {},
          "execution_count": 95
        }
      ]
    },
    {
      "cell_type": "code",
      "metadata": {
        "id": "InmeWoW88mPL"
      },
      "source": [
        "df_test['mean_emb'] = df_test['emb'].apply(finding_mean)"
      ],
      "execution_count": null,
      "outputs": []
    },
    {
      "cell_type": "code",
      "metadata": {
        "id": "YuEYH7W98oDx",
        "colab": {
          "base_uri": "https://localhost:8080/",
          "height": 204
        },
        "outputId": "f8459431-ff77-4bcc-8258-fc9801ae5f78"
      },
      "source": [
        "df_test.head()"
      ],
      "execution_count": null,
      "outputs": [
        {
          "output_type": "execute_result",
          "data": {
            "text/html": [
              "<div>\n",
              "<style scoped>\n",
              "    .dataframe tbody tr th:only-of-type {\n",
              "        vertical-align: middle;\n",
              "    }\n",
              "\n",
              "    .dataframe tbody tr th {\n",
              "        vertical-align: top;\n",
              "    }\n",
              "\n",
              "    .dataframe thead th {\n",
              "        text-align: right;\n",
              "    }\n",
              "</style>\n",
              "<table border=\"1\" class=\"dataframe\">\n",
              "  <thead>\n",
              "    <tr style=\"text-align: right;\">\n",
              "      <th></th>\n",
              "      <th>emb</th>\n",
              "      <th>label</th>\n",
              "      <th>mean_emb</th>\n",
              "    </tr>\n",
              "  </thead>\n",
              "  <tbody>\n",
              "    <tr>\n",
              "      <th>0</th>\n",
              "      <td>[[-0.8872524, -0.5151761, 0.9619557, 0.4168277...</td>\n",
              "      <td>0</td>\n",
              "      <td>[-0.8872524, -0.5151761, 0.9619557, 0.41682774...</td>\n",
              "    </tr>\n",
              "    <tr>\n",
              "      <th>1</th>\n",
              "      <td>[[-0.8493523, -0.47106075, 0.85801953, 0.53620...</td>\n",
              "      <td>0</td>\n",
              "      <td>[-0.8493523, -0.47106075, 0.85801953, 0.536203...</td>\n",
              "    </tr>\n",
              "    <tr>\n",
              "      <th>2</th>\n",
              "      <td>[[0.05610805, -0.49450946, -0.9561615, 0.44017...</td>\n",
              "      <td>3</td>\n",
              "      <td>[0.05610805, -0.49450946, -0.9561615, 0.440174...</td>\n",
              "    </tr>\n",
              "    <tr>\n",
              "      <th>3</th>\n",
              "      <td>[[0.4641734, -0.6316321, -0.921132, 0.2067978,...</td>\n",
              "      <td>3</td>\n",
              "      <td>[0.53415215, -0.63203067, -0.9163149, 0.107048...</td>\n",
              "    </tr>\n",
              "    <tr>\n",
              "      <th>4</th>\n",
              "      <td>[[-0.7124537, -0.13783441, 0.9466789, 0.398362...</td>\n",
              "      <td>0</td>\n",
              "      <td>[-0.3916529, 0.033770084, 0.8848713, 0.4719766...</td>\n",
              "    </tr>\n",
              "  </tbody>\n",
              "</table>\n",
              "</div>"
            ],
            "text/plain": [
              "                                                 emb  ...                                           mean_emb\n",
              "0  [[-0.8872524, -0.5151761, 0.9619557, 0.4168277...  ...  [-0.8872524, -0.5151761, 0.9619557, 0.41682774...\n",
              "1  [[-0.8493523, -0.47106075, 0.85801953, 0.53620...  ...  [-0.8493523, -0.47106075, 0.85801953, 0.536203...\n",
              "2  [[0.05610805, -0.49450946, -0.9561615, 0.44017...  ...  [0.05610805, -0.49450946, -0.9561615, 0.440174...\n",
              "3  [[0.4641734, -0.6316321, -0.921132, 0.2067978,...  ...  [0.53415215, -0.63203067, -0.9163149, 0.107048...\n",
              "4  [[-0.7124537, -0.13783441, 0.9466789, 0.398362...  ...  [-0.3916529, 0.033770084, 0.8848713, 0.4719766...\n",
              "\n",
              "[5 rows x 3 columns]"
            ]
          },
          "metadata": {},
          "execution_count": 97
        }
      ]
    },
    {
      "cell_type": "markdown",
      "metadata": {
        "id": "5_Jie-NVoBgu"
      },
      "source": [
        "# High variance Chunk dataset "
      ]
    },
    {
      "cell_type": "code",
      "metadata": {
        "id": "y9iBm6IwoINo"
      },
      "source": [
        "#Stacking\n",
        "train_var=[]\n",
        "for data in range(df_train['emb'].shape[0]):\n",
        "  temp={}\n",
        "  if len(df_train['emb'][data]) !=1:\n",
        "    covMatrix = np.cov(df_train['emb'][data],bias=True)\n",
        "    eigen_vals , eigen_vectors = np.linalg.eig(covMatrix)\n",
        "\n",
        "    # Make a list of (eigenvalue, eigenvector) tuples\n",
        "    eig_pairs = [(np.abs(eigen_vals[i]), eigen_vectors[:,i]) for i in range(len(eigen_vals))]\n",
        "\n",
        "    tot = sum(eigen_vals)\n",
        "    var_exp = [(i / tot)*100 for i in eigen_vals]\n",
        "    cum_var_exp = np.cumsum(var_exp)\n",
        "\n",
        "    for i in range(len(var_exp)):\n",
        "      if var_exp[i] > 5:\n",
        "         emb_l= df_train['emb'][data][i]\n",
        "         if data in temp.keys():\n",
        "            temp[data]  =np.vstack([temp[data],emb_l])  \n",
        "         else:\n",
        "            temp[data] = [emb_l]\n",
        "  else:\n",
        "    temp[data] =df_train['emb'][data]\n",
        "  train_var.append(temp[data])"
      ],
      "execution_count": null,
      "outputs": []
    },
    {
      "cell_type": "code",
      "metadata": {
        "id": "e7VTsH9zoIRZ"
      },
      "source": [
        "df_train_var = pd.DataFrame({'emb': train_var, 'label': df_train['label']})\n",
        "df_train_var.head()\n",
        "df_train_var['mean_emb'] = df_train_var['emb'].apply(finding_mean)"
      ],
      "execution_count": null,
      "outputs": []
    },
    {
      "cell_type": "code",
      "metadata": {
        "colab": {
          "base_uri": "https://localhost:8080/",
          "height": 111
        },
        "id": "PS57-po0o8L_",
        "outputId": "d45ff004-ee65-45df-e3cf-55d48997f3f8"
      },
      "source": [
        "df_train.head(2)"
      ],
      "execution_count": null,
      "outputs": [
        {
          "output_type": "execute_result",
          "data": {
            "text/html": [
              "<div>\n",
              "<style scoped>\n",
              "    .dataframe tbody tr th:only-of-type {\n",
              "        vertical-align: middle;\n",
              "    }\n",
              "\n",
              "    .dataframe tbody tr th {\n",
              "        vertical-align: top;\n",
              "    }\n",
              "\n",
              "    .dataframe thead th {\n",
              "        text-align: right;\n",
              "    }\n",
              "</style>\n",
              "<table border=\"1\" class=\"dataframe\">\n",
              "  <thead>\n",
              "    <tr style=\"text-align: right;\">\n",
              "      <th></th>\n",
              "      <th>emb</th>\n",
              "      <th>label</th>\n",
              "      <th>mean_emb</th>\n",
              "    </tr>\n",
              "  </thead>\n",
              "  <tbody>\n",
              "    <tr>\n",
              "      <th>0</th>\n",
              "      <td>[[-0.1610043, 0.4527748, -0.9387181, 0.3837650...</td>\n",
              "      <td>1</td>\n",
              "      <td>[-0.20329411, 0.37748846, -0.93513477, 0.50127...</td>\n",
              "    </tr>\n",
              "    <tr>\n",
              "      <th>1</th>\n",
              "      <td>[[0.326586, -0.52607155, -0.82651794, -0.53501...</td>\n",
              "      <td>3</td>\n",
              "      <td>[0.326586, -0.52607155, -0.82651794, -0.535012...</td>\n",
              "    </tr>\n",
              "  </tbody>\n",
              "</table>\n",
              "</div>"
            ],
            "text/plain": [
              "                                                 emb  ...                                           mean_emb\n",
              "0  [[-0.1610043, 0.4527748, -0.9387181, 0.3837650...  ...  [-0.20329411, 0.37748846, -0.93513477, 0.50127...\n",
              "1  [[0.326586, -0.52607155, -0.82651794, -0.53501...  ...  [0.326586, -0.52607155, -0.82651794, -0.535012...\n",
              "\n",
              "[2 rows x 3 columns]"
            ]
          },
          "metadata": {},
          "execution_count": 100
        }
      ]
    },
    {
      "cell_type": "code",
      "metadata": {
        "colab": {
          "base_uri": "https://localhost:8080/",
          "height": 111
        },
        "id": "fTBBY-d2o8S3",
        "outputId": "ea304c16-3cbf-4cf4-d876-112b8fe5877c"
      },
      "source": [
        "df_train_var.head(2)"
      ],
      "execution_count": null,
      "outputs": [
        {
          "output_type": "execute_result",
          "data": {
            "text/html": [
              "<div>\n",
              "<style scoped>\n",
              "    .dataframe tbody tr th:only-of-type {\n",
              "        vertical-align: middle;\n",
              "    }\n",
              "\n",
              "    .dataframe tbody tr th {\n",
              "        vertical-align: top;\n",
              "    }\n",
              "\n",
              "    .dataframe thead th {\n",
              "        text-align: right;\n",
              "    }\n",
              "</style>\n",
              "<table border=\"1\" class=\"dataframe\">\n",
              "  <thead>\n",
              "    <tr style=\"text-align: right;\">\n",
              "      <th></th>\n",
              "      <th>emb</th>\n",
              "      <th>label</th>\n",
              "      <th>mean_emb</th>\n",
              "    </tr>\n",
              "  </thead>\n",
              "  <tbody>\n",
              "    <tr>\n",
              "      <th>0</th>\n",
              "      <td>[[-0.1610043, 0.4527748, -0.9387181, 0.3837650...</td>\n",
              "      <td>1</td>\n",
              "      <td>[-0.1610043, 0.4527748, -0.9387181, 0.38376507...</td>\n",
              "    </tr>\n",
              "    <tr>\n",
              "      <th>1</th>\n",
              "      <td>[[0.326586, -0.52607155, -0.82651794, -0.53501...</td>\n",
              "      <td>3</td>\n",
              "      <td>[0.326586, -0.52607155, -0.82651794, -0.535012...</td>\n",
              "    </tr>\n",
              "  </tbody>\n",
              "</table>\n",
              "</div>"
            ],
            "text/plain": [
              "                                                 emb  ...                                           mean_emb\n",
              "0  [[-0.1610043, 0.4527748, -0.9387181, 0.3837650...  ...  [-0.1610043, 0.4527748, -0.9387181, 0.38376507...\n",
              "1  [[0.326586, -0.52607155, -0.82651794, -0.53501...  ...  [0.326586, -0.52607155, -0.82651794, -0.535012...\n",
              "\n",
              "[2 rows x 3 columns]"
            ]
          },
          "metadata": {},
          "execution_count": 101
        }
      ]
    },
    {
      "cell_type": "code",
      "metadata": {
        "colab": {
          "base_uri": "https://localhost:8080/",
          "height": 111
        },
        "id": "s-CXa58Ao8Wr",
        "outputId": "8ffa7c79-da16-4bba-ea87-bcb748897db7"
      },
      "source": [
        "df_val.reset_index(drop=True, inplace=True)\n",
        "df_val.head(2)"
      ],
      "execution_count": null,
      "outputs": [
        {
          "output_type": "execute_result",
          "data": {
            "text/html": [
              "<div>\n",
              "<style scoped>\n",
              "    .dataframe tbody tr th:only-of-type {\n",
              "        vertical-align: middle;\n",
              "    }\n",
              "\n",
              "    .dataframe tbody tr th {\n",
              "        vertical-align: top;\n",
              "    }\n",
              "\n",
              "    .dataframe thead th {\n",
              "        text-align: right;\n",
              "    }\n",
              "</style>\n",
              "<table border=\"1\" class=\"dataframe\">\n",
              "  <thead>\n",
              "    <tr style=\"text-align: right;\">\n",
              "      <th></th>\n",
              "      <th>emb</th>\n",
              "      <th>label</th>\n",
              "      <th>mean_emb</th>\n",
              "    </tr>\n",
              "  </thead>\n",
              "  <tbody>\n",
              "    <tr>\n",
              "      <th>0</th>\n",
              "      <td>[[0.7754092, -0.7157613, -0.7628019, 0.7183220...</td>\n",
              "      <td>6</td>\n",
              "      <td>[0.77188873, -0.7107458, -0.77146053, 0.745528...</td>\n",
              "    </tr>\n",
              "    <tr>\n",
              "      <th>1</th>\n",
              "      <td>[[0.73216677, -0.754278, -0.7485629, 0.8141649...</td>\n",
              "      <td>6</td>\n",
              "      <td>[0.7803488, -0.74760324, -0.71247625, 0.726761...</td>\n",
              "    </tr>\n",
              "  </tbody>\n",
              "</table>\n",
              "</div>"
            ],
            "text/plain": [
              "                                                 emb  ...                                           mean_emb\n",
              "0  [[0.7754092, -0.7157613, -0.7628019, 0.7183220...  ...  [0.77188873, -0.7107458, -0.77146053, 0.745528...\n",
              "1  [[0.73216677, -0.754278, -0.7485629, 0.8141649...  ...  [0.7803488, -0.74760324, -0.71247625, 0.726761...\n",
              "\n",
              "[2 rows x 3 columns]"
            ]
          },
          "metadata": {},
          "execution_count": 102
        }
      ]
    },
    {
      "cell_type": "code",
      "metadata": {
        "id": "SbjqF4Wvo8ab"
      },
      "source": [
        "##creating the validation set \n",
        "val_var=[]\n",
        "for data in range(df_val['emb'].shape[0]):\n",
        "  temp={}\n",
        "  if len(df_val['emb'][data]) !=1:\n",
        "    covMatrix = np.cov(df_val['emb'][data],bias=True)\n",
        "    eigen_vals , eigen_vectors = np.linalg.eig(covMatrix)\n",
        "\n",
        "    # Make a list of (eigenvalue, eigenvector) tuples\n",
        "    eig_pairs = [(np.abs(eigen_vals[i]), eigen_vectors[:,i]) for i in range(len(eigen_vals))]\n",
        "\n",
        "    tot = sum(eigen_vals)\n",
        "    var_exp = [(i / tot)*100 for i in eigen_vals]\n",
        "    cum_var_exp = np.cumsum(var_exp)\n",
        "\n",
        "    for i in range(len(var_exp)):\n",
        "      if var_exp[i] > 5:\n",
        "         emb_l= df_val['emb'][data][i]\n",
        "         if data in temp.keys():\n",
        "            temp[data]  =np.vstack([temp[data],emb_l])  \n",
        "         else:\n",
        "            temp[data] = [emb_l]\n",
        "  else:\n",
        "    temp[data] =df_val['emb'][data]\n",
        "  val_var.append(temp[data])\n",
        "\n",
        "df_val_var = pd.DataFrame({'emb': val_var, 'label': df_val['label']})\n",
        "df_val_var.head()\n",
        "df_val_var['mean_emb'] = df_val_var['emb'].apply(finding_mean)"
      ],
      "execution_count": null,
      "outputs": []
    },
    {
      "cell_type": "code",
      "metadata": {
        "colab": {
          "base_uri": "https://localhost:8080/",
          "height": 111
        },
        "id": "BawTXvz0o8eX",
        "outputId": "ba501faf-bfe1-4c78-a22f-9858079bec29"
      },
      "source": [
        "df_test.reset_index(drop=True, inplace=True)\n",
        "df_test.head(2)"
      ],
      "execution_count": null,
      "outputs": [
        {
          "output_type": "execute_result",
          "data": {
            "text/html": [
              "<div>\n",
              "<style scoped>\n",
              "    .dataframe tbody tr th:only-of-type {\n",
              "        vertical-align: middle;\n",
              "    }\n",
              "\n",
              "    .dataframe tbody tr th {\n",
              "        vertical-align: top;\n",
              "    }\n",
              "\n",
              "    .dataframe thead th {\n",
              "        text-align: right;\n",
              "    }\n",
              "</style>\n",
              "<table border=\"1\" class=\"dataframe\">\n",
              "  <thead>\n",
              "    <tr style=\"text-align: right;\">\n",
              "      <th></th>\n",
              "      <th>emb</th>\n",
              "      <th>label</th>\n",
              "      <th>mean_emb</th>\n",
              "    </tr>\n",
              "  </thead>\n",
              "  <tbody>\n",
              "    <tr>\n",
              "      <th>0</th>\n",
              "      <td>[[-0.8872524, -0.5151761, 0.9619557, 0.4168277...</td>\n",
              "      <td>0</td>\n",
              "      <td>[-0.8872524, -0.5151761, 0.9619557, 0.41682774...</td>\n",
              "    </tr>\n",
              "    <tr>\n",
              "      <th>1</th>\n",
              "      <td>[[-0.8493523, -0.47106075, 0.85801953, 0.53620...</td>\n",
              "      <td>0</td>\n",
              "      <td>[-0.8493523, -0.47106075, 0.85801953, 0.536203...</td>\n",
              "    </tr>\n",
              "  </tbody>\n",
              "</table>\n",
              "</div>"
            ],
            "text/plain": [
              "                                                 emb  ...                                           mean_emb\n",
              "0  [[-0.8872524, -0.5151761, 0.9619557, 0.4168277...  ...  [-0.8872524, -0.5151761, 0.9619557, 0.41682774...\n",
              "1  [[-0.8493523, -0.47106075, 0.85801953, 0.53620...  ...  [-0.8493523, -0.47106075, 0.85801953, 0.536203...\n",
              "\n",
              "[2 rows x 3 columns]"
            ]
          },
          "metadata": {},
          "execution_count": 104
        }
      ]
    },
    {
      "cell_type": "code",
      "metadata": {
        "id": "U4JvmATcoITT"
      },
      "source": [
        "##creating the test data \n",
        "test_var=[]\n",
        "for data in range(df_test['emb'].shape[0]):\n",
        "  temp={}\n",
        "  if len(df_test['emb'][data]) !=1:\n",
        "    covMatrix = np.cov(df_test['emb'][data],bias=True)\n",
        "    eigen_vals , eigen_vectors = np.linalg.eig(covMatrix)\n",
        "\n",
        "    # Make a list of (eigenvalue, eigenvector) tuples\n",
        "    eig_pairs = [(np.abs(eigen_vals[i]), eigen_vectors[:,i]) for i in range(len(eigen_vals))]\n",
        "\n",
        "    tot = sum(eigen_vals)\n",
        "    var_exp = [(i / tot)*100 for i in eigen_vals]\n",
        "    cum_var_exp = np.cumsum(var_exp)\n",
        "\n",
        "    for i in range(len(var_exp)):\n",
        "      if var_exp[i] > 5:\n",
        "         emb_l= df_test['emb'][data][i]\n",
        "         if data in temp.keys():\n",
        "            temp[data]  =np.vstack([temp[data],emb_l])  \n",
        "         else:\n",
        "            temp[data] = [emb_l]\n",
        "  else:\n",
        "    temp[data] =df_test['emb'][data]\n",
        "  test_var.append(temp[data])\n",
        "\n",
        "df_test_var = pd.DataFrame({'emb': test_var, 'label': df_test['label']})\n",
        "df_test_var.head()\n",
        "df_test_var['mean_emb'] = df_test_var['emb'].apply(finding_mean)"
      ],
      "execution_count": null,
      "outputs": []
    },
    {
      "cell_type": "code",
      "metadata": {
        "colab": {
          "base_uri": "https://localhost:8080/"
        },
        "id": "bW0VrhTWoIVF",
        "outputId": "0f101679-9aab-4631-cd6e-f8f888c23f2b"
      },
      "source": [
        "df_train_var.shape , df_val_var.shape, df_test_var.shape"
      ],
      "execution_count": null,
      "outputs": [
        {
          "output_type": "execute_result",
          "data": {
            "text/plain": [
              "((11444, 3), (2861, 3), (2837, 3))"
            ]
          },
          "metadata": {},
          "execution_count": 106
        }
      ]
    },
    {
      "cell_type": "code",
      "metadata": {
        "colab": {
          "base_uri": "https://localhost:8080/"
        },
        "id": "b07N9hPBoIXr",
        "outputId": "6eeac32d-e4f0-4c99-d9d5-1172bbd4b009"
      },
      "source": [
        "df_train.shape, df_val.shape, df_test.shape"
      ],
      "execution_count": null,
      "outputs": [
        {
          "output_type": "execute_result",
          "data": {
            "text/plain": [
              "((11444, 3), (2861, 3), (2837, 3))"
            ]
          },
          "metadata": {},
          "execution_count": 107
        }
      ]
    },
    {
      "cell_type": "code",
      "metadata": {
        "colab": {
          "base_uri": "https://localhost:8080/"
        },
        "id": "JwR5u6IBpNcc",
        "outputId": "399b4f3c-e549-468d-e6ce-cc0ba04ded77"
      },
      "source": [
        "type(df_train_var['emb'][2])"
      ],
      "execution_count": null,
      "outputs": [
        {
          "output_type": "execute_result",
          "data": {
            "text/plain": [
              "list"
            ]
          },
          "metadata": {},
          "execution_count": 108
        }
      ]
    },
    {
      "cell_type": "code",
      "metadata": {
        "colab": {
          "base_uri": "https://localhost:8080/"
        },
        "id": "OJTbbuSopNgb",
        "outputId": "e87be8b5-326f-46e4-b409-65f0e848b2b2"
      },
      "source": [
        "type(df_train['emb'][2])"
      ],
      "execution_count": null,
      "outputs": [
        {
          "output_type": "execute_result",
          "data": {
            "text/plain": [
              "numpy.ndarray"
            ]
          },
          "metadata": {},
          "execution_count": 109
        }
      ]
    },
    {
      "cell_type": "code",
      "metadata": {
        "id": "S1ro1w5soIbi"
      },
      "source": [
        "def get_split_count_1(text):\n",
        "  return len(text)"
      ],
      "execution_count": null,
      "outputs": []
    },
    {
      "cell_type": "code",
      "metadata": {
        "id": "Gklpv4bjpR44"
      },
      "source": [
        "df_train_var['text_split_count'] = df_train_var['emb'].apply(get_split_count_1)\n",
        "df_val_var['text_split_count'] = df_val_var['emb'].apply(get_split_count_1)\n",
        "df_test_var['text_split_count'] = df_test_var['emb'].apply(get_split_count_1)"
      ],
      "execution_count": null,
      "outputs": []
    },
    {
      "cell_type": "code",
      "metadata": {
        "id": "-IGTsIFdpR9o"
      },
      "source": [
        "df_train['text_split_count'] = df_train['emb'].apply(get_split_count_1)\n",
        "df_val['text_split_count'] = df_val['emb'].apply(get_split_count_1)\n",
        "df_test['text_split_count'] = df_test['emb'].apply(get_split_count_1)"
      ],
      "execution_count": null,
      "outputs": []
    },
    {
      "cell_type": "code",
      "metadata": {
        "colab": {
          "base_uri": "https://localhost:8080/"
        },
        "id": "GTccTpFupSBh",
        "outputId": "63d87d67-ce9c-4a41-d512-dc3e4844be1b"
      },
      "source": [
        "max(df_train['text_split_count'].unique())"
      ],
      "execution_count": null,
      "outputs": [
        {
          "output_type": "execute_result",
          "data": {
            "text/plain": [
              "5"
            ]
          },
          "metadata": {},
          "execution_count": 113
        }
      ]
    },
    {
      "cell_type": "code",
      "metadata": {
        "colab": {
          "base_uri": "https://localhost:8080/"
        },
        "id": "ItRdmHYhpX9s",
        "outputId": "264423f3-ac62-4661-8707-1d61d9009fc8"
      },
      "source": [
        "max(df_train_var['text_split_count'].unique())"
      ],
      "execution_count": null,
      "outputs": [
        {
          "output_type": "execute_result",
          "data": {
            "text/plain": [
              "4"
            ]
          },
          "metadata": {},
          "execution_count": 114
        }
      ]
    },
    {
      "cell_type": "code",
      "metadata": {
        "colab": {
          "base_uri": "https://localhost:8080/"
        },
        "id": "j1ZHGmY2pYC1",
        "outputId": "edd3e939-57a4-4bb4-e418-b4d498956efc"
      },
      "source": [
        "max(df_test['text_split_count'].unique())"
      ],
      "execution_count": null,
      "outputs": [
        {
          "output_type": "execute_result",
          "data": {
            "text/plain": [
              "3"
            ]
          },
          "metadata": {},
          "execution_count": 115
        }
      ]
    },
    {
      "cell_type": "code",
      "metadata": {
        "colab": {
          "base_uri": "https://localhost:8080/"
        },
        "id": "jYFBRgPppYGE",
        "outputId": "4d079def-bd75-4088-a3c3-bb780b59a257"
      },
      "source": [
        "max(df_test_var['text_split_count'].unique())"
      ],
      "execution_count": null,
      "outputs": [
        {
          "output_type": "execute_result",
          "data": {
            "text/plain": [
              "3"
            ]
          },
          "metadata": {},
          "execution_count": 116
        }
      ]
    },
    {
      "cell_type": "markdown",
      "metadata": {
        "id": "2Towzj7ipdeK"
      },
      "source": [
        "# LSTM Model Creation"
      ]
    },
    {
      "cell_type": "code",
      "metadata": {
        "colab": {
          "base_uri": "https://localhost:8080/"
        },
        "id": "EkJQYFufpcw7",
        "outputId": "262ece6c-02e9-4646-b505-86324ce6bd74"
      },
      "source": [
        "from keras import layers\n",
        "from keras.layers import Embedding, Dense, Input, concatenate, Layer, Lambda, Dropout, Activation\n",
        "from keras.models import Sequential, Model\n",
        "text_input = Input(shape=(None,768,), dtype='float32', name='text')\n",
        "\n",
        "l_mask = layers.Masking(mask_value=-99.)(text_input)\n",
        "# Which we encoded in a single vector via a LSTM\n",
        "encoded_text = layers.LSTM(100,)(l_mask)\n",
        "out_dense = layers.Dense(30, activation='relu')(encoded_text)\n",
        "# And we add a softmax classifier on top\n",
        "out = layers.Dense(len(label_list), activation='softmax')(out_dense)\n",
        "# At model instantiation, we specify the input and the output:\n",
        "model = Model(text_input, out)\n",
        "model.compile(optimizer='adam',\n",
        "              loss='sparse_categorical_crossentropy',\n",
        "              metrics=['acc'])\n",
        "model.summary()"
      ],
      "execution_count": null,
      "outputs": [
        {
          "output_type": "stream",
          "name": "stdout",
          "text": [
            "Model: \"model\"\n",
            "_________________________________________________________________\n",
            "Layer (type)                 Output Shape              Param #   \n",
            "=================================================================\n",
            "text (InputLayer)            [(None, None, 768)]       0         \n",
            "_________________________________________________________________\n",
            "masking (Masking)            (None, None, 768)         0         \n",
            "_________________________________________________________________\n",
            "lstm (LSTM)                  (None, 100)               347600    \n",
            "_________________________________________________________________\n",
            "dense (Dense)                (None, 30)                3030      \n",
            "_________________________________________________________________\n",
            "dense_1 (Dense)              (None, 10)                310       \n",
            "=================================================================\n",
            "Total params: 350,940\n",
            "Trainable params: 350,940\n",
            "Non-trainable params: 0\n",
            "_________________________________________________________________\n"
          ]
        }
      ]
    },
    {
      "cell_type": "code",
      "metadata": {
        "colab": {
          "base_uri": "https://localhost:8080/"
        },
        "id": "RUAa-g2XpkBP",
        "outputId": "55946a68-62c4-4601-b318-9b03c4674344"
      },
      "source": [
        "df_train.shape, df_val.shape, df_test.shape"
      ],
      "execution_count": null,
      "outputs": [
        {
          "output_type": "execute_result",
          "data": {
            "text/plain": [
              "((11444, 4), (2861, 4), (2837, 4))"
            ]
          },
          "metadata": {},
          "execution_count": 118
        }
      ]
    },
    {
      "cell_type": "code",
      "metadata": {
        "id": "bHJkVJoGpkF-"
      },
      "source": [
        "num_sequences = len(df_train_var['emb'].to_list())\n",
        "batch_size = 4\n",
        "batches_per_epoch =  2861\n",
        "assert batch_size * batches_per_epoch == num_sequences\n",
        "num_features= 768\n",
        "def train_generator(df):\n",
        "    x_list= df['emb'].to_list()\n",
        "    y_list =  df.label.to_list()\n",
        "    # Generate batches\n",
        "    while True:\n",
        "        for b in range(batches_per_epoch):\n",
        "            longest_index = (b + 1) * batch_size - 1\n",
        "            timesteps = len(max(df['emb'].to_list()[:(b + 1) * batch_size][-batch_size:], key=len))\n",
        "            x_train = np.full((batch_size, timesteps, num_features), -99.)\n",
        "            y_train = np.zeros((batch_size,  1))\n",
        "            for i in range(batch_size):\n",
        "                li = b * batch_size + i\n",
        "                x_train[i, 0:len(x_list[li]), :] = x_list[li]\n",
        "                y_train[i] = y_list[li]\n",
        "            yield x_train, y_train"
      ],
      "execution_count": null,
      "outputs": []
    },
    {
      "cell_type": "code",
      "metadata": {
        "id": "xd3qe1F_pkH5"
      },
      "source": [
        "num_sequences_val = len(df_val_var['emb'].to_list())\n",
        "batch_size_val = 1\n",
        "batches_per_epoch_val = 2861\n",
        "assert batch_size_val * batches_per_epoch_val == num_sequences_val\n",
        "num_features= 768\n",
        "def val_generator(df):\n",
        "    x_list= df['emb'].to_list()\n",
        "    y_list =  df.label.to_list()\n",
        "    # Generate batches\n",
        "    while True:\n",
        "        for b in range(batches_per_epoch_val):\n",
        "            longest_index = (b + 1) * batch_size_val - 1\n",
        "            timesteps = len(max(df['emb'].to_list()[:(b + 1) * batch_size_val][-31:], key=len))\n",
        "            # print(len(df_train['emb'].to_list()[:b+batch_size][-7:]))\n",
        "            x_train = np.full((batch_size_val, timesteps, num_features), -99.)\n",
        "            y_train = np.zeros((batch_size_val,  1))\n",
        "            for i in range(batch_size_val):\n",
        "                li = b * batch_size_val + i\n",
        "                # print(\"li\", li)\n",
        "                # print(x_train[i, 0:len(x_list[li]), :].shape, len(x_list[li]))\n",
        "                x_train[i, 0:len(x_list[li]), :] = x_list[li]\n",
        "                y_train[i] = y_list[li]\n",
        "            yield x_train, y_train"
      ],
      "execution_count": null,
      "outputs": []
    },
    {
      "cell_type": "code",
      "metadata": {
        "id": "5RjmLpTVpyaw"
      },
      "source": [
        "from keras.callbacks import ReduceLROnPlateau\n",
        "call_reduce = ReduceLROnPlateau(monitor='val_acc', factor=0.95, patience=3, verbose=2,\n",
        "                                mode='auto', min_delta=0.01, cooldown=0, min_lr=0)"
      ],
      "execution_count": null,
      "outputs": []
    },
    {
      "cell_type": "code",
      "metadata": {
        "id": "hca9-1yncnnr"
      },
      "source": [
        "ES=tf.keras.callbacks.EarlyStopping(patience=5, restore_best_weights=True)\n",
        "model.fit_generator(train_generator_encoder(df_train_var), steps_per_epoch=batches_per_epoch, epochs=50,validation_data=val_generator_encoder(df_val_var), validation_steps=batches_per_epoch_val,callbacks=[ES])"
      ],
      "execution_count": null,
      "outputs": []
    },
    {
      "cell_type": "code",
      "metadata": {
        "colab": {
          "base_uri": "https://localhost:8080/"
        },
        "id": "A2ouEm87pyem",
        "outputId": "c8105456-05a6-45ba-abe1-919100b33d92"
      },
      "source": [
        "model.fit_generator(train_generator(df_train_var), steps_per_epoch=batches_per_epoch, epochs=10,\n",
        "                    validation_data=val_generator(df_val_var), validation_steps=batches_per_epoch_val, callbacks =[call_reduce] )"
      ],
      "execution_count": null,
      "outputs": [
        {
          "output_type": "stream",
          "name": "stdout",
          "text": [
            "Epoch 1/10\n"
          ]
        },
        {
          "output_type": "stream",
          "name": "stderr",
          "text": [
            "/usr/local/lib/python3.7/dist-packages/keras/engine/training_v1.py:1228: UserWarning: `model.fit_generator` is deprecated and will be removed in a future version. Please use `Model.fit`, which supports generators.\n",
            "  warnings.warn('`model.fit_generator` is deprecated and '\n"
          ]
        },
        {
          "output_type": "stream",
          "name": "stdout",
          "text": [
            "2859/2861 [============================>.] - ETA: 0s - batch: 1429.0000 - size: 4.0000 - loss: 0.3588 - acc: 0.9058"
          ]
        },
        {
          "output_type": "stream",
          "name": "stderr",
          "text": [
            "/usr/local/lib/python3.7/dist-packages/keras/engine/training.py:2470: UserWarning: `Model.state_updates` will be removed in a future version. This property should not be used in TensorFlow 2.0, as `updates` are applied automatically.\n",
            "  warnings.warn('`Model.state_updates` will be removed in a future version. '\n"
          ]
        },
        {
          "output_type": "stream",
          "name": "stdout",
          "text": [
            "2861/2861 [==============================] - 18s 6ms/step - batch: 1430.0000 - size: 4.0000 - loss: 0.3586 - acc: 0.9059 - val_loss: 0.4071 - val_acc: 0.8902 - lr: 0.0010\n",
            "Epoch 2/10\n",
            "2861/2861 [==============================] - 17s 6ms/step - batch: 1430.0000 - size: 4.0000 - loss: 0.3170 - acc: 0.9139 - val_loss: 0.4038 - val_acc: 0.8923 - lr: 0.0010\n",
            "Epoch 3/10\n",
            "2861/2861 [==============================] - 18s 6ms/step - batch: 1430.0000 - size: 4.0000 - loss: 0.3080 - acc: 0.9129 - val_loss: 0.3927 - val_acc: 0.8920 - lr: 0.0010\n",
            "Epoch 4/10\n",
            "2854/2861 [============================>.] - ETA: 0s - batch: 1426.5000 - size: 4.0000 - loss: 0.3020 - acc: 0.9135\n",
            "Epoch 00004: ReduceLROnPlateau reducing learning rate to 0.0009500000451225787.\n",
            "2861/2861 [==============================] - 17s 6ms/step - batch: 1430.0000 - size: 4.0000 - loss: 0.3014 - acc: 0.9137 - val_loss: 0.3833 - val_acc: 0.8923 - lr: 0.0010\n",
            "Epoch 5/10\n",
            "2861/2861 [==============================] - 17s 6ms/step - batch: 1430.0000 - size: 4.0000 - loss: 0.2922 - acc: 0.9170 - val_loss: 0.3868 - val_acc: 0.8916 - lr: 9.5000e-04\n",
            "Epoch 6/10\n",
            "2861/2861 [==============================] - 17s 6ms/step - batch: 1430.0000 - size: 4.0000 - loss: 0.2889 - acc: 0.9174 - val_loss: 0.3930 - val_acc: 0.8875 - lr: 9.5000e-04\n",
            "Epoch 7/10\n",
            "2852/2861 [============================>.] - ETA: 0s - batch: 1425.5000 - size: 4.0000 - loss: 0.2858 - acc: 0.9176\n",
            "Epoch 00007: ReduceLROnPlateau reducing learning rate to 0.0009025000152178108.\n",
            "2861/2861 [==============================] - 17s 6ms/step - batch: 1430.0000 - size: 4.0000 - loss: 0.2857 - acc: 0.9176 - val_loss: 0.3867 - val_acc: 0.8913 - lr: 9.5000e-04\n",
            "Epoch 8/10\n",
            "2861/2861 [==============================] - 17s 6ms/step - batch: 1430.0000 - size: 4.0000 - loss: 0.2840 - acc: 0.9169 - val_loss: 0.3882 - val_acc: 0.8889 - lr: 9.0250e-04\n",
            "Epoch 9/10\n",
            "2861/2861 [==============================] - 17s 6ms/step - batch: 1430.0000 - size: 4.0000 - loss: 0.2789 - acc: 0.9177 - val_loss: 0.3853 - val_acc: 0.8944 - lr: 9.0250e-04\n",
            "Epoch 10/10\n",
            "2859/2861 [============================>.] - ETA: 0s - batch: 1429.0000 - size: 4.0000 - loss: 0.2761 - acc: 0.9203\n",
            "Epoch 00010: ReduceLROnPlateau reducing learning rate to 0.0008573750033974647.\n",
            "2861/2861 [==============================] - 17s 6ms/step - batch: 1430.0000 - size: 4.0000 - loss: 0.2759 - acc: 0.9203 - val_loss: 0.3758 - val_acc: 0.8913 - lr: 9.0250e-04\n"
          ]
        },
        {
          "output_type": "execute_result",
          "data": {
            "text/plain": [
              "<keras.callbacks.History at 0x7fd9333900d0>"
            ]
          },
          "metadata": {},
          "execution_count": 122
        }
      ]
    },
    {
      "cell_type": "code",
      "metadata": {
        "colab": {
          "base_uri": "https://localhost:8080/"
        },
        "id": "QD-nvanEpygm",
        "outputId": "c78c5fe0-f0a0-432a-e935-3b7fa117d754"
      },
      "source": [
        "num_sequences_val = len(df_test_var['emb'].to_list())\n",
        "batch_size_val = 1\n",
        "batches_per_epoch_val = 2837\n",
        "assert batch_size_val * batches_per_epoch_val == num_sequences_val\n",
        "num_features= 768\n",
        "model.evaluate_generator(val_generator(df_test_var), steps= batches_per_epoch_val)"
      ],
      "execution_count": null,
      "outputs": [
        {
          "output_type": "stream",
          "name": "stderr",
          "text": [
            "/usr/local/lib/python3.7/dist-packages/keras/engine/training_v1.py:1261: UserWarning: `Model.evaluate_generator` is deprecated and will be removed in a future version. Please use `Model.evaluate`, which supports generators.\n",
            "  warnings.warn('`Model.evaluate_generator` is deprecated and '\n"
          ]
        },
        {
          "output_type": "execute_result",
          "data": {
            "text/plain": [
              "[0.42664311203415844, 0.8808601]"
            ]
          },
          "metadata": {},
          "execution_count": 123
        }
      ]
    },
    {
      "cell_type": "code",
      "metadata": {
        "colab": {
          "base_uri": "https://localhost:8080/"
        },
        "id": "h7iTdxD-pyiP",
        "outputId": "48f41347-b095-4519-d307-ca0fc145b3f7"
      },
      "source": [
        "y_proba1=model.predict(val_generator(df_test_var), steps= batches_per_epoch_val)"
      ],
      "execution_count": null,
      "outputs": [
        {
          "output_type": "stream",
          "name": "stderr",
          "text": [
            "/usr/local/lib/python3.7/dist-packages/keras/engine/training.py:2470: UserWarning: `Model.state_updates` will be removed in a future version. This property should not be used in TensorFlow 2.0, as `updates` are applied automatically.\n",
            "  warnings.warn('`Model.state_updates` will be removed in a future version. '\n"
          ]
        }
      ]
    },
    {
      "cell_type": "code",
      "metadata": {
        "id": "7QDx3lT4-RY0"
      },
      "source": [
        "y_pred1=[]\n",
        "for i in y_proba1:\n",
        "    max_index_row = np.argmax(i, axis=0)\n",
        "    y_pred1.append(max_index_row)"
      ],
      "execution_count": null,
      "outputs": []
    },
    {
      "cell_type": "code",
      "metadata": {
        "colab": {
          "base_uri": "https://localhost:8080/"
        },
        "id": "09zvbgu3qVL3",
        "outputId": "8590fa38-b485-4d6f-965d-7d5344ce7e0b"
      },
      "source": [
        "#Evaluating Model Performance by creating confusion matrix and classification report\n",
        "from sklearn.metrics import classification_report, confusion_matrix\n",
        "print('Confusion Matrix')\n",
        "print(confusion_matrix(y_pred1, df_test_var['label']))\n",
        "print('Classification Report')\n",
        "print(classification_report(y_pred1, df_test_var['label']))"
      ],
      "execution_count": null,
      "outputs": [
        {
          "output_type": "stream",
          "name": "stdout",
          "text": [
            "Confusion Matrix\n",
            "[[286   4  24   2   2  15   8   0   1   0]\n",
            " [  6 116   1   3  11   0   9   0  14   0]\n",
            " [ 18   7 366   7  13   3   2   0   0   0]\n",
            " [  0   5   2 276  13   1   2   0   0   3]\n",
            " [  4   9  19  21 437   0   7   0   5   9]\n",
            " [  6   0   1   0   0  17   1   3   1   0]\n",
            " [  9   8   4   7  22   0 902   1   1   0]\n",
            " [  0   0   0   0   0   0   0   0   0   0]\n",
            " [  0   1   0   0   1   0   0   0   1   0]\n",
            " [  1   2   0   4  13   0   1   1   0  98]]\n",
            "Classification Report\n",
            "              precision    recall  f1-score   support\n",
            "\n",
            "           0       0.87      0.84      0.85       342\n",
            "           1       0.76      0.72      0.74       160\n",
            "           2       0.88      0.88      0.88       416\n",
            "           3       0.86      0.91      0.89       302\n",
            "           4       0.85      0.86      0.85       511\n",
            "           5       0.47      0.59      0.52        29\n",
            "           6       0.97      0.95      0.96       954\n",
            "           7       0.00      0.00      0.00         0\n",
            "           8       0.04      0.33      0.08         3\n",
            "           9       0.89      0.82      0.85       120\n",
            "\n",
            "    accuracy                           0.88      2837\n",
            "   macro avg       0.66      0.69      0.66      2837\n",
            "weighted avg       0.89      0.88      0.88      2837\n",
            "\n"
          ]
        },
        {
          "output_type": "stream",
          "name": "stderr",
          "text": [
            "/usr/local/lib/python3.7/dist-packages/sklearn/metrics/_classification.py:1272: UndefinedMetricWarning: Recall and F-score are ill-defined and being set to 0.0 in labels with no true samples. Use `zero_division` parameter to control this behavior.\n",
            "  _warn_prf(average, modifier, msg_start, len(result))\n"
          ]
        }
      ]
    },
    {
      "cell_type": "code",
      "metadata": {
        "id": "kKcQb80RqVP4"
      },
      "source": [
        "mat1 = confusion_matrix(y_pred1, df_test_var['label'])"
      ],
      "execution_count": null,
      "outputs": []
    },
    {
      "cell_type": "code",
      "metadata": {
        "colab": {
          "base_uri": "https://localhost:8080/"
        },
        "id": "vQ8jPwX1pkOY",
        "outputId": "4f93238f-c502-4913-bf67-f4132bd596e7"
      },
      "source": [
        "diag = np.diagonal(mat1)\n",
        "sum(diag)"
      ],
      "execution_count": null,
      "outputs": [
        {
          "output_type": "execute_result",
          "data": {
            "text/plain": [
              "2499"
            ]
          },
          "metadata": {},
          "execution_count": 130
        }
      ]
    },
    {
      "cell_type": "code",
      "metadata": {
        "id": "NGIg-YxioIdS"
      },
      "source": [
        ""
      ],
      "execution_count": null,
      "outputs": []
    },
    {
      "cell_type": "markdown",
      "metadata": {
        "id": "IrC-keRon7CW"
      },
      "source": [
        "# Output for Stack of all Chunks "
      ]
    },
    {
      "cell_type": "code",
      "metadata": {
        "id": "JbYyvJod6O5W",
        "colab": {
          "base_uri": "https://localhost:8080/"
        },
        "outputId": "f5e85236-a5ce-4290-9461-56b5495ec417"
      },
      "source": [
        "from keras import layers\n",
        "from keras.layers import Embedding, Dense, Input, concatenate, Layer, Lambda, Dropout, Activation\n",
        "from keras.models import Sequential, Model\n",
        "text_input = Input(shape=(None,768,), dtype='float32', name='text')\n",
        "\n",
        "l_mask = layers.Masking(mask_value=-99.)(text_input)\n",
        "# Which we encoded in a single vector via a LSTM\n",
        "encoded_text = layers.LSTM(100,)(l_mask)\n",
        "out_dense = layers.Dense(30, activation='relu')(encoded_text)\n",
        "# And we add a softmax classifier on top\n",
        "out = layers.Dense(len(label_list), activation='softmax')(out_dense)\n",
        "# At model instantiation, we specify the input and the output:\n",
        "model = Model(text_input, out)\n",
        "model.compile(optimizer='adam',\n",
        "              loss='sparse_categorical_crossentropy',\n",
        "              metrics=['acc'])\n",
        "model.summary()"
      ],
      "execution_count": null,
      "outputs": [
        {
          "output_type": "stream",
          "name": "stdout",
          "text": [
            "Model: \"model\"\n",
            "_________________________________________________________________\n",
            "Layer (type)                 Output Shape              Param #   \n",
            "=================================================================\n",
            "text (InputLayer)            [(None, None, 768)]       0         \n",
            "_________________________________________________________________\n",
            "masking (Masking)            (None, None, 768)         0         \n",
            "_________________________________________________________________\n",
            "lstm (LSTM)                  (None, 100)               347600    \n",
            "_________________________________________________________________\n",
            "dense (Dense)                (None, 30)                3030      \n",
            "_________________________________________________________________\n",
            "dense_1 (Dense)              (None, 10)                310       \n",
            "=================================================================\n",
            "Total params: 350,940\n",
            "Trainable params: 350,940\n",
            "Non-trainable params: 0\n",
            "_________________________________________________________________\n"
          ]
        }
      ]
    },
    {
      "cell_type": "code",
      "metadata": {
        "id": "rxp8kZnR6O8H",
        "colab": {
          "base_uri": "https://localhost:8080/"
        },
        "outputId": "3bf6ef98-7013-4ca6-9906-6c99d907bc4d"
      },
      "source": [
        "df_train.shape, df_val.shape, df_test.shape"
      ],
      "execution_count": null,
      "outputs": [
        {
          "output_type": "execute_result",
          "data": {
            "text/plain": [
              "((11444, 3), (2861, 3), (2837, 3))"
            ]
          },
          "metadata": {},
          "execution_count": 101
        }
      ]
    },
    {
      "cell_type": "code",
      "metadata": {
        "id": "akL-NEMh6O_J"
      },
      "source": [
        "num_sequences = len(df_train['emb'].to_list())\n",
        "batch_size = 4\n",
        "batches_per_epoch =  2861\n",
        "assert batch_size * batches_per_epoch == num_sequences\n",
        "num_features= 768\n",
        "def train_generator(df):\n",
        "    x_list= df['emb'].to_list()\n",
        "    y_list =  df.label.to_list()\n",
        "    # Generate batches\n",
        "    while True:\n",
        "        for b in range(batches_per_epoch):\n",
        "            longest_index = (b + 1) * batch_size - 1\n",
        "            timesteps = len(max(df['emb'].to_list()[:(b + 1) * batch_size][-batch_size:], key=len))\n",
        "            x_train = np.full((batch_size, timesteps, num_features), -99.)\n",
        "            y_train = np.zeros((batch_size,  1))\n",
        "            for i in range(batch_size):\n",
        "                li = b * batch_size + i\n",
        "                x_train[i, 0:len(x_list[li]), :] = x_list[li]\n",
        "                y_train[i] = y_list[li]\n",
        "            yield x_train, y_train"
      ],
      "execution_count": null,
      "outputs": []
    },
    {
      "cell_type": "code",
      "metadata": {
        "id": "AV-9Le5i6PCE"
      },
      "source": [
        "num_sequences_val = len(df_val['emb'].to_list())\n",
        "batch_size_val = 1\n",
        "batches_per_epoch_val = 2861\n",
        "assert batch_size_val * batches_per_epoch_val == num_sequences_val\n",
        "num_features= 768\n",
        "def val_generator(df):\n",
        "    x_list= df['emb'].to_list()\n",
        "    y_list =  df.label.to_list()\n",
        "    # Generate batches\n",
        "    while True:\n",
        "        for b in range(batches_per_epoch_val):\n",
        "            longest_index = (b + 1) * batch_size_val - 1\n",
        "            timesteps = len(max(df['emb'].to_list()[:(b + 1) * batch_size_val][-31:], key=len))\n",
        "            # print(len(df_train['emb'].to_list()[:b+batch_size][-7:]))\n",
        "            x_train = np.full((batch_size_val, timesteps, num_features), -99.)\n",
        "            y_train = np.zeros((batch_size_val,  1))\n",
        "            for i in range(batch_size_val):\n",
        "                li = b * batch_size_val + i\n",
        "                # print(\"li\", li)\n",
        "                # print(x_train[i, 0:len(x_list[li]), :].shape, len(x_list[li]))\n",
        "                x_train[i, 0:len(x_list[li]), :] = x_list[li]\n",
        "                y_train[i] = y_list[li]\n",
        "            yield x_train, y_train"
      ],
      "execution_count": null,
      "outputs": []
    },
    {
      "cell_type": "code",
      "metadata": {
        "id": "4L_65gSD6esK"
      },
      "source": [
        "from keras.callbacks import ReduceLROnPlateau\n",
        "call_reduce = ReduceLROnPlateau(monitor='val_acc', factor=0.95, patience=3, verbose=2,\n",
        "                                mode='auto', min_delta=0.01, cooldown=0, min_lr=0)"
      ],
      "execution_count": null,
      "outputs": []
    },
    {
      "cell_type": "code",
      "metadata": {
        "colab": {
          "base_uri": "https://localhost:8080/"
        },
        "id": "YoKi1cTn6evg",
        "outputId": "ef445452-4ee8-470a-cc12-c5ed32babfa5"
      },
      "source": [
        "model.fit_generator(train_generator(df_train), steps_per_epoch=batches_per_epoch, epochs=10,\n",
        "                    validation_data=val_generator(df_val), validation_steps=batches_per_epoch_val, callbacks =[call_reduce] )"
      ],
      "execution_count": null,
      "outputs": [
        {
          "output_type": "stream",
          "name": "stdout",
          "text": [
            "Epoch 1/10\n"
          ]
        },
        {
          "output_type": "stream",
          "name": "stderr",
          "text": [
            "/usr/local/lib/python3.7/dist-packages/keras/engine/training_v1.py:1228: UserWarning: `model.fit_generator` is deprecated and will be removed in a future version. Please use `Model.fit`, which supports generators.\n",
            "  warnings.warn('`model.fit_generator` is deprecated and '\n"
          ]
        },
        {
          "output_type": "stream",
          "name": "stdout",
          "text": [
            "2857/2861 [============================>.] - ETA: 0s - batch: 1428.0000 - size: 4.0000 - loss: 0.3449 - acc: 0.9106"
          ]
        },
        {
          "output_type": "stream",
          "name": "stderr",
          "text": [
            "/usr/local/lib/python3.7/dist-packages/keras/engine/training.py:2470: UserWarning: `Model.state_updates` will be removed in a future version. This property should not be used in TensorFlow 2.0, as `updates` are applied automatically.\n",
            "  warnings.warn('`Model.state_updates` will be removed in a future version. '\n"
          ]
        },
        {
          "output_type": "stream",
          "name": "stdout",
          "text": [
            "2861/2861 [==============================] - 25s 9ms/step - batch: 1430.0000 - size: 4.0000 - loss: 0.3448 - acc: 0.9106 - val_loss: 0.4359 - val_acc: 0.8798 - lr: 0.0010\n",
            "Epoch 2/10\n",
            "2861/2861 [==============================] - 23s 8ms/step - batch: 1430.0000 - size: 4.0000 - loss: 0.3061 - acc: 0.9153 - val_loss: 0.4320 - val_acc: 0.8784 - lr: 0.0010\n",
            "Epoch 3/10\n",
            "2861/2861 [==============================] - 23s 8ms/step - batch: 1430.0000 - size: 4.0000 - loss: 0.2922 - acc: 0.9204 - val_loss: 0.4382 - val_acc: 0.8773 - lr: 0.0010\n",
            "Epoch 4/10\n",
            "2861/2861 [==============================] - ETA: 0s - batch: 1430.0000 - size: 4.0000 - loss: 0.2911 - acc: 0.9182\n",
            "Epoch 00004: ReduceLROnPlateau reducing learning rate to 0.0009500000451225787.\n",
            "2861/2861 [==============================] - 23s 8ms/step - batch: 1430.0000 - size: 4.0000 - loss: 0.2911 - acc: 0.9182 - val_loss: 0.4407 - val_acc: 0.8784 - lr: 0.0010\n",
            "Epoch 5/10\n",
            "2861/2861 [==============================] - 23s 8ms/step - batch: 1430.0000 - size: 4.0000 - loss: 0.2829 - acc: 0.9200 - val_loss: 0.4338 - val_acc: 0.8812 - lr: 9.5000e-04\n",
            "Epoch 6/10\n",
            "2861/2861 [==============================] - 22s 8ms/step - batch: 1430.0000 - size: 4.0000 - loss: 0.2771 - acc: 0.9233 - val_loss: 0.4283 - val_acc: 0.8833 - lr: 9.5000e-04\n",
            "Epoch 7/10\n",
            "2861/2861 [==============================] - ETA: 0s - batch: 1430.0000 - size: 4.0000 - loss: 0.2726 - acc: 0.9244\n",
            "Epoch 00007: ReduceLROnPlateau reducing learning rate to 0.0009025000152178108.\n",
            "2861/2861 [==============================] - 23s 8ms/step - batch: 1430.0000 - size: 4.0000 - loss: 0.2726 - acc: 0.9244 - val_loss: 0.4326 - val_acc: 0.8777 - lr: 9.5000e-04\n",
            "Epoch 8/10\n",
            "2861/2861 [==============================] - 24s 8ms/step - batch: 1430.0000 - size: 4.0000 - loss: 0.2663 - acc: 0.9242 - val_loss: 0.4245 - val_acc: 0.8815 - lr: 9.0250e-04\n",
            "Epoch 9/10\n",
            "2861/2861 [==============================] - 22s 8ms/step - batch: 1430.0000 - size: 4.0000 - loss: 0.2595 - acc: 0.9273 - val_loss: 0.4312 - val_acc: 0.8787 - lr: 9.0250e-04\n",
            "Epoch 10/10\n",
            "2857/2861 [============================>.] - ETA: 0s - batch: 1428.0000 - size: 4.0000 - loss: 0.2544 - acc: 0.9256\n",
            "Epoch 00010: ReduceLROnPlateau reducing learning rate to 0.0008573750033974647.\n",
            "2861/2861 [==============================] - 22s 8ms/step - batch: 1430.0000 - size: 4.0000 - loss: 0.2544 - acc: 0.9256 - val_loss: 0.4394 - val_acc: 0.8805 - lr: 9.0250e-04\n"
          ]
        },
        {
          "output_type": "execute_result",
          "data": {
            "text/plain": [
              "<keras.callbacks.History at 0x7fd1eddaed90>"
            ]
          },
          "metadata": {},
          "execution_count": 105
        }
      ]
    },
    {
      "cell_type": "code",
      "metadata": {
        "id": "5EjU_PJ-6eyT",
        "colab": {
          "base_uri": "https://localhost:8080/"
        },
        "outputId": "3e20ac00-636b-469d-c6c6-e15b51afb800"
      },
      "source": [
        "num_sequences_val = len(df_test['emb'].to_list())\n",
        "batch_size_val = 1\n",
        "batches_per_epoch_val = 2837\n",
        "assert batch_size_val * batches_per_epoch_val == num_sequences_val\n",
        "num_features= 768\n",
        "model.evaluate_generator(val_generator(df_test), steps= batches_per_epoch_val)"
      ],
      "execution_count": null,
      "outputs": [
        {
          "output_type": "stream",
          "name": "stderr",
          "text": [
            "/usr/local/lib/python3.7/dist-packages/keras/engine/training_v1.py:1261: UserWarning: `Model.evaluate_generator` is deprecated and will be removed in a future version. Please use `Model.evaluate`, which supports generators.\n",
            "  warnings.warn('`Model.evaluate_generator` is deprecated and '\n"
          ]
        },
        {
          "output_type": "execute_result",
          "data": {
            "text/plain": [
              "[0.41300044103313144, 0.8861473]"
            ]
          },
          "metadata": {},
          "execution_count": 106
        }
      ]
    },
    {
      "cell_type": "code",
      "metadata": {
        "id": "88KjGuTc9u-s",
        "colab": {
          "base_uri": "https://localhost:8080/"
        },
        "outputId": "adf0f07a-f9b2-40dc-d7e8-2724effa8705"
      },
      "source": [
        "num_sequences_val = len(df_test['emb'].to_list())\n",
        "batch_size_val = 1\n",
        "batches_per_epoch_val = 2837\n",
        "assert batch_size_val * batches_per_epoch_val == num_sequences_val\n",
        "num_features= 768\n",
        "y_proba1=model.predict(val_generator(df_test), steps= batches_per_epoch_val)"
      ],
      "execution_count": null,
      "outputs": [
        {
          "output_type": "stream",
          "name": "stderr",
          "text": [
            "/usr/local/lib/python3.7/dist-packages/keras/engine/training.py:2470: UserWarning: `Model.state_updates` will be removed in a future version. This property should not be used in TensorFlow 2.0, as `updates` are applied automatically.\n",
            "  warnings.warn('`Model.state_updates` will be removed in a future version. '\n"
          ]
        }
      ]
    },
    {
      "cell_type": "code",
      "metadata": {
        "id": "vbya2kLw9yID"
      },
      "source": [
        "y_pred1=[]\n",
        "for i in y_proba1:\n",
        "    max_index_row = np.argmax(i, axis=0)\n",
        "    y_pred1.append(max_index_row)"
      ],
      "execution_count": null,
      "outputs": []
    },
    {
      "cell_type": "code",
      "metadata": {
        "colab": {
          "base_uri": "https://localhost:8080/"
        },
        "id": "Hazn-52090JH",
        "outputId": "c9005bed-3233-43ec-dac8-509f96710ed1"
      },
      "source": [
        "#Evaluating Model Performance by creating confusion matrix and classification report\n",
        "from sklearn.metrics import classification_report, confusion_matrix\n",
        "print('Confusion Matrix')\n",
        "print(confusion_matrix(y_pred1, df_test['label']))\n",
        "print('Classification Report')\n",
        "print(classification_report(y_pred1, df_test['label']))"
      ],
      "execution_count": null,
      "outputs": [
        {
          "output_type": "stream",
          "name": "stdout",
          "text": [
            "Confusion Matrix\n",
            "[[240   4  17   1   3  11   1   1   0   1]\n",
            " [  2 141   1   2   9   0   4   0   8   0]\n",
            " [ 22  12 377   3  17   4   2   0   0   0]\n",
            " [  1   2   2 270   4   0   0   0   0   1]\n",
            " [  6  10  14  24 411   1   5   1   8   8]\n",
            " [  9   1   2   0   0  22   0   0   0   1]\n",
            " [ 12  15   4   5  25   2 924   3   1   3]\n",
            " [  0   0   0   0   0   0   0   0   0   0]\n",
            " [  0   5   0   0   1   0   0   0   3   0]\n",
            " [  0   4   0   4  14   0   0   0   0 126]]\n",
            "Classification Report\n",
            "              precision    recall  f1-score   support\n",
            "\n",
            "           0       0.82      0.86      0.84       279\n",
            "           1       0.73      0.84      0.78       167\n",
            "           2       0.90      0.86      0.88       437\n",
            "           3       0.87      0.96      0.92       280\n",
            "           4       0.85      0.84      0.85       488\n",
            "           5       0.55      0.63      0.59        35\n",
            "           6       0.99      0.93      0.96       994\n",
            "           7       0.00      0.00      0.00         0\n",
            "           8       0.15      0.33      0.21         9\n",
            "           9       0.90      0.85      0.88       148\n",
            "\n",
            "    accuracy                           0.89      2837\n",
            "   macro avg       0.68      0.71      0.69      2837\n",
            "weighted avg       0.90      0.89      0.89      2837\n",
            "\n"
          ]
        },
        {
          "output_type": "stream",
          "name": "stderr",
          "text": [
            "/usr/local/lib/python3.7/dist-packages/sklearn/metrics/_classification.py:1272: UndefinedMetricWarning: Recall and F-score are ill-defined and being set to 0.0 in labels with no true samples. Use `zero_division` parameter to control this behavior.\n",
            "  _warn_prf(average, modifier, msg_start, len(result))\n"
          ]
        }
      ]
    },
    {
      "cell_type": "code",
      "metadata": {
        "id": "PkFTwbUdcRFB"
      },
      "source": [
        "mat1 = confusion_matrix(y_pred1, df_test['label'])"
      ],
      "execution_count": null,
      "outputs": []
    },
    {
      "cell_type": "code",
      "metadata": {
        "colab": {
          "base_uri": "https://localhost:8080/"
        },
        "id": "pFWFYexOcTim",
        "outputId": "b123430f-3c8d-4956-a5f5-112e3206f2c0"
      },
      "source": [
        "print(mat1)"
      ],
      "execution_count": null,
      "outputs": [
        {
          "output_type": "stream",
          "name": "stdout",
          "text": [
            "[[240   4  17   1   3  11   1   1   0   1]\n",
            " [  2 141   1   2   9   0   4   0   8   0]\n",
            " [ 22  12 377   3  17   4   2   0   0   0]\n",
            " [  1   2   2 270   4   0   0   0   0   1]\n",
            " [  6  10  14  24 411   1   5   1   8   8]\n",
            " [  9   1   2   0   0  22   0   0   0   1]\n",
            " [ 12  15   4   5  25   2 924   3   1   3]\n",
            " [  0   0   0   0   0   0   0   0   0   0]\n",
            " [  0   5   0   0   1   0   0   0   3   0]\n",
            " [  0   4   0   4  14   0   0   0   0 126]]\n"
          ]
        }
      ]
    },
    {
      "cell_type": "code",
      "metadata": {
        "colab": {
          "base_uri": "https://localhost:8080/"
        },
        "id": "W7-B1E8PbK8L",
        "outputId": "d9477121-c04f-473d-9504-a0c0d78f7315"
      },
      "source": [
        "diag = np.diagonal(mat1)\n",
        "sum(diag)"
      ],
      "execution_count": null,
      "outputs": [
        {
          "output_type": "execute_result",
          "data": {
            "text/plain": [
              "2514"
            ]
          },
          "metadata": {},
          "execution_count": 112
        }
      ]
    },
    {
      "cell_type": "code",
      "metadata": {
        "colab": {
          "base_uri": "https://localhost:8080/"
        },
        "id": "eSp_J7dpcLAF",
        "outputId": "bd09b007-20cb-4d84-89e6-d4f794fe2a36"
      },
      "source": [
        "sum(sum(mat1))-sum(diag)"
      ],
      "execution_count": null,
      "outputs": [
        {
          "output_type": "execute_result",
          "data": {
            "text/plain": [
              "323"
            ]
          },
          "metadata": {},
          "execution_count": 113
        }
      ]
    },
    {
      "cell_type": "code",
      "metadata": {
        "id": "I_zCQnzGW99s"
      },
      "source": [
        "#Just for reference -->DO NOT RUN IT\n",
        "# #BERT: Fine Tuning Training & Evaluating\n",
        "# print(f'Beginning Training!')\n",
        "# #current_time = datetime.time()\n",
        "# estimator.train(input_fn=train_input_fn, max_steps=num_train_steps)\n",
        "# #print(\"Training took time \", datetime.now() - current_time)"
      ],
      "execution_count": null,
      "outputs": []
    },
    {
      "cell_type": "code",
      "metadata": {
        "colab": {
          "base_uri": "https://localhost:8080/"
        },
        "id": "269CcApA6ol-",
        "outputId": "4efaf348-1666-405a-8443-fbbf8d089435"
      },
      "source": [
        "#Training for count 3 Ran by Jan ...Looks like BERT finetuned with chunks 1,2,3,4,5\n",
        "#Just for reference -->DO NOT RUN IT\n",
        "#BERT: Fine Tuning Training & Evaluating\n",
        "print(f'Beginning Training!')\n",
        "#current_time = datetime.time()\n",
        "estimator.train(input_fn=train_input_fn, max_steps=num_train_steps)\n",
        "#print(\"Training took time \", datetime.now() - current_time)"
      ],
      "execution_count": null,
      "outputs": [
        {
          "output_type": "stream",
          "name": "stdout",
          "text": [
            "Beginning Training!\n",
            "WARNING:tensorflow:From /usr/local/lib/python3.7/dist-packages/tensorflow/python/training/training_util.py:236: Variable.initialized_value (from tensorflow.python.ops.variables) is deprecated and will be removed in a future version.\n",
            "Instructions for updating:\n",
            "Use Variable.read_value. Variables in 2.X are initialized automatically both in eager and graph (inside tf.defun) contexts.\n"
          ]
        },
        {
          "output_type": "stream",
          "name": "stderr",
          "text": [
            "WARNING:tensorflow:From /usr/local/lib/python3.7/dist-packages/tensorflow/python/training/training_util.py:236: Variable.initialized_value (from tensorflow.python.ops.variables) is deprecated and will be removed in a future version.\n",
            "Instructions for updating:\n",
            "Use Variable.read_value. Variables in 2.X are initialized automatically both in eager and graph (inside tf.defun) contexts.\n"
          ]
        },
        {
          "output_type": "stream",
          "name": "stdout",
          "text": [
            "INFO:tensorflow:Calling model_fn.\n"
          ]
        },
        {
          "output_type": "stream",
          "name": "stderr",
          "text": [
            "INFO:tensorflow:Calling model_fn.\n"
          ]
        },
        {
          "output_type": "stream",
          "name": "stdout",
          "text": [
            "INFO:tensorflow:Saver not created because there are no variables in the graph to restore\n"
          ]
        },
        {
          "output_type": "stream",
          "name": "stderr",
          "text": [
            "INFO:tensorflow:Saver not created because there are no variables in the graph to restore\n"
          ]
        },
        {
          "output_type": "stream",
          "name": "stdout",
          "text": [
            "WARNING:tensorflow:From /usr/local/lib/python3.7/dist-packages/tensorflow/python/util/dispatch.py:206: calling dropout (from tensorflow.python.ops.nn_ops) with keep_prob is deprecated and will be removed in a future version.\n",
            "Instructions for updating:\n",
            "Please use `rate` instead of `keep_prob`. Rate should be set to `rate = 1 - keep_prob`.\n"
          ]
        },
        {
          "output_type": "stream",
          "name": "stderr",
          "text": [
            "WARNING:tensorflow:From /usr/local/lib/python3.7/dist-packages/tensorflow/python/util/dispatch.py:206: calling dropout (from tensorflow.python.ops.nn_ops) with keep_prob is deprecated and will be removed in a future version.\n",
            "Instructions for updating:\n",
            "Please use `rate` instead of `keep_prob`. Rate should be set to `rate = 1 - keep_prob`.\n"
          ]
        },
        {
          "output_type": "stream",
          "name": "stdout",
          "text": [
            "INFO:tensorflow:Done calling model_fn.\n"
          ]
        },
        {
          "output_type": "stream",
          "name": "stderr",
          "text": [
            "INFO:tensorflow:Done calling model_fn.\n"
          ]
        },
        {
          "output_type": "stream",
          "name": "stdout",
          "text": [
            "INFO:tensorflow:Create CheckpointSaverHook.\n"
          ]
        },
        {
          "output_type": "stream",
          "name": "stderr",
          "text": [
            "INFO:tensorflow:Create CheckpointSaverHook.\n"
          ]
        },
        {
          "output_type": "stream",
          "name": "stdout",
          "text": [
            "INFO:tensorflow:Graph was finalized.\n"
          ]
        },
        {
          "output_type": "stream",
          "name": "stderr",
          "text": [
            "INFO:tensorflow:Graph was finalized.\n"
          ]
        },
        {
          "output_type": "stream",
          "name": "stdout",
          "text": [
            "INFO:tensorflow:Running local_init_op.\n"
          ]
        },
        {
          "output_type": "stream",
          "name": "stderr",
          "text": [
            "INFO:tensorflow:Running local_init_op.\n"
          ]
        },
        {
          "output_type": "stream",
          "name": "stdout",
          "text": [
            "INFO:tensorflow:Done running local_init_op.\n"
          ]
        },
        {
          "output_type": "stream",
          "name": "stderr",
          "text": [
            "INFO:tensorflow:Done running local_init_op.\n"
          ]
        },
        {
          "output_type": "stream",
          "name": "stdout",
          "text": [
            "INFO:tensorflow:Calling checkpoint listeners before saving checkpoint 0...\n"
          ]
        },
        {
          "output_type": "stream",
          "name": "stderr",
          "text": [
            "INFO:tensorflow:Calling checkpoint listeners before saving checkpoint 0...\n"
          ]
        },
        {
          "output_type": "stream",
          "name": "stdout",
          "text": [
            "INFO:tensorflow:Saving checkpoints for 0 into /content/drive/MyDrive/ModCheckpoint_CC/model.ckpt.\n"
          ]
        },
        {
          "output_type": "stream",
          "name": "stderr",
          "text": [
            "INFO:tensorflow:Saving checkpoints for 0 into /content/drive/MyDrive/ModCheckpoint_CC/model.ckpt.\n"
          ]
        },
        {
          "output_type": "stream",
          "name": "stdout",
          "text": [
            "INFO:tensorflow:Calling checkpoint listeners after saving checkpoint 0...\n"
          ]
        },
        {
          "output_type": "stream",
          "name": "stderr",
          "text": [
            "INFO:tensorflow:Calling checkpoint listeners after saving checkpoint 0...\n"
          ]
        },
        {
          "output_type": "stream",
          "name": "stdout",
          "text": [
            "INFO:tensorflow:loss = 2.5042224, step = 0\n"
          ]
        },
        {
          "output_type": "stream",
          "name": "stderr",
          "text": [
            "INFO:tensorflow:loss = 2.5042224, step = 0\n"
          ]
        },
        {
          "output_type": "stream",
          "name": "stdout",
          "text": [
            "INFO:tensorflow:global_step/sec: 2.05608\n"
          ]
        },
        {
          "output_type": "stream",
          "name": "stderr",
          "text": [
            "INFO:tensorflow:global_step/sec: 2.05608\n"
          ]
        },
        {
          "output_type": "stream",
          "name": "stdout",
          "text": [
            "INFO:tensorflow:loss = 1.1643467, step = 100 (48.638 sec)\n"
          ]
        },
        {
          "output_type": "stream",
          "name": "stderr",
          "text": [
            "INFO:tensorflow:loss = 1.1643467, step = 100 (48.638 sec)\n"
          ]
        },
        {
          "output_type": "stream",
          "name": "stdout",
          "text": [
            "INFO:tensorflow:global_step/sec: 2.47923\n"
          ]
        },
        {
          "output_type": "stream",
          "name": "stderr",
          "text": [
            "INFO:tensorflow:global_step/sec: 2.47923\n"
          ]
        },
        {
          "output_type": "stream",
          "name": "stdout",
          "text": [
            "INFO:tensorflow:loss = 1.4491696, step = 200 (40.335 sec)\n"
          ]
        },
        {
          "output_type": "stream",
          "name": "stderr",
          "text": [
            "INFO:tensorflow:loss = 1.4491696, step = 200 (40.335 sec)\n"
          ]
        },
        {
          "output_type": "stream",
          "name": "stdout",
          "text": [
            "INFO:tensorflow:Calling checkpoint listeners before saving checkpoint 300...\n"
          ]
        },
        {
          "output_type": "stream",
          "name": "stderr",
          "text": [
            "INFO:tensorflow:Calling checkpoint listeners before saving checkpoint 300...\n"
          ]
        },
        {
          "output_type": "stream",
          "name": "stdout",
          "text": [
            "INFO:tensorflow:Saving checkpoints for 300 into /content/drive/MyDrive/ModCheckpoint_CC/model.ckpt.\n"
          ]
        },
        {
          "output_type": "stream",
          "name": "stderr",
          "text": [
            "INFO:tensorflow:Saving checkpoints for 300 into /content/drive/MyDrive/ModCheckpoint_CC/model.ckpt.\n"
          ]
        },
        {
          "output_type": "stream",
          "name": "stdout",
          "text": [
            "INFO:tensorflow:Calling checkpoint listeners after saving checkpoint 300...\n"
          ]
        },
        {
          "output_type": "stream",
          "name": "stderr",
          "text": [
            "INFO:tensorflow:Calling checkpoint listeners after saving checkpoint 300...\n"
          ]
        },
        {
          "output_type": "stream",
          "name": "stdout",
          "text": [
            "INFO:tensorflow:global_step/sec: 2.16957\n"
          ]
        },
        {
          "output_type": "stream",
          "name": "stderr",
          "text": [
            "INFO:tensorflow:global_step/sec: 2.16957\n"
          ]
        },
        {
          "output_type": "stream",
          "name": "stdout",
          "text": [
            "INFO:tensorflow:loss = 0.71626365, step = 300 (46.093 sec)\n"
          ]
        },
        {
          "output_type": "stream",
          "name": "stderr",
          "text": [
            "INFO:tensorflow:loss = 0.71626365, step = 300 (46.093 sec)\n"
          ]
        },
        {
          "output_type": "stream",
          "name": "stdout",
          "text": [
            "INFO:tensorflow:global_step/sec: 2.4789\n"
          ]
        },
        {
          "output_type": "stream",
          "name": "stderr",
          "text": [
            "INFO:tensorflow:global_step/sec: 2.4789\n"
          ]
        },
        {
          "output_type": "stream",
          "name": "stdout",
          "text": [
            "INFO:tensorflow:loss = 0.67747253, step = 400 (40.339 sec)\n"
          ]
        },
        {
          "output_type": "stream",
          "name": "stderr",
          "text": [
            "INFO:tensorflow:loss = 0.67747253, step = 400 (40.339 sec)\n"
          ]
        },
        {
          "output_type": "stream",
          "name": "stdout",
          "text": [
            "INFO:tensorflow:global_step/sec: 2.48087\n"
          ]
        },
        {
          "output_type": "stream",
          "name": "stderr",
          "text": [
            "INFO:tensorflow:global_step/sec: 2.48087\n"
          ]
        },
        {
          "output_type": "stream",
          "name": "stdout",
          "text": [
            "INFO:tensorflow:loss = 0.33643615, step = 500 (40.309 sec)\n"
          ]
        },
        {
          "output_type": "stream",
          "name": "stderr",
          "text": [
            "INFO:tensorflow:loss = 0.33643615, step = 500 (40.309 sec)\n"
          ]
        },
        {
          "output_type": "stream",
          "name": "stdout",
          "text": [
            "INFO:tensorflow:Calling checkpoint listeners before saving checkpoint 600...\n"
          ]
        },
        {
          "output_type": "stream",
          "name": "stderr",
          "text": [
            "INFO:tensorflow:Calling checkpoint listeners before saving checkpoint 600...\n"
          ]
        },
        {
          "output_type": "stream",
          "name": "stdout",
          "text": [
            "INFO:tensorflow:Saving checkpoints for 600 into /content/drive/MyDrive/ModCheckpoint_CC/model.ckpt.\n"
          ]
        },
        {
          "output_type": "stream",
          "name": "stderr",
          "text": [
            "INFO:tensorflow:Saving checkpoints for 600 into /content/drive/MyDrive/ModCheckpoint_CC/model.ckpt.\n"
          ]
        },
        {
          "output_type": "stream",
          "name": "stdout",
          "text": [
            "INFO:tensorflow:Calling checkpoint listeners after saving checkpoint 600...\n"
          ]
        },
        {
          "output_type": "stream",
          "name": "stderr",
          "text": [
            "INFO:tensorflow:Calling checkpoint listeners after saving checkpoint 600...\n"
          ]
        },
        {
          "output_type": "stream",
          "name": "stdout",
          "text": [
            "INFO:tensorflow:global_step/sec: 2.18356\n"
          ]
        },
        {
          "output_type": "stream",
          "name": "stderr",
          "text": [
            "INFO:tensorflow:global_step/sec: 2.18356\n"
          ]
        },
        {
          "output_type": "stream",
          "name": "stdout",
          "text": [
            "INFO:tensorflow:loss = 0.28697303, step = 600 (45.796 sec)\n"
          ]
        },
        {
          "output_type": "stream",
          "name": "stderr",
          "text": [
            "INFO:tensorflow:loss = 0.28697303, step = 600 (45.796 sec)\n"
          ]
        },
        {
          "output_type": "stream",
          "name": "stdout",
          "text": [
            "INFO:tensorflow:global_step/sec: 2.47908\n"
          ]
        },
        {
          "output_type": "stream",
          "name": "stderr",
          "text": [
            "INFO:tensorflow:global_step/sec: 2.47908\n"
          ]
        },
        {
          "output_type": "stream",
          "name": "stdout",
          "text": [
            "INFO:tensorflow:loss = 0.36655343, step = 700 (40.338 sec)\n"
          ]
        },
        {
          "output_type": "stream",
          "name": "stderr",
          "text": [
            "INFO:tensorflow:loss = 0.36655343, step = 700 (40.338 sec)\n"
          ]
        },
        {
          "output_type": "stream",
          "name": "stdout",
          "text": [
            "INFO:tensorflow:global_step/sec: 2.48047\n"
          ]
        },
        {
          "output_type": "stream",
          "name": "stderr",
          "text": [
            "INFO:tensorflow:global_step/sec: 2.48047\n"
          ]
        },
        {
          "output_type": "stream",
          "name": "stdout",
          "text": [
            "INFO:tensorflow:loss = 0.8295051, step = 800 (40.315 sec)\n"
          ]
        },
        {
          "output_type": "stream",
          "name": "stderr",
          "text": [
            "INFO:tensorflow:loss = 0.8295051, step = 800 (40.315 sec)\n"
          ]
        },
        {
          "output_type": "stream",
          "name": "stdout",
          "text": [
            "INFO:tensorflow:Calling checkpoint listeners before saving checkpoint 900...\n"
          ]
        },
        {
          "output_type": "stream",
          "name": "stderr",
          "text": [
            "INFO:tensorflow:Calling checkpoint listeners before saving checkpoint 900...\n"
          ]
        },
        {
          "output_type": "stream",
          "name": "stdout",
          "text": [
            "INFO:tensorflow:Saving checkpoints for 900 into /content/drive/MyDrive/ModCheckpoint_CC/model.ckpt.\n"
          ]
        },
        {
          "output_type": "stream",
          "name": "stderr",
          "text": [
            "INFO:tensorflow:Saving checkpoints for 900 into /content/drive/MyDrive/ModCheckpoint_CC/model.ckpt.\n"
          ]
        },
        {
          "output_type": "stream",
          "name": "stdout",
          "text": [
            "INFO:tensorflow:Calling checkpoint listeners after saving checkpoint 900...\n"
          ]
        },
        {
          "output_type": "stream",
          "name": "stderr",
          "text": [
            "INFO:tensorflow:Calling checkpoint listeners after saving checkpoint 900...\n"
          ]
        },
        {
          "output_type": "stream",
          "name": "stdout",
          "text": [
            "INFO:tensorflow:global_step/sec: 2.15033\n"
          ]
        },
        {
          "output_type": "stream",
          "name": "stderr",
          "text": [
            "INFO:tensorflow:global_step/sec: 2.15033\n"
          ]
        },
        {
          "output_type": "stream",
          "name": "stdout",
          "text": [
            "INFO:tensorflow:loss = 0.84399354, step = 900 (46.504 sec)\n"
          ]
        },
        {
          "output_type": "stream",
          "name": "stderr",
          "text": [
            "INFO:tensorflow:loss = 0.84399354, step = 900 (46.504 sec)\n"
          ]
        },
        {
          "output_type": "stream",
          "name": "stdout",
          "text": [
            "INFO:tensorflow:global_step/sec: 2.4795\n"
          ]
        },
        {
          "output_type": "stream",
          "name": "stderr",
          "text": [
            "INFO:tensorflow:global_step/sec: 2.4795\n"
          ]
        },
        {
          "output_type": "stream",
          "name": "stdout",
          "text": [
            "INFO:tensorflow:loss = 0.6469933, step = 1000 (40.331 sec)\n"
          ]
        },
        {
          "output_type": "stream",
          "name": "stderr",
          "text": [
            "INFO:tensorflow:loss = 0.6469933, step = 1000 (40.331 sec)\n"
          ]
        },
        {
          "output_type": "stream",
          "name": "stdout",
          "text": [
            "INFO:tensorflow:global_step/sec: 2.48145\n"
          ]
        },
        {
          "output_type": "stream",
          "name": "stderr",
          "text": [
            "INFO:tensorflow:global_step/sec: 2.48145\n"
          ]
        },
        {
          "output_type": "stream",
          "name": "stdout",
          "text": [
            "INFO:tensorflow:loss = 0.6729224, step = 1100 (40.299 sec)\n"
          ]
        },
        {
          "output_type": "stream",
          "name": "stderr",
          "text": [
            "INFO:tensorflow:loss = 0.6729224, step = 1100 (40.299 sec)\n"
          ]
        },
        {
          "output_type": "stream",
          "name": "stdout",
          "text": [
            "INFO:tensorflow:Calling checkpoint listeners before saving checkpoint 1200...\n"
          ]
        },
        {
          "output_type": "stream",
          "name": "stderr",
          "text": [
            "INFO:tensorflow:Calling checkpoint listeners before saving checkpoint 1200...\n"
          ]
        },
        {
          "output_type": "stream",
          "name": "stdout",
          "text": [
            "INFO:tensorflow:Saving checkpoints for 1200 into /content/drive/MyDrive/ModCheckpoint_CC/model.ckpt.\n"
          ]
        },
        {
          "output_type": "stream",
          "name": "stderr",
          "text": [
            "INFO:tensorflow:Saving checkpoints for 1200 into /content/drive/MyDrive/ModCheckpoint_CC/model.ckpt.\n"
          ]
        },
        {
          "output_type": "stream",
          "name": "stdout",
          "text": [
            "INFO:tensorflow:Calling checkpoint listeners after saving checkpoint 1200...\n"
          ]
        },
        {
          "output_type": "stream",
          "name": "stderr",
          "text": [
            "INFO:tensorflow:Calling checkpoint listeners after saving checkpoint 1200...\n"
          ]
        },
        {
          "output_type": "stream",
          "name": "stdout",
          "text": [
            "INFO:tensorflow:global_step/sec: 2.11417\n"
          ]
        },
        {
          "output_type": "stream",
          "name": "stderr",
          "text": [
            "INFO:tensorflow:global_step/sec: 2.11417\n"
          ]
        },
        {
          "output_type": "stream",
          "name": "stdout",
          "text": [
            "INFO:tensorflow:loss = 0.37728837, step = 1200 (47.299 sec)\n"
          ]
        },
        {
          "output_type": "stream",
          "name": "stderr",
          "text": [
            "INFO:tensorflow:loss = 0.37728837, step = 1200 (47.299 sec)\n"
          ]
        },
        {
          "output_type": "stream",
          "name": "stdout",
          "text": [
            "INFO:tensorflow:global_step/sec: 2.48048\n"
          ]
        },
        {
          "output_type": "stream",
          "name": "stderr",
          "text": [
            "INFO:tensorflow:global_step/sec: 2.48048\n"
          ]
        },
        {
          "output_type": "stream",
          "name": "stdout",
          "text": [
            "INFO:tensorflow:loss = 0.2639888, step = 1300 (40.316 sec)\n"
          ]
        },
        {
          "output_type": "stream",
          "name": "stderr",
          "text": [
            "INFO:tensorflow:loss = 0.2639888, step = 1300 (40.316 sec)\n"
          ]
        },
        {
          "output_type": "stream",
          "name": "stdout",
          "text": [
            "INFO:tensorflow:global_step/sec: 2.48054\n"
          ]
        },
        {
          "output_type": "stream",
          "name": "stderr",
          "text": [
            "INFO:tensorflow:global_step/sec: 2.48054\n"
          ]
        },
        {
          "output_type": "stream",
          "name": "stdout",
          "text": [
            "INFO:tensorflow:loss = 0.6219491, step = 1400 (40.314 sec)\n"
          ]
        },
        {
          "output_type": "stream",
          "name": "stderr",
          "text": [
            "INFO:tensorflow:loss = 0.6219491, step = 1400 (40.314 sec)\n"
          ]
        },
        {
          "output_type": "stream",
          "name": "stdout",
          "text": [
            "INFO:tensorflow:Calling checkpoint listeners before saving checkpoint 1500...\n"
          ]
        },
        {
          "output_type": "stream",
          "name": "stderr",
          "text": [
            "INFO:tensorflow:Calling checkpoint listeners before saving checkpoint 1500...\n"
          ]
        },
        {
          "output_type": "stream",
          "name": "stdout",
          "text": [
            "INFO:tensorflow:Saving checkpoints for 1500 into /content/drive/MyDrive/ModCheckpoint_CC/model.ckpt.\n"
          ]
        },
        {
          "output_type": "stream",
          "name": "stderr",
          "text": [
            "INFO:tensorflow:Saving checkpoints for 1500 into /content/drive/MyDrive/ModCheckpoint_CC/model.ckpt.\n"
          ]
        },
        {
          "output_type": "stream",
          "name": "stdout",
          "text": [
            "WARNING:tensorflow:From /usr/local/lib/python3.7/dist-packages/tensorflow/python/training/saver.py:971: remove_checkpoint (from tensorflow.python.training.checkpoint_management) is deprecated and will be removed in a future version.\n",
            "Instructions for updating:\n",
            "Use standard file APIs to delete files with this prefix.\n"
          ]
        },
        {
          "output_type": "stream",
          "name": "stderr",
          "text": [
            "WARNING:tensorflow:From /usr/local/lib/python3.7/dist-packages/tensorflow/python/training/saver.py:971: remove_checkpoint (from tensorflow.python.training.checkpoint_management) is deprecated and will be removed in a future version.\n",
            "Instructions for updating:\n",
            "Use standard file APIs to delete files with this prefix.\n"
          ]
        },
        {
          "output_type": "stream",
          "name": "stdout",
          "text": [
            "INFO:tensorflow:Calling checkpoint listeners after saving checkpoint 1500...\n"
          ]
        },
        {
          "output_type": "stream",
          "name": "stderr",
          "text": [
            "INFO:tensorflow:Calling checkpoint listeners after saving checkpoint 1500...\n"
          ]
        },
        {
          "output_type": "stream",
          "name": "stdout",
          "text": [
            "INFO:tensorflow:global_step/sec: 2.19169\n"
          ]
        },
        {
          "output_type": "stream",
          "name": "stderr",
          "text": [
            "INFO:tensorflow:global_step/sec: 2.19169\n"
          ]
        },
        {
          "output_type": "stream",
          "name": "stdout",
          "text": [
            "INFO:tensorflow:loss = 1.0137844, step = 1500 (45.626 sec)\n"
          ]
        },
        {
          "output_type": "stream",
          "name": "stderr",
          "text": [
            "INFO:tensorflow:loss = 1.0137844, step = 1500 (45.626 sec)\n"
          ]
        },
        {
          "output_type": "stream",
          "name": "stdout",
          "text": [
            "INFO:tensorflow:global_step/sec: 2.48083\n"
          ]
        },
        {
          "output_type": "stream",
          "name": "stderr",
          "text": [
            "INFO:tensorflow:global_step/sec: 2.48083\n"
          ]
        },
        {
          "output_type": "stream",
          "name": "stdout",
          "text": [
            "INFO:tensorflow:loss = 0.079121515, step = 1600 (40.309 sec)\n"
          ]
        },
        {
          "output_type": "stream",
          "name": "stderr",
          "text": [
            "INFO:tensorflow:loss = 0.079121515, step = 1600 (40.309 sec)\n"
          ]
        },
        {
          "output_type": "stream",
          "name": "stdout",
          "text": [
            "INFO:tensorflow:global_step/sec: 2.47879\n"
          ]
        },
        {
          "output_type": "stream",
          "name": "stderr",
          "text": [
            "INFO:tensorflow:global_step/sec: 2.47879\n"
          ]
        },
        {
          "output_type": "stream",
          "name": "stdout",
          "text": [
            "INFO:tensorflow:loss = 0.41065043, step = 1700 (40.343 sec)\n"
          ]
        },
        {
          "output_type": "stream",
          "name": "stderr",
          "text": [
            "INFO:tensorflow:loss = 0.41065043, step = 1700 (40.343 sec)\n"
          ]
        },
        {
          "output_type": "stream",
          "name": "stdout",
          "text": [
            "INFO:tensorflow:Calling checkpoint listeners before saving checkpoint 1709...\n"
          ]
        },
        {
          "output_type": "stream",
          "name": "stderr",
          "text": [
            "INFO:tensorflow:Calling checkpoint listeners before saving checkpoint 1709...\n"
          ]
        },
        {
          "output_type": "stream",
          "name": "stdout",
          "text": [
            "INFO:tensorflow:Saving checkpoints for 1709 into /content/drive/MyDrive/ModCheckpoint_CC/model.ckpt.\n"
          ]
        },
        {
          "output_type": "stream",
          "name": "stderr",
          "text": [
            "INFO:tensorflow:Saving checkpoints for 1709 into /content/drive/MyDrive/ModCheckpoint_CC/model.ckpt.\n"
          ]
        },
        {
          "output_type": "stream",
          "name": "stdout",
          "text": [
            "INFO:tensorflow:Calling checkpoint listeners after saving checkpoint 1709...\n"
          ]
        },
        {
          "output_type": "stream",
          "name": "stderr",
          "text": [
            "INFO:tensorflow:Calling checkpoint listeners after saving checkpoint 1709...\n"
          ]
        },
        {
          "output_type": "stream",
          "name": "stdout",
          "text": [
            "INFO:tensorflow:Loss for final step: 0.38386738.\n"
          ]
        },
        {
          "output_type": "stream",
          "name": "stderr",
          "text": [
            "INFO:tensorflow:Loss for final step: 0.38386738.\n"
          ]
        },
        {
          "output_type": "execute_result",
          "data": {
            "text/plain": [
              "<tensorflow_estimator.python.estimator.estimator.EstimatorV2 at 0x7fd286820750>"
            ]
          },
          "metadata": {},
          "execution_count": 81
        }
      ]
    },
    {
      "cell_type": "code",
      "metadata": {
        "id": "CiXD_1uTFCwc"
      },
      "source": [
        ""
      ],
      "execution_count": null,
      "outputs": []
    }
  ]
}